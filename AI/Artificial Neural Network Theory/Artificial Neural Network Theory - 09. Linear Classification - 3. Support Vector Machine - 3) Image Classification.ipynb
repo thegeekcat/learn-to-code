{
 "cells": [
  {
   "cell_type": "markdown",
   "id": "6e064e4e",
   "metadata": {},
   "source": [
    "### Preparation"
   ]
  },
  {
   "cell_type": "code",
   "execution_count": 51,
   "id": "8dabaf53",
   "metadata": {},
   "outputs": [],
   "source": [
    "# Import modules\n",
    "import torch\n",
    "import torchvision\n",
    "import torchvision.transforms as transforms\n",
    "\n",
    "from sklearn.svm import SVC  # Support Vector Machine\n",
    "from tqdm import tqdm\n",
    "\n",
    "import time"
   ]
  },
  {
   "cell_type": "markdown",
   "id": "05a4cb55",
   "metadata": {},
   "source": [
    "### Prepare Dataset"
   ]
  },
  {
   "cell_type": "code",
   "execution_count": 47,
   "id": "99d7f2b3",
   "metadata": {},
   "outputs": [
    {
     "name": "stdout",
     "output_type": "stream",
     "text": [
      "Compose(\n",
      "    ToTensor()\n",
      "    Normalize(mean=(0.5,), std=(0.5,))\n",
      ")\n"
     ]
    }
   ],
   "source": [
    "# Set transforms\n",
    "transform = transforms.Compose([transforms.ToTensor(),\n",
    "                                transforms.Normalize((0.5, ), (0.5, ))]\n",
    "                               )\n",
    "\n",
    "print(transform)"
   ]
  },
  {
   "cell_type": "code",
   "execution_count": 56,
   "id": "d7cbeb8b",
   "metadata": {},
   "outputs": [
    {
     "name": "stdout",
     "output_type": "stream",
     "text": [
      "Downloading http://yann.lecun.com/exdb/mnist/train-images-idx3-ubyte.gz\n",
      "Downloading http://yann.lecun.com/exdb/mnist/train-images-idx3-ubyte.gz to ./data/0627-MNIST\\MNIST\\raw\\train-images-idx3-ubyte.gz\n"
     ]
    },
    {
     "data": {
      "application/vnd.jupyter.widget-view+json": {
       "model_id": "767af21d469d4536ac3802ec9aa80c54",
       "version_major": 2,
       "version_minor": 0
      },
      "text/plain": [
       "  0%|          | 0/9912422 [00:00<?, ?it/s]"
      ]
     },
     "metadata": {},
     "output_type": "display_data"
    },
    {
     "name": "stdout",
     "output_type": "stream",
     "text": [
      "Extracting ./data/0627-MNIST\\MNIST\\raw\\train-images-idx3-ubyte.gz to ./data/0627-MNIST\\MNIST\\raw\n",
      "\n",
      "Downloading http://yann.lecun.com/exdb/mnist/train-labels-idx1-ubyte.gz\n",
      "Downloading http://yann.lecun.com/exdb/mnist/train-labels-idx1-ubyte.gz to ./data/0627-MNIST\\MNIST\\raw\\train-labels-idx1-ubyte.gz\n"
     ]
    },
    {
     "data": {
      "application/vnd.jupyter.widget-view+json": {
       "model_id": "8ae574a06c5f4eb09bcd48ddc8ecb1c3",
       "version_major": 2,
       "version_minor": 0
      },
      "text/plain": [
       "  0%|          | 0/28881 [00:00<?, ?it/s]"
      ]
     },
     "metadata": {},
     "output_type": "display_data"
    },
    {
     "name": "stdout",
     "output_type": "stream",
     "text": [
      "Extracting ./data/0627-MNIST\\MNIST\\raw\\train-labels-idx1-ubyte.gz to ./data/0627-MNIST\\MNIST\\raw\n",
      "\n",
      "Downloading http://yann.lecun.com/exdb/mnist/t10k-images-idx3-ubyte.gz\n",
      "Downloading http://yann.lecun.com/exdb/mnist/t10k-images-idx3-ubyte.gz to ./data/0627-MNIST\\MNIST\\raw\\t10k-images-idx3-ubyte.gz\n"
     ]
    },
    {
     "data": {
      "application/vnd.jupyter.widget-view+json": {
       "model_id": "3d2cc4a3cb034628863fb0399ffa113b",
       "version_major": 2,
       "version_minor": 0
      },
      "text/plain": [
       "  0%|          | 0/1648877 [00:00<?, ?it/s]"
      ]
     },
     "metadata": {},
     "output_type": "display_data"
    },
    {
     "name": "stdout",
     "output_type": "stream",
     "text": [
      "Extracting ./data/0627-MNIST\\MNIST\\raw\\t10k-images-idx3-ubyte.gz to ./data/0627-MNIST\\MNIST\\raw\n",
      "\n",
      "Downloading http://yann.lecun.com/exdb/mnist/t10k-labels-idx1-ubyte.gz\n",
      "Downloading http://yann.lecun.com/exdb/mnist/t10k-labels-idx1-ubyte.gz to ./data/0627-MNIST\\MNIST\\raw\\t10k-labels-idx1-ubyte.gz\n"
     ]
    },
    {
     "data": {
      "application/vnd.jupyter.widget-view+json": {
       "model_id": "1406df7f12cf4472952d33966df5b484",
       "version_major": 2,
       "version_minor": 0
      },
      "text/plain": [
       "  0%|          | 0/4542 [00:00<?, ?it/s]"
      ]
     },
     "metadata": {},
     "output_type": "display_data"
    },
    {
     "name": "stdout",
     "output_type": "stream",
     "text": [
      "Extracting ./data/0627-MNIST\\MNIST\\raw\\t10k-labels-idx1-ubyte.gz to ./data/0627-MNIST\\MNIST\\raw\n",
      "\n"
     ]
    }
   ],
   "source": [
    "# Download dataset\n",
    "train_dataset = torchvision.datasets.MNIST(root = './data/0627-MNIST',\n",
    "                                           train = True,\n",
    "                                           download = True,\n",
    "                                           transform = transform)\n",
    "test_dataset = torchvision.datasets.MNIST(root = './data/0627-MNIST',\n",
    "                                          train = False,\n",
    "                                          download = True,\n",
    "                                          transform = transform)\n",
    "\n",
    "# Set DataLoader\n",
    "train_loader = torch.utils.data.DataLoader(train_dataset,\n",
    "                                           batch_size = 1000,\n",
    "                                           shuffle = True,\n",
    "                                           num_workers = 2)\n",
    "test_loader = torch.utils.data.DataLoader(test_dataset,\n",
    "                                          batch_size = 1000,\n",
    "                                          shuffle = False,\n",
    "                                          num_workers = 2)"
   ]
  },
  {
   "cell_type": "markdown",
   "id": "04a08875",
   "metadata": {},
   "source": [
    "### Extract Features"
   ]
  },
  {
   "cell_type": "code",
   "execution_count": 57,
   "id": "0d4b21eb",
   "metadata": {},
   "outputs": [
    {
     "name": "stdout",
     "output_type": "stream",
     "text": [
      "tensor([[-1., -1., -1.,  ..., -1., -1., -1.],\n",
      "        [-1., -1., -1.,  ..., -1., -1., -1.],\n",
      "        [-1., -1., -1.,  ..., -1., -1., -1.],\n",
      "        ...,\n",
      "        [-1., -1., -1.,  ..., -1., -1., -1.],\n",
      "        [-1., -1., -1.,  ..., -1., -1., -1.],\n",
      "        [-1., -1., -1.,  ..., -1., -1., -1.]])\n",
      "tensor([1, 9, 1,  ..., 1, 1, 9])\n"
     ]
    }
   ],
   "source": [
    "\n",
    "# Initialize features and labels\n",
    "train_features = []\n",
    "train_labels = []\n",
    "\n",
    "# Get data into list\n",
    "for i, data in enumerate(train_loader, 0):\n",
    "    inputs, labels = data\n",
    "    \n",
    "    # Transform to 2D data\n",
    "    inputs = inputs.view(inputs.shape[0], -1)\n",
    "    \n",
    "    # Save as lists\n",
    "    train_features.append(inputs)\n",
    "    train_labels.append(labels)\n",
    "\n",
    "# Transform to Tensor format\n",
    "train_features = torch.cat(train_features, dim = 0)\n",
    "train_labels = torch.cat(train_labels, dim = 0)\n",
    "\n",
    "print(train_features)\n",
    "print(train_labels)"
   ]
  },
  {
   "cell_type": "code",
   "execution_count": 58,
   "id": "b7b07de8",
   "metadata": {},
   "outputs": [
    {
     "name": "stdout",
     "output_type": "stream",
     "text": [
      "tensor([[-1., -1., -1.,  ..., -1., -1., -1.],\n",
      "        [-1., -1., -1.,  ..., -1., -1., -1.],\n",
      "        [-1., -1., -1.,  ..., -1., -1., -1.],\n",
      "        ...,\n",
      "        [-1., -1., -1.,  ..., -1., -1., -1.],\n",
      "        [-1., -1., -1.,  ..., -1., -1., -1.],\n",
      "        [-1., -1., -1.,  ..., -1., -1., -1.]])\n",
      "tensor([7, 2, 1,  ..., 4, 5, 6])\n"
     ]
    }
   ],
   "source": [
    "# Initialize features and labels\n",
    "test_features = []\n",
    "test_labels = []\n",
    "\n",
    "# Get data into list\n",
    "for i, data in enumerate(test_loader, 0):\n",
    "    inputs, labels = data\n",
    "    \n",
    "    # Transform to 2D data\n",
    "    inputs = inputs.view(inputs.shape[0], -1)\n",
    "    \n",
    "    # Save as lists\n",
    "    test_features.append(inputs)\n",
    "    test_labels.append(labels)\n",
    "\n",
    "# Transform to Tensor format\n",
    "test_features = torch.cat(test_features, dim = 0)\n",
    "test_labels = torch.cat(test_labels, dim = 0)\n",
    "\n",
    "print(test_features)\n",
    "print(test_labels)"
   ]
  },
  {
   "cell_type": "markdown",
   "id": "9d041eb8",
   "metadata": {},
   "source": [
    "### Image Classification"
   ]
  },
  {
   "cell_type": "code",
   "execution_count": 59,
   "id": "67e3165a",
   "metadata": {},
   "outputs": [
    {
     "name": "stdout",
     "output_type": "stream",
     "text": [
      "SURPPORT VECTOR MACHINE MODEL TRAIN AND TEST\n",
      "Accuracy:  0.9836\n",
      "Training Time: 465.03 secs\n"
     ]
    },
    {
     "data": {
      "image/png": "[encoded data removed]",
      "text/plain": [
       "<Figure size 1000x100 with 10 Axes>"
      ]
     },
     "metadata": {},
     "output_type": "display_data"
    }
   ],
   "source": [
    "# Fit Model\n",
    "print('SURPPORT VECTOR MACHINE MODEL TRAIN AND TEST')\n",
    "\n",
    "# Set start time\n",
    "start_time = time.time()\n",
    "\n",
    "# Define a model\n",
    "model = SVC(C = 1.0,\n",
    "            kernel = 'rbf',\n",
    "            gamma = 0.01)\n",
    "\n",
    "# Fit the model\n",
    "model.fit(train_features.numpy(),\n",
    "          train_labels.numpy())\n",
    "\n",
    "# Calcualte accuracy\n",
    "acc = model.score(test_features.numpy(),\n",
    "                  test_labels.numpy())\n",
    "\n",
    "# Set end time\n",
    "end_time = time.time()\n",
    "\n",
    "# Get results\n",
    "print('Accuracy: ', acc)\n",
    "\n",
    "# Calculate trainning time\n",
    "train_time = end_time - start_time\n",
    "print('Training Time: {:.2f} secs'.format(train_time))\n",
    "\n",
    "##############################\n",
    "\n",
    "# Visualize predicted results\n",
    "def plot_images(images, labels, preds):\n",
    "    fig, axes = plt.subplots(1, 10, figsize=(10, 1))\n",
    "\n",
    "    for i, ax in enumerate(axes):\n",
    "        ax.imshow(images[i].reshape((28, 28)), cmap='gray')\n",
    "        title = 'label: {}\\npred: {}'.format(labels[i], preds[i])\n",
    "        ax.set_title(title)\n",
    "        ax.axis('off')\n",
    "    plt.subplots_adjust(top=0.5, bottom=0, hspace=0, wspace=0.5)\n",
    "    plt.show()\n",
    "\n",
    "# Get test images\n",
    "test_images, test_labels = next(iter(test_loader))\n",
    "test_images = test_images.view(test_images.shape[0], -1)\n",
    "\n",
    "# Predict models\n",
    "test_preds = model.predict(test_images.numpy())\n",
    "\n",
    "# Visualize results\n",
    "plot_images(test_images.numpy(), test_labels.numpy(), test_preds)"
   ]
  }
 ],
 "metadata": {
  "kernelspec": {
   "display_name": "AI",
   "language": "python",
   "name": "ai"
  },
  "language_info": {
   "codemirror_mode": {
    "name": "ipython",
    "version": 3
   },
   "file_extension": ".py",
   "mimetype": "text/x-python",
   "name": "python",
   "nbconvert_exporter": "python",
   "pygments_lexer": "ipython3",
   "version": "3.8.16"
  }
 },
 "nbformat": 4,
 "nbformat_minor": 5
}
