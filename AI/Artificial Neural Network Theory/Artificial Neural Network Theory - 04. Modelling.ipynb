{
 "cells": [
  {
   "cell_type": "markdown",
   "id": "c0434b00",
   "metadata": {},
   "source": [
    "# 1. Visualize Scatter Plot every 100 Epochs"
   ]
  },
  {
   "cell_type": "code",
   "execution_count": 1,
   "id": "0e5d7a13",
   "metadata": {},
   "outputs": [],
   "source": [
    "# Import modules\n",
    "import torch\n",
    "import torch.nn as nn  # to import models\n",
    "import matplotlib.pyplot as plt"
   ]
  },
  {
   "cell_type": "markdown",
   "id": "3b727d34",
   "metadata": {},
   "source": [
    "### Define a Module"
   ]
  },
  {
   "cell_type": "code",
   "execution_count": 2,
   "id": "c543ccdf",
   "metadata": {},
   "outputs": [],
   "source": [
    "# Define Artificial Neural Network\n",
    "'''\n",
    "- Binary model\n",
    "- Nums of layers:\n",
    "  - Input Layer: 2\n",
    "  - Hidden Layer: 1 (Node 5)\n",
    "  - Output Layer: 1\n",
    "- Function\n",
    "  - Sigmoid Function - between Hidden and Output layer\n",
    "'''\n",
    "\n",
    "class SimpleNet(nn.Module):\n",
    "    \n",
    "    # Required definition: `__init__()`, `forward()`\n",
    "    \n",
    "    def __init__(self):\n",
    "        \n",
    "        # Call a parent method\n",
    "        super(SimpleNet, self).__init__()\n",
    "        \n",
    "        # Input Layer -> Hidden Layer\n",
    "        self.fc1 = nn.Linear(2, 5)  # (Input Layer, Hidden Layer)\n",
    "        \n",
    "        # Hidden Layer -> Output Layer\n",
    "        self.fc2 = nn.Linear(5, 1)  # (Hidden Layer, Output Layer)\n",
    "        \n",
    "    def forward(self, x):\n",
    "        # ReLU Function\n",
    "        x = torch.relu(self.fc1(x))\n",
    "        \n",
    "        # Sigmoid Function\n",
    "        x = torch.sigmoid(self.fc2(x))\n",
    "        \n",
    "        return x"
   ]
  },
  {
   "cell_type": "markdown",
   "id": "2c848c6e",
   "metadata": {},
   "source": [
    "### Generate Data"
   ]
  },
  {
   "cell_type": "code",
   "execution_count": 3,
   "id": "8a316a61",
   "metadata": {},
   "outputs": [
    {
     "name": "stdout",
     "output_type": "stream",
     "text": [
      "tensor([1., 0., 1., 1., 0., 0., 0., 0., 0., 0., 0., 0., 0., 1., 0., 0., 1., 0.,\n",
      "        0., 0., 0., 0., 0., 0., 0., 0., 0., 0., 1., 0., 0., 0., 1., 1., 1., 0.,\n",
      "        0., 0., 0., 0., 0., 0., 0., 1., 1., 1., 1., 1., 0., 1., 0., 1., 0., 0.,\n",
      "        0., 0., 1., 0., 0., 1., 0., 1., 1., 0., 0., 1., 0., 1., 0., 0., 1., 0.,\n",
      "        0., 0., 1., 0., 1., 0., 0., 0., 1., 0., 1., 0., 1., 1., 0., 0., 0., 0.,\n",
      "        0., 1., 0., 0., 0., 0., 1., 0., 0., 0.])\n"
     ]
    }
   ],
   "source": [
    "# Generate data\n",
    "X = torch.randn(100, 2)  # Rank2 Tensor -> to define True/False\n",
    "y = ((X[:, 0] > 0) & (X[:, 1] > 0)).float()  # Generate a solution with 'T(1)' and 'F(0)'\n",
    "#print(X)\n",
    "print(y)"
   ]
  },
  {
   "cell_type": "markdown",
   "id": "57f908b2",
   "metadata": {},
   "source": [
    "### Declare Models"
   ]
  },
  {
   "cell_type": "code",
   "execution_count": 4,
   "id": "4082b063",
   "metadata": {},
   "outputs": [
    {
     "name": "stdout",
     "output_type": "stream",
     "text": [
      "SimpleNet(\n",
      "  (fc1): Linear(in_features=2, out_features=5, bias=True)\n",
      "  (fc2): Linear(in_features=5, out_features=1, bias=True)\n",
      ")\n"
     ]
    }
   ],
   "source": [
    "# Define Model\n",
    "model = SimpleNet()\n",
    "\n",
    "print(model)\n",
    "# Result\n",
    "# - fc1: Input-> Hidden\n",
    "# - fc2: Hidden -> Output"
   ]
  },
  {
   "cell_type": "markdown",
   "id": "aa97e3df",
   "metadata": {},
   "source": [
    "### Define Loss Function and Optimizer"
   ]
  },
  {
   "cell_type": "code",
   "execution_count": 5,
   "id": "7061b884",
   "metadata": {},
   "outputs": [],
   "source": [
    "# Define Loss Function\n",
    "criterion = nn.BCELoss()\n",
    "\n",
    "# Define Optimizer\n",
    "optimizer = torch.optim.SGD(model.parameters(),\n",
    "                            lr = 0.1)"
   ]
  },
  {
   "cell_type": "markdown",
   "id": "42d3e085",
   "metadata": {},
   "source": [
    "### Fit Models"
   ]
  },
  {
   "cell_type": "code",
   "execution_count": 10,
   "id": "28de6bbb",
   "metadata": {},
   "outputs": [
    {
     "name": "stdout",
     "output_type": "stream",
     "text": [
      "Learning has been done!\n"
     ]
    },
    {
     "data": {
      "image/png": "[encoded data removed]",
      "text/plain": [
       "<Figure size 640x480 with 1 Axes>"
      ]
     },
     "metadata": {},
     "output_type": "display_data"
    }
   ],
   "source": [
    "# Fit model\n",
    "for epoch in range(1000):\n",
    "    \n",
    "    # Propagation\n",
    "    y_pred = model(X)\n",
    "    #print(y_pred)\n",
    "    #exit()\n",
    "    \n",
    "    # Calculate loss\n",
    "    loss = criterion (y_pred.squeeze(), y)\n",
    "    \n",
    "    # Backpropagation\n",
    "    optimizer.zero_grad()  # Initialize all weights in optimizer with '0' -> to prevent effects from existing weight values\n",
    "    loss.backward()        # Perform backpropagation of Loss function\n",
    "    optimizer.step()       # Update weights of optimizer\n",
    "    \n",
    "    \n",
    "    # Visualization\n",
    "    if epoch % 10 == 0:\n",
    "        plt.clf()\n",
    "        plt.scatter(X[:, 0], X[:, 1],\n",
    "                    c = y_pred.detach().numpy().squeeze())\n",
    "        # Save as files\n",
    "        plt.show()\n",
    "        #plt.ylim(10, 500) -> TRY LATER\n",
    "        \n",
    "print('Learning has been done!')"
   ]
  },
  {
   "cell_type": "code",
   "execution_count": null,
   "id": "c24b0bb7",
   "metadata": {},
   "outputs": [],
   "source": [
    "# TRY ONE MORE: TO MAKE 'GIF' FILE\n",
    "\n",
    "# +) ADD ONE LINE: SAVE SCATTER PLOTS AS IMAGE FILES\n",
    "import imageio\n",
    "\n",
    "# List of frames\n",
    "frames = ['frame1.png', 'frame2.png'...]\n",
    "\n",
    "# Save frames as a GIF file\n",
    "with imageio.get_writer('animation.gif', mode='I', duration='0.2') as writer:\n",
    "    for frame in frames:\n",
    "        image = imageio.imread(frame)\n",
    "        writer.append_data(image)"
   ]
  },
  {
   "cell_type": "code",
   "execution_count": null,
   "id": "4eeb7d59",
   "metadata": {},
   "outputs": [],
   "source": [
    "\n"
   ]
  },
  {
   "cell_type": "code",
   "execution_count": null,
   "id": "229d3b41",
   "metadata": {},
   "outputs": [],
   "source": []
  }
 ],
 "metadata": {
  "kernelspec": {
   "display_name": "pytorch",
   "language": "python",
   "name": "pytorch"
  },
  "language_info": {
   "codemirror_mode": {
    "name": "ipython",
    "version": 3
   },
   "file_extension": ".py",
   "mimetype": "text/x-python",
   "name": "python",
   "nbconvert_exporter": "python",
   "pygments_lexer": "ipython3",
   "version": "3.8.16"
  }
 },
 "nbformat": 4,
 "nbformat_minor": 5
}
