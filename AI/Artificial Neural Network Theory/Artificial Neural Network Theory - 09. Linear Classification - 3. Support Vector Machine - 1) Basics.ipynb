{
 "cells": [
  {
   "cell_type": "markdown",
   "id": "52a8934b",
   "metadata": {},
   "source": [
    "### Preparation "
   ]
  },
  {
   "cell_type": "code",
   "execution_count": 10,
   "id": "76943af7",
   "metadata": {},
   "outputs": [],
   "source": [
    "# import modules\n",
    "import numpy as np\n",
    "import matplotlib.pyplot as plt\n",
    "\n",
    "import torch\n",
    "import torch.nn as nn\n",
    "import torch.optim as optim\n",
    "\n",
    "from torch.utils.data import DataLoader, TensorDataset"
   ]
  },
  {
   "cell_type": "markdown",
   "id": "30bf9132",
   "metadata": {},
   "source": [
    "### Prepare Dataset"
   ]
  },
  {
   "cell_type": "code",
   "execution_count": 3,
   "id": "a0e4beca",
   "metadata": {},
   "outputs": [
    {
     "name": "stdout",
     "output_type": "stream",
     "text": [
      "tensor([[-1.4445e-01,  7.6812e-01],\n",
      "        [ 4.7634e-01, -1.5294e+00],\n",
      "        [ 3.1961e-01, -1.0918e+00],\n",
      "        [ 6.2431e-01,  1.5614e-01],\n",
      "        [ 1.5620e-01, -4.0551e-01],\n",
      "        [-2.0986e+00, -4.3148e-01],\n",
      "        [ 1.5610e+00, -7.3793e-01],\n",
      "        [-1.6214e+00,  2.2027e+00],\n",
      "        [-9.6090e-02, -1.9671e-01],\n",
      "        [ 7.9599e-01,  4.7100e-01],\n",
      "        [ 2.5441e-01, -3.5316e-01],\n",
      "        [-5.1934e-01, -5.0921e-01],\n",
      "        [-1.5028e+00, -2.0196e+00],\n",
      "        [ 1.0999e+00, -5.1096e-03],\n",
      "        [ 1.7277e-01, -2.6019e-01],\n",
      "        [-1.3485e-01, -8.9340e-01],\n",
      "        [-6.2629e-01,  1.2175e+00],\n",
      "        [-1.2940e+00, -2.6189e-01],\n",
      "        [ 2.3448e-01, -1.2252e+00],\n",
      "        [-7.1792e-01, -1.0861e+00],\n",
      "        [ 7.8995e-01,  5.4910e-01],\n",
      "        [ 4.2012e-01,  6.9809e-01],\n",
      "        [ 2.2963e-01, -3.3476e+00],\n",
      "        [ 8.7505e-01, -2.9304e-02],\n",
      "        [-1.0082e+00,  4.1522e-01],\n",
      "        [-6.5109e-01,  2.1176e+00],\n",
      "        [ 1.3798e-01,  1.9219e-01],\n",
      "        [-1.9596e+00,  4.1663e-01],\n",
      "        [-1.6834e+00,  1.1239e+00],\n",
      "        [ 1.4620e+00, -1.1414e+00],\n",
      "        [ 2.2336e-01, -1.5925e+00],\n",
      "        [-1.6840e+00, -7.3615e-01],\n",
      "        [ 6.1150e-01,  4.2303e-01],\n",
      "        [ 9.2573e-01, -3.7584e-01],\n",
      "        [-8.7923e-01,  9.4785e-03],\n",
      "        [ 1.9620e+00,  8.6985e-01],\n",
      "        [ 1.1763e-01,  5.4920e-01],\n",
      "        [ 1.0488e+00,  9.6488e-01],\n",
      "        [-5.6814e-01, -2.2547e-01],\n",
      "        [-9.3692e-01,  5.4870e-01],\n",
      "        [ 3.3394e-01, -1.1204e-01],\n",
      "        [-3.7232e-01, -1.6262e+00],\n",
      "        [-4.6046e-01,  3.8982e-01],\n",
      "        [ 9.0376e-01, -1.0060e+00],\n",
      "        [ 1.7512e-01,  2.0459e+00],\n",
      "        [ 1.7053e-01,  1.7131e+00],\n",
      "        [-3.9484e-02, -2.8077e+00],\n",
      "        [ 1.5612e-01, -1.9054e-01],\n",
      "        [-1.4393e+00, -2.1739e-01],\n",
      "        [ 1.2904e+00,  6.0243e-01],\n",
      "        [-4.1812e-01,  2.6615e-01],\n",
      "        [-1.1244e+00,  6.6422e-01],\n",
      "        [ 3.4274e-02,  6.2447e-01],\n",
      "        [-4.6834e-01, -5.5143e-01],\n",
      "        [-9.5500e-01,  1.3437e+00],\n",
      "        [-1.1803e-01, -2.9541e-01],\n",
      "        [ 1.1243e-01,  1.5172e+00],\n",
      "        [-1.7790e+00,  1.6791e+00],\n",
      "        [-4.7782e-01,  1.2478e+00],\n",
      "        [ 6.7895e-01, -1.3498e+00],\n",
      "        [-1.2490e+00,  4.9985e-01],\n",
      "        [ 2.3515e-02,  9.3894e-01],\n",
      "        [-1.4283e-01,  2.2247e+00],\n",
      "        [ 1.4320e+00,  6.2953e-02],\n",
      "        [-4.2268e-01, -2.4187e+00],\n",
      "        [ 1.4771e+00, -7.3948e-01],\n",
      "        [ 4.5113e-01, -4.0008e-01],\n",
      "        [ 1.6722e+00, -2.4792e+00],\n",
      "        [-1.1555e+00, -4.8348e-01],\n",
      "        [ 4.6497e-01,  6.2338e-01],\n",
      "        [ 5.9879e-01, -2.5716e-01],\n",
      "        [-2.5942e-01,  5.8977e-01],\n",
      "        [-1.1461e-02, -7.1738e-01],\n",
      "        [ 4.1467e-01,  2.8256e-01],\n",
      "        [ 6.6982e-01,  3.5291e-01],\n",
      "        [-1.9713e+00, -1.3697e-01],\n",
      "        [ 2.9642e-01,  1.8122e+00],\n",
      "        [ 9.1320e-01,  1.4737e+00],\n",
      "        [ 4.8789e-01, -1.3171e+00],\n",
      "        [-1.0631e+00, -6.1276e-01],\n",
      "        [-3.7604e-01, -1.6835e+00],\n",
      "        [ 6.6838e-01,  3.9909e-01],\n",
      "        [-9.9560e-02,  5.2208e-01],\n",
      "        [ 8.7559e-01, -5.4465e-01],\n",
      "        [-1.1151e+00, -5.6133e-01],\n",
      "        [-2.9221e-01,  3.9621e-01],\n",
      "        [ 8.4833e-01, -1.9161e+00],\n",
      "        [-5.2401e-01, -9.3449e-01],\n",
      "        [-9.2529e-01, -7.1579e-01],\n",
      "        [ 6.5926e-02, -1.5663e+00],\n",
      "        [-4.9540e-01,  7.3139e-02],\n",
      "        [ 6.5483e-01, -2.1570e-01],\n",
      "        [ 3.3247e-03, -1.3488e+00],\n",
      "        [ 1.0129e+00,  6.7183e-01],\n",
      "        [-1.6895e+00, -4.5512e-01],\n",
      "        [-7.5652e-01,  7.0666e-02],\n",
      "        [-2.1911e-03, -1.8032e+00],\n",
      "        [-1.2796e-01,  1.2125e-01],\n",
      "        [ 1.4538e-01,  5.8362e-01],\n",
      "        [ 9.1217e-01,  6.5400e-01]]) tensor([-1.,  1.,  1.,  1.,  1., -1.,  1., -1.,  1.,  1.,  1., -1.,  1.,  1.,\n",
      "         1.,  1., -1., -1.,  1.,  1.,  1., -1.,  1.,  1., -1., -1., -1., -1.,\n",
      "        -1.,  1.,  1., -1.,  1.,  1., -1.,  1., -1.,  1., -1., -1.,  1.,  1.,\n",
      "        -1.,  1., -1., -1.,  1.,  1., -1.,  1., -1., -1., -1.,  1., -1.,  1.,\n",
      "        -1., -1., -1.,  1., -1., -1., -1.,  1.,  1.,  1.,  1.,  1., -1., -1.,\n",
      "         1., -1.,  1.,  1.,  1., -1., -1., -1.,  1., -1.,  1.,  1., -1.,  1.,\n",
      "        -1., -1.,  1.,  1., -1.,  1., -1.,  1.,  1.,  1., -1., -1.,  1., -1.,\n",
      "        -1.,  1.])\n"
     ]
    }
   ],
   "source": [
    "# Generate data\n",
    "x = torch.randn(100, 2)\n",
    "y = torch.where(x[:, 0] > x[:, 1], 1, -1).float()\n",
    "\n",
    "print(x, y)"
   ]
  },
  {
   "cell_type": "code",
   "execution_count": 5,
   "id": "dd772d75",
   "metadata": {},
   "outputs": [
    {
     "name": "stdout",
     "output_type": "stream",
     "text": [
      "<torch.utils.data.dataset.TensorDataset object at 0x000001DFA4DD3C40> <torch.utils.data.dataloader.DataLoader object at 0x000001DFA4D20490>\n"
     ]
    }
   ],
   "source": [
    "# Set dataset and Dataloader\n",
    "dataset = TensorDataset(x, y)\n",
    "loader = DataLoader(dataset, batch_size=10)\n",
    "print(dataset, loader)"
   ]
  },
  {
   "cell_type": "markdown",
   "id": "351c1bc7",
   "metadata": {},
   "source": [
    "### Define Models"
   ]
  },
  {
   "cell_type": "code",
   "execution_count": 6,
   "id": "b3600733",
   "metadata": {},
   "outputs": [],
   "source": [
    "# Define a model\n",
    "class SVM(nn.Module):\n",
    "    def __init__(self):\n",
    "        super().__init__()\n",
    "        self.linear = nn.Linear(2, 1)\n",
    "        \n",
    "    def forward (self, x):\n",
    "        return self.linear(x)"
   ]
  },
  {
   "cell_type": "markdown",
   "id": "99640e27",
   "metadata": {},
   "source": [
    "### Define Loss Function and Optimizer"
   ]
  },
  {
   "cell_type": "code",
   "execution_count": 7,
   "id": "35fe1757",
   "metadata": {},
   "outputs": [],
   "source": [
    "# Set models\n",
    "model = SVM()\n",
    "\n",
    "# Set Loss Function\n",
    "criterion = nn.HingeEmbeddingLoss()\n",
    "\n",
    "# Set optimizer\n",
    "optimizer = optim.SGD(model.parameters(), lr = 0.01)"
   ]
  },
  {
   "cell_type": "markdown",
   "id": "4c923c61",
   "metadata": {},
   "source": [
    "### Fit Models"
   ]
  },
  {
   "cell_type": "code",
   "execution_count": 9,
   "id": "5c5ff268",
   "metadata": {},
   "outputs": [
    {
     "name": "stdout",
     "output_type": "stream",
     "text": [
      "Epoch [10/50], Loss: 0.2648\n",
      "Epoch [20/50], Loss: -0.1136\n",
      "Epoch [30/50], Loss: -0.4007\n",
      "Epoch [40/50], Loss: -0.6781\n",
      "Epoch [50/50], Loss: -0.9548\n"
     ]
    }
   ],
   "source": [
    "# Fit a model\n",
    "for epoch in range(50):\n",
    "    for inputs, targets in loader:\n",
    "        optimizer.zero_grad()\n",
    "        outputs = model(inputs)\n",
    "        loss = criterion(outputs.squeeze(), targets)\n",
    "        loss.backward()\n",
    "        optimizer.step()\n",
    "        \n",
    "    if (epoch + 1) % 10 == 0:\n",
    "        print(f'Epoch [{epoch+1}/50], Loss: {loss.item():.4f}')"
   ]
  },
  {
   "cell_type": "markdown",
   "id": "e54f1385",
   "metadata": {},
   "source": [
    "### Visualization"
   ]
  },
  {
   "cell_type": "code",
   "execution_count": 12,
   "id": "02b37c31",
   "metadata": {},
   "outputs": [
    {
     "data": {
      "image/png": "[encoded data removed]",
      "text/plain": [
       "<Figure size 640x480 with 1 Axes>"
      ]
     },
     "metadata": {},
     "output_type": "display_data"
    }
   ],
   "source": [
    "w = list(model.parameters())[0][0]\n",
    "b = list(model.parameters())[1].item()\n",
    "slope = (-w[0] / w[1]).detach().numpy()\n",
    "intercept = (-b / w[1]).detach().numpy()\n",
    "x_range = np.linspace(-3, 3, 100)\n",
    "y_range = slope * x_range + intercept\n",
    "\n",
    " \n",
    "\n",
    "plt.scatter(x[:, 0], x[:, 1], c=y, cmap=plt.cm.coolwarm)\n",
    "plt.plot(x_range, y_range, 'k-')\n",
    "plt.xlim(-3, 3)\n",
    "plt.ylim(-3, 3)\n",
    "plt.show()"
   ]
  }
 ],
 "metadata": {
  "kernelspec": {
   "display_name": "AI",
   "language": "python",
   "name": "ai"
  },
  "language_info": {
   "codemirror_mode": {
    "name": "ipython",
    "version": 3
   },
   "file_extension": ".py",
   "mimetype": "text/x-python",
   "name": "python",
   "nbconvert_exporter": "python",
   "pygments_lexer": "ipython3",
   "version": "3.8.16"
  }
 },
 "nbformat": 4,
 "nbformat_minor": 5
}
