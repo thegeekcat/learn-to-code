{
 "cells": [
  {
   "cell_type": "markdown",
   "id": "b5fba93b",
   "metadata": {},
   "source": [
    "- Categories of Models\n",
    "  - Generative Model\n",
    "    - Definition\n",
    "      - A model generating new data samples similar to training data\n",
    "         -> Learn models based on knowledge from training data to generate new data (predictions)\n",
    "    - Types of Generative Model\n",
    "      - Restricted Boltzmann Machines (RBM)\n",
    "      - Variational Autoencoder (VAE)\n",
    "      - Generative Adversarial Network (GAN)\n",
    "      - Hidden Markov Model (HMM)\n",
    "      \n",
    "  - Deterministic Model\n",
    "    - Definition\n",
    "      - A model generating the exact same output when given input data is the same\n",
    "        -> Resembling consistent outputs solely based on input values without random elements\n",
    "    - Types of Deterministic Model\n",
    "      - Deep Nueral Network (DNN)\n",
    "      - Convolutional Neural Network (CNN)\n",
    "      - Long Short-Term Memory (LSTM)"
   ]
  },
  {
   "cell_type": "markdown",
   "id": "06c328f0",
   "metadata": {},
   "source": [
    "- Differences\n",
    "  - Boltzmann Machine (BM)\n",
    "    - A fully connected and undirected graphical model\n",
    "      -> Visiable units and hidden units are interconnected\n",
    "    \n",
    "  - Restricted Boltzmann Machine (RBM)\n",
    "    - A bipartite graph with visiable and hidden units\n",
    "      -> No connection between units within the same layer"
   ]
  },
  {
   "cell_type": "markdown",
   "id": "f5d96900",
   "metadata": {},
   "source": [
    "### Preparation"
   ]
  },
  {
   "cell_type": "code",
   "execution_count": 1,
   "id": "3c1bb38e",
   "metadata": {},
   "outputs": [],
   "source": [
    "# Import modules\n",
    "import torch\n",
    "import torch.nn as nn\n",
    "\n",
    "import torchvision\n",
    "from torch.utils.data import DataLoader\n",
    "from torchvision import datasets, transforms\n",
    "import torchvision.utils as vutils\n"
   ]
  },
  {
   "cell_type": "markdown",
   "id": "29c02a45",
   "metadata": {},
   "source": [
    "### Define a Restricted Boltzmann Machine (RBM) Class"
   ]
  },
  {
   "cell_type": "code",
   "execution_count": 2,
   "id": "49d9eff9",
   "metadata": {},
   "outputs": [],
   "source": [
    "# Define a RBM class\n",
    "class RBM(nn.Module):\n",
    "    \n",
    "    # Initialize a class\n",
    "    def __init__(self, visiable_size, hidden_size):\n",
    "        # Initialize the class from superclass\n",
    "        super(RBM, self).__init__()\n",
    "        \n",
    "        # Initialize weight matrix\n",
    "        self.W = nn.Parameter(torch.randn(visible_size, hidden_size))\n",
    "        \n",
    "        # Initialize bias for visible and hidden layers\n",
    "        self.v_bias = nn.Parameter(torch.randn(visible_size))\n",
    "        self.h_bias = nn.Parameter(torch.randn(hidden_size))\n",
    "        \n",
    "    # Define a propagation\n",
    "    def forward(self, x):\n",
    "        # Calculate probability of hidden layer using Sigmoid function\n",
    "        hidden_prob = torch.sigmoid(torch.matmul(x, self.W) + self.h_bias)\n",
    "                                         # 'matmul()': Matrix Multiplication\n",
    "        \n",
    "        # Binary state of hidden layers from activatino probability using a Bernoulli distribution\n",
    "        hidden_state = torch.bernoulli(hidden_prob)\n",
    "        \n",
    "        # Calculate activation probability of visible units\n",
    "        visible_prob = torch.sigmoid(torch.matmul(hidden_state,\n",
    "                                                  torch.transpose(self.W, 0, 1) + self.v_bias))\n",
    "        return visible_prob, hidden_state\n",
    "        "
   ]
  },
  {
   "cell_type": "markdown",
   "id": "9d58346e",
   "metadata": {},
   "source": [
    "### Load Dataset: MNIST"
   ]
  },
  {
   "cell_type": "code",
   "execution_count": 3,
   "id": "eac316aa",
   "metadata": {},
   "outputs": [],
   "source": [
    "# Set transforms\n",
    "transform = transforms.Compose([\n",
    "    transforms.ToTensor(),\n",
    "    transforms.Normalize((0.5, ), (0.5, ))\n",
    "])\n",
    "\n",
    "# Download Dataset\n",
    "train_dataset = torchvision.datasets.MNIST(root = './data/0630-MNIST',\n",
    "                                           train = True,\n",
    "                                           transform = transform,\n",
    "                                           download = True)\n",
    "\n",
    "# Load dataset\n",
    "train_loader = torch.utils.data.DataLoader(train_dataset,\n",
    "                                           batch_size = 64,\n",
    "                                           shuffle = True)"
   ]
  },
  {
   "cell_type": "markdown",
   "id": "8532a357",
   "metadata": {},
   "source": [
    "### Set Parameters"
   ]
  },
  {
   "cell_type": "code",
   "execution_count": 6,
   "id": "c2e7183a",
   "metadata": {},
   "outputs": [],
   "source": [
    "# Set parameters\n",
    "visible_size = 784  # Image size of MNIST: 28x28=784\n",
    "hidden_size = 256\n",
    "lr = 0.5\n",
    "\n",
    "# Set model\n",
    "rbm = RBM(visible_size, hidden_size)\n",
    "\n",
    "# Set Loss Function\n",
    "criterion = nn.BCELoss()\n",
    "\n",
    "# Set Optimizer\n",
    "optimizer = torch.optim.SGD(rbm.parameters(), lr = lr)"
   ]
  },
  {
   "cell_type": "markdown",
   "id": "5b4ba4c3",
   "metadata": {},
   "source": [
    "### Fit Models"
   ]
  },
  {
   "cell_type": "code",
   "execution_count": 7,
   "id": "faeab0cb",
   "metadata": {},
   "outputs": [
    {
     "name": "stdout",
     "output_type": "stream",
     "text": [
      "Epoch [1 / 10], Loss: 34.6233\n",
      "Epoch [2 / 10], Loss: 34.3145\n",
      "Epoch [3 / 10], Loss: 33.3817\n",
      "Epoch [4 / 10], Loss: 33.6982\n",
      "Epoch [5 / 10], Loss: 32.9489\n",
      "Epoch [6 / 10], Loss: 33.1621\n",
      "Epoch [7 / 10], Loss: 32.7961\n",
      "Epoch [8 / 10], Loss: 33.1710\n",
      "Epoch [9 / 10], Loss: 32.9382\n",
      "Epoch [10 / 10], Loss: 32.7834\n"
     ]
    }
   ],
   "source": [
    "# Fit the RBM model\n",
    "num_epochs = 10\n",
    "for epoch in range(num_epochs):\n",
    "    \n",
    "    for images, _ in train_loader:\n",
    "        # Set inputs\n",
    "        inputs = images.view(-1, visible_size)\n",
    "\n",
    "        # Forward\n",
    "        visible_prob, _ = rbm(inputs)\n",
    "\n",
    "        # Calculate loss\n",
    "        loss = criterion(visible_prob, inputs)\n",
    "\n",
    "        # Backpropagation\n",
    "        optimizer.zero_grad()\n",
    "        loss.backward()\n",
    "        optimizer.step()\n",
    "    \n",
    "    # Display logs\n",
    "    print(f'Epoch [{epoch+1} / {num_epochs}], Loss: {loss.item():.4f}')\n",
    "    \n",
    "    # Save images of weights as files\n",
    "    vutils.save_image(rbm.W.view(hidden_size, 1, 28, 28),\n",
    "                      f'./data/0630-MNIST/weights_epoch_{epoch+1}.png',\n",
    "                      normalize = True)\n",
    "    \n",
    "    # Save images of inputs and outputs as files\n",
    "    inputs_display = inputs.view(-1, 1, 28, 28)\n",
    "    outputs_display = visible_prob.view(-1, 1, 28, 28)\n",
    "    comparison = torch.cat([inputs_display, outputs_display],\n",
    "                            dim = 3)\n",
    "    vutils.save_image(comparison,\n",
    "                      f'./data/0630-MNIST/reconstruction_epoch_{epoch+1}.png',\n",
    "                      normalize = True)"
   ]
  }
 ],
 "metadata": {
  "kernelspec": {
   "display_name": "AI",
   "language": "python",
   "name": "ai"
  },
  "language_info": {
   "codemirror_mode": {
    "name": "ipython",
    "version": 3
   },
   "file_extension": ".py",
   "mimetype": "text/x-python",
   "name": "python",
   "nbconvert_exporter": "python",
   "pygments_lexer": "ipython3",
   "version": "3.8.16"
  }
 },
 "nbformat": 4,
 "nbformat_minor": 5
}
