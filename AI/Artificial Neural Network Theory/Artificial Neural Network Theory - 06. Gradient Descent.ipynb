{
 "cells": [
  {
   "cell_type": "markdown",
   "id": "bbc4d18b",
   "metadata": {},
   "source": [
    "- Difference between 'Epoch' and 'Iteration'\n",
    "  - Epoch: Fit entire dataset\n",
    "  - Iteration: Fit a dataset in a batch size"
   ]
  },
  {
   "cell_type": "markdown",
   "id": "1a5029d8",
   "metadata": {},
   "source": [
    "# 1. Linear Regression using Gradient Descent"
   ]
  },
  {
   "cell_type": "markdown",
   "id": "63cafd20",
   "metadata": {},
   "source": [
    "### Preparation"
   ]
  },
  {
   "cell_type": "code",
   "execution_count": 10,
   "id": "450f5f7b",
   "metadata": {},
   "outputs": [],
   "source": [
    "# Import modules\n",
    "import numpy as np\n",
    "import matplotlib.pyplot as plt"
   ]
  },
  {
   "cell_type": "code",
   "execution_count": 64,
   "id": "b1b318c7",
   "metadata": {},
   "outputs": [
    {
     "name": "stdout",
     "output_type": "stream",
     "text": [
      "[1 2 3 4 5] [ 3  5  7  9 11]\n"
     ]
    }
   ],
   "source": [
    "# Generate data: y = 2x + 1\n",
    "x = np.array([1, 2, 3, 4, 5])\n",
    "y = np.array([3, 5, 7, 9, 11])\n",
    "print(x, y)"
   ]
  },
  {
   "cell_type": "markdown",
   "id": "14e07a3d",
   "metadata": {},
   "source": [
    "### Define a Function to Calculate Errors"
   ]
  },
  {
   "cell_type": "code",
   "execution_count": 65,
   "id": "a628688b",
   "metadata": {},
   "outputs": [],
   "source": [
    "# Defind a function to calculate errors (errors = actual values - predicted values)\n",
    "def compute_error (w0, w1, x, y):  # w0: Bias, w1: weight\n",
    "    # Calculate predicted 'y'\n",
    "    y_pred = w0 + (w1 * x)\n",
    "    print('y_pred: ', y_pred)\n",
    "    \n",
    "    # Calculate errors\n",
    "    error = y - y_pred\n",
    "    print('error: ', error)\n",
    "    \n",
    "    return"
   ]
  },
  {
   "cell_type": "markdown",
   "id": "d23004dc",
   "metadata": {},
   "source": [
    "### Define a Function to Run Gradient Descent"
   ]
  },
  {
   "cell_type": "code",
   "execution_count": 66,
   "id": "b105389e",
   "metadata": {},
   "outputs": [],
   "source": [
    "# Define a function to run Gradient Descent\n",
    "def gradient_descent(x, y, lr = 0.05, iterations = 1000):\n",
    "    # Initialize parameters\n",
    "    n = len(x)    \n",
    "    w0, w1 = 0, 0\n",
    "    print('x: ', x)\n",
    "    print('y: ', y)\n",
    "    print('lr: ', lr)\n",
    "    print('iterations: ', iterations)\n",
    "    \n",
    "    \n",
    "    # Run Gradient Descent\n",
    "    for i in range(iterations):\n",
    "        # Calculate erros\n",
    "        error = compute_error(w0, w1, x, y)\n",
    "        print('error: ', error)\n",
    "        \n",
    "        # Calculate Regression Coefficient\n",
    "        w0 -= lr * (-2.0 / n) * np.sum(error)    # '-2.0': custom\n",
    "        w1 -= lr * (-2.0 / n) * np.sum(error * x)\n",
    "        \n",
    "    return w0, w1"
   ]
  },
  {
   "cell_type": "markdown",
   "id": "71f06c8c",
   "metadata": {},
   "source": [
    "### Fit Models"
   ]
  },
  {
   "cell_type": "code",
   "execution_count": 67,
   "id": "30e9411e",
   "metadata": {},
   "outputs": [
    {
     "name": "stdout",
     "output_type": "stream",
     "text": [
      "x:  [1 2 3 4 5]\n",
      "y:  [ 3  5  7  9 11]\n",
      "lr:  0.05\n",
      "iterations:  1000\n",
      "y_pred:  [0 0 0 0 0]\n",
      "error:  [ 3  5  7  9 11]\n",
      "error:  None\n"
     ]
    },
    {
     "ename": "TypeError",
     "evalue": "unsupported operand type(s) for *: 'float' and 'NoneType'",
     "output_type": "error",
     "traceback": [
      "\u001b[1;31m---------------------------------------------------------------------------\u001b[0m",
      "\u001b[1;31mTypeError\u001b[0m                                 Traceback (most recent call last)",
      "Cell \u001b[1;32mIn[67], line 2\u001b[0m\n\u001b[0;32m      1\u001b[0m \u001b[38;5;66;03m# Fit Models\u001b[39;00m\n\u001b[1;32m----> 2\u001b[0m w0, w1 \u001b[38;5;241m=\u001b[39m \u001b[43mgradient_descent\u001b[49m\u001b[43m(\u001b[49m\u001b[43mx\u001b[49m\u001b[43m,\u001b[49m\u001b[43m \u001b[49m\u001b[43my\u001b[49m\u001b[43m)\u001b[49m\n\u001b[0;32m      3\u001b[0m \u001b[38;5;28mprint\u001b[39m(x, y)\n",
      "Cell \u001b[1;32mIn[66], line 19\u001b[0m, in \u001b[0;36mgradient_descent\u001b[1;34m(x, y, lr, iterations)\u001b[0m\n\u001b[0;32m     16\u001b[0m     \u001b[38;5;28mprint\u001b[39m(\u001b[38;5;124m'\u001b[39m\u001b[38;5;124merror: \u001b[39m\u001b[38;5;124m'\u001b[39m, error)\n\u001b[0;32m     18\u001b[0m     \u001b[38;5;66;03m# Calculate Regression Coefficient\u001b[39;00m\n\u001b[1;32m---> 19\u001b[0m     w0 \u001b[38;5;241m-\u001b[39m\u001b[38;5;241m=\u001b[39m \u001b[43mlr\u001b[49m\u001b[43m \u001b[49m\u001b[38;5;241;43m*\u001b[39;49m\u001b[43m \u001b[49m\u001b[43m(\u001b[49m\u001b[38;5;241;43m-\u001b[39;49m\u001b[38;5;241;43m2.0\u001b[39;49m\u001b[43m \u001b[49m\u001b[38;5;241;43m/\u001b[39;49m\u001b[43m \u001b[49m\u001b[43mn\u001b[49m\u001b[43m)\u001b[49m\u001b[43m \u001b[49m\u001b[38;5;241;43m*\u001b[39;49m\u001b[43m \u001b[49m\u001b[43mnp\u001b[49m\u001b[38;5;241;43m.\u001b[39;49m\u001b[43msum\u001b[49m\u001b[43m(\u001b[49m\u001b[43merror\u001b[49m\u001b[43m)\u001b[49m    \u001b[38;5;66;03m# '-2.0': custom\u001b[39;00m\n\u001b[0;32m     20\u001b[0m     w1 \u001b[38;5;241m-\u001b[39m\u001b[38;5;241m=\u001b[39m lr \u001b[38;5;241m*\u001b[39m (\u001b[38;5;241m-\u001b[39m\u001b[38;5;241m2.0\u001b[39m \u001b[38;5;241m/\u001b[39m n) \u001b[38;5;241m*\u001b[39m np\u001b[38;5;241m.\u001b[39msum(error \u001b[38;5;241m*\u001b[39m x)\n\u001b[0;32m     22\u001b[0m \u001b[38;5;28;01mreturn\u001b[39;00m w0, w1\n",
      "\u001b[1;31mTypeError\u001b[0m: unsupported operand type(s) for *: 'float' and 'NoneType'"
     ]
    }
   ],
   "source": [
    "# Fit Models\n",
    "w0, w1 = gradient_descent(x, y)\n",
    "print(x, y)"
   ]
  },
  {
   "cell_type": "code",
   "execution_count": null,
   "id": "6752e664",
   "metadata": {},
   "outputs": [],
   "source": [
    "# Visualization\n",
    "plt.scatter(x, y)\n",
    "plt.plot(x, w0 + w1 * x, color='red')\n",
    "plt.show()"
   ]
  },
  {
   "cell_type": "markdown",
   "id": "efe3e37a",
   "metadata": {},
   "source": [
    "# 2. Multiple Linear Regression with Gradient Descent"
   ]
  },
  {
   "cell_type": "markdown",
   "id": "77424ff4",
   "metadata": {},
   "source": [
    "### Preparation"
   ]
  },
  {
   "cell_type": "code",
   "execution_count": 20,
   "id": "c2bb39b3",
   "metadata": {},
   "outputs": [],
   "source": [
    "# Import modules\n",
    "import numpy as np\n",
    "import matplotlib.pyplot as plt"
   ]
  },
  {
   "cell_type": "code",
   "execution_count": 21,
   "id": "02b06291",
   "metadata": {},
   "outputs": [],
   "source": [
    "# Generate data\n",
    "x1 = np.array([1, 2, 3, 4, 5])\n",
    "x2 = np.array([0, 1, 0, 1, 0])\n",
    "y = np.array([3, 5, 7, 9, 11])"
   ]
  },
  {
   "cell_type": "markdown",
   "id": "ab0d2022",
   "metadata": {},
   "source": [
    "### Define a Function to Run Gradient Descent"
   ]
  },
  {
   "cell_type": "code",
   "execution_count": 31,
   "id": "a2c89320",
   "metadata": {},
   "outputs": [],
   "source": [
    "# Define a function to run Gradient Descent\n",
    "def gradient_descent(x1, x2, y, lr, iterations):\n",
    "    # Initialize parameters\n",
    "    n = len(y)\n",
    "    beta_0 = 0\n",
    "    beta_1 = 0\n",
    "    beta_2 = 0\n",
    "    \n",
    "    # Run Gradient Descent\n",
    "    for i in range(iterations):\n",
    "        y_pred = beta_0 + beta_1 * x1 + beta_2 * x2\n",
    "        #print('y_pred: ', y_pred)\n",
    "        error = y_pred - y\n",
    "        \n",
    "        # Calculate Regression Coefficient\n",
    "        beta_0 -= lr * (1 / n) * np.sum(error)\n",
    "        beta_1 -= lr * (1 / n) * np.sum(error * x1)\n",
    "        beta_2 -= lr * (1 / n) * np.sum(error * x2)\n",
    "        \n",
    "    return beta_0, beta_1, beta_2"
   ]
  },
  {
   "cell_type": "code",
   "execution_count": 32,
   "id": "051f1433",
   "metadata": {},
   "outputs": [
    {
     "name": "stdout",
     "output_type": "stream",
     "text": [
      "beta_0:  0.9999994654447435\n",
      "beta_1:  2.000000116826904\n",
      "beta_2:  2.7869638238129594e-07\n"
     ]
    }
   ],
   "source": [
    "# Get values\n",
    "beta_0, beta_1, beta_2 = gradient_descent(x1, x2, y, 0.01, 10000)\n",
    "print('beta_0: ', beta_0)\n",
    "print('beta_1: ', beta_1)\n",
    "print('beta_2: ', beta_2)"
   ]
  },
  {
   "cell_type": "code",
   "execution_count": 33,
   "id": "930e69b5",
   "metadata": {},
   "outputs": [
    {
     "name": "stdout",
     "output_type": "stream",
     "text": [
      "Predicted \"y\" value is:  2.9999995822716476\n"
     ]
    }
   ],
   "source": [
    "# Test\n",
    "x1_new = 1\n",
    "x2_new = 0\n",
    "# Expected value of 'y' is '3'\n",
    "\n",
    "y_pred_temp = beta_0 + beta_1 * x1_new + beta_2 * x2_new\n",
    "print('Predicted \"y\" value is: ', y_pred_temp)"
   ]
  }
 ],
 "metadata": {
  "kernelspec": {
   "display_name": "AI",
   "language": "python",
   "name": "ai"
  },
  "language_info": {
   "codemirror_mode": {
    "name": "ipython",
    "version": 3
   },
   "file_extension": ".py",
   "mimetype": "text/x-python",
   "name": "python",
   "nbconvert_exporter": "python",
   "pygments_lexer": "ipython3",
   "version": "3.8.16"
  }
 },
 "nbformat": 4,
 "nbformat_minor": 5
}
