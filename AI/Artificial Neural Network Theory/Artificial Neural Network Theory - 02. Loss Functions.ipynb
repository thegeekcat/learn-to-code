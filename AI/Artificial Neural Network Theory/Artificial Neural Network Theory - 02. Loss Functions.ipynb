{
 "cells": [
  {
   "cell_type": "markdown",
   "id": "b4e618a1",
   "metadata": {},
   "source": [
    "# 1. Mean Squared Error (MSE)"
   ]
  },
  {
   "cell_type": "markdown",
   "id": "b0df88e0",
   "metadata": {},
   "source": [
    "- Mean Squared Error\n",
    "  - Measure average squared difference between the predicted values and the actual values\n",
    "  - MSE = (1/n) * Σ(ŷ - y)²"
   ]
  },
  {
   "cell_type": "code",
   "execution_count": 15,
   "id": "ec05b1fa",
   "metadata": {},
   "outputs": [],
   "source": [
    "# Import modules\n",
    "import numpy as np"
   ]
  },
  {
   "cell_type": "code",
   "execution_count": 18,
   "id": "b0e52e71",
   "metadata": {},
   "outputs": [
    {
     "name": "stdout",
     "output_type": "stream",
     "text": [
      "1.0\n"
     ]
    }
   ],
   "source": [
    "# Define a function of MSE\n",
    "def mean_squared_error (y_true, y_pred):\n",
    "    # Calculate MSE\n",
    "    mean_temp = np.mean((y_true - y_pred) ** 2)\n",
    "    #print(mean_temp)\n",
    "    return mean_temp\n",
    "\n",
    "'''\n",
    "Example) y_true = [1, 2, 3, 4] -> y_pred = [2, 3, 4, 5]\n",
    "'''\n",
    "# Get values\n",
    "y_true = np.array([1, 2, 3, 4])\n",
    "#y_pred = np.array([1, 2, 3, 4])\n",
    "y_pred = np.array([2, 3, 4, 5])\n",
    "\n",
    "# Calculate loss\n",
    "mean_value = mean_squared_error(y_true, y_pred)\n",
    "print(mean_value)"
   ]
  },
  {
   "cell_type": "markdown",
   "id": "73b6af1f",
   "metadata": {},
   "source": [
    "# 2. Binary Cross Entropy (BCE) Loss  (= Log Loss)"
   ]
  },
  {
   "cell_type": "markdown",
   "id": "b94da8d7",
   "metadata": {},
   "source": [
    "- Binary Cross Entropy Loss\n",
    "  - A common loss function in binary classfication problems\n",
    "  - Measure dissimilarity between the predicted probabilities and the true binary labels\n",
    "  - Classes: Positive(1), Negative(0)\n",
    "  - BCE Loss = -1/n Σ(Yi * logŷi + (1 - yi) * log(1 - ŷi))"
   ]
  },
  {
   "cell_type": "code",
   "execution_count": 19,
   "id": "38f012a9",
   "metadata": {},
   "outputs": [],
   "source": [
    "# Import modules\n",
    "import numpy as np"
   ]
  },
  {
   "cell_type": "code",
   "execution_count": 24,
   "id": "dc2a93dd",
   "metadata": {},
   "outputs": [
    {
     "name": "stdout",
     "output_type": "stream",
     "text": [
      "Value of \"n\":  4\n",
      "0.1737953373054198\n"
     ]
    }
   ],
   "source": [
    "# Define a function of Binary Cross Entropy Loss\n",
    "def binary_cross_entropy_loss (y_true_temp, y_predd): \n",
    "    # Set parameters for epsilon\n",
    "    epsilon = 1e-5  # Prevent getting result of '0' -> Value of near '0' is not able to be calcualted using 'log'\n",
    "    \n",
    "    # Number of samples\n",
    "    n = y_true_temp.shape[0]\n",
    "    print('Value of \"n\": ', n)\n",
    "    \n",
    "    # Calculate loss\n",
    "    loss = -np.mean(y_true_temp * np.log(y_pred_temp + epsilon) + (1 - y_true_temp) * np.log(1 - y_pred_temp + epsilon))\n",
    "    return loss\n",
    "\n",
    "# Get values\n",
    "y_true_temp = np.array([1, 0, 1, 1])\n",
    "y_pred_temp = np.array([0.99, 0.1, 0.8, 0.7])\n",
    "\n",
    "# Calculate loss\n",
    "loss = binary_cross_entropy_loss(y_true_temp, y_pred_temp)\n",
    "print(loss)"
   ]
  },
  {
   "cell_type": "markdown",
   "id": "575ce283",
   "metadata": {},
   "source": [
    "# 3. Cross Entropy (CE) Loss (=Ctegorical Cross Entropy Loss)"
   ]
  },
  {
   "cell_type": "markdown",
   "id": "7704b00b",
   "metadata": {},
   "source": [
    "- Cross Enntropy Loss\n",
    "  - A Loss function in multi-class classification problems\n",
    "  - Measure the dissimilarity between predicted class probabilities and the true class labels\n",
    "  - CE Loss = -1/n ΣnΣc yij log(ŷij)"
   ]
  },
  {
   "cell_type": "code",
   "execution_count": 23,
   "id": "0cc262ae",
   "metadata": {},
   "outputs": [],
   "source": [
    "# Import modules\n",
    "import numpy as np"
   ]
  },
  {
   "cell_type": "code",
   "execution_count": 34,
   "id": "f44df361",
   "metadata": {},
   "outputs": [
    {
     "name": "stdout",
     "output_type": "stream",
     "text": [
      "Value of \"n\":  3\n",
      "Cross Entropy Loss:  0.42432189193762915\n"
     ]
    }
   ],
   "source": [
    "# Define Cross Entropy Loss\n",
    "def cross_entropy_loss (y_true_temp, y_pred_temp, c): \n",
    "    '''\n",
    "    y_true_temp: Actual value (Size: (n, c))\n",
    "    y_pred_temp: Predicted value (Size: (n, c))\n",
    "    c          : Number of classes\n",
    "    '''\n",
    "    # Number of samples\n",
    "    n = y_true_temp.shape[0]\n",
    "    print('Value of \"n\": ', n)\n",
    "    \n",
    "    # Calculate Cross Entropy Loss\n",
    "    ce_loss = -1 / n * np.sum(y_true_temp * np.log(y_pred_temp))\n",
    "    \n",
    "    return ce_loss\n",
    "\n",
    "# Get values\n",
    "y_true_temp = np.array([[1, 0, 0], [0, 1, 0], [0, 0, 1]])  # Actual values\n",
    "y_pred_temp = np.array([[0.7, 0.2, 0.1], [0.1, 0.8, 0.1], [0.2, 0.3, 0.5]])  # Predicted values\n",
    "c = 3\n",
    "\n",
    "# Calculate Cross Entropy Loss\n",
    "ce_loss = cross_entropy_loss(y_true_temp, y_pred_temp, c)\n",
    "print('Cross Entropy Loss: ', ce_loss)"
   ]
  }
 ],
 "metadata": {
  "kernelspec": {
   "display_name": "pytorch",
   "language": "python",
   "name": "pytorch"
  },
  "language_info": {
   "codemirror_mode": {
    "name": "ipython",
    "version": 3
   },
   "file_extension": ".py",
   "mimetype": "text/x-python",
   "name": "python",
   "nbconvert_exporter": "python",
   "pygments_lexer": "ipython3",
   "version": "3.8.16"
  }
 },
 "nbformat": 4,
 "nbformat_minor": 5
}
