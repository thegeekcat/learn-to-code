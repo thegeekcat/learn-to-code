{
 "cells": [
  {
   "cell_type": "markdown",
   "id": "679928c8",
   "metadata": {},
   "source": [
    "- Label Smoothing\n",
    "  - Definition\n",
    "    - One of techniques to prevent overfitting issues, especially in classification models\n",
    "    - Modifying target labels in the training dataset by adding a small amount of uniform noise to ground truths which are usually one-hot- encoded (between '0' and '1')"
   ]
  },
  {
   "cell_type": "markdown",
   "id": "3ec9207e",
   "metadata": {},
   "source": [
    "### Preparation"
   ]
  },
  {
   "cell_type": "code",
   "execution_count": 1,
   "id": "cd9b65ac",
   "metadata": {},
   "outputs": [],
   "source": [
    "# Import modules\n",
    "import matplotlib.pyplot as plt\n",
    "\n",
    "import torch\n",
    "import torch.nn as nn\n",
    "import torch.optim as optim\n",
    "import torchvision\n",
    "\n",
    "from torchvision.transforms import ToTensor"
   ]
  },
  {
   "cell_type": "markdown",
   "id": "eb0ec110",
   "metadata": {},
   "source": [
    "### Define a Custom Loss Function (Cross Entropy Loss with Label Smoothing)"
   ]
  },
  {
   "cell_type": "code",
   "execution_count": 2,
   "id": "981ce0a0",
   "metadata": {},
   "outputs": [],
   "source": [
    "# Define a class for Custom Loss Function\n",
    "class LabelSmoothingLoss (nn.Module):\n",
    "    # Initialize the class\n",
    "    def __init__(self, num_classes, smoothing=0.0):\n",
    "        super(LabelSmoothingLoss, self).__init__()\n",
    "        self.num_classes = num_classes     # Number of classes for Classification\n",
    "        self.smoothing = smoothing         # 'Smoothing=0.0': Smoothing not applied\n",
    "        self.confidence = 1.0 - smoothing  # Correlation value of Smoothing (Confidence score for correct answers)\n",
    "\n",
    "        \n",
    "    # Forward\n",
    "    def forward(self, pred, target):  # 'pred': Predictions, 'target': Correct answers\n",
    "        # Generate One-Hot Encoding Tensor\n",
    "        one_hot = torch.zeros_like(pred).scatter(1, target.unsqueeze(1), 1)\n",
    "        \n",
    "        #  Apply Label Smoothing to One-Hot encoded tensor -> Confidence score\n",
    "        smooth_label = one_hot * self.confidence + (1 - one_hot) * self.smoothing / (self.num_classes - 1)\n",
    "        \n",
    "        # Calculate loss between predictions and labels with Smoothing Labels by using Cross Entropy Loss\n",
    "        #  -> (a probability of 'log_softmax') X (Label Smoothing)\n",
    "        loss = torch.sum(-smooth_label * torch.log_softmax(pred, dim=1),   # '-smooth_label': \n",
    "                         dim=1)  \n",
    "        \n",
    "        # Return with Mean of Loss\n",
    "        return torch.mean(loss)"
   ]
  },
  {
   "cell_type": "markdown",
   "id": "1297869d",
   "metadata": {},
   "source": [
    "### Define a Model"
   ]
  },
  {
   "cell_type": "code",
   "execution_count": 13,
   "id": "a8010cbe",
   "metadata": {},
   "outputs": [],
   "source": [
    "# Define a model\n",
    "class MyModel(nn.Module):\n",
    "    # Initialize the model\n",
    "    def __init__(self):\n",
    "        super(MyModel, self).__init__()\n",
    "        \n",
    "        ##### Feature Extraction\n",
    "        # Layer set 1\n",
    "        self.conv1 = nn.Conv2d(1, 32, kernel_size=3)\n",
    "        self.relu1 = nn.ReLU(inplace = True)\n",
    "        self.pool1 = nn.MaxPool2d(kernel_size = 2)\n",
    "        \n",
    "        # Layer set 2\n",
    "        self.conv2 = nn.Conv2d(32, 64, kernel_size = 3)\n",
    "        self.relu2 = nn.ReLU(inplace = True)\n",
    "        self.pool2 = nn.MaxPool2d(kernel_size=2)\n",
    "        \n",
    "        ##### \n",
    "        self.flatten = nn.Flatten()\n",
    "        self.fc1 = nn.Linear(64*5*5, 128)\n",
    "        self.relu3 = nn.ReLU(inplace = True)\n",
    "        self.fc2 = nn.Linear(128, 10)\n",
    "        \n",
    "        \n",
    "    # Forward\n",
    "    def forward(self, x):\n",
    "        x = self.conv1(x)\n",
    "        x = self.relu1(x)\n",
    "        x = self.pool1(x)\n",
    "        \n",
    "        x = self.conv2(x)\n",
    "        x = self.relu2(x)\n",
    "        x = self.pool2(x)\n",
    "        \n",
    "        x = self.flatten(x)\n",
    "        x = self.fc1(x)\n",
    "        x = self.relu3(x)\n",
    "        x = self.fc2(x)\n",
    "        \n",
    "        return x"
   ]
  },
  {
   "cell_type": "markdown",
   "id": "8900b711",
   "metadata": {},
   "source": [
    "### Load Dataset and DataLoader"
   ]
  },
  {
   "cell_type": "code",
   "execution_count": 14,
   "id": "6d323702",
   "metadata": {},
   "outputs": [],
   "source": [
    "# Load dataset\n",
    "train_dataset = torchvision.datasets.FashionMNIST(root = './data/0706-FashionMNIST',\n",
    "                                                  train = True,\n",
    "                                                  transform = ToTensor(),\n",
    "                                                  download = True)\n",
    "\n",
    "# Set DataLoader\n",
    "train_dataloader = torch.utils.data.DataLoader(train_dataset,\n",
    "                                               batch_size = 64,\n",
    "                                               shuffle = True)"
   ]
  },
  {
   "cell_type": "markdown",
   "id": "981ede1f",
   "metadata": {},
   "source": [
    "### Define a Model"
   ]
  },
  {
   "cell_type": "code",
   "execution_count": 16,
   "id": "84717d9f",
   "metadata": {},
   "outputs": [
    {
     "name": "stdout",
     "output_type": "stream",
     "text": [
      "MyModel(\n",
      "  (conv1): Conv2d(1, 32, kernel_size=(3, 3), stride=(1, 1))\n",
      "  (relu1): ReLU(inplace=True)\n",
      "  (pool1): MaxPool2d(kernel_size=2, stride=2, padding=0, dilation=1, ceil_mode=False)\n",
      "  (conv2): Conv2d(32, 64, kernel_size=(3, 3), stride=(1, 1))\n",
      "  (relu2): ReLU(inplace=True)\n",
      "  (pool2): MaxPool2d(kernel_size=2, stride=2, padding=0, dilation=1, ceil_mode=False)\n",
      "  (flatten): Flatten(start_dim=1, end_dim=-1)\n",
      "  (fc1): Linear(in_features=1600, out_features=128, bias=True)\n",
      "  (relu3): ReLU(inplace=True)\n",
      "  (fc2): Linear(in_features=128, out_features=10, bias=True)\n",
      ")\n"
     ]
    }
   ],
   "source": [
    "# Define a model\n",
    "model = MyModel()\n",
    "\n",
    "print(model)\n"
   ]
  },
  {
   "cell_type": "markdown",
   "id": "64ba8ed2",
   "metadata": {},
   "source": [
    "### Set Loss Function and Optimizer"
   ]
  },
  {
   "cell_type": "code",
   "execution_count": 17,
   "id": "133c58be",
   "metadata": {},
   "outputs": [],
   "source": [
    "# Set Loss Function\n",
    "num_classes = 10\n",
    "smoothing = 0.1\n",
    "criterion = LabelSmoothingLoss(num_classes, smoothing)\n",
    "\n",
    "# Set Optimizer\n",
    "optimizer = optim.SGD(model.parameters(), lr = 0.01, momentum = 0.9)\n"
   ]
  },
  {
   "cell_type": "markdown",
   "id": "bac911bf",
   "metadata": {},
   "source": [
    "### Fit a Model"
   ]
  },
  {
   "cell_type": "code",
   "execution_count": 18,
   "id": "331b9b47",
   "metadata": {},
   "outputs": [],
   "source": [
    "# Initialize lists of train losses\n",
    "train_losses_no_smoothing = []\n",
    "train_losses_with_smoothing = []"
   ]
  },
  {
   "cell_type": "code",
   "execution_count": 20,
   "id": "79c3e271",
   "metadata": {},
   "outputs": [],
   "source": [
    "# Fit a model\n",
    "num_epochs = 10\n",
    "for epoch in range(num_epochs):\n",
    "    # Initialize default values for train loss\n",
    "    train_loss_no_smoothing = 0.0\n",
    "    train_loss_with_smoothing = 0.0\n",
    "    \n",
    "    # Fit a model\n",
    "    for inputs, labels in train_dataloader:\n",
    "        # Initialize optimizer with '0'\n",
    "        optimizer.zero_grad()\n",
    "        \n",
    "        # Set Train Loss without Smoothing\n",
    "        outputs_no_smoothing = model(inputs)\n",
    "        loss_no_smoothing = criterion(outputs_no_smoothing, labels)\n",
    "        loss_no_smoothing.backward()\n",
    "        optimizer.step()\n",
    "        train_loss_no_smoothing += loss_no_smoothing.item()\n",
    "        \n",
    "        # Set Train Loss with Smoothing\n",
    "        outputs_with_smoothing = model(inputs)\n",
    "        loss_with_smoothing = criterion(outputs_with_smoothing, labels)\n",
    "        loss_with_smoothing.backward()\n",
    "        optimizer.step()\n",
    "        train_loss_with_smoothing += loss_with_smoothing.item()\n",
    "        \n",
    "    # Record loss by each epoch\n",
    "    train_losses_no_smoothing.append(train_loss_no_smoothing / len(train_dataloader))\n",
    "    train_losses_with_smoothing.append(train_loss_with_smoothing / len(train_dataloader))"
   ]
  },
  {
   "cell_type": "code",
   "execution_count": 23,
   "id": "a8d4de85",
   "metadata": {},
   "outputs": [
    {
     "name": "stdout",
     "output_type": "stream",
     "text": [
      "[0.9861963740798202, 0.8139742395516906, 0.77837562313212, 0.754886957437499, 0.7383785308805356, 0.7259798941454654, 0.7126440023943814, 0.7018055704229677, 0.691883472173707, 0.6839737181724516]\n",
      "[0.981137675453605, 0.8100807835806662, 0.7745480173305154, 0.751055829115768, 0.7344796428802425, 0.7219040520282697, 0.7085616211138809, 0.6975289120602963, 0.6876977542315973, 0.679568292108426]\n"
     ]
    }
   ],
   "source": [
    "print(train_losses_no_smoothing)\n",
    "print(train_losses_with_smoothing)"
   ]
  },
  {
   "cell_type": "markdown",
   "id": "954850e4",
   "metadata": {},
   "source": [
    "### Visualization"
   ]
  },
  {
   "cell_type": "code",
   "execution_count": 21,
   "id": "95e24556",
   "metadata": {},
   "outputs": [
    {
     "data": {
      "image/png": "[encoded data removed]",
      "text/plain": [
       "<Figure size 640x480 with 1 Axes>"
      ]
     },
     "metadata": {},
     "output_type": "display_data"
    }
   ],
   "source": [
    "# Set epochs\n",
    "epochs = range(1, num_epochs + 1)\n",
    "\n",
    "# Visualization \n",
    "plt.plot(epochs, train_losses_no_smoothing, label = 'Without Label Smoothing')\n",
    "plt.plot(epochs, train_losses_with_smoothing, label = 'With Label Smoothing')\n",
    "\n",
    "plt.xlabel('Epochs')\n",
    "plt.ylabel('Loss')\n",
    "plt.title('Comparison of Training Losses')\n",
    "\n",
    "plt.legend()\n",
    "plt.show()"
   ]
  }
 ],
 "metadata": {
  "kernelspec": {
   "display_name": "AI",
   "language": "python",
   "name": "ai"
  },
  "language_info": {
   "codemirror_mode": {
    "name": "ipython",
    "version": 3
   },
   "file_extension": ".py",
   "mimetype": "text/x-python",
   "name": "python",
   "nbconvert_exporter": "python",
   "pygments_lexer": "ipython3",
   "version": "3.8.16"
  }
 },
 "nbformat": 4,
 "nbformat_minor": 5
}
