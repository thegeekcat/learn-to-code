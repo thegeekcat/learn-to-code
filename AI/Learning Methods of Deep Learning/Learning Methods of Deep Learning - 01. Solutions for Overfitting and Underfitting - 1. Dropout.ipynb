{
 "cells": [
  {
   "cell_type": "markdown",
   "id": "bd96fd5a",
   "metadata": {},
   "source": [
    "# 1. Preparation"
   ]
  },
  {
   "cell_type": "markdown",
   "id": "25fb6289",
   "metadata": {},
   "source": [
    "### Preparation"
   ]
  },
  {
   "cell_type": "code",
   "execution_count": 1,
   "id": "bc488c27",
   "metadata": {},
   "outputs": [],
   "source": [
    "# Import modules\n",
    "import torch\n",
    "import torch.nn as nn\n",
    "import torch.optim as optim\n",
    "import torchvision.datasets as datasets\n",
    "import torchvision.transforms as transforms"
   ]
  },
  {
   "cell_type": "markdown",
   "id": "e9348482",
   "metadata": {},
   "source": [
    "# 2. Define Models"
   ]
  },
  {
   "cell_type": "markdown",
   "id": "9a14cb35",
   "metadata": {},
   "source": [
    "### Define a Neural Network Model that Dropout Applied"
   ]
  },
  {
   "cell_type": "code",
   "execution_count": 2,
   "id": "82d9a71b",
   "metadata": {},
   "outputs": [],
   "source": [
    "# Define a class\n",
    "class DropoutNet(nn.Module):\n",
    "    # Initialize the class\n",
    "    def __init__(self):\n",
    "        super(DropoutNet, self).__init__()\n",
    "        # Convert 28x28 input data to 1-Dimensional data\n",
    "        self.fc1 = nn.Linear(784, 500)  # '784': 28x28\n",
    "        \n",
    "        # Apply dropout\n",
    "        self.dropout = nn.Dropout(p = 0.5)  # 'p=0.5': 50%\n",
    "        \n",
    "        # Fully connected layer 2: Linear\n",
    "        self.fc2 = nn.Linear(500, 10)\n",
    "        \n",
    "    # Forward\n",
    "    def forward(self, x):\n",
    "        # Resize input data: Flatten data to 1-Dimensional data\n",
    "        x = x.view(x.size(0), -1)\n",
    "        \n",
    "        # Apply ReLU to 'fc1'\n",
    "        x = torch.relu(self.fc1(x))\n",
    "        \n",
    "        # Apply Dropout to 'fc1'\n",
    "        x = self.dropout(x)\n",
    "        \n",
    "        # Run 'fc2'\n",
    "        x = self.fc2(x)\n",
    "        \n",
    "        return x\n",
    "        "
   ]
  },
  {
   "cell_type": "markdown",
   "id": "b877606d",
   "metadata": {},
   "source": [
    "### Define a Neural Network Model without Dropout"
   ]
  },
  {
   "cell_type": "code",
   "execution_count": 3,
   "id": "c581d50d",
   "metadata": {},
   "outputs": [],
   "source": [
    "# Define a class\n",
    "class NonDropoutNet(nn.Module):\n",
    "    # Initialize the class\n",
    "    def __init__(self):\n",
    "        super(NonDropoutNet, self).__init__()\n",
    "        self.fc1 = nn.Linear(784, 500)\n",
    "        self.fc2 = nn.Linear(500, 10)\n",
    "\n",
    "    # Forward\n",
    "    def forward(self, x):\n",
    "        # Convert 28x28 input data to 1-Dimensional data\n",
    "        x = x.view(x.size(0), -1)\n",
    "        \n",
    "        # Apply ReLU\n",
    "        x = torch.relu(self.fc1(x))\n",
    "    \n",
    "        # Run 'fc2'\n",
    "        x = self.fc2(x)\n",
    "        \n",
    "        return x"
   ]
  },
  {
   "cell_type": "markdown",
   "id": "cf17cb82",
   "metadata": {},
   "source": [
    "# 3. Set Data"
   ]
  },
  {
   "cell_type": "markdown",
   "id": "78abf64c",
   "metadata": {},
   "source": [
    "### Load Dataset with Pre-Processing"
   ]
  },
  {
   "cell_type": "code",
   "execution_count": 4,
   "id": "5ccdf5fe",
   "metadata": {},
   "outputs": [],
   "source": [
    "# Set transforms\n",
    "train_transform = transforms.Compose([\n",
    "    transforms.AutoAugment(),\n",
    "    transforms.ToTensor(),\n",
    "    transforms.Normalize((0.5,), (0.3,))\n",
    "])\n",
    "\n",
    "test_transform = transforms.Compose([\n",
    "    transforms.ToTensor(),\n",
    "    transforms.Normalize((0.5, ), (0.3, ))\n",
    "])\n",
    "\n",
    "# Load dataset\n",
    "train_dataset = datasets.MNIST(root = './data/0706-MNIST',\n",
    "                               train = True, \n",
    "                               download = True,\n",
    "                               transform = train_transform)\n",
    "test_dataset = datasets.MNIST(root = './data/0706-MNIST',\n",
    "                              train = False,\n",
    "                              download = True,\n",
    "                              transform = test_transform)"
   ]
  },
  {
   "cell_type": "markdown",
   "id": "d5539c49",
   "metadata": {},
   "source": [
    "### Set DataLoaders"
   ]
  },
  {
   "cell_type": "code",
   "execution_count": 5,
   "id": "52bc72b5",
   "metadata": {},
   "outputs": [],
   "source": [
    "# Set dataloaders\n",
    "train_loader = torch.utils.data.DataLoader(train_dataset,\n",
    "                                           batch_size = 64,\n",
    "                                           shuffle = True)\n",
    "test_loader = torch.utils.data.DataLoader(test_dataset,\n",
    "                                          batch_size = 64,\n",
    "                                          shuffle = False)"
   ]
  },
  {
   "cell_type": "markdown",
   "id": "c22390ee",
   "metadata": {},
   "source": [
    "# 4. Set a Model with Dropout "
   ]
  },
  {
   "cell_type": "markdown",
   "id": "6922c171",
   "metadata": {},
   "source": [
    "### Initialize the Model with Dropout"
   ]
  },
  {
   "cell_type": "code",
   "execution_count": 6,
   "id": "16d07e27",
   "metadata": {},
   "outputs": [
    {
     "name": "stdout",
     "output_type": "stream",
     "text": [
      "DropoutNet(\n",
      "  (fc1): Linear(in_features=784, out_features=500, bias=True)\n",
      "  (dropout): Dropout(p=0.5, inplace=False)\n",
      "  (fc2): Linear(in_features=500, out_features=10, bias=True)\n",
      ")\n"
     ]
    }
   ],
   "source": [
    "# Initialize models\n",
    "dropout_model = DropoutNet()\n",
    "print(dropout_model)"
   ]
  },
  {
   "cell_type": "markdown",
   "id": "3b1b3dbe",
   "metadata": {},
   "source": [
    "### Set Loss Function and Optimizer"
   ]
  },
  {
   "cell_type": "code",
   "execution_count": 7,
   "id": "d4845249",
   "metadata": {},
   "outputs": [
    {
     "name": "stdout",
     "output_type": "stream",
     "text": [
      "CrossEntropyLoss()\n",
      "SGD (\n",
      "Parameter Group 0\n",
      "    dampening: 0\n",
      "    lr: 0.001\n",
      "    momentum: 0\n",
      "    nesterov: False\n",
      "    weight_decay: 0\n",
      ")\n"
     ]
    }
   ],
   "source": [
    "# Set Loss Function\n",
    "dropout_criterion = nn.CrossEntropyLoss()\n",
    "print(dropout_criterion)\n",
    "\n",
    "# Set Optimizer\n",
    "dropout_optimizer = optim.SGD(dropout_model.parameters(), lr=0.001)\n",
    "print(dropout_optimizer)"
   ]
  },
  {
   "cell_type": "markdown",
   "id": "7ae77c68",
   "metadata": {},
   "source": [
    "### Fit the Model with Dropout"
   ]
  },
  {
   "cell_type": "code",
   "execution_count": 8,
   "id": "d58fef2c",
   "metadata": {},
   "outputs": [
    {
     "name": "stdout",
     "output_type": "stream",
     "text": [
      "Accuracy of Model that Dropout applied: 90.10%\n"
     ]
    }
   ],
   "source": [
    "# Fit the Model with dropout\n",
    "for epoch in range(10):\n",
    "    # Declare Train mode\n",
    "    dropout_model.train()\n",
    "    \n",
    "    # Fit the model\n",
    "    for images, labels in train_loader:\n",
    "        dropout_optimizer.zero_grad() # Initialize gradients of all model parameters\n",
    "        dropout_output = dropout_model(images)\n",
    "        dropout_loss = dropout_criterion(dropout_output, labels)\n",
    "        dropout_loss.backward()\n",
    "        dropout_optimizer.step()\n",
    "        \n",
    "# Declare Test mode\n",
    "dropout_model.eval()\n",
    "\n",
    "# Fit models\n",
    "with torch.no_grad():\n",
    "    # Initialize parameters\n",
    "    dropout_correct = 0\n",
    "    dropout_total = 0\n",
    "    \n",
    "    for images, labels in test_loader:\n",
    "        test_out = dropout_model(images)\n",
    "        _, dropout_pre = torch.max(test_out.data, 1)\n",
    "        dropout_total += images.size(0)\n",
    "        dropout_correct += (dropout_pre == labels).sum().item()\n",
    "        \n",
    "    print('Accuracy of Model that Dropout applied: {:.2f}%'.format(100 * dropout_correct / dropout_total) )"
   ]
  },
  {
   "cell_type": "markdown",
   "id": "64c24bb2",
   "metadata": {},
   "source": [
    "# 5. Set a Model without Dropout"
   ]
  },
  {
   "cell_type": "markdown",
   "id": "c2b24543",
   "metadata": {},
   "source": [
    "### Initialize the Model without Dropout"
   ]
  },
  {
   "cell_type": "code",
   "execution_count": 9,
   "id": "91e7c59c",
   "metadata": {},
   "outputs": [
    {
     "name": "stdout",
     "output_type": "stream",
     "text": [
      "NonDropoutNet(\n",
      "  (fc1): Linear(in_features=784, out_features=500, bias=True)\n",
      "  (fc2): Linear(in_features=500, out_features=10, bias=True)\n",
      ")\n"
     ]
    }
   ],
   "source": [
    "# Initialize models\n",
    "non_dropout_model = NonDropoutNet()\n",
    "print(non_dropout_model)"
   ]
  },
  {
   "cell_type": "markdown",
   "id": "efd8c924",
   "metadata": {},
   "source": [
    "### Set Loss Function and Optimizer"
   ]
  },
  {
   "cell_type": "code",
   "execution_count": 10,
   "id": "749b67f7",
   "metadata": {},
   "outputs": [
    {
     "name": "stdout",
     "output_type": "stream",
     "text": [
      "CrossEntropyLoss()\n",
      "SGD (\n",
      "Parameter Group 0\n",
      "    dampening: 0\n",
      "    lr: 0.001\n",
      "    momentum: 0\n",
      "    nesterov: False\n",
      "    weight_decay: 0\n",
      ")\n"
     ]
    }
   ],
   "source": [
    "# Set Loss Function\n",
    "non_dropout_criterion = nn.CrossEntropyLoss()\n",
    "print(non_dropout_criterion)\n",
    "\n",
    "# Set Optimizer\n",
    "non_dropout_optimizer = optim.SGD(non_dropout_model.parameters(), lr=0.001)\n",
    "print(non_dropout_optimizer)"
   ]
  },
  {
   "cell_type": "markdown",
   "id": "1245ba06",
   "metadata": {},
   "source": [
    "### Fit the Model without Dropout"
   ]
  },
  {
   "cell_type": "code",
   "execution_count": 11,
   "id": "3c17b733",
   "metadata": {},
   "outputs": [
    {
     "name": "stdout",
     "output_type": "stream",
     "text": [
      "Accuracy of Model that Dropout NOT applied: 89.92%\n"
     ]
    }
   ],
   "source": [
    "# Fit the Model with dropout\n",
    "for epoch in range(10):\n",
    "    # Declare Train mode\n",
    "    non_dropout_model.train()\n",
    "    \n",
    "    # Fit the model\n",
    "    for images, labels in train_loader:\n",
    "        non_dropout_optimizer.zero_grad()\n",
    "        non_dropout_output = non_dropout_model(images)\n",
    "        non_dropout_loss = non_dropout_criterion(non_dropout_output, labels)\n",
    "        non_dropout_loss.backward()\n",
    "        non_dropout_optimizer.step()\n",
    "        \n",
    "# Declare Test mode\n",
    "non_dropout_model.eval()\n",
    "\n",
    "# Fit models\n",
    "with torch.no_grad():\n",
    "    # Initialize parameters\n",
    "    non_dropout_correct = 0\n",
    "    non_dropout_total = 0\n",
    "    \n",
    "    for images, labels in test_loader:\n",
    "        test_out = non_dropout_model(images)\n",
    "        _, non_dropout_prediction = torch.max(test_out.data, 1)\n",
    "        non_dropout_total += images.size(0)\n",
    "        non_dropout_correct += (non_dropout_prediction == labels).sum().item()\n",
    "        \n",
    "    print('Accuracy of Model that Dropout NOT applied: {:.2f}%'.format(100 * non_dropout_correct / non_dropout_total) )"
   ]
  }
 ],
 "metadata": {
  "kernelspec": {
   "display_name": "AI",
   "language": "python",
   "name": "ai"
  },
  "language_info": {
   "codemirror_mode": {
    "name": "ipython",
    "version": 3
   },
   "file_extension": ".py",
   "mimetype": "text/x-python",
   "name": "python",
   "nbconvert_exporter": "python",
   "pygments_lexer": "ipython3",
   "version": "3.8.16"
  }
 },
 "nbformat": 4,
 "nbformat_minor": 5
}
