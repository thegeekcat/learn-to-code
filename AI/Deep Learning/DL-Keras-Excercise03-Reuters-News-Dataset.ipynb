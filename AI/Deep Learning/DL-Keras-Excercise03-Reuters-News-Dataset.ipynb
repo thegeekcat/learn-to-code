{
 "cells": [
  {
   "cell_type": "markdown",
   "metadata": {
    "id": "mzmz502nVJfr"
   },
   "source": [
    "# 1. Preparation"
   ]
  },
  {
   "cell_type": "code",
   "execution_count": null,
   "metadata": {
    "colab": {
     "base_uri": "https://localhost:8080/",
     "height": 35
    },
    "id": "gA6O9WfsU81z",
    "outputId": "aea7c992-5517-44e9-d28e-e6c8198a7267"
   },
   "outputs": [
    {
     "data": {
      "application/vnd.google.colaboratory.intrinsic+json": {
       "type": "string"
      },
      "text/plain": [
       "'2.12.0'"
      ]
     },
     "execution_count": 1,
     "metadata": {},
     "output_type": "execute_result"
    }
   ],
   "source": [
    "# Import module\n",
    "import keras\n",
    "keras.__version__"
   ]
  },
  {
   "cell_type": "markdown",
   "metadata": {
    "id": "SiVfB9FVljtp"
   },
   "source": [
    "# 2. Load Dataset"
   ]
  },
  {
   "cell_type": "code",
   "execution_count": null,
   "metadata": {
    "id": "CLTYy0Y9lfxr"
   },
   "outputs": [],
   "source": [
    "# Import modules\n",
    "from keras.datasets import reuters"
   ]
  },
  {
   "cell_type": "code",
   "execution_count": null,
   "metadata": {
    "id": "hI-sZ5CnliQk"
   },
   "outputs": [],
   "source": [
    "# Load Dataset\n",
    "(train_data, train_labels), (test_data, test_labels) = reuters.load_data(num_words=10000)  # Limit words to 10,000"
   ]
  },
  {
   "cell_type": "code",
   "execution_count": null,
   "metadata": {
    "colab": {
     "base_uri": "https://localhost:8080/"
    },
    "id": "Up1RIBacls69",
    "outputId": "dc58acb4-353a-465a-da8c-bb86e024c75c"
   },
   "outputs": [
    {
     "name": "stdout",
     "output_type": "stream",
     "text": [
      "Train Data:  (8982,)\n",
      "Test Data:  (2246,)\n",
      "Train Labels:  (8982,)\n",
      "Test Labels:  (2246,)\n"
     ]
    }
   ],
   "source": [
    "# Check a shape\n",
    "print('Train Data: ', train_data.shape)\n",
    "print('Test Data: ', test_data.shape)\n",
    "print('Train Labels: ', train_labels.shape)\n",
    "print('Test Labels: ', test_labels.shape)"
   ]
  },
  {
   "cell_type": "markdown",
   "metadata": {
    "id": "J-6uEk1VowBQ"
   },
   "source": [
    "# 3. Prepare Data"
   ]
  },
  {
   "cell_type": "markdown",
   "metadata": {
    "id": "7DQ0j8L0oz3I"
   },
   "source": [
    "## 3.1. Vectorize Data"
   ]
  },
  {
   "cell_type": "code",
   "execution_count": null,
   "metadata": {
    "id": "WL5nfIyjerWu"
   },
   "outputs": [],
   "source": [
    "# Import modules\n",
    "import numpy as np\n",
    "\n",
    "# Define Vectorized Sequences\n",
    "def vectorize_sequences(sequences, dimension=10000):\n",
    "  \n",
    "  # Make an array filled with '0'\n",
    "  results = np.zeros((len(sequences), dimension))\n",
    "\n",
    "  # If the word is matched to the 10000 words, then return '1' as a result\n",
    "  for i, sequence in enumerate(sequences):\n",
    "    results[i, sequence] = 1\n",
    "\n",
    "  return results"
   ]
  },
  {
   "cell_type": "code",
   "execution_count": null,
   "metadata": {
    "id": "TnBqAKJYorRF"
   },
   "outputs": [],
   "source": [
    "# Vectorize Train and Test data\n",
    "x_train = vectorize_sequences(train_data)\n",
    "x_test = vectorize_sequences(test_data)"
   ]
  },
  {
   "cell_type": "markdown",
   "metadata": {
    "id": "aB-tR96ypKJj"
   },
   "source": [
    "## 3.2. Encoding"
   ]
  },
  {
   "cell_type": "code",
   "execution_count": null,
   "metadata": {
    "id": "CwolEQM1pJlD"
   },
   "outputs": [],
   "source": [
    "# Import modules\n",
    "from keras.utils.np_utils import to_categorical"
   ]
  },
  {
   "cell_type": "code",
   "execution_count": null,
   "metadata": {
    "id": "NiZnuRtcpasD"
   },
   "outputs": [],
   "source": [
    "# Encoding -> 'Y' value\n",
    "one_hot_train_labels = to_categorical(train_labels)\n",
    "one_hot_test_labels = to_categorical(test_labels)"
   ]
  },
  {
   "cell_type": "markdown",
   "metadata": {
    "id": "buyL3ucu_iA6"
   },
   "source": [
    "# 4. Create a Neural Network"
   ]
  },
  {
   "cell_type": "code",
   "execution_count": null,
   "metadata": {
    "id": "cqNR1TANorkF"
   },
   "outputs": [],
   "source": [
    "# Import modules\n",
    "from keras import models\n",
    "from keras import layers"
   ]
  },
  {
   "cell_type": "code",
   "execution_count": null,
   "metadata": {
    "id": "I43jeB8EBotq"
   },
   "outputs": [],
   "source": [
    "# Create a model\n",
    "model = models.Sequential()\n",
    "\n",
    "# Input layer\n",
    "model.add(layers.Dense(64,\n",
    "                       activation='relu',\n",
    "                       input_shape=(10000,)))\n",
    "\n",
    "# Hidden layer\n",
    "model.add(layers.Dense(64,\n",
    "                       activation='relu'))\n",
    "\n",
    "# Output layer\n",
    "model.add(layers.Dense(46,   # 46 topics\n",
    "                       activation='softmax'))  # A result belongs to a single category"
   ]
  },
  {
   "cell_type": "code",
   "execution_count": null,
   "metadata": {
    "id": "reqmsT5DCmi9"
   },
   "outputs": [],
   "source": [
    "# Compile\n",
    "model.compile(optimizer='rmsprop',\n",
    "              loss='categorical_crossentropy',\n",
    "              metrics=['accuracy'])"
   ]
  },
  {
   "cell_type": "markdown",
   "metadata": {
    "id": "QFtw3aWxDE0y"
   },
   "source": [
    "# 5. Devide Data into Three Parts"
   ]
  },
  {
   "cell_type": "code",
   "execution_count": null,
   "metadata": {
    "id": "QO_CDshHC4kc"
   },
   "outputs": [],
   "source": [
    "# Validation Data\n",
    "\n",
    "x_val = x_train[:1000]  # Reason: The total number of data is only 8982\n",
    "partial_x_train = x_train[1000:]\n",
    "\n",
    "y_val = one_hot_train_labels[:1000]\n",
    "partial_y_train = one_hot_train_labels[1000:]"
   ]
  },
  {
   "cell_type": "markdown",
   "metadata": {
    "id": "-oB4XKPUEKN4"
   },
   "source": [
    "# 6. Fit Data"
   ]
  },
  {
   "cell_type": "code",
   "execution_count": null,
   "metadata": {
    "colab": {
     "base_uri": "https://localhost:8080/"
    },
    "id": "zle8x07NDzei",
    "outputId": "fdc1fc03-75c9-4581-f1b7-774274f9d8e8"
   },
   "outputs": [
    {
     "name": "stdout",
     "output_type": "stream",
     "text": [
      "Epoch 1/20\n",
      "16/16 [==============================] - 4s 138ms/step - loss: 2.7709 - accuracy: 0.4946 - val_loss: 1.8904 - val_accuracy: 0.6150\n",
      "Epoch 2/20\n",
      "16/16 [==============================] - 2s 103ms/step - loss: 1.5880 - accuracy: 0.6724 - val_loss: 1.4493 - val_accuracy: 0.6790\n",
      "Epoch 3/20\n",
      "16/16 [==============================] - 2s 101ms/step - loss: 1.2163 - accuracy: 0.7379 - val_loss: 1.2602 - val_accuracy: 0.7320\n",
      "Epoch 4/20\n",
      "16/16 [==============================] - 2s 141ms/step - loss: 0.9899 - accuracy: 0.7927 - val_loss: 1.1229 - val_accuracy: 0.7640\n",
      "Epoch 5/20\n",
      "16/16 [==============================] - 2s 126ms/step - loss: 0.8209 - accuracy: 0.8262 - val_loss: 1.0445 - val_accuracy: 0.7720\n",
      "Epoch 6/20\n",
      "16/16 [==============================] - 1s 91ms/step - loss: 0.6861 - accuracy: 0.8543 - val_loss: 0.9779 - val_accuracy: 0.7930\n",
      "Epoch 7/20\n",
      "16/16 [==============================] - 2s 95ms/step - loss: 0.5755 - accuracy: 0.8782 - val_loss: 0.9352 - val_accuracy: 0.7990\n",
      "Epoch 8/20\n",
      "16/16 [==============================] - 2s 98ms/step - loss: 0.4872 - accuracy: 0.8984 - val_loss: 0.9155 - val_accuracy: 0.8120\n",
      "Epoch 9/20\n",
      "16/16 [==============================] - 1s 61ms/step - loss: 0.4110 - accuracy: 0.9123 - val_loss: 0.8838 - val_accuracy: 0.8130\n",
      "Epoch 10/20\n",
      "16/16 [==============================] - 1s 47ms/step - loss: 0.3490 - accuracy: 0.9268 - val_loss: 0.8952 - val_accuracy: 0.8090\n",
      "Epoch 11/20\n",
      "16/16 [==============================] - 1s 46ms/step - loss: 0.3028 - accuracy: 0.9332 - val_loss: 0.8996 - val_accuracy: 0.8030\n",
      "Epoch 12/20\n",
      "16/16 [==============================] - 1s 49ms/step - loss: 0.2645 - accuracy: 0.9424 - val_loss: 0.9095 - val_accuracy: 0.8170\n",
      "Epoch 13/20\n",
      "16/16 [==============================] - 1s 49ms/step - loss: 0.2327 - accuracy: 0.9441 - val_loss: 0.9085 - val_accuracy: 0.8160\n",
      "Epoch 14/20\n",
      "16/16 [==============================] - 1s 48ms/step - loss: 0.2130 - accuracy: 0.9475 - val_loss: 0.9108 - val_accuracy: 0.8140\n",
      "Epoch 15/20\n",
      "16/16 [==============================] - 1s 66ms/step - loss: 0.1896 - accuracy: 0.9521 - val_loss: 0.9389 - val_accuracy: 0.8130\n",
      "Epoch 16/20\n",
      "16/16 [==============================] - 1s 86ms/step - loss: 0.1764 - accuracy: 0.9523 - val_loss: 0.9449 - val_accuracy: 0.8120\n",
      "Epoch 17/20\n",
      "16/16 [==============================] - 1s 74ms/step - loss: 0.1659 - accuracy: 0.9524 - val_loss: 0.9227 - val_accuracy: 0.8170\n",
      "Epoch 18/20\n",
      "16/16 [==============================] - 1s 48ms/step - loss: 0.1477 - accuracy: 0.9543 - val_loss: 0.9784 - val_accuracy: 0.7980\n",
      "Epoch 19/20\n",
      "16/16 [==============================] - 1s 49ms/step - loss: 0.1464 - accuracy: 0.9553 - val_loss: 1.0528 - val_accuracy: 0.7940\n",
      "Epoch 20/20\n",
      "16/16 [==============================] - 1s 46ms/step - loss: 0.1380 - accuracy: 0.9574 - val_loss: 1.0433 - val_accuracy: 0.7960\n"
     ]
    }
   ],
   "source": [
    "history = model.fit(partial_x_train, \n",
    "                    partial_y_train,\n",
    "                    epochs=20,\n",
    "                    batch_size=512,\n",
    "                    validation_data=(x_val, y_val))\n",
    "\n",
    "# Result\n",
    "#  - Accuracy of Training: loss, accuracy\n",
    "#  - Accuracy of Validation: val_loss, val_accuracy"
   ]
  },
  {
   "cell_type": "markdown",
   "metadata": {
    "id": "h0xHwwrqFu2u"
   },
   "source": [
    "# 7. Visualization"
   ]
  },
  {
   "cell_type": "code",
   "execution_count": null,
   "metadata": {
    "id": "NxyXhrCOEpIo"
   },
   "outputs": [],
   "source": [
    "# Import modules\n",
    "import matplotlib.pyplot as plt"
   ]
  },
  {
   "cell_type": "code",
   "execution_count": null,
   "metadata": {
    "id": "3Ez4mtsXF029"
   },
   "outputs": [],
   "source": [
    "# Define loss and accuracy\n",
    "loss = history.history['loss']\n",
    "val_loss = history.history['val_accuracy']\n",
    "\n",
    "acc = history.history['accuracy']\n",
    "val_acc = history.history['val_accuracy']"
   ]
  },
  {
   "cell_type": "code",
   "execution_count": null,
   "metadata": {
    "id": "7Yg_LGFUGWVL"
   },
   "outputs": [],
   "source": [
    "# Value of Epochs\n",
    "epochs = range(1, len(loss)+1)"
   ]
  },
  {
   "cell_type": "markdown",
   "metadata": {
    "id": "hMScSS0SIAS2"
   },
   "source": [
    "## 7.1. Loss Graphs"
   ]
  },
  {
   "cell_type": "code",
   "execution_count": null,
   "metadata": {
    "colab": {
     "base_uri": "https://localhost:8080/",
     "height": 472
    },
    "id": "liNK6mfcGgHM",
    "outputId": "c8160414-349f-4ac8-8755-a9fe988e6758"
   },
   "outputs": [
    {
     "data": {
      "image/png": "[encoded data removed]",
      "text/plain": [
       "<Figure size 640x480 with 1 Axes>"
      ]
     },
     "metadata": {},
     "output_type": "display_data"
    }
   ],
   "source": [
    "# Visualization\n",
    "\n",
    "# Training Loss\n",
    "plt.plot(epochs,\n",
    "         loss,\n",
    "         'bo',\n",
    "         label='Training Loss')\n",
    "\n",
    "# Validation Loss\n",
    "plt.plot(epochs,\n",
    "         val_loss,\n",
    "         'r-',\n",
    "         label='Validation Loss')\n",
    "\n",
    "plt.xlabel('Epochs')\n",
    "plt.ylabel('Loss')\n",
    "plt.title('Reuters News Topics Prediction: Loss')\n",
    "\n",
    "plt.legend()\n",
    "plt.grid()"
   ]
  },
  {
   "cell_type": "markdown",
   "metadata": {
    "id": "r4kLxPpxIO1t"
   },
   "source": [
    "## 7.2. Accuracy Graphs"
   ]
  },
  {
   "cell_type": "code",
   "execution_count": null,
   "metadata": {
    "colab": {
     "base_uri": "https://localhost:8080/",
     "height": 472
    },
    "id": "RK5bdUsGG_h5",
    "outputId": "821b29d2-a5c4-4ddc-942e-523d39443892"
   },
   "outputs": [
    {
     "data": {
      "image/png": "[encoded data removed]",
      "text/plain": [
       "<Figure size 640x480 with 1 Axes>"
      ]
     },
     "metadata": {},
     "output_type": "display_data"
    }
   ],
   "source": [
    "# Visualization\n",
    "\n",
    "# Training Loss\n",
    "plt.plot(epochs,\n",
    "         acc,\n",
    "         'bo',\n",
    "         label='Training Accuracy')\n",
    "\n",
    "# Validation Loss\n",
    "plt.plot(epochs,\n",
    "         val_acc,\n",
    "         'r-',\n",
    "         label='Validation Accuracy')\n",
    "\n",
    "plt.xlabel('Epochs')\n",
    "plt.ylabel('Accuracy')\n",
    "plt.title('Reuters News Topics Prediction: Accuracy')\n",
    "\n",
    "plt.legend()\n",
    "plt.grid()"
   ]
  },
  {
   "cell_type": "markdown",
   "metadata": {
    "id": "4UdKye8SJqde"
   },
   "source": [
    "# 8. Evaluation with Validated Model"
   ]
  },
  {
   "cell_type": "code",
   "execution_count": null,
   "metadata": {
    "id": "giu63_17FzDT"
   },
   "outputs": [],
   "source": [
    "# Create a model\n",
    "model = models.Sequential()\n",
    "\n",
    "# Input layer\n",
    "model.add(layers.Dense(64,\n",
    "                       activation='relu',\n",
    "                       input_shape=(10000,)))\n",
    "\n",
    "# Hidden layer\n",
    "model.add(layers.Dense(64,\n",
    "                       activation='relu'))\n",
    "\n",
    "# Output layer\n",
    "model.add(layers.Dense(46,   # 46 topics\n",
    "                       activation='softmax'))  # A result belongs to a single category                       "
   ]
  },
  {
   "cell_type": "code",
   "execution_count": null,
   "metadata": {
    "id": "w0SEESOlFwaM"
   },
   "outputs": [],
   "source": [
    "# Compile\n",
    "model.compile(optimizer='rmsprop',\n",
    "              loss='categorical_crossentropy',\n",
    "              metrics=['accuracy'])"
   ]
  },
  {
   "cell_type": "code",
   "execution_count": null,
   "metadata": {
    "colab": {
     "base_uri": "https://localhost:8080/"
    },
    "id": "-rgCZ3p6DgVU",
    "outputId": "e9404b95-0c84-4788-d02b-9a6e4adac5dd"
   },
   "outputs": [
    {
     "name": "stdout",
     "output_type": "stream",
     "text": [
      "Epoch 1/11\n",
      "16/16 [==============================] - 2s 68ms/step - loss: 2.8648 - accuracy: 0.4486 - val_loss: 1.9206 - val_accuracy: 0.5890\n",
      "Epoch 2/11\n",
      "16/16 [==============================] - 1s 57ms/step - loss: 1.6207 - accuracy: 0.6553 - val_loss: 1.4302 - val_accuracy: 0.6790\n",
      "Epoch 3/11\n",
      "16/16 [==============================] - 1s 87ms/step - loss: 1.2505 - accuracy: 0.7229 - val_loss: 1.2350 - val_accuracy: 0.7250\n",
      "Epoch 4/11\n",
      "16/16 [==============================] - 1s 81ms/step - loss: 1.0328 - accuracy: 0.7752 - val_loss: 1.1184 - val_accuracy: 0.7550\n",
      "Epoch 5/11\n",
      "16/16 [==============================] - 1s 50ms/step - loss: 0.8607 - accuracy: 0.8138 - val_loss: 1.0367 - val_accuracy: 0.7730\n",
      "Epoch 6/11\n",
      "16/16 [==============================] - 1s 48ms/step - loss: 0.7214 - accuracy: 0.8447 - val_loss: 0.9920 - val_accuracy: 0.7860\n",
      "Epoch 7/11\n",
      "16/16 [==============================] - 1s 49ms/step - loss: 0.6146 - accuracy: 0.8722 - val_loss: 0.9387 - val_accuracy: 0.7870\n",
      "Epoch 8/11\n",
      "16/16 [==============================] - 1s 48ms/step - loss: 0.5126 - accuracy: 0.8923 - val_loss: 0.9016 - val_accuracy: 0.8100\n",
      "Epoch 9/11\n",
      "16/16 [==============================] - 1s 48ms/step - loss: 0.4358 - accuracy: 0.9128 - val_loss: 0.9025 - val_accuracy: 0.8000\n",
      "Epoch 10/11\n",
      "16/16 [==============================] - 1s 46ms/step - loss: 0.3709 - accuracy: 0.9222 - val_loss: 0.8713 - val_accuracy: 0.8080\n",
      "Epoch 11/11\n",
      "16/16 [==============================] - 1s 45ms/step - loss: 0.3205 - accuracy: 0.9313 - val_loss: 0.8599 - val_accuracy: 0.8130\n"
     ]
    }
   ],
   "source": [
    "# History\n",
    "history = model.fit(partial_x_train,  # Train Data\n",
    "                    partial_y_train,  # Train Data\n",
    "                    epochs=11,\n",
    "                    batch_size=512,\n",
    "                    validation_data=(x_val, y_val))   # Validation Data"
   ]
  },
  {
   "cell_type": "code",
   "execution_count": null,
   "metadata": {
    "colab": {
     "base_uri": "https://localhost:8080/"
    },
    "id": "gBbVcQ-6ormL",
    "outputId": "50f89f82-59c2-4e51-8034-0f2740157a9f"
   },
   "outputs": [
    {
     "name": "stdout",
     "output_type": "stream",
     "text": [
      "71/71 [==============================] - 0s 3ms/step - loss: 0.9400 - accuracy: 0.7850\n",
      "[0.9400326013565063, 0.7849510312080383]\n"
     ]
    }
   ],
   "source": [
    "# Evaluation\n",
    "eval_result = model.evaluate(x_test,\n",
    "                             one_hot_test_labels)     # Test Data\n",
    "\n",
    "print(eval_result)\n",
    "\n",
    "# Result\n",
    "# - Loss: 1.0564\n",
    "# - Accuracy: 0.7853"
   ]
  }
 ],
 "metadata": {
  "colab": {
   "provenance": []
  },
  "kernelspec": {
   "display_name": "Python 3 (ipykernel)",
   "language": "python",
   "name": "python3"
  },
  "language_info": {
   "codemirror_mode": {
    "name": "ipython",
    "version": 3
   },
   "file_extension": ".py",
   "mimetype": "text/x-python",
   "name": "python",
   "nbconvert_exporter": "python",
   "pygments_lexer": "ipython3",
   "version": "3.10.9"
  }
 },
 "nbformat": 4,
 "nbformat_minor": 1
}
