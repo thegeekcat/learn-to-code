{
 "cells": [
  {
   "cell_type": "markdown",
   "metadata": {
    "id": "xGYTaGcXd4Kk"
   },
   "source": [
    "# 1. Preparation"
   ]
  },
  {
   "cell_type": "code",
   "execution_count": null,
   "metadata": {
    "id": "jtJaTozKeACa"
   },
   "outputs": [],
   "source": [
    "# Import modules\n",
    "from keras.datasets import boston_housing"
   ]
  },
  {
   "cell_type": "code",
   "execution_count": null,
   "metadata": {
    "id": "ZT_YnVWOeCwy"
   },
   "outputs": [],
   "source": [
    "# Defind dataset\n",
    "(train_data, train_labels), (test_data, test_labels) = boston_housing.load_data()"
   ]
  },
  {
   "cell_type": "code",
   "execution_count": null,
   "metadata": {
    "colab": {
     "base_uri": "https://localhost:8080/"
    },
    "id": "lOijfditeH1n",
    "outputId": "357b06fb-68c2-4a25-8fff-3a4e0605e949"
   },
   "outputs": [
    {
     "name": "stdout",
     "output_type": "stream",
     "text": [
      "Train Data:  (404, 13)\n",
      "Test  Data:  (102, 13)\n"
     ]
    }
   ],
   "source": [
    "# Check a shape\n",
    "print('Train Data: ', train_data.shape)\n",
    "print('Test  Data: ', test_data.shape)\n",
    "\n",
    "# Result\n",
    "# - Number of data: 404\n",
    "# - Number of Categories: 13"
   ]
  },
  {
   "cell_type": "code",
   "execution_count": null,
   "metadata": {
    "colab": {
     "base_uri": "https://localhost:8080/"
    },
    "id": "f-4hs8jYeW_l",
    "outputId": "d6319578-125b-44e4-dc4c-0f55419c188a"
   },
   "outputs": [
    {
     "name": "stdout",
     "output_type": "stream",
     "text": [
      "[15.2 42.3 50.  21.1 17.7 18.5 11.3 15.6 15.6 14.4]\n"
     ]
    }
   ],
   "source": [
    "# Check Label data\n",
    "print(train_labels[:10])"
   ]
  },
  {
   "cell_type": "code",
   "execution_count": null,
   "metadata": {
    "colab": {
     "base_uri": "https://localhost:8080/"
    },
    "id": "jOxkP_OqemW5",
    "outputId": "0d570e39-82ac-4f0a-e364-2ae7489b8adf"
   },
   "outputs": [
    {
     "name": "stdout",
     "output_type": "stream",
     "text": [
      "[  1.23247   0.        8.14      0.        0.538     6.142    91.7\n",
      "   3.9769    4.      307.       21.      396.9      18.72   ]\n"
     ]
    }
   ],
   "source": [
    "print(train_data[0])\n",
    "\n",
    "# Result: A range of numbers are vary -> Need scaling"
   ]
  },
  {
   "cell_type": "markdown",
   "metadata": {
    "id": "A3wbm8rde3IR"
   },
   "source": [
    "# 2. Pre-Processing"
   ]
  },
  {
   "cell_type": "markdown",
   "metadata": {
    "id": "SMcoQ43ie5Nq"
   },
   "source": [
    "## 2.1. Standard Scaling by Manual"
   ]
  },
  {
   "cell_type": "code",
   "execution_count": null,
   "metadata": {
    "colab": {
     "base_uri": "https://localhost:8080/"
    },
    "id": "ELuZJiv-e64s",
    "outputId": "43d94d0a-a021-4612-af79-4c055b518afc"
   },
   "outputs": [
    {
     "name": "stdout",
     "output_type": "stream",
     "text": [
      "Mean:  [3.74511057e+00 1.14801980e+01 1.11044307e+01 6.18811881e-02\n",
      " 5.57355941e-01 6.26708168e+00 6.90106436e+01 3.74027079e+00\n",
      " 9.44059406e+00 4.05898515e+02 1.84759901e+01 3.54783168e+02\n",
      " 1.27408168e+01]\n"
     ]
    }
   ],
   "source": [
    "# Get Mean by columns\n",
    "\n",
    "#mean = train_data.mean()  # If there's no axis, a result shows a mean value of all data\n",
    "mean = train_data.mean(axis=0)  # Get mean by columns\n",
    "\n",
    "print('Mean: ', mean)\n"
   ]
  },
  {
   "cell_type": "code",
   "execution_count": null,
   "metadata": {
    "colab": {
     "base_uri": "https://localhost:8080/"
    },
    "id": "MMAk9tvmf8hi",
    "outputId": "bb95b158-26a2-44c3-c66c-2ef4825de3a5"
   },
   "outputs": [
    {
     "data": {
      "text/plain": [
       "array([9.22929073e+00, 2.37382770e+01, 6.80287253e+00, 2.40939633e-01,\n",
       "       1.17147847e-01, 7.08908627e-01, 2.79060634e+01, 2.02770050e+00,\n",
       "       8.68758849e+00, 1.66168506e+02, 2.19765689e+00, 9.39946015e+01,\n",
       "       7.24556085e+00])"
      ]
     },
     "execution_count": 7,
     "metadata": {},
     "output_type": "execute_result"
    }
   ],
   "source": [
    "# std by columns\n",
    "train_data -= mean  # train_data = train_data - mean\n",
    "\n",
    "std = train_data.std(axis=0)\n",
    "std"
   ]
  },
  {
   "cell_type": "code",
   "execution_count": null,
   "metadata": {
    "colab": {
     "base_uri": "https://localhost:8080/"
    },
    "id": "AXgZ0maIdjN_",
    "outputId": "eafbb102-df5d-49d9-f06b-237bb425b56d"
   },
   "outputs": [
    {
     "data": {
      "text/plain": [
       "array([-0.27224633, -0.48361547, -0.43576161, -0.25683275, -0.1652266 ,\n",
       "       -0.1764426 ,  0.81306188,  0.1166983 , -0.62624905, -0.59517003,\n",
       "        1.14850044,  0.44807713,  0.8252202 ])"
      ]
     },
     "execution_count": 8,
     "metadata": {},
     "output_type": "execute_result"
    }
   ],
   "source": [
    "train_data /= std\n",
    "train_data[0]"
   ]
  },
  {
   "cell_type": "markdown",
   "metadata": {
    "id": "ag7ugGewhSRx"
   },
   "source": [
    "# 3. Create a Neural Network"
   ]
  },
  {
   "cell_type": "code",
   "execution_count": null,
   "metadata": {
    "id": "TPtLMbFhhUVb"
   },
   "outputs": [],
   "source": [
    "# Import modules\n",
    "from keras import models\n",
    "from keras import layers"
   ]
  },
  {
   "cell_type": "code",
   "execution_count": null,
   "metadata": {
    "id": "aQ0DMkCVha_a"
   },
   "outputs": [],
   "source": [
    "# Create a model\n",
    "\n",
    "model = models.Sequential()\n",
    "\n",
    "# Defind a function to create a model \n",
    "# -> Reason: To use K-Fold, initializing models for each epoch is needed, so make a function to initial models easily\n",
    "\n",
    "def build_model():\n",
    "  # Input layer\n",
    "  model.add(layers.Dense(64,\n",
    "                        activation='relu',\n",
    "                        input_shape=(train_data.shape[1],)))   # Use train_data's shape instead of using (10000,) \n",
    "\n",
    "  # Hidden layer\n",
    "  model.add(layers.Dense(64,\n",
    "                        activation='relu'))\n",
    "\n",
    "  # Output layer\n",
    "  model.add(layers.Dense(1))  # No activation value as it's a linear regression model\n",
    "\n",
    "  # Compile\n",
    "  model.compile(optimizer='rmsprop',\n",
    "                loss='mse',\n",
    "                metrics=['mse'])\n",
    "  \n",
    "  return model"
   ]
  },
  {
   "cell_type": "markdown",
   "metadata": {
    "id": "LIQ3aYuv18to"
   },
   "source": [
    "# 4. Validate the Model using K-Fold"
   ]
  },
  {
   "cell_type": "markdown",
   "metadata": {
    "id": "CJzkTlhG6jx2"
   },
   "source": [
    "- K-Fold = 4\n",
    "  - V: Validation Data, T: Train Data\n",
    "  - Fold 1: [ V ][ T ][ T ][ T ]\n",
    "  - Fold 2: [ T ][ V ][ T ][ T ]\n",
    "  - Fold 3: [ T ][ T ][ V ][ T ]\n",
    "  - Fold 4: [ T ][ T ][ T ][ V ]\n",
    "  "
   ]
  },
  {
   "cell_type": "code",
   "execution_count": null,
   "metadata": {
    "id": "EQpKFCKbhUZN"
   },
   "outputs": [],
   "source": [
    "# Import modules\n",
    "import numpy as np"
   ]
  },
  {
   "cell_type": "code",
   "execution_count": null,
   "metadata": {
    "colab": {
     "base_uri": "https://localhost:8080/"
    },
    "id": "WGiYPeUA2K2l",
    "outputId": "06c9fa49-51e2-4489-8682-c5cf76ba908d"
   },
   "outputs": [
    {
     "name": "stdout",
     "output_type": "stream",
     "text": [
      "101\n"
     ]
    }
   ],
   "source": [
    "# Number of K-Fold\n",
    "k = 4\n",
    "\n",
    "# Number of data in each Fold\n",
    "num_val_samples = len(train_data) // 4  # \n",
    "print(num_val_samples)"
   ]
  },
  {
   "cell_type": "code",
   "execution_count": null,
   "metadata": {
    "colab": {
     "base_uri": "https://localhost:8080/"
    },
    "id": "oY0kZhZahUbU",
    "outputId": "927f2c70-71ce-4d01-b001-6c86187269b4"
   },
   "outputs": [
    {
     "name": "stdout",
     "output_type": "stream",
     "text": [
      "The curruent Fold in progress is: #  0\n",
      "Model: \"sequential\"\n",
      "_________________________________________________________________\n",
      " Layer (type)                Output Shape              Param #   \n",
      "=================================================================\n",
      " dense (Dense)               (None, 64)                896       \n",
      "                                                                 \n",
      " dense_1 (Dense)             (None, 64)                4160      \n",
      "                                                                 \n",
      " dense_2 (Dense)             (None, 1)                 65        \n",
      "                                                                 \n",
      "=================================================================\n",
      "Total params: 5,121\n",
      "Trainable params: 5,121\n",
      "Non-trainable params: 0\n",
      "_________________________________________________________________\n",
      "4/4 [==============================] - 0s 7ms/step - loss: 8.6604 - mse: 8.6604\n",
      "8.660383224487305 8.660383224487305\n",
      "The curruent Fold in progress is: #  1\n",
      "Model: \"sequential\"\n",
      "_________________________________________________________________\n",
      " Layer (type)                Output Shape              Param #   \n",
      "=================================================================\n",
      " dense (Dense)               (None, 64)                896       \n",
      "                                                                 \n",
      " dense_1 (Dense)             (None, 64)                4160      \n",
      "                                                                 \n",
      " dense_2 (Dense)             (None, 1)                 65        \n",
      "                                                                 \n",
      " dense_3 (Dense)             (None, 64)                128       \n",
      "                                                                 \n",
      " dense_4 (Dense)             (None, 64)                4160      \n",
      "                                                                 \n",
      " dense_5 (Dense)             (None, 1)                 65        \n",
      "                                                                 \n",
      "=================================================================\n",
      "Total params: 9,474\n",
      "Trainable params: 9,474\n",
      "Non-trainable params: 0\n",
      "_________________________________________________________________\n",
      "4/4 [==============================] - 0s 6ms/step - loss: 10.2357 - mse: 10.2357\n",
      "10.235672950744629 10.235672950744629\n",
      "The curruent Fold in progress is: #  2\n",
      "Model: \"sequential\"\n",
      "_________________________________________________________________\n",
      " Layer (type)                Output Shape              Param #   \n",
      "=================================================================\n",
      " dense (Dense)               (None, 64)                896       \n",
      "                                                                 \n",
      " dense_1 (Dense)             (None, 64)                4160      \n",
      "                                                                 \n",
      " dense_2 (Dense)             (None, 1)                 65        \n",
      "                                                                 \n",
      " dense_3 (Dense)             (None, 64)                128       \n",
      "                                                                 \n",
      " dense_4 (Dense)             (None, 64)                4160      \n",
      "                                                                 \n",
      " dense_5 (Dense)             (None, 1)                 65        \n",
      "                                                                 \n",
      " dense_6 (Dense)             (None, 64)                128       \n",
      "                                                                 \n",
      " dense_7 (Dense)             (None, 64)                4160      \n",
      "                                                                 \n",
      " dense_8 (Dense)             (None, 1)                 65        \n",
      "                                                                 \n",
      "=================================================================\n",
      "Total params: 13,827\n",
      "Trainable params: 13,827\n",
      "Non-trainable params: 0\n",
      "_________________________________________________________________\n",
      "4/4 [==============================] - 0s 5ms/step - loss: 12.4885 - mse: 12.4885\n",
      "12.488473892211914 12.488473892211914\n",
      "The curruent Fold in progress is: #  3\n",
      "Model: \"sequential\"\n",
      "_________________________________________________________________\n",
      " Layer (type)                Output Shape              Param #   \n",
      "=================================================================\n",
      " dense (Dense)               (None, 64)                896       \n",
      "                                                                 \n",
      " dense_1 (Dense)             (None, 64)                4160      \n",
      "                                                                 \n",
      " dense_2 (Dense)             (None, 1)                 65        \n",
      "                                                                 \n",
      " dense_3 (Dense)             (None, 64)                128       \n",
      "                                                                 \n",
      " dense_4 (Dense)             (None, 64)                4160      \n",
      "                                                                 \n",
      " dense_5 (Dense)             (None, 1)                 65        \n",
      "                                                                 \n",
      " dense_6 (Dense)             (None, 64)                128       \n",
      "                                                                 \n",
      " dense_7 (Dense)             (None, 64)                4160      \n",
      "                                                                 \n",
      " dense_8 (Dense)             (None, 1)                 65        \n",
      "                                                                 \n",
      " dense_9 (Dense)             (None, 64)                128       \n",
      "                                                                 \n",
      " dense_10 (Dense)            (None, 64)                4160      \n",
      "                                                                 \n",
      " dense_11 (Dense)            (None, 1)                 65        \n",
      "                                                                 \n",
      "=================================================================\n",
      "Total params: 18,180\n",
      "Trainable params: 18,180\n",
      "Non-trainable params: 0\n",
      "_________________________________________________________________\n",
      "4/4 [==============================] - 0s 4ms/step - loss: 7.8128 - mse: 7.8128\n",
      "7.812751770019531 7.812751770019531\n"
     ]
    }
   ],
   "source": [
    "# Make an empty list for results\n",
    "all_scores = []\n",
    "\n",
    "\n",
    "for i in range(k):  # Repeat 4 times\n",
    "  print('The curruent Fold in progress is: # ', i)\n",
    "\n",
    "  # Find the start and end values in each Fold\n",
    "  # val_data = i * num_val_samples            # Start\n",
    "  # val_data_end = (i + 1) * num_val_samples  # End\n",
    "\n",
    "  # Prepare Validation Data\n",
    "  val_data = train_data[i * num_val_samples: (i + 1) * num_val_samples]\n",
    "  val_labels = train_labels[i * num_val_samples: (i + 1) * num_val_samples]\n",
    "\n",
    "  # Prepare Train Data\n",
    "  # Train Data can be 1 or 2\n",
    "  #   - Fold 1: [ V ][ T ][ T ][ T ]  -> One group:   ( v )[ T ][ T ][ T ]\n",
    "  #   - Fold 2: [ T ][ V ][ T ][ T ]  -> Two groups:  [ T ]( v )[ T ][ T ]\n",
    "  #   - Fold 3: [ T ][ T ][ V ][ T ]  -> Two groups:  [ T ][ T ]( v )[ T ]\n",
    "  #   - Fold 4: [ T ][ T ][ T ][ V ]  -> One group:   [ T ][ T ][ T ]( v )\n",
    "  data1 = train_data[:i * num_val_samples]\n",
    "  #print(' - Train group 1: ', 0, '-', i * num_val_samples)\n",
    "  data2 = train_data[(i+1) * num_val_samples :]\n",
    "  #print(' - Train group 2: ', (i+1) * num_val_samples, '-', 404)\n",
    "\n",
    "  # Prepare Label Data\n",
    "  data1_labels = train_labels[:i * num_val_samples]\n",
    "  data2_labels = train_labels[(i+1) * num_val_samples :]\n",
    "\n",
    "  # Get train data and labels\n",
    "  partial_train_data = np.concatenate([data1, data2], axis=0) # Combine data1 and data2 based by columns\n",
    "  partial_train_labels = np.concatenate([data1_labels, data2_labels], axis=0)\n",
    "\n",
    "  # Create a neural network\n",
    "  model = build_model()\n",
    "  model.summary()   # Summary the model\n",
    "  model.fit(partial_train_data, \n",
    "            partial_train_labels, \n",
    "            epochs=100, \n",
    "            batch_size=128,\n",
    "            verbose=0)  # Option to print out training processes as training times are over 400 times\n",
    "  \n",
    "  # Validate the model\n",
    "  val_mse, val_mae = model.evaluate(val_data, val_labels)\n",
    "  print(val_mse, val_mae)\n",
    "  all_scores.append(val_mae)\n"
   ]
  },
  {
   "cell_type": "code",
   "execution_count": null,
   "metadata": {
    "colab": {
     "base_uri": "https://localhost:8080/"
    },
    "id": "hVTJc607hUeH",
    "outputId": "0eb5fb55-2719-44f1-f3cf-88e2efe4ba81"
   },
   "outputs": [
    {
     "data": {
      "text/plain": [
       "[8.660383224487305, 10.235672950744629, 12.488473892211914, 7.812751770019531]"
      ]
     },
     "execution_count": 14,
     "metadata": {},
     "output_type": "execute_result"
    }
   ],
   "source": [
    "# Check scores\n",
    "all_scores"
   ]
  },
  {
   "cell_type": "code",
   "execution_count": null,
   "metadata": {
    "id": "gxpQAYrFhUf4"
   },
   "outputs": [],
   "source": [
    "# Need visualization by myself"
   ]
  },
  {
   "cell_type": "code",
   "execution_count": null,
   "metadata": {
    "id": "FYc7GsyJhUho"
   },
   "outputs": [],
   "source": []
  }
 ],
 "metadata": {
  "colab": {
   "provenance": []
  },
  "kernelspec": {
   "display_name": "Python 3 (ipykernel)",
   "language": "python",
   "name": "python3"
  },
  "language_info": {
   "codemirror_mode": {
    "name": "ipython",
    "version": 3
   },
   "file_extension": ".py",
   "mimetype": "text/x-python",
   "name": "python",
   "nbconvert_exporter": "python",
   "pygments_lexer": "ipython3",
   "version": "3.10.9"
  }
 },
 "nbformat": 4,
 "nbformat_minor": 1
}
