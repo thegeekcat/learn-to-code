{
 "cells": [
  {
   "cell_type": "markdown",
   "id": "f888992a",
   "metadata": {},
   "source": [
    "- Covariance\n",
    "  - Indicates the relationship and direction between two variables\n",
    "  - Correlation Coefficient\n",
    "     - Positive: Both variables increase/decrease together\n",
    "     - Negative: One variable increases when another variable decreases\n",
    "\n",
    "- Correlation Matrix\n",
    "  - The normalization of covariance\n",
    "  - Show linear relationships between variables\n",
    "  - Standardize the covariance matrix -> to show the Correlation Coefficients between variables\n",
    "  - Correlation Coefficient (Between -1 and +1)\n",
    "     - +1: Strong positive correlation\n",
    "     - 0: No linear relationship\n",
    "     - -1: Strong negative correlation"
   ]
  },
  {
   "cell_type": "markdown",
   "id": "ed427159",
   "metadata": {},
   "source": [
    "# 1. Basics"
   ]
  },
  {
   "cell_type": "code",
   "execution_count": 1,
   "id": "ff370b8d",
   "metadata": {},
   "outputs": [],
   "source": [
    "# Import modules\n",
    "import numpy as np"
   ]
  },
  {
   "cell_type": "code",
   "execution_count": 2,
   "id": "1e66bdf5",
   "metadata": {},
   "outputs": [
    {
     "data": {
      "text/plain": [
       "(array([1, 2, 3, 4, 5]),\n",
       " array([ 2,  4,  6,  8, 10]),\n",
       " array([ 3,  6,  9, 12, 15]))"
      ]
     },
     "execution_count": 2,
     "metadata": {},
     "output_type": "execute_result"
    }
   ],
   "source": [
    "# Generate data\n",
    "x = np.array([1, 2, 3, 4, 5])\n",
    "y = np.array([2, 4, 6, 8, 10])\n",
    "z = np.array([3, 6, 9, 12, 15])\n",
    "\n",
    "x, y, z"
   ]
  },
  {
   "cell_type": "code",
   "execution_count": 7,
   "id": "93919477",
   "metadata": {},
   "outputs": [
    {
     "name": "stdout",
     "output_type": "stream",
     "text": [
      "Covariance Matrix:\n",
      "[[ 2.5  5.   7.5]\n",
      " [ 5.  10.  15. ]\n",
      " [ 7.5 15.  22.5]]\n"
     ]
    }
   ],
   "source": [
    "# Calculate Covariance\n",
    "cov_matrix = np.cov([x, y, z])\n",
    "\n",
    "print('Covariance Matrix:')\n",
    "print(cov_matrix)\n",
    "\n",
    "# Result:\n",
    "# '(1,1)=10' => Covariance of variable Y and its own variable Y"
   ]
  },
  {
   "cell_type": "code",
   "execution_count": 6,
   "id": "f23b9405",
   "metadata": {},
   "outputs": [
    {
     "name": "stdout",
     "output_type": "stream",
     "text": [
      "Correlation Matrix: \n",
      "[[1. 1. 1.]\n",
      " [1. 1. 1.]\n",
      " [1. 1. 1.]]\n"
     ]
    }
   ],
   "source": [
    "# Calculate Correlation Matrix\n",
    "cor_matrix = np.corrcoef([x, y, z])\n",
    "\n",
    "print('Correlation Matrix: ')\n",
    "print(cor_matrix)"
   ]
  },
  {
   "cell_type": "markdown",
   "id": "6fed9d86",
   "metadata": {},
   "source": [
    "# 2. Select Variables and Determine Multicollinearity"
   ]
  },
  {
   "cell_type": "code",
   "execution_count": 8,
   "id": "15e0cb4d",
   "metadata": {},
   "outputs": [],
   "source": [
    "# Import modules\n",
    "import numpy as np"
   ]
  },
  {
   "cell_type": "code",
   "execution_count": 11,
   "id": "84f2d82f",
   "metadata": {},
   "outputs": [
    {
     "data": {
      "text/plain": [
       "(array([1, 2, 3, 4, 5]),\n",
       " array([ 2,  4,  6,  8, 10]),\n",
       " array([ 3,  6,  9, 12, 15]))"
      ]
     },
     "execution_count": 11,
     "metadata": {},
     "output_type": "execute_result"
    }
   ],
   "source": [
    "# Generate data\n",
    "x1 = np.array([1, 2, 3, 4, 5])\n",
    "x2 = np.array([2, 4, 6, 8, 10])\n",
    "x3 = np.array([3, 6, 9, 12, 15])\n",
    "\n",
    "x1, x2, x3"
   ]
  },
  {
   "cell_type": "code",
   "execution_count": 12,
   "id": "708536b8",
   "metadata": {},
   "outputs": [
    {
     "data": {
      "text/plain": [
       "array([[ 1,  2,  3,  4,  5],\n",
       "       [ 2,  4,  6,  8, 10],\n",
       "       [ 3,  6,  9, 12, 15]])"
      ]
     },
     "execution_count": 12,
     "metadata": {},
     "output_type": "execute_result"
    }
   ],
   "source": [
    "# Create a matrix\n",
    "data = np.vstack([x1, x2, x3])\n",
    "\n",
    "data"
   ]
  },
  {
   "cell_type": "code",
   "execution_count": 16,
   "id": "2518a5df",
   "metadata": {},
   "outputs": [
    {
     "name": "stdout",
     "output_type": "stream",
     "text": [
      "Correlation Coefficients: \n",
      "[[1. 1. 1. 1. 1.]\n",
      " [1. 1. 1. 1. 1.]\n",
      " [1. 1. 1. 1. 1.]\n",
      " [1. 1. 1. 1. 1.]\n",
      " [1. 1. 1. 1. 1.]]\n"
     ]
    }
   ],
   "source": [
    "# Calculate Correlation Coefficient Matrix\n",
    "cor_matrix = np.corrcoef(data, rowvar=False)  # 'rowvar': An option whether the Correlation Coefficients are computed or not\n",
    "\n",
    "print('Correlation Coefficients: ')\n",
    "print(cor_matrix)"
   ]
  },
  {
   "cell_type": "code",
   "execution_count": 17,
   "id": "08f5df9f",
   "metadata": {},
   "outputs": [
    {
     "name": "stdout",
     "output_type": "stream",
     "text": [
      "\n",
      "Variables with High Multicollinearity: \n",
      "Variable 1 and Variable 2\n",
      "Variable 1 and Variable 3\n",
      "Variable 1 and Variable 4\n",
      "Variable 1 and Variable 5\n",
      "Variable 2 and Variable 3\n",
      "Variable 2 and Variable 4\n",
      "Variable 2 and Variable 5\n",
      "Variable 3 and Variable 4\n",
      "Variable 3 and Variable 5\n",
      "Variable 4 and Variable 5\n"
     ]
    }
   ],
   "source": [
    "# Determine Multicollinearity\n",
    "threshold = 0.7\n",
    "\n",
    "print('\\nVariables with High Multicollinearity: ')\n",
    "for i in range(cor_matrix.shape[0]):\n",
    "    for j in range(i+1, cor_matrix.shape[1]):\n",
    "        if abs(cor_matrix[i, j]) > threshold:\n",
    "            print(f'Variable {i+1} and Variable {j+1}')\n",
    "            \n",
    "\n",
    "# Result: There's a high multicollinearity"
   ]
  },
  {
   "cell_type": "markdown",
   "id": "5825f029",
   "metadata": {},
   "source": [
    "# 3. Dimension Reduction"
   ]
  },
  {
   "cell_type": "code",
   "execution_count": 23,
   "id": "10053405",
   "metadata": {},
   "outputs": [],
   "source": [
    "# Import modules\n",
    "import numpy as np\n",
    "import pandas as pd\n",
    "import matplotlib.pyplot as plt\n",
    "import seaborn as sns"
   ]
  },
  {
   "cell_type": "code",
   "execution_count": 19,
   "id": "c6a6a54f",
   "metadata": {},
   "outputs": [
    {
     "data": {
      "text/plain": [
       "(array([ 0.77285479,  0.00529994,  0.78083228,  0.73110966, -0.19648466,\n",
       "        -1.93905854, -0.10326973,  1.35126118,  0.02293421,  0.15204644,\n",
       "        -0.91654456,  2.34018096, -0.6994659 ,  0.12854695, -0.74837809,\n",
       "        -0.01211049, -1.69430192, -0.81360384, -0.68171489, -0.36379622,\n",
       "        -0.59380409,  0.38298516,  1.75273048, -0.08263337,  0.44431111,\n",
       "        -0.25395491,  1.40420359, -0.01952881,  0.7266569 ,  1.48906456,\n",
       "        -0.40791572, -0.57931597,  0.8005555 , -1.4857369 , -1.15427673,\n",
       "        -1.04565651, -1.44063792, -1.06629545, -1.26246805,  0.57774193,\n",
       "        -0.68593579, -0.27120025,  1.7089473 ,  0.62497759, -1.65822655,\n",
       "        -1.55964526, -0.42327878, -1.36202791, -0.25213194,  1.26169027,\n",
       "        -1.47563261,  0.84488555, -1.69237078,  0.05592695,  0.13080937,\n",
       "         0.50392139,  2.22770373, -0.35839203,  1.21780233, -0.42554968,\n",
       "        -0.28762706, -0.47124988, -0.0144256 ,  0.24165041, -1.88943081,\n",
       "        -0.5960994 ,  1.78870496, -0.17813852, -0.32752072, -1.24342223,\n",
       "        -0.46179222, -0.18681617,  0.75729904,  1.52065711,  0.18078303,\n",
       "        -1.15085225, -0.73744923, -1.39660457, -0.15663685,  0.41536311,\n",
       "         2.01319349, -0.63325636, -0.72807643,  1.0754442 , -1.89443078,\n",
       "         0.72753587, -1.33445072,  0.39612719, -0.78897692,  0.33381512,\n",
       "        -0.49186678, -0.63488311,  0.97256331,  0.04608115,  0.55194541,\n",
       "         0.57168522,  0.81260352, -0.49565383,  0.81041009,  0.09835021]),\n",
       " array([-0.78511166,  0.54812458,  2.59308112,  2.07804612,  0.61054144,\n",
       "         0.18650262, -1.05911533,  0.46369865, -0.44001782, -0.08318866,\n",
       "        -0.74434372, -0.55042478, -0.91531341, -1.30321065, -0.41174183,\n",
       "         1.25462609, -1.34158616, -0.68101459,  0.3733151 , -0.76461125,\n",
       "         0.18099865,  0.29653092,  0.13082082,  0.87336308, -0.12558241,\n",
       "        -0.0817265 ,  1.24917394,  1.42986953,  0.57303454,  0.08248051,\n",
       "        -1.19735594,  0.19965016, -1.64443004, -0.5030537 , -0.21974874,\n",
       "        -0.88588202,  0.67781071, -0.00669101,  0.19212646, -0.7718388 ,\n",
       "         1.54273931,  0.84493133,  0.7885374 ,  0.4574404 ,  0.81862929,\n",
       "         0.68699775,  1.08686935, -0.48861355, -0.42908226,  1.08830943,\n",
       "         0.21463587,  0.32799232,  1.58651521, -0.09609776, -1.02580306,\n",
       "        -0.27356975, -0.79666778, -1.06448843, -0.00386557, -0.26833071,\n",
       "        -0.46986532, -2.10844807, -0.12852084, -0.66174245,  0.86623011,\n",
       "         0.28585342,  0.09223775, -0.41018404, -0.8762191 , -0.13154682,\n",
       "        -0.24797148, -0.96108049, -0.34819496, -0.1843963 , -0.65572782,\n",
       "        -0.61769842,  1.54459995, -0.15760318,  1.28343315, -0.70660197,\n",
       "        -0.58537534, -0.40172992,  0.92534848,  0.62811792, -0.7407523 ,\n",
       "        -0.2434457 , -0.23768684, -0.48133369, -0.56841297, -0.01913157,\n",
       "         0.27334241, -0.69207849,  1.38751376,  0.178735  , -0.78048941,\n",
       "        -0.52710241, -1.06066596,  1.45965186,  0.33521722,  0.90008377]),\n",
       " array([-0.84629947, -0.3446794 , -1.01584591,  0.02878218, -0.61390175,\n",
       "         0.3346513 ,  0.94507384,  1.28677854, -1.60552649,  0.67154777,\n",
       "         2.24376597, -0.50492264,  0.61325437, -0.58116171, -1.61879654,\n",
       "        -0.2125983 , -1.06446761, -2.13387146, -0.7367464 ,  0.68102136,\n",
       "         1.35568062, -0.86070605, -1.40651398, -1.320059  , -0.00651037,\n",
       "         0.56715213,  0.09949045, -1.41568404, -0.77676491,  0.60235602,\n",
       "        -0.79889549, -0.13888154,  0.83596506,  0.76175001,  1.45428144,\n",
       "         1.43859638,  0.88734025,  1.05168257,  0.17911293, -0.70590084,\n",
       "        -3.09624024,  0.49235356, -1.23878676, -0.04731786,  1.79463895,\n",
       "        -0.0300523 ,  1.20733171,  2.2035354 ,  0.50125682,  0.74221716,\n",
       "         0.80959721,  0.36795824,  0.72476328, -0.14478406,  0.65736218,\n",
       "         0.25338664, -1.99293971,  2.00553739, -0.41631153,  0.64706664,\n",
       "         1.63425724,  0.09434412, -1.43932357,  0.80419795,  0.19114465,\n",
       "        -1.49886446, -0.08008996,  0.34840786, -1.21287177, -0.96357019,\n",
       "         0.62406921, -0.44868864, -0.22322154,  0.10125729,  0.12515451,\n",
       "        -2.4486731 , -0.44507981, -1.45420725, -1.96348078,  1.77301452,\n",
       "         0.01431081,  0.66534331, -2.86216781,  1.23794451,  0.55637968,\n",
       "        -0.4652477 ,  0.86537495,  0.4090776 , -0.45218925, -1.5267975 ,\n",
       "        -0.19496798, -0.6406024 , -0.27046724,  0.77759233,  2.55751967,\n",
       "         0.3023786 ,  1.78989697, -0.00548446, -0.13622797, -0.5786496 ]))"
      ]
     },
     "execution_count": 19,
     "metadata": {},
     "output_type": "execute_result"
    }
   ],
   "source": [
    "# Generate data\n",
    "x1 = np.random.normal(0, 1, 100)\n",
    "x2 = np.random.normal(0, 1, 100)\n",
    "x3 = np.random.normal(0, 1, 100)\n",
    "\n",
    "x1, x2, x3"
   ]
  },
  {
   "cell_type": "code",
   "execution_count": 26,
   "id": "f9dbb4eb",
   "metadata": {},
   "outputs": [
    {
     "data": {
      "text/plain": [
       "array([[ 0.77285479, -0.78511166, -0.84629947],\n",
       "       [ 0.00529994,  0.54812458, -0.3446794 ],\n",
       "       [ 0.78083228,  2.59308112, -1.01584591],\n",
       "       [ 0.73110966,  2.07804612,  0.02878218],\n",
       "       [-0.19648466,  0.61054144, -0.61390175],\n",
       "       [-1.93905854,  0.18650262,  0.3346513 ],\n",
       "       [-0.10326973, -1.05911533,  0.94507384],\n",
       "       [ 1.35126118,  0.46369865,  1.28677854],\n",
       "       [ 0.02293421, -0.44001782, -1.60552649],\n",
       "       [ 0.15204644, -0.08318866,  0.67154777],\n",
       "       [-0.91654456, -0.74434372,  2.24376597],\n",
       "       [ 2.34018096, -0.55042478, -0.50492264],\n",
       "       [-0.6994659 , -0.91531341,  0.61325437],\n",
       "       [ 0.12854695, -1.30321065, -0.58116171],\n",
       "       [-0.74837809, -0.41174183, -1.61879654],\n",
       "       [-0.01211049,  1.25462609, -0.2125983 ],\n",
       "       [-1.69430192, -1.34158616, -1.06446761],\n",
       "       [-0.81360384, -0.68101459, -2.13387146],\n",
       "       [-0.68171489,  0.3733151 , -0.7367464 ],\n",
       "       [-0.36379622, -0.76461125,  0.68102136],\n",
       "       [-0.59380409,  0.18099865,  1.35568062],\n",
       "       [ 0.38298516,  0.29653092, -0.86070605],\n",
       "       [ 1.75273048,  0.13082082, -1.40651398],\n",
       "       [-0.08263337,  0.87336308, -1.320059  ],\n",
       "       [ 0.44431111, -0.12558241, -0.00651037],\n",
       "       [-0.25395491, -0.0817265 ,  0.56715213],\n",
       "       [ 1.40420359,  1.24917394,  0.09949045],\n",
       "       [-0.01952881,  1.42986953, -1.41568404],\n",
       "       [ 0.7266569 ,  0.57303454, -0.77676491],\n",
       "       [ 1.48906456,  0.08248051,  0.60235602],\n",
       "       [-0.40791572, -1.19735594, -0.79889549],\n",
       "       [-0.57931597,  0.19965016, -0.13888154],\n",
       "       [ 0.8005555 , -1.64443004,  0.83596506],\n",
       "       [-1.4857369 , -0.5030537 ,  0.76175001],\n",
       "       [-1.15427673, -0.21974874,  1.45428144],\n",
       "       [-1.04565651, -0.88588202,  1.43859638],\n",
       "       [-1.44063792,  0.67781071,  0.88734025],\n",
       "       [-1.06629545, -0.00669101,  1.05168257],\n",
       "       [-1.26246805,  0.19212646,  0.17911293],\n",
       "       [ 0.57774193, -0.7718388 , -0.70590084],\n",
       "       [-0.68593579,  1.54273931, -3.09624024],\n",
       "       [-0.27120025,  0.84493133,  0.49235356],\n",
       "       [ 1.7089473 ,  0.7885374 , -1.23878676],\n",
       "       [ 0.62497759,  0.4574404 , -0.04731786],\n",
       "       [-1.65822655,  0.81862929,  1.79463895],\n",
       "       [-1.55964526,  0.68699775, -0.0300523 ],\n",
       "       [-0.42327878,  1.08686935,  1.20733171],\n",
       "       [-1.36202791, -0.48861355,  2.2035354 ],\n",
       "       [-0.25213194, -0.42908226,  0.50125682],\n",
       "       [ 1.26169027,  1.08830943,  0.74221716],\n",
       "       [-1.47563261,  0.21463587,  0.80959721],\n",
       "       [ 0.84488555,  0.32799232,  0.36795824],\n",
       "       [-1.69237078,  1.58651521,  0.72476328],\n",
       "       [ 0.05592695, -0.09609776, -0.14478406],\n",
       "       [ 0.13080937, -1.02580306,  0.65736218],\n",
       "       [ 0.50392139, -0.27356975,  0.25338664],\n",
       "       [ 2.22770373, -0.79666778, -1.99293971],\n",
       "       [-0.35839203, -1.06448843,  2.00553739],\n",
       "       [ 1.21780233, -0.00386557, -0.41631153],\n",
       "       [-0.42554968, -0.26833071,  0.64706664],\n",
       "       [-0.28762706, -0.46986532,  1.63425724],\n",
       "       [-0.47124988, -2.10844807,  0.09434412],\n",
       "       [-0.0144256 , -0.12852084, -1.43932357],\n",
       "       [ 0.24165041, -0.66174245,  0.80419795],\n",
       "       [-1.88943081,  0.86623011,  0.19114465],\n",
       "       [-0.5960994 ,  0.28585342, -1.49886446],\n",
       "       [ 1.78870496,  0.09223775, -0.08008996],\n",
       "       [-0.17813852, -0.41018404,  0.34840786],\n",
       "       [-0.32752072, -0.8762191 , -1.21287177],\n",
       "       [-1.24342223, -0.13154682, -0.96357019],\n",
       "       [-0.46179222, -0.24797148,  0.62406921],\n",
       "       [-0.18681617, -0.96108049, -0.44868864],\n",
       "       [ 0.75729904, -0.34819496, -0.22322154],\n",
       "       [ 1.52065711, -0.1843963 ,  0.10125729],\n",
       "       [ 0.18078303, -0.65572782,  0.12515451],\n",
       "       [-1.15085225, -0.61769842, -2.4486731 ],\n",
       "       [-0.73744923,  1.54459995, -0.44507981],\n",
       "       [-1.39660457, -0.15760318, -1.45420725],\n",
       "       [-0.15663685,  1.28343315, -1.96348078],\n",
       "       [ 0.41536311, -0.70660197,  1.77301452],\n",
       "       [ 2.01319349, -0.58537534,  0.01431081],\n",
       "       [-0.63325636, -0.40172992,  0.66534331],\n",
       "       [-0.72807643,  0.92534848, -2.86216781],\n",
       "       [ 1.0754442 ,  0.62811792,  1.23794451],\n",
       "       [-1.89443078, -0.7407523 ,  0.55637968],\n",
       "       [ 0.72753587, -0.2434457 , -0.4652477 ],\n",
       "       [-1.33445072, -0.23768684,  0.86537495],\n",
       "       [ 0.39612719, -0.48133369,  0.4090776 ],\n",
       "       [-0.78897692, -0.56841297, -0.45218925],\n",
       "       [ 0.33381512, -0.01913157, -1.5267975 ],\n",
       "       [-0.49186678,  0.27334241, -0.19496798],\n",
       "       [-0.63488311, -0.69207849, -0.6406024 ],\n",
       "       [ 0.97256331,  1.38751376, -0.27046724],\n",
       "       [ 0.04608115,  0.178735  ,  0.77759233],\n",
       "       [ 0.55194541, -0.78048941,  2.55751967],\n",
       "       [ 0.57168522, -0.52710241,  0.3023786 ],\n",
       "       [ 0.81260352, -1.06066596,  1.78989697],\n",
       "       [-0.49565383,  1.45965186, -0.00548446],\n",
       "       [ 0.81041009,  0.33521722, -0.13622797],\n",
       "       [ 0.09835021,  0.90008377, -0.5786496 ]])"
      ]
     },
     "execution_count": 26,
     "metadata": {},
     "output_type": "execute_result"
    }
   ],
   "source": [
    "# Create a data matrix\n",
    "data = np.vstack([x1, x2, x3]).T\n",
    "\n",
    "data"
   ]
  },
  {
   "cell_type": "code",
   "execution_count": 27,
   "id": "8883ced3",
   "metadata": {},
   "outputs": [
    {
     "data": {
      "text/plain": [
       "array([[ 1.        ,  0.03088219, -0.09908164],\n",
       "       [ 0.03088219,  1.        , -0.20135096],\n",
       "       [-0.09908164, -0.20135096,  1.        ]])"
      ]
     },
     "execution_count": 27,
     "metadata": {},
     "output_type": "execute_result"
    }
   ],
   "source": [
    "# calcualte Correlation Coefficients\n",
    "cor_matrix = np.corrcoef(data, rowvar=False).T\n",
    "\n",
    "cor_matrix"
   ]
  },
  {
   "cell_type": "code",
   "execution_count": 28,
   "id": "717e42b7",
   "metadata": {},
   "outputs": [
    {
     "data": {
      "image/png": "[encoded data removed]",
      "text/plain": [
       "<Figure size 800x600 with 2 Axes>"
      ]
     },
     "metadata": {},
     "output_type": "display_data"
    }
   ],
   "source": [
    "# Visualization: Heatmap\n",
    "plt.figure(figsize=(8, 6))\n",
    "sns.heatmap(cor_matrix, annot=True, cmap='coolwarm')\n",
    "\n",
    "plt.title('Correlation Matrix')\n",
    "\n",
    "plt.show()"
   ]
  },
  {
   "cell_type": "code",
   "execution_count": 44,
   "id": "21181079",
   "metadata": {},
   "outputs": [
    {
     "data": {
      "text/plain": [
       "[0, 1, 0, 2, 1, 2]"
      ]
     },
     "execution_count": 44,
     "metadata": {},
     "output_type": "execute_result"
    }
   ],
   "source": [
    "# Select variables with an absolute value of the Correlation Coefficient above a certain threshold\n",
    "threshold = -0.01\n",
    "\n",
    "selected_vars = []  # Create an empty matrix\n",
    "\n",
    "for i in range(cor_matrix.shape[0]):\n",
    "    for j in range(i+1, cor_matrix.shape[1]):\n",
    "        if abs(cor_matrix[i, j]) > threshold:\n",
    "            selected_vars.extend([i, j])\n",
    "            \n",
    "\n",
    "selected_vars    "
   ]
  },
  {
   "cell_type": "code",
   "execution_count": 45,
   "id": "d9d02b2b",
   "metadata": {},
   "outputs": [
    {
     "data": {
      "image/png": "[encoded data removed]",
      "text/plain": [
       "<Figure size 800x600 with 1 Axes>"
      ]
     },
     "metadata": {},
     "output_type": "display_data"
    }
   ],
   "source": [
    "# Generate dimensional data with selected variables\n",
    "if selected_vars:\n",
    "    reduced_data = data[:, list(set(selected_vars))]\n",
    "    \n",
    "    # Visualization\n",
    "    plt.figure(figsize=(8, 6))\n",
    "    plt.scatter(reduced_data[:, 0], reduced_data[:, 1])\n",
    "    plt.xlabel('Reduced Variable 1')\n",
    "    plt.ylabel('Reduced Variable 2')\n",
    "    plt.title('Dimentionality Reduced Data')\n",
    "    plt.show()\n",
    "else:\n",
    "    print('No dimension reduction as no variables were selected')"
   ]
  }
 ],
 "metadata": {
  "kernelspec": {
   "display_name": "AI",
   "language": "python",
   "name": "ai"
  },
  "language_info": {
   "codemirror_mode": {
    "name": "ipython",
    "version": 3
   },
   "file_extension": ".py",
   "mimetype": "text/x-python",
   "name": "python",
   "nbconvert_exporter": "python",
   "pygments_lexer": "ipython3",
   "version": "3.8.16"
  }
 },
 "nbformat": 4,
 "nbformat_minor": 5
}
