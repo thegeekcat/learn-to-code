{
 "cells": [
  {
   "cell_type": "markdown",
   "id": "57583b00",
   "metadata": {},
   "source": [
    "# 1. Basics"
   ]
  },
  {
   "cell_type": "markdown",
   "id": "3b62a2b2",
   "metadata": {},
   "source": [
    "- Types of Test\n",
    "  - Parametric Test: F-Test, T-Test, Chisquare Test etc.\n",
    "  - Non-Parametric Test: Wilcoxon Signed Rank Test, Wilcoxon Mann-Whitney Test etc."
   ]
  },
  {
   "cell_type": "code",
   "execution_count": 241,
   "id": "1d3a9ba3",
   "metadata": {},
   "outputs": [],
   "source": [
    "# Import modules\n",
    "import numpy as np\n",
    "from scipy import stats"
   ]
  },
  {
   "cell_type": "code",
   "execution_count": 242,
   "id": "50bfe3cd",
   "metadata": {},
   "outputs": [],
   "source": [
    "# Set a seed value for generating data\n",
    "np.random.seed(85)"
   ]
  },
  {
   "cell_type": "code",
   "execution_count": 246,
   "id": "68bd118b",
   "metadata": {},
   "outputs": [
    {
     "name": "stdout",
     "output_type": "stream",
     "text": [
      "[ 1.09740483  0.48224082  1.16098554 -1.81012048 -0.17083514 -0.46475191\n",
      " -0.04462753 -0.11105329  1.02667408  0.82179571 -0.56920665  0.47366898\n",
      "  0.39282553  0.13103469 -0.65744079 -2.8091279  -0.27404052  0.61582963\n",
      "  0.71557674 -0.10684312 -0.94565994  1.45340552  0.34169834 -0.58114441\n",
      " -1.34964622 -0.18072724  0.4735927   0.66551799 -0.89215085  1.38442531\n",
      " -1.36774204  0.47484834 -1.03756071  0.80964764 -0.00759035 -1.01439124\n",
      "  1.05443854  1.16120581 -0.04374062 -0.89595832  0.4329888  -1.37856734\n",
      " -0.55556026 -0.6102964   0.28548646 -0.09563741 -0.11139272  0.35306849\n",
      "  1.02545205  0.36647611  0.72973014 -1.21733738  0.03004547  0.38283129\n",
      "  0.57901588  0.91562634 -0.62990218  1.50454138  0.34460013  1.30930449\n",
      "  1.48942179 -0.01200785 -0.06236575  0.6198047  -0.7439319  -0.13394662\n",
      " -1.37113893 -2.2161088  -1.43966832  0.07506983  0.90231394  2.3612634\n",
      "  0.00846748  0.94915475  0.29919191 -0.11216344 -0.85222485 -1.37921749\n",
      "  1.44889516  0.09614337  0.13875489 -0.69369025  0.12802201  0.7553048\n",
      "  0.33397171  0.56594658 -1.9737181   1.13677239 -0.20187163 -0.15098704\n",
      " -1.02531502  1.45703855  0.60322491  0.84141843  0.22333048  0.34693064\n",
      "  0.77544643  0.59649487 -1.3525957   0.27055569] \n",
      "\n",
      " [ 1.36124951e+00  8.37111129e-01  5.94149832e-01 -6.16227993e-01\n",
      "  1.35188911e+00  1.05264982e+00  1.95812573e+00 -5.11187633e-01\n",
      "  3.88734791e-01  6.38241838e-01  1.00154962e-01  5.02565485e-01\n",
      " -5.21863554e-01  8.91604677e-01 -9.37614771e-01 -1.56758586e+00\n",
      "  1.23073038e+00  1.34179001e+00  1.23397184e+00  5.07449158e-01\n",
      "  1.15207343e+00  3.15089436e-01  6.96923847e-01  1.00772223e-01\n",
      "  4.77553997e-01 -2.31131575e-04  7.14554885e-01 -1.51581646e-01\n",
      "  9.56912453e-01  9.45753695e-01  1.99714254e+00  3.27871931e+00\n",
      "  1.99573340e-01 -1.19885072e+00 -4.99000374e-01  1.04338572e+00\n",
      " -6.84645623e-01  2.09993125e+00  3.48783666e-01  9.73094233e-01\n",
      "  2.34848589e-01  9.98162852e-01 -3.42266070e-01  2.38109208e-01\n",
      " -1.27787999e-01  1.76755142e-01  5.53322279e-01 -5.44550320e-01\n",
      " -4.68241542e-02  4.03149444e-01  1.36850946e-01  5.59078706e-01\n",
      "  7.42132301e-01  9.66945506e-01 -1.90252347e+00  1.55337820e+00\n",
      "  7.85128287e-01  7.09171590e-01  6.24320353e-01  1.42618183e+00\n",
      "  1.62353150e+00 -1.67818253e+00  1.69786469e+00  3.33589827e-01\n",
      " -1.02294957e+00  5.93424766e-01  1.11772878e+00  5.15139585e-01\n",
      " -1.57605708e-01 -2.10172863e+00  1.15587257e+00  1.85093641e+00\n",
      "  1.81013098e+00  8.02645591e-01  7.40853541e-01 -1.28658443e-01\n",
      "  1.55120316e-01 -2.45492253e-02  3.76400333e-01 -7.38808200e-02\n",
      " -9.71562692e-01  1.79200234e+00 -3.01118143e-01  5.26458522e-02\n",
      "  8.52146493e-02 -5.42607997e-01  1.09975180e+00 -6.63171425e-01\n",
      "  3.64335598e+00  3.08363356e+00  2.86932548e+00  1.21085906e+00\n",
      "  1.57362653e+00  2.11173353e-01 -6.67388270e-01  1.08684288e+00\n",
      "  1.23391752e+00  1.06593044e+00  6.78318128e-01  3.01120245e+00]\n"
     ]
    }
   ],
   "source": [
    "# Generate data for Parametric Test\n",
    "n = 100\n",
    "mu1, mu2 = 0, 0.5\n",
    "sigma = 1  # Standard Deviation\n",
    "\n",
    "data1 = np.random.normal(mu1, sigma, n)\n",
    "data2 = np.random.normal(mu2, sigma, n)\n",
    "\n",
    "print(data1, '\\n\\n', data2)"
   ]
  },
  {
   "cell_type": "code",
   "execution_count": 247,
   "id": "b6450ef3",
   "metadata": {},
   "outputs": [
    {
     "name": "stdout",
     "output_type": "stream",
     "text": [
      "[0.75873764 0.56220321 0.6732811 ] \n",
      "\n",
      " [0.55011963 0.93790722 0.97530613]\n"
     ]
    }
   ],
   "source": [
    "# Generate data for Non-Parametric Test\n",
    "m = 3\n",
    "data3 = np.random.uniform(0, 1, m)\n",
    "data4 = np.random.uniform(0.5, 1.5, m)\n",
    "\n",
    "print(data3, '\\n\\n', data4)"
   ]
  },
  {
   "cell_type": "code",
   "execution_count": 249,
   "id": "4ebccadc",
   "metadata": {},
   "outputs": [
    {
     "name": "stdout",
     "output_type": "stream",
     "text": [
      "T-Statistic: -3.645, \n",
      "P-Value: 0.000\n"
     ]
    }
   ],
   "source": [
    "# Parametric Test: T-Test \n",
    "t_stat, p_val = stats.ttest_ind(data1, data2)\n",
    "\n",
    "print('T-Statistic: {:.3f}, \\nP-Value: {:.3f}'.format(t_stat, p_val))"
   ]
  },
  {
   "cell_type": "code",
   "execution_count": 251,
   "id": "a8db47cd",
   "metadata": {},
   "outputs": [
    {
     "name": "stdout",
     "output_type": "stream",
     "text": [
      "U-Statistic: 3.000, \n",
      "P-Value: 0.700\n"
     ]
    }
   ],
   "source": [
    "# Non-Parametric Test: Mann-Whitney U Test\n",
    "u_stat, p_val = stats.mannwhitneyu(data3, data4)\n",
    "\n",
    "print('U-Statistic: {:.3f}, \\nP-Value: {:.3f}'.format(u_stat, p_val))"
   ]
  },
  {
   "cell_type": "markdown",
   "id": "0d0efc7f",
   "metadata": {},
   "source": [
    "# 2. Sign Test"
   ]
  },
  {
   "cell_type": "code",
   "execution_count": 252,
   "id": "22dbe754",
   "metadata": {},
   "outputs": [],
   "source": [
    "# Import modules\n",
    "import numpy as np\n",
    "from scipy.stats import binom_test"
   ]
  },
  {
   "cell_type": "code",
   "execution_count": 253,
   "id": "b8548830",
   "metadata": {},
   "outputs": [
    {
     "data": {
      "text/plain": [
       "array([ 9.17685072, 11.37775412,  9.99873286,  7.6898492 ,  9.18018992,\n",
       "        7.23524598,  7.55687413,  7.60071444,  9.820354  , 10.29529932,\n",
       "        9.94219742,  8.76806771,  8.36860203,  8.35782298,  8.6183284 ,\n",
       "        7.236556  , 10.61166821,  8.12189161,  8.50142293,  9.9072434 ])"
      ]
     },
     "execution_count": 253,
     "metadata": {},
     "output_type": "execute_result"
    }
   ],
   "source": [
    "# Generate data\n",
    "np.random.seed(85)\n",
    "\n",
    "n = 20\n",
    "mu = 9\n",
    "data = np.random.normal(mu, size=n)\n",
    "\n",
    "data"
   ]
  },
  {
   "cell_type": "code",
   "execution_count": 254,
   "id": "0678f154",
   "metadata": {},
   "outputs": [
    {
     "data": {
      "text/plain": [
       "9"
      ]
     },
     "execution_count": 254,
     "metadata": {},
     "output_type": "execute_result"
    }
   ],
   "source": [
    "# Set a test value(mu0)\n",
    "mu0 = 9\n",
    "\n",
    "# Calcualte values bigger than `mu0`\n",
    "n_above_mu0 = sum(data > mu0)\n",
    "\n",
    "n_above_mu0"
   ]
  },
  {
   "cell_type": "code",
   "execution_count": 258,
   "id": "5eb3177b",
   "metadata": {},
   "outputs": [
    {
     "name": "stdout",
     "output_type": "stream",
     "text": [
      "Number of Data above mu0: 9\n",
      "Result of Binomial Test: 0.8238029479980469\n"
     ]
    },
    {
     "name": "stderr",
     "output_type": "stream",
     "text": [
      "C:\\Users\\genih\\AppData\\Local\\Temp\\ipykernel_8788\\1118505637.py:2: DeprecationWarning: 'binom_test' is deprecated in favour of 'binomtest' from version 1.7.0 and will be removed in Scipy 1.12.0.\n",
      "  p_val = binom_test(n_above_mu0, n=n)\n"
     ]
    }
   ],
   "source": [
    "# Sign Test\n",
    "p_val = binom_test(n_above_mu0, n=n)\n",
    "\n",
    "print(f'Number of Data above mu0: {n_above_mu0}')\n",
    "print(f'Result of Binomial Test: {p_val}')"
   ]
  },
  {
   "cell_type": "markdown",
   "id": "55145470",
   "metadata": {},
   "source": [
    "# 3. Wilcoxon Signed Rank Test"
   ]
  },
  {
   "cell_type": "markdown",
   "id": "c04006d5",
   "metadata": {},
   "source": [
    "## 3.1. Basics"
   ]
  },
  {
   "cell_type": "code",
   "execution_count": 3,
   "id": "e68270fa",
   "metadata": {},
   "outputs": [],
   "source": [
    "# Import modules\n",
    "import numpy as np\n",
    "from scipy.stats import wilcoxon\n",
    "import matplotlib.pyplot as plt"
   ]
  },
  {
   "cell_type": "code",
   "execution_count": 4,
   "id": "9965ca0d",
   "metadata": {},
   "outputs": [],
   "source": [
    "# Generate Data\n",
    "data1 = [20, 25, 30, 35, 40, 45, 50, 55, 60, 65]\n",
    "data2 = [10, 20, 25, 30, 35, 40, 45, 50, 55, 60]"
   ]
  },
  {
   "cell_type": "markdown",
   "id": "33327818",
   "metadata": {},
   "source": [
    "- stat: Difference of ranks between two groups\n",
    "   - Similar groups: smaller 'stat' value\n",
    "   - Different groups: bigger 'stat' value\n",
    "- p: Significance to reject null hypotheses in the results"
   ]
  },
  {
   "cell_type": "code",
   "execution_count": 5,
   "id": "900c2c0b",
   "metadata": {},
   "outputs": [
    {
     "name": "stdout",
     "output_type": "stream",
     "text": [
      "stat: 0.0 \n",
      "p-value:  0.001953125\n"
     ]
    }
   ],
   "source": [
    "# Wilcoxon Signed Rank Test\n",
    "stat, p = wilcoxon(data1, data2)\n",
    "\n",
    "\n",
    "print('stat:', stat, '\\np-value: ', p)\n"
   ]
  },
  {
   "cell_type": "code",
   "execution_count": 6,
   "id": "c4bfa427",
   "metadata": {},
   "outputs": [
    {
     "name": "stdout",
     "output_type": "stream",
     "text": [
      "P-value is  0.0020, so Null Hypothesis(H0) is rejected.\n"
     ]
    }
   ],
   "source": [
    "# Adopt or Reject Null Hypothesis\n",
    "\n",
    "# `alpha` value\n",
    "alpha = 0.05\n",
    "\n",
    "if p < alpha:\n",
    "    print(f\"P-value is {p: .4f}, so Null Hypothesis(H0) is rejected.\")\n",
    "else:\n",
    "    print(f\"p-value: {p: .4f}, Null Hypothesis(H0) is adopted\")"
   ]
  },
  {
   "cell_type": "markdown",
   "id": "7d86d3a4",
   "metadata": {},
   "source": [
    "## 3.2. Evaluation of the Effectiveness of Treatments "
   ]
  },
  {
   "cell_type": "code",
   "execution_count": 7,
   "id": "3f0aaee6",
   "metadata": {},
   "outputs": [],
   "source": [
    "# Import modules\n",
    "\n",
    "import numpy as np\n",
    "import pandas as pd\n",
    "from scipy.stats import wilcoxon"
   ]
  },
  {
   "cell_type": "code",
   "execution_count": 158,
   "id": "bdc2a2c1",
   "metadata": {},
   "outputs": [],
   "source": [
    "# Generate Dummy Data\n",
    "pre_treatment = np.random.randint(1, 20, size=20)\n",
    "post_treatment = np.random.randint(1, 10, size=20)"
   ]
  },
  {
   "cell_type": "code",
   "execution_count": 159,
   "id": "28649969",
   "metadata": {
    "scrolled": true
   },
   "outputs": [
    {
     "data": {
      "text/html": [
       "<div>\n",
       "<style scoped>\n",
       "    .dataframe tbody tr th:only-of-type {\n",
       "        vertical-align: middle;\n",
       "    }\n",
       "\n",
       "    .dataframe tbody tr th {\n",
       "        vertical-align: top;\n",
       "    }\n",
       "\n",
       "    .dataframe thead th {\n",
       "        text-align: right;\n",
       "    }\n",
       "</style>\n",
       "<table border=\"1\" class=\"dataframe\">\n",
       "  <thead>\n",
       "    <tr style=\"text-align: right;\">\n",
       "      <th></th>\n",
       "      <th>pre_treatment</th>\n",
       "      <th>post_treatment</th>\n",
       "    </tr>\n",
       "  </thead>\n",
       "  <tbody>\n",
       "    <tr>\n",
       "      <th>0</th>\n",
       "      <td>5</td>\n",
       "      <td>1</td>\n",
       "    </tr>\n",
       "    <tr>\n",
       "      <th>1</th>\n",
       "      <td>7</td>\n",
       "      <td>6</td>\n",
       "    </tr>\n",
       "    <tr>\n",
       "      <th>2</th>\n",
       "      <td>12</td>\n",
       "      <td>1</td>\n",
       "    </tr>\n",
       "    <tr>\n",
       "      <th>3</th>\n",
       "      <td>8</td>\n",
       "      <td>9</td>\n",
       "    </tr>\n",
       "    <tr>\n",
       "      <th>4</th>\n",
       "      <td>15</td>\n",
       "      <td>6</td>\n",
       "    </tr>\n",
       "    <tr>\n",
       "      <th>5</th>\n",
       "      <td>18</td>\n",
       "      <td>5</td>\n",
       "    </tr>\n",
       "    <tr>\n",
       "      <th>6</th>\n",
       "      <td>9</td>\n",
       "      <td>8</td>\n",
       "    </tr>\n",
       "    <tr>\n",
       "      <th>7</th>\n",
       "      <td>2</td>\n",
       "      <td>4</td>\n",
       "    </tr>\n",
       "    <tr>\n",
       "      <th>8</th>\n",
       "      <td>13</td>\n",
       "      <td>4</td>\n",
       "    </tr>\n",
       "    <tr>\n",
       "      <th>9</th>\n",
       "      <td>9</td>\n",
       "      <td>6</td>\n",
       "    </tr>\n",
       "    <tr>\n",
       "      <th>10</th>\n",
       "      <td>15</td>\n",
       "      <td>8</td>\n",
       "    </tr>\n",
       "    <tr>\n",
       "      <th>11</th>\n",
       "      <td>5</td>\n",
       "      <td>6</td>\n",
       "    </tr>\n",
       "    <tr>\n",
       "      <th>12</th>\n",
       "      <td>19</td>\n",
       "      <td>1</td>\n",
       "    </tr>\n",
       "    <tr>\n",
       "      <th>13</th>\n",
       "      <td>19</td>\n",
       "      <td>4</td>\n",
       "    </tr>\n",
       "    <tr>\n",
       "      <th>14</th>\n",
       "      <td>10</td>\n",
       "      <td>5</td>\n",
       "    </tr>\n",
       "    <tr>\n",
       "      <th>15</th>\n",
       "      <td>2</td>\n",
       "      <td>7</td>\n",
       "    </tr>\n",
       "    <tr>\n",
       "      <th>16</th>\n",
       "      <td>9</td>\n",
       "      <td>1</td>\n",
       "    </tr>\n",
       "    <tr>\n",
       "      <th>17</th>\n",
       "      <td>14</td>\n",
       "      <td>9</td>\n",
       "    </tr>\n",
       "    <tr>\n",
       "      <th>18</th>\n",
       "      <td>10</td>\n",
       "      <td>5</td>\n",
       "    </tr>\n",
       "    <tr>\n",
       "      <th>19</th>\n",
       "      <td>15</td>\n",
       "      <td>6</td>\n",
       "    </tr>\n",
       "  </tbody>\n",
       "</table>\n",
       "</div>"
      ],
      "text/plain": [
       "    pre_treatment  post_treatment\n",
       "0               5               1\n",
       "1               7               6\n",
       "2              12               1\n",
       "3               8               9\n",
       "4              15               6\n",
       "5              18               5\n",
       "6               9               8\n",
       "7               2               4\n",
       "8              13               4\n",
       "9               9               6\n",
       "10             15               8\n",
       "11              5               6\n",
       "12             19               1\n",
       "13             19               4\n",
       "14             10               5\n",
       "15              2               7\n",
       "16              9               1\n",
       "17             14               9\n",
       "18             10               5\n",
       "19             15               6"
      ]
     },
     "execution_count": 159,
     "metadata": {},
     "output_type": "execute_result"
    }
   ],
   "source": [
    "# Create a DataFrame\n",
    "data = pd.DataFrame ({\n",
    "                        \"pre_treatment\" : pre_treatment,\n",
    "                        \"post_treatment\" : post_treatment\n",
    "                     })\n",
    "\n",
    "data"
   ]
  },
  {
   "cell_type": "code",
   "execution_count": 160,
   "id": "df870f34",
   "metadata": {},
   "outputs": [],
   "source": [
    "# Save as a file\n",
    "data.to_csv('./data/treatment_data.csv', index=False, encoding='utf-8')"
   ]
  },
  {
   "cell_type": "code",
   "execution_count": 161,
   "id": "b032dd87",
   "metadata": {},
   "outputs": [
    {
     "data": {
      "text/html": [
       "<div>\n",
       "<style scoped>\n",
       "    .dataframe tbody tr th:only-of-type {\n",
       "        vertical-align: middle;\n",
       "    }\n",
       "\n",
       "    .dataframe tbody tr th {\n",
       "        vertical-align: top;\n",
       "    }\n",
       "\n",
       "    .dataframe thead th {\n",
       "        text-align: right;\n",
       "    }\n",
       "</style>\n",
       "<table border=\"1\" class=\"dataframe\">\n",
       "  <thead>\n",
       "    <tr style=\"text-align: right;\">\n",
       "      <th></th>\n",
       "      <th>pre_treatment</th>\n",
       "      <th>post_treatment</th>\n",
       "    </tr>\n",
       "  </thead>\n",
       "  <tbody>\n",
       "    <tr>\n",
       "      <th>0</th>\n",
       "      <td>5</td>\n",
       "      <td>1</td>\n",
       "    </tr>\n",
       "    <tr>\n",
       "      <th>1</th>\n",
       "      <td>7</td>\n",
       "      <td>6</td>\n",
       "    </tr>\n",
       "    <tr>\n",
       "      <th>2</th>\n",
       "      <td>12</td>\n",
       "      <td>1</td>\n",
       "    </tr>\n",
       "    <tr>\n",
       "      <th>3</th>\n",
       "      <td>8</td>\n",
       "      <td>9</td>\n",
       "    </tr>\n",
       "    <tr>\n",
       "      <th>4</th>\n",
       "      <td>15</td>\n",
       "      <td>6</td>\n",
       "    </tr>\n",
       "    <tr>\n",
       "      <th>5</th>\n",
       "      <td>18</td>\n",
       "      <td>5</td>\n",
       "    </tr>\n",
       "    <tr>\n",
       "      <th>6</th>\n",
       "      <td>9</td>\n",
       "      <td>8</td>\n",
       "    </tr>\n",
       "    <tr>\n",
       "      <th>7</th>\n",
       "      <td>2</td>\n",
       "      <td>4</td>\n",
       "    </tr>\n",
       "    <tr>\n",
       "      <th>8</th>\n",
       "      <td>13</td>\n",
       "      <td>4</td>\n",
       "    </tr>\n",
       "    <tr>\n",
       "      <th>9</th>\n",
       "      <td>9</td>\n",
       "      <td>6</td>\n",
       "    </tr>\n",
       "    <tr>\n",
       "      <th>10</th>\n",
       "      <td>15</td>\n",
       "      <td>8</td>\n",
       "    </tr>\n",
       "    <tr>\n",
       "      <th>11</th>\n",
       "      <td>5</td>\n",
       "      <td>6</td>\n",
       "    </tr>\n",
       "    <tr>\n",
       "      <th>12</th>\n",
       "      <td>19</td>\n",
       "      <td>1</td>\n",
       "    </tr>\n",
       "    <tr>\n",
       "      <th>13</th>\n",
       "      <td>19</td>\n",
       "      <td>4</td>\n",
       "    </tr>\n",
       "    <tr>\n",
       "      <th>14</th>\n",
       "      <td>10</td>\n",
       "      <td>5</td>\n",
       "    </tr>\n",
       "    <tr>\n",
       "      <th>15</th>\n",
       "      <td>2</td>\n",
       "      <td>7</td>\n",
       "    </tr>\n",
       "    <tr>\n",
       "      <th>16</th>\n",
       "      <td>9</td>\n",
       "      <td>1</td>\n",
       "    </tr>\n",
       "    <tr>\n",
       "      <th>17</th>\n",
       "      <td>14</td>\n",
       "      <td>9</td>\n",
       "    </tr>\n",
       "    <tr>\n",
       "      <th>18</th>\n",
       "      <td>10</td>\n",
       "      <td>5</td>\n",
       "    </tr>\n",
       "    <tr>\n",
       "      <th>19</th>\n",
       "      <td>15</td>\n",
       "      <td>6</td>\n",
       "    </tr>\n",
       "  </tbody>\n",
       "</table>\n",
       "</div>"
      ],
      "text/plain": [
       "    pre_treatment  post_treatment\n",
       "0               5               1\n",
       "1               7               6\n",
       "2              12               1\n",
       "3               8               9\n",
       "4              15               6\n",
       "5              18               5\n",
       "6               9               8\n",
       "7               2               4\n",
       "8              13               4\n",
       "9               9               6\n",
       "10             15               8\n",
       "11              5               6\n",
       "12             19               1\n",
       "13             19               4\n",
       "14             10               5\n",
       "15              2               7\n",
       "16              9               1\n",
       "17             14               9\n",
       "18             10               5\n",
       "19             15               6"
      ]
     },
     "execution_count": 161,
     "metadata": {},
     "output_type": "execute_result"
    }
   ],
   "source": [
    "# Check the data\n",
    "treatment_data = pd.read_csv('./data/treatment_data.csv')\n",
    "\n",
    "treatment_data"
   ]
  },
  {
   "cell_type": "code",
   "execution_count": 162,
   "id": "57fffed9",
   "metadata": {},
   "outputs": [
    {
     "name": "stdout",
     "output_type": "stream",
     "text": [
      "stat: 19.5 \n",
      "p-value:  0.0007076263427734375\n"
     ]
    }
   ],
   "source": [
    "# Wilcoxon Signed Rank Test\n",
    "stat, p = wilcoxon(data['pre_treatment'], data['post_treatment'])\n",
    "\n",
    "print('stat:', stat, '\\np-value: ', p)"
   ]
  },
  {
   "cell_type": "code",
   "execution_count": 163,
   "id": "50ad84c7",
   "metadata": {},
   "outputs": [
    {
     "data": {
      "image/png": "[encoded data removed]",
      "text/plain": [
       "<Figure size 640x480 with 1 Axes>"
      ]
     },
     "metadata": {},
     "output_type": "display_data"
    }
   ],
   "source": [
    "# Visualization: Boxplot\n",
    "fig, ax = plt.subplots()\n",
    "data.boxplot(['pre_treatment', 'post_treatment'], ax=ax)\n",
    "ax.set_title('Boxplot of Pre-treatment and Post-treatment')\n",
    "ax.set_ylabel('Treatment Score')\n",
    "plt.show()"
   ]
  },
  {
   "cell_type": "code",
   "execution_count": 164,
   "id": "aca43960",
   "metadata": {},
   "outputs": [
    {
     "data": {
      "image/png": "[encoded data removed]",
      "text/plain": [
       "<Figure size 640x480 with 1 Axes>"
      ]
     },
     "metadata": {},
     "output_type": "display_data"
    }
   ],
   "source": [
    "# Visualization: Histogram\n",
    "fig, ax = plt.subplots()\n",
    "data['diff'] = data['post_treatment'] - data['pre_treatment']\n",
    "ax.hist(data['diff'], bins=10)\n",
    "ax.set_title('Distribution of Differences')\n",
    "ax.set_xlabel('Difference')\n",
    "ax.set_ylabel('Frequency')\n",
    "plt.show()"
   ]
  },
  {
   "cell_type": "markdown",
   "id": "a667722a",
   "metadata": {},
   "source": [
    "## 3.3. Non-normal Dataset "
   ]
  },
  {
   "cell_type": "code",
   "execution_count": 15,
   "id": "c4766d06",
   "metadata": {},
   "outputs": [],
   "source": [
    "# Import modules\n",
    "import numpy as np\n",
    "import pandas as pd\n",
    "import matplotlib.pyplot as plt"
   ]
  },
  {
   "cell_type": "code",
   "execution_count": 175,
   "id": "a9a13353",
   "metadata": {},
   "outputs": [
    {
     "name": "stdout",
     "output_type": "stream",
     "text": [
      "Pre Treatment:  [1.62037381 1.50895307 1.29824484 1.65379871 1.27350653 1.52312608\n",
      " 1.37324974 1.36927859 1.7346936  1.64863888 1.92579673 1.22714814\n",
      " 1.40555275 1.88368074 1.20890112 1.21378726 1.28344035 1.45312884\n",
      " 1.33757139 1.01173726]\n",
      "Post Treatment:  [2.39694687 2.68914231 2.83520331 2.31578849 2.71918911 2.50498986\n",
      " 2.3674922  2.18296085 2.53665916 2.03160998 2.59859214 2.77609494\n",
      " 2.22372453 2.62627289 2.41232011 2.62107257 2.23957974 2.30725726\n",
      " 2.25829266 2.09376532]\n"
     ]
    }
   ],
   "source": [
    "# Generate data\n",
    "\n",
    "np.random.seed(85)\n",
    "\n",
    "pre_treatment = np.random.rand(20)+1\n",
    "post_treatment = np.random.rand(20)+2\n",
    "\n",
    "print('Pre Treatment: ', pre_treatment)\n",
    "print('Post Treatment: ', post_treatment)"
   ]
  },
  {
   "cell_type": "code",
   "execution_count": 176,
   "id": "9a809945",
   "metadata": {},
   "outputs": [
    {
     "data": {
      "text/html": [
       "<div>\n",
       "<style scoped>\n",
       "    .dataframe tbody tr th:only-of-type {\n",
       "        vertical-align: middle;\n",
       "    }\n",
       "\n",
       "    .dataframe tbody tr th {\n",
       "        vertical-align: top;\n",
       "    }\n",
       "\n",
       "    .dataframe thead th {\n",
       "        text-align: right;\n",
       "    }\n",
       "</style>\n",
       "<table border=\"1\" class=\"dataframe\">\n",
       "  <thead>\n",
       "    <tr style=\"text-align: right;\">\n",
       "      <th></th>\n",
       "      <th>pre_treatment</th>\n",
       "      <th>post_treatment</th>\n",
       "    </tr>\n",
       "  </thead>\n",
       "  <tbody>\n",
       "    <tr>\n",
       "      <th>0</th>\n",
       "      <td>1.620374</td>\n",
       "      <td>2.396947</td>\n",
       "    </tr>\n",
       "    <tr>\n",
       "      <th>1</th>\n",
       "      <td>1.508953</td>\n",
       "      <td>2.689142</td>\n",
       "    </tr>\n",
       "    <tr>\n",
       "      <th>2</th>\n",
       "      <td>1.298245</td>\n",
       "      <td>2.835203</td>\n",
       "    </tr>\n",
       "    <tr>\n",
       "      <th>3</th>\n",
       "      <td>1.653799</td>\n",
       "      <td>2.315788</td>\n",
       "    </tr>\n",
       "    <tr>\n",
       "      <th>4</th>\n",
       "      <td>1.273507</td>\n",
       "      <td>2.719189</td>\n",
       "    </tr>\n",
       "    <tr>\n",
       "      <th>5</th>\n",
       "      <td>1.523126</td>\n",
       "      <td>2.504990</td>\n",
       "    </tr>\n",
       "    <tr>\n",
       "      <th>6</th>\n",
       "      <td>1.373250</td>\n",
       "      <td>2.367492</td>\n",
       "    </tr>\n",
       "    <tr>\n",
       "      <th>7</th>\n",
       "      <td>1.369279</td>\n",
       "      <td>2.182961</td>\n",
       "    </tr>\n",
       "    <tr>\n",
       "      <th>8</th>\n",
       "      <td>1.734694</td>\n",
       "      <td>2.536659</td>\n",
       "    </tr>\n",
       "    <tr>\n",
       "      <th>9</th>\n",
       "      <td>1.648639</td>\n",
       "      <td>2.031610</td>\n",
       "    </tr>\n",
       "    <tr>\n",
       "      <th>10</th>\n",
       "      <td>1.925797</td>\n",
       "      <td>2.598592</td>\n",
       "    </tr>\n",
       "    <tr>\n",
       "      <th>11</th>\n",
       "      <td>1.227148</td>\n",
       "      <td>2.776095</td>\n",
       "    </tr>\n",
       "    <tr>\n",
       "      <th>12</th>\n",
       "      <td>1.405553</td>\n",
       "      <td>2.223725</td>\n",
       "    </tr>\n",
       "    <tr>\n",
       "      <th>13</th>\n",
       "      <td>1.883681</td>\n",
       "      <td>2.626273</td>\n",
       "    </tr>\n",
       "    <tr>\n",
       "      <th>14</th>\n",
       "      <td>1.208901</td>\n",
       "      <td>2.412320</td>\n",
       "    </tr>\n",
       "    <tr>\n",
       "      <th>15</th>\n",
       "      <td>1.213787</td>\n",
       "      <td>2.621073</td>\n",
       "    </tr>\n",
       "    <tr>\n",
       "      <th>16</th>\n",
       "      <td>1.283440</td>\n",
       "      <td>2.239580</td>\n",
       "    </tr>\n",
       "    <tr>\n",
       "      <th>17</th>\n",
       "      <td>1.453129</td>\n",
       "      <td>2.307257</td>\n",
       "    </tr>\n",
       "    <tr>\n",
       "      <th>18</th>\n",
       "      <td>1.337571</td>\n",
       "      <td>2.258293</td>\n",
       "    </tr>\n",
       "    <tr>\n",
       "      <th>19</th>\n",
       "      <td>1.011737</td>\n",
       "      <td>2.093765</td>\n",
       "    </tr>\n",
       "  </tbody>\n",
       "</table>\n",
       "</div>"
      ],
      "text/plain": [
       "    pre_treatment  post_treatment\n",
       "0        1.620374        2.396947\n",
       "1        1.508953        2.689142\n",
       "2        1.298245        2.835203\n",
       "3        1.653799        2.315788\n",
       "4        1.273507        2.719189\n",
       "5        1.523126        2.504990\n",
       "6        1.373250        2.367492\n",
       "7        1.369279        2.182961\n",
       "8        1.734694        2.536659\n",
       "9        1.648639        2.031610\n",
       "10       1.925797        2.598592\n",
       "11       1.227148        2.776095\n",
       "12       1.405553        2.223725\n",
       "13       1.883681        2.626273\n",
       "14       1.208901        2.412320\n",
       "15       1.213787        2.621073\n",
       "16       1.283440        2.239580\n",
       "17       1.453129        2.307257\n",
       "18       1.337571        2.258293\n",
       "19       1.011737        2.093765"
      ]
     },
     "execution_count": 176,
     "metadata": {},
     "output_type": "execute_result"
    }
   ],
   "source": [
    "# Create a DataFrame\n",
    "data = pd.DataFrame ({\n",
    "                        \"pre_treatment\" : pre_treatment, \n",
    "                        \"post_treatment\" : post_treatment})\n",
    "\n",
    "data"
   ]
  },
  {
   "cell_type": "code",
   "execution_count": 177,
   "id": "5da52ff6",
   "metadata": {},
   "outputs": [],
   "source": [
    "# Save as a `csv` file\n",
    "data.to_csv('./data/non_normal_data.csv', index=False)"
   ]
  },
  {
   "cell_type": "code",
   "execution_count": 178,
   "id": "6775e41e",
   "metadata": {},
   "outputs": [
    {
     "data": {
      "text/html": [
       "<div>\n",
       "<style scoped>\n",
       "    .dataframe tbody tr th:only-of-type {\n",
       "        vertical-align: middle;\n",
       "    }\n",
       "\n",
       "    .dataframe tbody tr th {\n",
       "        vertical-align: top;\n",
       "    }\n",
       "\n",
       "    .dataframe thead th {\n",
       "        text-align: right;\n",
       "    }\n",
       "</style>\n",
       "<table border=\"1\" class=\"dataframe\">\n",
       "  <thead>\n",
       "    <tr style=\"text-align: right;\">\n",
       "      <th></th>\n",
       "      <th>pre_treatment</th>\n",
       "      <th>post_treatment</th>\n",
       "    </tr>\n",
       "  </thead>\n",
       "  <tbody>\n",
       "    <tr>\n",
       "      <th>0</th>\n",
       "      <td>1.620374</td>\n",
       "      <td>2.396947</td>\n",
       "    </tr>\n",
       "    <tr>\n",
       "      <th>1</th>\n",
       "      <td>1.508953</td>\n",
       "      <td>2.689142</td>\n",
       "    </tr>\n",
       "    <tr>\n",
       "      <th>2</th>\n",
       "      <td>1.298245</td>\n",
       "      <td>2.835203</td>\n",
       "    </tr>\n",
       "    <tr>\n",
       "      <th>3</th>\n",
       "      <td>1.653799</td>\n",
       "      <td>2.315788</td>\n",
       "    </tr>\n",
       "    <tr>\n",
       "      <th>4</th>\n",
       "      <td>1.273507</td>\n",
       "      <td>2.719189</td>\n",
       "    </tr>\n",
       "    <tr>\n",
       "      <th>5</th>\n",
       "      <td>1.523126</td>\n",
       "      <td>2.504990</td>\n",
       "    </tr>\n",
       "    <tr>\n",
       "      <th>6</th>\n",
       "      <td>1.373250</td>\n",
       "      <td>2.367492</td>\n",
       "    </tr>\n",
       "    <tr>\n",
       "      <th>7</th>\n",
       "      <td>1.369279</td>\n",
       "      <td>2.182961</td>\n",
       "    </tr>\n",
       "    <tr>\n",
       "      <th>8</th>\n",
       "      <td>1.734694</td>\n",
       "      <td>2.536659</td>\n",
       "    </tr>\n",
       "    <tr>\n",
       "      <th>9</th>\n",
       "      <td>1.648639</td>\n",
       "      <td>2.031610</td>\n",
       "    </tr>\n",
       "    <tr>\n",
       "      <th>10</th>\n",
       "      <td>1.925797</td>\n",
       "      <td>2.598592</td>\n",
       "    </tr>\n",
       "    <tr>\n",
       "      <th>11</th>\n",
       "      <td>1.227148</td>\n",
       "      <td>2.776095</td>\n",
       "    </tr>\n",
       "    <tr>\n",
       "      <th>12</th>\n",
       "      <td>1.405553</td>\n",
       "      <td>2.223725</td>\n",
       "    </tr>\n",
       "    <tr>\n",
       "      <th>13</th>\n",
       "      <td>1.883681</td>\n",
       "      <td>2.626273</td>\n",
       "    </tr>\n",
       "    <tr>\n",
       "      <th>14</th>\n",
       "      <td>1.208901</td>\n",
       "      <td>2.412320</td>\n",
       "    </tr>\n",
       "    <tr>\n",
       "      <th>15</th>\n",
       "      <td>1.213787</td>\n",
       "      <td>2.621073</td>\n",
       "    </tr>\n",
       "    <tr>\n",
       "      <th>16</th>\n",
       "      <td>1.283440</td>\n",
       "      <td>2.239580</td>\n",
       "    </tr>\n",
       "    <tr>\n",
       "      <th>17</th>\n",
       "      <td>1.453129</td>\n",
       "      <td>2.307257</td>\n",
       "    </tr>\n",
       "    <tr>\n",
       "      <th>18</th>\n",
       "      <td>1.337571</td>\n",
       "      <td>2.258293</td>\n",
       "    </tr>\n",
       "    <tr>\n",
       "      <th>19</th>\n",
       "      <td>1.011737</td>\n",
       "      <td>2.093765</td>\n",
       "    </tr>\n",
       "  </tbody>\n",
       "</table>\n",
       "</div>"
      ],
      "text/plain": [
       "    pre_treatment  post_treatment\n",
       "0        1.620374        2.396947\n",
       "1        1.508953        2.689142\n",
       "2        1.298245        2.835203\n",
       "3        1.653799        2.315788\n",
       "4        1.273507        2.719189\n",
       "5        1.523126        2.504990\n",
       "6        1.373250        2.367492\n",
       "7        1.369279        2.182961\n",
       "8        1.734694        2.536659\n",
       "9        1.648639        2.031610\n",
       "10       1.925797        2.598592\n",
       "11       1.227148        2.776095\n",
       "12       1.405553        2.223725\n",
       "13       1.883681        2.626273\n",
       "14       1.208901        2.412320\n",
       "15       1.213787        2.621073\n",
       "16       1.283440        2.239580\n",
       "17       1.453129        2.307257\n",
       "18       1.337571        2.258293\n",
       "19       1.011737        2.093765"
      ]
     },
     "execution_count": 178,
     "metadata": {},
     "output_type": "execute_result"
    }
   ],
   "source": [
    "# Check the csv file\n",
    "data = pd.read_csv('./data/non_normal_data.csv')\n",
    "\n",
    "data"
   ]
  },
  {
   "cell_type": "code",
   "execution_count": 179,
   "id": "e68d51f3",
   "metadata": {},
   "outputs": [
    {
     "name": "stdout",
     "output_type": "stream",
     "text": [
      "stat: 0.0 \n",
      "p-value:  1.9073486328125e-06\n"
     ]
    }
   ],
   "source": [
    "# Wilcoxon Signed Ranked Test\n",
    "stat, p = wilcoxon(data['pre_treatment'], data['post_treatment'])\n",
    "\n",
    "print('stat:', stat, '\\np-value: ', p)"
   ]
  },
  {
   "cell_type": "code",
   "execution_count": 180,
   "id": "4355fde4",
   "metadata": {},
   "outputs": [
    {
     "name": "stdout",
     "output_type": "stream",
     "text": [
      "P-value is  0.0000, so it's a different distribution (H0 rejected)\n"
     ]
    }
   ],
   "source": [
    "# Adopt or Reject Null Hypothesis\n",
    "alpha = 0.05\n",
    "\n",
    "if p < alpha:\n",
    "    print(f\"P-value is {p: .4f}, so it's a different distribution (H0 rejected)\")\n",
    "else:\n",
    "    print(f\"p-value: {p: .4f}, so it's the same distribution (H0 is adopted\")"
   ]
  },
  {
   "cell_type": "code",
   "execution_count": 181,
   "id": "e3b92075",
   "metadata": {},
   "outputs": [
    {
     "data": {
      "image/png": "[encoded data removed]",
      "text/plain": [
       "<Figure size 640x480 with 1 Axes>"
      ]
     },
     "metadata": {},
     "output_type": "display_data"
    }
   ],
   "source": [
    "# Visualization: Histogram\n",
    "fig, ax = plt.subplots()\n",
    "ax.hist(data['pre_treatment'], bins=10, alpha=0.5, label='Pre-treatment')\n",
    "ax.hist(data['post_treatment'], bins=10, alpha=0.5, label='Post-treatment')\n",
    "ax.set_title('Distribution of Pre-treatment and Post-treatment')\n",
    "ax.set_xlabel('Treatment Score')\n",
    "ax.set_ylabel('Frequency')\n",
    "plt.legend()\n",
    "plt.show()"
   ]
  },
  {
   "cell_type": "markdown",
   "id": "5853ce75",
   "metadata": {},
   "source": [
    "## 3.4. Multiple Testing"
   ]
  },
  {
   "cell_type": "code",
   "execution_count": 23,
   "id": "3f995a11",
   "metadata": {},
   "outputs": [],
   "source": [
    "# Import modules\n",
    "import pandas as pd\n",
    "import numpy as np\n",
    "import matplotlib.pyplot as plt\n",
    "from scipy.stats import wilcoxon\n",
    "from statsmodels.stats.multitest import multipletests"
   ]
  },
  {
   "cell_type": "code",
   "execution_count": 95,
   "id": "b5338a16",
   "metadata": {},
   "outputs": [
    {
     "data": {
      "text/html": [
       "<div>\n",
       "<style scoped>\n",
       "    .dataframe tbody tr th:only-of-type {\n",
       "        vertical-align: middle;\n",
       "    }\n",
       "\n",
       "    .dataframe tbody tr th {\n",
       "        vertical-align: top;\n",
       "    }\n",
       "\n",
       "    .dataframe thead th {\n",
       "        text-align: right;\n",
       "    }\n",
       "</style>\n",
       "<table border=\"1\" class=\"dataframe\">\n",
       "  <thead>\n",
       "    <tr style=\"text-align: right;\">\n",
       "      <th></th>\n",
       "      <th>pre_treatment</th>\n",
       "      <th>post_treatment</th>\n",
       "    </tr>\n",
       "  </thead>\n",
       "  <tbody>\n",
       "    <tr>\n",
       "      <th>0</th>\n",
       "      <td>3</td>\n",
       "      <td>6</td>\n",
       "    </tr>\n",
       "    <tr>\n",
       "      <th>1</th>\n",
       "      <td>7</td>\n",
       "      <td>7</td>\n",
       "    </tr>\n",
       "    <tr>\n",
       "      <th>2</th>\n",
       "      <td>7</td>\n",
       "      <td>10</td>\n",
       "    </tr>\n",
       "    <tr>\n",
       "      <th>3</th>\n",
       "      <td>9</td>\n",
       "      <td>8</td>\n",
       "    </tr>\n",
       "    <tr>\n",
       "      <th>4</th>\n",
       "      <td>3</td>\n",
       "      <td>6</td>\n",
       "    </tr>\n",
       "    <tr>\n",
       "      <th>5</th>\n",
       "      <td>1</td>\n",
       "      <td>3</td>\n",
       "    </tr>\n",
       "    <tr>\n",
       "      <th>6</th>\n",
       "      <td>6</td>\n",
       "      <td>5</td>\n",
       "    </tr>\n",
       "    <tr>\n",
       "      <th>7</th>\n",
       "      <td>3</td>\n",
       "      <td>3</td>\n",
       "    </tr>\n",
       "    <tr>\n",
       "      <th>8</th>\n",
       "      <td>2</td>\n",
       "      <td>-1</td>\n",
       "    </tr>\n",
       "    <tr>\n",
       "      <th>9</th>\n",
       "      <td>8</td>\n",
       "      <td>5</td>\n",
       "    </tr>\n",
       "    <tr>\n",
       "      <th>10</th>\n",
       "      <td>1</td>\n",
       "      <td>-1</td>\n",
       "    </tr>\n",
       "    <tr>\n",
       "      <th>11</th>\n",
       "      <td>4</td>\n",
       "      <td>4</td>\n",
       "    </tr>\n",
       "    <tr>\n",
       "      <th>12</th>\n",
       "      <td>4</td>\n",
       "      <td>4</td>\n",
       "    </tr>\n",
       "    <tr>\n",
       "      <th>13</th>\n",
       "      <td>8</td>\n",
       "      <td>8</td>\n",
       "    </tr>\n",
       "    <tr>\n",
       "      <th>14</th>\n",
       "      <td>4</td>\n",
       "      <td>5</td>\n",
       "    </tr>\n",
       "    <tr>\n",
       "      <th>15</th>\n",
       "      <td>8</td>\n",
       "      <td>7</td>\n",
       "    </tr>\n",
       "    <tr>\n",
       "      <th>16</th>\n",
       "      <td>9</td>\n",
       "      <td>12</td>\n",
       "    </tr>\n",
       "    <tr>\n",
       "      <th>17</th>\n",
       "      <td>4</td>\n",
       "      <td>5</td>\n",
       "    </tr>\n",
       "    <tr>\n",
       "      <th>18</th>\n",
       "      <td>4</td>\n",
       "      <td>7</td>\n",
       "    </tr>\n",
       "    <tr>\n",
       "      <th>19</th>\n",
       "      <td>5</td>\n",
       "      <td>3</td>\n",
       "    </tr>\n",
       "  </tbody>\n",
       "</table>\n",
       "</div>"
      ],
      "text/plain": [
       "    pre_treatment  post_treatment\n",
       "0               3               6\n",
       "1               7               7\n",
       "2               7              10\n",
       "3               9               8\n",
       "4               3               6\n",
       "5               1               3\n",
       "6               6               5\n",
       "7               3               3\n",
       "8               2              -1\n",
       "9               8               5\n",
       "10              1              -1\n",
       "11              4               4\n",
       "12              4               4\n",
       "13              8               8\n",
       "14              4               5\n",
       "15              8               7\n",
       "16              9              12\n",
       "17              4               5\n",
       "18              4               7\n",
       "19              5               3"
      ]
     },
     "execution_count": 95,
     "metadata": {},
     "output_type": "execute_result"
    }
   ],
   "source": [
    "# Load data\n",
    "data = pd.read_csv('./data/treatment_data2.csv')\n",
    "\n",
    "data"
   ]
  },
  {
   "cell_type": "markdown",
   "id": "fd29f759",
   "metadata": {},
   "source": [
    "- rejects_bonf\n",
    "  - 각 가설에 대한 기각 여부를 나타내는 불리언 배열\n",
    "  - rejects_bonf[i]는 i번째 가설이 기각되었는지 여부\n",
    "- corrected_p_bonf\n",
    "  - 보정된 p-값들의 배열\n",
    "  - corrected_p_bonf[i]는 i번째 가설의 보정된 p-값"
   ]
  },
  {
   "cell_type": "code",
   "execution_count": 122,
   "id": "5160e7c5",
   "metadata": {},
   "outputs": [
    {
     "name": "stdout",
     "output_type": "stream",
     "text": [
      "Before 'Borferroni Correction:'\n",
      "\n",
      "Sample 1 : \n",
      "\tStatistics:  10.5\n",
      "\tP-value:  0.5498063307054615\n",
      "\tSame distribution (Fail to reject H0)\n",
      "\n",
      "Sample 2 : \n",
      "\tStatistics:  15.0\n",
      "\tP-value:  0.36396207510247747\n",
      "\tSame distribution (Fail to reject H0)\n",
      "\n",
      "Sample 3 : \n",
      "\tStatistics:  12.0\n",
      "\tP-value:  0.7316005889599013\n",
      "\tSame distribution (Fail to reject H0)\n",
      "\n",
      "Sample 4 : \n",
      "\tStatistics:  7.5\n",
      "\tP-value:  0.2623135752307827\n",
      "\tSame distribution (Fail to reject H0)\n",
      "\n",
      "Sample 5 : \n",
      "\tStatistics:  16.0\n",
      "\tP-value:  0.4314014169471778\n",
      "\tSame distribution (Fail to reject H0)\n",
      "\n",
      "Sample 6 : \n",
      "\tStatistics:  5.0\n",
      "\tP-value:  0.034808478811867126\n",
      "\tDifferent distribution (Reject H0)\n",
      "\n",
      "Sample 7 : \n",
      "\tStatistics:  10.0\n",
      "\tP-value:  0.9141283452014198\n",
      "\tSame distribution (Fail to reject H0)\n",
      "\n",
      "Sample 8 : \n",
      "\tStatistics:  12.0\n",
      "\tP-value:  0.7316005889599013\n",
      "\tSame distribution (Fail to reject H0)\n",
      "\n",
      "Sample 9 : \n",
      "\tStatistics:  10.5\n",
      "\tP-value:  0.2864220227778588\n",
      "\tSame distribution (Fail to reject H0)\n",
      "\n",
      "Sample 10 : \n",
      "\tStatistics:  11.0\n",
      "\tP-value:  0.6082209420702409\n",
      "\tSame distribution (Fail to reject H0)\n",
      "\n",
      "After 'Borferroni Correction:'\n",
      "\n",
      "sample : 1 : Fail to reject HO\n",
      "sample : 2 : Fail to reject HO\n",
      "sample : 3 : Fail to reject HO\n",
      "sample : 4 : Fail to reject HO\n",
      "sample : 5 : Fail to reject HO\n",
      "sample : 6 : Fail to reject HO\n",
      "sample : 7 : Fail to reject HO\n",
      "sample : 8 : Fail to reject HO\n",
      "sample : 9 : Fail to reject HO\n",
      "sample : 10 : Fail to reject HO\n"
     ]
    }
   ],
   "source": [
    "# Multiple Testing\n",
    "p_values = []\n",
    "\n",
    "print(\"Before 'Borferroni Correction:'\\n\")\n",
    "for i in range(10):\n",
    "    # Get a sample data\n",
    "    sample = data.sample(frac=0.5)\n",
    "    \n",
    "    # Wilcoxon Signed Rank Test\n",
    "    stat, p = wilcoxon(sample['pre_treatment'], sample['post_treatment'])\n",
    "    \n",
    "    # Print\n",
    "    print('Sample', i+1, ': ')\n",
    "    print('\\tStatistics: ', stat)\n",
    "    print('\\tP-value: ', p)\n",
    "    \n",
    "    p_values.append(p)\n",
    "    \n",
    "    if p > 0.05:\n",
    "        print('\\tSame distribution (Fail to reject H0)\\n')\n",
    "    else:\n",
    "        print('\\tDifferent distribution (Reject H0)\\n')\n",
    "\n",
    "        \n",
    "print(\"After 'Borferroni Correction:'\\n\")\n",
    "alpha = 0.05\n",
    "rejects_bonf, corrected_p_bonf, _, _ = multipletests(p_values, alpha=alpha, method='bonferroni')\n",
    "for i in range(len(rejects_bonf)):\n",
    "    if rejects_bonf[i]:\n",
    "        print(f\"sample : {i+1} : Reject HO\")\n",
    "    else:\n",
    "        print(f\"sample : {i+1} : Fail to reject HO\")"
   ]
  },
  {
   "cell_type": "markdown",
   "id": "d2e5809a",
   "metadata": {},
   "source": [
    "## 3.5. Visualization: Boxplot"
   ]
  },
  {
   "cell_type": "code",
   "execution_count": 135,
   "id": "49fb4965",
   "metadata": {},
   "outputs": [],
   "source": [
    "# Import modules\n",
    "import numpy as np\n",
    "import pandas as pd\n",
    "import matplotlib.pyplot as plt\n",
    "from scipy.stats import wilcoxon\n",
    "import seaborn as sns"
   ]
  },
  {
   "cell_type": "code",
   "execution_count": 182,
   "id": "ea7a6dca",
   "metadata": {},
   "outputs": [
    {
     "data": {
      "text/html": [
       "<div>\n",
       "<style scoped>\n",
       "    .dataframe tbody tr th:only-of-type {\n",
       "        vertical-align: middle;\n",
       "    }\n",
       "\n",
       "    .dataframe tbody tr th {\n",
       "        vertical-align: top;\n",
       "    }\n",
       "\n",
       "    .dataframe thead th {\n",
       "        text-align: right;\n",
       "    }\n",
       "</style>\n",
       "<table border=\"1\" class=\"dataframe\">\n",
       "  <thead>\n",
       "    <tr style=\"text-align: right;\">\n",
       "      <th></th>\n",
       "      <th>pre_treatment</th>\n",
       "      <th>post_treatment</th>\n",
       "    </tr>\n",
       "  </thead>\n",
       "  <tbody>\n",
       "    <tr>\n",
       "      <th>0</th>\n",
       "      <td>5</td>\n",
       "      <td>1</td>\n",
       "    </tr>\n",
       "    <tr>\n",
       "      <th>1</th>\n",
       "      <td>7</td>\n",
       "      <td>6</td>\n",
       "    </tr>\n",
       "    <tr>\n",
       "      <th>2</th>\n",
       "      <td>12</td>\n",
       "      <td>1</td>\n",
       "    </tr>\n",
       "    <tr>\n",
       "      <th>3</th>\n",
       "      <td>8</td>\n",
       "      <td>9</td>\n",
       "    </tr>\n",
       "    <tr>\n",
       "      <th>4</th>\n",
       "      <td>15</td>\n",
       "      <td>6</td>\n",
       "    </tr>\n",
       "    <tr>\n",
       "      <th>5</th>\n",
       "      <td>18</td>\n",
       "      <td>5</td>\n",
       "    </tr>\n",
       "    <tr>\n",
       "      <th>6</th>\n",
       "      <td>9</td>\n",
       "      <td>8</td>\n",
       "    </tr>\n",
       "    <tr>\n",
       "      <th>7</th>\n",
       "      <td>2</td>\n",
       "      <td>4</td>\n",
       "    </tr>\n",
       "    <tr>\n",
       "      <th>8</th>\n",
       "      <td>13</td>\n",
       "      <td>4</td>\n",
       "    </tr>\n",
       "    <tr>\n",
       "      <th>9</th>\n",
       "      <td>9</td>\n",
       "      <td>6</td>\n",
       "    </tr>\n",
       "    <tr>\n",
       "      <th>10</th>\n",
       "      <td>15</td>\n",
       "      <td>8</td>\n",
       "    </tr>\n",
       "    <tr>\n",
       "      <th>11</th>\n",
       "      <td>5</td>\n",
       "      <td>6</td>\n",
       "    </tr>\n",
       "    <tr>\n",
       "      <th>12</th>\n",
       "      <td>19</td>\n",
       "      <td>1</td>\n",
       "    </tr>\n",
       "    <tr>\n",
       "      <th>13</th>\n",
       "      <td>19</td>\n",
       "      <td>4</td>\n",
       "    </tr>\n",
       "    <tr>\n",
       "      <th>14</th>\n",
       "      <td>10</td>\n",
       "      <td>5</td>\n",
       "    </tr>\n",
       "    <tr>\n",
       "      <th>15</th>\n",
       "      <td>2</td>\n",
       "      <td>7</td>\n",
       "    </tr>\n",
       "    <tr>\n",
       "      <th>16</th>\n",
       "      <td>9</td>\n",
       "      <td>1</td>\n",
       "    </tr>\n",
       "    <tr>\n",
       "      <th>17</th>\n",
       "      <td>14</td>\n",
       "      <td>9</td>\n",
       "    </tr>\n",
       "    <tr>\n",
       "      <th>18</th>\n",
       "      <td>10</td>\n",
       "      <td>5</td>\n",
       "    </tr>\n",
       "    <tr>\n",
       "      <th>19</th>\n",
       "      <td>15</td>\n",
       "      <td>6</td>\n",
       "    </tr>\n",
       "  </tbody>\n",
       "</table>\n",
       "</div>"
      ],
      "text/plain": [
       "    pre_treatment  post_treatment\n",
       "0               5               1\n",
       "1               7               6\n",
       "2              12               1\n",
       "3               8               9\n",
       "4              15               6\n",
       "5              18               5\n",
       "6               9               8\n",
       "7               2               4\n",
       "8              13               4\n",
       "9               9               6\n",
       "10             15               8\n",
       "11              5               6\n",
       "12             19               1\n",
       "13             19               4\n",
       "14             10               5\n",
       "15              2               7\n",
       "16              9               1\n",
       "17             14               9\n",
       "18             10               5\n",
       "19             15               6"
      ]
     },
     "execution_count": 182,
     "metadata": {},
     "output_type": "execute_result"
    }
   ],
   "source": [
    "# Load data\n",
    "data = pd.read_csv('./data/treatment_data.csv')\n",
    "\n",
    "data"
   ]
  },
  {
   "cell_type": "code",
   "execution_count": 183,
   "id": "71221680",
   "metadata": {},
   "outputs": [],
   "source": [
    "# Wilcoxon Rank-Sum Test\n",
    "stat, p = wilcoxon(data['pre_treatment'], data['post_treatment'])"
   ]
  },
  {
   "cell_type": "code",
   "execution_count": 184,
   "id": "c672d58d",
   "metadata": {},
   "outputs": [
    {
     "name": "stderr",
     "output_type": "stream",
     "text": [
      "C:\\Users\\genih\\AppData\\Roaming\\Python\\Python38\\site-packages\\seaborn\\categorical.py:166: FutureWarning: Setting a gradient palette using color= is deprecated and will be removed in version 0.13. Set `palette='dark:.3'` for same effect.\n",
      "  warnings.warn(msg, FutureWarning)\n"
     ]
    },
    {
     "data": {
      "image/png": "[encoded data removed]",
      "text/plain": [
       "<Figure size 640x480 with 1 Axes>"
      ]
     },
     "metadata": {},
     "output_type": "display_data"
    }
   ],
   "source": [
    "# Visualization: Boxplot\n",
    "sns.boxplot(data=data[['pre_treatment', 'post_treatment']], palette=\"Set3\")\n",
    "sns.stripplot(data=data[['pre_treatment', 'post_treatment']], \n",
    "              color=\".3\",\n",
    "              size=4)\n",
    "sns.despine(trim=True)\n",
    "\n",
    "if p > 0.05:\n",
    "    plt.title('Wilcoxon Signed-Rank Test\\n Same Distribution\\n P-Value=%.3f' % (p))\n",
    "else:\n",
    "    plt.title('Wilcoxon Signed-Rank Test\\n Different Distribution\\n P-Value=%.3f' % (p))\n",
    "\n",
    "plt.show()"
   ]
  },
  {
   "cell_type": "markdown",
   "id": "b5aa376c",
   "metadata": {},
   "source": [
    "# 4. Wincoxon Rank-Sum Test"
   ]
  },
  {
   "cell_type": "code",
   "execution_count": 144,
   "id": "4f42abca",
   "metadata": {},
   "outputs": [],
   "source": [
    "# Import modules\n",
    "import pandas as pd\n",
    "import numpy as np\n",
    "import matplotlib.pyplot as plt\n",
    "from scipy.stats import mannwhitneyu"
   ]
  },
  {
   "cell_type": "code",
   "execution_count": 145,
   "id": "0fae2b11",
   "metadata": {},
   "outputs": [
    {
     "data": {
      "text/plain": [
       "{'group1': [3, 2, 5, 1, 4, 2, 6, 7, 9, 8],\n",
       " 'group2': [6, 4, 7, 2, 6, 3, 7, 9, 10, 11]}"
      ]
     },
     "execution_count": 145,
     "metadata": {},
     "output_type": "execute_result"
    }
   ],
   "source": [
    "# Generate data\n",
    "data = {\n",
    "    'group1' : [3, 2, 5, 1, 4, 2, 6, 7, 9, 8],\n",
    "    'group2' : [6, 4, 7, 2, 6, 3, 7, 9, 10, 11]\n",
    "}"
   ]
  },
  {
   "cell_type": "code",
   "execution_count": 146,
   "id": "e9ed0df5",
   "metadata": {},
   "outputs": [
    {
     "data": {
      "text/html": [
       "<div>\n",
       "<style scoped>\n",
       "    .dataframe tbody tr th:only-of-type {\n",
       "        vertical-align: middle;\n",
       "    }\n",
       "\n",
       "    .dataframe tbody tr th {\n",
       "        vertical-align: top;\n",
       "    }\n",
       "\n",
       "    .dataframe thead th {\n",
       "        text-align: right;\n",
       "    }\n",
       "</style>\n",
       "<table border=\"1\" class=\"dataframe\">\n",
       "  <thead>\n",
       "    <tr style=\"text-align: right;\">\n",
       "      <th></th>\n",
       "      <th>group1</th>\n",
       "      <th>group2</th>\n",
       "    </tr>\n",
       "  </thead>\n",
       "  <tbody>\n",
       "    <tr>\n",
       "      <th>0</th>\n",
       "      <td>3</td>\n",
       "      <td>6</td>\n",
       "    </tr>\n",
       "    <tr>\n",
       "      <th>1</th>\n",
       "      <td>2</td>\n",
       "      <td>4</td>\n",
       "    </tr>\n",
       "    <tr>\n",
       "      <th>2</th>\n",
       "      <td>5</td>\n",
       "      <td>7</td>\n",
       "    </tr>\n",
       "    <tr>\n",
       "      <th>3</th>\n",
       "      <td>1</td>\n",
       "      <td>2</td>\n",
       "    </tr>\n",
       "    <tr>\n",
       "      <th>4</th>\n",
       "      <td>4</td>\n",
       "      <td>6</td>\n",
       "    </tr>\n",
       "    <tr>\n",
       "      <th>5</th>\n",
       "      <td>2</td>\n",
       "      <td>3</td>\n",
       "    </tr>\n",
       "    <tr>\n",
       "      <th>6</th>\n",
       "      <td>6</td>\n",
       "      <td>7</td>\n",
       "    </tr>\n",
       "    <tr>\n",
       "      <th>7</th>\n",
       "      <td>7</td>\n",
       "      <td>9</td>\n",
       "    </tr>\n",
       "    <tr>\n",
       "      <th>8</th>\n",
       "      <td>9</td>\n",
       "      <td>10</td>\n",
       "    </tr>\n",
       "    <tr>\n",
       "      <th>9</th>\n",
       "      <td>8</td>\n",
       "      <td>11</td>\n",
       "    </tr>\n",
       "  </tbody>\n",
       "</table>\n",
       "</div>"
      ],
      "text/plain": [
       "   group1  group2\n",
       "0       3       6\n",
       "1       2       4\n",
       "2       5       7\n",
       "3       1       2\n",
       "4       4       6\n",
       "5       2       3\n",
       "6       6       7\n",
       "7       7       9\n",
       "8       9      10\n",
       "9       8      11"
      ]
     },
     "execution_count": 146,
     "metadata": {},
     "output_type": "execute_result"
    }
   ],
   "source": [
    "# Create a dataframe\n",
    "df = pd.DataFrame(data)\n",
    "\n",
    "df"
   ]
  },
  {
   "cell_type": "code",
   "execution_count": 147,
   "id": "a58fdfc7",
   "metadata": {},
   "outputs": [],
   "source": [
    "# Save as a csv file\n",
    "df.to_csv('./data/mannwhitneyu_sample_data', index=False, encoding='utf-8')"
   ]
  },
  {
   "cell_type": "code",
   "execution_count": 148,
   "id": "512a8af7",
   "metadata": {},
   "outputs": [
    {
     "data": {
      "text/html": [
       "<div>\n",
       "<style scoped>\n",
       "    .dataframe tbody tr th:only-of-type {\n",
       "        vertical-align: middle;\n",
       "    }\n",
       "\n",
       "    .dataframe tbody tr th {\n",
       "        vertical-align: top;\n",
       "    }\n",
       "\n",
       "    .dataframe thead th {\n",
       "        text-align: right;\n",
       "    }\n",
       "</style>\n",
       "<table border=\"1\" class=\"dataframe\">\n",
       "  <thead>\n",
       "    <tr style=\"text-align: right;\">\n",
       "      <th></th>\n",
       "      <th>group1</th>\n",
       "      <th>group2</th>\n",
       "    </tr>\n",
       "  </thead>\n",
       "  <tbody>\n",
       "    <tr>\n",
       "      <th>0</th>\n",
       "      <td>3</td>\n",
       "      <td>6</td>\n",
       "    </tr>\n",
       "    <tr>\n",
       "      <th>1</th>\n",
       "      <td>2</td>\n",
       "      <td>4</td>\n",
       "    </tr>\n",
       "    <tr>\n",
       "      <th>2</th>\n",
       "      <td>5</td>\n",
       "      <td>7</td>\n",
       "    </tr>\n",
       "    <tr>\n",
       "      <th>3</th>\n",
       "      <td>1</td>\n",
       "      <td>2</td>\n",
       "    </tr>\n",
       "    <tr>\n",
       "      <th>4</th>\n",
       "      <td>4</td>\n",
       "      <td>6</td>\n",
       "    </tr>\n",
       "    <tr>\n",
       "      <th>5</th>\n",
       "      <td>2</td>\n",
       "      <td>3</td>\n",
       "    </tr>\n",
       "    <tr>\n",
       "      <th>6</th>\n",
       "      <td>6</td>\n",
       "      <td>7</td>\n",
       "    </tr>\n",
       "    <tr>\n",
       "      <th>7</th>\n",
       "      <td>7</td>\n",
       "      <td>9</td>\n",
       "    </tr>\n",
       "    <tr>\n",
       "      <th>8</th>\n",
       "      <td>9</td>\n",
       "      <td>10</td>\n",
       "    </tr>\n",
       "    <tr>\n",
       "      <th>9</th>\n",
       "      <td>8</td>\n",
       "      <td>11</td>\n",
       "    </tr>\n",
       "  </tbody>\n",
       "</table>\n",
       "</div>"
      ],
      "text/plain": [
       "   group1  group2\n",
       "0       3       6\n",
       "1       2       4\n",
       "2       5       7\n",
       "3       1       2\n",
       "4       4       6\n",
       "5       2       3\n",
       "6       6       7\n",
       "7       7       9\n",
       "8       9      10\n",
       "9       8      11"
      ]
     },
     "execution_count": 148,
     "metadata": {},
     "output_type": "execute_result"
    }
   ],
   "source": [
    "# CHeck the data\n",
    "data = pd.read_csv('./data/mannwhitneyu_sample_data')\n",
    "\n",
    "data"
   ]
  },
  {
   "cell_type": "code",
   "execution_count": 154,
   "id": "4d7ecefa",
   "metadata": {},
   "outputs": [
    {
     "name": "stdout",
     "output_type": "stream",
     "text": [
      "32.5 \n",
      " 0.19622288836173518\n"
     ]
    }
   ],
   "source": [
    "# Wilcoxon Rank-Sum Test\n",
    "stat, p = mannwhitneyu(data['group1'], data['group2'])\n",
    "print(stat, '\\n', p)"
   ]
  },
  {
   "cell_type": "code",
   "execution_count": 156,
   "id": "d5b786a4",
   "metadata": {},
   "outputs": [
    {
     "name": "stdout",
     "output_type": "stream",
     "text": [
      "Fail to Reject H0\n"
     ]
    }
   ],
   "source": [
    "# Get a result\n",
    "if p > 0.05:\n",
    "    print(\"Fail to Reject H0\")\n",
    "else:\n",
    "    print(\"Reject H0\")"
   ]
  },
  {
   "cell_type": "code",
   "execution_count": 157,
   "id": "c1fb0291",
   "metadata": {},
   "outputs": [
    {
     "name": "stderr",
     "output_type": "stream",
     "text": [
      "C:\\Users\\genih\\AppData\\Roaming\\Python\\Python38\\site-packages\\seaborn\\categorical.py:166: FutureWarning: Setting a gradient palette using color= is deprecated and will be removed in version 0.13. Set `palette='dark:.3'` for same effect.\n",
      "  warnings.warn(msg, FutureWarning)\n"
     ]
    },
    {
     "data": {
      "image/png": "[encoded data removed]",
      "text/plain": [
       "<Figure size 640x480 with 1 Axes>"
      ]
     },
     "metadata": {},
     "output_type": "display_data"
    }
   ],
   "source": [
    "# Visualization: Boxplot\n",
    "\n",
    "sns.boxplot(data=data[['group1', 'group2']], palette=\"Set3\")\n",
    "sns.stripplot(data=data[['group1', 'group2']], color='.3', size=4)\n",
    "sns.despine(trim=True)\n",
    "plt.show()"
   ]
  },
  {
   "cell_type": "markdown",
   "id": "c1788ec6",
   "metadata": {},
   "source": [
    "# 6. Homogeneity of Variances - Levene's Test"
   ]
  },
  {
   "cell_type": "code",
   "execution_count": 171,
   "id": "61304dff",
   "metadata": {},
   "outputs": [],
   "source": [
    "# Import modules\n",
    "import pandas as pd\n",
    "from scipy.stats import levene"
   ]
  },
  {
   "cell_type": "code",
   "execution_count": 172,
   "id": "25c8a9e7",
   "metadata": {},
   "outputs": [
    {
     "data": {
      "text/html": [
       "<div>\n",
       "<style scoped>\n",
       "    .dataframe tbody tr th:only-of-type {\n",
       "        vertical-align: middle;\n",
       "    }\n",
       "\n",
       "    .dataframe tbody tr th {\n",
       "        vertical-align: top;\n",
       "    }\n",
       "\n",
       "    .dataframe thead th {\n",
       "        text-align: right;\n",
       "    }\n",
       "</style>\n",
       "<table border=\"1\" class=\"dataframe\">\n",
       "  <thead>\n",
       "    <tr style=\"text-align: right;\">\n",
       "      <th></th>\n",
       "      <th>group1</th>\n",
       "      <th>group2</th>\n",
       "    </tr>\n",
       "  </thead>\n",
       "  <tbody>\n",
       "    <tr>\n",
       "      <th>0</th>\n",
       "      <td>3</td>\n",
       "      <td>6</td>\n",
       "    </tr>\n",
       "    <tr>\n",
       "      <th>1</th>\n",
       "      <td>2</td>\n",
       "      <td>4</td>\n",
       "    </tr>\n",
       "    <tr>\n",
       "      <th>2</th>\n",
       "      <td>5</td>\n",
       "      <td>7</td>\n",
       "    </tr>\n",
       "    <tr>\n",
       "      <th>3</th>\n",
       "      <td>1</td>\n",
       "      <td>2</td>\n",
       "    </tr>\n",
       "    <tr>\n",
       "      <th>4</th>\n",
       "      <td>4</td>\n",
       "      <td>6</td>\n",
       "    </tr>\n",
       "    <tr>\n",
       "      <th>5</th>\n",
       "      <td>2</td>\n",
       "      <td>3</td>\n",
       "    </tr>\n",
       "    <tr>\n",
       "      <th>6</th>\n",
       "      <td>6</td>\n",
       "      <td>7</td>\n",
       "    </tr>\n",
       "    <tr>\n",
       "      <th>7</th>\n",
       "      <td>7</td>\n",
       "      <td>9</td>\n",
       "    </tr>\n",
       "    <tr>\n",
       "      <th>8</th>\n",
       "      <td>9</td>\n",
       "      <td>10</td>\n",
       "    </tr>\n",
       "    <tr>\n",
       "      <th>9</th>\n",
       "      <td>8</td>\n",
       "      <td>11</td>\n",
       "    </tr>\n",
       "  </tbody>\n",
       "</table>\n",
       "</div>"
      ],
      "text/plain": [
       "   group1  group2\n",
       "0       3       6\n",
       "1       2       4\n",
       "2       5       7\n",
       "3       1       2\n",
       "4       4       6\n",
       "5       2       3\n",
       "6       6       7\n",
       "7       7       9\n",
       "8       9      10\n",
       "9       8      11"
      ]
     },
     "execution_count": 172,
     "metadata": {},
     "output_type": "execute_result"
    }
   ],
   "source": [
    "# Load data\n",
    "data = pd.read_csv('./data/mannwhitneyu_sample_data')\n",
    "data"
   ]
  },
  {
   "cell_type": "code",
   "execution_count": 173,
   "id": "f030e1e3",
   "metadata": {},
   "outputs": [
    {
     "name": "stdout",
     "output_type": "stream",
     "text": [
      "0.0 \n",
      " 1.0\n"
     ]
    }
   ],
   "source": [
    "# Levene's Test\n",
    "stat, p = levene(data['group1'], data['group2'])\n",
    "\n",
    "print(stat, '\\n', p)"
   ]
  },
  {
   "cell_type": "code",
   "execution_count": 174,
   "id": "b22dc0e7",
   "metadata": {},
   "outputs": [
    {
     "name": "stdout",
     "output_type": "stream",
     "text": [
      "Fail to Reject H0\n"
     ]
    }
   ],
   "source": [
    "# Result\n",
    "if p > 0.05:\n",
    "    print('Fail to Reject H0')\n",
    "else:\n",
    "    print('Reject H0')"
   ]
  },
  {
   "cell_type": "markdown",
   "id": "36ae3ac1",
   "metadata": {},
   "source": [
    "# 7. Wilcoxon-Mann-Whitney Test"
   ]
  },
  {
   "cell_type": "markdown",
   "id": "6600c097",
   "metadata": {},
   "source": [
    "- H0: Median values in two groups are the same\n",
    "- H1: Median values in two groups are different"
   ]
  },
  {
   "cell_type": "markdown",
   "id": "85e123bf",
   "metadata": {},
   "source": [
    "## 7.1. Basics"
   ]
  },
  {
   "cell_type": "code",
   "execution_count": 186,
   "id": "f9fcc49b",
   "metadata": {},
   "outputs": [],
   "source": [
    "# Import modules\n",
    "from scipy.stats import mannwhitneyu"
   ]
  },
  {
   "cell_type": "code",
   "execution_count": 187,
   "id": "a6449cf5",
   "metadata": {},
   "outputs": [],
   "source": [
    "# Generate data\n",
    "group1 = [3, 2, 5, 1, 4, 2, 6, 7, 9, 8]\n",
    "group2 = [6, 4, 7, 2, 6, 3, 7, 9, 10, 11]"
   ]
  },
  {
   "cell_type": "code",
   "execution_count": 188,
   "id": "17502a6e",
   "metadata": {},
   "outputs": [
    {
     "name": "stdout",
     "output_type": "stream",
     "text": [
      "32.5 \n",
      " 0.19622288836173518\n"
     ]
    }
   ],
   "source": [
    "# Wilcoxon-Mann U Test\n",
    "stat, p = mannwhitneyu(group1, group2)\n",
    "\n",
    "print(stat, '\\n', p)"
   ]
  },
  {
   "cell_type": "code",
   "execution_count": 190,
   "id": "1d661534",
   "metadata": {},
   "outputs": [
    {
     "name": "stdout",
     "output_type": "stream",
     "text": [
      "Mann-Whitney U Statistic:  32.5\n",
      "P-Value:  0.19622288836173518\n"
     ]
    }
   ],
   "source": [
    "print('Mann-Whitney U Statistic: ', stat)\n",
    "print('P-Value: ', p)"
   ]
  },
  {
   "cell_type": "code",
   "execution_count": 191,
   "id": "4f6ae632",
   "metadata": {},
   "outputs": [
    {
     "name": "stdout",
     "output_type": "stream",
     "text": [
      "Fail to Reject H0\n"
     ]
    }
   ],
   "source": [
    "# Get a result\n",
    "if p > 0.05:\n",
    "    print(\"Fail to Reject H0\")\n",
    "else:\n",
    "    print(\"Reject H0\")"
   ]
  },
  {
   "cell_type": "markdown",
   "id": "0075d9fb",
   "metadata": {},
   "source": [
    "## 3.2. Calcualte `P-Value`"
   ]
  },
  {
   "cell_type": "code",
   "execution_count": 193,
   "id": "d9ffea53",
   "metadata": {},
   "outputs": [],
   "source": [
    "# Import modules\n",
    "import numpy as np\n",
    "import pandas as pd\n",
    "from scipy.stats import mannwhitneyu\n",
    "from scipy import stats"
   ]
  },
  {
   "cell_type": "code",
   "execution_count": 194,
   "id": "099c2ebc",
   "metadata": {},
   "outputs": [
    {
     "data": {
      "text/html": [
       "<div>\n",
       "<style scoped>\n",
       "    .dataframe tbody tr th:only-of-type {\n",
       "        vertical-align: middle;\n",
       "    }\n",
       "\n",
       "    .dataframe tbody tr th {\n",
       "        vertical-align: top;\n",
       "    }\n",
       "\n",
       "    .dataframe thead th {\n",
       "        text-align: right;\n",
       "    }\n",
       "</style>\n",
       "<table border=\"1\" class=\"dataframe\">\n",
       "  <thead>\n",
       "    <tr style=\"text-align: right;\">\n",
       "      <th></th>\n",
       "      <th>group1</th>\n",
       "      <th>group2</th>\n",
       "    </tr>\n",
       "  </thead>\n",
       "  <tbody>\n",
       "    <tr>\n",
       "      <th>0</th>\n",
       "      <td>3</td>\n",
       "      <td>6</td>\n",
       "    </tr>\n",
       "    <tr>\n",
       "      <th>1</th>\n",
       "      <td>2</td>\n",
       "      <td>4</td>\n",
       "    </tr>\n",
       "    <tr>\n",
       "      <th>2</th>\n",
       "      <td>5</td>\n",
       "      <td>7</td>\n",
       "    </tr>\n",
       "    <tr>\n",
       "      <th>3</th>\n",
       "      <td>1</td>\n",
       "      <td>2</td>\n",
       "    </tr>\n",
       "    <tr>\n",
       "      <th>4</th>\n",
       "      <td>4</td>\n",
       "      <td>6</td>\n",
       "    </tr>\n",
       "    <tr>\n",
       "      <th>5</th>\n",
       "      <td>2</td>\n",
       "      <td>3</td>\n",
       "    </tr>\n",
       "    <tr>\n",
       "      <th>6</th>\n",
       "      <td>6</td>\n",
       "      <td>7</td>\n",
       "    </tr>\n",
       "    <tr>\n",
       "      <th>7</th>\n",
       "      <td>7</td>\n",
       "      <td>9</td>\n",
       "    </tr>\n",
       "    <tr>\n",
       "      <th>8</th>\n",
       "      <td>9</td>\n",
       "      <td>10</td>\n",
       "    </tr>\n",
       "    <tr>\n",
       "      <th>9</th>\n",
       "      <td>8</td>\n",
       "      <td>11</td>\n",
       "    </tr>\n",
       "  </tbody>\n",
       "</table>\n",
       "</div>"
      ],
      "text/plain": [
       "   group1  group2\n",
       "0       3       6\n",
       "1       2       4\n",
       "2       5       7\n",
       "3       1       2\n",
       "4       4       6\n",
       "5       2       3\n",
       "6       6       7\n",
       "7       7       9\n",
       "8       9      10\n",
       "9       8      11"
      ]
     },
     "execution_count": 194,
     "metadata": {},
     "output_type": "execute_result"
    }
   ],
   "source": [
    "# Load data\n",
    "data = pd.read_csv('./data/mannwhitneyu_sample_data')\n",
    "\n",
    "data"
   ]
  },
  {
   "cell_type": "code",
   "execution_count": 195,
   "id": "d0c29213",
   "metadata": {},
   "outputs": [
    {
     "name": "stdout",
     "output_type": "stream",
     "text": [
      "32.5 \n",
      " 0.19622288836173518\n"
     ]
    }
   ],
   "source": [
    "# Mann-Whitney U Test\n",
    "st, p = mannwhitneyu(data['group1'], data['group2'])\n",
    "\n",
    "print(st, '\\n',p)"
   ]
  },
  {
   "cell_type": "code",
   "execution_count": 196,
   "id": "dbb3f0df",
   "metadata": {},
   "outputs": [
    {
     "name": "stdout",
     "output_type": "stream",
     "text": [
      "10 10\n"
     ]
    }
   ],
   "source": [
    "# Calculate the lengths of two groups\n",
    "n1, n2 = len(data['group1']), len(data['group2'])\n",
    "\n",
    "print(n1, n2)"
   ]
  },
  {
   "cell_type": "code",
   "execution_count": 198,
   "id": "d5fff419",
   "metadata": {},
   "outputs": [],
   "source": [
    "# Use (n1 * n2 - U) when 'u' value is big\n",
    "if st > n1 * n2 / 2:\n",
    "    st = n1 * n2 - st"
   ]
  },
  {
   "cell_type": "code",
   "execution_count": 199,
   "id": "89b1aac6",
   "metadata": {},
   "outputs": [
    {
     "name": "stdout",
     "output_type": "stream",
     "text": [
      "Mann-Whitney U Statistic:  32.5\n",
      "P-Value:  0.19622288836173518\n"
     ]
    }
   ],
   "source": [
    "# Calculate p-value\n",
    "p_value = 2 * stats.norm.cdf(-abs(st) / np.sqrt(n1 * n2 * (n1 + n2 + 1) / 12))\n",
    "\n",
    "print('Mann-Whitney U Statistic: ', st)\n",
    "print('P-Value: ', p)"
   ]
  },
  {
   "cell_type": "markdown",
   "id": "1a539375",
   "metadata": {},
   "source": [
    "## 7.3. Excercise: Sleep Time Dataset"
   ]
  },
  {
   "cell_type": "code",
   "execution_count": 200,
   "id": "36c7383f",
   "metadata": {},
   "outputs": [],
   "source": [
    "# Import modules\n",
    "import numpy as np\n",
    "import pandas as pd\n",
    "from scipy.stats import mannwhitneyu"
   ]
  },
  {
   "cell_type": "code",
   "execution_count": 203,
   "id": "bd7e3ffe",
   "metadata": {},
   "outputs": [
    {
     "data": {
      "text/plain": [
       "(array([6.26527608, 9.56663119, 7.49809929, 4.0347738 , 6.27028488,\n",
       "        3.35286897, 3.8353112 , 3.90107166, 7.230531  , 7.94294898,\n",
       "        7.41329613, 5.65210157, 5.05290305, 5.03673446, 5.4274926 ,\n",
       "        3.35483399, 8.41750232, 4.68283742, 5.2521344 , 7.3608651 ,\n",
       "        6.06199413, 8.72321211, 4.30478857, 5.2914795 , 5.25376367,\n",
       "        6.05840517, 8.06429209, 6.73714853, 6.88036633, 4.0738255 ,\n",
       "        8.66986547, 4.06650246, 4.82438565, 4.41159364, 5.38914188,\n",
       "        5.63654287, 7.66068492, 6.10935092, 3.88123981, 5.39211002,\n",
       "        3.75886992, 7.46980589, 6.61776042, 7.13325391, 6.24688363,\n",
       "        6.10786224, 6.17882729, 7.52108684, 4.50071238, 6.88680075,\n",
       "        4.48566461, 6.45718982, 4.07892443, 5.13429372, 6.26132584,\n",
       "        8.23643217, 4.99670048, 5.68755505, 4.50699277, 6.14634722,\n",
       "        3.60656299, 8.4861998 , 8.8299886 , 6.94287394, 6.5633215 ,\n",
       "        5.89190813, 7.268671  , 5.46770739, 5.89930567, 4.94629009,\n",
       "        5.26892683, 7.47713674, 6.97455801, 8.57187286, 7.19252622,\n",
       "        4.84124872, 9.05371775, 4.4323159 , 3.80736367, 4.4490289 ,\n",
       "        5.05531491, 4.67877035, 5.39861321, 8.08237519, 3.81037022,\n",
       "        5.12093457, 9.12949359, 3.5744516 , 4.5691998 , 6.39271924,\n",
       "        5.85241686, 6.26593072, 3.96832565, 6.40494831, 4.08360227,\n",
       "        4.01462161, 6.35689965, 4.86860033, 4.09623974, 7.67914715]),\n",
       " array([ 5.01530116,  6.46946704,  6.33988515,  7.17082264,  7.99150438,\n",
       "         6.21634289,  5.1119049 ,  5.85264024,  5.38814952,  6.73986082,\n",
       "        10.9189577 ,  4.12510259,  5.90706586,  7.80857615,  6.12954973,\n",
       "         7.20009352,  8.32561168, 10.00419311,  6.55468788,  5.71491841,\n",
       "         6.86536897,  6.2144233 ,  7.15029278,  8.58565968,  8.58023457,\n",
       "         6.50935874,  8.10735273,  6.12623934,  5.81102742,  5.33294306,\n",
       "         6.66924754,  4.85942783,  4.63329064,  6.30911261,  9.32615853,\n",
       "         9.07476605,  6.14904419,  6.17357866,  5.7209075 ,  8.79517707,\n",
       "         6.39372234,  6.48541908,  5.46950298,  5.34095946,  6.40435788,\n",
       "         9.62792945,  5.74779149,  4.68222763,  6.60399491,  6.99298786,\n",
       "         6.05918413,  8.03210687,  7.71898673,  5.76172211,  5.93191389,\n",
       "         8.49412343,  5.31863595,  5.99056728,  9.19311839,  9.596561  ,\n",
       "         5.500077  ,  8.3950408 ,  6.62859242,  8.20278056,  7.43342515,\n",
       "         5.7800013 ,  6.4838614 ,  4.94018636,  7.42246329,  5.72864927,\n",
       "         9.45333293,  5.09741187,  3.26860712,  9.59573878,  7.6573637 ,\n",
       "         8.86418637,  6.93431032,  6.48107576,  5.49459079,  6.13072195,\n",
       "         7.03677557,  8.54505581,  8.81870907,  6.69839741,  3.56646912,\n",
       "         7.48187676,  6.99770468,  7.43038435,  5.71344328,  8.19037946,\n",
       "         7.97053399,  3.80816003,  8.2726072 ,  7.89010774,  8.63028083,\n",
       "         7.29106992,  8.21996437,  8.54586801,  6.17886563,  5.34297913]))"
      ]
     },
     "execution_count": 203,
     "metadata": {},
     "output_type": "execute_result"
    }
   ],
   "source": [
    "# Generate data\n",
    "np.random.seed(85)\n",
    "group1 = np.random.normal(loc=6, scale=1.5, size=100)\n",
    "group2 = np.random.normal(loc=7, scale=1.5, size=100)\n",
    "\n",
    "group1, group2\n"
   ]
  },
  {
   "cell_type": "code",
   "execution_count": 206,
   "id": "f5bcce9b",
   "metadata": {},
   "outputs": [
    {
     "data": {
      "text/html": [
       "<div>\n",
       "<style scoped>\n",
       "    .dataframe tbody tr th:only-of-type {\n",
       "        vertical-align: middle;\n",
       "    }\n",
       "\n",
       "    .dataframe tbody tr th {\n",
       "        vertical-align: top;\n",
       "    }\n",
       "\n",
       "    .dataframe thead th {\n",
       "        text-align: right;\n",
       "    }\n",
       "</style>\n",
       "<table border=\"1\" class=\"dataframe\">\n",
       "  <thead>\n",
       "    <tr style=\"text-align: right;\">\n",
       "      <th></th>\n",
       "      <th>group1</th>\n",
       "      <th>group2</th>\n",
       "    </tr>\n",
       "  </thead>\n",
       "  <tbody>\n",
       "    <tr>\n",
       "      <th>0</th>\n",
       "      <td>6.265276</td>\n",
       "      <td>5.015301</td>\n",
       "    </tr>\n",
       "    <tr>\n",
       "      <th>1</th>\n",
       "      <td>9.566631</td>\n",
       "      <td>6.469467</td>\n",
       "    </tr>\n",
       "    <tr>\n",
       "      <th>2</th>\n",
       "      <td>7.498099</td>\n",
       "      <td>6.339885</td>\n",
       "    </tr>\n",
       "    <tr>\n",
       "      <th>3</th>\n",
       "      <td>4.034774</td>\n",
       "      <td>7.170823</td>\n",
       "    </tr>\n",
       "    <tr>\n",
       "      <th>4</th>\n",
       "      <td>6.270285</td>\n",
       "      <td>7.991504</td>\n",
       "    </tr>\n",
       "    <tr>\n",
       "      <th>...</th>\n",
       "      <td>...</td>\n",
       "      <td>...</td>\n",
       "    </tr>\n",
       "    <tr>\n",
       "      <th>95</th>\n",
       "      <td>4.014622</td>\n",
       "      <td>7.291070</td>\n",
       "    </tr>\n",
       "    <tr>\n",
       "      <th>96</th>\n",
       "      <td>6.356900</td>\n",
       "      <td>8.219964</td>\n",
       "    </tr>\n",
       "    <tr>\n",
       "      <th>97</th>\n",
       "      <td>4.868600</td>\n",
       "      <td>8.545868</td>\n",
       "    </tr>\n",
       "    <tr>\n",
       "      <th>98</th>\n",
       "      <td>4.096240</td>\n",
       "      <td>6.178866</td>\n",
       "    </tr>\n",
       "    <tr>\n",
       "      <th>99</th>\n",
       "      <td>7.679147</td>\n",
       "      <td>5.342979</td>\n",
       "    </tr>\n",
       "  </tbody>\n",
       "</table>\n",
       "<p>100 rows × 2 columns</p>\n",
       "</div>"
      ],
      "text/plain": [
       "      group1    group2\n",
       "0   6.265276  5.015301\n",
       "1   9.566631  6.469467\n",
       "2   7.498099  6.339885\n",
       "3   4.034774  7.170823\n",
       "4   6.270285  7.991504\n",
       "..       ...       ...\n",
       "95  4.014622  7.291070\n",
       "96  6.356900  8.219964\n",
       "97  4.868600  8.545868\n",
       "98  4.096240  6.178866\n",
       "99  7.679147  5.342979\n",
       "\n",
       "[100 rows x 2 columns]"
      ]
     },
     "execution_count": 206,
     "metadata": {},
     "output_type": "execute_result"
    }
   ],
   "source": [
    "# Create a DataFrame\n",
    "data = pd.DataFrame({'group1' : group1 , 'group2': group2})\n",
    "\n",
    "data"
   ]
  },
  {
   "cell_type": "code",
   "execution_count": 208,
   "id": "74432815",
   "metadata": {},
   "outputs": [],
   "source": [
    "# Save as a csv file\n",
    "data.to_csv('./data/sleep_data.csv', index=False, encoding='utf-8')"
   ]
  },
  {
   "cell_type": "code",
   "execution_count": 209,
   "id": "7335933a",
   "metadata": {},
   "outputs": [
    {
     "data": {
      "text/html": [
       "<div>\n",
       "<style scoped>\n",
       "    .dataframe tbody tr th:only-of-type {\n",
       "        vertical-align: middle;\n",
       "    }\n",
       "\n",
       "    .dataframe tbody tr th {\n",
       "        vertical-align: top;\n",
       "    }\n",
       "\n",
       "    .dataframe thead th {\n",
       "        text-align: right;\n",
       "    }\n",
       "</style>\n",
       "<table border=\"1\" class=\"dataframe\">\n",
       "  <thead>\n",
       "    <tr style=\"text-align: right;\">\n",
       "      <th></th>\n",
       "      <th>group1</th>\n",
       "      <th>group2</th>\n",
       "    </tr>\n",
       "  </thead>\n",
       "  <tbody>\n",
       "    <tr>\n",
       "      <th>0</th>\n",
       "      <td>6.265276</td>\n",
       "      <td>5.015301</td>\n",
       "    </tr>\n",
       "    <tr>\n",
       "      <th>1</th>\n",
       "      <td>9.566631</td>\n",
       "      <td>6.469467</td>\n",
       "    </tr>\n",
       "    <tr>\n",
       "      <th>2</th>\n",
       "      <td>7.498099</td>\n",
       "      <td>6.339885</td>\n",
       "    </tr>\n",
       "    <tr>\n",
       "      <th>3</th>\n",
       "      <td>4.034774</td>\n",
       "      <td>7.170823</td>\n",
       "    </tr>\n",
       "    <tr>\n",
       "      <th>4</th>\n",
       "      <td>6.270285</td>\n",
       "      <td>7.991504</td>\n",
       "    </tr>\n",
       "    <tr>\n",
       "      <th>...</th>\n",
       "      <td>...</td>\n",
       "      <td>...</td>\n",
       "    </tr>\n",
       "    <tr>\n",
       "      <th>95</th>\n",
       "      <td>4.014622</td>\n",
       "      <td>7.291070</td>\n",
       "    </tr>\n",
       "    <tr>\n",
       "      <th>96</th>\n",
       "      <td>6.356900</td>\n",
       "      <td>8.219964</td>\n",
       "    </tr>\n",
       "    <tr>\n",
       "      <th>97</th>\n",
       "      <td>4.868600</td>\n",
       "      <td>8.545868</td>\n",
       "    </tr>\n",
       "    <tr>\n",
       "      <th>98</th>\n",
       "      <td>4.096240</td>\n",
       "      <td>6.178866</td>\n",
       "    </tr>\n",
       "    <tr>\n",
       "      <th>99</th>\n",
       "      <td>7.679147</td>\n",
       "      <td>5.342979</td>\n",
       "    </tr>\n",
       "  </tbody>\n",
       "</table>\n",
       "<p>100 rows × 2 columns</p>\n",
       "</div>"
      ],
      "text/plain": [
       "      group1    group2\n",
       "0   6.265276  5.015301\n",
       "1   9.566631  6.469467\n",
       "2   7.498099  6.339885\n",
       "3   4.034774  7.170823\n",
       "4   6.270285  7.991504\n",
       "..       ...       ...\n",
       "95  4.014622  7.291070\n",
       "96  6.356900  8.219964\n",
       "97  4.868600  8.545868\n",
       "98  4.096240  6.178866\n",
       "99  7.679147  5.342979\n",
       "\n",
       "[100 rows x 2 columns]"
      ]
     },
     "execution_count": 209,
     "metadata": {},
     "output_type": "execute_result"
    }
   ],
   "source": [
    "# Check the file\n",
    "sleep_data = pd.read_csv('./data/sleep_data.csv')\n",
    "\n",
    "sleep_data"
   ]
  },
  {
   "cell_type": "code",
   "execution_count": 210,
   "id": "b3d98ed2",
   "metadata": {},
   "outputs": [
    {
     "data": {
      "text/plain": [
       "(0     6.265276\n",
       " 1     9.566631\n",
       " 2     7.498099\n",
       " 3     4.034774\n",
       " 4     6.270285\n",
       "         ...   \n",
       " 95    4.014622\n",
       " 96    6.356900\n",
       " 97    4.868600\n",
       " 98    4.096240\n",
       " 99    7.679147\n",
       " Name: group1, Length: 100, dtype: float64,\n",
       " 0     5.015301\n",
       " 1     6.469467\n",
       " 2     6.339885\n",
       " 3     7.170823\n",
       " 4     7.991504\n",
       "         ...   \n",
       " 95    7.291070\n",
       " 96    8.219964\n",
       " 97    8.545868\n",
       " 98    6.178866\n",
       " 99    5.342979\n",
       " Name: group2, Length: 100, dtype: float64)"
      ]
     },
     "execution_count": 210,
     "metadata": {},
     "output_type": "execute_result"
    }
   ],
   "source": [
    "# Create columns\n",
    "group1_data = data['group1']\n",
    "group2_data = data['group2']\n",
    "\n",
    "group1_data, group2_data"
   ]
  },
  {
   "cell_type": "code",
   "execution_count": 212,
   "id": "fcd6bac6",
   "metadata": {},
   "outputs": [
    {
     "data": {
      "text/plain": [
       "(3267.0, 2.3041891560020393e-05)"
      ]
     },
     "execution_count": 212,
     "metadata": {},
     "output_type": "execute_result"
    }
   ],
   "source": [
    "# Mann-Whitney U Test\n",
    "stat, p = mannwhitneyu(data['group1'], \n",
    "                       data['group2'],\n",
    "                      alternative='two-sided')  # Set Two-sided test\n",
    "\n",
    "stat, p"
   ]
  },
  {
   "cell_type": "code",
   "execution_count": 213,
   "id": "ac2a4967",
   "metadata": {},
   "outputs": [
    {
     "name": "stdout",
     "output_type": "stream",
     "text": [
      "H0 rejected (There are differences between group1 and group2)\n"
     ]
    }
   ],
   "source": [
    "# Result\n",
    "if p < 0.05:\n",
    "    print('H0 rejected (There are differences between group1 and group2)')\n",
    "else:\n",
    "    print('H0 adopted(There are no differences between gorup1 and group2)')\n",
    "    "
   ]
  },
  {
   "cell_type": "markdown",
   "id": "4d8b344c",
   "metadata": {},
   "source": [
    "# 8. Kruskal-Wallis H Test"
   ]
  },
  {
   "cell_type": "markdown",
   "id": "9cf7f64c",
   "metadata": {},
   "source": [
    "- H0: Mean values are the same among all groups\n",
    "- H1: Mean values are different among all groups   \n",
    "\n",
    "\n",
    "- p-value < 0.05: H0 is rejected"
   ]
  },
  {
   "cell_type": "code",
   "execution_count": 217,
   "id": "27057ce7",
   "metadata": {},
   "outputs": [],
   "source": [
    "# Import modules\n",
    "import numpy as np\n",
    "from scipy.stats import kruskal"
   ]
  },
  {
   "cell_type": "code",
   "execution_count": 221,
   "id": "0378ace5",
   "metadata": {},
   "outputs": [
    {
     "name": "stdout",
     "output_type": "stream",
     "text": [
      "Group1: \n",
      " [5.17685072 7.37775412 5.99873286 3.6898492  5.18018992 3.23524598\n",
      " 3.55687413 3.60071444 5.820354   6.29529932 5.94219742 4.76806771\n",
      " 4.36860203 4.35782298 4.6183284  3.236556   6.61166821 4.12189161\n",
      " 4.50142293 5.9072434 ] \n",
      "\n",
      "Group2:  [7.04132942 8.81547474 5.86985905 6.527653   6.50250912 7.03893678\n",
      " 8.37619473 7.49143236 7.58691089 5.71588367 8.77991031 5.71100164\n",
      " 6.2162571  5.94106242 6.59276125 6.75769525 8.10712328 7.07290062\n",
      " 5.58749321 6.59474001 5.50591328 7.9798706  7.41184028 7.75550261\n",
      " 7.16458909] \n",
      "\n",
      "Group3:  [10.07190816 10.11921819 11.01405789  9.00047492 10.5912005   8.99044307\n",
      " 10.30479321  8.71928295  9.42286248 10.17421722 11.49095478  9.33113365\n",
      "  9.79170337  9.00466185 10.09756482] \n",
      "\n"
     ]
    }
   ],
   "source": [
    "# Generate data\n",
    "np.random.seed(85)\n",
    "\n",
    "group1 = np.random.normal(loc=5, scale=1, size=20)\n",
    "group2 = np.random.normal(loc=7, scale=1, size=25)\n",
    "group3 = np.random.normal(loc=10, scale=1, size=15)\n",
    "\n",
    "print('Group1: \\n', group1, '\\n')\n",
    "print('Group2: ', group2, '\\n')\n",
    "print('Group3: ', group3, '\\n')"
   ]
  },
  {
   "cell_type": "code",
   "execution_count": 223,
   "id": "33213495",
   "metadata": {},
   "outputs": [
    {
     "name": "stdout",
     "output_type": "stream",
     "text": [
      "Kruskal-Wallis H Test:  44.12746448087435\n",
      "P-Value:  2.617235713219655e-10\n"
     ]
    }
   ],
   "source": [
    "#Kruskal-Wallis H Test\n",
    "H, p = kruskal(group1, group2, group3)\n",
    "\n",
    "print('Kruskal-Wallis H Test: ', H)\n",
    "print('P-Value: ', p)"
   ]
  },
  {
   "cell_type": "markdown",
   "id": "bba6af4d",
   "metadata": {},
   "source": [
    "# 9. Friedman Test"
   ]
  },
  {
   "cell_type": "markdown",
   "id": "c6f7df01",
   "metadata": {},
   "source": [
    "- Hypothesis\n",
    "  - H0: No differences\n",
    "  - H1: At least one difference"
   ]
  },
  {
   "cell_type": "code",
   "execution_count": 226,
   "id": "a76c74e9",
   "metadata": {},
   "outputs": [],
   "source": [
    "# Import modules\n",
    "import numpy as np\n",
    "import pandas as pd\n",
    "import matplotlib.pyplot as plt\n",
    "from scipy.stats import friedmanchisquare"
   ]
  },
  {
   "cell_type": "code",
   "execution_count": 235,
   "id": "4fb2ac88",
   "metadata": {},
   "outputs": [
    {
     "name": "stdout",
     "output_type": "stream",
     "text": [
      "Group1: \n",
      " [10.35370144 14.75550825 11.99746571  7.37969841 10.36037984  6.47049196\n",
      "  7.11374826  7.20142889 11.640708   12.59059864]\n",
      "\n",
      "Group2: \n",
      " [13.88439484 11.53613542 10.73720407 10.71564595 11.2366568   8.47311199\n",
      " 15.22333643 10.24378322 11.00284587 13.8144868 ]\n",
      "\n",
      "Group3: \n",
      " [15.08265883 18.63094948 12.7397181  14.055306   14.00501823 15.07787356\n",
      " 17.75238946 15.98286471 16.17382178 12.43176733]\n"
     ]
    }
   ],
   "source": [
    "# Generate data\n",
    "np.random.seed(85)\n",
    "group1 = np.random.normal(loc=10, scale=2, size=10)\n",
    "group2 = np.random.normal(loc=12, scale=2, size=10)\n",
    "group3 = np.random.normal(loc=15, scale=2, size=10)\n",
    "\n",
    "print('Group1: \\n', group1)\n",
    "print('\\nGroup2: \\n', group2)\n",
    "print('\\nGroup3: \\n', group3)"
   ]
  },
  {
   "cell_type": "code",
   "execution_count": 236,
   "id": "5a9c3011",
   "metadata": {},
   "outputs": [
    {
     "data": {
      "text/plain": [
       "array([[10.35370144, 13.88439484, 15.08265883],\n",
       "       [14.75550825, 11.53613542, 18.63094948],\n",
       "       [11.99746571, 10.73720407, 12.7397181 ],\n",
       "       [ 7.37969841, 10.71564595, 14.055306  ],\n",
       "       [10.36037984, 11.2366568 , 14.00501823],\n",
       "       [ 6.47049196,  8.47311199, 15.07787356],\n",
       "       [ 7.11374826, 15.22333643, 17.75238946],\n",
       "       [ 7.20142889, 10.24378322, 15.98286471],\n",
       "       [11.640708  , 11.00284587, 16.17382178],\n",
       "       [12.59059864, 13.8144868 , 12.43176733]])"
      ]
     },
     "execution_count": 236,
     "metadata": {},
     "output_type": "execute_result"
    }
   ],
   "source": [
    "# Stack data\n",
    "data = np.stack([group1, group2, group3], axis=1) # np.stack(): Stack data in columns\n",
    "\n",
    "data"
   ]
  },
  {
   "cell_type": "code",
   "execution_count": 237,
   "id": "0946ce61",
   "metadata": {},
   "outputs": [
    {
     "name": "stdout",
     "output_type": "stream",
     "text": [
      "Result of Friedman Test\n",
      "Statistics: 10.400000000000006\n",
      "P-Value: 0.005516564420760756\n"
     ]
    }
   ],
   "source": [
    "# Friedman Test\n",
    "stat, p = friedmanchisquare(*data.T)  # `data.T`: Transpose the array -> Pass each array as a seperate factor\n",
    "                                      # `*`: Unpack an array\n",
    "\n",
    "print('Result of Friedman Test')\n",
    "print(f\"Statistics: {stat}\")\n",
    "print(f\"P-Value: {p}\")"
   ]
  },
  {
   "cell_type": "code",
   "execution_count": 239,
   "id": "6fae2b54",
   "metadata": {},
   "outputs": [
    {
     "name": "stdout",
     "output_type": "stream",
     "text": [
      "H0 is rejected\n"
     ]
    }
   ],
   "source": [
    "# Result\n",
    "if p < 0.05:\n",
    "    print('H0 is rejected')\n",
    "else:\n",
    "    print('H0 is adopted')"
   ]
  },
  {
   "cell_type": "code",
   "execution_count": 240,
   "id": "46a24e52",
   "metadata": {},
   "outputs": [
    {
     "data": {
      "image/png": "[encoded data removed]",
      "text/plain": [
       "<Figure size 640x480 with 1 Axes>"
      ]
     },
     "metadata": {},
     "output_type": "display_data"
    }
   ],
   "source": [
    "# Visualization: Boxplot\n",
    "fig, ax = plt.subplots()\n",
    "ax.boxplot(data)\n",
    "ax.set_xticklabels(['Group 1', 'Group 2', 'Group 3'])\n",
    "ax.set_ylabel('Value')\n",
    "ax.set_title('Friedman Test Result')\n",
    "plt.show()"
   ]
  }
 ],
 "metadata": {
  "kernelspec": {
   "display_name": "AI",
   "language": "python",
   "name": "ai"
  },
  "language_info": {
   "codemirror_mode": {
    "name": "ipython",
    "version": 3
   },
   "file_extension": ".py",
   "mimetype": "text/x-python",
   "name": "python",
   "nbconvert_exporter": "python",
   "pygments_lexer": "ipython3",
   "version": "3.8.16"
  }
 },
 "nbformat": 4,
 "nbformat_minor": 5
}
