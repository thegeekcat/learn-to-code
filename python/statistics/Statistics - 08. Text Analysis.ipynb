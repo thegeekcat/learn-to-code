{
 "cells": [
  {
   "cell_type": "markdown",
   "id": "61a61464",
   "metadata": {},
   "source": [
    "# Text Analysis - Pre-processing"
   ]
  },
  {
   "cell_type": "code",
   "execution_count": 6,
   "id": "b1339d99",
   "metadata": {},
   "outputs": [
    {
     "name": "stdout",
     "output_type": "stream",
     "text": [
      "Defaulting to user installation because normal site-packages is not writeable\n",
      "Collecting nltk\n",
      "  Downloading nltk-3.8.1-py3-none-any.whl (1.5 MB)\n",
      "     ---------------------------------------- 0.0/1.5 MB ? eta -:--:--\n",
      "     ---------- ----------------------------- 0.4/1.5 MB 8.7 MB/s eta 0:00:01\n",
      "     --------------------- ------------------ 0.8/1.5 MB 7.4 MB/s eta 0:00:01\n",
      "     ---------------------------------- ----- 1.3/1.5 MB 7.6 MB/s eta 0:00:01\n",
      "     ---------------------------------------- 1.5/1.5 MB 6.9 MB/s eta 0:00:00\n",
      "Requirement already satisfied: click in c:\\users\\genih\\appdata\\roaming\\python\\python38\\site-packages (from nltk) (8.1.3)\n",
      "Collecting regex>=2021.8.3\n",
      "  Downloading regex-2023.5.5-cp38-cp38-win_amd64.whl (267 kB)\n",
      "     ---------------------------------------- 0.0/267.9 kB ? eta -:--:--\n",
      "     -------------------------------------- 267.9/267.9 kB 8.3 MB/s eta 0:00:00\n",
      "Collecting joblib\n",
      "  Downloading joblib-1.2.0-py3-none-any.whl (297 kB)\n",
      "     ---------------------------------------- 0.0/298.0 kB ? eta -:--:--\n",
      "     -------------------------------------- 298.0/298.0 kB 9.3 MB/s eta 0:00:00\n",
      "Collecting tqdm\n",
      "  Downloading tqdm-4.65.0-py3-none-any.whl (77 kB)\n",
      "     ---------------------------------------- 0.0/77.1 kB ? eta -:--:--\n",
      "     ---------------------------------------- 77.1/77.1 kB 4.5 MB/s eta 0:00:00\n",
      "Requirement already satisfied: colorama in c:\\mine\\programming\\anaconda3\\envs\\ai\\lib\\site-packages (from click->nltk) (0.4.6)\n",
      "Installing collected packages: tqdm, regex, joblib, nltk\n",
      "Successfully installed joblib-1.2.0 nltk-3.8.1 regex-2023.5.5 tqdm-4.65.0\n"
     ]
    },
    {
     "name": "stderr",
     "output_type": "stream",
     "text": [
      "  WARNING: The script tqdm.exe is installed in 'C:\\Users\\genih\\AppData\\Roaming\\Python\\Python38\\Scripts' which is not on PATH.\n",
      "  Consider adding this directory to PATH or, if you prefer to suppress this warning, use --no-warn-script-location.\n",
      "  WARNING: The script nltk.exe is installed in 'C:\\Users\\genih\\AppData\\Roaming\\Python\\Python38\\Scripts' which is not on PATH.\n",
      "  Consider adding this directory to PATH or, if you prefer to suppress this warning, use --no-warn-script-location.\n"
     ]
    }
   ],
   "source": [
    "# Install `nltk`\n",
    "!pip install nltk"
   ]
  },
  {
   "cell_type": "code",
   "execution_count": 10,
   "id": "62b9053c",
   "metadata": {},
   "outputs": [
    {
     "name": "stderr",
     "output_type": "stream",
     "text": [
      "[nltk_data] Downloading package punkt to\n",
      "[nltk_data]     C:\\Users\\genih\\AppData\\Roaming\\nltk_data...\n",
      "[nltk_data]   Package punkt is already up-to-date!\n",
      "[nltk_data] Downloading package stopwords to\n",
      "[nltk_data]     C:\\Users\\genih\\AppData\\Roaming\\nltk_data...\n",
      "[nltk_data]   Unzipping corpora\\stopwords.zip.\n"
     ]
    },
    {
     "data": {
      "text/plain": [
       "True"
      ]
     },
     "execution_count": 10,
     "metadata": {},
     "output_type": "execute_result"
    }
   ],
   "source": [
    "# Import modules\n",
    "import nltk\n",
    "from nltk.corpus import stopwords\n",
    "from nltk.tokenize import word_tokenize\n",
    "from nltk.stem import PorterStemmer\n",
    "\n",
    "nltk.download('punkt')\n",
    "nltk.download('stopwords')"
   ]
  },
  {
   "cell_type": "code",
   "execution_count": 11,
   "id": "287ed4c7",
   "metadata": {},
   "outputs": [
    {
     "name": "stdout",
     "output_type": "stream",
     "text": [
      "Tokenization:  ['I', 'am', 'a', 'student', '.', 'I', 'am', 'studying', 'Computer', 'Science', '.']\n"
     ]
    }
   ],
   "source": [
    "# Tokenization\n",
    "text = \"I am a student. I am studying Computer Science.\"\n",
    "tokens = word_tokenize(text)\n",
    "print(\"Tokenization: \", tokens)"
   ]
  },
  {
   "cell_type": "code",
   "execution_count": 12,
   "id": "70a6c048",
   "metadata": {},
   "outputs": [
    {
     "name": "stdout",
     "output_type": "stream",
     "text": [
      "Stopwords:  ['student', '.', 'studying', 'Computer', 'Science', '.']\n"
     ]
    }
   ],
   "source": [
    "# Stopwords\n",
    "stop_words = set(stopwords.words('English'))\n",
    "filtered_tokens = [token for  token in tokens if token.lower() not in stop_words]\n",
    "print(\"Stopwords: \", filtered_tokens)"
   ]
  },
  {
   "cell_type": "code",
   "execution_count": 14,
   "id": "b5beae9b",
   "metadata": {},
   "outputs": [
    {
     "name": "stdout",
     "output_type": "stream",
     "text": [
      "Normalization:  ['student', '.', 'studi', 'comput', 'scienc', '.']\n"
     ]
    }
   ],
   "source": [
    "# Normalization\n",
    "stemmer = PorterStemmer()\n",
    "normalized_tokens = [stemmer.stem(token) for token in filtered_tokens]\n",
    "print(\"Normalization: \", normalized_tokens)"
   ]
  }
 ],
 "metadata": {
  "kernelspec": {
   "display_name": "AI",
   "language": "python",
   "name": "ai"
  },
  "language_info": {
   "codemirror_mode": {
    "name": "ipython",
    "version": 3
   },
   "file_extension": ".py",
   "mimetype": "text/x-python",
   "name": "python",
   "nbconvert_exporter": "python",
   "pygments_lexer": "ipython3",
   "version": "3.8.16"
  }
 },
 "nbformat": 4,
 "nbformat_minor": 5
}
