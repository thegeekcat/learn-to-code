{
 "cells": [
  {
   "cell_type": "markdown",
   "id": "e70be19a",
   "metadata": {},
   "source": [
    "# Apply Vegging to ResNet-18: CIFAR-10 Dataset"
   ]
  },
  {
   "cell_type": "markdown",
   "id": "19946b81",
   "metadata": {},
   "source": [
    "### Preparation"
   ]
  },
  {
   "cell_type": "code",
   "execution_count": 5,
   "id": "a62b5317",
   "metadata": {},
   "outputs": [],
   "source": [
    "# Import modules\n",
    "import torch\n",
    "import torch.nn as nn\n",
    "import torch.optim as optim\n",
    "import torchvision\n",
    "import torchvision.transforms as transforms\n",
    "\n",
    "from torch.utils.data import DataLoader\n",
    "from torchvision.datasets import CIFAR10\n",
    "from torchvision.models import resnet18\n",
    "\n",
    "from sklearn.ensemble import BaggingClassifier\n",
    "from sklearn.tree import DecisionTreeClassifier\n",
    "from sklearn.metrics import accuracy_score"
   ]
  },
  {
   "cell_type": "markdown",
   "id": "c083d3d2",
   "metadata": {},
   "source": [
    "### Set GPU"
   ]
  },
  {
   "cell_type": "code",
   "execution_count": 6,
   "id": "c8376eef",
   "metadata": {},
   "outputs": [
    {
     "name": "stdout",
     "output_type": "stream",
     "text": [
      "cpu\n"
     ]
    }
   ],
   "source": [
    "# Check available device\n",
    "device = torch.device('cuda' if torch.cuda.is_available() else 'cpu')\n",
    "print(device)"
   ]
  },
  {
   "cell_type": "markdown",
   "id": "e531f38e",
   "metadata": {},
   "source": [
    "### Load Dataset and Pre-Processing"
   ]
  },
  {
   "cell_type": "code",
   "execution_count": 8,
   "id": "969ed725",
   "metadata": {},
   "outputs": [],
   "source": [
    "# Set transform\n",
    "transform = transforms.Compose([\n",
    "    transforms.ToTensor(),\n",
    "    transforms.Normalize((0.5, 0.5, 0.5), (0.5, 0.5, 0.5))  # Normalize dataset between '-1' and '1'\n",
    "])"
   ]
  },
  {
   "cell_type": "code",
   "execution_count": 9,
   "id": "09131873",
   "metadata": {},
   "outputs": [
    {
     "name": "stdout",
     "output_type": "stream",
     "text": [
      "Downloading https://www.cs.toronto.edu/~kriz/cifar-10-python.tar.gz to ./data/0707-CIFAR10-ResNet18\\cifar-10-python.tar.gz\n"
     ]
    },
    {
     "data": {
      "application/vnd.jupyter.widget-view+json": {
       "model_id": "59b95dce48d04e62bf791451af786582",
       "version_major": 2,
       "version_minor": 0
      },
      "text/plain": [
       "  0%|          | 0/170498071 [00:00<?, ?it/s]"
      ]
     },
     "metadata": {},
     "output_type": "display_data"
    },
    {
     "name": "stdout",
     "output_type": "stream",
     "text": [
      "Extracting ./data/0707-CIFAR10-ResNet18\\cifar-10-python.tar.gz to ./data/0707-CIFAR10-ResNet18\n",
      "Files already downloaded and verified\n"
     ]
    }
   ],
   "source": [
    "# Load datasets\n",
    "train_dataset = CIFAR10(root = './data/0707-CIFAR10-ResNet18', train=True, download=True, transform=transform)\n",
    "test_dataset = CIFAR10(root = './data/0707-CIFAR10-ResNet18', train=True, download=True, transform=transform)"
   ]
  },
  {
   "cell_type": "code",
   "execution_count": 12,
   "id": "761bae52",
   "metadata": {},
   "outputs": [
    {
     "name": "stdout",
     "output_type": "stream",
     "text": [
      "<torch.utils.data.dataloader.DataLoader object at 0x000002017FA04760>\n",
      "<torch.utils.data.dataloader.DataLoader object at 0x000002017FA04820>\n"
     ]
    }
   ],
   "source": [
    "# Set DataLoaders\n",
    "train_loader = DataLoader(train_dataset, batch_size=128, shuffle=True, num_workers=2)\n",
    "test_loader = DataLoader(test_dataset, batch_size=128, shuffle=False, num_workers=2)\n",
    "\n",
    "print(train_loader)\n",
    "print(test_loader)"
   ]
  },
  {
   "cell_type": "markdown",
   "id": "4c982f77",
   "metadata": {},
   "source": [
    "### Define Models"
   ]
  },
  {
   "cell_type": "code",
   "execution_count": 15,
   "id": "2ec131a3",
   "metadata": {},
   "outputs": [
    {
     "name": "stderr",
     "output_type": "stream",
     "text": [
      "Downloading: \"https://download.pytorch.org/models/resnet18-f37072fd.pth\" to C:\\Users\\genih/.cache\\torch\\hub\\checkpoints\\resnet18-f37072fd.pth\n"
     ]
    },
    {
     "data": {
      "application/vnd.jupyter.widget-view+json": {
       "model_id": "4b96f51355f443e3861ed767a5a232eb",
       "version_major": 2,
       "version_minor": 0
      },
      "text/plain": [
       "  0%|          | 0.00/44.7M [00:00<?, ?B/s]"
      ]
     },
     "metadata": {},
     "output_type": "display_data"
    },
    {
     "name": "stdout",
     "output_type": "stream",
     "text": [
      "ResNet(\n",
      "  (conv1): Conv2d(3, 64, kernel_size=(7, 7), stride=(2, 2), padding=(3, 3), bias=False)\n",
      "  (bn1): BatchNorm2d(64, eps=1e-05, momentum=0.1, affine=True, track_running_stats=True)\n",
      "  (relu): ReLU(inplace=True)\n",
      "  (maxpool): MaxPool2d(kernel_size=3, stride=2, padding=1, dilation=1, ceil_mode=False)\n",
      "  (layer1): Sequential(\n",
      "    (0): BasicBlock(\n",
      "      (conv1): Conv2d(64, 64, kernel_size=(3, 3), stride=(1, 1), padding=(1, 1), bias=False)\n",
      "      (bn1): BatchNorm2d(64, eps=1e-05, momentum=0.1, affine=True, track_running_stats=True)\n",
      "      (relu): ReLU(inplace=True)\n",
      "      (conv2): Conv2d(64, 64, kernel_size=(3, 3), stride=(1, 1), padding=(1, 1), bias=False)\n",
      "      (bn2): BatchNorm2d(64, eps=1e-05, momentum=0.1, affine=True, track_running_stats=True)\n",
      "    )\n",
      "    (1): BasicBlock(\n",
      "      (conv1): Conv2d(64, 64, kernel_size=(3, 3), stride=(1, 1), padding=(1, 1), bias=False)\n",
      "      (bn1): BatchNorm2d(64, eps=1e-05, momentum=0.1, affine=True, track_running_stats=True)\n",
      "      (relu): ReLU(inplace=True)\n",
      "      (conv2): Conv2d(64, 64, kernel_size=(3, 3), stride=(1, 1), padding=(1, 1), bias=False)\n",
      "      (bn2): BatchNorm2d(64, eps=1e-05, momentum=0.1, affine=True, track_running_stats=True)\n",
      "    )\n",
      "  )\n",
      "  (layer2): Sequential(\n",
      "    (0): BasicBlock(\n",
      "      (conv1): Conv2d(64, 128, kernel_size=(3, 3), stride=(2, 2), padding=(1, 1), bias=False)\n",
      "      (bn1): BatchNorm2d(128, eps=1e-05, momentum=0.1, affine=True, track_running_stats=True)\n",
      "      (relu): ReLU(inplace=True)\n",
      "      (conv2): Conv2d(128, 128, kernel_size=(3, 3), stride=(1, 1), padding=(1, 1), bias=False)\n",
      "      (bn2): BatchNorm2d(128, eps=1e-05, momentum=0.1, affine=True, track_running_stats=True)\n",
      "      (downsample): Sequential(\n",
      "        (0): Conv2d(64, 128, kernel_size=(1, 1), stride=(2, 2), bias=False)\n",
      "        (1): BatchNorm2d(128, eps=1e-05, momentum=0.1, affine=True, track_running_stats=True)\n",
      "      )\n",
      "    )\n",
      "    (1): BasicBlock(\n",
      "      (conv1): Conv2d(128, 128, kernel_size=(3, 3), stride=(1, 1), padding=(1, 1), bias=False)\n",
      "      (bn1): BatchNorm2d(128, eps=1e-05, momentum=0.1, affine=True, track_running_stats=True)\n",
      "      (relu): ReLU(inplace=True)\n",
      "      (conv2): Conv2d(128, 128, kernel_size=(3, 3), stride=(1, 1), padding=(1, 1), bias=False)\n",
      "      (bn2): BatchNorm2d(128, eps=1e-05, momentum=0.1, affine=True, track_running_stats=True)\n",
      "    )\n",
      "  )\n",
      "  (layer3): Sequential(\n",
      "    (0): BasicBlock(\n",
      "      (conv1): Conv2d(128, 256, kernel_size=(3, 3), stride=(2, 2), padding=(1, 1), bias=False)\n",
      "      (bn1): BatchNorm2d(256, eps=1e-05, momentum=0.1, affine=True, track_running_stats=True)\n",
      "      (relu): ReLU(inplace=True)\n",
      "      (conv2): Conv2d(256, 256, kernel_size=(3, 3), stride=(1, 1), padding=(1, 1), bias=False)\n",
      "      (bn2): BatchNorm2d(256, eps=1e-05, momentum=0.1, affine=True, track_running_stats=True)\n",
      "      (downsample): Sequential(\n",
      "        (0): Conv2d(128, 256, kernel_size=(1, 1), stride=(2, 2), bias=False)\n",
      "        (1): BatchNorm2d(256, eps=1e-05, momentum=0.1, affine=True, track_running_stats=True)\n",
      "      )\n",
      "    )\n",
      "    (1): BasicBlock(\n",
      "      (conv1): Conv2d(256, 256, kernel_size=(3, 3), stride=(1, 1), padding=(1, 1), bias=False)\n",
      "      (bn1): BatchNorm2d(256, eps=1e-05, momentum=0.1, affine=True, track_running_stats=True)\n",
      "      (relu): ReLU(inplace=True)\n",
      "      (conv2): Conv2d(256, 256, kernel_size=(3, 3), stride=(1, 1), padding=(1, 1), bias=False)\n",
      "      (bn2): BatchNorm2d(256, eps=1e-05, momentum=0.1, affine=True, track_running_stats=True)\n",
      "    )\n",
      "  )\n",
      "  (layer4): Sequential(\n",
      "    (0): BasicBlock(\n",
      "      (conv1): Conv2d(256, 512, kernel_size=(3, 3), stride=(2, 2), padding=(1, 1), bias=False)\n",
      "      (bn1): BatchNorm2d(512, eps=1e-05, momentum=0.1, affine=True, track_running_stats=True)\n",
      "      (relu): ReLU(inplace=True)\n",
      "      (conv2): Conv2d(512, 512, kernel_size=(3, 3), stride=(1, 1), padding=(1, 1), bias=False)\n",
      "      (bn2): BatchNorm2d(512, eps=1e-05, momentum=0.1, affine=True, track_running_stats=True)\n",
      "      (downsample): Sequential(\n",
      "        (0): Conv2d(256, 512, kernel_size=(1, 1), stride=(2, 2), bias=False)\n",
      "        (1): BatchNorm2d(512, eps=1e-05, momentum=0.1, affine=True, track_running_stats=True)\n",
      "      )\n",
      "    )\n",
      "    (1): BasicBlock(\n",
      "      (conv1): Conv2d(512, 512, kernel_size=(3, 3), stride=(1, 1), padding=(1, 1), bias=False)\n",
      "      (bn1): BatchNorm2d(512, eps=1e-05, momentum=0.1, affine=True, track_running_stats=True)\n",
      "      (relu): ReLU(inplace=True)\n",
      "      (conv2): Conv2d(512, 512, kernel_size=(3, 3), stride=(1, 1), padding=(1, 1), bias=False)\n",
      "      (bn2): BatchNorm2d(512, eps=1e-05, momentum=0.1, affine=True, track_running_stats=True)\n",
      "    )\n",
      "  )\n",
      "  (avgpool): AdaptiveAvgPool2d(output_size=(1, 1))\n",
      "  (fc): Linear(in_features=512, out_features=1000, bias=True)\n",
      ")\n"
     ]
    }
   ],
   "source": [
    "# Define a model\n",
    "model = resnet18(pretrained=True)\n",
    "print(model)"
   ]
  },
  {
   "cell_type": "code",
   "execution_count": 16,
   "id": "696589eb",
   "metadata": {},
   "outputs": [],
   "source": [
    "# Adjust parameters\n",
    "num_features = model.fc.in_features\n",
    "model.fc = nn.Linear(num_features, 10)"
   ]
  },
  {
   "cell_type": "code",
   "execution_count": 18,
   "id": "fd2b83ee",
   "metadata": {},
   "outputs": [
    {
     "name": "stdout",
     "output_type": "stream",
     "text": [
      "BaggingClassifier(base_estimator=DecisionTreeClassifier(max_depth=7),\n",
      "                  n_estimators=5)\n"
     ]
    }
   ],
   "source": [
    "# Define a model for Ensemble\n",
    "bagging_model = BaggingClassifier(\n",
    "    base_estimator = DecisionTreeClassifier(max_depth = 7),\n",
    "    n_estimators = 5\n",
    ")\n",
    "print(bagging_model)"
   ]
  },
  {
   "cell_type": "markdown",
   "id": "874f7463",
   "metadata": {},
   "source": [
    "### Set Loss Function and Optimizer"
   ]
  },
  {
   "cell_type": "code",
   "execution_count": 19,
   "id": "2ef4edf5",
   "metadata": {},
   "outputs": [],
   "source": [
    "# Set Loss Function\n",
    "criterion = nn.CrossEntropyLoss()\n",
    "\n",
    "# Set Optimizer\n",
    "optimizer = optim.Adam(model.parameters(), lr=0.001)"
   ]
  },
  {
   "cell_type": "markdown",
   "id": "1be8eebd",
   "metadata": {},
   "source": [
    "### Define Learning Models"
   ]
  },
  {
   "cell_type": "code",
   "execution_count": 24,
   "id": "969e27df",
   "metadata": {},
   "outputs": [],
   "source": [
    "# Define a trainning model\n",
    "def train(mdel, device, train_loader, optimizer, criterion):\n",
    "    # Set a mode\n",
    "    model.train()\n",
    "    \n",
    "    # Fit models\n",
    "    for batch_idex, (data, target) in enumerate(train_loader):\n",
    "        data, target = data.to(device), target.to(device)\n",
    "        \n",
    "        # Initialzie optimizer\n",
    "        optimizer.zero_grad()\n",
    "        \n",
    "        # Set output\n",
    "        output = model(data)\n",
    "        \n",
    "        # Set Loss Function\n",
    "        loss = criterion(output, target)\n",
    "        \n",
    "        # Set backpropagation\n",
    "        loss.backward()\n",
    "        optimizer.step()\n",
    "        \n",
    "# Define an evaluation model\n",
    "def evaluate(model, device, test_loader):\n",
    "    # Set a mode\n",
    "    model.eval()\n",
    "    \n",
    "    # Initialize lists\n",
    "    predictions = []\n",
    "    targets = []\n",
    "    \n",
    "    # Fit models\n",
    "    with torch.no_grad():\n",
    "        for data, target in test_loader:\n",
    "            data, target = data.to(device), target.to(device)\n",
    "            \n",
    "            # Set output\n",
    "            output = model(data)\n",
    "            \n",
    "            # Get values of predicted row\n",
    "            _, predicted = torch.max(output, 1)\n",
    "            \n",
    "            # Transform data in a NumPy array format\n",
    "            predictions.extend(predicted.cpu().numpy())\n",
    "            targets.extend(target.cpu().numpy())\n",
    "            \n",
    "    # Calcualte accuracy\n",
    "    accuracy = accuracy_score(targets, predictions)\n",
    "    \n",
    "    return accuracy\n",
    "\n",
    "\n",
    "# Define a prediction model with ensemble techniques\n",
    "def ensemble_predict(models, device, test_loader):\n",
    "    # Initialize lists\n",
    "    predictions = []\n",
    "    \n",
    "    # Fit models\n",
    "    with torch.no_grad():\n",
    "        # Get data\n",
    "        for data, _ in test_loader:\n",
    "            data = data.to(device)\n",
    "            outputs = []\n",
    "            for model in models:\n",
    "                model = model.to(device)\n",
    "                model.eval()\n",
    "                output = model(data)\n",
    "                outputs.append(output)\n",
    "            \n",
    "            # Set output\n",
    "            ensemble_output = torch.stack(outputs).mean(dim=0)\n",
    "            _, predicted = torch.max(ensemble_output, 1)\n",
    "            predictions.extend(predicted.cpu().numpy())\n",
    "    \n",
    "    return predictions"
   ]
  },
  {
   "cell_type": "markdown",
   "id": "bec92f6f",
   "metadata": {},
   "source": [
    "### Run the Model"
   ]
  },
  {
   "cell_type": "code",
   "execution_count": 26,
   "id": "73d074e1",
   "metadata": {},
   "outputs": [
    {
     "name": "stdout",
     "output_type": "stream",
     "text": [
      "Training Model 1\n",
      "Model 1 Accuracy: 0.96\n",
      "Training Model 2\n",
      "Model 2 Accuracy: 0.96\n",
      "Training Model 3\n",
      "Model 3 Accuracy: 0.97\n",
      "Training Model 4\n",
      "Model 4 Accuracy: 0.98\n",
      "Training Model 5\n",
      "Model 5 Accuracy: 0.98\n",
      "\n",
      "Ensemble Accuracy: 0.98\n"
     ]
    }
   ],
   "source": [
    "if __name__ == '__main__':\n",
    "    # Initialize lists\n",
    "    models = []\n",
    "    \n",
    "    # Fit model\n",
    "    for epoch in range(1, 6):  # Use 5 models for Bagging Ensemble model\n",
    "        print(f'Training Model {epoch}')\n",
    "        \n",
    "        model = model.to(device)\n",
    "        train(model, device, train_loader, optimizer, criterion)\n",
    "        \n",
    "        accuracy = evaluate(model, device, test_loader)\n",
    "        print(f'Model {epoch} Accuracy: {accuracy:.2f}')\n",
    "        models.append(model)\n",
    "    \n",
    "    # Get results\n",
    "    ensemble_predictions = ensemble_predict(models, device, test_loader)\n",
    "    ensemble_accuracy = accuracy_score(test_dataset.targets, ensemble_predictions)\n",
    "    print(f'\\nEnsemble Accuracy: {ensemble_accuracy:.2f}')"
   ]
  }
 ],
 "metadata": {
  "kernelspec": {
   "display_name": "AI",
   "language": "python",
   "name": "ai"
  },
  "language_info": {
   "codemirror_mode": {
    "name": "ipython",
    "version": 3
   },
   "file_extension": ".py",
   "mimetype": "text/x-python",
   "name": "python",
   "nbconvert_exporter": "python",
   "pygments_lexer": "ipython3",
   "version": "3.8.16"
  }
 },
 "nbformat": 4,
 "nbformat_minor": 5
}
