{
 "cells": [
  {
   "cell_type": "markdown",
   "metadata": {
    "id": "iaZ0qtuX_Wts"
   },
   "source": [
    "# 1. Basics"
   ]
  },
  {
   "cell_type": "markdown",
   "metadata": {
    "id": "21T83WfQFURJ"
   },
   "source": [
    "**** Note: I refer to many sources from the internet, my classes, and books; including `w3school.com`."
   ]
  },
  {
   "cell_type": "markdown",
   "metadata": {
    "id": "gfqQy5PQ_qE1"
   },
   "source": [
    "## 1.1. Import NumPy"
   ]
  },
  {
   "cell_type": "code",
   "execution_count": 202,
   "metadata": {
    "id": "4VZjpx3X_rCe"
   },
   "outputs": [],
   "source": [
    "import numpy as np"
   ]
  },
  {
   "cell_type": "markdown",
   "metadata": {
    "id": "9JSyMhW0_wtp"
   },
   "source": [
    "## 1.2. Check NumPy Version"
   ]
  },
  {
   "cell_type": "code",
   "execution_count": 203,
   "metadata": {
    "colab": {
     "base_uri": "https://localhost:8080/"
    },
    "id": "1-FHZrI-_mfC",
    "outputId": "d001d28e-d419-47af-f15a-9b3341d1abbc"
   },
   "outputs": [
    {
     "name": "stdout",
     "output_type": "stream",
     "text": [
      "1.22.4\n"
     ]
    }
   ],
   "source": [
    "print(np.__version__)"
   ]
  },
  {
   "cell_type": "markdown",
   "metadata": {
    "id": "7Gi5tzEmH36X"
   },
   "source": [
    "\n",
    "\n",
    "---\n",
    "\n"
   ]
  },
  {
   "cell_type": "markdown",
   "metadata": {
    "id": "CuEIkN0qBmfz"
   },
   "source": [
    "# 2. Create Arrays"
   ]
  },
  {
   "cell_type": "markdown",
   "metadata": {
    "id": "0T-rJqc1CFw_"
   },
   "source": [
    "## 2.1. Create a NumPy `ndarray` "
   ]
  },
  {
   "cell_type": "markdown",
   "metadata": {
    "id": "cl_gNsLZCMuN"
   },
   "source": [
    "- `ndarray`\n",
    " - Def: The 'Array' in Numpy is called `ndarray`\n",
    " - Usage: Name is `ndarray` but it's used as `array()` function"
   ]
  },
  {
   "cell_type": "code",
   "execution_count": 204,
   "metadata": {
    "colab": {
     "base_uri": "https://localhost:8080/"
    },
    "id": "IQbphNRfBpMQ",
    "outputId": "3cc1ecfc-dc23-4e76-804c-71fc7e86cf20"
   },
   "outputs": [
    {
     "name": "stdout",
     "output_type": "stream",
     "text": [
      "[1 2 3 4 5]\n",
      "<class 'numpy.ndarray'>\n"
     ]
    }
   ],
   "source": [
    "# Create a NumPy `ndarray` using `array()` function\n",
    "\n",
    "arr = np.array([1, 2, 3, 4, 5])  # list []\n",
    "\n",
    "print(arr)\n",
    "print(type(arr))   # Check data type"
   ]
  },
  {
   "cell_type": "code",
   "execution_count": 205,
   "metadata": {
    "colab": {
     "base_uri": "https://localhost:8080/"
    },
    "id": "UzsD2b3LCIaO",
    "outputId": "b26b77ec-91eb-47dc-9510-425d0ec7ab0d"
   },
   "outputs": [
    {
     "name": "stdout",
     "output_type": "stream",
     "text": [
      "[1 2 3 4 5]\n",
      "<class 'numpy.ndarray'>\n"
     ]
    }
   ],
   "source": [
    "# Create a NumPy `ndarray` using a 'tuple'\n",
    "\n",
    "arr = np.array((1, 2, 3, 4, 5))  # tuple ()\n",
    "\n",
    "print(arr)\n",
    "print(type(arr))"
   ]
  },
  {
   "cell_type": "code",
   "execution_count": 206,
   "metadata": {
    "colab": {
     "base_uri": "https://localhost:8080/"
    },
    "id": "L9BpQn_TCIfJ",
    "outputId": "760679df-6909-4f7c-de66-5c521eea8a26"
   },
   "outputs": [
    {
     "name": "stdout",
     "output_type": "stream",
     "text": [
      "Type of [1, 2, 3]:  <class 'list'>\n",
      "Type of (1, 2, 3):  <class 'tuple'>\n"
     ]
    }
   ],
   "source": [
    "# Compare a 'list' and a 'tuple'\n",
    "print('Type of [1, 2, 3]: ', type([1, 2, 3]))\n",
    "print('Type of (1, 2, 3): ', type((1, 2, 3)))"
   ]
  },
  {
   "cell_type": "markdown",
   "metadata": {
    "id": "5yKL7YuBFPUf"
   },
   "source": [
    "## 2.2. Dimensions in Arrays"
   ]
  },
  {
   "cell_type": "markdown",
   "metadata": {
    "id": "W6nMZpWEFpn0"
   },
   "source": [
    "### 0-Dimentional Arrays"
   ]
  },
  {
   "cell_type": "code",
   "execution_count": 207,
   "metadata": {
    "colab": {
     "base_uri": "https://localhost:8080/"
    },
    "id": "I_VVVsSIFsK4",
    "outputId": "53408817-4c65-46eb-8a79-b50e3cb0843b"
   },
   "outputs": [
    {
     "name": "stdout",
     "output_type": "stream",
     "text": [
      "0-D Array:  1\n"
     ]
    }
   ],
   "source": [
    "arr = np.array(1)\n",
    "\n",
    "print('0-D Array: ', arr)"
   ]
  },
  {
   "cell_type": "markdown",
   "metadata": {
    "id": "bL0FtohmF0Am"
   },
   "source": [
    "### 1-Dimentional Arrays"
   ]
  },
  {
   "cell_type": "code",
   "execution_count": 208,
   "metadata": {
    "colab": {
     "base_uri": "https://localhost:8080/"
    },
    "id": "iEafE2JiF418",
    "outputId": "e02624df-e773-4776-ce8a-ca95c6b82a15"
   },
   "outputs": [
    {
     "name": "stdout",
     "output_type": "stream",
     "text": [
      "1-D Array: [1 2 3 4 5]\n"
     ]
    }
   ],
   "source": [
    "arr = np.array([1, 2, 3, 4, 5])  # Use the list type to make an array\n",
    "\n",
    "print('1-D Array:', arr)"
   ]
  },
  {
   "cell_type": "markdown",
   "metadata": {
    "id": "wnKowVqvGCJ6"
   },
   "source": [
    "### 2-Dimentional Arrays"
   ]
  },
  {
   "cell_type": "code",
   "execution_count": 209,
   "metadata": {
    "colab": {
     "base_uri": "https://localhost:8080/"
    },
    "id": "Sjw1vLBgGDy-",
    "outputId": "8ebf6154-1628-4098-d4dc-049b0a650fea"
   },
   "outputs": [
    {
     "name": "stdout",
     "output_type": "stream",
     "text": [
      "2-D Array: \n",
      " [[1 2]\n",
      " [3 4]]\n"
     ]
    }
   ],
   "source": [
    "arr = np.array([[1, 2], [3, 4]]) # Use the list type\n",
    "\n",
    "print('2-D Array: \\n', arr)"
   ]
  },
  {
   "cell_type": "markdown",
   "metadata": {
    "id": "xaSIhCVPGU46"
   },
   "source": [
    "### 3-Dimentional Arrays"
   ]
  },
  {
   "cell_type": "code",
   "execution_count": 210,
   "metadata": {
    "colab": {
     "base_uri": "https://localhost:8080/"
    },
    "id": "VWXktxqoGWhz",
    "outputId": "bcb10207-3444-4964-d895-b71c55ff6e5c"
   },
   "outputs": [
    {
     "name": "stdout",
     "output_type": "stream",
     "text": [
      "3-D Array: \n",
      " [[[ 1  2  3  4  5]\n",
      "  [ 6  7  8  9 10]]\n",
      "\n",
      " [[11 12 13 14 15]\n",
      "  [16 17 18 19 20]]]\n"
     ]
    }
   ],
   "source": [
    "arr = np.array([[[1, 2, 3, 4, 5], [6, 7, 8, 9, 10]],\n",
    "               [[11, 12, 13, 14, 15], [16, 17, 18, 19, 20]]])\n",
    "\n",
    "print('3-D Array: \\n', arr)"
   ]
  },
  {
   "cell_type": "markdown",
   "metadata": {
    "id": "hSCegbTYHJhN"
   },
   "source": [
    "### Higher Dimensional Arrays"
   ]
  },
  {
   "cell_type": "code",
   "execution_count": 211,
   "metadata": {
    "colab": {
     "base_uri": "https://localhost:8080/"
    },
    "id": "9-au_yWuHLMm",
    "outputId": "1f4a01b6-28bf-4db8-e137-b01b19b9040a"
   },
   "outputs": [
    {
     "name": "stdout",
     "output_type": "stream",
     "text": [
      "[[[[[1 2 3]]]]]\n",
      "The number of dimensions:  5\n"
     ]
    }
   ],
   "source": [
    "# `ndmin`: Define the number of dimentions\n",
    "\n",
    "arr = np.array([1, 2, 3], ndmin=5)\n",
    "\n",
    "print(arr)\n",
    "print('The number of dimensions: ', arr.ndim)"
   ]
  },
  {
   "cell_type": "code",
   "execution_count": 212,
   "metadata": {
    "id": "zuumOp1PHG7c"
   },
   "outputs": [],
   "source": [
    "arr = np.array"
   ]
  },
  {
   "cell_type": "markdown",
   "metadata": {
    "id": "MheciYZhIpjs"
   },
   "source": [
    "\n",
    "\n",
    "---\n",
    "\n"
   ]
  },
  {
   "cell_type": "markdown",
   "metadata": {
    "id": "HfjDXBFwInJA"
   },
   "source": [
    "# 3. Array Indexing\n",
    "\n"
   ]
  },
  {
   "cell_type": "markdown",
   "metadata": {
    "id": "TqCj1yKvIxq4"
   },
   "source": [
    "- NumPy Indexing\n",
    " - Starting with '0'"
   ]
  },
  {
   "cell_type": "markdown",
   "metadata": {
    "id": "Pr7va_D1JPRu"
   },
   "source": [
    "## 3.1. Access Array Elements"
   ]
  },
  {
   "cell_type": "markdown",
   "metadata": {
    "id": "e-SEd_9hJHsd"
   },
   "source": [
    "### Access Array Elements in 1-D Arrays"
   ]
  },
  {
   "cell_type": "code",
   "execution_count": 213,
   "metadata": {
    "colab": {
     "base_uri": "https://localhost:8080/"
    },
    "id": "jNOZv2LCJS0F",
    "outputId": "1651b63e-4e17-43a8-ca7f-c8ddf4eb68f8"
   },
   "outputs": [
    {
     "name": "stdout",
     "output_type": "stream",
     "text": [
      "1\n",
      "4\n"
     ]
    }
   ],
   "source": [
    "arr = np.array([1, 2, 3, 4])  # list type\n",
    "\n",
    "print(arr[0])  # Access Index[0]='1'\n",
    "print(arr[3])  # Access Index[3]='4'"
   ]
  },
  {
   "cell_type": "markdown",
   "metadata": {
    "id": "BK9tdA6DJkPs"
   },
   "source": [
    "### Access Array Elements in 2-D Arrays"
   ]
  },
  {
   "cell_type": "code",
   "execution_count": 214,
   "metadata": {
    "colab": {
     "base_uri": "https://localhost:8080/"
    },
    "id": "R-6rF5L5JpJM",
    "outputId": "616c2665-5b92-45ce-bedf-0030b9c5b43f"
   },
   "outputs": [
    {
     "name": "stdout",
     "output_type": "stream",
     "text": [
      "4th element on 2nd row:  2\n"
     ]
    }
   ],
   "source": [
    "arr = np.array([[1, 2, 3, 4, 5],[6, 7, 8, 9, 10]])\n",
    "\n",
    "print('4th element on 2nd row: ', arr[0, 1])  # 4th on 2nd row='9'"
   ]
  },
  {
   "cell_type": "markdown",
   "metadata": {
    "id": "4r6aOkVQKixh"
   },
   "source": [
    "### Access Array Elements in 3-D Arrays"
   ]
  },
  {
   "cell_type": "code",
   "execution_count": 215,
   "metadata": {
    "colab": {
     "base_uri": "https://localhost:8080/"
    },
    "id": "Dgiql3QUKmsf",
    "outputId": "a8beac45-45c2-43e3-d6af-71aeddc53aa6"
   },
   "outputs": [
    {
     "name": "stdout",
     "output_type": "stream",
     "text": [
      "3\n",
      "[[[ 1  2  3  4  5]\n",
      "  [ 6  7  8  9 10]]\n",
      "\n",
      " [[11 12 13 14 15]\n",
      "  [16 17 18 19 20]]]\n",
      "Array[1, 0, 2]:  13\n"
     ]
    }
   ],
   "source": [
    "arr = np.array([[[1, 2, 3, 4, 5], [6, 7, 8, 9, 10]],\n",
    "               [[11, 12, 13, 14, 15], [16, 17, 18, 19, 20]]])\n",
    "               \n",
    "print(arr.ndim)\n",
    "print(arr)\n",
    "\n",
    "print('Array[1, 0, 2]: ', arr[1, 0, 2])"
   ]
  },
  {
   "cell_type": "markdown",
   "metadata": {
    "id": "VJADF14LLo2Q"
   },
   "source": [
    "## 3.2. Negative Indexing"
   ]
  },
  {
   "cell_type": "markdown",
   "metadata": {
    "id": "LIE-YnNkLs-P"
   },
   "source": [
    "- Negative Indexing: Access an array from the end\n",
    "                    -> Using 'Minus'  e.g. -1, -2"
   ]
  },
  {
   "cell_type": "code",
   "execution_count": 216,
   "metadata": {
    "colab": {
     "base_uri": "https://localhost:8080/"
    },
    "id": "dSvh56G1L29N",
    "outputId": "35637721-b2a6-4537-e976-251fcfcc8b89"
   },
   "outputs": [
    {
     "name": "stdout",
     "output_type": "stream",
     "text": [
      "[[ 1  2  3  4  5  6  7  8  9 10]\n",
      " [11 12 13 14 15 16 17 18 19 20]]\n",
      "\n",
      "The num of dimentions:  2\n",
      "\n",
      "The second last element from 1st dimention:  9\n"
     ]
    }
   ],
   "source": [
    "arr = np.array([[1, 2, 3, 4, 5, 6, 7, 8, 9, 10], [11, 12, 13, 14, 15, 16, 17, 18, 19, 20]]) # list\n",
    "\n",
    "print(arr)\n",
    "\n",
    "print('\\nThe num of dimentions: ', arr.ndim)\n",
    "\n",
    "print('\\nThe second last element from 1st dimention: ', arr[0, -2])"
   ]
  },
  {
   "cell_type": "markdown",
   "metadata": {
    "id": "X9JhVsv2MV66"
   },
   "source": [
    "\n",
    "\n",
    "---\n",
    "\n"
   ]
  },
  {
   "cell_type": "markdown",
   "metadata": {
    "id": "W2gRBdsoMWue"
   },
   "source": [
    "# 4. Array Slicing"
   ]
  },
  {
   "cell_type": "markdown",
   "metadata": {
    "id": "NTiJRZTeVRE3"
   },
   "source": [
    "- [start index : end index-1 :  step]\n",
    "  * Note: the end index is excluded "
   ]
  },
  {
   "cell_type": "markdown",
   "metadata": {
    "id": "KkuGhbfFVv06"
   },
   "source": [
    "## 4.1. Slice Arrays"
   ]
  },
  {
   "cell_type": "code",
   "execution_count": 217,
   "metadata": {
    "colab": {
     "base_uri": "https://localhost:8080/"
    },
    "id": "rBrPxKckMY09",
    "outputId": "ee768951-29e8-481e-865b-e8c287e61432"
   },
   "outputs": [
    {
     "name": "stdout",
     "output_type": "stream",
     "text": [
      "[4 5]\n"
     ]
    }
   ],
   "source": [
    "# Example 1\n",
    "\n",
    "arr = np.array([1, 2, 3, 4, 5, 6, 7, 8, 9, 10])  # list\n",
    "\n",
    "print(arr[3:5])  # from Index 3('4') to a number before Index 5('6') => excluding the end index"
   ]
  },
  {
   "cell_type": "code",
   "execution_count": 218,
   "metadata": {
    "colab": {
     "base_uri": "https://localhost:8080/"
    },
    "id": "KL3JMwG6W2nY",
    "outputId": "31f05cca-62f4-4452-d868-49ccd9348b2c"
   },
   "outputs": [
    {
     "name": "stdout",
     "output_type": "stream",
     "text": [
      "[1 2 3]\n"
     ]
    }
   ],
   "source": [
    "# Example 2\n",
    "\n",
    "arr = np.array([1, 2, 3, 4, 5]) #list\n",
    "\n",
    "print(arr[0:3]) # between index 0 and index 2 (index 3 is excluded) "
   ]
  },
  {
   "cell_type": "code",
   "execution_count": 219,
   "metadata": {
    "colab": {
     "base_uri": "https://localhost:8080/"
    },
    "id": "q8ewEySdXHp5",
    "outputId": "7d499ca8-48e4-473e-adaf-30b22c46f4f5"
   },
   "outputs": [
    {
     "name": "stdout",
     "output_type": "stream",
     "text": [
      "[1 2 3 4]\n"
     ]
    }
   ],
   "source": [
    "# Example 3\n",
    "\n",
    "arr = np.array([1, 2, 3, 4, 5]) #list\n",
    "\n",
    "print(arr[:4]) # from the beginning to index3 -> 1, 2, 3, 4"
   ]
  },
  {
   "cell_type": "code",
   "execution_count": 220,
   "metadata": {
    "colab": {
     "base_uri": "https://localhost:8080/"
    },
    "id": "HIFeI6y_XSis",
    "outputId": "2ca3ac2e-6c95-48b0-e977-3e38c569ae30"
   },
   "outputs": [
    {
     "name": "stdout",
     "output_type": "stream",
     "text": [
      "[4 5]\n"
     ]
    }
   ],
   "source": [
    "# Example 4\n",
    "\n",
    "arr = np.array([1, 2, 3, 4, 5]) #list\n",
    "\n",
    "print(arr[3:]) # from index 3 to the end -> 4, 5"
   ]
  },
  {
   "cell_type": "markdown",
   "metadata": {
    "id": "TpDGJpHyXfQB"
   },
   "source": [
    "## 4.2. Negative Slicing "
   ]
  },
  {
   "cell_type": "markdown",
   "metadata": {
    "id": "tqx7UsfcXlb1"
   },
   "source": [
    "- **Negative slicing**: slice from or to index from the end"
   ]
  },
  {
   "cell_type": "code",
   "execution_count": 221,
   "metadata": {
    "colab": {
     "base_uri": "https://localhost:8080/"
    },
    "id": "wka_e1KzLqK3",
    "outputId": "8430005f-92ff-45b2-d583-8f7c1cd88b4d"
   },
   "outputs": [
    {
     "name": "stdout",
     "output_type": "stream",
     "text": [
      "[4 5 6 7 8 9]\n"
     ]
    }
   ],
   "source": [
    "# Example 1\n",
    "\n",
    "arr = np.array([1, 2, 3, 4, 5, 6, 7, 8, 9, 10]) #list\n",
    "\n",
    "print(arr[3:-1]) # from index 3 to index 9 -> 4, 5, 6, 7, 8, 9"
   ]
  },
  {
   "cell_type": "code",
   "execution_count": 222,
   "metadata": {
    "colab": {
     "base_uri": "https://localhost:8080/"
    },
    "id": "lPZgANrIJMyL",
    "outputId": "09464f64-6d19-49e7-a374-68c1bd4dcd94"
   },
   "outputs": [
    {
     "name": "stdout",
     "output_type": "stream",
     "text": [
      "[4 5]\n"
     ]
    }
   ],
   "source": [
    "# Example 2\n",
    "\n",
    "arr = np.array([1, 2, 3, 4, 5, 6, 7])  # list\n",
    "\n",
    "print(arr[-4:-2]) # from index 3 to index 6 -> 4, 5"
   ]
  },
  {
   "cell_type": "markdown",
   "metadata": {
    "id": "H_p0VyvlZiue"
   },
   "source": [
    "## 4.3. Step"
   ]
  },
  {
   "cell_type": "code",
   "execution_count": 223,
   "metadata": {
    "colab": {
     "base_uri": "https://localhost:8080/"
    },
    "id": "JyhnhC9-ZloH",
    "outputId": "c9324495-b836-468f-aee0-ba89dc417f21"
   },
   "outputs": [
    {
     "name": "stdout",
     "output_type": "stream",
     "text": [
      "[3 5 7]\n"
     ]
    }
   ],
   "source": [
    "# Excercise 1\n",
    "arr = np.array([1, 2, 3, 4, 5, 6, 7, 8, 9, 10]) #list\n",
    "\n",
    "print(arr[2:7:2])  # from the beginning to the end by 2 -> 1, 3, 5, 7, 9"
   ]
  },
  {
   "cell_type": "code",
   "execution_count": 224,
   "metadata": {
    "colab": {
     "base_uri": "https://localhost:8080/"
    },
    "id": "aA2TEOt-anIg",
    "outputId": "670316e3-a58e-42d5-ac0f-32330444e70a"
   },
   "outputs": [
    {
     "name": "stdout",
     "output_type": "stream",
     "text": [
      "[ 1  4  7 10]\n"
     ]
    }
   ],
   "source": [
    "# Excercise 2\n",
    "arr = np.array([1, 2, 3, 4, 5, 6, 7, 8, 9, 10]) #list\n",
    "\n",
    "print(arr[::3])  # from the beginning to the end by 2"
   ]
  },
  {
   "cell_type": "code",
   "execution_count": 225,
   "metadata": {
    "id": "3Nhn3dxOFQxv"
   },
   "outputs": [],
   "source": [
    "# ## 4.4. Slicing 2-Dimentioanl Arrays"
   ]
  },
  {
   "cell_type": "code",
   "execution_count": 226,
   "metadata": {
    "colab": {
     "base_uri": "https://localhost:8080/"
    },
    "id": "cFNHyRpHb5wt",
    "outputId": "705922ab-14cc-45f3-bdb0-737fe270ed08"
   },
   "outputs": [
    {
     "name": "stdout",
     "output_type": "stream",
     "text": [
      "[[1 2 3]\n",
      " [4 5 6]] \n",
      "\n",
      "[4 5]\n"
     ]
    }
   ],
   "source": [
    "arr = np.array([[1, 2, 3],\n",
    "                [4, 5, 6]]) # list\n",
    "\n",
    "print(arr,'\\n')\n",
    "\n",
    "print(arr[1,    # index 1('2')\n",
    "          0:2]) # from the beginning to index 1 -> 4, 5"
   ]
  },
  {
   "cell_type": "markdown",
   "metadata": {
    "id": "eMxRWXzycmC4"
   },
   "source": [
    "\n",
    "\n",
    "---\n",
    "\n"
   ]
  },
  {
   "cell_type": "markdown",
   "metadata": {
    "id": "i2V-to4-cm-U"
   },
   "source": [
    "# 5. Data Type"
   ]
  },
  {
   "cell_type": "markdown",
   "metadata": {
    "id": "LYzh2yUQcquo"
   },
   "source": [
    "- Data Type in **Python**\n",
    " - `strings`  e.g. a, b, c\n",
    " - `integer`  e.g. 1, 2, 3\n",
    " - `float`    e.g. 0.5, 2.4\n",
    " - `boolean`  e.g. True, False\n",
    " - `complex`  e.g. 0.3+1.1j"
   ]
  },
  {
   "cell_type": "markdown",
   "metadata": {
    "id": "K7lbfj_xdGlu"
   },
   "source": [
    "- Data Type in **NumPy**\n",
    " - `S`: string\n",
    " - `U`: unicode string\n",
    " - `i`: integer\n",
    " - `u`: unsigned integer\n",
    " - `f`: float\n",
    " - `b`: boolean\n",
    " - `c`: complex float\n",
    "\n",
    " - `m`: timedelta\n",
    " - `M`: datetime\n",
    "\n",
    " - `O`: object\n"
   ]
  },
  {
   "cell_type": "markdown",
   "metadata": {
    "id": "9S_ue5MudzJf"
   },
   "source": [
    "## 5.1. Check Data Types"
   ]
  },
  {
   "cell_type": "code",
   "execution_count": 227,
   "metadata": {
    "colab": {
     "base_uri": "https://localhost:8080/"
    },
    "id": "xD2g-2fUCIg7",
    "outputId": "1a457059-411d-4001-f45c-6cd1ed08e7b9"
   },
   "outputs": [
    {
     "data": {
      "text/plain": [
       "dtype('int64')"
      ]
     },
     "execution_count": 227,
     "metadata": {},
     "output_type": "execute_result"
    }
   ],
   "source": [
    "arr.dtype"
   ]
  },
  {
   "cell_type": "code",
   "execution_count": 228,
   "metadata": {
    "colab": {
     "base_uri": "https://localhost:8080/"
    },
    "id": "x662oCwuCIl2",
    "outputId": "86eca3eb-1db1-4205-f99a-97c9863852e2"
   },
   "outputs": [
    {
     "name": "stdout",
     "output_type": "stream",
     "text": [
      "int64\n"
     ]
    }
   ],
   "source": [
    "print(arr.dtype)"
   ]
  },
  {
   "cell_type": "markdown",
   "metadata": {
    "id": "uyRGICkbd_yX"
   },
   "source": [
    "## 5.2. Create Arrays with a defined Data Type"
   ]
  },
  {
   "cell_type": "code",
   "execution_count": 229,
   "metadata": {
    "colab": {
     "base_uri": "https://localhost:8080/"
    },
    "id": "9ZN69EvjCIn-",
    "outputId": "0033cbf1-a9b4-4bdd-9650-9e6407093829"
   },
   "outputs": [
    {
     "name": "stdout",
     "output_type": "stream",
     "text": [
      "[b'1' b'2' b'3']\n",
      "Data Type:  |S1\n"
     ]
    }
   ],
   "source": [
    "# Example 1\n",
    "\n",
    "arr = np.array([1, 2, 3],  # list\n",
    "               dtype='S')  # S: string\n",
    "\n",
    "print(arr)\n",
    "print('Data Type: ', arr.dtype)"
   ]
  },
  {
   "cell_type": "code",
   "execution_count": 230,
   "metadata": {
    "colab": {
     "base_uri": "https://localhost:8080/"
    },
    "id": "S-GaguOWeZ3V",
    "outputId": "bfe3c133-ad2e-4291-d308-66ebf38d521d"
   },
   "outputs": [
    {
     "name": "stdout",
     "output_type": "stream",
     "text": [
      "[1 2 3]\n",
      "Data Type:  int32\n"
     ]
    }
   ],
   "source": [
    "# Example 2\n",
    "\n",
    "arr = np.array([1, 2, 3],  # list\n",
    "               dtype='i4')\n",
    "\n",
    "print(arr)\n",
    "print('Data Type: ', arr.dtype)"
   ]
  },
  {
   "cell_type": "markdown",
   "metadata": {
    "id": "dZ72ta22e17N"
   },
   "source": [
    "\n",
    "\n",
    "---\n",
    "\n"
   ]
  },
  {
   "cell_type": "markdown",
   "metadata": {
    "id": "0_O3evype2ec"
   },
   "source": [
    "# 6. Copy and View"
   ]
  },
  {
   "cell_type": "markdown",
   "metadata": {
    "id": "jutbItyPe4IM"
   },
   "source": [
    "- Copy and View\n",
    " - Copy: Make a new array from the original array\n",
    "        -> copied data won't affect original array\n",
    " - View: Make a view of the original array\n",
    "        -> the orriginal array will be affected when data in view is changed"
   ]
  },
  {
   "cell_type": "markdown",
   "metadata": {
    "id": "CkgCIKBDfb1_"
   },
   "source": [
    "## 6.1. Copy"
   ]
  },
  {
   "cell_type": "markdown",
   "metadata": {
    "id": "h2xWZGOUhPI2"
   },
   "source": [
    "- **Copy**: arr.copy()"
   ]
  },
  {
   "cell_type": "code",
   "execution_count": 231,
   "metadata": {
    "colab": {
     "base_uri": "https://localhost:8080/"
    },
    "id": "dyjUYbi6fdAk",
    "outputId": "84cfc051-88d8-4ea6-87eb-e1bda58454d8"
   },
   "outputs": [
    {
     "name": "stdout",
     "output_type": "stream",
     "text": [
      "arr:  [1 2 3 4 5]\n",
      "arr_copy:  [1 2 3 4 5]\n",
      "\n",
      "arr:  [50  2  3  4  5]\n",
      "arr_copy:  [1 2 3 4 5]\n"
     ]
    }
   ],
   "source": [
    "# Make an array + Copy the array\n",
    "arr = np.array([1, 2, 3, 4, 5]) # list\n",
    "arr_copy = arr.copy()  # Make a copy from the original array\n",
    "\n",
    "print('arr: ', arr)\n",
    "print('arr_copy: ', arr_copy)\n",
    "\n",
    "# Make a change in the original array\n",
    "arr[0] = 50\n",
    "print('\\narr: ', arr) # result: arr[0] is changed\n",
    "print('arr_copy: ', arr_copy) # copied array is an independent array, so it's not affected by the change of original array"
   ]
  },
  {
   "cell_type": "markdown",
   "metadata": {
    "id": "cu_H9U3LgnpQ"
   },
   "source": [
    "## 6.2. View"
   ]
  },
  {
   "cell_type": "markdown",
   "metadata": {
    "id": "4LPhx-OzhUsI"
   },
   "source": [
    "- **View**: arr.view()"
   ]
  },
  {
   "cell_type": "code",
   "execution_count": 232,
   "metadata": {
    "colab": {
     "base_uri": "https://localhost:8080/"
    },
    "id": "-sHq1ujPgpmp",
    "outputId": "fbea5b30-6663-4071-8217-05468a952a2f"
   },
   "outputs": [
    {
     "name": "stdout",
     "output_type": "stream",
     "text": [
      "arr:  [1 2 3 4 5]\n",
      "arr_view:  [1 2 3 4 5]\n",
      "\n",
      "arr:  [50  2  3  4  5]\n",
      "arr_view:  [50  2  3  4  5]\n"
     ]
    }
   ],
   "source": [
    "# Make an array + Make a view of the array\n",
    "\n",
    "arr = np.array([1, 2, 3, 4, 5]) # list\n",
    "arr_view = arr.view()  # Make a view of the original array\n",
    "\n",
    "print('arr: ', arr)\n",
    "print('arr_view: ', arr_view)\n",
    "\n",
    "# Make a change in the original array\n",
    "arr[0] = 50\n",
    "print('\\narr: ', arr) # result: arr[0] is changed\n",
    "print('arr_view: ', arr_view)  # result: the change in the original array is affected to the View"
   ]
  },
  {
   "cell_type": "markdown",
   "metadata": {
    "id": "lK6HgVeOh3F7"
   },
   "source": [
    "## 6.3. Check `copy()` or `view()`"
   ]
  },
  {
   "cell_type": "markdown",
   "metadata": {
    "id": "c_2hkArGiJoY"
   },
   "source": [
    "- Check\n",
    " - **copy.base**: return `None`\n",
    " - **view.base**: return the original array"
   ]
  },
  {
   "cell_type": "code",
   "execution_count": 233,
   "metadata": {
    "colab": {
     "base_uri": "https://localhost:8080/"
    },
    "id": "G-sdCSPEhKS9",
    "outputId": "ec78ed51-2e45-4050-c0a8-4417130197ce"
   },
   "outputs": [
    {
     "name": "stdout",
     "output_type": "stream",
     "text": [
      "None\n",
      "[1 2 3 4 5]\n"
     ]
    }
   ],
   "source": [
    "arr = np.array([1, 2, 3, 4, 5]) # list\n",
    "\n",
    "arr_copy = arr.copy()\n",
    "arr_view = arr.view()\n",
    "\n",
    "print(arr_copy.base)  #\n",
    "print(arr_view.base)"
   ]
  },
  {
   "cell_type": "markdown",
   "metadata": {
    "id": "NH0aLxK2iZ4T"
   },
   "source": [
    "\n",
    "\n",
    "---\n",
    "\n"
   ]
  },
  {
   "cell_type": "markdown",
   "metadata": {
    "id": "nKzzcXaUiao0"
   },
   "source": [
    "# 7. Array Reshape"
   ]
  },
  {
   "cell_type": "markdown",
   "metadata": {
    "id": "G7eMnCVtlXcZ"
   },
   "source": [
    "## 7.1. Shape Arrays"
   ]
  },
  {
   "cell_type": "markdown",
   "metadata": {
    "id": "7f5MbXpolZ-3"
   },
   "source": [
    "- **Shape**: the number of elements in each dimension\n",
    "\n",
    " - arr.**shape**\n",
    " - result: (the number of columns, the number of rows)"
   ]
  },
  {
   "cell_type": "code",
   "execution_count": 234,
   "metadata": {
    "colab": {
     "base_uri": "https://localhost:8080/"
    },
    "id": "fd2rOvVWjkVH",
    "outputId": "678f13fd-3773-4365-dabc-396d0ac05c70"
   },
   "outputs": [
    {
     "data": {
      "text/plain": [
       "(2, 3)"
      ]
     },
     "execution_count": 234,
     "metadata": {},
     "output_type": "execute_result"
    }
   ],
   "source": [
    "# Example 1\n",
    "\n",
    "arr = np.array([[1, 2, 3], [4, 5, 6]])\n",
    "\n",
    "arr.shape   # result: (the number of columns, the number of rows) -> (2, 3)"
   ]
  },
  {
   "cell_type": "code",
   "execution_count": 235,
   "metadata": {
    "colab": {
     "base_uri": "https://localhost:8080/"
    },
    "id": "46cLYjLfhG7p",
    "outputId": "2acb52f4-6d41-43a0-eda4-629c9add30c1"
   },
   "outputs": [
    {
     "name": "stdout",
     "output_type": "stream",
     "text": [
      "[[[[[1 2 3 4]]]]]\n",
      "A shape of array:  (1, 1, 1, 1, 4)\n"
     ]
    }
   ],
   "source": [
    "# Example 2\n",
    "\n",
    "arr = np.array([1, 2, 3, 4], ndmin=5) \n",
    "\n",
    "print(arr)\n",
    "print('A shape of array: ', arr.shape)"
   ]
  },
  {
   "cell_type": "markdown",
   "metadata": {
    "id": "a6X8velXmabj"
   },
   "source": [
    "## 7.2. Reshape Arrays"
   ]
  },
  {
   "cell_type": "markdown",
   "metadata": {
    "id": "Wts_CANGmhy_"
   },
   "source": [
    "- **Reshape**\n",
    " - Change the shape of an array\n",
    " - Being able to add or remove dimensions\n",
    " - Being able to number of elements in each dimension\n",
    "\n",
    "- Arrays \n",
    " - 2-D Array: arr.**reshape(rows, columns)**\n",
    " - 3-D Array: arr.**reshape(arrays, rows, columns)**"
   ]
  },
  {
   "cell_type": "markdown",
   "metadata": {
    "id": "t7X3IMDUrnwH"
   },
   "source": [
    "- `arr = np.arrange(30).reshape(2, 3, 5)`"
   ]
  },
  {
   "cell_type": "markdown",
   "metadata": {
    "id": "op69-wSxm6zL"
   },
   "source": [
    "### Reshape from 1-D to 2-D"
   ]
  },
  {
   "cell_type": "code",
   "execution_count": 236,
   "metadata": {
    "colab": {
     "base_uri": "https://localhost:8080/"
    },
    "id": "ZSGUlswtlwi7",
    "outputId": "99cb4a8c-2ec0-4238-aef2-de32ab5792b5"
   },
   "outputs": [
    {
     "name": "stdout",
     "output_type": "stream",
     "text": [
      "original array:  [ 0  1  2  3  4  5  6  7  8  9 10 11]\n",
      "\n",
      " reshaped array: \n",
      " [[ 0  1  2  3]\n",
      " [ 4  5  6  7]\n",
      " [ 8  9 10 11]]\n"
     ]
    }
   ],
   "source": [
    "# Make a new array with 12 elements\n",
    "arr = np.arange(12)  \n",
    "print('original array: ', arr)\n",
    "\n",
    "# Reshape `arr`\n",
    "new_arr = arr.reshape(3,4) # reshape -> 3 rows * 4 columns\n",
    "print('\\n reshaped array: \\n', new_arr)"
   ]
  },
  {
   "cell_type": "markdown",
   "metadata": {
    "id": "8KUtEDMQpakw"
   },
   "source": [
    "### Reshape from 1-D to 3-D"
   ]
  },
  {
   "cell_type": "code",
   "execution_count": 237,
   "metadata": {
    "colab": {
     "base_uri": "https://localhost:8080/"
    },
    "id": "gxJm6o6Zlwmc",
    "outputId": "3e975e47-dbc4-476a-c01b-7e49f87f571c"
   },
   "outputs": [
    {
     "name": "stdout",
     "output_type": "stream",
     "text": [
      "original array:  [ 0  1  2  3  4  5  6  7  8  9 10 11 12 13 14 15 16 17 18 19 20 21 22 23\n",
      " 24 25 26 27 28 29]\n",
      "\n",
      " reshaped array: \n",
      " [[[ 0  1  2  3  4]\n",
      "  [ 5  6  7  8  9]\n",
      "  [10 11 12 13 14]]\n",
      "\n",
      " [[15 16 17 18 19]\n",
      "  [20 21 22 23 24]\n",
      "  [25 26 27 28 29]]]\n"
     ]
    }
   ],
   "source": [
    "# Make a new array with 12 elements\n",
    "arr = np.arange(30)  \n",
    "print('original array: ', arr)\n",
    "\n",
    "# Reshape `arr`\n",
    "new_arr = arr.reshape(2, 3, 5) # reshape -> 2 arrays + 3 rows * 4 columns\n",
    "print('\\n reshaped array: \\n', new_arr)"
   ]
  },
  {
   "cell_type": "code",
   "execution_count": 238,
   "metadata": {
    "colab": {
     "base_uri": "https://localhost:8080/"
    },
    "id": "4MI1CX1Alwpn",
    "outputId": "323fab5a-d0f5-42ec-a206-2732429976a4"
   },
   "outputs": [
    {
     "data": {
      "text/plain": [
       "array([[[ 0,  1,  2,  3,  4],\n",
       "        [ 5,  6,  7,  8,  9],\n",
       "        [10, 11, 12, 13, 14]],\n",
       "\n",
       "       [[15, 16, 17, 18, 19],\n",
       "        [20, 21, 22, 23, 24],\n",
       "        [25, 26, 27, 28, 29]]])"
      ]
     },
     "execution_count": 238,
     "metadata": {},
     "output_type": "execute_result"
    }
   ],
   "source": [
    "# Combine two lines above:\n",
    "\n",
    "arr = np.arange(30).reshape(2, 3, 5)  # TADA!\n",
    "arr"
   ]
  },
  {
   "cell_type": "markdown",
   "metadata": {
    "id": "IEo7iCZQrh_V"
   },
   "source": [
    "### Check a type of returned arrays"
   ]
  },
  {
   "cell_type": "markdown",
   "metadata": {
    "id": "onalqtYLrx0t"
   },
   "source": [
    "- `arr.reshape(2,4).base`"
   ]
  },
  {
   "cell_type": "code",
   "execution_count": 239,
   "metadata": {
    "colab": {
     "base_uri": "https://localhost:8080/"
    },
    "id": "UQuuTfzahCsl",
    "outputId": "87c96790-c782-4c64-f11e-afa406bf16f5"
   },
   "outputs": [
    {
     "name": "stdout",
     "output_type": "stream",
     "text": [
      "arr: \n",
      " [[ 0  1  2  3  4]\n",
      " [ 5  6  7  8  9]\n",
      " [10 11 12 13 14]]\n",
      "\n",
      "type :  [ 0  1  2  3  4  5  6  7  8  9 10 11 12 13 14]\n"
     ]
    }
   ],
   "source": [
    "arr = np.arange(15).reshape(3, 5)\n",
    "\n",
    "print('arr: \\n', arr)\n",
    "\n",
    "print('\\ntype : ', arr.base) # result: it returned the original array, so it means it's a 'VIEW'"
   ]
  },
  {
   "cell_type": "markdown",
   "metadata": {
    "id": "SOWBVmEustSl"
   },
   "source": [
    "### Unknown Dimension"
   ]
  },
  {
   "cell_type": "markdown",
   "metadata": {
    "id": "nOYY_qoCsxwu"
   },
   "source": [
    "- use `-1`"
   ]
  },
  {
   "cell_type": "code",
   "execution_count": 240,
   "metadata": {
    "colab": {
     "base_uri": "https://localhost:8080/"
    },
    "id": "LkNUizCshC4M",
    "outputId": "f2898906-14cf-4be9-ff19-9d30176bae2b"
   },
   "outputs": [
    {
     "name": "stdout",
     "output_type": "stream",
     "text": [
      "[[[ 0  1  2]\n",
      "  [ 3  4  5]\n",
      "  [ 6  7  8]\n",
      "  [ 9 10 11]]\n",
      "\n",
      " [[12 13 14]\n",
      "  [15 16 17]\n",
      "  [18 19 20]\n",
      "  [21 22 23]]\n",
      "\n",
      " [[24 25 26]\n",
      "  [27 28 29]\n",
      "  [30 31 32]\n",
      "  [33 34 35]]]\n"
     ]
    }
   ],
   "source": [
    "# Use `-1` for an unknown columns\n",
    "\n",
    "new_arr = np.arange(36).reshape(3, 4, -1) # reshape -> 3 arrays + (4 rows * ? columns)\n",
    "             \n",
    "print(new_arr)"
   ]
  },
  {
   "cell_type": "code",
   "execution_count": 241,
   "metadata": {
    "colab": {
     "base_uri": "https://localhost:8080/"
    },
    "id": "e4VQbOP3hC7s",
    "outputId": "d85a4470-5983-4ffa-f27a-68266ccad7fb"
   },
   "outputs": [
    {
     "name": "stdout",
     "output_type": "stream",
     "text": [
      "[[[ 0  1  2  3]\n",
      "  [ 4  5  6  7]\n",
      "  [ 8  9 10 11]]\n",
      "\n",
      " [[12 13 14 15]\n",
      "  [16 17 18 19]\n",
      "  [20 21 22 23]]\n",
      "\n",
      " [[24 25 26 27]\n",
      "  [28 29 30 31]\n",
      "  [32 33 34 35]]]\n"
     ]
    }
   ],
   "source": [
    "# Use `-1` for an unknown rows\n",
    "\n",
    "new_arr = np.arange(36).reshape(3, -1, 4) # reshape -> 3 arrays + (? rows * 4 columns)\n",
    "\n",
    "print(new_arr)"
   ]
  },
  {
   "cell_type": "code",
   "execution_count": 242,
   "metadata": {
    "colab": {
     "base_uri": "https://localhost:8080/"
    },
    "id": "bls5RrDcgpxM",
    "outputId": "cd9203da-1427-4cf4-d0cf-0e9c55087ce1"
   },
   "outputs": [
    {
     "name": "stdout",
     "output_type": "stream",
     "text": [
      "[[[ 0  1  2  3]\n",
      "  [ 4  5  6  7]\n",
      "  [ 8  9 10 11]]\n",
      "\n",
      " [[12 13 14 15]\n",
      "  [16 17 18 19]\n",
      "  [20 21 22 23]]\n",
      "\n",
      " [[24 25 26 27]\n",
      "  [28 29 30 31]\n",
      "  [32 33 34 35]]]\n"
     ]
    }
   ],
   "source": [
    "# Use `-1` for an unknown arrays\n",
    "\n",
    "new_arr = np.arange(36).reshape(-1, 3, 4) # reshape -> ? arrays + (3 rows * 4 columns)\n",
    "\n",
    "print(new_arr)"
   ]
  },
  {
   "cell_type": "markdown",
   "metadata": {
    "id": "WOBgAgsgucdn"
   },
   "source": [
    "\n",
    "\n",
    "---\n",
    "\n"
   ]
  },
  {
   "cell_type": "markdown",
   "metadata": {
    "id": "uJzOyVOzudPj"
   },
   "source": [
    "# 8. Array Iterating"
   ]
  },
  {
   "cell_type": "markdown",
   "metadata": {
    "id": "ndUBxT_bufYb"
   },
   "source": [
    "## 8.1 Interate Arrays"
   ]
  },
  {
   "cell_type": "markdown",
   "metadata": {
    "id": "re8jsj-JyZkl"
   },
   "source": [
    "### Iterating 1-D Arrays"
   ]
  },
  {
   "cell_type": "code",
   "execution_count": 243,
   "metadata": {
    "colab": {
     "base_uri": "https://localhost:8080/"
    },
    "id": "N-hCN29ggp10",
    "outputId": "ce669662-0a41-44ea-e485-135545a6f413"
   },
   "outputs": [
    {
     "name": "stdout",
     "output_type": "stream",
     "text": [
      "0\n",
      "1\n",
      "2\n"
     ]
    }
   ],
   "source": [
    "arr = np.arange(3)\n",
    "\n",
    "for x in arr:\n",
    "  print(x)"
   ]
  },
  {
   "cell_type": "markdown",
   "metadata": {
    "id": "Y8onPslPynTG"
   },
   "source": [
    "### Iterating 2-D Arrays"
   ]
  },
  {
   "cell_type": "code",
   "execution_count": 244,
   "metadata": {
    "colab": {
     "base_uri": "https://localhost:8080/"
    },
    "id": "BLRuP3aqgp37",
    "outputId": "81f1af84-3bc7-45d2-b35b-d6481bb4556e"
   },
   "outputs": [
    {
     "name": "stdout",
     "output_type": "stream",
     "text": [
      "[1 2 3 4 5]\n",
      "[ 6  7  8  9 10]\n"
     ]
    }
   ],
   "source": [
    "arr = np.array([[1, 2, 3, 4, 5], [6, 7, 8, 9, 10]]) # list\n",
    "\n",
    "for x in arr:\n",
    "  print(x)"
   ]
  },
  {
   "cell_type": "markdown",
   "metadata": {
    "id": "3WOI_GjPyrZM"
   },
   "source": [
    "### Iterating 3-D Arrays"
   ]
  },
  {
   "cell_type": "code",
   "execution_count": 245,
   "metadata": {
    "colab": {
     "base_uri": "https://localhost:8080/"
    },
    "id": "7cHlu73-CIqY",
    "outputId": "d8e3570f-3323-48d9-c4c5-f4a6a2842c80"
   },
   "outputs": [
    {
     "name": "stdout",
     "output_type": "stream",
     "text": [
      "[[1 2 3]\n",
      " [4 5 6]]\n",
      "[[ 7  8  9]\n",
      " [10 11 12]]\n"
     ]
    }
   ],
   "source": [
    "arr = np.array([[[1, 2, 3],[4, 5, 6]],\n",
    "                [[7, 8, 9], [10, 11, 12]]])\n",
    "\n",
    "for x in arr:\n",
    "  print(x)"
   ]
  },
  {
   "cell_type": "code",
   "execution_count": 246,
   "metadata": {
    "colab": {
     "base_uri": "https://localhost:8080/"
    },
    "id": "0jQYpk2aCIs4",
    "outputId": "311f30e2-9a35-40ca-a30d-ab832622e65e"
   },
   "outputs": [
    {
     "name": "stdout",
     "output_type": "stream",
     "text": [
      "7\n",
      "8\n",
      "9\n",
      "10\n",
      "11\n",
      "12\n",
      "7\n",
      "8\n",
      "9\n",
      "10\n",
      "11\n",
      "12\n"
     ]
    }
   ],
   "source": [
    "arr = np.array([[[1, 2, 3],[4, 5, 6]],\n",
    "                [[7, 8, 9], [10, 11, 12]]])\n",
    "\n",
    "for i in arr:\n",
    "  for y in x:\n",
    "    for z in y:\n",
    "      print(z)"
   ]
  },
  {
   "cell_type": "code",
   "execution_count": 247,
   "metadata": {
    "colab": {
     "base_uri": "https://localhost:8080/"
    },
    "id": "SbaSNBAvCIu_",
    "outputId": "5d277e77-c6af-40d1-c974-debe92b3395e"
   },
   "outputs": [
    {
     "name": "stdout",
     "output_type": "stream",
     "text": [
      "b'0'\n",
      "b'1'\n",
      "b'2'\n"
     ]
    }
   ],
   "source": [
    "arr = np.arange(3)\n",
    "\n",
    "for x in np.nditer(arr,\n",
    "                   flags=['buffered'],\n",
    "                   op_dtypes=['S']):\n",
    "  print(x)"
   ]
  },
  {
   "cell_type": "markdown",
   "metadata": {
    "id": "0ZycLB-yzMR-"
   },
   "source": [
    "\n",
    "\n",
    "---\n",
    "\n"
   ]
  },
  {
   "cell_type": "markdown",
   "metadata": {
    "id": "WhoQgQj8zNE3"
   },
   "source": [
    "# 9. Join Arrays"
   ]
  },
  {
   "cell_type": "markdown",
   "metadata": {
    "id": "teZN1S3hzYjQ"
   },
   "source": [
    "- Join Arrays\n",
    " - Put two or more arrays in an array\n",
    " - Join arrays by axes\n",
    "\n",
    " - `concatenate(array, array)`"
   ]
  },
  {
   "cell_type": "markdown",
   "metadata": {
    "id": "2FG1ISf1ztfB"
   },
   "source": [
    "## 9.1. Join Arrays"
   ]
  },
  {
   "cell_type": "markdown",
   "metadata": {
    "id": "uln6yrCM0EWS"
   },
   "source": [
    "### Join 1-D Arrays"
   ]
  },
  {
   "cell_type": "code",
   "execution_count": 248,
   "metadata": {
    "colab": {
     "base_uri": "https://localhost:8080/"
    },
    "id": "WHJwPH4lx2cE",
    "outputId": "401d2c90-a454-46b3-ffdc-0ae0387dc43e"
   },
   "outputs": [
    {
     "data": {
      "text/plain": [
       "array([1, 2, 3, 4, 5, 6])"
      ]
     },
     "execution_count": 248,
     "metadata": {},
     "output_type": "execute_result"
    }
   ],
   "source": [
    "# Create two 1-D arrays\n",
    "arr1 = np.array([1, 2, 3])\n",
    "arr2 = np.array([4, 5, 6])\n",
    "\n",
    "# Join the arrays\n",
    "arr = np.concatenate((arr1, arr2))\n",
    "\n",
    "# Check\n",
    "arr"
   ]
  },
  {
   "cell_type": "markdown",
   "metadata": {
    "id": "v_e3b8ml0GYE"
   },
   "source": [
    "### Join 2-D Arrays (axis=1)"
   ]
  },
  {
   "cell_type": "code",
   "execution_count": 249,
   "metadata": {
    "colab": {
     "base_uri": "https://localhost:8080/"
    },
    "id": "u_ufXNjs0HvU",
    "outputId": "435e6d99-054b-44f4-e906-f70342613e89"
   },
   "outputs": [
    {
     "data": {
      "text/plain": [
       "array([[ 1,  2,  3],\n",
       "       [ 4,  5,  6],\n",
       "       [ 7,  8,  9],\n",
       "       [10, 11, 12]])"
      ]
     },
     "execution_count": 249,
     "metadata": {},
     "output_type": "execute_result"
    }
   ],
   "source": [
    "# Create two 2-D arrays\n",
    "arr1 = np.array([[1,2,3], [4,5,6]])\n",
    "arr2 = np.array([[7, 8, 9], [10,11,12]])\n",
    "\n",
    "# Join the arrays\n",
    "arr = np.concatenate((arr1, arr2))\n",
    "\n",
    "# Check\n",
    "arr"
   ]
  },
  {
   "cell_type": "markdown",
   "metadata": {
    "id": "XEIJ4jA700EU"
   },
   "source": [
    "### Join 3-D Arrays (axis=2)"
   ]
  },
  {
   "cell_type": "code",
   "execution_count": 250,
   "metadata": {
    "colab": {
     "base_uri": "https://localhost:8080/"
    },
    "id": "z15Hu3bVx2j0",
    "outputId": "8f83a5d8-4c62-4acb-8983-099a0583025c"
   },
   "outputs": [
    {
     "data": {
      "text/plain": [
       "array([[[ 1,  2,  3],\n",
       "        [ 4,  5,  6]],\n",
       "\n",
       "       [[ 7,  8,  9],\n",
       "        [10, 11, 12]],\n",
       "\n",
       "       [[31, 32, 33],\n",
       "        [34, 35, 36]],\n",
       "\n",
       "       [[37, 38, 39],\n",
       "        [40, 41, 42]]])"
      ]
     },
     "execution_count": 250,
     "metadata": {},
     "output_type": "execute_result"
    }
   ],
   "source": [
    "arr1 = np.array([[[1, 2, 3], [4, 5, 6]], [[7, 8, 9], [10,11,12]]])\n",
    "arr2 = np.array([[[31, 32, 33], [34, 35, 36]], [[37, 38, 39], [40,41,42]]])\n",
    "\n",
    "arr = np.concatenate((arr1, arr2))\n",
    "\n",
    "arr"
   ]
  },
  {
   "cell_type": "markdown",
   "metadata": {
    "id": "rE6lcpMm0_AO"
   },
   "source": [
    "## 9.2. Stack Arrays along Rows"
   ]
  },
  {
   "cell_type": "markdown",
   "metadata": {
    "id": "uV8wsg9m1ybE"
   },
   "source": [
    "- Stack arrays along rows\n",
    " - `np.hstack(array, array)`"
   ]
  },
  {
   "cell_type": "code",
   "execution_count": 251,
   "metadata": {
    "colab": {
     "base_uri": "https://localhost:8080/"
    },
    "id": "C42At-KTx2nq",
    "outputId": "57548128-f8fb-4079-9fd4-05c8c7a19bd5"
   },
   "outputs": [
    {
     "data": {
      "text/plain": [
       "array([1, 2, 3, 4, 5, 6])"
      ]
     },
     "execution_count": 251,
     "metadata": {},
     "output_type": "execute_result"
    }
   ],
   "source": [
    "# Make arrays\n",
    "arr1 = np.array([1,2,3])\n",
    "arr2 = np.array([4,5,6])\n",
    "\n",
    "# Stack arrays\n",
    "arr = np.hstack((arr1, arr2))\n",
    "\n",
    "# Check\n",
    "arr"
   ]
  },
  {
   "cell_type": "markdown",
   "metadata": {
    "id": "-iIkJq5N2HzS"
   },
   "source": [
    "## 9.3. Stack Arrays along Columns"
   ]
  },
  {
   "cell_type": "markdown",
   "metadata": {
    "id": "l6DqoECg2M91"
   },
   "source": [
    "- Stack arrays along columns\n",
    " - `np.vstack(array, array)`"
   ]
  },
  {
   "cell_type": "code",
   "execution_count": 252,
   "metadata": {
    "colab": {
     "base_uri": "https://localhost:8080/"
    },
    "id": "hadnsuj408uw",
    "outputId": "d57364cf-c55e-40b9-e7c9-9421ac7b784e"
   },
   "outputs": [
    {
     "data": {
      "text/plain": [
       "array([[1, 2, 3],\n",
       "       [4, 5, 6],\n",
       "       [7, 8, 9]])"
      ]
     },
     "execution_count": 252,
     "metadata": {},
     "output_type": "execute_result"
    }
   ],
   "source": [
    "# Make arrays\n",
    "arr1 = np.array([1, 2, 3])\n",
    "arr2 = np.array([4, 5, 6])\n",
    "arr3 = np.array([7, 8, 9])\n",
    "\n",
    "# Stack arrays\n",
    "arr = np.vstack((arr1, arr2, arr3))\n",
    "\n",
    "# Check\n",
    "arr"
   ]
  },
  {
   "cell_type": "markdown",
   "metadata": {
    "id": "DbBEziYL2yS6"
   },
   "source": [
    "## 9.4. Stack Arrays along Height (depth)"
   ]
  },
  {
   "cell_type": "markdown",
   "metadata": {
    "id": "jkjpdSwz22si"
   },
   "source": [
    "- Stack arrays along height\n",
    " - `np.dstack(array, array)`"
   ]
  },
  {
   "cell_type": "code",
   "execution_count": 253,
   "metadata": {
    "colab": {
     "base_uri": "https://localhost:8080/"
    },
    "id": "FieqTlef081b",
    "outputId": "316f81c4-8ff2-4484-c1d3-acc8eb87dfa0"
   },
   "outputs": [
    {
     "data": {
      "text/plain": [
       "array([[[1, 4, 7],\n",
       "        [2, 5, 8],\n",
       "        [3, 6, 9]]])"
      ]
     },
     "execution_count": 253,
     "metadata": {},
     "output_type": "execute_result"
    }
   ],
   "source": [
    "# Make arrays\n",
    "arr1 = np.array([1, 2, 3])\n",
    "arr2 = np.array([4, 5, 6])\n",
    "arr3 = np.array([7, 8, 9])\n",
    "\n",
    "# Stack arrays\n",
    "arr = np.dstack((arr1, arr2, arr3))\n",
    "\n",
    "# Check\n",
    "arr"
   ]
  },
  {
   "cell_type": "markdown",
   "metadata": {
    "id": "LHQO8qJX3Jfu"
   },
   "source": [
    "\n",
    "\n",
    "---\n",
    "\n"
   ]
  },
  {
   "cell_type": "markdown",
   "metadata": {
    "id": "Rqpnl52o3KHI"
   },
   "source": [
    "# 10. Split Arrays"
   ]
  },
  {
   "cell_type": "markdown",
   "metadata": {
    "id": "SQ4iSKL93Ps-"
   },
   "source": [
    "- Split Arrays\n",
    " - One array -> multiple arrays\n",
    " - `np.array_split(array, the number of arrays)"
   ]
  },
  {
   "cell_type": "markdown",
   "metadata": {
    "id": "xrBkFD5v3dlh"
   },
   "source": [
    "## 10.1. Split 1-D Arrays"
   ]
  },
  {
   "cell_type": "code",
   "execution_count": 254,
   "metadata": {
    "colab": {
     "base_uri": "https://localhost:8080/"
    },
    "id": "OwcpuxNk086u",
    "outputId": "d7d9789f-327a-47c8-c5d2-b014aa0745af"
   },
   "outputs": [
    {
     "data": {
      "text/plain": [
       "[array([0, 1, 2, 3]),\n",
       " array([4, 5, 6, 7]),\n",
       " array([ 8,  9, 10, 11]),\n",
       " array([12, 13, 14, 15]),\n",
       " array([16, 17, 18, 19]),\n",
       " array([20, 21, 22, 23])]"
      ]
     },
     "execution_count": 254,
     "metadata": {},
     "output_type": "execute_result"
    }
   ],
   "source": [
    "# Make an array\n",
    "arr = np.arange(24)\n",
    "\n",
    "# Split the array to 6 arrays\n",
    "new_arr = np.array_split(arr, 6)\n",
    "\n",
    "# Check\n",
    "new_arr"
   ]
  },
  {
   "cell_type": "code",
   "execution_count": 255,
   "metadata": {
    "colab": {
     "base_uri": "https://localhost:8080/"
    },
    "id": "cQGHdEBV08-O",
    "outputId": "eb354c67-9380-4759-b9aa-fcc6b9360276"
   },
   "outputs": [
    {
     "name": "stdout",
     "output_type": "stream",
     "text": [
      "The 1st array:  [1 2]\n",
      "The 2nd array:  [3 4]\n",
      "The 3rd array:  [5 6]\n"
     ]
    }
   ],
   "source": [
    "# Make an array\n",
    "arr = np.array([1, 2, 3, 4, 5, 6])\n",
    "\n",
    "# Split the array to 3 arrays\n",
    "new_arr = np.array_split(arr, 3)\n",
    "\n",
    "# Check\n",
    "print('The 1st array: ', new_arr[0])\n",
    "print('The 2nd array: ', new_arr[1])\n",
    "print('The 3rd array: ', new_arr[2])"
   ]
  },
  {
   "cell_type": "markdown",
   "metadata": {
    "id": "v7OrFZHi49Z8"
   },
   "source": [
    "## 10.2. Split 2-D Arrays "
   ]
  },
  {
   "cell_type": "code",
   "execution_count": 256,
   "metadata": {
    "colab": {
     "base_uri": "https://localhost:8080/"
    },
    "id": "4k5TiPNMx2rh",
    "outputId": "6ef87564-880d-4b3e-d7b5-1dd5c69aa61b"
   },
   "outputs": [
    {
     "data": {
      "text/plain": [
       "[array([[1, 2, 3],\n",
       "        [4, 5, 6]]),\n",
       " array([[ 7,  8,  9],\n",
       "        [10, 11, 12]]),\n",
       " array([[13, 14, 15],\n",
       "        [16, 17, 18]])]"
      ]
     },
     "execution_count": 256,
     "metadata": {},
     "output_type": "execute_result"
    }
   ],
   "source": [
    "# Make an array\n",
    "arr = np.array([[1, 2, 3], [4, 5, 6], [7, 8, 9], [10, 11, 12], [13, 14, 15], [16, 17, 18]])\n",
    "\n",
    "# Split the array to 3 arrays\n",
    "new_arr = np.array_split(arr, 3) # 6 groups in a single array -> split into 3 arrays\n",
    "\n",
    "# Check\n",
    "new_arr"
   ]
  },
  {
   "cell_type": "code",
   "execution_count": 257,
   "metadata": {
    "colab": {
     "base_uri": "https://localhost:8080/"
    },
    "id": "13jrmGa8x2vF",
    "outputId": "59bd5251-d41f-4db4-ed6c-dddedf809157"
   },
   "outputs": [
    {
     "data": {
      "text/plain": [
       "[array([[ 1],\n",
       "        [ 4],\n",
       "        [ 7],\n",
       "        [10],\n",
       "        [13],\n",
       "        [16]]),\n",
       " array([[ 2],\n",
       "        [ 5],\n",
       "        [ 8],\n",
       "        [11],\n",
       "        [14],\n",
       "        [17]]),\n",
       " array([[ 3],\n",
       "        [ 6],\n",
       "        [ 9],\n",
       "        [12],\n",
       "        [15],\n",
       "        [18]])]"
      ]
     },
     "execution_count": 257,
     "metadata": {},
     "output_type": "execute_result"
    }
   ],
   "source": [
    "# Make an array\n",
    "arr = np.array([[1, 2, 3], [4, 5, 6], [7, 8, 9], [10, 11, 12], [13, 14, 15], [16, 17, 18]])\n",
    "\n",
    "# Split the array to 3 arrays\n",
    "new_arr = np.array_split(arr, 3, axis=1) # 6 groups in a single array -> split into 3 arrays (axis=1)\n",
    "\n",
    "# Check\n",
    "new_arr"
   ]
  },
  {
   "cell_type": "markdown",
   "metadata": {
    "id": "i10Tm9JS7Wlj"
   },
   "source": [
    "\n",
    "\n",
    "---\n",
    "\n"
   ]
  },
  {
   "cell_type": "markdown",
   "metadata": {
    "id": "Xi-Ez2Ip7XwM"
   },
   "source": [
    "# 11. Array Search"
   ]
  },
  {
   "cell_type": "markdown",
   "metadata": {
    "id": "QRKw850a7pFX"
   },
   "source": [
    "- Search Arrays\n",
    "  - `np.where(conditions)`"
   ]
  },
  {
   "cell_type": "markdown",
   "metadata": {
    "id": "KEWZyiFP71mk"
   },
   "source": [
    "## 11.1. Search Arrays"
   ]
  },
  {
   "cell_type": "code",
   "execution_count": 258,
   "metadata": {
    "colab": {
     "base_uri": "https://localhost:8080/"
    },
    "id": "i-IdBougx2yk",
    "outputId": "fc0fa37b-21e1-4cbc-afff-71b6388ac386"
   },
   "outputs": [
    {
     "name": "stdout",
     "output_type": "stream",
     "text": [
      "(array([0, 1, 5]),)\n"
     ]
    }
   ],
   "source": [
    "# Example 1\n",
    "\n",
    "# Make an array\n",
    "arr = np.array([1, 1, 2, 3, 4, 1, 5, 6, 3, 6])  # 10 elements\n",
    "\n",
    "# Search\n",
    "x = np.where(arr == 1)\n",
    "\n",
    "# Check\n",
    "print(x) # Result: index 0, 1, 5"
   ]
  },
  {
   "cell_type": "code",
   "execution_count": 259,
   "metadata": {
    "colab": {
     "base_uri": "https://localhost:8080/"
    },
    "id": "0nE4Uax17V8u",
    "outputId": "8f4ddf35-0833-4724-94ad-96f5d99bef92"
   },
   "outputs": [
    {
     "name": "stdout",
     "output_type": "stream",
     "text": [
      "(array([0, 1, 4, 5]),)\n"
     ]
    }
   ],
   "source": [
    "# Example 2\n",
    "\n",
    "# Make an array\n",
    "arr = np.array([1, 1, 2, 3, 4, 1, 5, 6, 3, 6])  # 10 elements\n",
    "\n",
    "# Search\n",
    "x = np.where(arr%3 == 1)\n",
    "\n",
    "# Check\n",
    "print(x) # Result: index 0, 1, 4, 5"
   ]
  },
  {
   "cell_type": "markdown",
   "metadata": {
    "id": "kf7m2jXX8f0X"
   },
   "source": [
    "## 11.2. Search Sorted Arrays"
   ]
  },
  {
   "cell_type": "markdown",
   "metadata": {
    "id": "0EGOJPO78i5T"
   },
   "source": [
    "- Search Sorted Arrays\n",
    " - Search an index number where the value is located\n",
    " - `np.searchsorted(array, value)`"
   ]
  },
  {
   "cell_type": "markdown",
   "metadata": {
    "id": "MFdww-bl8x_V"
   },
   "source": [
    "### Search Sorted Arrays"
   ]
  },
  {
   "cell_type": "code",
   "execution_count": 260,
   "metadata": {
    "colab": {
     "base_uri": "https://localhost:8080/"
    },
    "id": "JCWED0PR7WAm",
    "outputId": "91003f0a-0fef-4f81-cb6a-1ed72615d694"
   },
   "outputs": [
    {
     "name": "stdout",
     "output_type": "stream",
     "text": [
      "2\n"
     ]
    }
   ],
   "source": [
    "# Make an array\n",
    "arr = np.array([1, 2, 3, 4, 5])\n",
    "\n",
    "# Search\n",
    "x = np.searchsorted(arr, 3)  # Search an index number where the value is located\n",
    "\n",
    "# Check\n",
    "print(x) # Result: index 2"
   ]
  },
  {
   "cell_type": "markdown",
   "metadata": {
    "id": "UNWlJPhK9FYR"
   },
   "source": [
    "### Search Multiple Values from Sorted Arrays"
   ]
  },
  {
   "cell_type": "markdown",
   "metadata": {
    "id": "vxzJsMMi9SGa"
   },
   "source": [
    "- `np.searchsorted(array, [array])`"
   ]
  },
  {
   "cell_type": "code",
   "execution_count": 261,
   "metadata": {
    "colab": {
     "base_uri": "https://localhost:8080/"
    },
    "id": "CXanVru_7WDa",
    "outputId": "8c60620b-31c0-4057-8f15-7061d7a43577"
   },
   "outputs": [
    {
     "name": "stdout",
     "output_type": "stream",
     "text": [
      "[3 4]\n"
     ]
    }
   ],
   "source": [
    "# Make an array\n",
    "arr = np.array([1, 2, 3, 4, 5, 6, 7, 8, 9, 10])\n",
    "\n",
    "# Search\n",
    "x = np.searchsorted(arr, [4, 5])\n",
    "\n",
    "# Check\n",
    "print(x) # Result: Index 3, 4"
   ]
  },
  {
   "cell_type": "markdown",
   "metadata": {
    "id": "pSAcR1Uw-QJZ"
   },
   "source": [
    "\n",
    "\n",
    "---\n"
   ]
  },
  {
   "cell_type": "markdown",
   "metadata": {
    "id": "OaN8WAUl-Rux"
   },
   "source": [
    "# 12. Sort Arrays"
   ]
  },
  {
   "cell_type": "markdown",
   "metadata": {
    "id": "Xwhtg_Ha-mSI"
   },
   "source": [
    "- Sort Arrays\n",
    "  - `np.sort(array)`"
   ]
  },
  {
   "cell_type": "markdown",
   "metadata": {
    "id": "uXRnmGS6-wTw"
   },
   "source": [
    "## 12.1. Sort 1-D Arrays"
   ]
  },
  {
   "cell_type": "code",
   "execution_count": 262,
   "metadata": {
    "colab": {
     "base_uri": "https://localhost:8080/"
    },
    "id": "FXBqPT6n7WGO",
    "outputId": "3d0a3a8d-aa2b-444f-fb6e-78e7797ace5b"
   },
   "outputs": [
    {
     "data": {
      "text/plain": [
       "array([0, 1, 2, 3, 4, 6])"
      ]
     },
     "execution_count": 262,
     "metadata": {},
     "output_type": "execute_result"
    }
   ],
   "source": [
    "# Sort a `Integer` type of arrays\n",
    "\n",
    "# Make an array\n",
    "arr = np.array([2, 4, 1, 6, 3, 0])\n",
    "\n",
    "# Sort\n",
    "np.sort(arr)"
   ]
  },
  {
   "cell_type": "code",
   "execution_count": 263,
   "metadata": {
    "colab": {
     "base_uri": "https://localhost:8080/"
    },
    "id": "-Wxskdqs7WIX",
    "outputId": "b8bec221-e803-4fdf-eeb0-297959cf7b53"
   },
   "outputs": [
    {
     "data": {
      "text/plain": [
       "array(['Korean melon', 'Tomato', 'mango', 'orange'], dtype='<U12')"
      ]
     },
     "execution_count": 263,
     "metadata": {},
     "output_type": "execute_result"
    }
   ],
   "source": [
    "# Sort a `String` type of arrays\n",
    "\n",
    "# Make an array\n",
    "arr = np.array(['orange', 'mango', 'Korean melon', 'Tomato'])\n",
    "\n",
    "# Sort\n",
    "np.sort(arr)"
   ]
  },
  {
   "cell_type": "markdown",
   "metadata": {
    "id": "H5msdqZjAKDM"
   },
   "source": [
    "## 12.2. Sort 2-D Arrays"
   ]
  },
  {
   "cell_type": "code",
   "execution_count": 264,
   "metadata": {
    "colab": {
     "base_uri": "https://localhost:8080/"
    },
    "id": "les8Z_bcx22J",
    "outputId": "b5233286-fc68-4e24-bebf-e8165611ede2"
   },
   "outputs": [
    {
     "data": {
      "text/plain": [
       "array([[1, 4, 6],\n",
       "       [3, 5, 8]])"
      ]
     },
     "execution_count": 264,
     "metadata": {},
     "output_type": "execute_result"
    }
   ],
   "source": [
    "# Make an array\n",
    "arr = np.array([[6, 4, 1], [8, 3, 5]])\n",
    "\n",
    "# Sort\n",
    "np.sort(arr)"
   ]
  },
  {
   "cell_type": "markdown",
   "metadata": {
    "id": "s4VTgNiWAghf"
   },
   "source": [
    "\n",
    "\n",
    "---\n",
    "\n"
   ]
  },
  {
   "cell_type": "markdown",
   "metadata": {
    "id": "z4YKz5V_nr8g"
   },
   "source": [
    "# 13. Typs of Arrays: zeros, ones, empty"
   ]
  },
  {
   "cell_type": "markdown",
   "metadata": {
    "id": "EFtRb-4BAj5S"
   },
   "source": [
    "- Other types of Arrays\n",
    " - `np.zero((x, y))`: An array filled with '0'\n",
    " - `np.ones((x, y))`: An array filled with '1'\n",
    " - `np.empty((x, y))`: An empty array"
   ]
  },
  {
   "cell_type": "markdown",
   "metadata": {
    "id": "AgeFaOvWA30t"
   },
   "source": [
    "## 13.1. zeros Arrays"
   ]
  },
  {
   "cell_type": "code",
   "execution_count": 265,
   "metadata": {
    "colab": {
     "base_uri": "https://localhost:8080/"
    },
    "id": "ZCNHB4vYlfiz",
    "outputId": "4d6d16a4-8cc4-4382-9a3b-995e690f5c5d"
   },
   "outputs": [
    {
     "data": {
      "text/plain": [
       "array([[0., 0., 0.],\n",
       "       [0., 0., 0.],\n",
       "       [0., 0., 0.]])"
      ]
     },
     "execution_count": 265,
     "metadata": {},
     "output_type": "execute_result"
    }
   ],
   "source": [
    "np.zeros((3, 3)) # an array filled with '0'"
   ]
  },
  {
   "cell_type": "markdown",
   "metadata": {
    "id": "cc4VhmRnA7fP"
   },
   "source": [
    "## 13.2. ones Arrays"
   ]
  },
  {
   "cell_type": "code",
   "execution_count": 266,
   "metadata": {
    "colab": {
     "base_uri": "https://localhost:8080/"
    },
    "id": "6NcqYGHrmUGP",
    "outputId": "2632e9ae-4bbc-41bb-c5e1-1b9e73e2fc22"
   },
   "outputs": [
    {
     "data": {
      "text/plain": [
       "array([[1., 1.],\n",
       "       [1., 1.]])"
      ]
     },
     "execution_count": 266,
     "metadata": {},
     "output_type": "execute_result"
    }
   ],
   "source": [
    "np.ones((2, 2))  # an array filled with '1'"
   ]
  },
  {
   "cell_type": "markdown",
   "metadata": {
    "id": "qZOY4s-sA9zD"
   },
   "source": [
    "## 13.3. empty Arrays"
   ]
  },
  {
   "cell_type": "code",
   "execution_count": 267,
   "metadata": {
    "colab": {
     "base_uri": "https://localhost:8080/"
    },
    "id": "Ay0APKrbme4t",
    "outputId": "0ab38365-56fd-4685-c076-4c6242d7f6f8"
   },
   "outputs": [
    {
     "data": {
      "text/plain": [
       "array([[1.77997702e-316, 0.00000000e+000, 2.41907520e-312,\n",
       "        2.37663529e-312],\n",
       "       [2.22809558e-312, 2.46151512e-312, 6.79038654e-313,\n",
       "        2.35541533e-312],\n",
       "       [2.46151512e-312, 6.79038654e-313, 2.35541533e-312,\n",
       "        6.79038654e-313],\n",
       "       [2.14321575e-312, 2.22809558e-312, 2.14321575e-312,\n",
       "        6.93447005e-310]])"
      ]
     },
     "execution_count": 267,
     "metadata": {},
     "output_type": "execute_result"
    }
   ],
   "source": [
    "np.empty((4, 4)) # an empty array"
   ]
  },
  {
   "cell_type": "markdown",
   "metadata": {
    "id": "pMm16GOLCP_O"
   },
   "source": [
    "\n",
    "\n",
    "---\n",
    "\n"
   ]
  },
  {
   "cell_type": "markdown",
   "metadata": {
    "id": "RawH-6uRnktU"
   },
   "source": [
    "# 14. Arange"
   ]
  },
  {
   "cell_type": "markdown",
   "metadata": {
    "id": "8gR-hSnxBZGc"
   },
   "source": [
    "- Arange: Create a list\n",
    " - `np.arange(number)`: Make a list with the number of elements\n",
    " - `np.arange(start, end-1)`: Make a list from 'start' to 'end-1'\n",
    " - `np.arange(start, end-1, step)`: Make a list from 'start' to 'end-1' by 'step'"
   ]
  },
  {
   "cell_type": "code",
   "execution_count": 268,
   "metadata": {
    "colab": {
     "base_uri": "https://localhost:8080/"
    },
    "id": "739GkTgRnpWM",
    "outputId": "10689c98-63b8-4ad7-c6c0-0cbb9fc9ef6e"
   },
   "outputs": [
    {
     "data": {
      "text/plain": [
       "array([0, 1, 2, 3, 4, 5, 6, 7, 8, 9])"
      ]
     },
     "execution_count": 268,
     "metadata": {},
     "output_type": "execute_result"
    }
   ],
   "source": [
    "np.arange(10)  # Make a list with 10 elements -> from 0 to 9"
   ]
  },
  {
   "cell_type": "code",
   "execution_count": 269,
   "metadata": {
    "colab": {
     "base_uri": "https://localhost:8080/"
    },
    "id": "TsjDWgdWnyJa",
    "outputId": "6784d675-50da-4181-b7c6-c0912f84976f"
   },
   "outputs": [
    {
     "data": {
      "text/plain": [
       "array([1, 2, 3, 4, 5, 6, 7, 8, 9])"
      ]
     },
     "execution_count": 269,
     "metadata": {},
     "output_type": "execute_result"
    }
   ],
   "source": [
    "np.arange(1,10)  # Make a list from 1 to 9"
   ]
  },
  {
   "cell_type": "code",
   "execution_count": 270,
   "metadata": {
    "colab": {
     "base_uri": "https://localhost:8080/"
    },
    "id": "04CVtYIQnwKe",
    "outputId": "3815f51b-bc12-4aca-9faa-1b4447631ea9"
   },
   "outputs": [
    {
     "data": {
      "text/plain": [
       "array([1, 3, 5, 7, 9])"
      ]
     },
     "execution_count": 270,
     "metadata": {},
     "output_type": "execute_result"
    }
   ],
   "source": [
    "np.arange(1, 10, 2) # Make a list from 1 to 9 by 2"
   ]
  },
  {
   "cell_type": "markdown",
   "metadata": {
    "id": "VA8i7QrhCQ5Z"
   },
   "source": [
    "\n",
    "\n",
    "---\n",
    "\n"
   ]
  },
  {
   "cell_type": "markdown",
   "metadata": {
    "id": "iX-YDBI8ybI5"
   },
   "source": [
    "# 15. Calculation of Arrays"
   ]
  },
  {
   "cell_type": "code",
   "execution_count": 271,
   "metadata": {
    "colab": {
     "base_uri": "https://localhost:8080/"
    },
    "id": "WZPavACUydXC",
    "outputId": "e8803ea2-2386-4044-bba6-568b8487032b"
   },
   "outputs": [
    {
     "name": "stdout",
     "output_type": "stream",
     "text": [
      "[[ 6  8]\n",
      " [10 12]]\n",
      "[[-4 -4]\n",
      " [-4 -4]]\n",
      "[[ 5 12]\n",
      " [21 32]]\n"
     ]
    }
   ],
   "source": [
    "arr1 = np.array([[1, 2], [3, 4]])\n",
    "arr2 = np.array([[5, 6], [7, 8]])\n",
    "print(arr1 + arr2)\n",
    "print(arr1 - arr2)\n",
    "print(arr1 * arr2)"
   ]
  },
  {
   "cell_type": "code",
   "execution_count": 272,
   "metadata": {
    "colab": {
     "base_uri": "https://localhost:8080/"
    },
    "id": "Yyn5Bi5VywzO",
    "outputId": "7895134c-d1cc-4a1b-923d-d3df404e6b67"
   },
   "outputs": [
    {
     "name": "stdout",
     "output_type": "stream",
     "text": [
      "[[ 6  8]\n",
      " [10 12]]\n",
      "[[ 5 12]\n",
      " [21 32]]\n"
     ]
    }
   ],
   "source": [
    "print(np.add(arr1, arr2))\n",
    "print(np.multiply(arr1, arr2))"
   ]
  }
 ],
 "metadata": {
  "colab": {
   "provenance": []
  },
  "kernelspec": {
   "display_name": "Python 3 (ipykernel)",
   "language": "python",
   "name": "python3"
  },
  "language_info": {
   "codemirror_mode": {
    "name": "ipython",
    "version": 3
   },
   "file_extension": ".py",
   "mimetype": "text/x-python",
   "name": "python",
   "nbconvert_exporter": "python",
   "pygments_lexer": "ipython3",
   "version": "3.10.9"
  }
 },
 "nbformat": 4,
 "nbformat_minor": 1
}
