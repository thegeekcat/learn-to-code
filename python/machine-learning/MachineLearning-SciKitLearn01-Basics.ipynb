{
 "cells": [
  {
   "cell_type": "markdown",
   "metadata": {
    "id": "QwZ7OO7qW8yG"
   },
   "source": [
    "# 1. Preparation"
   ]
  },
  {
   "cell_type": "markdown",
   "metadata": {
    "id": "sdY7yNY-XYZP"
   },
   "source": [
    "## 1.1. Load Modules"
   ]
  },
  {
   "cell_type": "code",
   "execution_count": null,
   "metadata": {
    "id": "J0lljJtkWSkM"
   },
   "outputs": [],
   "source": [
    "import numpy as np\n",
    "import pandas as pd\n",
    "import sklearn\n",
    "import matplotlib.pyplot as plt "
   ]
  },
  {
   "cell_type": "markdown",
   "metadata": {
    "id": "je-59QoaXXD1"
   },
   "source": [
    "## 1.2. Get Dataset from SciKit Learn Package"
   ]
  },
  {
   "cell_type": "code",
   "execution_count": null,
   "metadata": {
    "id": "Sx6xpHitXU6F"
   },
   "outputs": [],
   "source": [
    "from sklearn.datasets import load_iris\n",
    "iris = load_iris()"
   ]
  },
  {
   "cell_type": "markdown",
   "metadata": {
    "id": "IQvPBMeIXeBK"
   },
   "source": [
    "## 1.3. Look Up Dataset"
   ]
  },
  {
   "cell_type": "code",
   "execution_count": null,
   "metadata": {
    "colab": {
     "base_uri": "https://localhost:8080/"
    },
    "id": "MSI8GMRFXdcV",
    "outputId": "4d8f003d-9671-4515-bd4e-1e2ac6d51b3e"
   },
   "outputs": [
    {
     "name": "stdout",
     "output_type": "stream",
     "text": [
      ".. _iris_dataset:\n",
      "\n",
      "Iris plants dataset\n",
      "--------------------\n",
      "\n",
      "**Data Set Characteristics:**\n",
      "\n",
      "    :Number of Instances: 150 (50 in each of three classes)\n",
      "    :Number of Attributes: 4 numeric, predictive attributes and the class\n",
      "    :Attribute Information:\n",
      "        - sepal length in cm\n",
      "        - sepal width in cm\n",
      "        - petal length in cm\n",
      "        - petal width in cm\n",
      "        - class:\n",
      "                - Iris-Setosa\n",
      "                - Iris-Versicolour\n",
      "                - Iris-Virginica\n",
      "                \n",
      "    :Summary Statistics:\n",
      "\n",
      "    ============== ==== ==== ======= ===== ====================\n",
      "                    Min  Max   Mean    SD   Class Correlation\n",
      "    ============== ==== ==== ======= ===== ====================\n",
      "    sepal length:   4.3  7.9   5.84   0.83    0.7826\n",
      "    sepal width:    2.0  4.4   3.05   0.43   -0.4194\n",
      "    petal length:   1.0  6.9   3.76   1.76    0.9490  (high!)\n",
      "    petal width:    0.1  2.5   1.20   0.76    0.9565  (high!)\n",
      "    ============== ==== ==== ======= ===== ====================\n",
      "\n",
      "    :Missing Attribute Values: None\n",
      "    :Class Distribution: 33.3% for each of 3 classes.\n",
      "    :Creator: R.A. Fisher\n",
      "    :Donor: Michael Marshall (MARSHALL%PLU@io.arc.nasa.gov)\n",
      "    :Date: July, 1988\n",
      "\n",
      "The famous Iris database, first used by Sir R.A. Fisher. The dataset is taken\n",
      "from Fisher's paper. Note that it's the same as in R, but not as in the UCI\n",
      "Machine Learning Repository, which has two wrong data points.\n",
      "\n",
      "This is perhaps the best known database to be found in the\n",
      "pattern recognition literature.  Fisher's paper is a classic in the field and\n",
      "is referenced frequently to this day.  (See Duda & Hart, for example.)  The\n",
      "data set contains 3 classes of 50 instances each, where each class refers to a\n",
      "type of iris plant.  One class is linearly separable from the other 2; the\n",
      "latter are NOT linearly separable from each other.\n",
      "\n",
      ".. topic:: References\n",
      "\n",
      "   - Fisher, R.A. \"The use of multiple measurements in taxonomic problems\"\n",
      "     Annual Eugenics, 7, Part II, 179-188 (1936); also in \"Contributions to\n",
      "     Mathematical Statistics\" (John Wiley, NY, 1950).\n",
      "   - Duda, R.O., & Hart, P.E. (1973) Pattern Classification and Scene Analysis.\n",
      "     (Q327.D83) John Wiley & Sons.  ISBN 0-471-22361-1.  See page 218.\n",
      "   - Dasarathy, B.V. (1980) \"Nosing Around the Neighborhood: A New System\n",
      "     Structure and Classification Rule for Recognition in Partially Exposed\n",
      "     Environments\".  IEEE Transactions on Pattern Analysis and Machine\n",
      "     Intelligence, Vol. PAMI-2, No. 1, 67-71.\n",
      "   - Gates, G.W. (1972) \"The Reduced Nearest Neighbor Rule\".  IEEE Transactions\n",
      "     on Information Theory, May 1972, 431-433.\n",
      "   - See also: 1988 MLC Proceedings, 54-64.  Cheeseman et al\"s AUTOCLASS II\n",
      "     conceptual clustering system finds 3 classes in the data.\n",
      "   - Many, many more ...\n"
     ]
    }
   ],
   "source": [
    "print(iris.DESCR)   # Check data info"
   ]
  },
  {
   "cell_type": "markdown",
   "metadata": {
    "id": "X67tzb8GXz59"
   },
   "source": [
    "## 1.4. Get Data"
   ]
  },
  {
   "cell_type": "code",
   "execution_count": null,
   "metadata": {
    "id": "jjxjyQ5yX1a4"
   },
   "outputs": [],
   "source": [
    "data = iris.data\n",
    "label = iris.target\n",
    "columns = iris.feature_names"
   ]
  },
  {
   "cell_type": "code",
   "execution_count": null,
   "metadata": {
    "id": "5eWhjUcpX-VJ"
   },
   "outputs": [],
   "source": [
    "data  = pd.DataFrame(data, columns=columns)"
   ]
  },
  {
   "cell_type": "markdown",
   "metadata": {
    "id": "UPp4qKm9YQj6"
   },
   "source": [
    "## 1.5. Look Up Data"
   ]
  },
  {
   "cell_type": "code",
   "execution_count": null,
   "metadata": {
    "colab": {
     "base_uri": "https://localhost:8080/",
     "height": 206
    },
    "id": "r9PCD1cXYI2u",
    "outputId": "bf85d59e-13d7-4123-da52-73a24fb9b8b8"
   },
   "outputs": [
    {
     "data": {
      "text/html": [
       "\n",
       "  <div id=\"df-458f3242-5815-4a7c-af34-2264cb12551a\">\n",
       "    <div class=\"colab-df-container\">\n",
       "      <div>\n",
       "<style scoped>\n",
       "    .dataframe tbody tr th:only-of-type {\n",
       "        vertical-align: middle;\n",
       "    }\n",
       "\n",
       "    .dataframe tbody tr th {\n",
       "        vertical-align: top;\n",
       "    }\n",
       "\n",
       "    .dataframe thead th {\n",
       "        text-align: right;\n",
       "    }\n",
       "</style>\n",
       "<table border=\"1\" class=\"dataframe\">\n",
       "  <thead>\n",
       "    <tr style=\"text-align: right;\">\n",
       "      <th></th>\n",
       "      <th>sepal length (cm)</th>\n",
       "      <th>sepal width (cm)</th>\n",
       "      <th>petal length (cm)</th>\n",
       "      <th>petal width (cm)</th>\n",
       "    </tr>\n",
       "  </thead>\n",
       "  <tbody>\n",
       "    <tr>\n",
       "      <th>0</th>\n",
       "      <td>5.1</td>\n",
       "      <td>3.5</td>\n",
       "      <td>1.4</td>\n",
       "      <td>0.2</td>\n",
       "    </tr>\n",
       "    <tr>\n",
       "      <th>1</th>\n",
       "      <td>4.9</td>\n",
       "      <td>3.0</td>\n",
       "      <td>1.4</td>\n",
       "      <td>0.2</td>\n",
       "    </tr>\n",
       "    <tr>\n",
       "      <th>2</th>\n",
       "      <td>4.7</td>\n",
       "      <td>3.2</td>\n",
       "      <td>1.3</td>\n",
       "      <td>0.2</td>\n",
       "    </tr>\n",
       "    <tr>\n",
       "      <th>3</th>\n",
       "      <td>4.6</td>\n",
       "      <td>3.1</td>\n",
       "      <td>1.5</td>\n",
       "      <td>0.2</td>\n",
       "    </tr>\n",
       "    <tr>\n",
       "      <th>4</th>\n",
       "      <td>5.0</td>\n",
       "      <td>3.6</td>\n",
       "      <td>1.4</td>\n",
       "      <td>0.2</td>\n",
       "    </tr>\n",
       "  </tbody>\n",
       "</table>\n",
       "</div>\n",
       "      <button class=\"colab-df-convert\" onclick=\"convertToInteractive('df-458f3242-5815-4a7c-af34-2264cb12551a')\"\n",
       "              title=\"Convert this dataframe to an interactive table.\"\n",
       "              style=\"display:none;\">\n",
       "        \n",
       "  <svg xmlns=\"http://www.w3.org/2000/svg\" height=\"24px\"viewBox=\"0 0 24 24\"\n",
       "       width=\"24px\">\n",
       "    <path d=\"M0 0h24v24H0V0z\" fill=\"none\"/>\n",
       "    <path d=\"M18.56 5.44l.94 2.06.94-2.06 2.06-.94-2.06-.94-.94-2.06-.94 2.06-2.06.94zm-11 1L8.5 8.5l.94-2.06 2.06-.94-2.06-.94L8.5 2.5l-.94 2.06-2.06.94zm10 10l.94 2.06.94-2.06 2.06-.94-2.06-.94-.94-2.06-.94 2.06-2.06.94z\"/><path d=\"M17.41 7.96l-1.37-1.37c-.4-.4-.92-.59-1.43-.59-.52 0-1.04.2-1.43.59L10.3 9.45l-7.72 7.72c-.78.78-.78 2.05 0 2.83L4 21.41c.39.39.9.59 1.41.59.51 0 1.02-.2 1.41-.59l7.78-7.78 2.81-2.81c.8-.78.8-2.07 0-2.86zM5.41 20L4 18.59l7.72-7.72 1.47 1.35L5.41 20z\"/>\n",
       "  </svg>\n",
       "      </button>\n",
       "      \n",
       "  <style>\n",
       "    .colab-df-container {\n",
       "      display:flex;\n",
       "      flex-wrap:wrap;\n",
       "      gap: 12px;\n",
       "    }\n",
       "\n",
       "    .colab-df-convert {\n",
       "      background-color: #E8F0FE;\n",
       "      border: none;\n",
       "      border-radius: 50%;\n",
       "      cursor: pointer;\n",
       "      display: none;\n",
       "      fill: #1967D2;\n",
       "      height: 32px;\n",
       "      padding: 0 0 0 0;\n",
       "      width: 32px;\n",
       "    }\n",
       "\n",
       "    .colab-df-convert:hover {\n",
       "      background-color: #E2EBFA;\n",
       "      box-shadow: 0px 1px 2px rgba(60, 64, 67, 0.3), 0px 1px 3px 1px rgba(60, 64, 67, 0.15);\n",
       "      fill: #174EA6;\n",
       "    }\n",
       "\n",
       "    [theme=dark] .colab-df-convert {\n",
       "      background-color: #3B4455;\n",
       "      fill: #D2E3FC;\n",
       "    }\n",
       "\n",
       "    [theme=dark] .colab-df-convert:hover {\n",
       "      background-color: #434B5C;\n",
       "      box-shadow: 0px 1px 3px 1px rgba(0, 0, 0, 0.15);\n",
       "      filter: drop-shadow(0px 1px 2px rgba(0, 0, 0, 0.3));\n",
       "      fill: #FFFFFF;\n",
       "    }\n",
       "  </style>\n",
       "\n",
       "      <script>\n",
       "        const buttonEl =\n",
       "          document.querySelector('#df-458f3242-5815-4a7c-af34-2264cb12551a button.colab-df-convert');\n",
       "        buttonEl.style.display =\n",
       "          google.colab.kernel.accessAllowed ? 'block' : 'none';\n",
       "\n",
       "        async function convertToInteractive(key) {\n",
       "          const element = document.querySelector('#df-458f3242-5815-4a7c-af34-2264cb12551a');\n",
       "          const dataTable =\n",
       "            await google.colab.kernel.invokeFunction('convertToInteractive',\n",
       "                                                     [key], {});\n",
       "          if (!dataTable) return;\n",
       "\n",
       "          const docLinkHtml = 'Like what you see? Visit the ' +\n",
       "            '<a target=\"_blank\" href=https://colab.research.google.com/notebooks/data_table.ipynb>data table notebook</a>'\n",
       "            + ' to learn more about interactive tables.';\n",
       "          element.innerHTML = '';\n",
       "          dataTable['output_type'] = 'display_data';\n",
       "          await google.colab.output.renderOutput(dataTable, element);\n",
       "          const docLink = document.createElement('div');\n",
       "          docLink.innerHTML = docLinkHtml;\n",
       "          element.appendChild(docLink);\n",
       "        }\n",
       "      </script>\n",
       "    </div>\n",
       "  </div>\n",
       "  "
      ],
      "text/plain": [
       "   sepal length (cm)  sepal width (cm)  petal length (cm)  petal width (cm)\n",
       "0                5.1               3.5                1.4               0.2\n",
       "1                4.9               3.0                1.4               0.2\n",
       "2                4.7               3.2                1.3               0.2\n",
       "3                4.6               3.1                1.5               0.2\n",
       "4                5.0               3.6                1.4               0.2"
      ]
     },
     "execution_count": 21,
     "metadata": {},
     "output_type": "execute_result"
    }
   ],
   "source": [
    "data.head()"
   ]
  },
  {
   "cell_type": "code",
   "execution_count": null,
   "metadata": {
    "colab": {
     "base_uri": "https://localhost:8080/"
    },
    "id": "mnpltIEoYWOd",
    "outputId": "e15a1461-da6e-4cab-80fa-031bb5b9d69d"
   },
   "outputs": [
    {
     "data": {
      "text/plain": [
       "(150, 4)"
      ]
     },
     "execution_count": 22,
     "metadata": {},
     "output_type": "execute_result"
    }
   ],
   "source": [
    "data.shape"
   ]
  },
  {
   "cell_type": "markdown",
   "metadata": {
    "id": "MfEP2GJyZcrh"
   },
   "source": [
    "# 2. Data Splitting: Train & Test Data"
   ]
  },
  {
   "cell_type": "markdown",
   "metadata": {
    "id": "jlVn5JQhZugM"
   },
   "source": [
    "## 2.1. Load Modules"
   ]
  },
  {
   "cell_type": "code",
   "execution_count": null,
   "metadata": {
    "id": "KDj5QIKJYW7c"
   },
   "outputs": [],
   "source": [
    "from sklearn.model_selection import train_test_split"
   ]
  },
  {
   "cell_type": "markdown",
   "metadata": {
    "id": "_tCzUZK0Z9Je"
   },
   "source": [
    "## 2.2. Splitting data to Train set and Test set"
   ]
  },
  {
   "cell_type": "code",
   "execution_count": null,
   "metadata": {
    "colab": {
     "base_uri": "https://localhost:8080/"
    },
    "id": "fUT7_1i7Z_We",
    "outputId": "dee94ed7-a09c-444c-98c0-66085e6e9f6d"
   },
   "outputs": [
    {
     "data": {
      "text/plain": [
       "[     sepal length (cm)  sepal width (cm)  petal length (cm)  petal width (cm)\n",
       " 17                 5.1               3.5                1.4               0.3\n",
       " 18                 5.7               3.8                1.7               0.3\n",
       " 92                 5.8               2.6                4.0               1.2\n",
       " 142                5.8               2.7                5.1               1.9\n",
       " 122                7.7               2.8                6.7               2.0\n",
       " ..                 ...               ...                ...               ...\n",
       " 12                 4.8               3.0                1.4               0.1\n",
       " 33                 5.5               4.2                1.4               0.2\n",
       " 127                6.1               3.0                4.9               1.8\n",
       " 108                6.7               2.5                5.8               1.8\n",
       " 36                 5.5               3.5                1.3               0.2\n",
       " \n",
       " [112 rows x 4 columns],\n",
       "      sepal length (cm)  sepal width (cm)  petal length (cm)  petal width (cm)\n",
       " 141                6.9               3.1                5.1               2.3\n",
       " 79                 5.7               2.6                3.5               1.0\n",
       " 30                 4.8               3.1                1.6               0.2\n",
       " 2                  4.7               3.2                1.3               0.2\n",
       " 27                 5.2               3.5                1.5               0.2\n",
       " 9                  4.9               3.1                1.5               0.1\n",
       " 5                  5.4               3.9                1.7               0.4\n",
       " 34                 4.9               3.1                1.5               0.2\n",
       " 21                 5.1               3.7                1.5               0.4\n",
       " 78                 6.0               2.9                4.5               1.5\n",
       " 105                7.6               3.0                6.6               2.1\n",
       " 116                6.5               3.0                5.5               1.8\n",
       " 59                 5.2               2.7                3.9               1.4\n",
       " 140                6.7               3.1                5.6               2.4\n",
       " 43                 5.0               3.5                1.6               0.6\n",
       " 64                 5.6               2.9                3.6               1.3\n",
       " 149                5.9               3.0                5.1               1.8\n",
       " 7                  5.0               3.4                1.5               0.2\n",
       " 26                 5.0               3.4                1.6               0.4\n",
       " 28                 5.2               3.4                1.4               0.2\n",
       " 88                 5.6               3.0                4.1               1.3\n",
       " 62                 6.0               2.2                4.0               1.0\n",
       " 119                6.0               2.2                5.0               1.5\n",
       " 69                 5.6               2.5                3.9               1.1\n",
       " 57                 4.9               2.4                3.3               1.0\n",
       " 11                 4.8               3.4                1.6               0.2\n",
       " 48                 5.3               3.7                1.5               0.2\n",
       " 46                 5.1               3.8                1.6               0.2\n",
       " 63                 6.1               2.9                4.7               1.4\n",
       " 73                 6.1               2.8                4.7               1.2\n",
       " 66                 5.6               3.0                4.5               1.5\n",
       " 115                6.4               3.2                5.3               2.3\n",
       " 53                 5.5               2.3                4.0               1.3\n",
       " 139                6.9               3.1                5.4               2.1\n",
       " 65                 6.7               3.1                4.4               1.4\n",
       " 85                 6.0               3.4                4.5               1.6\n",
       " 58                 6.6               2.9                4.6               1.3\n",
       " 25                 5.0               3.0                1.6               0.2,\n",
       " array([0, 0, 1, 2, 2, 0, 0, 0, 2, 1, 1, 0, 0, 1, 1, 0, 2, 2, 2, 1, 1, 0,\n",
       "        2, 2, 0, 1, 1, 0, 0, 0, 1, 2, 2, 0, 1, 0, 0, 1, 2, 1, 2, 1, 2, 2,\n",
       "        1, 1, 2, 2, 2, 0, 0, 0, 2, 2, 2, 1, 0, 0, 2, 1, 2, 2, 1, 2, 2, 0,\n",
       "        2, 0, 0, 2, 1, 1, 2, 2, 1, 0, 1, 0, 0, 1, 1, 0, 1, 1, 2, 0, 2, 2,\n",
       "        2, 1, 1, 2, 1, 2, 0, 0, 1, 2, 2, 2, 1, 2, 2, 1, 1, 1, 0, 0, 0, 2,\n",
       "        2, 0]),\n",
       " array([2, 1, 0, 0, 0, 0, 0, 0, 0, 1, 2, 2, 1, 2, 0, 1, 2, 0, 0, 0, 1, 1,\n",
       "        2, 1, 1, 0, 0, 0, 1, 1, 1, 2, 1, 2, 1, 1, 1, 0])]"
      ]
     },
     "execution_count": 28,
     "metadata": {},
     "output_type": "execute_result"
    }
   ],
   "source": [
    "# Just split\n",
    "train_test_split(data, label)"
   ]
  },
  {
   "cell_type": "code",
   "execution_count": null,
   "metadata": {
    "colab": {
     "base_uri": "https://localhost:8080/"
    },
    "id": "dtEj3M5WbDcZ",
    "outputId": "935bbbdd-2cfe-4149-a45e-7c988804043b"
   },
   "outputs": [
    {
     "data": {
      "text/plain": [
       "[     sepal length (cm)  sepal width (cm)  petal length (cm)  petal width (cm)\n",
       " 40                 5.0               3.5                1.3               0.3\n",
       " 132                6.4               2.8                5.6               2.2\n",
       " 8                  4.4               2.9                1.4               0.2\n",
       " 2                  4.7               3.2                1.3               0.2\n",
       " 149                5.9               3.0                5.1               1.8\n",
       " ..                 ...               ...                ...               ...\n",
       " 86                 6.7               3.1                4.7               1.5\n",
       " 62                 6.0               2.2                4.0               1.0\n",
       " 53                 5.5               2.3                4.0               1.3\n",
       " 34                 4.9               3.1                1.5               0.2\n",
       " 146                6.3               2.5                5.0               1.9\n",
       " \n",
       " [120 rows x 4 columns],\n",
       "      sepal length (cm)  sepal width (cm)  petal length (cm)  petal width (cm)\n",
       " 75                 6.6               3.0                4.4               1.4\n",
       " 10                 5.4               3.7                1.5               0.2\n",
       " 5                  5.4               3.9                1.7               0.4\n",
       " 70                 5.9               3.2                4.8               1.8\n",
       " 71                 6.1               2.8                4.0               1.3\n",
       " 67                 5.8               2.7                4.1               1.0\n",
       " 109                7.2               3.6                6.1               2.5\n",
       " 138                6.0               3.0                4.8               1.8\n",
       " 27                 5.2               3.5                1.5               0.2\n",
       " 110                6.5               3.2                5.1               2.0\n",
       " 141                6.9               3.1                5.1               2.3\n",
       " 14                 5.8               4.0                1.2               0.2\n",
       " 140                6.7               3.1                5.6               2.4\n",
       " 95                 5.7               3.0                4.2               1.2\n",
       " 72                 6.3               2.5                4.9               1.5\n",
       " 83                 6.0               2.7                5.1               1.6\n",
       " 97                 6.2               2.9                4.3               1.3\n",
       " 11                 4.8               3.4                1.6               0.2\n",
       " 42                 4.4               3.2                1.3               0.2\n",
       " 129                7.2               3.0                5.8               1.6\n",
       " 103                6.3               2.9                5.6               1.8\n",
       " 38                 4.4               3.0                1.3               0.2\n",
       " 114                5.8               2.8                5.1               2.4\n",
       " 84                 5.4               3.0                4.5               1.5\n",
       " 81                 5.5               2.4                3.7               1.0\n",
       " 6                  4.6               3.4                1.4               0.3\n",
       " 131                7.9               3.8                6.4               2.0\n",
       " 52                 6.9               3.1                4.9               1.5\n",
       " 4                  5.0               3.6                1.4               0.2\n",
       " 36                 5.5               3.5                1.3               0.2,\n",
       " array([0, 2, 0, 0, 2, 1, 1, 0, 2, 0, 2, 1, 0, 2, 2, 0, 2, 0, 1, 2, 1, 1,\n",
       "        2, 1, 1, 2, 2, 2, 1, 2, 0, 0, 1, 1, 0, 1, 1, 1, 2, 2, 2, 1, 1, 0,\n",
       "        2, 0, 1, 1, 1, 0, 0, 2, 1, 1, 2, 1, 2, 2, 1, 1, 2, 1, 1, 0, 0, 1,\n",
       "        1, 0, 1, 2, 0, 2, 1, 1, 0, 0, 0, 2, 0, 1, 1, 2, 0, 2, 0, 0, 2, 0,\n",
       "        2, 0, 0, 0, 0, 2, 2, 1, 1, 0, 2, 0, 2, 0, 2, 2, 2, 2, 2, 2, 0, 2,\n",
       "        1, 0, 0, 0, 0, 1, 1, 1, 0, 2]),\n",
       " array([1, 0, 0, 1, 1, 1, 2, 2, 0, 2, 2, 0, 2, 1, 1, 1, 1, 0, 0, 2, 2, 0,\n",
       "        2, 1, 1, 0, 2, 1, 0, 0])]"
      ]
     },
     "execution_count": 30,
     "metadata": {},
     "output_type": "execute_result"
    }
   ],
   "source": [
    "# Set a ratio of train:data\n",
    "train_test_split(data, label, test_size=0.2)"
   ]
  },
  {
   "cell_type": "code",
   "execution_count": null,
   "metadata": {
    "colab": {
     "base_uri": "https://localhost:8080/"
    },
    "id": "j180AOusbHm6",
    "outputId": "263d3cd3-e725-46aa-d232-fe6f0ce4623c"
   },
   "outputs": [
    {
     "data": {
      "text/plain": [
       "[     sepal length (cm)  sepal width (cm)  petal length (cm)  petal width (cm)\n",
       " 9                  4.9               3.1                1.5               0.1\n",
       " 38                 4.4               3.0                1.3               0.2\n",
       " 18                 5.7               3.8                1.7               0.3\n",
       " 119                6.0               2.2                5.0               1.5\n",
       " 98                 5.1               2.5                3.0               1.1\n",
       " ..                 ...               ...                ...               ...\n",
       " 52                 6.9               3.1                4.9               1.5\n",
       " 116                6.5               3.0                5.5               1.8\n",
       " 3                  4.6               3.1                1.5               0.2\n",
       " 25                 5.0               3.0                1.6               0.2\n",
       " 87                 6.3               2.3                4.4               1.3\n",
       " \n",
       " [120 rows x 4 columns],\n",
       "      sepal length (cm)  sepal width (cm)  petal length (cm)  petal width (cm)\n",
       " 128                6.4               2.8                5.6               2.1\n",
       " 74                 6.4               2.9                4.3               1.3\n",
       " 99                 5.7               2.8                4.1               1.3\n",
       " 107                7.3               2.9                6.3               1.8\n",
       " 76                 6.8               2.8                4.8               1.4\n",
       " 113                5.7               2.5                5.0               2.0\n",
       " 84                 5.4               3.0                4.5               1.5\n",
       " 96                 5.7               2.9                4.2               1.3\n",
       " 4                  5.0               3.6                1.4               0.2\n",
       " 62                 6.0               2.2                4.0               1.0\n",
       " 30                 4.8               3.1                1.6               0.2\n",
       " 86                 6.7               3.1                4.7               1.5\n",
       " 41                 4.5               2.3                1.3               0.3\n",
       " 137                6.4               3.1                5.5               1.8\n",
       " 17                 5.1               3.5                1.4               0.3\n",
       " 120                6.9               3.2                5.7               2.3\n",
       " 32                 5.2               4.1                1.5               0.1\n",
       " 57                 4.9               2.4                3.3               1.0\n",
       " 35                 5.0               3.2                1.2               0.2\n",
       " 16                 5.4               3.9                1.3               0.4\n",
       " 94                 5.6               2.7                4.2               1.3\n",
       " 2                  4.7               3.2                1.3               0.2\n",
       " 122                7.7               2.8                6.7               2.0\n",
       " 50                 7.0               3.2                4.7               1.4\n",
       " 23                 5.1               3.3                1.7               0.5\n",
       " 14                 5.8               4.0                1.2               0.2\n",
       " 21                 5.1               3.7                1.5               0.4\n",
       " 135                7.7               3.0                6.1               2.3\n",
       " 81                 5.5               2.4                3.7               1.0\n",
       " 48                 5.3               3.7                1.5               0.2,\n",
       " array([0, 0, 0, 2, 1, 2, 0, 1, 2, 0, 1, 2, 1, 1, 1, 2, 1, 1, 1, 0, 0, 2,\n",
       "        0, 0, 1, 2, 1, 1, 0, 0, 1, 2, 2, 0, 1, 2, 1, 1, 1, 2, 0, 1, 2, 1,\n",
       "        2, 2, 1, 0, 1, 1, 0, 2, 2, 0, 1, 1, 0, 2, 0, 1, 1, 2, 0, 0, 0, 2,\n",
       "        2, 0, 0, 1, 1, 0, 0, 0, 2, 2, 2, 2, 2, 2, 2, 1, 2, 2, 0, 2, 2, 0,\n",
       "        0, 2, 2, 1, 1, 2, 0, 1, 1, 2, 2, 0, 1, 2, 2, 2, 0, 0, 1, 2, 0, 1,\n",
       "        2, 0, 1, 0, 2, 1, 2, 0, 0, 1]),\n",
       " array([2, 1, 1, 2, 1, 2, 1, 1, 0, 1, 0, 1, 0, 2, 0, 2, 0, 1, 0, 0, 1, 0,\n",
       "        2, 1, 0, 0, 0, 2, 1, 0])]"
      ]
     },
     "execution_count": 33,
     "metadata": {},
     "output_type": "execute_result"
    }
   ],
   "source": [
    "# Randomly mix data\n",
    "train_test_split(data, label, test_size=0.2, random_state=2023)"
   ]
  },
  {
   "cell_type": "code",
   "execution_count": null,
   "metadata": {
    "id": "NA5KLUEvbb_L"
   },
   "outputs": [],
   "source": [
    "# Load Data\n",
    "x_train, x_test, y_train, y_test = train_test_split(data, label, test_size=0.2, random_state=2023)"
   ]
  },
  {
   "cell_type": "code",
   "execution_count": null,
   "metadata": {
    "colab": {
     "base_uri": "https://localhost:8080/"
    },
    "id": "POgXSXbacy1k",
    "outputId": "3bd69ae2-be5d-4f12-dbce-44b60feba13b"
   },
   "outputs": [
    {
     "data": {
      "text/plain": [
       "array([0, 0, 0, 2, 1, 2, 0, 1, 2, 0, 1, 2, 1, 1, 1, 2, 1, 1, 1, 0, 0, 2,\n",
       "       0, 0, 1, 2, 1, 1, 0, 0, 1, 2, 2, 0, 1, 2, 1, 1, 1, 2, 0, 1, 2, 1,\n",
       "       2, 2, 1, 0, 1, 1, 0, 2, 2, 0, 1, 1, 0, 2, 0, 1, 1, 2, 0, 0, 0, 2,\n",
       "       2, 0, 0, 1, 1, 0, 0, 0, 2, 2, 2, 2, 2, 2, 2, 1, 2, 2, 0, 2, 2, 0,\n",
       "       0, 2, 2, 1, 1, 2, 0, 1, 1, 2, 2, 0, 1, 2, 2, 2, 0, 0, 1, 2, 0, 1,\n",
       "       2, 0, 1, 0, 2, 1, 2, 0, 0, 1])"
      ]
     },
     "execution_count": 37,
     "metadata": {},
     "output_type": "execute_result"
    }
   ],
   "source": [
    "y_train"
   ]
  }
 ],
 "metadata": {
  "colab": {
   "provenance": [],
   "toc_visible": true
  },
  "kernelspec": {
   "display_name": "Python 3 (ipykernel)",
   "language": "python",
   "name": "python3"
  },
  "language_info": {
   "codemirror_mode": {
    "name": "ipython",
    "version": 3
   },
   "file_extension": ".py",
   "mimetype": "text/x-python",
   "name": "python",
   "nbconvert_exporter": "python",
   "pygments_lexer": "ipython3",
   "version": "3.10.9"
  }
 },
 "nbformat": 4,
 "nbformat_minor": 1
}
