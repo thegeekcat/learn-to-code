{
  "nbformat": 4,
  "nbformat_minor": 0,
  "metadata": {
    "colab": {
      "provenance": [],
      "gpuType": "T4",
      "authorship_tag": "ABX9TyPDbZjTBUYeFA7SiJnEMFlp",
      "include_colab_link": true
    },
    "kernelspec": {
      "name": "python3",
      "display_name": "Python 3"
    },
    "language_info": {
      "name": "python"
    },
    "gpuClass": "standard"
  },
  "cells": [
    {
      "cell_type": "markdown",
      "metadata": {
        "id": "view-in-github",
        "colab_type": "text"
      },
      "source": [
        "<a href=\"https://colab.research.google.com/github/thegeekcat/learn-to-code/blob/main/python/machine-learning/MachineLearning-SciKitLearn02-Classifications.ipynb\" target=\"_parent\"><img src=\"https://colab.research.google.com/assets/colab-badge.svg\" alt=\"Open In Colab\"/></a>"
      ]
    },
    {
      "cell_type": "markdown",
      "source": [
        "# 1. Preparation"
      ],
      "metadata": {
        "id": "mpNDw2KQfWRw"
      }
    },
    {
      "cell_type": "markdown",
      "source": [
        "## 1.1. Load Basic Modules and Dataset"
      ],
      "metadata": {
        "id": "sz8ur6S4fkl-"
      }
    },
    {
      "cell_type": "code",
      "execution_count": 62,
      "metadata": {
        "id": "TIlInZdneCOq"
      },
      "outputs": [],
      "source": [
        "# Load modules\n",
        "\n",
        "import numpy as np\n",
        "import pandas as pd\n",
        "import sklearn\n",
        "import matplotlib.pyplot as plt"
      ]
    },
    {
      "cell_type": "code",
      "source": [
        "# Load Dataset\n",
        "from sklearn.datasets import load_diabetes\n",
        "\n",
        "diabetes = load_diabetes()"
      ],
      "metadata": {
        "id": "lQPoKRJofcd6"
      },
      "execution_count": 43,
      "outputs": []
    },
    {
      "cell_type": "code",
      "source": [
        "# View an overview of the dataset\n",
        "print(diabetes.DESCR)"
      ],
      "metadata": {
        "colab": {
          "base_uri": "https://localhost:8080/"
        },
        "id": "NDv05p1UhR65",
        "outputId": "e75d7a0d-9c87-4a3e-e899-a7bbb81e3881"
      },
      "execution_count": 44,
      "outputs": [
        {
          "output_type": "stream",
          "name": "stdout",
          "text": [
            ".. _diabetes_dataset:\n",
            "\n",
            "Diabetes dataset\n",
            "----------------\n",
            "\n",
            "Ten baseline variables, age, sex, body mass index, average blood\n",
            "pressure, and six blood serum measurements were obtained for each of n =\n",
            "442 diabetes patients, as well as the response of interest, a\n",
            "quantitative measure of disease progression one year after baseline.\n",
            "\n",
            "**Data Set Characteristics:**\n",
            "\n",
            "  :Number of Instances: 442\n",
            "\n",
            "  :Number of Attributes: First 10 columns are numeric predictive values\n",
            "\n",
            "  :Target: Column 11 is a quantitative measure of disease progression one year after baseline\n",
            "\n",
            "  :Attribute Information:\n",
            "      - age     age in years\n",
            "      - sex\n",
            "      - bmi     body mass index\n",
            "      - bp      average blood pressure\n",
            "      - s1      tc, total serum cholesterol\n",
            "      - s2      ldl, low-density lipoproteins\n",
            "      - s3      hdl, high-density lipoproteins\n",
            "      - s4      tch, total cholesterol / HDL\n",
            "      - s5      ltg, possibly log of serum triglycerides level\n",
            "      - s6      glu, blood sugar level\n",
            "\n",
            "Note: Each of these 10 feature variables have been mean centered and scaled by the standard deviation times the square root of `n_samples` (i.e. the sum of squares of each column totals 1).\n",
            "\n",
            "Source URL:\n",
            "https://www4.stat.ncsu.edu/~boos/var.select/diabetes.html\n",
            "\n",
            "For more information see:\n",
            "Bradley Efron, Trevor Hastie, Iain Johnstone and Robert Tibshirani (2004) \"Least Angle Regression,\" Annals of Statistics (with discussion), 407-499.\n",
            "(https://web.stanford.edu/~hastie/Papers/LARS/LeastAngle_2002.pdf)\n",
            "\n"
          ]
        }
      ]
    },
    {
      "cell_type": "markdown",
      "source": [
        "# 2. Simple Linear Regression"
      ],
      "metadata": {
        "id": "FQFy7u2skw4g"
      }
    },
    {
      "cell_type": "markdown",
      "source": [
        "## 2.1. Prepareation"
      ],
      "metadata": {
        "id": "KNX96lW2imcQ"
      }
    },
    {
      "cell_type": "markdown",
      "source": [
        "### Load Data"
      ],
      "metadata": {
        "id": "13TqrBqyk8wE"
      }
    },
    {
      "cell_type": "code",
      "source": [
        "data = diabetes.data\n",
        "label = diabetes.target  # Labels\n",
        "columns = diabetes.feature_names # Column Names"
      ],
      "metadata": {
        "id": "WUn7MVJKiPm7"
      },
      "execution_count": 45,
      "outputs": []
    },
    {
      "cell_type": "markdown",
      "source": [
        "### Make a DataFrame"
      ],
      "metadata": {
        "id": "29IoiAO9lCP5"
      }
    },
    {
      "cell_type": "code",
      "source": [
        "# Make a DataFrame\n",
        "data = pd.DataFrame(data, columns=columns)\n"
      ],
      "metadata": {
        "id": "vtpniy8NiP5N"
      },
      "execution_count": 46,
      "outputs": []
    },
    {
      "cell_type": "markdown",
      "source": [
        "### Look up Data"
      ],
      "metadata": {
        "id": "0MvStADPlFrg"
      }
    },
    {
      "cell_type": "code",
      "source": [
        "data.head()"
      ],
      "metadata": {
        "colab": {
          "base_uri": "https://localhost:8080/",
          "height": 206
        },
        "id": "cmR3tR-elE-d",
        "outputId": "06652e6b-563e-438f-e86e-5cbb497a65d4"
      },
      "execution_count": 47,
      "outputs": [
        {
          "output_type": "execute_result",
          "data": {
            "text/plain": [
              "        age       sex       bmi        bp        s1        s2        s3  \\\n",
              "0  0.038076  0.050680  0.061696  0.021872 -0.044223 -0.034821 -0.043401   \n",
              "1 -0.001882 -0.044642 -0.051474 -0.026328 -0.008449 -0.019163  0.074412   \n",
              "2  0.085299  0.050680  0.044451 -0.005670 -0.045599 -0.034194 -0.032356   \n",
              "3 -0.089063 -0.044642 -0.011595 -0.036656  0.012191  0.024991 -0.036038   \n",
              "4  0.005383 -0.044642 -0.036385  0.021872  0.003935  0.015596  0.008142   \n",
              "\n",
              "         s4        s5        s6  \n",
              "0 -0.002592  0.019907 -0.017646  \n",
              "1 -0.039493 -0.068332 -0.092204  \n",
              "2 -0.002592  0.002861 -0.025930  \n",
              "3  0.034309  0.022688 -0.009362  \n",
              "4 -0.002592 -0.031988 -0.046641  "
            ],
            "text/html": [
              "\n",
              "  <div id=\"df-c11aeb4d-817d-4a0b-8ea6-3689fefe71ca\">\n",
              "    <div class=\"colab-df-container\">\n",
              "      <div>\n",
              "<style scoped>\n",
              "    .dataframe tbody tr th:only-of-type {\n",
              "        vertical-align: middle;\n",
              "    }\n",
              "\n",
              "    .dataframe tbody tr th {\n",
              "        vertical-align: top;\n",
              "    }\n",
              "\n",
              "    .dataframe thead th {\n",
              "        text-align: right;\n",
              "    }\n",
              "</style>\n",
              "<table border=\"1\" class=\"dataframe\">\n",
              "  <thead>\n",
              "    <tr style=\"text-align: right;\">\n",
              "      <th></th>\n",
              "      <th>age</th>\n",
              "      <th>sex</th>\n",
              "      <th>bmi</th>\n",
              "      <th>bp</th>\n",
              "      <th>s1</th>\n",
              "      <th>s2</th>\n",
              "      <th>s3</th>\n",
              "      <th>s4</th>\n",
              "      <th>s5</th>\n",
              "      <th>s6</th>\n",
              "    </tr>\n",
              "  </thead>\n",
              "  <tbody>\n",
              "    <tr>\n",
              "      <th>0</th>\n",
              "      <td>0.038076</td>\n",
              "      <td>0.050680</td>\n",
              "      <td>0.061696</td>\n",
              "      <td>0.021872</td>\n",
              "      <td>-0.044223</td>\n",
              "      <td>-0.034821</td>\n",
              "      <td>-0.043401</td>\n",
              "      <td>-0.002592</td>\n",
              "      <td>0.019907</td>\n",
              "      <td>-0.017646</td>\n",
              "    </tr>\n",
              "    <tr>\n",
              "      <th>1</th>\n",
              "      <td>-0.001882</td>\n",
              "      <td>-0.044642</td>\n",
              "      <td>-0.051474</td>\n",
              "      <td>-0.026328</td>\n",
              "      <td>-0.008449</td>\n",
              "      <td>-0.019163</td>\n",
              "      <td>0.074412</td>\n",
              "      <td>-0.039493</td>\n",
              "      <td>-0.068332</td>\n",
              "      <td>-0.092204</td>\n",
              "    </tr>\n",
              "    <tr>\n",
              "      <th>2</th>\n",
              "      <td>0.085299</td>\n",
              "      <td>0.050680</td>\n",
              "      <td>0.044451</td>\n",
              "      <td>-0.005670</td>\n",
              "      <td>-0.045599</td>\n",
              "      <td>-0.034194</td>\n",
              "      <td>-0.032356</td>\n",
              "      <td>-0.002592</td>\n",
              "      <td>0.002861</td>\n",
              "      <td>-0.025930</td>\n",
              "    </tr>\n",
              "    <tr>\n",
              "      <th>3</th>\n",
              "      <td>-0.089063</td>\n",
              "      <td>-0.044642</td>\n",
              "      <td>-0.011595</td>\n",
              "      <td>-0.036656</td>\n",
              "      <td>0.012191</td>\n",
              "      <td>0.024991</td>\n",
              "      <td>-0.036038</td>\n",
              "      <td>0.034309</td>\n",
              "      <td>0.022688</td>\n",
              "      <td>-0.009362</td>\n",
              "    </tr>\n",
              "    <tr>\n",
              "      <th>4</th>\n",
              "      <td>0.005383</td>\n",
              "      <td>-0.044642</td>\n",
              "      <td>-0.036385</td>\n",
              "      <td>0.021872</td>\n",
              "      <td>0.003935</td>\n",
              "      <td>0.015596</td>\n",
              "      <td>0.008142</td>\n",
              "      <td>-0.002592</td>\n",
              "      <td>-0.031988</td>\n",
              "      <td>-0.046641</td>\n",
              "    </tr>\n",
              "  </tbody>\n",
              "</table>\n",
              "</div>\n",
              "      <button class=\"colab-df-convert\" onclick=\"convertToInteractive('df-c11aeb4d-817d-4a0b-8ea6-3689fefe71ca')\"\n",
              "              title=\"Convert this dataframe to an interactive table.\"\n",
              "              style=\"display:none;\">\n",
              "        \n",
              "  <svg xmlns=\"http://www.w3.org/2000/svg\" height=\"24px\"viewBox=\"0 0 24 24\"\n",
              "       width=\"24px\">\n",
              "    <path d=\"M0 0h24v24H0V0z\" fill=\"none\"/>\n",
              "    <path d=\"M18.56 5.44l.94 2.06.94-2.06 2.06-.94-2.06-.94-.94-2.06-.94 2.06-2.06.94zm-11 1L8.5 8.5l.94-2.06 2.06-.94-2.06-.94L8.5 2.5l-.94 2.06-2.06.94zm10 10l.94 2.06.94-2.06 2.06-.94-2.06-.94-.94-2.06-.94 2.06-2.06.94z\"/><path d=\"M17.41 7.96l-1.37-1.37c-.4-.4-.92-.59-1.43-.59-.52 0-1.04.2-1.43.59L10.3 9.45l-7.72 7.72c-.78.78-.78 2.05 0 2.83L4 21.41c.39.39.9.59 1.41.59.51 0 1.02-.2 1.41-.59l7.78-7.78 2.81-2.81c.8-.78.8-2.07 0-2.86zM5.41 20L4 18.59l7.72-7.72 1.47 1.35L5.41 20z\"/>\n",
              "  </svg>\n",
              "      </button>\n",
              "      \n",
              "  <style>\n",
              "    .colab-df-container {\n",
              "      display:flex;\n",
              "      flex-wrap:wrap;\n",
              "      gap: 12px;\n",
              "    }\n",
              "\n",
              "    .colab-df-convert {\n",
              "      background-color: #E8F0FE;\n",
              "      border: none;\n",
              "      border-radius: 50%;\n",
              "      cursor: pointer;\n",
              "      display: none;\n",
              "      fill: #1967D2;\n",
              "      height: 32px;\n",
              "      padding: 0 0 0 0;\n",
              "      width: 32px;\n",
              "    }\n",
              "\n",
              "    .colab-df-convert:hover {\n",
              "      background-color: #E2EBFA;\n",
              "      box-shadow: 0px 1px 2px rgba(60, 64, 67, 0.3), 0px 1px 3px 1px rgba(60, 64, 67, 0.15);\n",
              "      fill: #174EA6;\n",
              "    }\n",
              "\n",
              "    [theme=dark] .colab-df-convert {\n",
              "      background-color: #3B4455;\n",
              "      fill: #D2E3FC;\n",
              "    }\n",
              "\n",
              "    [theme=dark] .colab-df-convert:hover {\n",
              "      background-color: #434B5C;\n",
              "      box-shadow: 0px 1px 3px 1px rgba(0, 0, 0, 0.15);\n",
              "      filter: drop-shadow(0px 1px 2px rgba(0, 0, 0, 0.3));\n",
              "      fill: #FFFFFF;\n",
              "    }\n",
              "  </style>\n",
              "\n",
              "      <script>\n",
              "        const buttonEl =\n",
              "          document.querySelector('#df-c11aeb4d-817d-4a0b-8ea6-3689fefe71ca button.colab-df-convert');\n",
              "        buttonEl.style.display =\n",
              "          google.colab.kernel.accessAllowed ? 'block' : 'none';\n",
              "\n",
              "        async function convertToInteractive(key) {\n",
              "          const element = document.querySelector('#df-c11aeb4d-817d-4a0b-8ea6-3689fefe71ca');\n",
              "          const dataTable =\n",
              "            await google.colab.kernel.invokeFunction('convertToInteractive',\n",
              "                                                     [key], {});\n",
              "          if (!dataTable) return;\n",
              "\n",
              "          const docLinkHtml = 'Like what you see? Visit the ' +\n",
              "            '<a target=\"_blank\" href=https://colab.research.google.com/notebooks/data_table.ipynb>data table notebook</a>'\n",
              "            + ' to learn more about interactive tables.';\n",
              "          element.innerHTML = '';\n",
              "          dataTable['output_type'] = 'display_data';\n",
              "          await google.colab.output.renderOutput(dataTable, element);\n",
              "          const docLink = document.createElement('div');\n",
              "          docLink.innerHTML = docLinkHtml;\n",
              "          element.appendChild(docLink);\n",
              "        }\n",
              "      </script>\n",
              "    </div>\n",
              "  </div>\n",
              "  "
            ]
          },
          "metadata": {},
          "execution_count": 47
        }
      ]
    },
    {
      "cell_type": "code",
      "source": [
        "data.shape"
      ],
      "metadata": {
        "colab": {
          "base_uri": "https://localhost:8080/"
        },
        "id": "l-wzCJJ-iP8B",
        "outputId": "c4120e53-175a-437d-a8ae-6d096400a593"
      },
      "execution_count": 48,
      "outputs": [
        {
          "output_type": "execute_result",
          "data": {
            "text/plain": [
              "(442, 10)"
            ]
          },
          "metadata": {},
          "execution_count": 48
        }
      ]
    },
    {
      "cell_type": "markdown",
      "source": [
        "### Load an Algorithm"
      ],
      "metadata": {
        "id": "AYe-fBI_kK3C"
      }
    },
    {
      "cell_type": "code",
      "source": [
        "# Prepare an algorithm\n",
        "from sklearn.linear_model import LinearRegression\n",
        "\n",
        "sim_lr = LinearRegression()"
      ],
      "metadata": {
        "id": "Tz99JUG6iP-f"
      },
      "execution_count": 49,
      "outputs": []
    },
    {
      "cell_type": "markdown",
      "source": [
        "## 1.2. Train Dataset"
      ],
      "metadata": {
        "id": "xp0hDyo9kt3g"
      }
    },
    {
      "cell_type": "markdown",
      "source": [
        "### Split Dataset"
      ],
      "metadata": {
        "id": "xXc_YBJClVEF"
      }
    },
    {
      "cell_type": "code",
      "source": [
        "from sklearn.model_selection import train_test_split"
      ],
      "metadata": {
        "id": "GUTtt7e4kSW0"
      },
      "execution_count": 50,
      "outputs": []
    },
    {
      "cell_type": "code",
      "source": [
        "X_train, X_test, y_train, y_test = train_test_split(data, \n",
        "                                                    label, \n",
        "                                                    test_size = 0.2, \n",
        "                                                    random_state=2023)"
      ],
      "metadata": {
        "id": "4o8-R-q2iQAl"
      },
      "execution_count": 51,
      "outputs": []
    },
    {
      "cell_type": "markdown",
      "source": [
        "### Reshape Datafram"
      ],
      "metadata": {
        "id": "q1hz1fy5mjsm"
      }
    },
    {
      "cell_type": "code",
      "source": [
        "# Reshape dataframe to (-1, 1) -> Otherwise, it's not able for Skitlearn to run the data\n",
        "X_train['s6'].values.reshape((-1, 1))  # Random rows, 1 column\n",
        "\n"
      ],
      "metadata": {
        "colab": {
          "base_uri": "https://localhost:8080/"
        },
        "id": "xtVaMFQ3iQCs",
        "outputId": "528db17f-4c8a-4efc-c2a7-4bc3061a6851"
      },
      "execution_count": 52,
      "outputs": [
        {
          "output_type": "execute_result",
          "data": {
            "text/plain": [
              "array([[-0.04664087],\n",
              "       [ 0.03205916],\n",
              "       [ 0.03620126],\n",
              "       [-0.02593034],\n",
              "       [-0.01764613],\n",
              "       [ 0.02791705],\n",
              "       [ 0.00720652],\n",
              "       [ 0.01963284],\n",
              "       [-0.0010777 ],\n",
              "       [ 0.06933812],\n",
              "       [-0.03835666],\n",
              "       [-0.01350402],\n",
              "       [-0.01350402],\n",
              "       [ 0.01549073],\n",
              "       [ 0.04448548],\n",
              "       [-0.03421455],\n",
              "       [ 0.07348023],\n",
              "       [ 0.04034337],\n",
              "       [ 0.02791705],\n",
              "       [ 0.04448548],\n",
              "       [ 0.02377494],\n",
              "       [-0.03835666],\n",
              "       [-0.00936191],\n",
              "       [-0.0052198 ],\n",
              "       [ 0.00720652],\n",
              "       [ 0.02791705],\n",
              "       [ 0.04034337],\n",
              "       [-0.05906719],\n",
              "       [ 0.02791705],\n",
              "       [ 0.09833287],\n",
              "       [ 0.07348023],\n",
              "       [ 0.02791705],\n",
              "       [-0.0052198 ],\n",
              "       [-0.03421455],\n",
              "       [ 0.0569118 ],\n",
              "       [-0.04249877],\n",
              "       [-0.00936191],\n",
              "       [-0.03835666],\n",
              "       [ 0.06519601],\n",
              "       [-0.0010777 ],\n",
              "       [-0.01764613],\n",
              "       [-0.03835666],\n",
              "       [ 0.00720652],\n",
              "       [-0.03835666],\n",
              "       [-0.03835666],\n",
              "       [-0.0010777 ],\n",
              "       [-0.01764613],\n",
              "       [ 0.01134862],\n",
              "       [ 0.02791705],\n",
              "       [-0.0010777 ],\n",
              "       [-0.04664087],\n",
              "       [ 0.00306441],\n",
              "       [ 0.00306441],\n",
              "       [-0.03007245],\n",
              "       [-0.12948301],\n",
              "       [-0.01350402],\n",
              "       [ 0.04034337],\n",
              "       [ 0.08590655],\n",
              "       [ 0.09419076],\n",
              "       [ 0.00306441],\n",
              "       [ 0.04034337],\n",
              "       [-0.00936191],\n",
              "       [-0.0052198 ],\n",
              "       [ 0.04862759],\n",
              "       [-0.0010777 ],\n",
              "       [ 0.10661708],\n",
              "       [ 0.10661708],\n",
              "       [-0.03007245],\n",
              "       [-0.09220405],\n",
              "       [-0.05906719],\n",
              "       [-0.0052198 ],\n",
              "       [-0.0010777 ],\n",
              "       [-0.04249877],\n",
              "       [ 0.0569118 ],\n",
              "       [ 0.07348023],\n",
              "       [-0.00936191],\n",
              "       [ 0.04448548],\n",
              "       [ 0.08590655],\n",
              "       [-0.02593034],\n",
              "       [ 0.00306441],\n",
              "       [-0.03835666],\n",
              "       [ 0.01549073],\n",
              "       [-0.03835666],\n",
              "       [-0.06735141],\n",
              "       [ 0.02791705],\n",
              "       [ 0.01134862],\n",
              "       [ 0.02377494],\n",
              "       [-0.05906719],\n",
              "       [ 0.02791705],\n",
              "       [-0.05492509],\n",
              "       [-0.0632093 ],\n",
              "       [ 0.01134862],\n",
              "       [ 0.04448548],\n",
              "       [-0.06735141],\n",
              "       [ 0.08176444],\n",
              "       [ 0.04034337],\n",
              "       [-0.01764613],\n",
              "       [-0.01764613],\n",
              "       [-0.02178823],\n",
              "       [ 0.07348023],\n",
              "       [ 0.1190434 ],\n",
              "       [ 0.03205916],\n",
              "       [ 0.04034337],\n",
              "       [ 0.01549073],\n",
              "       [ 0.01134862],\n",
              "       [ 0.00306441],\n",
              "       [ 0.0569118 ],\n",
              "       [-0.01350402],\n",
              "       [-0.04249877],\n",
              "       [ 0.01549073],\n",
              "       [ 0.04034337],\n",
              "       [-0.08806194],\n",
              "       [-0.01764613],\n",
              "       [ 0.00306441],\n",
              "       [ 0.00306441],\n",
              "       [-0.10463037],\n",
              "       [-0.02593034],\n",
              "       [-0.0010777 ],\n",
              "       [ 0.02791705],\n",
              "       [ 0.00306441],\n",
              "       [ 0.01134862],\n",
              "       [ 0.01963284],\n",
              "       [-0.02593034],\n",
              "       [-0.02178823],\n",
              "       [ 0.01549073],\n",
              "       [ 0.06933812],\n",
              "       [-0.04249877],\n",
              "       [ 0.03620126],\n",
              "       [-0.0010777 ],\n",
              "       [-0.05078298],\n",
              "       [ 0.01963284],\n",
              "       [-0.03007245],\n",
              "       [ 0.02791705],\n",
              "       [-0.05492509],\n",
              "       [-0.02178823],\n",
              "       [ 0.00720652],\n",
              "       [ 0.01963284],\n",
              "       [-0.05492509],\n",
              "       [ 0.07348023],\n",
              "       [ 0.04448548],\n",
              "       [-0.0010777 ],\n",
              "       [-0.01764613],\n",
              "       [-0.03835666],\n",
              "       [-0.00936191],\n",
              "       [ 0.00720652],\n",
              "       [-0.04249877],\n",
              "       [-0.01764613],\n",
              "       [ 0.04034337],\n",
              "       [ 0.00720652],\n",
              "       [-0.05906719],\n",
              "       [ 0.03205916],\n",
              "       [-0.13776723],\n",
              "       [ 0.01549073],\n",
              "       [ 0.03620126],\n",
              "       [-0.04249877],\n",
              "       [ 0.12732762],\n",
              "       [-0.05492509],\n",
              "       [-0.0052198 ],\n",
              "       [-0.04664087],\n",
              "       [ 0.01549073],\n",
              "       [ 0.01549073],\n",
              "       [-0.0052198 ],\n",
              "       [ 0.05276969],\n",
              "       [-0.05492509],\n",
              "       [-0.01350402],\n",
              "       [-0.02178823],\n",
              "       [ 0.00306441],\n",
              "       [ 0.02377494],\n",
              "       [ 0.00306441],\n",
              "       [ 0.00720652],\n",
              "       [ 0.07348023],\n",
              "       [-0.09220405],\n",
              "       [ 0.13561183],\n",
              "       [-0.0010777 ],\n",
              "       [-0.05492509],\n",
              "       [-0.07563562],\n",
              "       [-0.05078298],\n",
              "       [ 0.01963284],\n",
              "       [-0.00936191],\n",
              "       [-0.07977773],\n",
              "       [-0.05078298],\n",
              "       [-0.05078298],\n",
              "       [-0.0010777 ],\n",
              "       [ 0.02377494],\n",
              "       [ 0.01549073],\n",
              "       [ 0.07348023],\n",
              "       [ 0.01963284],\n",
              "       [ 0.04034337],\n",
              "       [ 0.13146972],\n",
              "       [ 0.09004865],\n",
              "       [-0.00936191],\n",
              "       [ 0.03205916],\n",
              "       [ 0.07762233],\n",
              "       [-0.07977773],\n",
              "       [-0.01350402],\n",
              "       [-0.02178823],\n",
              "       [-0.07977773],\n",
              "       [-0.09634616],\n",
              "       [-0.01350402],\n",
              "       [ 0.01963284],\n",
              "       [-0.03007245],\n",
              "       [-0.05906719],\n",
              "       [-0.03421455],\n",
              "       [-0.05078298],\n",
              "       [ 0.06105391],\n",
              "       [-0.05492509],\n",
              "       [ 0.13561183],\n",
              "       [ 0.10661708],\n",
              "       [-0.05078298],\n",
              "       [-0.02178823],\n",
              "       [-0.06735141],\n",
              "       [ 0.05276969],\n",
              "       [-0.03835666],\n",
              "       [-0.07563562],\n",
              "       [-0.07149352],\n",
              "       [-0.03421455],\n",
              "       [-0.08391984],\n",
              "       [ 0.01963284],\n",
              "       [ 0.00720652],\n",
              "       [ 0.02377494],\n",
              "       [ 0.06933812],\n",
              "       [ 0.08176444],\n",
              "       [ 0.01549073],\n",
              "       [-0.0010777 ],\n",
              "       [ 0.01549073],\n",
              "       [ 0.04862759],\n",
              "       [-0.01350402],\n",
              "       [-0.07563562],\n",
              "       [-0.04664087],\n",
              "       [-0.07149352],\n",
              "       [-0.01764613],\n",
              "       [-0.03007245],\n",
              "       [ 0.04862759],\n",
              "       [ 0.08590655],\n",
              "       [-0.09220405],\n",
              "       [ 0.04448548],\n",
              "       [ 0.07762233],\n",
              "       [ 0.00720652],\n",
              "       [ 0.03620126],\n",
              "       [ 0.00306441],\n",
              "       [ 0.01963284],\n",
              "       [ 0.0569118 ],\n",
              "       [-0.01764613],\n",
              "       [ 0.04034337],\n",
              "       [-0.04249877],\n",
              "       [-0.05906719],\n",
              "       [-0.02593034],\n",
              "       [-0.08391984],\n",
              "       [-0.09220405],\n",
              "       [ 0.01134862],\n",
              "       [ 0.06105391],\n",
              "       [-0.0052198 ],\n",
              "       [ 0.00306441],\n",
              "       [ 0.06105391],\n",
              "       [ 0.00306441],\n",
              "       [ 0.06105391],\n",
              "       [ 0.01963284],\n",
              "       [ 0.03205916],\n",
              "       [ 0.00720652],\n",
              "       [-0.03421455],\n",
              "       [ 0.01963284],\n",
              "       [ 0.02377494],\n",
              "       [ 0.01963284],\n",
              "       [ 0.00306441],\n",
              "       [ 0.00306441],\n",
              "       [ 0.03620126],\n",
              "       [-0.07149352],\n",
              "       [ 0.01963284],\n",
              "       [-0.05906719],\n",
              "       [ 0.00720652],\n",
              "       [-0.02593034],\n",
              "       [ 0.01134862],\n",
              "       [ 0.06105391],\n",
              "       [-0.0052198 ],\n",
              "       [ 0.06933812],\n",
              "       [-0.08391984],\n",
              "       [ 0.02791705],\n",
              "       [-0.05492509],\n",
              "       [ 0.00720652],\n",
              "       [ 0.02791705],\n",
              "       [-0.03835666],\n",
              "       [-0.01764613],\n",
              "       [ 0.00720652],\n",
              "       [ 0.02377494],\n",
              "       [ 0.01549073],\n",
              "       [-0.01764613],\n",
              "       [-0.03007245],\n",
              "       [ 0.01134862],\n",
              "       [-0.04664087],\n",
              "       [-0.0052198 ],\n",
              "       [ 0.00720652],\n",
              "       [-0.05492509],\n",
              "       [-0.02178823],\n",
              "       [ 0.09833287],\n",
              "       [ 0.04862759],\n",
              "       [-0.0052198 ],\n",
              "       [ 0.06933812],\n",
              "       [-0.0632093 ],\n",
              "       [ 0.04448548],\n",
              "       [ 0.00306441],\n",
              "       [-0.01764613],\n",
              "       [ 0.00306441],\n",
              "       [-0.03007245],\n",
              "       [ 0.01963284],\n",
              "       [-0.0010777 ],\n",
              "       [-0.01350402],\n",
              "       [-0.06735141],\n",
              "       [-0.02593034],\n",
              "       [-0.0052198 ],\n",
              "       [ 0.0569118 ],\n",
              "       [ 0.10661708],\n",
              "       [ 0.06105391],\n",
              "       [ 0.01549073],\n",
              "       [-0.01764613],\n",
              "       [-0.03007245],\n",
              "       [-0.09634616],\n",
              "       [-0.04664087],\n",
              "       [-0.04249877],\n",
              "       [-0.05906719],\n",
              "       [ 0.04862759],\n",
              "       [ 0.00720652],\n",
              "       [ 0.08176444],\n",
              "       [ 0.03205916],\n",
              "       [ 0.02377494],\n",
              "       [ 0.03205916],\n",
              "       [-0.06735141],\n",
              "       [-0.02178823],\n",
              "       [-0.04664087],\n",
              "       [ 0.04034337],\n",
              "       [ 0.0569118 ],\n",
              "       [-0.07149352],\n",
              "       [ 0.00720652],\n",
              "       [ 0.01549073],\n",
              "       [-0.01350402],\n",
              "       [-0.05492509],\n",
              "       [-0.05078298],\n",
              "       [-0.07977773],\n",
              "       [-0.07149352],\n",
              "       [ 0.04862759],\n",
              "       [ 0.00306441],\n",
              "       [ 0.03205916],\n",
              "       [ 0.04862759],\n",
              "       [ 0.04034337],\n",
              "       [ 0.03205916],\n",
              "       [-0.05906719],\n",
              "       [-0.01350402],\n",
              "       [-0.02178823],\n",
              "       [-0.00936191],\n",
              "       [-0.06735141],\n",
              "       [ 0.00306441],\n",
              "       [ 0.0569118 ],\n",
              "       [-0.03421455],\n",
              "       [ 0.00720652]])"
            ]
          },
          "metadata": {},
          "execution_count": 52
        }
      ]
    },
    {
      "cell_type": "markdown",
      "source": [
        "### Fit data"
      ],
      "metadata": {
        "id": "oYYhAoT7mn6r"
      }
    },
    {
      "cell_type": "code",
      "source": [
        "sim_lr.fit(X_train['s6'].values.reshape((-1,1)), y_train)"
      ],
      "metadata": {
        "colab": {
          "base_uri": "https://localhost:8080/",
          "height": 75
        },
        "id": "4Jc2LDSDmgmg",
        "outputId": "1c83e9fc-dd43-4eb7-b698-8846af22e821"
      },
      "execution_count": 53,
      "outputs": [
        {
          "output_type": "execute_result",
          "data": {
            "text/plain": [
              "LinearRegression()"
            ],
            "text/html": [
              "<style>#sk-container-id-2 {color: black;background-color: white;}#sk-container-id-2 pre{padding: 0;}#sk-container-id-2 div.sk-toggleable {background-color: white;}#sk-container-id-2 label.sk-toggleable__label {cursor: pointer;display: block;width: 100%;margin-bottom: 0;padding: 0.3em;box-sizing: border-box;text-align: center;}#sk-container-id-2 label.sk-toggleable__label-arrow:before {content: \"▸\";float: left;margin-right: 0.25em;color: #696969;}#sk-container-id-2 label.sk-toggleable__label-arrow:hover:before {color: black;}#sk-container-id-2 div.sk-estimator:hover label.sk-toggleable__label-arrow:before {color: black;}#sk-container-id-2 div.sk-toggleable__content {max-height: 0;max-width: 0;overflow: hidden;text-align: left;background-color: #f0f8ff;}#sk-container-id-2 div.sk-toggleable__content pre {margin: 0.2em;color: black;border-radius: 0.25em;background-color: #f0f8ff;}#sk-container-id-2 input.sk-toggleable__control:checked~div.sk-toggleable__content {max-height: 200px;max-width: 100%;overflow: auto;}#sk-container-id-2 input.sk-toggleable__control:checked~label.sk-toggleable__label-arrow:before {content: \"▾\";}#sk-container-id-2 div.sk-estimator input.sk-toggleable__control:checked~label.sk-toggleable__label {background-color: #d4ebff;}#sk-container-id-2 div.sk-label input.sk-toggleable__control:checked~label.sk-toggleable__label {background-color: #d4ebff;}#sk-container-id-2 input.sk-hidden--visually {border: 0;clip: rect(1px 1px 1px 1px);clip: rect(1px, 1px, 1px, 1px);height: 1px;margin: -1px;overflow: hidden;padding: 0;position: absolute;width: 1px;}#sk-container-id-2 div.sk-estimator {font-family: monospace;background-color: #f0f8ff;border: 1px dotted black;border-radius: 0.25em;box-sizing: border-box;margin-bottom: 0.5em;}#sk-container-id-2 div.sk-estimator:hover {background-color: #d4ebff;}#sk-container-id-2 div.sk-parallel-item::after {content: \"\";width: 100%;border-bottom: 1px solid gray;flex-grow: 1;}#sk-container-id-2 div.sk-label:hover label.sk-toggleable__label {background-color: #d4ebff;}#sk-container-id-2 div.sk-serial::before {content: \"\";position: absolute;border-left: 1px solid gray;box-sizing: border-box;top: 0;bottom: 0;left: 50%;z-index: 0;}#sk-container-id-2 div.sk-serial {display: flex;flex-direction: column;align-items: center;background-color: white;padding-right: 0.2em;padding-left: 0.2em;position: relative;}#sk-container-id-2 div.sk-item {position: relative;z-index: 1;}#sk-container-id-2 div.sk-parallel {display: flex;align-items: stretch;justify-content: center;background-color: white;position: relative;}#sk-container-id-2 div.sk-item::before, #sk-container-id-2 div.sk-parallel-item::before {content: \"\";position: absolute;border-left: 1px solid gray;box-sizing: border-box;top: 0;bottom: 0;left: 50%;z-index: -1;}#sk-container-id-2 div.sk-parallel-item {display: flex;flex-direction: column;z-index: 1;position: relative;background-color: white;}#sk-container-id-2 div.sk-parallel-item:first-child::after {align-self: flex-end;width: 50%;}#sk-container-id-2 div.sk-parallel-item:last-child::after {align-self: flex-start;width: 50%;}#sk-container-id-2 div.sk-parallel-item:only-child::after {width: 0;}#sk-container-id-2 div.sk-dashed-wrapped {border: 1px dashed gray;margin: 0 0.4em 0.5em 0.4em;box-sizing: border-box;padding-bottom: 0.4em;background-color: white;}#sk-container-id-2 div.sk-label label {font-family: monospace;font-weight: bold;display: inline-block;line-height: 1.2em;}#sk-container-id-2 div.sk-label-container {text-align: center;}#sk-container-id-2 div.sk-container {/* jupyter's `normalize.less` sets `[hidden] { display: none; }` but bootstrap.min.css set `[hidden] { display: none !important; }` so we also need the `!important` here to be able to override the default hidden behavior on the sphinx rendered scikit-learn.org. See: https://github.com/scikit-learn/scikit-learn/issues/21755 */display: inline-block !important;position: relative;}#sk-container-id-2 div.sk-text-repr-fallback {display: none;}</style><div id=\"sk-container-id-2\" class=\"sk-top-container\"><div class=\"sk-text-repr-fallback\"><pre>LinearRegression()</pre><b>In a Jupyter environment, please rerun this cell to show the HTML representation or trust the notebook. <br />On GitHub, the HTML representation is unable to render, please try loading this page with nbviewer.org.</b></div><div class=\"sk-container\" hidden><div class=\"sk-item\"><div class=\"sk-estimator sk-toggleable\"><input class=\"sk-toggleable__control sk-hidden--visually\" id=\"sk-estimator-id-2\" type=\"checkbox\" checked><label for=\"sk-estimator-id-2\" class=\"sk-toggleable__label sk-toggleable__label-arrow\">LinearRegression</label><div class=\"sk-toggleable__content\"><pre>LinearRegression()</pre></div></div></div></div></div>"
            ]
          },
          "metadata": {},
          "execution_count": 53
        }
      ]
    },
    {
      "cell_type": "markdown",
      "source": [
        "## 1.3. Prediction"
      ],
      "metadata": {
        "id": "Lwk_qXOzm1Fw"
      }
    },
    {
      "cell_type": "code",
      "source": [
        "# Need to use 's6' column as a train data\n",
        "y_pred = sim_lr.predict(X_test['s6'].values.reshape((-1,1)))"
      ],
      "metadata": {
        "id": "oLoWqHkjiQEd"
      },
      "execution_count": 54,
      "outputs": []
    },
    {
      "cell_type": "code",
      "source": [
        "# Check a result\n",
        "y_pred"
      ],
      "metadata": {
        "colab": {
          "base_uri": "https://localhost:8080/"
        },
        "id": "NGpRlWC9nGiD",
        "outputId": "e0ca0b54-785d-4acd-c0c2-6eeaa155a4a5"
      },
      "execution_count": 55,
      "outputs": [
        {
          "output_type": "execute_result",
          "data": {
            "text/plain": [
              "array([142.24503778, 202.99956903, 154.39594403, 164.11666903,\n",
              "       173.83739403, 151.96576278, 149.53558153, 147.10540028,\n",
              "       147.10540028, 229.73156277, 139.81485654, 115.51304404,\n",
              "       137.38467529, 168.97703153, 120.37340654, 154.39594403,\n",
              "       176.26757528, 122.80358779, 222.44101902, 164.11666903,\n",
              "       134.95449404, 130.09413154, 159.25630653, 151.96576278,\n",
              "       171.40721278, 200.56938778, 139.81485654, 134.95449404,\n",
              "       173.83739403, 137.38467529, 166.54685028, 154.39594403,\n",
              "       164.11666903, 130.09413154, 142.24503778, 181.12793778,\n",
              "       117.94322529, 166.54685028, 144.67521903, 195.70902528,\n",
              "       130.09413154, 151.96576278, 164.11666903, 173.83739403,\n",
              "       188.41848153, 132.52431279, 151.96576278, 120.37340654,\n",
              "       205.42975028, 130.09413154, 156.82612528, 134.95449404,\n",
              "       132.52431279, 171.40721278, 144.67521903, 144.67521903,\n",
              "       156.82612528, 147.10540028, 232.16174402, 159.25630653,\n",
              "       156.82612528,  76.63014404,  91.21123154, 159.25630653,\n",
              "       132.52431279, 159.25630653, 164.11666903, 144.67521903,\n",
              "       139.81485654, 147.10540028, 164.11666903, 151.96576278,\n",
              "       134.95449404, 151.96576278, 159.25630653, 147.10540028,\n",
              "       100.93195654, 108.22250029, 144.67521903, 125.23376904,\n",
              "       147.10540028, 137.38467529, 120.37340654, 173.83739403,\n",
              "       149.53558153, 120.37340654, 149.53558153, 166.54685028,\n",
              "       122.80358779])"
            ]
          },
          "metadata": {},
          "execution_count": 55
        }
      ]
    },
    {
      "cell_type": "markdown",
      "source": [
        "## 1.4. Check a Result"
      ],
      "metadata": {
        "id": "fuj01R1Fn1bk"
      }
    },
    {
      "cell_type": "code",
      "source": [
        "# Load Modules\n",
        "from sklearn.metrics import r2_score"
      ],
      "metadata": {
        "id": "v1kjxI32n0JG"
      },
      "execution_count": 56,
      "outputs": []
    },
    {
      "cell_type": "code",
      "source": [
        "print('The Accuracy score of Simple Linear Regression - R2 : {:.2f}'.format(r2_score(y_test, y_pred)))"
      ],
      "metadata": {
        "colab": {
          "base_uri": "https://localhost:8080/"
        },
        "id": "Ku-fg6Lzn8-D",
        "outputId": "52f1bdd3-f4cd-424d-fade-1c6b8cf3b774"
      },
      "execution_count": 57,
      "outputs": [
        {
          "output_type": "stream",
          "name": "stdout",
          "text": [
            "The Accuracy score of Simple Linear Regression - R2 : 0.16\n"
          ]
        }
      ]
    },
    {
      "cell_type": "markdown",
      "source": [
        "## 1.5. Visualization\n"
      ],
      "metadata": {
        "id": "y-3etxVOsKST"
      }
    },
    {
      "cell_type": "markdown",
      "source": [
        "### Scatter Plot"
      ],
      "metadata": {
        "id": "WrJg2pTusMno"
      }
    },
    {
      "cell_type": "markdown",
      "source": [
        "#### a. Draw a Scatter Plot"
      ],
      "metadata": {
        "id": "VYZbl5yQswk8"
      }
    },
    {
      "cell_type": "code",
      "source": [
        "plt.scatter(X_test['s6'], # X-axis\n",
        "            y_test,       # Y-axis\n",
        "            s=10,         # Size of dots\n",
        "            c='black')    # color   "
      ],
      "metadata": {
        "colab": {
          "base_uri": "https://localhost:8080/",
          "height": 447
        },
        "id": "GVawj1fisLWo",
        "outputId": "862d489d-fd36-4a0c-8ebd-77d0a4369653"
      },
      "execution_count": 66,
      "outputs": [
        {
          "output_type": "execute_result",
          "data": {
            "text/plain": [
              "<matplotlib.collections.PathCollection at 0x7f927faa7a30>"
            ]
          },
          "metadata": {},
          "execution_count": 66
        },
        {
          "output_type": "display_data",
          "data": {
            "text/plain": [
              "<Figure size 640x480 with 1 Axes>"
            ],
            "image/png": "[encoded data removed]"
          },
          "metadata": {}
        }
      ]
    },
    {
      "cell_type": "markdown",
      "source": [
        "#### b. Add a linear line"
      ],
      "metadata": {
        "id": "yQkYqABZszr2"
      }
    },
    {
      "cell_type": "code",
      "source": [
        "# Linear Line\n",
        "line_x = np.linspace(np.min(X_test['s6']),  # Get min from 's6'\n",
        "                     np.max(X_test['s6']),  # Get max from 's6'\n",
        "                     10) # Number of dots\n",
        "\n",
        "# line_y: Predicted value using Simple Linear Regression\n",
        "line_y = sim_lr.predict(line_x.reshape((10,1)))\n",
        "\n",
        "print('line_x: \\n', line_x)\n",
        "print('line_y: \\n', line_y)"
      ],
      "metadata": {
        "colab": {
          "base_uri": "https://localhost:8080/"
        },
        "id": "Icx14tNPsi5c",
        "outputId": "63640b3d-0a21-49b5-a931-a5de6f525713"
      },
      "execution_count": 82,
      "outputs": [
        {
          "output_type": "stream",
          "name": "stdout",
          "text": [
            "line_x: \n",
            " [-0.12948301 -0.10002803 -0.07057305 -0.04111806 -0.01166308  0.0177919\n",
            "  0.04724688  0.07670187  0.10615685  0.13561183]\n",
            "line_y: \n",
            " [ 76.63014404  93.91143293 111.19272182 128.4740107  145.75529959\n",
            " 163.03658848 180.31787736 197.59916625 214.88045514 232.16174402]\n"
          ]
        }
      ]
    },
    {
      "cell_type": "markdown",
      "source": [
        "#### c. Draw a scatter plot with a linear line"
      ],
      "metadata": {
        "id": "s3VgSccjubKd"
      }
    },
    {
      "cell_type": "code",
      "source": [
        "# Scatter Plot\n",
        "plt.scatter(X_test['s6'],\n",
        "            y_test,\n",
        "            s=10,\n",
        "            c='black')\n",
        "\n",
        "# Linear Regression\n",
        "plt.plot(line_x,\n",
        "          line_y,\n",
        "          c='red')\n",
        "\n",
        "# Title\n",
        "plt.legend(['Test Data Sample', \n",
        "           'Regression Line'])"
      ],
      "metadata": {
        "colab": {
          "base_uri": "https://localhost:8080/",
          "height": 447
        },
        "id": "TSDZdYQ4ub1Z",
        "outputId": "60acf6b6-aa27-4d4b-ba9f-6dcf1e19d780"
      },
      "execution_count": 88,
      "outputs": [
        {
          "output_type": "execute_result",
          "data": {
            "text/plain": [
              "<matplotlib.legend.Legend at 0x7f927f0def20>"
            ]
          },
          "metadata": {},
          "execution_count": 88
        },
        {
          "output_type": "display_data",
          "data": {
            "text/plain": [
              "<Figure size 640x480 with 1 Axes>"
            ],
            "image/png": "[encoded data removed]"
          },
          "metadata": {}
        }
      ]
    },
    {
      "cell_type": "code",
      "source": [
        "print('The Accuracy score of Simple Linear Regression - R2 : {:.2f}'.format(r2_score(y_test, y_pred)))\n",
        "print('The Simple Linear Regression - Coefficient(w): {:.4f}, Intercept(b): {:.4f}'.format(sim_lr.coef_[0], sim_lr.intercept_))"
      ],
      "metadata": {
        "colab": {
          "base_uri": "https://localhost:8080/"
        },
        "id": "1fiG8Z88wITv",
        "outputId": "e8805e4e-918d-44d0-8c38-b4bb0d2e3047"
      },
      "execution_count": 108,
      "outputs": [
        {
          "output_type": "stream",
          "name": "stdout",
          "text": [
            "The Accuracy score of Simple Linear Regression - R2 : 0.50\n",
            "The Simple Linear Regression - Coefficient(w): 586.7017, Intercept(b): 152.5980\n"
          ]
        }
      ]
    },
    {
      "cell_type": "markdown",
      "source": [
        "# 3. Multiple Linear Regression"
      ],
      "metadata": {
        "id": "yBDwiM3YxPHo"
      }
    },
    {
      "cell_type": "markdown",
      "source": [
        "## 3.1. Load dataset"
      ],
      "metadata": {
        "id": "zB0yQa1xxUp9"
      }
    },
    {
      "cell_type": "code",
      "source": [
        "mul_lr = LinearRegression()\n"
      ],
      "metadata": {
        "id": "ANlD3FtAwIc2"
      },
      "execution_count": 117,
      "outputs": []
    },
    {
      "cell_type": "markdown",
      "source": [
        "## 3.2. Fit data"
      ],
      "metadata": {
        "id": "YlYA0e2GxZnc"
      }
    },
    {
      "cell_type": "code",
      "source": [
        "mul_lr.fit(X_train, y_train)"
      ],
      "metadata": {
        "colab": {
          "base_uri": "https://localhost:8080/",
          "height": 75
        },
        "id": "wAn-g35Jxa4L",
        "outputId": "cbdd0f08-727e-4848-ade1-7a969a5e1ef6"
      },
      "execution_count": 100,
      "outputs": [
        {
          "output_type": "execute_result",
          "data": {
            "text/plain": [
              "LinearRegression()"
            ],
            "text/html": [
              "<style>#sk-container-id-3 {color: black;background-color: white;}#sk-container-id-3 pre{padding: 0;}#sk-container-id-3 div.sk-toggleable {background-color: white;}#sk-container-id-3 label.sk-toggleable__label {cursor: pointer;display: block;width: 100%;margin-bottom: 0;padding: 0.3em;box-sizing: border-box;text-align: center;}#sk-container-id-3 label.sk-toggleable__label-arrow:before {content: \"▸\";float: left;margin-right: 0.25em;color: #696969;}#sk-container-id-3 label.sk-toggleable__label-arrow:hover:before {color: black;}#sk-container-id-3 div.sk-estimator:hover label.sk-toggleable__label-arrow:before {color: black;}#sk-container-id-3 div.sk-toggleable__content {max-height: 0;max-width: 0;overflow: hidden;text-align: left;background-color: #f0f8ff;}#sk-container-id-3 div.sk-toggleable__content pre {margin: 0.2em;color: black;border-radius: 0.25em;background-color: #f0f8ff;}#sk-container-id-3 input.sk-toggleable__control:checked~div.sk-toggleable__content {max-height: 200px;max-width: 100%;overflow: auto;}#sk-container-id-3 input.sk-toggleable__control:checked~label.sk-toggleable__label-arrow:before {content: \"▾\";}#sk-container-id-3 div.sk-estimator input.sk-toggleable__control:checked~label.sk-toggleable__label {background-color: #d4ebff;}#sk-container-id-3 div.sk-label input.sk-toggleable__control:checked~label.sk-toggleable__label {background-color: #d4ebff;}#sk-container-id-3 input.sk-hidden--visually {border: 0;clip: rect(1px 1px 1px 1px);clip: rect(1px, 1px, 1px, 1px);height: 1px;margin: -1px;overflow: hidden;padding: 0;position: absolute;width: 1px;}#sk-container-id-3 div.sk-estimator {font-family: monospace;background-color: #f0f8ff;border: 1px dotted black;border-radius: 0.25em;box-sizing: border-box;margin-bottom: 0.5em;}#sk-container-id-3 div.sk-estimator:hover {background-color: #d4ebff;}#sk-container-id-3 div.sk-parallel-item::after {content: \"\";width: 100%;border-bottom: 1px solid gray;flex-grow: 1;}#sk-container-id-3 div.sk-label:hover label.sk-toggleable__label {background-color: #d4ebff;}#sk-container-id-3 div.sk-serial::before {content: \"\";position: absolute;border-left: 1px solid gray;box-sizing: border-box;top: 0;bottom: 0;left: 50%;z-index: 0;}#sk-container-id-3 div.sk-serial {display: flex;flex-direction: column;align-items: center;background-color: white;padding-right: 0.2em;padding-left: 0.2em;position: relative;}#sk-container-id-3 div.sk-item {position: relative;z-index: 1;}#sk-container-id-3 div.sk-parallel {display: flex;align-items: stretch;justify-content: center;background-color: white;position: relative;}#sk-container-id-3 div.sk-item::before, #sk-container-id-3 div.sk-parallel-item::before {content: \"\";position: absolute;border-left: 1px solid gray;box-sizing: border-box;top: 0;bottom: 0;left: 50%;z-index: -1;}#sk-container-id-3 div.sk-parallel-item {display: flex;flex-direction: column;z-index: 1;position: relative;background-color: white;}#sk-container-id-3 div.sk-parallel-item:first-child::after {align-self: flex-end;width: 50%;}#sk-container-id-3 div.sk-parallel-item:last-child::after {align-self: flex-start;width: 50%;}#sk-container-id-3 div.sk-parallel-item:only-child::after {width: 0;}#sk-container-id-3 div.sk-dashed-wrapped {border: 1px dashed gray;margin: 0 0.4em 0.5em 0.4em;box-sizing: border-box;padding-bottom: 0.4em;background-color: white;}#sk-container-id-3 div.sk-label label {font-family: monospace;font-weight: bold;display: inline-block;line-height: 1.2em;}#sk-container-id-3 div.sk-label-container {text-align: center;}#sk-container-id-3 div.sk-container {/* jupyter's `normalize.less` sets `[hidden] { display: none; }` but bootstrap.min.css set `[hidden] { display: none !important; }` so we also need the `!important` here to be able to override the default hidden behavior on the sphinx rendered scikit-learn.org. See: https://github.com/scikit-learn/scikit-learn/issues/21755 */display: inline-block !important;position: relative;}#sk-container-id-3 div.sk-text-repr-fallback {display: none;}</style><div id=\"sk-container-id-3\" class=\"sk-top-container\"><div class=\"sk-text-repr-fallback\"><pre>LinearRegression()</pre><b>In a Jupyter environment, please rerun this cell to show the HTML representation or trust the notebook. <br />On GitHub, the HTML representation is unable to render, please try loading this page with nbviewer.org.</b></div><div class=\"sk-container\" hidden><div class=\"sk-item\"><div class=\"sk-estimator sk-toggleable\"><input class=\"sk-toggleable__control sk-hidden--visually\" id=\"sk-estimator-id-3\" type=\"checkbox\" checked><label for=\"sk-estimator-id-3\" class=\"sk-toggleable__label sk-toggleable__label-arrow\">LinearRegression</label><div class=\"sk-toggleable__content\"><pre>LinearRegression()</pre></div></div></div></div></div>"
            ]
          },
          "metadata": {},
          "execution_count": 100
        }
      ]
    },
    {
      "cell_type": "markdown",
      "source": [
        "## 3.3. Prediction"
      ],
      "metadata": {
        "id": "z6fu4Dm3xeDr"
      }
    },
    {
      "cell_type": "code",
      "source": [
        "y_pred = mul_lr.predict(X_test)"
      ],
      "metadata": {
        "id": "tFfTMoWnxe4X"
      },
      "execution_count": 101,
      "outputs": []
    },
    {
      "cell_type": "markdown",
      "source": [
        "## 3.4. Check a Result"
      ],
      "metadata": {
        "id": "EPRQu2iBxtMp"
      }
    },
    {
      "cell_type": "code",
      "source": [
        "print('Multiple Linear Regression - R2: {:.2f}'.format(r2_score(y_test, y_pred)))"
      ],
      "metadata": {
        "colab": {
          "base_uri": "https://localhost:8080/"
        },
        "id": "TczehDPCxhi2",
        "outputId": "20013a05-24ee-498f-bb6b-222f8b709a50"
      },
      "execution_count": 104,
      "outputs": [
        {
          "output_type": "stream",
          "name": "stdout",
          "text": [
            "Multiple Linear Regression - R2: 0.50\n"
          ]
        }
      ]
    },
    {
      "cell_type": "markdown",
      "source": [
        "# 4. Decision Tree Regressor: 's6'"
      ],
      "metadata": {
        "id": "Rb6cdkdmytI2"
      }
    },
    {
      "cell_type": "markdown",
      "source": [
        "- Machine Learning Algorithm Based Regression\n",
        " - Decision Tree Regressor"
      ],
      "metadata": {
        "id": "4IVtpIsnzZp8"
      }
    },
    {
      "cell_type": "markdown",
      "source": [
        "## 4.1. Preparation"
      ],
      "metadata": {
        "id": "juVJ9QaSztAl"
      }
    },
    {
      "cell_type": "code",
      "source": [
        "# Load modules\n",
        "from sklearn.tree import DecisionTreeRegressor"
      ],
      "metadata": {
        "id": "ddHD2HbhwIfV"
      },
      "execution_count": 109,
      "outputs": []
    },
    {
      "cell_type": "code",
      "source": [
        "# Get algorithm\n",
        "dt_regr = DecisionTreeRegressor(max_depth=5)"
      ],
      "metadata": {
        "id": "UcMhBERGzxqF"
      },
      "execution_count": 151,
      "outputs": []
    },
    {
      "cell_type": "markdown",
      "source": [
        "## 4.2. Fit Data"
      ],
      "metadata": {
        "id": "99Vk6X3e0IMf"
      }
    },
    {
      "cell_type": "code",
      "source": [
        "dt_regr.fit(X_train['s6'].values.reshape((-1,1)),   # Reshape the column 's6'\n",
        "            y_train)"
      ],
      "metadata": {
        "colab": {
          "base_uri": "https://localhost:8080/",
          "height": 75
        },
        "id": "b1Fz5SP0wIhb",
        "outputId": "a2cd062d-e1b4-45e7-ed86-0bc733dc70f9"
      },
      "execution_count": 152,
      "outputs": [
        {
          "output_type": "execute_result",
          "data": {
            "text/plain": [
              "DecisionTreeRegressor(max_depth=5)"
            ],
            "text/html": [
              "<style>#sk-container-id-10 {color: black;background-color: white;}#sk-container-id-10 pre{padding: 0;}#sk-container-id-10 div.sk-toggleable {background-color: white;}#sk-container-id-10 label.sk-toggleable__label {cursor: pointer;display: block;width: 100%;margin-bottom: 0;padding: 0.3em;box-sizing: border-box;text-align: center;}#sk-container-id-10 label.sk-toggleable__label-arrow:before {content: \"▸\";float: left;margin-right: 0.25em;color: #696969;}#sk-container-id-10 label.sk-toggleable__label-arrow:hover:before {color: black;}#sk-container-id-10 div.sk-estimator:hover label.sk-toggleable__label-arrow:before {color: black;}#sk-container-id-10 div.sk-toggleable__content {max-height: 0;max-width: 0;overflow: hidden;text-align: left;background-color: #f0f8ff;}#sk-container-id-10 div.sk-toggleable__content pre {margin: 0.2em;color: black;border-radius: 0.25em;background-color: #f0f8ff;}#sk-container-id-10 input.sk-toggleable__control:checked~div.sk-toggleable__content {max-height: 200px;max-width: 100%;overflow: auto;}#sk-container-id-10 input.sk-toggleable__control:checked~label.sk-toggleable__label-arrow:before {content: \"▾\";}#sk-container-id-10 div.sk-estimator input.sk-toggleable__control:checked~label.sk-toggleable__label {background-color: #d4ebff;}#sk-container-id-10 div.sk-label input.sk-toggleable__control:checked~label.sk-toggleable__label {background-color: #d4ebff;}#sk-container-id-10 input.sk-hidden--visually {border: 0;clip: rect(1px 1px 1px 1px);clip: rect(1px, 1px, 1px, 1px);height: 1px;margin: -1px;overflow: hidden;padding: 0;position: absolute;width: 1px;}#sk-container-id-10 div.sk-estimator {font-family: monospace;background-color: #f0f8ff;border: 1px dotted black;border-radius: 0.25em;box-sizing: border-box;margin-bottom: 0.5em;}#sk-container-id-10 div.sk-estimator:hover {background-color: #d4ebff;}#sk-container-id-10 div.sk-parallel-item::after {content: \"\";width: 100%;border-bottom: 1px solid gray;flex-grow: 1;}#sk-container-id-10 div.sk-label:hover label.sk-toggleable__label {background-color: #d4ebff;}#sk-container-id-10 div.sk-serial::before {content: \"\";position: absolute;border-left: 1px solid gray;box-sizing: border-box;top: 0;bottom: 0;left: 50%;z-index: 0;}#sk-container-id-10 div.sk-serial {display: flex;flex-direction: column;align-items: center;background-color: white;padding-right: 0.2em;padding-left: 0.2em;position: relative;}#sk-container-id-10 div.sk-item {position: relative;z-index: 1;}#sk-container-id-10 div.sk-parallel {display: flex;align-items: stretch;justify-content: center;background-color: white;position: relative;}#sk-container-id-10 div.sk-item::before, #sk-container-id-10 div.sk-parallel-item::before {content: \"\";position: absolute;border-left: 1px solid gray;box-sizing: border-box;top: 0;bottom: 0;left: 50%;z-index: -1;}#sk-container-id-10 div.sk-parallel-item {display: flex;flex-direction: column;z-index: 1;position: relative;background-color: white;}#sk-container-id-10 div.sk-parallel-item:first-child::after {align-self: flex-end;width: 50%;}#sk-container-id-10 div.sk-parallel-item:last-child::after {align-self: flex-start;width: 50%;}#sk-container-id-10 div.sk-parallel-item:only-child::after {width: 0;}#sk-container-id-10 div.sk-dashed-wrapped {border: 1px dashed gray;margin: 0 0.4em 0.5em 0.4em;box-sizing: border-box;padding-bottom: 0.4em;background-color: white;}#sk-container-id-10 div.sk-label label {font-family: monospace;font-weight: bold;display: inline-block;line-height: 1.2em;}#sk-container-id-10 div.sk-label-container {text-align: center;}#sk-container-id-10 div.sk-container {/* jupyter's `normalize.less` sets `[hidden] { display: none; }` but bootstrap.min.css set `[hidden] { display: none !important; }` so we also need the `!important` here to be able to override the default hidden behavior on the sphinx rendered scikit-learn.org. See: https://github.com/scikit-learn/scikit-learn/issues/21755 */display: inline-block !important;position: relative;}#sk-container-id-10 div.sk-text-repr-fallback {display: none;}</style><div id=\"sk-container-id-10\" class=\"sk-top-container\"><div class=\"sk-text-repr-fallback\"><pre>DecisionTreeRegressor(max_depth=5)</pre><b>In a Jupyter environment, please rerun this cell to show the HTML representation or trust the notebook. <br />On GitHub, the HTML representation is unable to render, please try loading this page with nbviewer.org.</b></div><div class=\"sk-container\" hidden><div class=\"sk-item\"><div class=\"sk-estimator sk-toggleable\"><input class=\"sk-toggleable__control sk-hidden--visually\" id=\"sk-estimator-id-10\" type=\"checkbox\" checked><label for=\"sk-estimator-id-10\" class=\"sk-toggleable__label sk-toggleable__label-arrow\">DecisionTreeRegressor</label><div class=\"sk-toggleable__content\"><pre>DecisionTreeRegressor(max_depth=5)</pre></div></div></div></div></div>"
            ]
          },
          "metadata": {},
          "execution_count": 152
        }
      ]
    },
    {
      "cell_type": "markdown",
      "source": [
        "## 4.3. Prediction"
      ],
      "metadata": {
        "id": "ysc9YBwm0bjt"
      }
    },
    {
      "cell_type": "code",
      "source": [
        "y_pred = dt_regr.predict(X_test['s6'].values.reshape((-1,1)))"
      ],
      "metadata": {
        "id": "nHnLLmUAwIjl"
      },
      "execution_count": 153,
      "outputs": []
    },
    {
      "cell_type": "markdown",
      "source": [
        "## 4.4. Check a Result"
      ],
      "metadata": {
        "id": "4H4QCW0A0sB6"
      }
    },
    {
      "cell_type": "code",
      "source": [
        "print('Simple Decision Tree Regressor - R2: {:.2f}'.format(r2_score(y_test, y_pred)))"
      ],
      "metadata": {
        "colab": {
          "base_uri": "https://localhost:8080/"
        },
        "id": "gTKKtW320n5C",
        "outputId": "f5774182-25f0-4394-b6fd-6f4e6ca2f232"
      },
      "execution_count": 154,
      "outputs": [
        {
          "output_type": "stream",
          "name": "stdout",
          "text": [
            "Simple Decision Tree Regressor - R2: 0.14\n"
          ]
        }
      ]
    },
    {
      "cell_type": "markdown",
      "source": [
        "## 4.5. Visualization"
      ],
      "metadata": {
        "id": "w_mWwwuI1BBe"
      }
    },
    {
      "cell_type": "code",
      "source": [
        "# Add linear line\n",
        "line_x = np.linspace(np.min(X_test['s6']),\n",
        "                     np.max(X_test['s6']),\n",
        "                     10)\n",
        "\n",
        "line_y = dt_regr.predict(line_x.reshape((-1,1)))"
      ],
      "metadata": {
        "id": "kECr-oxQ1Cgu"
      },
      "execution_count": 155,
      "outputs": []
    },
    {
      "cell_type": "code",
      "source": [
        "# Draw graphs\n",
        "plt.scatter(X_test['s6'],\n",
        "            y_test,\n",
        "            s=10,\n",
        "            c='b')\n",
        "\n",
        "# Linear Regression\n",
        "plt.plot(line_x,\n",
        "        line_y,\n",
        "        c='red')\n",
        "\n",
        "# Title\n",
        "plt.legend(['Test Data Sample', 'Regression Line'])"
      ],
      "metadata": {
        "colab": {
          "base_uri": "https://localhost:8080/",
          "height": 447
        },
        "id": "iw2ZIOLn1Qv-",
        "outputId": "9e234ce6-0f6a-4ab3-b01e-94d11e73df7c"
      },
      "execution_count": 156,
      "outputs": [
        {
          "output_type": "execute_result",
          "data": {
            "text/plain": [
              "<matplotlib.legend.Legend at 0x7f927e8d3ca0>"
            ]
          },
          "metadata": {},
          "execution_count": 156
        },
        {
          "output_type": "display_data",
          "data": {
            "text/plain": [
              "<Figure size 640x480 with 1 Axes>"
            ],
            "image/png": "[encoded data removed]"
          },
          "metadata": {}
        }
      ]
    },
    {
      "cell_type": "markdown",
      "source": [],
      "metadata": {
        "id": "0DFiKdkM5Lwi"
      }
    },
    {
      "cell_type": "markdown",
      "source": [
        "# 5. Multiple Decision Tree Regressor"
      ],
      "metadata": {
        "id": "Gqg4V_vL6-23"
      }
    },
    {
      "cell_type": "code",
      "source": [
        "mt_regre = DecisionTreeRegressor(max_depth=5)"
      ],
      "metadata": {
        "id": "bxaim_666-Aa"
      },
      "execution_count": 177,
      "outputs": []
    },
    {
      "cell_type": "code",
      "source": [
        "mt_regre.fit(X_train, y_train)"
      ],
      "metadata": {
        "colab": {
          "base_uri": "https://localhost:8080/",
          "height": 75
        },
        "id": "rEOlI_-E6-DP",
        "outputId": "d2ee35d9-3790-4f95-d6cb-ecceec6041ab"
      },
      "execution_count": 179,
      "outputs": [
        {
          "output_type": "execute_result",
          "data": {
            "text/plain": [
              "DecisionTreeRegressor(max_depth=5)"
            ],
            "text/html": [
              "<style>#sk-container-id-13 {color: black;background-color: white;}#sk-container-id-13 pre{padding: 0;}#sk-container-id-13 div.sk-toggleable {background-color: white;}#sk-container-id-13 label.sk-toggleable__label {cursor: pointer;display: block;width: 100%;margin-bottom: 0;padding: 0.3em;box-sizing: border-box;text-align: center;}#sk-container-id-13 label.sk-toggleable__label-arrow:before {content: \"▸\";float: left;margin-right: 0.25em;color: #696969;}#sk-container-id-13 label.sk-toggleable__label-arrow:hover:before {color: black;}#sk-container-id-13 div.sk-estimator:hover label.sk-toggleable__label-arrow:before {color: black;}#sk-container-id-13 div.sk-toggleable__content {max-height: 0;max-width: 0;overflow: hidden;text-align: left;background-color: #f0f8ff;}#sk-container-id-13 div.sk-toggleable__content pre {margin: 0.2em;color: black;border-radius: 0.25em;background-color: #f0f8ff;}#sk-container-id-13 input.sk-toggleable__control:checked~div.sk-toggleable__content {max-height: 200px;max-width: 100%;overflow: auto;}#sk-container-id-13 input.sk-toggleable__control:checked~label.sk-toggleable__label-arrow:before {content: \"▾\";}#sk-container-id-13 div.sk-estimator input.sk-toggleable__control:checked~label.sk-toggleable__label {background-color: #d4ebff;}#sk-container-id-13 div.sk-label input.sk-toggleable__control:checked~label.sk-toggleable__label {background-color: #d4ebff;}#sk-container-id-13 input.sk-hidden--visually {border: 0;clip: rect(1px 1px 1px 1px);clip: rect(1px, 1px, 1px, 1px);height: 1px;margin: -1px;overflow: hidden;padding: 0;position: absolute;width: 1px;}#sk-container-id-13 div.sk-estimator {font-family: monospace;background-color: #f0f8ff;border: 1px dotted black;border-radius: 0.25em;box-sizing: border-box;margin-bottom: 0.5em;}#sk-container-id-13 div.sk-estimator:hover {background-color: #d4ebff;}#sk-container-id-13 div.sk-parallel-item::after {content: \"\";width: 100%;border-bottom: 1px solid gray;flex-grow: 1;}#sk-container-id-13 div.sk-label:hover label.sk-toggleable__label {background-color: #d4ebff;}#sk-container-id-13 div.sk-serial::before {content: \"\";position: absolute;border-left: 1px solid gray;box-sizing: border-box;top: 0;bottom: 0;left: 50%;z-index: 0;}#sk-container-id-13 div.sk-serial {display: flex;flex-direction: column;align-items: center;background-color: white;padding-right: 0.2em;padding-left: 0.2em;position: relative;}#sk-container-id-13 div.sk-item {position: relative;z-index: 1;}#sk-container-id-13 div.sk-parallel {display: flex;align-items: stretch;justify-content: center;background-color: white;position: relative;}#sk-container-id-13 div.sk-item::before, #sk-container-id-13 div.sk-parallel-item::before {content: \"\";position: absolute;border-left: 1px solid gray;box-sizing: border-box;top: 0;bottom: 0;left: 50%;z-index: -1;}#sk-container-id-13 div.sk-parallel-item {display: flex;flex-direction: column;z-index: 1;position: relative;background-color: white;}#sk-container-id-13 div.sk-parallel-item:first-child::after {align-self: flex-end;width: 50%;}#sk-container-id-13 div.sk-parallel-item:last-child::after {align-self: flex-start;width: 50%;}#sk-container-id-13 div.sk-parallel-item:only-child::after {width: 0;}#sk-container-id-13 div.sk-dashed-wrapped {border: 1px dashed gray;margin: 0 0.4em 0.5em 0.4em;box-sizing: border-box;padding-bottom: 0.4em;background-color: white;}#sk-container-id-13 div.sk-label label {font-family: monospace;font-weight: bold;display: inline-block;line-height: 1.2em;}#sk-container-id-13 div.sk-label-container {text-align: center;}#sk-container-id-13 div.sk-container {/* jupyter's `normalize.less` sets `[hidden] { display: none; }` but bootstrap.min.css set `[hidden] { display: none !important; }` so we also need the `!important` here to be able to override the default hidden behavior on the sphinx rendered scikit-learn.org. See: https://github.com/scikit-learn/scikit-learn/issues/21755 */display: inline-block !important;position: relative;}#sk-container-id-13 div.sk-text-repr-fallback {display: none;}</style><div id=\"sk-container-id-13\" class=\"sk-top-container\"><div class=\"sk-text-repr-fallback\"><pre>DecisionTreeRegressor(max_depth=5)</pre><b>In a Jupyter environment, please rerun this cell to show the HTML representation or trust the notebook. <br />On GitHub, the HTML representation is unable to render, please try loading this page with nbviewer.org.</b></div><div class=\"sk-container\" hidden><div class=\"sk-item\"><div class=\"sk-estimator sk-toggleable\"><input class=\"sk-toggleable__control sk-hidden--visually\" id=\"sk-estimator-id-13\" type=\"checkbox\" checked><label for=\"sk-estimator-id-13\" class=\"sk-toggleable__label sk-toggleable__label-arrow\">DecisionTreeRegressor</label><div class=\"sk-toggleable__content\"><pre>DecisionTreeRegressor(max_depth=5)</pre></div></div></div></div></div>"
            ]
          },
          "metadata": {},
          "execution_count": 179
        }
      ]
    },
    {
      "cell_type": "code",
      "source": [
        "y_pred =  mt_regre.predict(X_test)"
      ],
      "metadata": {
        "id": "BYgMgGte7KdE"
      },
      "execution_count": 180,
      "outputs": []
    },
    {
      "cell_type": "code",
      "source": [
        "print('Multiple Decision Tree Regressor - R2: {:.2f}'.format(r2_score(y_test, y_pred)))"
      ],
      "metadata": {
        "colab": {
          "base_uri": "https://localhost:8080/"
        },
        "id": "QlpNA5aF7NCp",
        "outputId": "2688f873-2469-4f12-fad6-f25d648a5bc0"
      },
      "execution_count": 181,
      "outputs": [
        {
          "output_type": "stream",
          "name": "stdout",
          "text": [
            "Multiple Decision Tree Regressor - R2: 0.31\n"
          ]
        }
      ]
    },
    {
      "cell_type": "markdown",
      "source": [
        "# 6. Support Vector Machine Regressor"
      ],
      "metadata": {
        "id": "QjPGjRec7y1A"
      }
    },
    {
      "cell_type": "markdown",
      "source": [
        "## 6.1. Preparation"
      ],
      "metadata": {
        "id": "zUrK_3vz72EE"
      }
    },
    {
      "cell_type": "code",
      "source": [
        "from sklearn.svm import SVR"
      ],
      "metadata": {
        "id": "opmL1n8R7Teq"
      },
      "execution_count": 186,
      "outputs": []
    },
    {
      "cell_type": "code",
      "source": [
        "svm_regre = SVR()"
      ],
      "metadata": {
        "id": "AQM8u-si74tN"
      },
      "execution_count": 188,
      "outputs": []
    },
    {
      "cell_type": "markdown",
      "source": [
        "## 6.2. Fit Data"
      ],
      "metadata": {
        "id": "oAO-TWy87-NQ"
      }
    },
    {
      "cell_type": "code",
      "source": [
        "svm_regre.fit(X_train['s6'].values.reshape((-1,1)),\n",
        "              y_train)"
      ],
      "metadata": {
        "colab": {
          "base_uri": "https://localhost:8080/",
          "height": 75
        },
        "id": "TErbEYSm7ICA",
        "outputId": "e94f1c25-f19c-49b8-d0cc-32ed87167ca5"
      },
      "execution_count": 190,
      "outputs": [
        {
          "output_type": "execute_result",
          "data": {
            "text/plain": [
              "SVR()"
            ],
            "text/html": [
              "<style>#sk-container-id-14 {color: black;background-color: white;}#sk-container-id-14 pre{padding: 0;}#sk-container-id-14 div.sk-toggleable {background-color: white;}#sk-container-id-14 label.sk-toggleable__label {cursor: pointer;display: block;width: 100%;margin-bottom: 0;padding: 0.3em;box-sizing: border-box;text-align: center;}#sk-container-id-14 label.sk-toggleable__label-arrow:before {content: \"▸\";float: left;margin-right: 0.25em;color: #696969;}#sk-container-id-14 label.sk-toggleable__label-arrow:hover:before {color: black;}#sk-container-id-14 div.sk-estimator:hover label.sk-toggleable__label-arrow:before {color: black;}#sk-container-id-14 div.sk-toggleable__content {max-height: 0;max-width: 0;overflow: hidden;text-align: left;background-color: #f0f8ff;}#sk-container-id-14 div.sk-toggleable__content pre {margin: 0.2em;color: black;border-radius: 0.25em;background-color: #f0f8ff;}#sk-container-id-14 input.sk-toggleable__control:checked~div.sk-toggleable__content {max-height: 200px;max-width: 100%;overflow: auto;}#sk-container-id-14 input.sk-toggleable__control:checked~label.sk-toggleable__label-arrow:before {content: \"▾\";}#sk-container-id-14 div.sk-estimator input.sk-toggleable__control:checked~label.sk-toggleable__label {background-color: #d4ebff;}#sk-container-id-14 div.sk-label input.sk-toggleable__control:checked~label.sk-toggleable__label {background-color: #d4ebff;}#sk-container-id-14 input.sk-hidden--visually {border: 0;clip: rect(1px 1px 1px 1px);clip: rect(1px, 1px, 1px, 1px);height: 1px;margin: -1px;overflow: hidden;padding: 0;position: absolute;width: 1px;}#sk-container-id-14 div.sk-estimator {font-family: monospace;background-color: #f0f8ff;border: 1px dotted black;border-radius: 0.25em;box-sizing: border-box;margin-bottom: 0.5em;}#sk-container-id-14 div.sk-estimator:hover {background-color: #d4ebff;}#sk-container-id-14 div.sk-parallel-item::after {content: \"\";width: 100%;border-bottom: 1px solid gray;flex-grow: 1;}#sk-container-id-14 div.sk-label:hover label.sk-toggleable__label {background-color: #d4ebff;}#sk-container-id-14 div.sk-serial::before {content: \"\";position: absolute;border-left: 1px solid gray;box-sizing: border-box;top: 0;bottom: 0;left: 50%;z-index: 0;}#sk-container-id-14 div.sk-serial {display: flex;flex-direction: column;align-items: center;background-color: white;padding-right: 0.2em;padding-left: 0.2em;position: relative;}#sk-container-id-14 div.sk-item {position: relative;z-index: 1;}#sk-container-id-14 div.sk-parallel {display: flex;align-items: stretch;justify-content: center;background-color: white;position: relative;}#sk-container-id-14 div.sk-item::before, #sk-container-id-14 div.sk-parallel-item::before {content: \"\";position: absolute;border-left: 1px solid gray;box-sizing: border-box;top: 0;bottom: 0;left: 50%;z-index: -1;}#sk-container-id-14 div.sk-parallel-item {display: flex;flex-direction: column;z-index: 1;position: relative;background-color: white;}#sk-container-id-14 div.sk-parallel-item:first-child::after {align-self: flex-end;width: 50%;}#sk-container-id-14 div.sk-parallel-item:last-child::after {align-self: flex-start;width: 50%;}#sk-container-id-14 div.sk-parallel-item:only-child::after {width: 0;}#sk-container-id-14 div.sk-dashed-wrapped {border: 1px dashed gray;margin: 0 0.4em 0.5em 0.4em;box-sizing: border-box;padding-bottom: 0.4em;background-color: white;}#sk-container-id-14 div.sk-label label {font-family: monospace;font-weight: bold;display: inline-block;line-height: 1.2em;}#sk-container-id-14 div.sk-label-container {text-align: center;}#sk-container-id-14 div.sk-container {/* jupyter's `normalize.less` sets `[hidden] { display: none; }` but bootstrap.min.css set `[hidden] { display: none !important; }` so we also need the `!important` here to be able to override the default hidden behavior on the sphinx rendered scikit-learn.org. See: https://github.com/scikit-learn/scikit-learn/issues/21755 */display: inline-block !important;position: relative;}#sk-container-id-14 div.sk-text-repr-fallback {display: none;}</style><div id=\"sk-container-id-14\" class=\"sk-top-container\"><div class=\"sk-text-repr-fallback\"><pre>SVR()</pre><b>In a Jupyter environment, please rerun this cell to show the HTML representation or trust the notebook. <br />On GitHub, the HTML representation is unable to render, please try loading this page with nbviewer.org.</b></div><div class=\"sk-container\" hidden><div class=\"sk-item\"><div class=\"sk-estimator sk-toggleable\"><input class=\"sk-toggleable__control sk-hidden--visually\" id=\"sk-estimator-id-14\" type=\"checkbox\" checked><label for=\"sk-estimator-id-14\" class=\"sk-toggleable__label sk-toggleable__label-arrow\">SVR</label><div class=\"sk-toggleable__content\"><pre>SVR()</pre></div></div></div></div></div>"
            ]
          },
          "metadata": {},
          "execution_count": 190
        }
      ]
    },
    {
      "cell_type": "markdown",
      "source": [
        "## 6.3. Prediction"
      ],
      "metadata": {
        "id": "uRUV4nyV8K6t"
      }
    },
    {
      "cell_type": "code",
      "source": [
        "y_pred = svm_regre.predict(X_test['s6'].values.reshape((-1,1)))"
      ],
      "metadata": {
        "id": "r8YB1FoN8Frn"
      },
      "execution_count": 194,
      "outputs": []
    },
    {
      "cell_type": "markdown",
      "source": [
        "## 6.4. Check a Result"
      ],
      "metadata": {
        "id": "E2hrhtPK8c0m"
      }
    },
    {
      "cell_type": "code",
      "source": [
        "print('Simple Support Vector Machine Regression - R2: {:.2f}'.format(r2_score(y_test, y_pred)))"
      ],
      "metadata": {
        "colab": {
          "base_uri": "https://localhost:8080/"
        },
        "id": "Z3CKT_BV8eVZ",
        "outputId": "569a7e8d-d342-4510-ec8b-003cdb8efdb6"
      },
      "execution_count": 195,
      "outputs": [
        {
          "output_type": "stream",
          "name": "stdout",
          "text": [
            "Simple Support Vector Machine Regression - R2: 0.06\n"
          ]
        }
      ]
    },
    {
      "cell_type": "markdown",
      "source": [
        "## 6.5. Find better models"
      ],
      "metadata": {
        "id": "q28dseSJ8ur1"
      }
    },
    {
      "cell_type": "markdown",
      "source": [
        "* Note: The result of R2 above is too low (R2=0.06), so it needs to be find another solution."
      ],
      "metadata": {
        "id": "5L6J2dz089E6"
      }
    },
    {
      "cell_type": "markdown",
      "source": [
        "### Try Multiple Support Vector Machine Regressor"
      ],
      "metadata": {
        "id": "MOyvFFcB9jSz"
      }
    },
    {
      "cell_type": "code",
      "source": [
        "svm_regr = SVR()\n",
        "svm_regr.fit(X_train, y_train)\n",
        "y_pred = svm_regr.predict(X_test)\n",
        "print('Multiple Support Vector Machine Regressor - R2: {:.2f}'.format(r2_score(y_test,y_pred)))"
      ],
      "metadata": {
        "colab": {
          "base_uri": "https://localhost:8080/"
        },
        "id": "UTdQZozV6-E-",
        "outputId": "eaf16f53-4838-4b9c-f6c2-5afb875934f5"
      },
      "execution_count": 201,
      "outputs": [
        {
          "output_type": "stream",
          "name": "stdout",
          "text": [
            "Multiple Support Vector Machine Regressor - R2: 0.17\n"
          ]
        }
      ]
    },
    {
      "cell_type": "markdown",
      "source": [
        "### Try Use 'c=2'"
      ],
      "metadata": {
        "id": "o7CxQXuy9ojN"
      }
    },
    {
      "cell_type": "code",
      "source": [
        "m_regr = SVR(C=2)\n",
        "svm_regr.fit(X_train, y_train)\n",
        "y_pred = svm_regr.predict(X_test)\n",
        "print('Multiple Support Vector Machine Regressor - R2: {:.2f}'.format(r2_score(y_test,y_pred)))"
      ],
      "metadata": {
        "colab": {
          "base_uri": "https://localhost:8080/"
        },
        "id": "oXxI16eV9Frp",
        "outputId": "873a1373-a8b8-42fb-ce95-22155a7e89d3"
      },
      "execution_count": 206,
      "outputs": [
        {
          "output_type": "stream",
          "name": "stdout",
          "text": [
            "Multiple Support Vector Machine Regressor - R2: 0.17\n"
          ]
        }
      ]
    },
    {
      "cell_type": "markdown",
      "source": [
        "### Try using 'for' statement"
      ],
      "metadata": {
        "id": "08GzBNVb-FAs"
      }
    },
    {
      "cell_type": "code",
      "source": [
        "for i in [1,2,3,4,5,6,7,8,9,10,11,12,13,14,15,16,17,18,19,20]:\n",
        "  m_regr = SVR(C=i)\n",
        "  m_regr.fit(X_train, y_train)\n",
        "  y_pred = m_regr.predict(X_test)\n",
        "  print('Multiple Support Vector Machine Regressor(i={}) - R2: {:.2f}'.format(i,\n",
        "                                                                              r2_score(y_test, y_pred)))\n",
        "  \n",
        "#print('The best solution: \\n i = {}, R2 = {} '.format(i, y_pred))"
      ],
      "metadata": {
        "colab": {
          "base_uri": "https://localhost:8080/"
        },
        "id": "lMjDcX5S6-He",
        "outputId": "9c8ac272-58ce-4bcc-c8da-42add0748ac7"
      },
      "execution_count": 213,
      "outputs": [
        {
          "output_type": "stream",
          "name": "stdout",
          "text": [
            "Multiple Support Vector Machine Regressor(i=1) - R2: 0.17\n",
            "Multiple Support Vector Machine Regressor(i=2) - R2: 0.29\n",
            "Multiple Support Vector Machine Regressor(i=3) - R2: 0.35\n",
            "Multiple Support Vector Machine Regressor(i=4) - R2: 0.39\n",
            "Multiple Support Vector Machine Regressor(i=5) - R2: 0.42\n",
            "Multiple Support Vector Machine Regressor(i=6) - R2: 0.44\n",
            "Multiple Support Vector Machine Regressor(i=7) - R2: 0.46\n",
            "Multiple Support Vector Machine Regressor(i=8) - R2: 0.47\n",
            "Multiple Support Vector Machine Regressor(i=9) - R2: 0.48\n",
            "Multiple Support Vector Machine Regressor(i=10) - R2: 0.49\n",
            "Multiple Support Vector Machine Regressor(i=11) - R2: 0.49\n",
            "Multiple Support Vector Machine Regressor(i=12) - R2: 0.50\n",
            "Multiple Support Vector Machine Regressor(i=13) - R2: 0.50\n",
            "Multiple Support Vector Machine Regressor(i=14) - R2: 0.50\n",
            "Multiple Support Vector Machine Regressor(i=15) - R2: 0.50\n",
            "Multiple Support Vector Machine Regressor(i=16) - R2: 0.50\n",
            "Multiple Support Vector Machine Regressor(i=17) - R2: 0.50\n",
            "Multiple Support Vector Machine Regressor(i=18) - R2: 0.50\n",
            "Multiple Support Vector Machine Regressor(i=19) - R2: 0.50\n",
            "Multiple Support Vector Machine Regressor(i=20) - R2: 0.50\n"
          ]
        }
      ]
    },
    {
      "cell_type": "markdown",
      "source": [
        "# 7. Multi Layer Perceptron Regressor"
      ],
      "metadata": {
        "id": "SAl-vP6S_mJI"
      }
    },
    {
      "cell_type": "markdown",
      "source": [
        "## 7.1. Preparation"
      ],
      "metadata": {
        "id": "38n3E6cz_qW6"
      }
    },
    {
      "cell_type": "code",
      "source": [
        "from sklearn.neural_network import MLPRegressor"
      ],
      "metadata": {
        "id": "ukTiyfmH_pNq"
      },
      "execution_count": 214,
      "outputs": []
    },
    {
      "cell_type": "code",
      "source": [
        "mlp_regr = MLPRegressor()"
      ],
      "metadata": {
        "id": "2QGPuCdV_yt2"
      },
      "execution_count": 215,
      "outputs": []
    },
    {
      "cell_type": "markdown",
      "source": [
        "## 7.2. Fit Data"
      ],
      "metadata": {
        "id": "q20FHT9e_6uo"
      }
    },
    {
      "cell_type": "code",
      "source": [
        "mlp_regr.fit(X_train, y_train)"
      ],
      "metadata": {
        "colab": {
          "base_uri": "https://localhost:8080/",
          "height": 129
        },
        "id": "HYYFGVCC_8Lm",
        "outputId": "043608fe-eee8-4fc9-b1d2-068a54c10288"
      },
      "execution_count": 216,
      "outputs": [
        {
          "output_type": "stream",
          "name": "stderr",
          "text": [
            "/usr/local/lib/python3.10/dist-packages/sklearn/neural_network/_multilayer_perceptron.py:686: ConvergenceWarning: Stochastic Optimizer: Maximum iterations (200) reached and the optimization hasn't converged yet.\n",
            "  warnings.warn(\n"
          ]
        },
        {
          "output_type": "execute_result",
          "data": {
            "text/plain": [
              "MLPRegressor()"
            ],
            "text/html": [
              "<style>#sk-container-id-15 {color: black;background-color: white;}#sk-container-id-15 pre{padding: 0;}#sk-container-id-15 div.sk-toggleable {background-color: white;}#sk-container-id-15 label.sk-toggleable__label {cursor: pointer;display: block;width: 100%;margin-bottom: 0;padding: 0.3em;box-sizing: border-box;text-align: center;}#sk-container-id-15 label.sk-toggleable__label-arrow:before {content: \"▸\";float: left;margin-right: 0.25em;color: #696969;}#sk-container-id-15 label.sk-toggleable__label-arrow:hover:before {color: black;}#sk-container-id-15 div.sk-estimator:hover label.sk-toggleable__label-arrow:before {color: black;}#sk-container-id-15 div.sk-toggleable__content {max-height: 0;max-width: 0;overflow: hidden;text-align: left;background-color: #f0f8ff;}#sk-container-id-15 div.sk-toggleable__content pre {margin: 0.2em;color: black;border-radius: 0.25em;background-color: #f0f8ff;}#sk-container-id-15 input.sk-toggleable__control:checked~div.sk-toggleable__content {max-height: 200px;max-width: 100%;overflow: auto;}#sk-container-id-15 input.sk-toggleable__control:checked~label.sk-toggleable__label-arrow:before {content: \"▾\";}#sk-container-id-15 div.sk-estimator input.sk-toggleable__control:checked~label.sk-toggleable__label {background-color: #d4ebff;}#sk-container-id-15 div.sk-label input.sk-toggleable__control:checked~label.sk-toggleable__label {background-color: #d4ebff;}#sk-container-id-15 input.sk-hidden--visually {border: 0;clip: rect(1px 1px 1px 1px);clip: rect(1px, 1px, 1px, 1px);height: 1px;margin: -1px;overflow: hidden;padding: 0;position: absolute;width: 1px;}#sk-container-id-15 div.sk-estimator {font-family: monospace;background-color: #f0f8ff;border: 1px dotted black;border-radius: 0.25em;box-sizing: border-box;margin-bottom: 0.5em;}#sk-container-id-15 div.sk-estimator:hover {background-color: #d4ebff;}#sk-container-id-15 div.sk-parallel-item::after {content: \"\";width: 100%;border-bottom: 1px solid gray;flex-grow: 1;}#sk-container-id-15 div.sk-label:hover label.sk-toggleable__label {background-color: #d4ebff;}#sk-container-id-15 div.sk-serial::before {content: \"\";position: absolute;border-left: 1px solid gray;box-sizing: border-box;top: 0;bottom: 0;left: 50%;z-index: 0;}#sk-container-id-15 div.sk-serial {display: flex;flex-direction: column;align-items: center;background-color: white;padding-right: 0.2em;padding-left: 0.2em;position: relative;}#sk-container-id-15 div.sk-item {position: relative;z-index: 1;}#sk-container-id-15 div.sk-parallel {display: flex;align-items: stretch;justify-content: center;background-color: white;position: relative;}#sk-container-id-15 div.sk-item::before, #sk-container-id-15 div.sk-parallel-item::before {content: \"\";position: absolute;border-left: 1px solid gray;box-sizing: border-box;top: 0;bottom: 0;left: 50%;z-index: -1;}#sk-container-id-15 div.sk-parallel-item {display: flex;flex-direction: column;z-index: 1;position: relative;background-color: white;}#sk-container-id-15 div.sk-parallel-item:first-child::after {align-self: flex-end;width: 50%;}#sk-container-id-15 div.sk-parallel-item:last-child::after {align-self: flex-start;width: 50%;}#sk-container-id-15 div.sk-parallel-item:only-child::after {width: 0;}#sk-container-id-15 div.sk-dashed-wrapped {border: 1px dashed gray;margin: 0 0.4em 0.5em 0.4em;box-sizing: border-box;padding-bottom: 0.4em;background-color: white;}#sk-container-id-15 div.sk-label label {font-family: monospace;font-weight: bold;display: inline-block;line-height: 1.2em;}#sk-container-id-15 div.sk-label-container {text-align: center;}#sk-container-id-15 div.sk-container {/* jupyter's `normalize.less` sets `[hidden] { display: none; }` but bootstrap.min.css set `[hidden] { display: none !important; }` so we also need the `!important` here to be able to override the default hidden behavior on the sphinx rendered scikit-learn.org. See: https://github.com/scikit-learn/scikit-learn/issues/21755 */display: inline-block !important;position: relative;}#sk-container-id-15 div.sk-text-repr-fallback {display: none;}</style><div id=\"sk-container-id-15\" class=\"sk-top-container\"><div class=\"sk-text-repr-fallback\"><pre>MLPRegressor()</pre><b>In a Jupyter environment, please rerun this cell to show the HTML representation or trust the notebook. <br />On GitHub, the HTML representation is unable to render, please try loading this page with nbviewer.org.</b></div><div class=\"sk-container\" hidden><div class=\"sk-item\"><div class=\"sk-estimator sk-toggleable\"><input class=\"sk-toggleable__control sk-hidden--visually\" id=\"sk-estimator-id-15\" type=\"checkbox\" checked><label for=\"sk-estimator-id-15\" class=\"sk-toggleable__label sk-toggleable__label-arrow\">MLPRegressor</label><div class=\"sk-toggleable__content\"><pre>MLPRegressor()</pre></div></div></div></div></div>"
            ]
          },
          "metadata": {},
          "execution_count": 216
        }
      ]
    },
    {
      "cell_type": "markdown",
      "source": [
        "## 7.3. Prediction"
      ],
      "metadata": {
        "id": "0TfaBuvG__YZ"
      }
    },
    {
      "cell_type": "code",
      "source": [
        "y_pred = mlp_regr.predict(X_test)"
      ],
      "metadata": {
        "id": "DwORSETMAASk"
      },
      "execution_count": 217,
      "outputs": []
    },
    {
      "cell_type": "markdown",
      "source": [
        "## 7.4. Check a Result"
      ],
      "metadata": {
        "id": "vdg9L_cQAEv4"
      }
    },
    {
      "cell_type": "code",
      "source": [
        "print('Multi Layer Perception Regressor - S2: {:.2f}'.format(r2_score(y_test, y_pred)))"
      ],
      "metadata": {
        "colab": {
          "base_uri": "https://localhost:8080/"
        },
        "id": "-XVQWBX7AGea",
        "outputId": "68936cbc-752b-4d79-d94d-f7220f65a72d"
      },
      "execution_count": 218,
      "outputs": [
        {
          "output_type": "stream",
          "name": "stdout",
          "text": [
            "Multi Layer Perception Regressor - S2: -2.47\n"
          ]
        }
      ]
    },
    {
      "cell_type": "markdown",
      "source": [
        "## 7.5. Find Better Solutions"
      ],
      "metadata": {
        "id": "c0UCFvC_A_Xv"
      }
    },
    {
      "cell_type": "markdown",
      "source": [
        "### Set hidden layer"
      ],
      "metadata": {
        "id": "pvUkzqBgBDTl"
      }
    },
    {
      "cell_type": "code",
      "source": [
        "mlp_regr = MLPRegressor(hidden_layer_sizes=200)\n",
        "mlp_regr.fit(X_train, y_train)\n",
        "y_pred = mlp_regr.predict(X_test)\n",
        "print('Multi Layer Perception Regressor - S2: {:.2f}'.format(r2_score(y_test, y_pred)))"
      ],
      "metadata": {
        "colab": {
          "base_uri": "https://localhost:8080/"
        },
        "id": "rjVrUo2__-8y",
        "outputId": "9840fff1-e7f1-4169-d5e5-d85fe79ee3b7"
      },
      "execution_count": 223,
      "outputs": [
        {
          "output_type": "stream",
          "name": "stdout",
          "text": [
            "Multi Layer Perception Regressor - S2: -1.81\n"
          ]
        },
        {
          "output_type": "stream",
          "name": "stderr",
          "text": [
            "/usr/local/lib/python3.10/dist-packages/sklearn/neural_network/_multilayer_perceptron.py:686: ConvergenceWarning: Stochastic Optimizer: Maximum iterations (200) reached and the optimization hasn't converged yet.\n",
            "  warnings.warn(\n"
          ]
        }
      ]
    },
    {
      "cell_type": "markdown",
      "source": [
        "### Set 'max_iter' : Number of Repeat"
      ],
      "metadata": {
        "id": "GUBphIHEBUqg"
      }
    },
    {
      "cell_type": "code",
      "source": [
        "mlp_regr = MLPRegressor(hidden_layer_sizes=200, max_iter=100000)\n",
        "mlp_regr.fit(X_train, y_train)\n",
        "y_pred = mlp_regr.predict(X_test)\n",
        "print('Multi Layer Perception Regressor - S2: {:.2f}'.format(r2_score(y_test, y_pred)))"
      ],
      "metadata": {
        "colab": {
          "base_uri": "https://localhost:8080/"
        },
        "id": "Tg3xSLjn_3AF",
        "outputId": "7b2ef851-efc1-480c-90f3-cddde1a97c1b"
      },
      "execution_count": 226,
      "outputs": [
        {
          "output_type": "stream",
          "name": "stdout",
          "text": [
            "Multi Layer Perception Regressor - S2: 0.49\n"
          ]
        }
      ]
    }
  ]
}