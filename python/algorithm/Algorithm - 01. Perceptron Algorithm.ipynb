{
 "cells": [
  {
   "cell_type": "markdown",
   "id": "a73e16d9",
   "metadata": {},
   "source": [
    "* Note: I refer to < Deep Learning from Scratch (O'reilly) > Chapter 02."
   ]
  },
  {
   "cell_type": "markdown",
   "id": "42762676",
   "metadata": {},
   "source": [
    "# 1. Overview\n"
   ]
  },
  {
   "cell_type": "markdown",
   "id": "89ce3071",
   "metadata": {},
   "source": [
    "- Perceptron Algorithm\n",
    "  - A basic algorithm for neural networks(deep learning)\n",
    "  - y = 0 (w1x1 + w2x2 <= Theta)\n",
    "      = 1 (w1x1 + w2x2 >  Theta)\n",
    "  - => y = 0 (b + w1x1 + w2x2 <= 0)\n",
    "         = 1 (b + w1x1 + w2x2 >  0)"
   ]
  },
  {
   "cell_type": "code",
   "execution_count": 13,
   "id": "d69e1928",
   "metadata": {},
   "outputs": [],
   "source": [
    "import numpy as np"
   ]
  },
  {
   "cell_type": "markdown",
   "id": "3da8f646",
   "metadata": {},
   "source": [
    "# 2. Single-Layer Perceptron"
   ]
  },
  {
   "cell_type": "markdown",
   "id": "95b7481d",
   "metadata": {},
   "source": [
    "## 2.1. AND Gate"
   ]
  },
  {
   "cell_type": "code",
   "execution_count": 19,
   "id": "b03553ac",
   "metadata": {},
   "outputs": [],
   "source": [
    "def AND(x1, x2):\n",
    "    x = np.array([x1, x2])\n",
    "    w = np.array([0.5, 0.5])\n",
    "    b = -0.7\n",
    "    tmp = np.sum(w * x) + b\n",
    "    if tmp <= 0:\n",
    "        return 0\n",
    "    else:\n",
    "        return 1"
   ]
  },
  {
   "cell_type": "code",
   "execution_count": 21,
   "id": "dc88b9d4",
   "metadata": {},
   "outputs": [
    {
     "name": "stdout",
     "output_type": "stream",
     "text": [
      "0\n",
      "0\n",
      "0\n",
      "1\n"
     ]
    }
   ],
   "source": [
    "print(AND(0, 0))\n",
    "print(AND(0, 1))\n",
    "print(AND(1, 0))\n",
    "print(AND(1, 1))"
   ]
  },
  {
   "cell_type": "markdown",
   "id": "52c9e60b",
   "metadata": {},
   "source": [
    "## 3.1. NAND Gate"
   ]
  },
  {
   "cell_type": "code",
   "execution_count": 22,
   "id": "8a02e5ed",
   "metadata": {},
   "outputs": [],
   "source": [
    "def NAND(x1, x2):\n",
    "    x = np.array([x1, x2])\n",
    "    w = np.array([-0.5, -0.5])  # AND and NAND gates have different 'w' and 'b'\n",
    "    b = 0.7\n",
    "    tmp = np.sum(w * x) + b\n",
    "    if tmp <= 0:\n",
    "        return 0\n",
    "    else:\n",
    "        return 1"
   ]
  },
  {
   "cell_type": "code",
   "execution_count": 23,
   "id": "5a8f9bbf",
   "metadata": {},
   "outputs": [
    {
     "name": "stdout",
     "output_type": "stream",
     "text": [
      "1\n",
      "1\n",
      "1\n",
      "0\n"
     ]
    }
   ],
   "source": [
    "print(NAND(0, 0))\n",
    "print(NAND(0, 1))\n",
    "print(NAND(1, 0))\n",
    "print(NAND(1, 1))"
   ]
  },
  {
   "cell_type": "markdown",
   "id": "8067763d",
   "metadata": {},
   "source": [
    "## 4.1. OR Gate"
   ]
  },
  {
   "cell_type": "code",
   "execution_count": 24,
   "id": "5fd684f9",
   "metadata": {},
   "outputs": [],
   "source": [
    "def OR(x1, x2):\n",
    "    x = np.array([x1, x2])\n",
    "    w = np.array([0.5, 0.5])\n",
    "    b = 0.2\n",
    "    tmp = np.sum(w * x) + b\n",
    "    if tmp <= 0:\n",
    "        return 0\n",
    "    else:\n",
    "        return 1"
   ]
  },
  {
   "cell_type": "code",
   "execution_count": 25,
   "id": "45e5fb67",
   "metadata": {},
   "outputs": [
    {
     "name": "stdout",
     "output_type": "stream",
     "text": [
      "1\n",
      "1\n",
      "1\n",
      "1\n"
     ]
    }
   ],
   "source": [
    "print(OR(0, 0))\n",
    "print(OR(0, 1))\n",
    "print(OR(1, 0))\n",
    "print(OR(1, 1))"
   ]
  },
  {
   "cell_type": "markdown",
   "id": "304a380e",
   "metadata": {},
   "source": [
    "# 2. Multi-Layer Perceptron"
   ]
  },
  {
   "cell_type": "markdown",
   "id": "d773aa0e",
   "metadata": {},
   "source": [
    "## 2.1. XOR"
   ]
  },
  {
   "cell_type": "markdown",
   "id": "77057e7b",
   "metadata": {},
   "source": [
    "- A Table of XOR Gate\n",
    " : A combination of AND + NAND + OR Gates\n",
    " \n",
    "|x1 x2 | s1  s2 | y |  \n",
    "|--------+--------+---|   \n",
    "|   0   0 |  1  0  | 0 |   \n",
    "|  1   0 |  1  1  | 1 |   \n",
    "|  0   1 |  1  1  | 1 |   \n",
    "|  1   1 |  0  1  | 0 |   "
   ]
  },
  {
   "cell_type": "code",
   "execution_count": 17,
   "id": "112db914",
   "metadata": {},
   "outputs": [],
   "source": [
    "def XOR(x1, x2):\n",
    "    s1 = NAND(x1, x2)\n",
    "    s2 = OR(x1, x2)\n",
    "    y = AND(s1, s2)\n",
    "    return y"
   ]
  },
  {
   "cell_type": "code",
   "execution_count": 26,
   "id": "5946e779",
   "metadata": {},
   "outputs": [
    {
     "name": "stdout",
     "output_type": "stream",
     "text": [
      "1\n",
      "1\n",
      "1\n",
      "0\n"
     ]
    }
   ],
   "source": [
    "print(XOR(0, 0))\n",
    "print(XOR(0, 1))\n",
    "print(XOR(1, 0))\n",
    "print(XOR(1, 1))"
   ]
  }
 ],
 "metadata": {
  "kernelspec": {
   "display_name": "Python 3 (ipykernel)",
   "language": "python",
   "name": "python3"
  },
  "language_info": {
   "codemirror_mode": {
    "name": "ipython",
    "version": 3
   },
   "file_extension": ".py",
   "mimetype": "text/x-python",
   "name": "python",
   "nbconvert_exporter": "python",
   "pygments_lexer": "ipython3",
   "version": "3.10.9"
  }
 },
 "nbformat": 4,
 "nbformat_minor": 5
}
