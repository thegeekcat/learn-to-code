{
 "cells": [
  {
   "cell_type": "markdown",
   "id": "e5b3b21c",
   "metadata": {},
   "source": [
    "- LeNet-5\n",
    "  - A CNN model proposed by Yann LeCun in 1998\n",
    "  - Be designed for handwritten digit recognition, especially for the MNIST dataset\n",
    "  - Structure\n",
    "    - Input layer\n",
    "    - Convolutional layers: 3\n",
    "    - Pooling layers: 2\n",
    "    - Fully connected layers: 2\n",
    "    - Output layer"
   ]
  },
  {
   "cell_type": "markdown",
   "id": "e934ccb9",
   "metadata": {},
   "source": [
    "### Preparation"
   ]
  },
  {
   "cell_type": "code",
   "execution_count": 1,
   "id": "dc900250",
   "metadata": {},
   "outputs": [],
   "source": [
    "# Import modules\n",
    "import torch\n",
    "import torch.nn as nn\n",
    "import torch.optim as optim\n",
    "import torchvision\n",
    "import torchvision.transforms as transforms"
   ]
  },
  {
   "cell_type": "markdown",
   "id": "76cf2e69",
   "metadata": {},
   "source": [
    "### Load Data: CIFAR-10"
   ]
  },
  {
   "cell_type": "code",
   "execution_count": 2,
   "id": "60b81455",
   "metadata": {},
   "outputs": [],
   "source": [
    "# Set transforms\n",
    "train_transform = transforms.Compose([\n",
    "    transforms.RandomHorizontalFlip(p = 0.5),\n",
    "    transforms.RandomVerticalFlip(p = 0.3),\n",
    "    transforms.ToTensor(),\n",
    "    transforms.Normalize((0.5, 0.5, 0.5), (0.2, 0.2, 0.2))\n",
    "])\n",
    "\n",
    "test_transform = transforms.Compose([\n",
    "    transforms.ToTensor(),\n",
    "    transforms.Normalize((0.5, 0.5, 0.5), (0.2, 0.2, 0.2))\n",
    "])"
   ]
  },
  {
   "cell_type": "code",
   "execution_count": 3,
   "id": "67a24d2e",
   "metadata": {},
   "outputs": [
    {
     "name": "stdout",
     "output_type": "stream",
     "text": [
      "Files already downloaded and verified\n",
      "Files already downloaded and verified\n"
     ]
    }
   ],
   "source": [
    "# Get data and loaders\n",
    "train_data = torchvision.datasets.CIFAR10(root = './data/0704-LeNet-5',\n",
    "                                          train = True,\n",
    "                                          download = True, \n",
    "                                          transform = train_transform)\n",
    "train_loader = torch.utils.data.DataLoader(train_data,\n",
    "                                           batch_size = 64,\n",
    "                                           shuffle = True)\n",
    "\n",
    "test_data = torchvision.datasets.CIFAR10(root = './data/0704-LeNet-5',\n",
    "                                         train = False,\n",
    "                                         download = True,\n",
    "                                         transform = test_transform)\n",
    "test_loader = torch.utils.data.DataLoader(test_data,\n",
    "                                          batch_size = 64,\n",
    "                                          shuffle = False)"
   ]
  },
  {
   "cell_type": "markdown",
   "id": "a305b76d",
   "metadata": {},
   "source": [
    "### Create a LeNet-5 Model"
   ]
  },
  {
   "cell_type": "code",
   "execution_count": 4,
   "id": "ee870eb5",
   "metadata": {},
   "outputs": [],
   "source": [
    "# Define a LeNet-5 class using Receptive Field\n",
    "class LeNet(nn.Module):\n",
    "\n",
    "    # Initialize a model\n",
    "    def __init__ (self):\n",
    "        # Initialize class itself\n",
    "        super(LeNet, self).__init__()\n",
    "        \n",
    "        # Set Convolutional layers and Max-Pooling layers\n",
    "        self.conv1 = nn.Conv2d(3, 32, 3)  # Input channel: 3, Output channel: 32, Kernal size: 3x3\n",
    "        self.pool = nn.MaxPool2d(2, 2)    # MaxPolling layer with a kernel size of 2x2, stride of 2\n",
    "        self.conv2 = nn.Conv2d(32, 64, 3) # Input channel: 32, Output channel: 64, Kernal size: 3x3\n",
    "        \n",
    "        # Set Fully connected layers\n",
    "        self.fc1 = nn.Linear(64 * 6 * 6, 64) # Input size: 64 * 6 * 6, Output size: 64\n",
    "        self.fc2 = nn.Linear(64, 10)         # Input size: 64, Output size(Class): 10\n",
    "        \n",
    "    # Define forward\n",
    "    def forward(self, x):\n",
    "        \n",
    "        # Pass 'x' through: the convolutional layers, ReLu activation, max-pooling layers\n",
    "        x = self.pool(torch.relu(self.conv1(x)))\n",
    "        x = self.pool(torch.relu(self.conv2(x)))\n",
    "        \n",
    "        # Output is flattened into Rank1 tensor\n",
    "        x = torch.flatten(x, 1)\n",
    "        \n",
    "        # Pass the falttened layer to the first fully connected layer with ReLu activation function\n",
    "        x = torch.relu(self.fc1(x))\n",
    "        \n",
    "        # Pass the result to the second fully connected layer\n",
    "        x = self.fc2(x)\n",
    "        \n",
    "        return x"
   ]
  },
  {
   "cell_type": "markdown",
   "id": "adf563b4",
   "metadata": {},
   "source": [
    "### Fit Model "
   ]
  },
  {
   "cell_type": "code",
   "execution_count": 5,
   "id": "ada5eabe",
   "metadata": {},
   "outputs": [],
   "source": [
    "# Define a model\n",
    "def train_and_eval(model):\n",
    "    # Set Loss Function\n",
    "    criterion = nn.CrossEntropyLoss()\n",
    "    \n",
    "    # Set optimizer\n",
    "    optimizer = optim.SGD(model.parameters(),\n",
    "                          lr = 0.001,\n",
    "                          momentum = 0.9)\n",
    "    \n",
    "    \n",
    "    # Set a learning loop\n",
    "    for epoch in range(5):\n",
    "        running_loss = 0.0\n",
    "        for i, data in enumerate(train_loader, 0):\n",
    "            \n",
    "            inputs, labels = data\n",
    "            optimizer.zero_grad()\n",
    "            \n",
    "            outputs = model(inputs)\n",
    "            loss = criterion(outputs, labels)\n",
    "            loss.backward()\n",
    "            optimizer.step()\n",
    "            \n",
    "            running_loss += loss.item()\n",
    "            if i % 200 == 190:\n",
    "                print('[%d,  %gd] loss: %.3f' % (epoch + 1, i + 1, running_loss / 200))\n",
    "                running_loss = 0.0\n",
    "    \n",
    "    print('Training completed!')\n",
    "    \n",
    "    \n",
    "    # Evaluate models\n",
    "    # Initialize parameters\n",
    "    correct = 0\n",
    "    total = 0\n",
    "    with torch.no_grad():\n",
    "        for data in test_loader:\n",
    "            \n",
    "            inputs, labels = data\n",
    "            outputs = model(inputs)\n",
    "            \n",
    "            _, predicted = torch.max(outputs.data, 1)\n",
    "            total += labels.size(0)\n",
    "            correct += (predicted == labels).sum().item()\n",
    "            \n",
    "    accuracy = 100 * correct / total\n",
    "    print('Accuracy: %.2f %%' % accuracy)"
   ]
  },
  {
   "cell_type": "markdown",
   "id": "1319a32d",
   "metadata": {},
   "source": [
    "### Run Models"
   ]
  },
  {
   "cell_type": "code",
   "execution_count": 6,
   "id": "6e848be5",
   "metadata": {},
   "outputs": [
    {
     "name": "stdout",
     "output_type": "stream",
     "text": [
      "LeNet-5: \n",
      "[1,  191d] loss: 2.139\n",
      "[1,  391d] loss: 2.025\n",
      "[1,  591d] loss: 1.860\n",
      "[2,  191d] loss: 1.589\n",
      "[2,  391d] loss: 1.610\n",
      "[2,  591d] loss: 1.564\n",
      "[3,  191d] loss: 1.446\n",
      "[3,  391d] loss: 1.475\n",
      "[3,  591d] loss: 1.454\n",
      "[4,  191d] loss: 1.362\n",
      "[4,  391d] loss: 1.392\n",
      "[4,  591d] loss: 1.369\n",
      "[5,  191d] loss: 1.283\n",
      "[5,  391d] loss: 1.304\n",
      "[5,  591d] loss: 1.307\n",
      "Training completed!\n",
      "Accuracy: 56.76 %\n",
      "Num of parameters: \n",
      "LeNet-5 167562\n"
     ]
    }
   ],
   "source": [
    "# Run model\n",
    "print('LeNet-5: ')\n",
    "model = LeNet()\n",
    "train_and_eval(model)\n",
    "\n",
    "# Compare parameters\n",
    "print('Num of parameters: ')\n",
    "print('LeNet-5', sum(p.numel() for p in model.parameters()))"
   ]
  }
 ],
 "metadata": {
  "kernelspec": {
   "display_name": "AI",
   "language": "python",
   "name": "ai"
  },
  "language_info": {
   "codemirror_mode": {
    "name": "ipython",
    "version": 3
   },
   "file_extension": ".py",
   "mimetype": "text/x-python",
   "name": "python",
   "nbconvert_exporter": "python",
   "pygments_lexer": "ipython3",
   "version": "3.8.16"
  }
 },
 "nbformat": 4,
 "nbformat_minor": 5
}
