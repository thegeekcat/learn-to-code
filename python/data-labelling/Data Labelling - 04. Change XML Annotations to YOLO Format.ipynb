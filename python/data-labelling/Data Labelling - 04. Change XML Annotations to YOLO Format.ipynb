{
 "cells": [
  {
   "cell_type": "markdown",
   "id": "93742278",
   "metadata": {},
   "source": [
    "# 1. Preparation"
   ]
  },
  {
   "cell_type": "code",
   "execution_count": 1,
   "id": "e7c3a1ce",
   "metadata": {},
   "outputs": [],
   "source": [
    "# Import modules\n",
    "import os\n",
    "import cv2\n",
    "import matplotlib.pylab as plt\n",
    "from xml.etree.ElementTree import parse"
   ]
  },
  {
   "cell_type": "code",
   "execution_count": 8,
   "id": "1a23631e",
   "metadata": {},
   "outputs": [],
   "source": [
    "# Set label names\n",
    "label_number_dict = {'cat': 0, 'dog': 1}\n",
    "\n",
    "# Read XML file\n",
    "def xml_read(xml_path):\n",
    "    \n",
    "    # Set a root\n",
    "    root = parse(xml_path).getroot()\n",
    "    \n",
    "    # Get an image info\n",
    "    image_info = root.findall('image')\n",
    "    \n",
    "    # Get details of image info\n",
    "    for image in image_info:\n",
    "        # Get a bounding box info\n",
    "        bbox = image.findall('box')\n",
    "        \n",
    "        # Get width and height -> get in 'string' type\n",
    "        image_width = image.attrib['width']\n",
    "        image_height = image.attrib['height']\n",
    "        \n",
    "        # Get name and path\n",
    "        image_name = image.attrib['name']\n",
    "        image_name_temp = image_name\n",
    "        image_name = os.path.join('./data/', image_name)\n",
    "        \n",
    "        # Read images\n",
    "        image = cv2.imread(image_name)\n",
    "        image = cv2.cvtColor(image, cv2.COLOR_BGR2RGB)\n",
    "        \n",
    "                           \n",
    "        # Get bounding box info\n",
    "        for box_info in bbox:\n",
    "            # Get label info\n",
    "            label = box_info.attrib['label']  # x1, y1, x2, y2\n",
    "                           \n",
    "            # Get coordinates -> get in 'string' type\n",
    "            xtl = box_info.attrib['xtl']\n",
    "            ytl = box_info.attrib['ytl']\n",
    "            xbr = box_info.attrib['xbr']\n",
    "            ybr = box_info.attrib['ybr']\n",
    "            \n",
    "            # Change 'string' -> 'float' -> 'int'\n",
    "            x1_i = int(float(xtl))\n",
    "            y1_i = int(float(ytl))\n",
    "            x2_i = int(float(xbr))\n",
    "            y2_i = int(float(ybr))\n",
    "                           \n",
    "            # Change 'string' to 'int'\n",
    "            img_width_i = int(image_width)\n",
    "            img_height_i = int(image_height)\n",
    "                           \n",
    "            # Change coordinates (x1, y1, x2, y2)\n",
    "            center_x = ((x2_i + x1_i) / (2 * img_width_i))\n",
    "            center_y = ((y2_i + y1_i) / (2 * img_height_i))\n",
    "            yolo_w = (x2_i - x1_i) / img_width_i\n",
    "            yolo_h = (y2_i - y1_i) / img_height_i\n",
    "            #print(center_x, center_y, yolo_w, yolo_h)\n",
    "                           \n",
    "                           \n",
    "            # Get file names: Remove extension part\n",
    "            image_name_temp = image_name_temp.replace('.jpg', '')\n",
    "                           \n",
    "            # Change label numbers to label names\n",
    "            label_number = label_number_dict[label]\n",
    "            \n",
    "            # Export as a text file\n",
    "            with open(f'./data/{image_name_temp}.txt', 'a') as f:\n",
    "                f.write(f'{label_number} {center_x} {center_y} {yolo_w} {yolo_h} \\n')\n",
    "                           \n",
    "                           \n",
    "                           \n",
    "xml_read('./data/cat_dog_annotation_xml.xml')"
   ]
  },
  {
   "cell_type": "code",
   "execution_count": null,
   "id": "f0eb59a0",
   "metadata": {},
   "outputs": [],
   "source": []
  },
  {
   "cell_type": "code",
   "execution_count": null,
   "id": "1b195705",
   "metadata": {},
   "outputs": [],
   "source": []
  },
  {
   "cell_type": "code",
   "execution_count": null,
   "id": "982c10d8",
   "metadata": {},
   "outputs": [],
   "source": []
  },
  {
   "cell_type": "code",
   "execution_count": null,
   "id": "1b7ead83",
   "metadata": {},
   "outputs": [],
   "source": []
  },
  {
   "cell_type": "code",
   "execution_count": null,
   "id": "ffacb682",
   "metadata": {},
   "outputs": [],
   "source": []
  },
  {
   "cell_type": "code",
   "execution_count": null,
   "id": "89ce2ee5",
   "metadata": {},
   "outputs": [],
   "source": []
  },
  {
   "cell_type": "code",
   "execution_count": null,
   "id": "3936ccdb",
   "metadata": {},
   "outputs": [],
   "source": []
  },
  {
   "cell_type": "code",
   "execution_count": null,
   "id": "b4ec762f",
   "metadata": {},
   "outputs": [],
   "source": []
  }
 ],
 "metadata": {
  "kernelspec": {
   "display_name": "AI",
   "language": "python",
   "name": "ai"
  },
  "language_info": {
   "codemirror_mode": {
    "name": "ipython",
    "version": 3
   },
   "file_extension": ".py",
   "mimetype": "text/x-python",
   "name": "python",
   "nbconvert_exporter": "python",
   "pygments_lexer": "ipython3",
   "version": "3.8.16"
  }
 },
 "nbformat": 4,
 "nbformat_minor": 5
}
