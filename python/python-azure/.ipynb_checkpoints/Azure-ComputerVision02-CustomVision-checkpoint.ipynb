{
 "cells": [
  {
   "cell_type": "markdown",
   "metadata": {
    "id": "uZ7DgYwyYCIt"
   },
   "source": [
    "# 1. Preparation"
   ]
  },
  {
   "cell_type": "code",
   "execution_count": null,
   "metadata": {
    "colab": {
     "base_uri": "https://localhost:8080/"
    },
    "id": "F6F2lE0sYtMB",
    "outputId": "d7560f5c-4e7a-48de-8b15-ba258194aa9b"
   },
   "outputs": [
    {
     "name": "stdout",
     "output_type": "stream",
     "text": [
      "Looking in indexes: https://pypi.org/simple, https://us-python.pkg.dev/colab-wheels/public/simple/\n",
      "Requirement already satisfied: azure-cognitiveservices-vision-customvision in /usr/local/lib/python3.9/dist-packages (3.1.0)\n",
      "Requirement already satisfied: msrest>=0.5.0 in /usr/local/lib/python3.9/dist-packages (from azure-cognitiveservices-vision-customvision) (0.7.1)\n",
      "Requirement already satisfied: azure-common~=1.1 in /usr/local/lib/python3.9/dist-packages (from azure-cognitiveservices-vision-customvision) (1.1.28)\n",
      "Requirement already satisfied: isodate>=0.6.0 in /usr/local/lib/python3.9/dist-packages (from msrest>=0.5.0->azure-cognitiveservices-vision-customvision) (0.6.1)\n",
      "Requirement already satisfied: requests~=2.16 in /usr/local/lib/python3.9/dist-packages (from msrest>=0.5.0->azure-cognitiveservices-vision-customvision) (2.27.1)\n",
      "Requirement already satisfied: certifi>=2017.4.17 in /usr/local/lib/python3.9/dist-packages (from msrest>=0.5.0->azure-cognitiveservices-vision-customvision) (2022.12.7)\n",
      "Requirement already satisfied: requests-oauthlib>=0.5.0 in /usr/local/lib/python3.9/dist-packages (from msrest>=0.5.0->azure-cognitiveservices-vision-customvision) (1.3.1)\n",
      "Requirement already satisfied: azure-core>=1.24.0 in /usr/local/lib/python3.9/dist-packages (from msrest>=0.5.0->azure-cognitiveservices-vision-customvision) (1.26.4)\n",
      "Requirement already satisfied: six>=1.11.0 in /usr/local/lib/python3.9/dist-packages (from azure-core>=1.24.0->msrest>=0.5.0->azure-cognitiveservices-vision-customvision) (1.16.0)\n",
      "Requirement already satisfied: typing-extensions>=4.3.0 in /usr/local/lib/python3.9/dist-packages (from azure-core>=1.24.0->msrest>=0.5.0->azure-cognitiveservices-vision-customvision) (4.5.0)\n",
      "Requirement already satisfied: charset-normalizer~=2.0.0 in /usr/local/lib/python3.9/dist-packages (from requests~=2.16->msrest>=0.5.0->azure-cognitiveservices-vision-customvision) (2.0.12)\n",
      "Requirement already satisfied: urllib3<1.27,>=1.21.1 in /usr/local/lib/python3.9/dist-packages (from requests~=2.16->msrest>=0.5.0->azure-cognitiveservices-vision-customvision) (1.26.15)\n",
      "Requirement already satisfied: idna<4,>=2.5 in /usr/local/lib/python3.9/dist-packages (from requests~=2.16->msrest>=0.5.0->azure-cognitiveservices-vision-customvision) (3.4)\n",
      "Requirement already satisfied: oauthlib>=3.0.0 in /usr/local/lib/python3.9/dist-packages (from requests-oauthlib>=0.5.0->msrest>=0.5.0->azure-cognitiveservices-vision-customvision) (3.2.2)\n"
     ]
    }
   ],
   "source": [
    "# Azure custom vision download and install\n",
    "\n",
    "!pip install azure-cognitiveservices-vision-customvision"
   ]
  },
  {
   "cell_type": "code",
   "execution_count": null,
   "metadata": {
    "id": "TuyVIY48aiCk"
   },
   "outputs": [],
   "source": [
    "# Import modules\n",
    "\n",
    "from azure.cognitiveservices.vision.customvision.training import CustomVisionTrainingClient\n",
    "from azure.cognitiveservices.vision.customvision.training.models import ImageFileCreateEntry\n",
    "from msrest.authentication import ApiKeyCredentials"
   ]
  },
  {
   "cell_type": "code",
   "execution_count": null,
   "metadata": {
    "id": "nrc7mF9RbRjl"
   },
   "outputs": [],
   "source": [
    "# Connect to Microsoft Azure Custom Vision Service\n",
    "\n",
    "endpoint = 'https://meow94customvision.cognitiveservices.azure.com/'\n",
    "training_key = 'f9f9321d3a5f4284abab538f5b4b6fb9'"
   ]
  },
  {
   "cell_type": "code",
   "execution_count": null,
   "metadata": {
    "id": "4gOQp_JVcfCW"
   },
   "outputs": [],
   "source": [
    "publish_iteration_name = 'GreatMeowModel'\n",
    "\n",
    "# Make credentials using Training key\n",
    "credentials = ApiKeyCredentials(in_headers={'Training-key': training_key}) "
   ]
  },
  {
   "cell_type": "code",
   "execution_count": null,
   "metadata": {
    "id": "NQFqU5mAe5Wd"
   },
   "outputs": [],
   "source": [
    "# Load the Custom Vision service\n",
    "trainer = CustomVisionTrainingClient(endpoint, credentials)"
   ]
  },
  {
   "cell_type": "markdown",
   "metadata": {
    "id": "eYdJo3v-Ygjd"
   },
   "source": [
    "# 2. Cognitive Custom Vision"
   ]
  },
  {
   "cell_type": "code",
   "execution_count": null,
   "metadata": {
    "colab": {
     "base_uri": "https://localhost:8080/"
    },
    "id": "JgPqcD2jfenF",
    "outputId": "47f48f6e-e56b-4313-dcc2-5c12b2251692"
   },
   "outputs": [
    {
     "name": "stdout",
     "output_type": "stream",
     "text": [
      "Creating a project....\n"
     ]
    }
   ],
   "source": [
    "# Create a new project\n",
    "print('Creating a project....')\n",
    "project_name = 'GreatMeow94'\n",
    "project = trainer.create_project(project_name)"
   ]
  },
  {
   "cell_type": "code",
   "execution_count": null,
   "metadata": {
    "id": "_kOs_ofcYpL_"
   },
   "outputs": [],
   "source": [
    "# Create tags\n",
    "\n",
    "blacknoodle_tag = trainer.create_tag(project.id, 'blacknoodle')  # create_tag(Project ID, Tag names)\n",
    "rednoodle_tag = trainer.create_tag(project.id, 'rednoodle')\n",
    "sweetandsourpork_tag = trainer.create_tag(project.id, 'sweetandsourpork')"
   ]
  },
  {
   "cell_type": "code",
   "execution_count": null,
   "metadata": {
    "colab": {
     "base_uri": "https://localhost:8080/"
    },
    "id": "z3OS4XlPnZ1o",
    "outputId": "10b4ddd6-6b11-4787-9ae8-b02908bdb85b"
   },
   "outputs": [
    {
     "name": "stdout",
     "output_type": "stream",
     "text": [
      "Training......\n",
      "Training status: Training\n",
      "Waiting for 30 seconds.....\n",
      "Training status: Training\n",
      "Waiting for 30 seconds.....\n",
      "Training status: Training\n",
      "Waiting for 30 seconds.....\n",
      "Training status: Training\n",
      "Waiting for 30 seconds.....\n",
      "Training status: Training\n",
      "Waiting for 30 seconds.....\n",
      "Training status: Training\n",
      "Waiting for 30 seconds.....\n",
      "Training status: Training\n",
      "Waiting for 30 seconds.....\n",
      "Training status: Training\n",
      "Waiting for 30 seconds.....\n",
      "Training status: Training\n",
      "Waiting for 30 seconds.....\n",
      "Training status: Completed\n",
      "Waiting for 30 seconds.....\n"
     ]
    }
   ],
   "source": [
    "# Use 'Time' module to repeat 'while Statement' every 10 seconds\n",
    "import time\n",
    "\n",
    "# Start training\n",
    "print ('Training......')\n",
    "iteration = trainer.train_project(project.id)\n",
    "while (iteration.status != 'Completed'):\n",
    "  iteration = trainer.get_iteration(project.id, iteration.id)\n",
    "  print('Training status: ' + iteration.status) \n",
    "  print('Waiting for 30 seconds.....')\n",
    "  time.sleep(30)   # Run a 'while' statement every 30 seconds"
   ]
  },
  {
   "cell_type": "code",
   "execution_count": null,
   "metadata": {
    "id": "rQwPzFfV1BPM"
   },
   "outputs": [],
   "source": [
    "# Import module\n",
    "from azure.cognitiveservices.vision.customvision.prediction import CustomVisionPredictionClient"
   ]
  },
  {
   "cell_type": "code",
   "execution_count": null,
   "metadata": {
    "id": "ckDADRwxZDsY"
   },
   "outputs": [],
   "source": [
    "prediction_key = '1ae879f101af4b4e906a068f1da15417'\n",
    "prediction_endpoint = 'https://meow94customvision-prediction.cognitiveservices.azure.com/'\n",
    "\n",
    "\n",
    "prediction_credential = ApiKeyCredentials(\n",
    "    in_headers={'Prediction-key': prediction_key})"
   ]
  },
  {
   "cell_type": "code",
   "execution_count": null,
   "metadata": {
    "id": "MtsikphaZHcD"
   },
   "outputs": [],
   "source": [
    "predictor = CustomVisionPredictionClient(prediction_endpoint,\n",
    "                                         prediction_credential)"
   ]
  },
  {
   "cell_type": "code",
   "execution_count": null,
   "metadata": {
    "id": "Iw-Y8eYT3cu-"
   },
   "outputs": [],
   "source": [
    "target_image_url = 'https://www.newiki.net/w/images/thumb/d/d9/Jjajangmyeon.jpg/1200px-Jjajangmyeon.jpg'\n",
    "result = predictor.classify_image_url(project.id,\n",
    "                                      'Iteration1',\n",
    "                                      target_image_url)"
   ]
  },
  {
   "cell_type": "code",
   "execution_count": null,
   "metadata": {
    "id": "3xNJvmD27PO0"
   },
   "outputs": [],
   "source": [
    "for prediction in result.predictions:\n",
    "  print('\\t' + prediction.tag_name + \n",
    "        ': {0:.4f}%'.format(prediction.probability * 100))"
   ]
  }
 ],
 "metadata": {
  "colab": {
   "provenance": []
  },
  "kernelspec": {
   "display_name": "Python 3 (ipykernel)",
   "language": "python",
   "name": "python3"
  },
  "language_info": {
   "codemirror_mode": {
    "name": "ipython",
    "version": 3
   },
   "file_extension": ".py",
   "mimetype": "text/x-python",
   "name": "python",
   "nbconvert_exporter": "python",
   "pygments_lexer": "ipython3",
   "version": "3.10.9"
  }
 },
 "nbformat": 4,
 "nbformat_minor": 1
}
