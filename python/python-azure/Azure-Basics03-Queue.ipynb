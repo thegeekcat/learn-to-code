{
 "cells": [
  {
   "cell_type": "markdown",
   "metadata": {
    "id": "Aqhnnip8XHLa"
   },
   "source": [
    "# 1. Preparation"
   ]
  },
  {
   "cell_type": "markdown",
   "metadata": {
    "id": "1tRQ-bdmX2q8"
   },
   "source": [
    "## 1.1. Install Queue Package"
   ]
  },
  {
   "cell_type": "code",
   "execution_count": null,
   "metadata": {
    "colab": {
     "base_uri": "https://localhost:8080/"
    },
    "id": "cH71jD43XIg9",
    "outputId": "40b639bd-c709-43e9-ee09-6e90427e3369"
   },
   "outputs": [
    {
     "name": "stdout",
     "output_type": "stream",
     "text": [
      "Looking in indexes: https://pypi.org/simple, https://us-python.pkg.dev/colab-wheels/public/simple/\n",
      "Requirement already satisfied: azure-storage-queue==2.1.0 in /usr/local/lib/python3.9/dist-packages (2.1.0)\n",
      "Requirement already satisfied: azure-common>=1.1.5 in /usr/local/lib/python3.9/dist-packages (from azure-storage-queue==2.1.0) (1.1.28)\n",
      "Requirement already satisfied: azure-storage-common~=2.1 in /usr/local/lib/python3.9/dist-packages (from azure-storage-queue==2.1.0) (2.1.0)\n",
      "Requirement already satisfied: requests in /usr/local/lib/python3.9/dist-packages (from azure-storage-common~=2.1->azure-storage-queue==2.1.0) (2.27.1)\n",
      "Requirement already satisfied: cryptography in /usr/local/lib/python3.9/dist-packages (from azure-storage-common~=2.1->azure-storage-queue==2.1.0) (40.0.2)\n",
      "Requirement already satisfied: python-dateutil in /usr/local/lib/python3.9/dist-packages (from azure-storage-common~=2.1->azure-storage-queue==2.1.0) (2.8.2)\n",
      "Requirement already satisfied: cffi>=1.12 in /usr/local/lib/python3.9/dist-packages (from cryptography->azure-storage-common~=2.1->azure-storage-queue==2.1.0) (1.15.1)\n",
      "Requirement already satisfied: six>=1.5 in /usr/local/lib/python3.9/dist-packages (from python-dateutil->azure-storage-common~=2.1->azure-storage-queue==2.1.0) (1.16.0)\n",
      "Requirement already satisfied: idna<4,>=2.5 in /usr/local/lib/python3.9/dist-packages (from requests->azure-storage-common~=2.1->azure-storage-queue==2.1.0) (3.4)\n",
      "Requirement already satisfied: certifi>=2017.4.17 in /usr/local/lib/python3.9/dist-packages (from requests->azure-storage-common~=2.1->azure-storage-queue==2.1.0) (2022.12.7)\n",
      "Requirement already satisfied: urllib3<1.27,>=1.21.1 in /usr/local/lib/python3.9/dist-packages (from requests->azure-storage-common~=2.1->azure-storage-queue==2.1.0) (1.26.15)\n",
      "Requirement already satisfied: charset-normalizer~=2.0.0 in /usr/local/lib/python3.9/dist-packages (from requests->azure-storage-common~=2.1->azure-storage-queue==2.1.0) (2.0.12)\n",
      "Requirement already satisfied: pycparser in /usr/local/lib/python3.9/dist-packages (from cffi>=1.12->cryptography->azure-storage-common~=2.1->azure-storage-queue==2.1.0) (2.21)\n"
     ]
    }
   ],
   "source": [
    "# Install the Package\n",
    "!pip install azure-storage-queue==2.1.0"
   ]
  },
  {
   "cell_type": "code",
   "execution_count": null,
   "metadata": {
    "id": "hBJ_zNa2W0Yo"
   },
   "outputs": [],
   "source": [
    "# Import modules\n",
    "from azure.storage.queue import QueueService, QueueMessageFormat"
   ]
  },
  {
   "cell_type": "markdown",
   "metadata": {
    "id": "HwB6UgzucCoS"
   },
   "source": [
    "## 1.2. Connect to Azure Queue"
   ]
  },
  {
   "cell_type": "code",
   "execution_count": null,
   "metadata": {
    "id": "qoj68l4TXrAc"
   },
   "outputs": [],
   "source": [
    "# Define a Connection String of Azure Storage File\n",
    "connect_str = 'DefaultEndpointsProtocol=https;AccountName=meow94storage;AccountKey=fA9o3JiS3RV09nYlLK+y+9mH4sP/uDgyOhTCKsXpoj2LMjCwvOLC67vY8PmwiwvgLO8GvhsZ/iWj+AStUq6zzQ==;EndpointSuffix=core.windows.net'\n"
   ]
  },
  {
   "cell_type": "code",
   "execution_count": null,
   "metadata": {
    "id": "1arzN4gQYGH1"
   },
   "outputs": [],
   "source": [
    "# Create a Queue service and connect to Azure Queue\n",
    "queue_name = 'queue-myqueue'\n",
    "queue_service = QueueService(connection_string=connect_str)"
   ]
  },
  {
   "cell_type": "code",
   "execution_count": null,
   "metadata": {
    "colab": {
     "base_uri": "https://localhost:8080/"
    },
    "id": "_IXeZL0HY0Cx",
    "outputId": "afe28bd8-4db2-4831-b9e9-b6be00cfb9e5"
   },
   "outputs": [
    {
     "data": {
      "text/plain": [
       "False"
      ]
     },
     "execution_count": 5,
     "metadata": {},
     "output_type": "execute_result"
    }
   ],
   "source": [
    "# Get the Queue\n",
    "queue_service.create_queue(queue_name)"
   ]
  },
  {
   "cell_type": "markdown",
   "metadata": {
    "id": "sicqFNDhcIpk"
   },
   "source": [
    "# 2. Azure Queue"
   ]
  },
  {
   "cell_type": "markdown",
   "metadata": {
    "id": "56lwI327cK_0"
   },
   "source": [
    "## 2.1. Define Encode and Decode"
   ]
  },
  {
   "cell_type": "code",
   "execution_count": null,
   "metadata": {
    "id": "N79Q8IQUcM9j"
   },
   "outputs": [],
   "source": [
    "# Defind an Encode\n",
    "queue_service.encode_function = QueueMessageFormat.binary_base64encode\n",
    "\n",
    "# Defind an Decode\n",
    "queue_service.deconde_function = QueueMessageFormat.binary_base64decode"
   ]
  },
  {
   "cell_type": "code",
   "execution_count": null,
   "metadata": {
    "id": "pacR-qmHcKRC"
   },
   "outputs": [],
   "source": [
    "# Import module\n",
    "import base64"
   ]
  },
  {
   "cell_type": "markdown",
   "metadata": {
    "id": "7TIUr6jHha2v"
   },
   "source": [
    "## 2.2. Encode "
   ]
  },
  {
   "cell_type": "code",
   "execution_count": null,
   "metadata": {
    "colab": {
     "base_uri": "https://localhost:8080/"
    },
    "id": "9Cwinhjpga7A",
    "outputId": "75799012-a40c-4e94-a1d3-15bf7c3c7c75"
   },
   "outputs": [
    {
     "name": "stdout",
     "output_type": "stream",
     "text": [
      "Adding message: Hello Python!\n"
     ]
    }
   ],
   "source": [
    "# Creat a message for test\n",
    "message = 'Hello Python!'\n",
    "print('Adding message: ' + message)"
   ]
  },
  {
   "cell_type": "code",
   "execution_count": null,
   "metadata": {
    "id": "3FfGOic2gkKr"
   },
   "outputs": [],
   "source": [
    "# Encode the test\n",
    "message = base64.b64encode(message.encode('utf-8'))"
   ]
  },
  {
   "cell_type": "code",
   "execution_count": null,
   "metadata": {
    "colab": {
     "base_uri": "https://localhost:8080/"
    },
    "id": "NjitUmUlgv2c",
    "outputId": "605deb41-e998-4e58-d96e-48a531ceee79"
   },
   "outputs": [
    {
     "data": {
      "text/plain": [
       "<azure.storage.queue.models.QueueMessage at 0x7f42b6b25e50>"
      ]
     },
     "execution_count": 10,
     "metadata": {},
     "output_type": "execute_result"
    }
   ],
   "source": [
    "# Save the message in a queue\n",
    "queue_service.put_message(queue_name, message)"
   ]
  },
  {
   "cell_type": "markdown",
   "metadata": {
    "id": "OrxPtTEchdPv"
   },
   "source": [
    "## 2.3. Decode"
   ]
  },
  {
   "cell_type": "code",
   "execution_count": null,
   "metadata": {
    "colab": {
     "base_uri": "https://localhost:8080/"
    },
    "id": "B2-piKl1g7P7",
    "outputId": "5a78392e-4137-4006-af0a-7241827d187f"
   },
   "outputs": [
    {
     "name": "stdout",
     "output_type": "stream",
     "text": [
      "Peeked message: SGVsbG8gUHl0aG9uIQ==\n"
     ]
    }
   ],
   "source": [
    "# Get the message by Decoding (The message is remaining in the queue)\n",
    "messages = queue_service.peek_messages(queue_name)\n",
    "\n",
    "for peeked_message in messages:\n",
    "  message = base64.b64decode(peeked_message.content)\n",
    "  print('Peeked message: ' + message.decode('utf-8'))"
   ]
  },
  {
   "cell_type": "code",
   "execution_count": null,
   "metadata": {
    "colab": {
     "base_uri": "https://localhost:8080/"
    },
    "id": "PiiI_PLuivWh",
    "outputId": "e45d23e5-ddb7-4384-b3c9-36fff6809399"
   },
   "outputs": [
    {
     "name": "stdout",
     "output_type": "stream",
     "text": [
      "Got message: SGVsbG8gUHl0aG9uIQ==\n"
     ]
    }
   ],
   "source": [
    "# Decode and get the message (The message is removed in the queue)\n",
    "messages = queue_service.get_messages(queue_name)\n",
    "\n",
    "for msg in messages:\n",
    "  message = base64.b64decode(msg.content)\n",
    "  print('Got message: ' + message.decode('utf-8'))"
   ]
  },
  {
   "cell_type": "markdown",
   "metadata": {
    "id": "q6miEMb8kzi4"
   },
   "source": [
    "# 3. Delete Queues"
   ]
  },
  {
   "cell_type": "code",
   "execution_count": null,
   "metadata": {
    "colab": {
     "base_uri": "https://localhost:8080/"
    },
    "id": "SRzmN_gEk0zb",
    "outputId": "93ebcd76-a700-412d-c8b5-b0ef18d1e745"
   },
   "outputs": [
    {
     "data": {
      "text/plain": [
       "True"
      ]
     },
     "execution_count": 13,
     "metadata": {},
     "output_type": "execute_result"
    }
   ],
   "source": [
    "# Delete Queues\n",
    "queue_service.delete_queue(queue_name)"
   ]
  }
 ],
 "metadata": {
  "colab": {
   "provenance": []
  },
  "kernelspec": {
   "display_name": "Python 3 (ipykernel)",
   "language": "python",
   "name": "python3"
  },
  "language_info": {
   "codemirror_mode": {
    "name": "ipython",
    "version": 3
   },
   "file_extension": ".py",
   "mimetype": "text/x-python",
   "name": "python",
   "nbconvert_exporter": "python",
   "pygments_lexer": "ipython3",
   "version": "3.10.9"
  }
 },
 "nbformat": 4,
 "nbformat_minor": 1
}
