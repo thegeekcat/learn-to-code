{
 "cells": [
  {
   "cell_type": "markdown",
   "metadata": {
    "id": "sTkvy3Tl9I5e"
   },
   "source": [
    "# 1. Preparation"
   ]
  },
  {
   "cell_type": "code",
   "execution_count": null,
   "metadata": {
    "colab": {
     "base_uri": "https://localhost:8080/"
    },
    "id": "GXpdT3Xu9LG5",
    "outputId": "90fe9c54-e80b-4846-be1b-49ce9145a6f2"
   },
   "outputs": [
    {
     "name": "stdout",
     "output_type": "stream",
     "text": [
      "Looking in indexes: https://pypi.org/simple, https://us-python.pkg.dev/colab-wheels/public/simple/\n",
      "Collecting azure-storage-file\n",
      "  Downloading azure_storage_file-2.1.0-py2.py3-none-any.whl (36 kB)\n",
      "Collecting azure-common>=1.1.5\n",
      "  Downloading azure_common-1.1.28-py2.py3-none-any.whl (14 kB)\n",
      "Collecting azure-storage-common~=2.1\n",
      "  Downloading azure_storage_common-2.1.0-py2.py3-none-any.whl (47 kB)\n",
      "\u001b[2K     \u001b[90m━━━━━━━━━━━━━━━━━━━━━━━━━━━━━━━━━━━━━━━━\u001b[0m \u001b[32m47.8/47.8 kB\u001b[0m \u001b[31m2.0 MB/s\u001b[0m eta \u001b[36m0:00:00\u001b[0m\n",
      "\u001b[?25hRequirement already satisfied: python-dateutil in /usr/local/lib/python3.9/dist-packages (from azure-storage-common~=2.1->azure-storage-file) (2.8.2)\n",
      "Requirement already satisfied: cryptography in /usr/local/lib/python3.9/dist-packages (from azure-storage-common~=2.1->azure-storage-file) (40.0.2)\n",
      "Requirement already satisfied: requests in /usr/local/lib/python3.9/dist-packages (from azure-storage-common~=2.1->azure-storage-file) (2.27.1)\n",
      "Requirement already satisfied: cffi>=1.12 in /usr/local/lib/python3.9/dist-packages (from cryptography->azure-storage-common~=2.1->azure-storage-file) (1.15.1)\n",
      "Requirement already satisfied: six>=1.5 in /usr/local/lib/python3.9/dist-packages (from python-dateutil->azure-storage-common~=2.1->azure-storage-file) (1.16.0)\n",
      "Requirement already satisfied: certifi>=2017.4.17 in /usr/local/lib/python3.9/dist-packages (from requests->azure-storage-common~=2.1->azure-storage-file) (2022.12.7)\n",
      "Requirement already satisfied: urllib3<1.27,>=1.21.1 in /usr/local/lib/python3.9/dist-packages (from requests->azure-storage-common~=2.1->azure-storage-file) (1.26.15)\n",
      "Requirement already satisfied: idna<4,>=2.5 in /usr/local/lib/python3.9/dist-packages (from requests->azure-storage-common~=2.1->azure-storage-file) (3.4)\n",
      "Requirement already satisfied: charset-normalizer~=2.0.0 in /usr/local/lib/python3.9/dist-packages (from requests->azure-storage-common~=2.1->azure-storage-file) (2.0.12)\n",
      "Requirement already satisfied: pycparser in /usr/local/lib/python3.9/dist-packages (from cffi>=1.12->cryptography->azure-storage-common~=2.1->azure-storage-file) (2.21)\n",
      "Installing collected packages: azure-common, azure-storage-common, azure-storage-file\n",
      "Successfully installed azure-common-1.1.28 azure-storage-common-2.1.0 azure-storage-file-2.1.0\n"
     ]
    }
   ],
   "source": [
    "# Install 'Azure Storage File'\n",
    "!pip install azure-storage-file"
   ]
  },
  {
   "cell_type": "code",
   "execution_count": null,
   "metadata": {
    "id": "YuQiF6Jw86dK"
   },
   "outputs": [],
   "source": [
    "# Import modules\n",
    "from azure.storage.file import FileService "
   ]
  },
  {
   "cell_type": "markdown",
   "metadata": {
    "id": "xL33FKR3XQlF"
   },
   "source": [
    "# 2. Microsoft File Storage"
   ]
  },
  {
   "cell_type": "markdown",
   "metadata": {
    "id": "fRUajw05HkuG"
   },
   "source": [
    "## 2.1. Mount a new Azure File Storage"
   ]
  },
  {
   "cell_type": "code",
   "execution_count": null,
   "metadata": {
    "id": "0lkUqza8AMQz"
   },
   "outputs": [],
   "source": [
    "# Mount a new Azure File Storage as a drive\n",
    "file_service = FileService(account_name='meow94storage',\n",
    "                           account_key='fA9o3JiS3RV09nYlLK+y+9mH4sP/uDgyOhTCKsXpoj2LMjCwvOLC67vY8PmwiwvgLO8GvhsZ/iWj+AStUq6zzQ==')\n"
   ]
  },
  {
   "cell_type": "code",
   "execution_count": null,
   "metadata": {
    "colab": {
     "base_uri": "https://localhost:8080/"
    },
    "id": "lhbPGpBnA5b8",
    "outputId": "cadd52bb-cadc-4177-ffc6-caf346dcab6e"
   },
   "outputs": [
    {
     "data": {
      "text/plain": [
       "True"
      ]
     },
     "execution_count": 5,
     "metadata": {},
     "output_type": "execute_result"
    }
   ],
   "source": [
    "#Add a new Fileshare\n",
    "file_service.create_share('myshare')"
   ]
  },
  {
   "cell_type": "markdown",
   "metadata": {
    "id": "9wU78w_fBAqJ"
   },
   "source": [
    "## 2.2. Add a new Directory to Azure File Share"
   ]
  },
  {
   "cell_type": "code",
   "execution_count": null,
   "metadata": {
    "colab": {
     "base_uri": "https://localhost:8080/"
    },
    "id": "C-0mbftWHq9F",
    "outputId": "94894317-2b44-4cd6-9879-f9b79dff2cb5"
   },
   "outputs": [
    {
     "data": {
      "text/plain": [
       "True"
      ]
     },
     "execution_count": 6,
     "metadata": {},
     "output_type": "execute_result"
    }
   ],
   "source": [
    "# Azure file Share에 디렉토리 생성\n",
    "file_service.create_directory('myshare', 'directory_01')  # create_directory('name of file share', 'Name of new directory')"
   ]
  },
  {
   "cell_type": "markdown",
   "metadata": {
    "id": "SxDOY7UjKq5k"
   },
   "source": [
    "## 2.3. Upload to Azure File Storage"
   ]
  },
  {
   "cell_type": "code",
   "execution_count": null,
   "metadata": {
    "id": "TI9L9aYGIq9t"
   },
   "outputs": [],
   "source": [
    "# Import module related to content settings\n",
    "from azure.storage.file import ContentSettings"
   ]
  },
  {
   "cell_type": "code",
   "execution_count": null,
   "metadata": {
    "id": "Y77TYgWJIq5a"
   },
   "outputs": [],
   "source": [
    "file_service.create_file_from_path(\n",
    "    'myshare',       # Name of File Share to upload\n",
    "    'directory_01',  # Folder path to upload\n",
    "    'meow1.png',     # Set a name of file to upload\n",
    "    '1.png'          # Name of file to upload on local storage\n",
    ")"
   ]
  },
  {
   "cell_type": "markdown",
   "metadata": {
    "id": "FzowLKIUKunK"
   },
   "source": [
    "## 2.3. Check a Directory"
   ]
  },
  {
   "cell_type": "code",
   "execution_count": null,
   "metadata": {
    "colab": {
     "base_uri": "https://localhost:8080/"
    },
    "id": "OJotEiGRKwpy",
    "outputId": "c6e24af0-9742-408f-9717-775c70b06250"
   },
   "outputs": [
    {
     "name": "stdout",
     "output_type": "stream",
     "text": [
      "meow1.png\n",
      "myfile\n",
      "directory_01\n"
     ]
    }
   ],
   "source": [
    "# Get a list of files in Directory\n",
    "generator = file_service.list_directories_and_files('myshare')  # list_directories_and_files(Name of FileShare)\n",
    "\n",
    "# Print contents of files\n",
    "for file_or_dir in generator:\n",
    "  print(file_or_dir.name)\n"
   ]
  },
  {
   "cell_type": "markdown",
   "metadata": {
    "id": "z2h8xIfXLG6O"
   },
   "source": [
    "## 2.4. Download files from Azure File Storage to Local storage"
   ]
  },
  {
   "cell_type": "code",
   "execution_count": null,
   "metadata": {
    "colab": {
     "base_uri": "https://localhost:8080/"
    },
    "id": "7dBk97EHLJAP",
    "outputId": "86037c54-9a68-436a-8977-95e6e4b25a7e"
   },
   "outputs": [
    {
     "data": {
      "text/plain": [
       "<azure.storage.file.models.File at 0x7f117c97c8e0>"
      ]
     },
     "execution_count": 12,
     "metadata": {},
     "output_type": "execute_result"
    }
   ],
   "source": [
    "# Download\n",
    "file_service.get_file_to_path('myshare',            # name of File Share\n",
    "                              None,                 # No specific paths\n",
    "                              'meow1.png',          # Target file name to download on Azure server\n",
    "                              'meow1_download.png') # File name to save on local storage"
   ]
  },
  {
   "cell_type": "markdown",
   "metadata": {
    "id": "K84-HLKMMk8P"
   },
   "source": [
    "## 2.5. Snapshot "
   ]
  },
  {
   "cell_type": "code",
   "execution_count": null,
   "metadata": {
    "id": "n_irp4GwMmUM"
   },
   "outputs": [],
   "source": [
    "# Snapshot: Snapshot is a backup image to restore files and directories"
   ]
  },
  {
   "cell_type": "code",
   "execution_count": null,
   "metadata": {
    "id": "VfNBsnm-M2ZO"
   },
   "outputs": [],
   "source": [
    "# Create a metadata for test\n",
    "metadata = {'foo' : 'bar'}"
   ]
  },
  {
   "cell_type": "code",
   "execution_count": null,
   "metadata": {
    "id": "V2jXvSynRbi9"
   },
   "outputs": [],
   "source": [
    "# Create a Snapshot\n",
    "snapshot = file_service.snapshot_share('myshare',          # Set a storage to make a snapshot\n",
    "                                       metadata=metadata)  # Metadata for snapshot"
   ]
  },
  {
   "cell_type": "code",
   "execution_count": null,
   "metadata": {
    "id": "gs0o8DbNRb2n"
   },
   "outputs": [],
   "source": [
    "# Get a list of Snapshots from Azure\n",
    "share = list(file_service.list_shares(include_snapshots=True))"
   ]
  },
  {
   "cell_type": "code",
   "execution_count": null,
   "metadata": {
    "colab": {
     "base_uri": "https://localhost:8080/"
    },
    "id": "foqvw7acR0kT",
    "outputId": "99771066-7b48-4ff1-f757-1835ac623d4e"
   },
   "outputs": [
    {
     "name": "stdout",
     "output_type": "stream",
     "text": [
      "meow1.png\n",
      "myfile\n",
      "directory_01\n"
     ]
    }
   ],
   "source": [
    "# Get a list of directories and files\n",
    "\n",
    "directories_and_files = list(file_service.list_directories_and_files('myshare',   # Name of File Share\n",
    "                                                                     snapshot='2023-04-20T05:49:37.0000000Z')) # Name of Snapshot\n",
    "# Print a list of Files and Directories\n",
    "for file_or_dir in directories_and_files:\n",
    "  print(file_or_dir.name)"
   ]
  },
  {
   "cell_type": "markdown",
   "metadata": {
    "id": "G25pwf41WOca"
   },
   "source": [
    "## 2.6. Delete"
   ]
  },
  {
   "cell_type": "code",
   "execution_count": null,
   "metadata": {
    "colab": {
     "base_uri": "https://localhost:8080/"
    },
    "id": "H56IR7bfU3LC",
    "outputId": "f70af749-c787-4ec2-a09b-ed6899a93f77"
   },
   "outputs": [
    {
     "data": {
      "text/plain": [
       "True"
      ]
     },
     "execution_count": 29,
     "metadata": {},
     "output_type": "execute_result"
    }
   ],
   "source": [
    "# Delete Snapshots\n",
    "file_service.delete_share('myshare',\n",
    "                          snapshot='2023-04-20T05:49:37.0000000Z')"
   ]
  },
  {
   "cell_type": "code",
   "execution_count": null,
   "metadata": {
    "id": "Lpmsqgo0VGbV"
   },
   "outputs": [],
   "source": [
    "# Delete File Shares\n",
    "file_service.delete_file('myshare',\n",
    "                         None,     \n",
    "                         '1.png')  # File name to be deleted"
   ]
  },
  {
   "cell_type": "code",
   "execution_count": null,
   "metadata": {
    "id": "FpUMfG1tZE0T"
   },
   "outputs": [],
   "source": [
    "# Delete a directory in a Snapshot image\n",
    "file_service.delete_directory('myshare', # Name of File Share\n",
    "                              'directory_01')  # Folders to be deleted"
   ]
  },
  {
   "cell_type": "code",
   "execution_count": null,
   "metadata": {
    "id": "l8Nt1fK5WROg"
   },
   "outputs": [],
   "source": [
    "# Delete File Share\n",
    "file_service.delete_directory('myshare')  # Name of File Share to be deleted"
   ]
  }
 ],
 "metadata": {
  "colab": {
   "provenance": []
  },
  "kernelspec": {
   "display_name": "Python 3 (ipykernel)",
   "language": "python",
   "name": "python3"
  },
  "language_info": {
   "codemirror_mode": {
    "name": "ipython",
    "version": 3
   },
   "file_extension": ".py",
   "mimetype": "text/x-python",
   "name": "python",
   "nbconvert_exporter": "python",
   "pygments_lexer": "ipython3",
   "version": "3.10.9"
  }
 },
 "nbformat": 4,
 "nbformat_minor": 1
}
