{
 "cells": [
  {
   "cell_type": "markdown",
   "metadata": {
    "id": "3Nhu9DdQmEEp"
   },
   "source": [
    "# 1. Preparation\n"
   ]
  },
  {
   "cell_type": "code",
   "execution_count": null,
   "metadata": {
    "colab": {
     "base_uri": "https://localhost:8080/"
    },
    "id": "1M3dEPuZmFiU",
    "outputId": "a279904b-13ec-459e-ccf0-e0c9b009a14b"
   },
   "outputs": [
    {
     "name": "stdout",
     "output_type": "stream",
     "text": [
      "Looking in indexes: https://pypi.org/simple, https://us-python.pkg.dev/colab-wheels/public/simple/\n",
      "Requirement already satisfied: azure-storage-blob in /usr/local/lib/python3.9/dist-packages (12.16.0)\n",
      "Requirement already satisfied: azure-identity in /usr/local/lib/python3.9/dist-packages (1.12.0)\n",
      "Requirement already satisfied: isodate>=0.6.1 in /usr/local/lib/python3.9/dist-packages (from azure-storage-blob) (0.6.1)\n",
      "Requirement already satisfied: azure-core<2.0.0,>=1.26.0 in /usr/local/lib/python3.9/dist-packages (from azure-storage-blob) (1.26.4)\n",
      "Requirement already satisfied: cryptography>=2.1.4 in /usr/local/lib/python3.9/dist-packages (from azure-storage-blob) (40.0.2)\n",
      "Requirement already satisfied: typing-extensions>=4.0.1 in /usr/local/lib/python3.9/dist-packages (from azure-storage-blob) (4.5.0)\n",
      "Requirement already satisfied: msal-extensions<2.0.0,>=0.3.0 in /usr/local/lib/python3.9/dist-packages (from azure-identity) (1.0.0)\n",
      "Requirement already satisfied: six>=1.12.0 in /usr/local/lib/python3.9/dist-packages (from azure-identity) (1.16.0)\n",
      "Requirement already satisfied: msal<2.0.0,>=1.12.0 in /usr/local/lib/python3.9/dist-packages (from azure-identity) (1.22.0)\n",
      "Requirement already satisfied: requests>=2.18.4 in /usr/local/lib/python3.9/dist-packages (from azure-core<2.0.0,>=1.26.0->azure-storage-blob) (2.27.1)\n",
      "Requirement already satisfied: cffi>=1.12 in /usr/local/lib/python3.9/dist-packages (from cryptography>=2.1.4->azure-storage-blob) (1.15.1)\n",
      "Requirement already satisfied: PyJWT[crypto]<3,>=1.0.0 in /usr/local/lib/python3.9/dist-packages (from msal<2.0.0,>=1.12.0->azure-identity) (2.6.0)\n",
      "Requirement already satisfied: portalocker<3,>=1.0 in /usr/local/lib/python3.9/dist-packages (from msal-extensions<2.0.0,>=0.3.0->azure-identity) (2.7.0)\n",
      "Requirement already satisfied: pycparser in /usr/local/lib/python3.9/dist-packages (from cffi>=1.12->cryptography>=2.1.4->azure-storage-blob) (2.21)\n",
      "Requirement already satisfied: urllib3<1.27,>=1.21.1 in /usr/local/lib/python3.9/dist-packages (from requests>=2.18.4->azure-core<2.0.0,>=1.26.0->azure-storage-blob) (1.26.15)\n",
      "Requirement already satisfied: charset-normalizer~=2.0.0 in /usr/local/lib/python3.9/dist-packages (from requests>=2.18.4->azure-core<2.0.0,>=1.26.0->azure-storage-blob) (2.0.12)\n",
      "Requirement already satisfied: certifi>=2017.4.17 in /usr/local/lib/python3.9/dist-packages (from requests>=2.18.4->azure-core<2.0.0,>=1.26.0->azure-storage-blob) (2022.12.7)\n",
      "Requirement already satisfied: idna<4,>=2.5 in /usr/local/lib/python3.9/dist-packages (from requests>=2.18.4->azure-core<2.0.0,>=1.26.0->azure-storage-blob) (3.4)\n"
     ]
    }
   ],
   "source": [
    "# Install Azure Storage(Blob) and Identity\n",
    "\n",
    "!pip install azure-storage-blob azure-identity"
   ]
  },
  {
   "cell_type": "code",
   "execution_count": null,
   "metadata": {
    "id": "uZWSD6EplW9s"
   },
   "outputs": [],
   "source": [
    "# Import modules\n",
    "\n",
    "import os, uuid   # os: Manage directories\n",
    "from azure.identity import DefaultAzureCredential  # Authentification\n",
    "from azure.storage.blob import BlobServiceClient, BlobClient, ContainerClient   # Packages for Blob"
   ]
  },
  {
   "cell_type": "markdown",
   "metadata": {
    "id": "-RFLbnJ5CCp-"
   },
   "source": [
    "# 2. Microsoft Azure Blob(Storage)"
   ]
  },
  {
   "cell_type": "markdown",
   "metadata": {
    "id": "KvZgATGRoQgL"
   },
   "source": [
    "## 2.1. Connect to Blob Service"
   ]
  },
  {
   "cell_type": "code",
   "execution_count": null,
   "metadata": {
    "id": "AAasSnojoRqS"
   },
   "outputs": [],
   "source": [
    "# Use Connection String from Azure\n",
    "connect_str = 'DefaultEndpointsProtocol=https;AccountName=meow94storage;AccountKey=fA9o3JiS3RV09nYlLK+y+9mH4sP/uDgyOhTCKsXpoj2LMjCwvOLC67vY8PmwiwvgLO8GvhsZ/iWj+AStUq6zzQ==;EndpointSuffix=core.windows.net'\n",
    "\n",
    "# Connect to Blobk service\n",
    "blob_service_client = BlobServiceClient.from_connection_string(connect_str)"
   ]
  },
  {
   "cell_type": "markdown",
   "metadata": {
    "id": "e8x9NQCxpNBT"
   },
   "source": [
    "## 2.2. Create a Container using Blob Service"
   ]
  },
  {
   "cell_type": "code",
   "execution_count": null,
   "metadata": {
    "id": "YSYn6brHpPuk"
   },
   "outputs": [],
   "source": [
    "# Name a container\n",
    "container_name = 'test3container'\n",
    "\n",
    "# Create a container\n",
    "container_client = blob_service_client.create_container(container_name)"
   ]
  },
  {
   "cell_type": "markdown",
   "metadata": {
    "id": "VaG7Xb8zpz64"
   },
   "source": [
    "## 2.3. Create a Local Directory uploading to Blob Service"
   ]
  },
  {
   "cell_type": "code",
   "execution_count": null,
   "metadata": {
    "id": "826EgAKCp22A"
   },
   "outputs": [],
   "source": [
    "# Create a path in the local storage\n",
    "local_path = './data'\n",
    "os.mkdir(local_path)    # mkdir = make a directory\n"
   ]
  },
  {
   "cell_type": "code",
   "execution_count": null,
   "metadata": {
    "id": "rKOiSnu0m3Td"
   },
   "outputs": [],
   "source": [
    "# Make a text file in the local directory\n",
    "local_file_name = 'welcome' + '.txt'\n",
    "upload_file_path = os.path.join(local_path, local_file_name)"
   ]
  },
  {
   "cell_type": "code",
   "execution_count": null,
   "metadata": {
    "id": "04lYEeNZtOL1"
   },
   "outputs": [],
   "source": [
    "# Create/Open a file -> Edit file -> Close File\n",
    "file = open(upload_file_path, mode='w')  # If the file is not existed, create a new file and open with 'w' mode\n",
    "file.write('Welcome to Python!')\n",
    "file.close()  # close 안하면 파일 잘 깨짐"
   ]
  },
  {
   "cell_type": "markdown",
   "metadata": {
    "id": "9XvBf6BmtUDh"
   },
   "source": [
    "## 2.4. Upload files to Blob"
   ]
  },
  {
   "cell_type": "code",
   "execution_count": null,
   "metadata": {
    "id": "aSlIzwyEtWXu"
   },
   "outputs": [],
   "source": [
    "# Get Blob service\n",
    "blob_client = blob_service_client.get_blob_client(container=container_name,\n",
    "                                                  blob=local_file_name)\n",
    "\n",
    "# Upload files\n",
    "with open(file=upload_file_path, mode='rb') as data:\n",
    "  blob_client.upload_blob(data)\n",
    "\n",
    "# File Modes\n",
    "# w: text written mode\n",
    "# r: text read mode\n",
    "# wb: binary written mode\n",
    "# rb: binary read mode"
   ]
  },
  {
   "cell_type": "code",
   "execution_count": null,
   "metadata": {
    "colab": {
     "base_uri": "https://localhost:8080/"
    },
    "id": "Gei7EQx8BWp1",
    "outputId": "5fdc5e17-dd2e-4ef4-fa9d-290ee83a6017"
   },
   "outputs": [
    {
     "name": "stdout",
     "output_type": "stream",
     "text": [
      "\n",
      "Listing blobs\n",
      "\twelcome.txt\n"
     ]
    }
   ],
   "source": [
    "print ('\\nListing blobs')\n",
    "\n",
    "blob_list = container_client.list_blobs()\n",
    "for blob in blob_list:\n",
    "  print('\\t' + blob.name)  # \\t: tab"
   ]
  },
  {
   "cell_type": "code",
   "execution_count": null,
   "metadata": {
    "colab": {
     "base_uri": "https://localhost:8080/"
    },
    "id": "YRukQiqBQ2Vi",
    "outputId": "3699ec1a-4521-4e62-cb57-8ef07dd31a33"
   },
   "outputs": [
    {
     "data": {
      "text/plain": [
       "{'name': 'welcome.txt', 'container': 'test3container', 'snapshot': None, 'version_id': None, 'is_current_version': None, 'blob_type': <BlobType.BLOCKBLOB: 'BlockBlob'>, 'metadata': {}, 'encrypted_metadata': None, 'last_modified': datetime.datetime(2023, 4, 20, 1, 21, 50, tzinfo=datetime.timezone.utc), 'etag': '0x8DB413D9E5E17B8', 'size': 18, 'content_range': None, 'append_blob_committed_block_count': None, 'is_append_blob_sealed': None, 'page_blob_sequence_number': None, 'server_encrypted': True, 'copy': {'id': None, 'source': None, 'status': None, 'progress': None, 'completion_time': None, 'status_description': None, 'incremental_copy': None, 'destination_snapshot': None}, 'content_settings': {'content_type': 'application/octet-stream', 'content_encoding': None, 'content_language': None, 'content_md5': bytearray(b'\\xca\\x0f\\xe68\\xd1\\xb1\\xfa\"\\x8b\\x99&\\x82\\xf9$o\\xce'), 'content_disposition': None, 'cache_control': None}, 'lease': {'status': 'unlocked', 'state': 'available', 'duration': None}, 'blob_tier': 'Hot', 'rehydrate_priority': None, 'blob_tier_change_time': None, 'blob_tier_inferred': True, 'deleted': None, 'deleted_time': None, 'remaining_retention_days': None, 'creation_time': datetime.datetime(2023, 4, 20, 1, 21, 50, tzinfo=datetime.timezone.utc), 'archive_status': None, 'encryption_key_sha256': None, 'encryption_scope': None, 'request_server_encrypted': None, 'object_replication_source_properties': [], 'object_replication_destination_policy': None, 'last_accessed_on': None, 'tag_count': None, 'tags': None, 'immutability_policy': {'expiry_time': None, 'policy_mode': None}, 'has_legal_hold': None, 'has_versions_only': None}"
      ]
     },
     "execution_count": 33,
     "metadata": {},
     "output_type": "execute_result"
    }
   ],
   "source": [
    "blob"
   ]
  },
  {
   "cell_type": "markdown",
   "metadata": {
    "id": "VZnMVNwvRCDN"
   },
   "source": [
    "## 2.5. Download files to Colab Local from Blob Service"
   ]
  },
  {
   "cell_type": "code",
   "execution_count": null,
   "metadata": {
    "colab": {
     "base_uri": "https://localhost:8080/"
    },
    "id": "H2iU1_umRCis",
    "outputId": "a1b5b12d-a75e-4826-afd7-f08ff919be37"
   },
   "outputs": [
    {
     "name": "stdout",
     "output_type": "stream",
     "text": [
      "./data/welcome_downloaded.txt\n"
     ]
    }
   ],
   "source": [
    "# Set a download path\n",
    "download_file_path = os.path.join(local_path, \n",
    "                                  str.replace(local_file_name, '.txt', '_downloaded.txt'))\n",
    "\n",
    "print(download_file_path)\n",
    "\n",
    "container_client = blob_service_client.get_container_client(container=container_name)"
   ]
  },
  {
   "cell_type": "code",
   "execution_count": null,
   "metadata": {
    "id": "WQfAvi-IQ9On"
   },
   "outputs": [],
   "source": [
    "# Open the file after download from Blob to Colab Local\n",
    "with open(file=download_file_path, mode='wb') as download_file:\n",
    "  container_client.download_blob(blob.name).readall()"
   ]
  },
  {
   "cell_type": "markdown",
   "metadata": {
    "id": "vGCeznQaVBvE"
   },
   "source": [
    "## 2.6. Delete Job Histories"
   ]
  },
  {
   "cell_type": "code",
   "execution_count": null,
   "metadata": {
    "colab": {
     "base_uri": "https://localhost:8080/"
    },
    "id": "RlFPW2XiVDJQ",
    "outputId": "4805f4c4-c5b8-4191-f05c-c02c858ab5fa"
   },
   "outputs": [
    {
     "name": "stdout",
     "output_type": "stream",
     "text": [
      "\n",
      "Press the \"y\" to begin cleaning up\n",
      "y\n",
      "Deleting blob containers....\n",
      "Deleting the local sources and downloaded files.....\n",
      "Done\n"
     ]
    }
   ],
   "source": [
    "print('\\nPress the \"y\" to begin cleaning up')\n",
    "if input() == 'y':\n",
    "\n",
    "  # Delete Azure Containers\n",
    "  print('Deleting blob containers....')\n",
    "  container_client.delete_container()\n",
    "\n",
    "  # Delete Colab local directories and downloaded files\n",
    "  print('Deleting the local sources and downloaded files.....')\n",
    "  os.remove(upload_file_path)\n",
    "  os.remove(download_file_path)\n",
    "  os.rmdir(local_path)\n",
    "\n",
    "  # Pring when it's done\n",
    "  print('Done!')"
   ]
  }
 ],
 "metadata": {
  "colab": {
   "provenance": []
  },
  "kernelspec": {
   "display_name": "Python 3 (ipykernel)",
   "language": "python",
   "name": "python3"
  },
  "language_info": {
   "codemirror_mode": {
    "name": "ipython",
    "version": 3
   },
   "file_extension": ".py",
   "mimetype": "text/x-python",
   "name": "python",
   "nbconvert_exporter": "python",
   "pygments_lexer": "ipython3",
   "version": "3.10.9"
  }
 },
 "nbformat": 4,
 "nbformat_minor": 1
}
