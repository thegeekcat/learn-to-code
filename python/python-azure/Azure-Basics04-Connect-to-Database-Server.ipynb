{
 "cells": [
  {
   "cell_type": "markdown",
   "metadata": {
    "id": "L8C-y7gFkhTq"
   },
   "source": [
    "# 1. Preparation"
   ]
  },
  {
   "cell_type": "markdown",
   "metadata": {
    "id": "2YIFR96SkjSh"
   },
   "source": [
    "## 1.1. Installation"
   ]
  },
  {
   "cell_type": "markdown",
   "metadata": {
    "id": "U0sBMeuXkpFP"
   },
   "source": [
    "### Install ODBC Driver on Windows\n"
   ]
  },
  {
   "cell_type": "markdown",
   "metadata": {
    "id": "zV3aeKMwktTv"
   },
   "source": [
    "### Install pyodbc in Python"
   ]
  },
  {
   "cell_type": "code",
   "execution_count": 1,
   "metadata": {
    "colab": {
     "base_uri": "https://localhost:8080/"
    },
    "id": "gp8xuZwTj6dk",
    "outputId": "5dad2f84-ffb0-42d5-ff9e-decb8c4bfe3c"
   },
   "outputs": [
    {
     "name": "stdout",
     "output_type": "stream",
     "text": [
      "Looking in indexes: https://pypi.org/simple, https://us-python.pkg.dev/colab-wheels/public/simple/\n",
      "Collecting pyodbc\n",
      "  Downloading pyodbc-4.0.39-cp310-cp310-manylinux_2_17_x86_64.manylinux2014_x86_64.whl (343 kB)\n",
      "\u001b[2K     \u001b[90m━━━━━━━━━━━━━━━━━━━━━━━━━━━━━━━━━━━━━━\u001b[0m \u001b[32m343.5/343.5 kB\u001b[0m \u001b[31m14.1 MB/s\u001b[0m eta \u001b[36m0:00:00\u001b[0m\n",
      "\u001b[?25hInstalling collected packages: pyodbc\n",
      "Successfully installed pyodbc-4.0.39\n"
     ]
    }
   ],
   "source": [
    "!pip install pyodbc"
   ]
  },
  {
   "cell_type": "markdown",
   "metadata": {
    "id": "9s8sxCK-k1MF"
   },
   "source": [
    "## 1.2. Make a connection to Azure DB Server"
   ]
  },
  {
   "cell_type": "code",
   "execution_count": null,
   "metadata": {
    "id": "gTN97zJGhTNn"
   },
   "outputs": [],
   "source": [
    "server = 'mysqlserver-meow94.database.windows.net'\n",
    "database = 'BikeStores'\n",
    "username = 'meow94'\n",
    "password = 'qwer1234!@#$'\n",
    "driver = '{ODBC Driver 18 for SQL Server}'\n",
    "\n",
    "cnxn = pyodbc.connect('DRIVER='+driver+';PORT=1433;SERVER='+server+';PORT=1443;DATABASE='+database+';UID='+username+';PWD='+ password)\n",
    "cursor = cnxn.cursor()"
   ]
  }
 ],
 "metadata": {
  "colab": {
   "provenance": []
  },
  "kernelspec": {
   "display_name": "Python 3 (ipykernel)",
   "language": "python",
   "name": "python3"
  },
  "language_info": {
   "codemirror_mode": {
    "name": "ipython",
    "version": 3
   },
   "file_extension": ".py",
   "mimetype": "text/x-python",
   "name": "python",
   "nbconvert_exporter": "python",
   "pygments_lexer": "ipython3",
   "version": "3.10.9"
  }
 },
 "nbformat": 4,
 "nbformat_minor": 1
}
