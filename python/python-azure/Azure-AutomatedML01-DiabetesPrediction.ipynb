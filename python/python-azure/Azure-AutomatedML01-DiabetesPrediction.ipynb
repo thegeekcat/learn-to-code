{
  "cells": [
    {
      "cell_type": "markdown",
      "source": [
        "# 1. Preparation"
      ],
      "metadata": {
        "nteract": {
          "transient": {
            "deleting": false
          }
        }
      }
    },
    {
      "cell_type": "markdown",
      "source": [
        "## 1.1. Basic Settings"
      ],
      "metadata": {
        "nteract": {
          "transient": {
            "deleting": false
          }
        }
      }
    },
    {
      "cell_type": "code",
      "source": [
        "# Import modules \r\n",
        "from azureml.core import Workspace"
      ],
      "outputs": [],
      "execution_count": 1,
      "metadata": {
        "jupyter": {
          "source_hidden": false,
          "outputs_hidden": false
        },
        "nteract": {
          "transient": {
            "deleting": false
          }
        },
        "gather": {
          "logged": 1683189202975
        }
      }
    },
    {
      "cell_type": "code",
      "source": [
        "# Define stauts of the current settings\r\n",
        "ws = Workspace.from_config()"
      ],
      "outputs": [],
      "execution_count": 2,
      "metadata": {
        "jupyter": {
          "source_hidden": false,
          "outputs_hidden": false
        },
        "nteract": {
          "transient": {
            "deleting": false
          }
        },
        "gather": {
          "logged": 1683189203863
        }
      }
    },
    {
      "cell_type": "code",
      "source": [
        "# Check information\r\n",
        "print('Workspace Same: ' + ws.name,\r\n",
        "        '\\nAzure Region: ' + ws.location,\r\n",
        "        '\\nSubscription ID: ' + ws.subscription_id,\r\n",
        "        '\\nResource Group: ' + ws.resource_group)"
      ],
      "outputs": [
        {
          "output_type": "stream",
          "name": "stdout",
          "text": "Workspace Same: labmeow94ml \nAzure Region: australiaeast \nSubscription ID: 27db5ec6-d206-4028-b5e1-6004dca5eeef \nResource Group: rg94\n"
        }
      ],
      "execution_count": 3,
      "metadata": {
        "jupyter": {
          "source_hidden": false,
          "outputs_hidden": false
        },
        "nteract": {
          "transient": {
            "deleting": false
          }
        },
        "gather": {
          "logged": 1683189203991
        }
      }
    },
    {
      "cell_type": "markdown",
      "source": [
        "## 1.2. Settings for Experiment"
      ],
      "metadata": {
        "nteract": {
          "transient": {
            "deleting": false
          }
        }
      }
    },
    {
      "cell_type": "code",
      "source": [
        "# Prepare \r\n",
        "\r\n",
        "from azureml.core import Experiment"
      ],
      "outputs": [],
      "execution_count": 4,
      "metadata": {
        "jupyter": {
          "source_hidden": false,
          "outputs_hidden": false
        },
        "nteract": {
          "transient": {
            "deleting": false
          }
        },
        "gather": {
          "logged": 1683189204137
        }
      }
    },
    {
      "cell_type": "code",
      "source": [
        "# Define Experiment\r\n",
        "experiment = Experiment(workspace=ws,\r\n",
        "                        name='diabetes-experiment')"
      ],
      "outputs": [],
      "execution_count": 5,
      "metadata": {
        "jupyter": {
          "source_hidden": false,
          "outputs_hidden": false
        },
        "nteract": {
          "transient": {
            "deleting": false
          }
        },
        "gather": {
          "logged": 1683189204339
        }
      }
    },
    {
      "cell_type": "markdown",
      "source": [
        "## 1.3. Prepare Dataset"
      ],
      "metadata": {
        "nteract": {
          "transient": {
            "deleting": false
          }
        }
      }
    },
    {
      "cell_type": "code",
      "source": [
        "# Import modules\r\n",
        "from azureml.opendatasets import Diabetes\r\n",
        "from sklearn.model_selection import train_test_split"
      ],
      "outputs": [],
      "execution_count": 6,
      "metadata": {
        "jupyter": {
          "source_hidden": false,
          "outputs_hidden": false
        },
        "nteract": {
          "transient": {
            "deleting": false
          }
        },
        "gather": {
          "logged": 1683189205329
        }
      }
    },
    {
      "cell_type": "code",
      "source": [
        "# Check the original dataset\r\n",
        "Diabetes.get_tabular_dataset().to_pandas_dataframe()\r\n",
        "# to_pandas_dataframe(): Bring data as a type of Pandas DataFrame"
      ],
      "outputs": [
        {
          "output_type": "execute_result",
          "execution_count": 7,
          "data": {
            "text/plain": "     AGE  SEX   BMI      BP   S1     S2    S3    S4      S5   S6    Y\n0     59    2  32.1  101.00  157   93.2  38.0  4.00  4.8598   87  151\n1     48    1  21.6   87.00  183  103.2  70.0  3.00  3.8918   69   75\n2     72    2  30.5   93.00  156   93.6  41.0  4.00  4.6728   85  141\n3     24    1  25.3   84.00  198  131.4  40.0  5.00  4.8903   89  206\n4     50    1  23.0  101.00  192  125.4  52.0  4.00  4.2905   80  135\n..   ...  ...   ...     ...  ...    ...   ...   ...     ...  ...  ...\n437   60    2  28.2  112.00  185  113.8  42.0  4.00  4.9836   93  178\n438   47    2  24.9   75.00  225  166.0  42.0  5.00  4.4427  102  104\n439   60    2  24.9   99.67  162  106.6  43.0  3.77  4.1271   95  132\n440   36    1  30.0   95.00  201  125.2  42.0  4.79  5.1299   85  220\n441   36    1  19.6   71.00  250  133.2  97.0  3.00  4.5951   92   57\n\n[442 rows x 11 columns]",
            "text/html": "<div>\n<style scoped>\n    .dataframe tbody tr th:only-of-type {\n        vertical-align: middle;\n    }\n\n    .dataframe tbody tr th {\n        vertical-align: top;\n    }\n\n    .dataframe thead th {\n        text-align: right;\n    }\n</style>\n<table border=\"1\" class=\"dataframe\">\n  <thead>\n    <tr style=\"text-align: right;\">\n      <th></th>\n      <th>AGE</th>\n      <th>SEX</th>\n      <th>BMI</th>\n      <th>BP</th>\n      <th>S1</th>\n      <th>S2</th>\n      <th>S3</th>\n      <th>S4</th>\n      <th>S5</th>\n      <th>S6</th>\n      <th>Y</th>\n    </tr>\n  </thead>\n  <tbody>\n    <tr>\n      <th>0</th>\n      <td>59</td>\n      <td>2</td>\n      <td>32.1</td>\n      <td>101.00</td>\n      <td>157</td>\n      <td>93.2</td>\n      <td>38.0</td>\n      <td>4.00</td>\n      <td>4.8598</td>\n      <td>87</td>\n      <td>151</td>\n    </tr>\n    <tr>\n      <th>1</th>\n      <td>48</td>\n      <td>1</td>\n      <td>21.6</td>\n      <td>87.00</td>\n      <td>183</td>\n      <td>103.2</td>\n      <td>70.0</td>\n      <td>3.00</td>\n      <td>3.8918</td>\n      <td>69</td>\n      <td>75</td>\n    </tr>\n    <tr>\n      <th>2</th>\n      <td>72</td>\n      <td>2</td>\n      <td>30.5</td>\n      <td>93.00</td>\n      <td>156</td>\n      <td>93.6</td>\n      <td>41.0</td>\n      <td>4.00</td>\n      <td>4.6728</td>\n      <td>85</td>\n      <td>141</td>\n    </tr>\n    <tr>\n      <th>3</th>\n      <td>24</td>\n      <td>1</td>\n      <td>25.3</td>\n      <td>84.00</td>\n      <td>198</td>\n      <td>131.4</td>\n      <td>40.0</td>\n      <td>5.00</td>\n      <td>4.8903</td>\n      <td>89</td>\n      <td>206</td>\n    </tr>\n    <tr>\n      <th>4</th>\n      <td>50</td>\n      <td>1</td>\n      <td>23.0</td>\n      <td>101.00</td>\n      <td>192</td>\n      <td>125.4</td>\n      <td>52.0</td>\n      <td>4.00</td>\n      <td>4.2905</td>\n      <td>80</td>\n      <td>135</td>\n    </tr>\n    <tr>\n      <th>...</th>\n      <td>...</td>\n      <td>...</td>\n      <td>...</td>\n      <td>...</td>\n      <td>...</td>\n      <td>...</td>\n      <td>...</td>\n      <td>...</td>\n      <td>...</td>\n      <td>...</td>\n      <td>...</td>\n    </tr>\n    <tr>\n      <th>437</th>\n      <td>60</td>\n      <td>2</td>\n      <td>28.2</td>\n      <td>112.00</td>\n      <td>185</td>\n      <td>113.8</td>\n      <td>42.0</td>\n      <td>4.00</td>\n      <td>4.9836</td>\n      <td>93</td>\n      <td>178</td>\n    </tr>\n    <tr>\n      <th>438</th>\n      <td>47</td>\n      <td>2</td>\n      <td>24.9</td>\n      <td>75.00</td>\n      <td>225</td>\n      <td>166.0</td>\n      <td>42.0</td>\n      <td>5.00</td>\n      <td>4.4427</td>\n      <td>102</td>\n      <td>104</td>\n    </tr>\n    <tr>\n      <th>439</th>\n      <td>60</td>\n      <td>2</td>\n      <td>24.9</td>\n      <td>99.67</td>\n      <td>162</td>\n      <td>106.6</td>\n      <td>43.0</td>\n      <td>3.77</td>\n      <td>4.1271</td>\n      <td>95</td>\n      <td>132</td>\n    </tr>\n    <tr>\n      <th>440</th>\n      <td>36</td>\n      <td>1</td>\n      <td>30.0</td>\n      <td>95.00</td>\n      <td>201</td>\n      <td>125.2</td>\n      <td>42.0</td>\n      <td>4.79</td>\n      <td>5.1299</td>\n      <td>85</td>\n      <td>220</td>\n    </tr>\n    <tr>\n      <th>441</th>\n      <td>36</td>\n      <td>1</td>\n      <td>19.6</td>\n      <td>71.00</td>\n      <td>250</td>\n      <td>133.2</td>\n      <td>97.0</td>\n      <td>3.00</td>\n      <td>4.5951</td>\n      <td>92</td>\n      <td>57</td>\n    </tr>\n  </tbody>\n</table>\n<p>442 rows × 11 columns</p>\n</div>"
          },
          "metadata": {}
        }
      ],
      "execution_count": 7,
      "metadata": {
        "jupyter": {
          "source_hidden": false,
          "outputs_hidden": false
        },
        "nteract": {
          "transient": {
            "deleting": false
          }
        },
        "gather": {
          "logged": 1683189208878
        }
      }
    },
    {
      "cell_type": "markdown",
      "source": [
        "# 2. Data Preparation"
      ],
      "metadata": {
        "nteract": {
          "transient": {
            "deleting": false
          }
        }
      }
    },
    {
      "cell_type": "code",
      "source": [
        "# Create X-axis\r\n",
        "\r\n",
        "x_df = Diabetes.get_tabular_dataset().to_pandas_dataframe().dropna()\r\n",
        "# dropna(): Drop 'None' values\r\n",
        "\r\n",
        "x_df"
      ],
      "outputs": [
        {
          "output_type": "execute_result",
          "execution_count": 8,
          "data": {
            "text/plain": "     AGE  SEX   BMI      BP   S1     S2    S3    S4      S5   S6    Y\n0     59    2  32.1  101.00  157   93.2  38.0  4.00  4.8598   87  151\n1     48    1  21.6   87.00  183  103.2  70.0  3.00  3.8918   69   75\n2     72    2  30.5   93.00  156   93.6  41.0  4.00  4.6728   85  141\n3     24    1  25.3   84.00  198  131.4  40.0  5.00  4.8903   89  206\n4     50    1  23.0  101.00  192  125.4  52.0  4.00  4.2905   80  135\n..   ...  ...   ...     ...  ...    ...   ...   ...     ...  ...  ...\n437   60    2  28.2  112.00  185  113.8  42.0  4.00  4.9836   93  178\n438   47    2  24.9   75.00  225  166.0  42.0  5.00  4.4427  102  104\n439   60    2  24.9   99.67  162  106.6  43.0  3.77  4.1271   95  132\n440   36    1  30.0   95.00  201  125.2  42.0  4.79  5.1299   85  220\n441   36    1  19.6   71.00  250  133.2  97.0  3.00  4.5951   92   57\n\n[442 rows x 11 columns]",
            "text/html": "<div>\n<style scoped>\n    .dataframe tbody tr th:only-of-type {\n        vertical-align: middle;\n    }\n\n    .dataframe tbody tr th {\n        vertical-align: top;\n    }\n\n    .dataframe thead th {\n        text-align: right;\n    }\n</style>\n<table border=\"1\" class=\"dataframe\">\n  <thead>\n    <tr style=\"text-align: right;\">\n      <th></th>\n      <th>AGE</th>\n      <th>SEX</th>\n      <th>BMI</th>\n      <th>BP</th>\n      <th>S1</th>\n      <th>S2</th>\n      <th>S3</th>\n      <th>S4</th>\n      <th>S5</th>\n      <th>S6</th>\n      <th>Y</th>\n    </tr>\n  </thead>\n  <tbody>\n    <tr>\n      <th>0</th>\n      <td>59</td>\n      <td>2</td>\n      <td>32.1</td>\n      <td>101.00</td>\n      <td>157</td>\n      <td>93.2</td>\n      <td>38.0</td>\n      <td>4.00</td>\n      <td>4.8598</td>\n      <td>87</td>\n      <td>151</td>\n    </tr>\n    <tr>\n      <th>1</th>\n      <td>48</td>\n      <td>1</td>\n      <td>21.6</td>\n      <td>87.00</td>\n      <td>183</td>\n      <td>103.2</td>\n      <td>70.0</td>\n      <td>3.00</td>\n      <td>3.8918</td>\n      <td>69</td>\n      <td>75</td>\n    </tr>\n    <tr>\n      <th>2</th>\n      <td>72</td>\n      <td>2</td>\n      <td>30.5</td>\n      <td>93.00</td>\n      <td>156</td>\n      <td>93.6</td>\n      <td>41.0</td>\n      <td>4.00</td>\n      <td>4.6728</td>\n      <td>85</td>\n      <td>141</td>\n    </tr>\n    <tr>\n      <th>3</th>\n      <td>24</td>\n      <td>1</td>\n      <td>25.3</td>\n      <td>84.00</td>\n      <td>198</td>\n      <td>131.4</td>\n      <td>40.0</td>\n      <td>5.00</td>\n      <td>4.8903</td>\n      <td>89</td>\n      <td>206</td>\n    </tr>\n    <tr>\n      <th>4</th>\n      <td>50</td>\n      <td>1</td>\n      <td>23.0</td>\n      <td>101.00</td>\n      <td>192</td>\n      <td>125.4</td>\n      <td>52.0</td>\n      <td>4.00</td>\n      <td>4.2905</td>\n      <td>80</td>\n      <td>135</td>\n    </tr>\n    <tr>\n      <th>...</th>\n      <td>...</td>\n      <td>...</td>\n      <td>...</td>\n      <td>...</td>\n      <td>...</td>\n      <td>...</td>\n      <td>...</td>\n      <td>...</td>\n      <td>...</td>\n      <td>...</td>\n      <td>...</td>\n    </tr>\n    <tr>\n      <th>437</th>\n      <td>60</td>\n      <td>2</td>\n      <td>28.2</td>\n      <td>112.00</td>\n      <td>185</td>\n      <td>113.8</td>\n      <td>42.0</td>\n      <td>4.00</td>\n      <td>4.9836</td>\n      <td>93</td>\n      <td>178</td>\n    </tr>\n    <tr>\n      <th>438</th>\n      <td>47</td>\n      <td>2</td>\n      <td>24.9</td>\n      <td>75.00</td>\n      <td>225</td>\n      <td>166.0</td>\n      <td>42.0</td>\n      <td>5.00</td>\n      <td>4.4427</td>\n      <td>102</td>\n      <td>104</td>\n    </tr>\n    <tr>\n      <th>439</th>\n      <td>60</td>\n      <td>2</td>\n      <td>24.9</td>\n      <td>99.67</td>\n      <td>162</td>\n      <td>106.6</td>\n      <td>43.0</td>\n      <td>3.77</td>\n      <td>4.1271</td>\n      <td>95</td>\n      <td>132</td>\n    </tr>\n    <tr>\n      <th>440</th>\n      <td>36</td>\n      <td>1</td>\n      <td>30.0</td>\n      <td>95.00</td>\n      <td>201</td>\n      <td>125.2</td>\n      <td>42.0</td>\n      <td>4.79</td>\n      <td>5.1299</td>\n      <td>85</td>\n      <td>220</td>\n    </tr>\n    <tr>\n      <th>441</th>\n      <td>36</td>\n      <td>1</td>\n      <td>19.6</td>\n      <td>71.00</td>\n      <td>250</td>\n      <td>133.2</td>\n      <td>97.0</td>\n      <td>3.00</td>\n      <td>4.5951</td>\n      <td>92</td>\n      <td>57</td>\n    </tr>\n  </tbody>\n</table>\n<p>442 rows × 11 columns</p>\n</div>"
          },
          "metadata": {}
        }
      ],
      "execution_count": 8,
      "metadata": {
        "jupyter": {
          "source_hidden": false,
          "outputs_hidden": false
        },
        "nteract": {
          "transient": {
            "deleting": false
          }
        },
        "gather": {
          "logged": 1683189209552
        }
      }
    },
    {
      "cell_type": "code",
      "source": [
        "# Create Y-axis as a Label\r\n",
        "y_df = x_df.pop('Y')\r\n",
        "y_df"
      ],
      "outputs": [
        {
          "output_type": "execute_result",
          "execution_count": 9,
          "data": {
            "text/plain": "0      151\n1       75\n2      141\n3      206\n4      135\n      ... \n437    178\n438    104\n439    132\n440    220\n441     57\nName: Y, Length: 442, dtype: int64"
          },
          "metadata": {}
        }
      ],
      "execution_count": 9,
      "metadata": {
        "jupyter": {
          "source_hidden": false,
          "outputs_hidden": false
        },
        "nteract": {
          "transient": {
            "deleting": false
          }
        },
        "gather": {
          "logged": 1683189209713
        }
      }
    },
    {
      "cell_type": "code",
      "source": [
        "# Check X-Axis again after Popping the label\r\n",
        "x_df"
      ],
      "outputs": [
        {
          "output_type": "execute_result",
          "execution_count": 10,
          "data": {
            "text/plain": "     AGE  SEX   BMI      BP   S1     S2    S3    S4      S5   S6\n0     59    2  32.1  101.00  157   93.2  38.0  4.00  4.8598   87\n1     48    1  21.6   87.00  183  103.2  70.0  3.00  3.8918   69\n2     72    2  30.5   93.00  156   93.6  41.0  4.00  4.6728   85\n3     24    1  25.3   84.00  198  131.4  40.0  5.00  4.8903   89\n4     50    1  23.0  101.00  192  125.4  52.0  4.00  4.2905   80\n..   ...  ...   ...     ...  ...    ...   ...   ...     ...  ...\n437   60    2  28.2  112.00  185  113.8  42.0  4.00  4.9836   93\n438   47    2  24.9   75.00  225  166.0  42.0  5.00  4.4427  102\n439   60    2  24.9   99.67  162  106.6  43.0  3.77  4.1271   95\n440   36    1  30.0   95.00  201  125.2  42.0  4.79  5.1299   85\n441   36    1  19.6   71.00  250  133.2  97.0  3.00  4.5951   92\n\n[442 rows x 10 columns]",
            "text/html": "<div>\n<style scoped>\n    .dataframe tbody tr th:only-of-type {\n        vertical-align: middle;\n    }\n\n    .dataframe tbody tr th {\n        vertical-align: top;\n    }\n\n    .dataframe thead th {\n        text-align: right;\n    }\n</style>\n<table border=\"1\" class=\"dataframe\">\n  <thead>\n    <tr style=\"text-align: right;\">\n      <th></th>\n      <th>AGE</th>\n      <th>SEX</th>\n      <th>BMI</th>\n      <th>BP</th>\n      <th>S1</th>\n      <th>S2</th>\n      <th>S3</th>\n      <th>S4</th>\n      <th>S5</th>\n      <th>S6</th>\n    </tr>\n  </thead>\n  <tbody>\n    <tr>\n      <th>0</th>\n      <td>59</td>\n      <td>2</td>\n      <td>32.1</td>\n      <td>101.00</td>\n      <td>157</td>\n      <td>93.2</td>\n      <td>38.0</td>\n      <td>4.00</td>\n      <td>4.8598</td>\n      <td>87</td>\n    </tr>\n    <tr>\n      <th>1</th>\n      <td>48</td>\n      <td>1</td>\n      <td>21.6</td>\n      <td>87.00</td>\n      <td>183</td>\n      <td>103.2</td>\n      <td>70.0</td>\n      <td>3.00</td>\n      <td>3.8918</td>\n      <td>69</td>\n    </tr>\n    <tr>\n      <th>2</th>\n      <td>72</td>\n      <td>2</td>\n      <td>30.5</td>\n      <td>93.00</td>\n      <td>156</td>\n      <td>93.6</td>\n      <td>41.0</td>\n      <td>4.00</td>\n      <td>4.6728</td>\n      <td>85</td>\n    </tr>\n    <tr>\n      <th>3</th>\n      <td>24</td>\n      <td>1</td>\n      <td>25.3</td>\n      <td>84.00</td>\n      <td>198</td>\n      <td>131.4</td>\n      <td>40.0</td>\n      <td>5.00</td>\n      <td>4.8903</td>\n      <td>89</td>\n    </tr>\n    <tr>\n      <th>4</th>\n      <td>50</td>\n      <td>1</td>\n      <td>23.0</td>\n      <td>101.00</td>\n      <td>192</td>\n      <td>125.4</td>\n      <td>52.0</td>\n      <td>4.00</td>\n      <td>4.2905</td>\n      <td>80</td>\n    </tr>\n    <tr>\n      <th>...</th>\n      <td>...</td>\n      <td>...</td>\n      <td>...</td>\n      <td>...</td>\n      <td>...</td>\n      <td>...</td>\n      <td>...</td>\n      <td>...</td>\n      <td>...</td>\n      <td>...</td>\n    </tr>\n    <tr>\n      <th>437</th>\n      <td>60</td>\n      <td>2</td>\n      <td>28.2</td>\n      <td>112.00</td>\n      <td>185</td>\n      <td>113.8</td>\n      <td>42.0</td>\n      <td>4.00</td>\n      <td>4.9836</td>\n      <td>93</td>\n    </tr>\n    <tr>\n      <th>438</th>\n      <td>47</td>\n      <td>2</td>\n      <td>24.9</td>\n      <td>75.00</td>\n      <td>225</td>\n      <td>166.0</td>\n      <td>42.0</td>\n      <td>5.00</td>\n      <td>4.4427</td>\n      <td>102</td>\n    </tr>\n    <tr>\n      <th>439</th>\n      <td>60</td>\n      <td>2</td>\n      <td>24.9</td>\n      <td>99.67</td>\n      <td>162</td>\n      <td>106.6</td>\n      <td>43.0</td>\n      <td>3.77</td>\n      <td>4.1271</td>\n      <td>95</td>\n    </tr>\n    <tr>\n      <th>440</th>\n      <td>36</td>\n      <td>1</td>\n      <td>30.0</td>\n      <td>95.00</td>\n      <td>201</td>\n      <td>125.2</td>\n      <td>42.0</td>\n      <td>4.79</td>\n      <td>5.1299</td>\n      <td>85</td>\n    </tr>\n    <tr>\n      <th>441</th>\n      <td>36</td>\n      <td>1</td>\n      <td>19.6</td>\n      <td>71.00</td>\n      <td>250</td>\n      <td>133.2</td>\n      <td>97.0</td>\n      <td>3.00</td>\n      <td>4.5951</td>\n      <td>92</td>\n    </tr>\n  </tbody>\n</table>\n<p>442 rows × 10 columns</p>\n</div>"
          },
          "metadata": {}
        }
      ],
      "execution_count": 10,
      "metadata": {
        "jupyter": {
          "source_hidden": false,
          "outputs_hidden": false
        },
        "nteract": {
          "transient": {
            "deleting": false
          }
        },
        "gather": {
          "logged": 1683189209883
        }
      }
    },
    {
      "cell_type": "code",
      "source": [
        "# Devide data into Train and Test Datasets\r\n",
        "X_train, X_test, y_train, y_test = train_test_split(x_df,\r\n",
        "                                                    y_df,\r\n",
        "                                                    test_size=0.2,\r\n",
        "                                                    random_state=66)\r\n",
        "\r\n",
        "print(X_train)"
      ],
      "outputs": [
        {
          "output_type": "stream",
          "name": "stdout",
          "text": "     AGE  SEX   BMI     BP   S1     S2    S3    S4      S5   S6\n440   36    1  30.0   95.0  201  125.2  42.0  4.79  5.1299   85\n389   47    2  26.5   70.0  181  104.8  63.0  3.00  4.1897   70\n5     23    1  22.6   89.0  139   64.8  61.0  2.00  4.1897   68\n289   28    2  31.5   83.0  228  149.4  38.0  6.00  5.3132   83\n101   53    2  22.2  113.0  197  115.2  67.0  3.00  4.3041  100\n..   ...  ...   ...    ...  ...    ...   ...   ...     ...  ...\n122   62    2  33.9  101.0  221  156.4  35.0  6.00  4.9972  103\n51    65    2  27.9  103.0  159   96.8  42.0  4.00  4.6151   86\n119   53    1  22.0   94.0  175   88.0  59.0  3.00  4.9416   98\n316   53    2  27.7   95.0  190  101.8  41.0  5.00  5.4638  101\n20    35    1  21.1   82.0  156   87.8  50.0  3.00  4.5109   95\n\n[353 rows x 10 columns]\n"
        }
      ],
      "execution_count": 11,
      "metadata": {
        "jupyter": {
          "source_hidden": false,
          "outputs_hidden": false
        },
        "nteract": {
          "transient": {
            "deleting": false
          }
        },
        "gather": {
          "logged": 1683189210030
        }
      }
    },
    {
      "cell_type": "markdown",
      "source": [
        "# 3. Train Dataset"
      ],
      "metadata": {
        "nteract": {
          "transient": {
            "deleting": false
          }
        }
      }
    },
    {
      "cell_type": "code",
      "source": [
        "# Import modules\r\n",
        "\r\n",
        "from sklearn.linear_model import Ridge          # Algorithm\r\n",
        "from sklearn.metrics import mean_squared_error  # Test score\r\n",
        "from sklearn.externals import joblib            # Save trained models as *.pkl\r\n",
        "import math"
      ],
      "outputs": [
        {
          "output_type": "stream",
          "name": "stderr",
          "text": "/anaconda/envs/azureml_py38/lib/python3.8/site-packages/sklearn/externals/joblib/__init__.py:15: FutureWarning: sklearn.externals.joblib is deprecated in 0.21 and will be removed in 0.23. Please import this functionality directly from joblib, which can be installed with: pip install joblib. If this warning is raised when loading pickled models, you may need to re-serialize those models with scikit-learn 0.21+.\n  warnings.warn(msg, category=FutureWarning)\n"
        }
      ],
      "execution_count": 12,
      "metadata": {
        "jupyter": {
          "source_hidden": false,
          "outputs_hidden": false
        },
        "nteract": {
          "transient": {
            "deleting": false
          }
        },
        "gather": {
          "logged": 1683189210171
        }
      }
    },
    {
      "cell_type": "code",
      "source": [
        "# Find the best parameter\r\n",
        "\r\n",
        "alphas = [0.1, 0.2, 0.3, 0.4, 0.5, 0.6, 0.7, 0.8, 0.9, 1.0 ]\r\n",
        "\r\n",
        "for alpha in alphas:\r\n",
        "\r\n",
        "    # Logs - Start value\r\n",
        "    run = experiment.start_logging()\r\n",
        "    run.log('alpha_value', alpha)\r\n",
        "\r\n",
        "    # Train modles\r\n",
        "    model = Ridge(alpha=alpha)\r\n",
        "    model.fit(X_train, y_train)\r\n",
        "\r\n",
        "    # Prediction\r\n",
        "    y_pred = model.predict(X_test)\r\n",
        "\r\n",
        "    # Mean Squared Error\r\n",
        "    #mse = mean_squared_error(y_test, y_pred)\r\n",
        "    \r\n",
        "    # Squared Mean Squared Error\r\n",
        "    rmse = math.sqrt(mean_squared_error(y_test, y_pred))\r\n",
        "\r\n",
        "    # Logs - Result\r\n",
        "    run.log('rmse', rmse)\r\n",
        "\r\n",
        "    # Print the result\r\n",
        "    print('model_alpha={0}, rmse={1}'.format(alpha, rmse))\r\n",
        "\r\n",
        "    # Set a name of model and path\r\n",
        "    model_name = 'model_alpha_' + str(alpha) + '.pkl'  # Set a model name\r\n",
        "    filename = 'outputs/' + model_name                 # Set a path\r\n",
        "    joblib.dump(value=model, filename=filename)        # Export the model as a file\r\n",
        "\r\n",
        "    # Upload the model file to Azure ML Service\r\n",
        "    run.upload_file(name=model_name, path_or_stream=filename)\r\n",
        "\r\n",
        "\r\n",
        "    #Logs - Complete\r\n",
        "    run.complete()\r\n",
        "\r\n",
        "    # Message for end\r\n",
        "    print(f'{alpha} experiment completed!')\r\n"
      ],
      "outputs": [
        {
          "output_type": "stream",
          "name": "stdout",
          "text": "model_alpha=0.1, rmse=56.605203313391435\n0.1 experiment completed!\nmodel_alpha=0.2, rmse=56.61060264545031\n0.2 experiment completed!\nmodel_alpha=0.3, rmse=56.61624324548362\n0.3 experiment completed!\nmodel_alpha=0.4, rmse=56.62210708871013\n0.4 experiment completed!\nmodel_alpha=0.5, rmse=56.628177342751385\n0.5 experiment completed!\nmodel_alpha=0.6, rmse=56.63443828302744\n0.6 experiment completed!\nmodel_alpha=0.7, rmse=56.64087521475942\n0.7 experiment completed!\nmodel_alpha=0.8, rmse=56.64747440101076\n0.8 experiment completed!\nmodel_alpha=0.9, rmse=56.65422299625313\n0.9 experiment completed!\nmodel_alpha=1.0, rmse=56.661108984990555\n1.0 experiment completed!\n"
        }
      ],
      "execution_count": 13,
      "metadata": {
        "jupyter": {
          "source_hidden": false,
          "outputs_hidden": false
        },
        "nteract": {
          "transient": {
            "deleting": false
          }
        },
        "gather": {
          "logged": 1683189250869
        }
      }
    },
    {
      "cell_type": "code",
      "source": [
        "experiment"
      ],
      "outputs": [
        {
          "output_type": "execute_result",
          "execution_count": 14,
          "data": {
            "text/plain": "Experiment(Name: diabetes-experiment,\nWorkspace: labmeow94ml)",
            "text/html": "<table style=\"width:100%\"><tr><th>Name</th><th>Workspace</th><th>Report Page</th><th>Docs Page</th></tr><tr><td>diabetes-experiment</td><td>labmeow94ml</td><td><a href=\"https://ml.azure.com/experiments/id/1d421e1a-1f45-4122-b3e4-546840a29ee5?wsid=/subscriptions/27db5ec6-d206-4028-b5e1-6004dca5eeef/resourcegroups/rg94/workspaces/labmeow94ml&amp;tid=5fb256f0-fbf2-40d2-81d5-bac1b32c419d\" target=\"_blank\" rel=\"noopener\">Link to Azure Machine Learning studio</a></td><td><a href=\"https://docs.microsoft.com/en-us/python/api/azureml-core/azureml.core.experiment.Experiment?view=azure-ml-py\" target=\"_blank\" rel=\"noopener\">Link to Documentation</a></td></tr></table>"
          },
          "metadata": {}
        }
      ],
      "execution_count": 14,
      "metadata": {
        "jupyter": {
          "source_hidden": false,
          "outputs_hidden": false
        },
        "nteract": {
          "transient": {
            "deleting": false
          }
        },
        "gather": {
          "logged": 1683189251022
        }
      }
    },
    {
      "cell_type": "markdown",
      "source": [
        "# 4. Find the Best Model"
      ],
      "metadata": {
        "nteract": {
          "transient": {
            "deleting": false
          }
        }
      }
    },
    {
      "cell_type": "markdown",
      "source": [
        "## 4.1. Find the Best Model"
      ],
      "metadata": {
        "nteract": {
          "transient": {
            "deleting": false
          }
        }
      }
    },
    {
      "cell_type": "code",
      "source": [
        "# Define the minimum RSME\r\n",
        "minimum_rmse = None\r\n",
        "minimum_rmse_runid = None"
      ],
      "outputs": [],
      "execution_count": 15,
      "metadata": {
        "jupyter": {
          "source_hidden": false,
          "outputs_hidden": false
        },
        "nteract": {
          "transient": {
            "deleting": false
          }
        },
        "gather": {
          "logged": 1683189251140
        }
      }
    },
    {
      "cell_type": "code",
      "source": [
        "# Compare models\r\n",
        "for exp in experiment.get_runs():   # Get results of experiments\r\n",
        "    run_metrics = exp.get_metrics();\r\n",
        "    run_details = exp.get_details();\r\n",
        "\r\n",
        "    run_rmse = run_metrics['rmse']\r\n",
        "    run_id = run_details['runId']"
      ],
      "outputs": [],
      "execution_count": 21,
      "metadata": {
        "jupyter": {
          "source_hidden": false,
          "outputs_hidden": false
        },
        "nteract": {
          "transient": {
            "deleting": false
          }
        },
        "gather": {
          "logged": 1683189556691
        }
      }
    },
    {
      "cell_type": "code",
      "source": [
        "# Find and Download the Best Model\r\n",
        "minimum_rmse = None\r\n",
        "minimum_rmse_runid = None\r\n",
        "\r\n",
        "for exp in experiment.get_runs():\r\n",
        "\r\n",
        "\r\n",
        "    # Find the smallest value of RMSE\r\n",
        "    if minimum_rmse is None:\r\n",
        "        minimum_rmse = run_rmse\r\n",
        "        minimum_rmse_runid = run_id\r\n",
        "    else:\r\n",
        "        if run_rmse <  minimum_rmse:\r\n",
        "            minimum_rmse = run_rmse\r\n",
        "            minimum_rmse_runid = run_id\r\n",
        "\r\n",
        "print('Best run_id:  ' + minimum_rmse_runid)\r\n",
        "print('Best run_id rmse:  ' + str(minimum_rmse))"
      ],
      "outputs": [
        {
          "output_type": "stream",
          "name": "stdout",
          "text": "Best run_id:  bb1985de-73d7-46bc-b4bf-0d2bc0fb7a57\nBest run_id rmse:  56.64087521475942\n"
        }
      ],
      "execution_count": 22,
      "metadata": {
        "jupyter": {
          "source_hidden": false,
          "outputs_hidden": false
        },
        "nteract": {
          "transient": {
            "deleting": false
          }
        },
        "gather": {
          "logged": 1683189559530
        }
      }
    },
    {
      "cell_type": "markdown",
      "source": [
        "## 4.2. Download the Best Model"
      ],
      "metadata": {
        "nteract": {
          "transient": {
            "deleting": false
          }
        }
      }
    },
    {
      "cell_type": "code",
      "source": [
        "# Import module\r\n",
        "from azureml.core import Run "
      ],
      "outputs": [],
      "execution_count": 23,
      "metadata": {
        "jupyter": {
          "source_hidden": false,
          "outputs_hidden": false
        },
        "nteract": {
          "transient": {
            "deleting": false
          }
        },
        "gather": {
          "logged": 1683189562068
        }
      }
    },
    {
      "cell_type": "code",
      "source": [
        "# Download the model\r\n",
        "best_run = Run(experiment=experiment, run_id=minimum_rmse_runid)\r\n",
        "print(best_run.get_file_names())\r\n",
        "\r\n",
        "best_run.download_file(name=str(best_run.get_file_names()[0]))"
      ],
      "outputs": [
        {
          "output_type": "stream",
          "name": "stdout",
          "text": "['model_alpha_0.7.pkl', 'outputs/.amlignore', 'outputs/.amlignore.amltmp', 'outputs/Model_alpha_0.1.pkl', 'outputs/Model_alpha_0.2.pkl', 'outputs/Model_alpha_0.3.pkl', 'outputs/Model_alpha_0.4.pkl', 'outputs/Model_alpha_0.5.pkl', 'outputs/Model_alpha_0.6.pkl', 'outputs/Model_alpha_0.7.pkl', 'outputs/Model_alpha_0.8.pkl', 'outputs/Model_alpha_0.9.pkl', 'outputs/Model_alpha_1.0.pkl']\n"
        }
      ],
      "execution_count": 24,
      "metadata": {
        "jupyter": {
          "source_hidden": false,
          "outputs_hidden": false
        },
        "nteract": {
          "transient": {
            "deleting": false
          }
        },
        "gather": {
          "logged": 1683189565040
        }
      }
    }
  ],
  "metadata": {
    "kernelspec": {
      "name": "python38-azureml",
      "language": "python",
      "display_name": "Python 3.8 - AzureML"
    },
    "language_info": {
      "name": "python",
      "version": "3.8.5",
      "mimetype": "text/x-python",
      "codemirror_mode": {
        "name": "ipython",
        "version": 3
      },
      "pygments_lexer": "ipython3",
      "nbconvert_exporter": "python",
      "file_extension": ".py"
    },
    "microsoft": {
      "ms_spell_check": {
        "ms_spell_check_language": "en"
      },
      "host": {
        "AzureML": {
          "notebookHasBeenCompleted": true
        }
      }
    },
    "kernel_info": {
      "name": "python38-azureml"
    },
    "nteract": {
      "version": "nteract-front-end@1.0.0"
    }
  },
  "nbformat": 4,
  "nbformat_minor": 2
}