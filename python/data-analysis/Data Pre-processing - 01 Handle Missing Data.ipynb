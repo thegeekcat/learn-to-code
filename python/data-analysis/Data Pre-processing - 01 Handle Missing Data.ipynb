{
 "cells": [
  {
   "cell_type": "markdown",
   "id": "e4f50ed8",
   "metadata": {},
   "source": [
    "- Note: I refer to Chapter 07 < Python for Data Analysis: Data Wrangling with Pandas, NumPy, and IPython (3rd) > (2023, Wes McKinney)"
   ]
  },
  {
   "cell_type": "markdown",
   "id": "72ebce58",
   "metadata": {},
   "source": [
    "# 0. Overview"
   ]
  },
  {
   "cell_type": "code",
   "execution_count": 1,
   "id": "002a7fcd",
   "metadata": {},
   "outputs": [],
   "source": [
    "# Import modules\n",
    "import pandas as pd\n",
    "import numpy as np"
   ]
  },
  {
   "cell_type": "markdown",
   "id": "1784786b",
   "metadata": {},
   "source": [
    "# 1. Basics"
   ]
  },
  {
   "cell_type": "code",
   "execution_count": 6,
   "id": "d59a5cdf",
   "metadata": {},
   "outputs": [
    {
     "data": {
      "text/plain": [
       "0     2.4\n",
       "1   -31.0\n",
       "2     NaN\n",
       "3     0.0\n",
       "4    32.2\n",
       "dtype: float64"
      ]
     },
     "execution_count": 6,
     "metadata": {},
     "output_type": "execute_result"
    }
   ],
   "source": [
    "# Sentinal Values of 'float64 dtype': NaN\n",
    "float_data = pd.Series([2.4, -31, np.nan, 0, 32.2])\n",
    "\n",
    "float_data"
   ]
  },
  {
   "cell_type": "code",
   "execution_count": 7,
   "id": "d7aaad89",
   "metadata": {},
   "outputs": [
    {
     "data": {
      "text/plain": [
       "0    False\n",
       "1    False\n",
       "2     True\n",
       "3    False\n",
       "4    False\n",
       "dtype: bool"
      ]
     },
     "execution_count": 7,
     "metadata": {},
     "output_type": "execute_result"
    }
   ],
   "source": [
    "# Built-in Python 'None' value: NA\n",
    "float_data.isna()"
   ]
  },
  {
   "cell_type": "markdown",
   "id": "31d55d89",
   "metadata": {},
   "source": [
    "- NA Handling Object Methods\n",
    "  - 'dropna': Drop axis\n",
    "  - 'fillna': Fill in NA with other values\n",
    "  - 'isna': Return 'False' for NA\n",
    "  - 'notna': Return 'True' for NA"
   ]
  },
  {
   "cell_type": "markdown",
   "id": "ca9cbcb2",
   "metadata": {},
   "source": [
    "# 2. Drop Missing Data"
   ]
  },
  {
   "cell_type": "markdown",
   "id": "5a66a436",
   "metadata": {},
   "source": [
    "- 'dropna'\n",
    "   - Series: Use 'dropna' to return a Series without NA\n",
    "   - DataFrame: Drop rows or columns - 1) all NA; or 2) containing NAs\n",
    "   "
   ]
  },
  {
   "cell_type": "code",
   "execution_count": 9,
   "id": "4aa2db90",
   "metadata": {},
   "outputs": [
    {
     "data": {
      "text/plain": [
       "0    3.0\n",
       "2    2.1\n",
       "3    3.2\n",
       "5    5.0\n",
       "6    1.0\n",
       "dtype: float64"
      ]
     },
     "execution_count": 9,
     "metadata": {},
     "output_type": "execute_result"
    }
   ],
   "source": [
    "# Series \n",
    "\n",
    "data = pd.Series([3, np.nan, 2.1, 3.2, np.nan, 5,1])\n",
    "\n",
    "data.dropna()"
   ]
  },
  {
   "cell_type": "code",
   "execution_count": 12,
   "id": "833192fd",
   "metadata": {},
   "outputs": [
    {
     "data": {
      "text/html": [
       "<div>\n",
       "<style scoped>\n",
       "    .dataframe tbody tr th:only-of-type {\n",
       "        vertical-align: middle;\n",
       "    }\n",
       "\n",
       "    .dataframe tbody tr th {\n",
       "        vertical-align: top;\n",
       "    }\n",
       "\n",
       "    .dataframe thead th {\n",
       "        text-align: right;\n",
       "    }\n",
       "</style>\n",
       "<table border=\"1\" class=\"dataframe\">\n",
       "  <thead>\n",
       "    <tr style=\"text-align: right;\">\n",
       "      <th></th>\n",
       "      <th>0</th>\n",
       "      <th>1</th>\n",
       "      <th>2</th>\n",
       "      <th>3</th>\n",
       "    </tr>\n",
       "  </thead>\n",
       "  <tbody>\n",
       "    <tr>\n",
       "      <th>0</th>\n",
       "      <td>1.0</td>\n",
       "      <td>3.1</td>\n",
       "      <td>5.3</td>\n",
       "      <td>1.4</td>\n",
       "    </tr>\n",
       "    <tr>\n",
       "      <th>1</th>\n",
       "      <td>3.5</td>\n",
       "      <td>NaN</td>\n",
       "      <td>3.0</td>\n",
       "      <td>3.1</td>\n",
       "    </tr>\n",
       "    <tr>\n",
       "      <th>2</th>\n",
       "      <td>NaN</td>\n",
       "      <td>6.4</td>\n",
       "      <td>4.0</td>\n",
       "      <td>1.0</td>\n",
       "    </tr>\n",
       "    <tr>\n",
       "      <th>3</th>\n",
       "      <td>NaN</td>\n",
       "      <td>NaN</td>\n",
       "      <td>NaN</td>\n",
       "      <td>NaN</td>\n",
       "    </tr>\n",
       "  </tbody>\n",
       "</table>\n",
       "</div>"
      ],
      "text/plain": [
       "     0    1    2    3\n",
       "0  1.0  3.1  5.3  1.4\n",
       "1  3.5  NaN  3.0  3.1\n",
       "2  NaN  6.4  4.0  1.0\n",
       "3  NaN  NaN  NaN  NaN"
      ]
     },
     "execution_count": 12,
     "metadata": {},
     "output_type": "execute_result"
    }
   ],
   "source": [
    "# DataFrame\n",
    "\n",
    "data = pd.DataFrame([[1., 3.1, 5.3, 1.4], \n",
    "                     [3.5, np.nan, 3., 3.1],\n",
    "                     [np.nan, 6.4, 4., 1.],\n",
    "                    [np.nan, np.nan, np.nan, np.nan]])\n",
    "data"
   ]
  },
  {
   "cell_type": "code",
   "execution_count": 14,
   "id": "9d7b99d8",
   "metadata": {},
   "outputs": [
    {
     "data": {
      "text/html": [
       "<div>\n",
       "<style scoped>\n",
       "    .dataframe tbody tr th:only-of-type {\n",
       "        vertical-align: middle;\n",
       "    }\n",
       "\n",
       "    .dataframe tbody tr th {\n",
       "        vertical-align: top;\n",
       "    }\n",
       "\n",
       "    .dataframe thead th {\n",
       "        text-align: right;\n",
       "    }\n",
       "</style>\n",
       "<table border=\"1\" class=\"dataframe\">\n",
       "  <thead>\n",
       "    <tr style=\"text-align: right;\">\n",
       "      <th></th>\n",
       "      <th>0</th>\n",
       "      <th>1</th>\n",
       "      <th>2</th>\n",
       "      <th>3</th>\n",
       "    </tr>\n",
       "  </thead>\n",
       "  <tbody>\n",
       "    <tr>\n",
       "      <th>0</th>\n",
       "      <td>1.0</td>\n",
       "      <td>3.1</td>\n",
       "      <td>5.3</td>\n",
       "      <td>1.4</td>\n",
       "    </tr>\n",
       "  </tbody>\n",
       "</table>\n",
       "</div>"
      ],
      "text/plain": [
       "     0    1    2    3\n",
       "0  1.0  3.1  5.3  1.4"
      ]
     },
     "execution_count": 14,
     "metadata": {},
     "output_type": "execute_result"
    }
   ],
   "source": [
    "# Drop rows and columns that are all NA\n",
    "data.dropna()"
   ]
  },
  {
   "cell_type": "code",
   "execution_count": 15,
   "id": "70e603cb",
   "metadata": {},
   "outputs": [
    {
     "data": {
      "text/html": [
       "<div>\n",
       "<style scoped>\n",
       "    .dataframe tbody tr th:only-of-type {\n",
       "        vertical-align: middle;\n",
       "    }\n",
       "\n",
       "    .dataframe tbody tr th {\n",
       "        vertical-align: top;\n",
       "    }\n",
       "\n",
       "    .dataframe thead th {\n",
       "        text-align: right;\n",
       "    }\n",
       "</style>\n",
       "<table border=\"1\" class=\"dataframe\">\n",
       "  <thead>\n",
       "    <tr style=\"text-align: right;\">\n",
       "      <th></th>\n",
       "      <th>0</th>\n",
       "      <th>1</th>\n",
       "      <th>2</th>\n",
       "      <th>3</th>\n",
       "    </tr>\n",
       "  </thead>\n",
       "  <tbody>\n",
       "    <tr>\n",
       "      <th>0</th>\n",
       "      <td>1.0</td>\n",
       "      <td>3.1</td>\n",
       "      <td>5.3</td>\n",
       "      <td>1.4</td>\n",
       "    </tr>\n",
       "    <tr>\n",
       "      <th>1</th>\n",
       "      <td>3.5</td>\n",
       "      <td>NaN</td>\n",
       "      <td>3.0</td>\n",
       "      <td>3.1</td>\n",
       "    </tr>\n",
       "    <tr>\n",
       "      <th>2</th>\n",
       "      <td>NaN</td>\n",
       "      <td>6.4</td>\n",
       "      <td>4.0</td>\n",
       "      <td>1.0</td>\n",
       "    </tr>\n",
       "  </tbody>\n",
       "</table>\n",
       "</div>"
      ],
      "text/plain": [
       "     0    1    2    3\n",
       "0  1.0  3.1  5.3  1.4\n",
       "1  3.5  NaN  3.0  3.1\n",
       "2  NaN  6.4  4.0  1.0"
      ]
     },
     "execution_count": 15,
     "metadata": {},
     "output_type": "execute_result"
    }
   ],
   "source": [
    "# Drop rows and columns that all values are NA\n",
    "data.dropna(how=\"all\")"
   ]
  },
  {
   "cell_type": "markdown",
   "id": "ab0858a2",
   "metadata": {},
   "source": [
    "# 3. Fill In Missing Data"
   ]
  },
  {
   "cell_type": "markdown",
   "id": "79965a44",
   "metadata": {},
   "source": [
    "- 'fillna'\n",
    "   - Fill in missing values with specific values"
   ]
  },
  {
   "cell_type": "code",
   "execution_count": 21,
   "id": "d82efd15",
   "metadata": {},
   "outputs": [
    {
     "data": {
      "text/html": [
       "<div>\n",
       "<style scoped>\n",
       "    .dataframe tbody tr th:only-of-type {\n",
       "        vertical-align: middle;\n",
       "    }\n",
       "\n",
       "    .dataframe tbody tr th {\n",
       "        vertical-align: top;\n",
       "    }\n",
       "\n",
       "    .dataframe thead th {\n",
       "        text-align: right;\n",
       "    }\n",
       "</style>\n",
       "<table border=\"1\" class=\"dataframe\">\n",
       "  <thead>\n",
       "    <tr style=\"text-align: right;\">\n",
       "      <th></th>\n",
       "      <th>0</th>\n",
       "      <th>1</th>\n",
       "      <th>2</th>\n",
       "      <th>3</th>\n",
       "      <th>4</th>\n",
       "    </tr>\n",
       "  </thead>\n",
       "  <tbody>\n",
       "    <tr>\n",
       "      <th>0</th>\n",
       "      <td>-0.289870</td>\n",
       "      <td>0.165609</td>\n",
       "      <td>NaN</td>\n",
       "      <td>0.199031</td>\n",
       "      <td>-0.000820</td>\n",
       "    </tr>\n",
       "    <tr>\n",
       "      <th>1</th>\n",
       "      <td>0.209653</td>\n",
       "      <td>0.494726</td>\n",
       "      <td>NaN</td>\n",
       "      <td>-0.035999</td>\n",
       "      <td>-0.893580</td>\n",
       "    </tr>\n",
       "    <tr>\n",
       "      <th>2</th>\n",
       "      <td>0.781870</td>\n",
       "      <td>-0.826988</td>\n",
       "      <td>NaN</td>\n",
       "      <td>-0.254750</td>\n",
       "      <td>-0.547827</td>\n",
       "    </tr>\n",
       "    <tr>\n",
       "      <th>3</th>\n",
       "      <td>-1.943551</td>\n",
       "      <td>0.333328</td>\n",
       "      <td>-0.213465</td>\n",
       "      <td>0.881631</td>\n",
       "      <td>-1.952164</td>\n",
       "    </tr>\n",
       "    <tr>\n",
       "      <th>4</th>\n",
       "      <td>1.192532</td>\n",
       "      <td>NaN</td>\n",
       "      <td>0.212951</td>\n",
       "      <td>0.774165</td>\n",
       "      <td>-0.756945</td>\n",
       "    </tr>\n",
       "    <tr>\n",
       "      <th>5</th>\n",
       "      <td>-1.171044</td>\n",
       "      <td>NaN</td>\n",
       "      <td>-0.885033</td>\n",
       "      <td>-0.793543</td>\n",
       "      <td>NaN</td>\n",
       "    </tr>\n",
       "    <tr>\n",
       "      <th>6</th>\n",
       "      <td>-0.278768</td>\n",
       "      <td>NaN</td>\n",
       "      <td>-0.762153</td>\n",
       "      <td>0.877884</td>\n",
       "      <td>NaN</td>\n",
       "    </tr>\n",
       "    <tr>\n",
       "      <th>7</th>\n",
       "      <td>-0.699923</td>\n",
       "      <td>NaN</td>\n",
       "      <td>1.423110</td>\n",
       "      <td>1.120154</td>\n",
       "      <td>-2.147784</td>\n",
       "    </tr>\n",
       "    <tr>\n",
       "      <th>8</th>\n",
       "      <td>0.580638</td>\n",
       "      <td>-0.351248</td>\n",
       "      <td>0.083375</td>\n",
       "      <td>-0.246006</td>\n",
       "      <td>0.067944</td>\n",
       "    </tr>\n",
       "    <tr>\n",
       "      <th>9</th>\n",
       "      <td>-1.335462</td>\n",
       "      <td>-1.765141</td>\n",
       "      <td>-0.592251</td>\n",
       "      <td>0.257692</td>\n",
       "      <td>0.022198</td>\n",
       "    </tr>\n",
       "  </tbody>\n",
       "</table>\n",
       "</div>"
      ],
      "text/plain": [
       "          0         1         2         3         4\n",
       "0 -0.289870  0.165609       NaN  0.199031 -0.000820\n",
       "1  0.209653  0.494726       NaN -0.035999 -0.893580\n",
       "2  0.781870 -0.826988       NaN -0.254750 -0.547827\n",
       "3 -1.943551  0.333328 -0.213465  0.881631 -1.952164\n",
       "4  1.192532       NaN  0.212951  0.774165 -0.756945\n",
       "5 -1.171044       NaN -0.885033 -0.793543       NaN\n",
       "6 -0.278768       NaN -0.762153  0.877884       NaN\n",
       "7 -0.699923       NaN  1.423110  1.120154 -2.147784\n",
       "8  0.580638 -0.351248  0.083375 -0.246006  0.067944\n",
       "9 -1.335462 -1.765141 -0.592251  0.257692  0.022198"
      ]
     },
     "execution_count": 21,
     "metadata": {},
     "output_type": "execute_result"
    }
   ],
   "source": [
    "# Create a DataFrame\n",
    "df = pd.DataFrame(np.random.standard_normal((10, 5)))\n",
    "\n",
    "# Change some values to NA\n",
    "df.iloc[:3, 2] = np.nan\n",
    "df.iloc[5:7, 4] = np.nan\n",
    "df.iloc[4:8, 1] = np.nan\n",
    "\n",
    "df"
   ]
  },
  {
   "cell_type": "code",
   "execution_count": 22,
   "id": "43691d7d",
   "metadata": {},
   "outputs": [
    {
     "data": {
      "text/html": [
       "<div>\n",
       "<style scoped>\n",
       "    .dataframe tbody tr th:only-of-type {\n",
       "        vertical-align: middle;\n",
       "    }\n",
       "\n",
       "    .dataframe tbody tr th {\n",
       "        vertical-align: top;\n",
       "    }\n",
       "\n",
       "    .dataframe thead th {\n",
       "        text-align: right;\n",
       "    }\n",
       "</style>\n",
       "<table border=\"1\" class=\"dataframe\">\n",
       "  <thead>\n",
       "    <tr style=\"text-align: right;\">\n",
       "      <th></th>\n",
       "      <th>0</th>\n",
       "      <th>1</th>\n",
       "      <th>2</th>\n",
       "      <th>3</th>\n",
       "      <th>4</th>\n",
       "    </tr>\n",
       "  </thead>\n",
       "  <tbody>\n",
       "    <tr>\n",
       "      <th>0</th>\n",
       "      <td>-0.289870</td>\n",
       "      <td>0.165609</td>\n",
       "      <td>0.000000</td>\n",
       "      <td>0.199031</td>\n",
       "      <td>-0.000820</td>\n",
       "    </tr>\n",
       "    <tr>\n",
       "      <th>1</th>\n",
       "      <td>0.209653</td>\n",
       "      <td>0.494726</td>\n",
       "      <td>0.000000</td>\n",
       "      <td>-0.035999</td>\n",
       "      <td>-0.893580</td>\n",
       "    </tr>\n",
       "    <tr>\n",
       "      <th>2</th>\n",
       "      <td>0.781870</td>\n",
       "      <td>-0.826988</td>\n",
       "      <td>0.000000</td>\n",
       "      <td>-0.254750</td>\n",
       "      <td>-0.547827</td>\n",
       "    </tr>\n",
       "    <tr>\n",
       "      <th>3</th>\n",
       "      <td>-1.943551</td>\n",
       "      <td>0.333328</td>\n",
       "      <td>-0.213465</td>\n",
       "      <td>0.881631</td>\n",
       "      <td>-1.952164</td>\n",
       "    </tr>\n",
       "    <tr>\n",
       "      <th>4</th>\n",
       "      <td>1.192532</td>\n",
       "      <td>0.000000</td>\n",
       "      <td>0.212951</td>\n",
       "      <td>0.774165</td>\n",
       "      <td>-0.756945</td>\n",
       "    </tr>\n",
       "    <tr>\n",
       "      <th>5</th>\n",
       "      <td>-1.171044</td>\n",
       "      <td>0.000000</td>\n",
       "      <td>-0.885033</td>\n",
       "      <td>-0.793543</td>\n",
       "      <td>0.000000</td>\n",
       "    </tr>\n",
       "    <tr>\n",
       "      <th>6</th>\n",
       "      <td>-0.278768</td>\n",
       "      <td>0.000000</td>\n",
       "      <td>-0.762153</td>\n",
       "      <td>0.877884</td>\n",
       "      <td>0.000000</td>\n",
       "    </tr>\n",
       "    <tr>\n",
       "      <th>7</th>\n",
       "      <td>-0.699923</td>\n",
       "      <td>0.000000</td>\n",
       "      <td>1.423110</td>\n",
       "      <td>1.120154</td>\n",
       "      <td>-2.147784</td>\n",
       "    </tr>\n",
       "    <tr>\n",
       "      <th>8</th>\n",
       "      <td>0.580638</td>\n",
       "      <td>-0.351248</td>\n",
       "      <td>0.083375</td>\n",
       "      <td>-0.246006</td>\n",
       "      <td>0.067944</td>\n",
       "    </tr>\n",
       "    <tr>\n",
       "      <th>9</th>\n",
       "      <td>-1.335462</td>\n",
       "      <td>-1.765141</td>\n",
       "      <td>-0.592251</td>\n",
       "      <td>0.257692</td>\n",
       "      <td>0.022198</td>\n",
       "    </tr>\n",
       "  </tbody>\n",
       "</table>\n",
       "</div>"
      ],
      "text/plain": [
       "          0         1         2         3         4\n",
       "0 -0.289870  0.165609  0.000000  0.199031 -0.000820\n",
       "1  0.209653  0.494726  0.000000 -0.035999 -0.893580\n",
       "2  0.781870 -0.826988  0.000000 -0.254750 -0.547827\n",
       "3 -1.943551  0.333328 -0.213465  0.881631 -1.952164\n",
       "4  1.192532  0.000000  0.212951  0.774165 -0.756945\n",
       "5 -1.171044  0.000000 -0.885033 -0.793543  0.000000\n",
       "6 -0.278768  0.000000 -0.762153  0.877884  0.000000\n",
       "7 -0.699923  0.000000  1.423110  1.120154 -2.147784\n",
       "8  0.580638 -0.351248  0.083375 -0.246006  0.067944\n",
       "9 -1.335462 -1.765141 -0.592251  0.257692  0.022198"
      ]
     },
     "execution_count": 22,
     "metadata": {},
     "output_type": "execute_result"
    }
   ],
   "source": [
    "# Fill in the missing values with '0'\n",
    "df.fillna(0)"
   ]
  },
  {
   "cell_type": "code",
   "execution_count": 23,
   "id": "6dd961f4",
   "metadata": {},
   "outputs": [
    {
     "data": {
      "text/html": [
       "<div>\n",
       "<style scoped>\n",
       "    .dataframe tbody tr th:only-of-type {\n",
       "        vertical-align: middle;\n",
       "    }\n",
       "\n",
       "    .dataframe tbody tr th {\n",
       "        vertical-align: top;\n",
       "    }\n",
       "\n",
       "    .dataframe thead th {\n",
       "        text-align: right;\n",
       "    }\n",
       "</style>\n",
       "<table border=\"1\" class=\"dataframe\">\n",
       "  <thead>\n",
       "    <tr style=\"text-align: right;\">\n",
       "      <th></th>\n",
       "      <th>0</th>\n",
       "      <th>1</th>\n",
       "      <th>2</th>\n",
       "      <th>3</th>\n",
       "      <th>4</th>\n",
       "    </tr>\n",
       "  </thead>\n",
       "  <tbody>\n",
       "    <tr>\n",
       "      <th>0</th>\n",
       "      <td>-0.289870</td>\n",
       "      <td>0.165609</td>\n",
       "      <td>0.100400</td>\n",
       "      <td>0.199031</td>\n",
       "      <td>-0.000820</td>\n",
       "    </tr>\n",
       "    <tr>\n",
       "      <th>1</th>\n",
       "      <td>0.209653</td>\n",
       "      <td>0.494726</td>\n",
       "      <td>0.100400</td>\n",
       "      <td>-0.035999</td>\n",
       "      <td>-0.893580</td>\n",
       "    </tr>\n",
       "    <tr>\n",
       "      <th>2</th>\n",
       "      <td>0.781870</td>\n",
       "      <td>-0.826988</td>\n",
       "      <td>0.100400</td>\n",
       "      <td>-0.254750</td>\n",
       "      <td>-0.547827</td>\n",
       "    </tr>\n",
       "    <tr>\n",
       "      <th>3</th>\n",
       "      <td>-1.943551</td>\n",
       "      <td>0.333328</td>\n",
       "      <td>-0.213465</td>\n",
       "      <td>0.881631</td>\n",
       "      <td>-1.952164</td>\n",
       "    </tr>\n",
       "    <tr>\n",
       "      <th>4</th>\n",
       "      <td>1.192532</td>\n",
       "      <td>0.123456</td>\n",
       "      <td>0.212951</td>\n",
       "      <td>0.774165</td>\n",
       "      <td>-0.756945</td>\n",
       "    </tr>\n",
       "    <tr>\n",
       "      <th>5</th>\n",
       "      <td>-1.171044</td>\n",
       "      <td>0.123456</td>\n",
       "      <td>-0.885033</td>\n",
       "      <td>-0.793543</td>\n",
       "      <td>NaN</td>\n",
       "    </tr>\n",
       "    <tr>\n",
       "      <th>6</th>\n",
       "      <td>-0.278768</td>\n",
       "      <td>0.123456</td>\n",
       "      <td>-0.762153</td>\n",
       "      <td>0.877884</td>\n",
       "      <td>NaN</td>\n",
       "    </tr>\n",
       "    <tr>\n",
       "      <th>7</th>\n",
       "      <td>-0.699923</td>\n",
       "      <td>0.123456</td>\n",
       "      <td>1.423110</td>\n",
       "      <td>1.120154</td>\n",
       "      <td>-2.147784</td>\n",
       "    </tr>\n",
       "    <tr>\n",
       "      <th>8</th>\n",
       "      <td>0.580638</td>\n",
       "      <td>-0.351248</td>\n",
       "      <td>0.083375</td>\n",
       "      <td>-0.246006</td>\n",
       "      <td>0.067944</td>\n",
       "    </tr>\n",
       "    <tr>\n",
       "      <th>9</th>\n",
       "      <td>-1.335462</td>\n",
       "      <td>-1.765141</td>\n",
       "      <td>-0.592251</td>\n",
       "      <td>0.257692</td>\n",
       "      <td>0.022198</td>\n",
       "    </tr>\n",
       "  </tbody>\n",
       "</table>\n",
       "</div>"
      ],
      "text/plain": [
       "          0         1         2         3         4\n",
       "0 -0.289870  0.165609  0.100400  0.199031 -0.000820\n",
       "1  0.209653  0.494726  0.100400 -0.035999 -0.893580\n",
       "2  0.781870 -0.826988  0.100400 -0.254750 -0.547827\n",
       "3 -1.943551  0.333328 -0.213465  0.881631 -1.952164\n",
       "4  1.192532  0.123456  0.212951  0.774165 -0.756945\n",
       "5 -1.171044  0.123456 -0.885033 -0.793543       NaN\n",
       "6 -0.278768  0.123456 -0.762153  0.877884       NaN\n",
       "7 -0.699923  0.123456  1.423110  1.120154 -2.147784\n",
       "8  0.580638 -0.351248  0.083375 -0.246006  0.067944\n",
       "9 -1.335462 -1.765141 -0.592251  0.257692  0.022198"
      ]
     },
     "execution_count": 23,
     "metadata": {},
     "output_type": "execute_result"
    }
   ],
   "source": [
    "# Fill in the missing values with a different value for each column\n",
    "df.fillna({1:0.123456, 2:0.10040})"
   ]
  },
  {
   "cell_type": "code",
   "execution_count": 24,
   "id": "c6dc31af",
   "metadata": {},
   "outputs": [
    {
     "data": {
      "text/plain": [
       "0    3.00\n",
       "1    2.86\n",
       "2    2.10\n",
       "3    3.20\n",
       "4    2.86\n",
       "5    5.00\n",
       "6    1.00\n",
       "dtype: float64"
      ]
     },
     "execution_count": 24,
     "metadata": {},
     "output_type": "execute_result"
    }
   ],
   "source": [
    "# Fill in missing values with 'mean'\n",
    "data = pd.Series([3, np.nan, 2.1, 3.2, np.nan, 5,1])\n",
    "\n",
    "data.fillna(data.mean())"
   ]
  }
 ],
 "metadata": {
  "kernelspec": {
   "display_name": "Python 3 (ipykernel)",
   "language": "python",
   "name": "python3"
  },
  "language_info": {
   "codemirror_mode": {
    "name": "ipython",
    "version": 3
   },
   "file_extension": ".py",
   "mimetype": "text/x-python",
   "name": "python",
   "nbconvert_exporter": "python",
   "pygments_lexer": "ipython3",
   "version": "3.10.9"
  }
 },
 "nbformat": 4,
 "nbformat_minor": 5
}
