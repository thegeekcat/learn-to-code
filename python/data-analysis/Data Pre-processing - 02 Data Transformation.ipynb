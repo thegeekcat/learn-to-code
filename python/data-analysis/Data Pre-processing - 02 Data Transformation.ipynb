{
 "cells": [
  {
   "cell_type": "markdown",
   "id": "210db2a7",
   "metadata": {},
   "source": [
    "- Note: I refer to Chapter 07 < Python for Data Analysis: Data Wrangling with Pandas, NumPy, and IPython (3rd) > (2023, Wes McKinney)"
   ]
  },
  {
   "cell_type": "markdown",
   "id": "8bbe5aad",
   "metadata": {},
   "source": [
    "# 0. Preparation"
   ]
  },
  {
   "cell_type": "code",
   "execution_count": 7,
   "id": "f8517a7b",
   "metadata": {},
   "outputs": [],
   "source": [
    "# Import modules\n",
    "import pandas as pd\n",
    "import numpy as np"
   ]
  },
  {
   "cell_type": "markdown",
   "id": "ad577163",
   "metadata": {},
   "source": [
    "# 1. Remove Duplicates"
   ]
  },
  {
   "cell_type": "markdown",
   "id": "2fd92397",
   "metadata": {},
   "source": [
    "- Methods\n",
    "  - `duplicated()`: Return a Boolean Series -> True for duplicated values\n",
    "  - `drop_duplicates()`: Drop duplicated rows\n",
    "      - 'drop_duplicates(subset=[\"COLUMN_NAME\"]): Filter duplicates based on \"COLUMN_NAME\"\n",
    "      - 'drop_duplicates(keep=\"last\"): Drop duplicates from the last observed value"
   ]
  },
  {
   "cell_type": "code",
   "execution_count": 8,
   "id": "6ec44174",
   "metadata": {},
   "outputs": [
    {
     "data": {
      "text/html": [
       "<div>\n",
       "<style scoped>\n",
       "    .dataframe tbody tr th:only-of-type {\n",
       "        vertical-align: middle;\n",
       "    }\n",
       "\n",
       "    .dataframe tbody tr th {\n",
       "        vertical-align: top;\n",
       "    }\n",
       "\n",
       "    .dataframe thead th {\n",
       "        text-align: right;\n",
       "    }\n",
       "</style>\n",
       "<table border=\"1\" class=\"dataframe\">\n",
       "  <thead>\n",
       "    <tr style=\"text-align: right;\">\n",
       "      <th></th>\n",
       "      <th>Column1</th>\n",
       "      <th>Column2</th>\n",
       "    </tr>\n",
       "  </thead>\n",
       "  <tbody>\n",
       "    <tr>\n",
       "      <th>0</th>\n",
       "      <td>Apple</td>\n",
       "      <td>1</td>\n",
       "    </tr>\n",
       "    <tr>\n",
       "      <th>1</th>\n",
       "      <td>Banana</td>\n",
       "      <td>1</td>\n",
       "    </tr>\n",
       "    <tr>\n",
       "      <th>2</th>\n",
       "      <td>Apple</td>\n",
       "      <td>2</td>\n",
       "    </tr>\n",
       "    <tr>\n",
       "      <th>3</th>\n",
       "      <td>Banana</td>\n",
       "      <td>3</td>\n",
       "    </tr>\n",
       "    <tr>\n",
       "      <th>4</th>\n",
       "      <td>Apple</td>\n",
       "      <td>3</td>\n",
       "    </tr>\n",
       "    <tr>\n",
       "      <th>5</th>\n",
       "      <td>Banana</td>\n",
       "      <td>4</td>\n",
       "    </tr>\n",
       "    <tr>\n",
       "      <th>6</th>\n",
       "      <td>Banana</td>\n",
       "      <td>4</td>\n",
       "    </tr>\n",
       "  </tbody>\n",
       "</table>\n",
       "</div>"
      ],
      "text/plain": [
       "  Column1  Column2\n",
       "0   Apple        1\n",
       "1  Banana        1\n",
       "2   Apple        2\n",
       "3  Banana        3\n",
       "4   Apple        3\n",
       "5  Banana        4\n",
       "6  Banana        4"
      ]
     },
     "execution_count": 8,
     "metadata": {},
     "output_type": "execute_result"
    }
   ],
   "source": [
    "# Create a DataFrame\n",
    "data = pd.DataFrame({\"Column1\": [\"Apple\", \"Banana\"] * 3 + [\"Banana\"],\n",
    "                   \"Column2\": [1, 1, 2, 3, 3, 4, 4]})\n",
    "\n",
    "data"
   ]
  },
  {
   "cell_type": "code",
   "execution_count": 9,
   "id": "2f37b5fc",
   "metadata": {},
   "outputs": [
    {
     "data": {
      "text/plain": [
       "0    False\n",
       "1    False\n",
       "2    False\n",
       "3    False\n",
       "4    False\n",
       "5    False\n",
       "6     True\n",
       "dtype: bool"
      ]
     },
     "execution_count": 9,
     "metadata": {},
     "output_type": "execute_result"
    }
   ],
   "source": [
    "# Use 'Duplicated' method to check duplicates\n",
    "data.duplicated()"
   ]
  },
  {
   "cell_type": "code",
   "execution_count": 10,
   "id": "0d9b6c86",
   "metadata": {},
   "outputs": [
    {
     "data": {
      "text/html": [
       "<div>\n",
       "<style scoped>\n",
       "    .dataframe tbody tr th:only-of-type {\n",
       "        vertical-align: middle;\n",
       "    }\n",
       "\n",
       "    .dataframe tbody tr th {\n",
       "        vertical-align: top;\n",
       "    }\n",
       "\n",
       "    .dataframe thead th {\n",
       "        text-align: right;\n",
       "    }\n",
       "</style>\n",
       "<table border=\"1\" class=\"dataframe\">\n",
       "  <thead>\n",
       "    <tr style=\"text-align: right;\">\n",
       "      <th></th>\n",
       "      <th>Column1</th>\n",
       "      <th>Column2</th>\n",
       "    </tr>\n",
       "  </thead>\n",
       "  <tbody>\n",
       "    <tr>\n",
       "      <th>0</th>\n",
       "      <td>Apple</td>\n",
       "      <td>1</td>\n",
       "    </tr>\n",
       "    <tr>\n",
       "      <th>1</th>\n",
       "      <td>Banana</td>\n",
       "      <td>1</td>\n",
       "    </tr>\n",
       "    <tr>\n",
       "      <th>2</th>\n",
       "      <td>Apple</td>\n",
       "      <td>2</td>\n",
       "    </tr>\n",
       "    <tr>\n",
       "      <th>3</th>\n",
       "      <td>Banana</td>\n",
       "      <td>3</td>\n",
       "    </tr>\n",
       "    <tr>\n",
       "      <th>4</th>\n",
       "      <td>Apple</td>\n",
       "      <td>3</td>\n",
       "    </tr>\n",
       "    <tr>\n",
       "      <th>5</th>\n",
       "      <td>Banana</td>\n",
       "      <td>4</td>\n",
       "    </tr>\n",
       "  </tbody>\n",
       "</table>\n",
       "</div>"
      ],
      "text/plain": [
       "  Column1  Column2\n",
       "0   Apple        1\n",
       "1  Banana        1\n",
       "2   Apple        2\n",
       "3  Banana        3\n",
       "4   Apple        3\n",
       "5  Banana        4"
      ]
     },
     "execution_count": 10,
     "metadata": {},
     "output_type": "execute_result"
    }
   ],
   "source": [
    "# Drop duplicated rows\n",
    "data.drop_duplicates()"
   ]
  },
  {
   "cell_type": "code",
   "execution_count": 11,
   "id": "533f4ad4",
   "metadata": {},
   "outputs": [
    {
     "data": {
      "text/html": [
       "<div>\n",
       "<style scoped>\n",
       "    .dataframe tbody tr th:only-of-type {\n",
       "        vertical-align: middle;\n",
       "    }\n",
       "\n",
       "    .dataframe tbody tr th {\n",
       "        vertical-align: top;\n",
       "    }\n",
       "\n",
       "    .dataframe thead th {\n",
       "        text-align: right;\n",
       "    }\n",
       "</style>\n",
       "<table border=\"1\" class=\"dataframe\">\n",
       "  <thead>\n",
       "    <tr style=\"text-align: right;\">\n",
       "      <th></th>\n",
       "      <th>Column1</th>\n",
       "      <th>Column2</th>\n",
       "      <th>Column3</th>\n",
       "    </tr>\n",
       "  </thead>\n",
       "  <tbody>\n",
       "    <tr>\n",
       "      <th>0</th>\n",
       "      <td>Apple</td>\n",
       "      <td>1</td>\n",
       "      <td>0</td>\n",
       "    </tr>\n",
       "    <tr>\n",
       "      <th>1</th>\n",
       "      <td>Banana</td>\n",
       "      <td>1</td>\n",
       "      <td>1</td>\n",
       "    </tr>\n",
       "    <tr>\n",
       "      <th>2</th>\n",
       "      <td>Apple</td>\n",
       "      <td>2</td>\n",
       "      <td>2</td>\n",
       "    </tr>\n",
       "    <tr>\n",
       "      <th>3</th>\n",
       "      <td>Banana</td>\n",
       "      <td>3</td>\n",
       "      <td>3</td>\n",
       "    </tr>\n",
       "    <tr>\n",
       "      <th>4</th>\n",
       "      <td>Apple</td>\n",
       "      <td>3</td>\n",
       "      <td>4</td>\n",
       "    </tr>\n",
       "    <tr>\n",
       "      <th>5</th>\n",
       "      <td>Banana</td>\n",
       "      <td>4</td>\n",
       "      <td>5</td>\n",
       "    </tr>\n",
       "    <tr>\n",
       "      <th>6</th>\n",
       "      <td>Banana</td>\n",
       "      <td>4</td>\n",
       "      <td>6</td>\n",
       "    </tr>\n",
       "  </tbody>\n",
       "</table>\n",
       "</div>"
      ],
      "text/plain": [
       "  Column1  Column2  Column3\n",
       "0   Apple        1        0\n",
       "1  Banana        1        1\n",
       "2   Apple        2        2\n",
       "3  Banana        3        3\n",
       "4   Apple        3        4\n",
       "5  Banana        4        5\n",
       "6  Banana        4        6"
      ]
     },
     "execution_count": 11,
     "metadata": {},
     "output_type": "execute_result"
    }
   ],
   "source": [
    "# Add a column for next step\n",
    "data[\"Column3\"] = range(7)\n",
    "\n",
    "data"
   ]
  },
  {
   "cell_type": "code",
   "execution_count": 12,
   "id": "edbc6b5c",
   "metadata": {},
   "outputs": [
    {
     "data": {
      "text/html": [
       "<div>\n",
       "<style scoped>\n",
       "    .dataframe tbody tr th:only-of-type {\n",
       "        vertical-align: middle;\n",
       "    }\n",
       "\n",
       "    .dataframe tbody tr th {\n",
       "        vertical-align: top;\n",
       "    }\n",
       "\n",
       "    .dataframe thead th {\n",
       "        text-align: right;\n",
       "    }\n",
       "</style>\n",
       "<table border=\"1\" class=\"dataframe\">\n",
       "  <thead>\n",
       "    <tr style=\"text-align: right;\">\n",
       "      <th></th>\n",
       "      <th>Column1</th>\n",
       "      <th>Column2</th>\n",
       "      <th>Column3</th>\n",
       "    </tr>\n",
       "  </thead>\n",
       "  <tbody>\n",
       "    <tr>\n",
       "      <th>0</th>\n",
       "      <td>Apple</td>\n",
       "      <td>1</td>\n",
       "      <td>0</td>\n",
       "    </tr>\n",
       "    <tr>\n",
       "      <th>1</th>\n",
       "      <td>Banana</td>\n",
       "      <td>1</td>\n",
       "      <td>1</td>\n",
       "    </tr>\n",
       "  </tbody>\n",
       "</table>\n",
       "</div>"
      ],
      "text/plain": [
       "  Column1  Column2  Column3\n",
       "0   Apple        1        0\n",
       "1  Banana        1        1"
      ]
     },
     "execution_count": 12,
     "metadata": {},
     "output_type": "execute_result"
    }
   ],
   "source": [
    "# Use `drop_duplicated(subset=[\"COLUMN\"])` to drop duplicates based on the column\n",
    "data.drop_duplicates(subset=[\"Column1\"])\n"
   ]
  },
  {
   "cell_type": "code",
   "execution_count": 13,
   "id": "251fc726",
   "metadata": {},
   "outputs": [
    {
     "data": {
      "text/html": [
       "<div>\n",
       "<style scoped>\n",
       "    .dataframe tbody tr th:only-of-type {\n",
       "        vertical-align: middle;\n",
       "    }\n",
       "\n",
       "    .dataframe tbody tr th {\n",
       "        vertical-align: top;\n",
       "    }\n",
       "\n",
       "    .dataframe thead th {\n",
       "        text-align: right;\n",
       "    }\n",
       "</style>\n",
       "<table border=\"1\" class=\"dataframe\">\n",
       "  <thead>\n",
       "    <tr style=\"text-align: right;\">\n",
       "      <th></th>\n",
       "      <th>Column1</th>\n",
       "      <th>Column2</th>\n",
       "      <th>Column3</th>\n",
       "    </tr>\n",
       "  </thead>\n",
       "  <tbody>\n",
       "    <tr>\n",
       "      <th>0</th>\n",
       "      <td>Apple</td>\n",
       "      <td>1</td>\n",
       "      <td>0</td>\n",
       "    </tr>\n",
       "    <tr>\n",
       "      <th>1</th>\n",
       "      <td>Banana</td>\n",
       "      <td>1</td>\n",
       "      <td>1</td>\n",
       "    </tr>\n",
       "    <tr>\n",
       "      <th>2</th>\n",
       "      <td>Apple</td>\n",
       "      <td>2</td>\n",
       "      <td>2</td>\n",
       "    </tr>\n",
       "    <tr>\n",
       "      <th>3</th>\n",
       "      <td>Banana</td>\n",
       "      <td>3</td>\n",
       "      <td>3</td>\n",
       "    </tr>\n",
       "    <tr>\n",
       "      <th>4</th>\n",
       "      <td>Apple</td>\n",
       "      <td>3</td>\n",
       "      <td>4</td>\n",
       "    </tr>\n",
       "    <tr>\n",
       "      <th>6</th>\n",
       "      <td>Banana</td>\n",
       "      <td>4</td>\n",
       "      <td>6</td>\n",
       "    </tr>\n",
       "  </tbody>\n",
       "</table>\n",
       "</div>"
      ],
      "text/plain": [
       "  Column1  Column2  Column3\n",
       "0   Apple        1        0\n",
       "1  Banana        1        1\n",
       "2   Apple        2        2\n",
       "3  Banana        3        3\n",
       "4   Apple        3        4\n",
       "6  Banana        4        6"
      ]
     },
     "execution_count": 13,
     "metadata": {},
     "output_type": "execute_result"
    }
   ],
   "source": [
    "# Use 'drop_duplicates(keep=\"last\") to drop duplicates from the last one\n",
    "data.drop_duplicates([\"Column1\", \"Column2\"], keep=\"last\")"
   ]
  },
  {
   "cell_type": "markdown",
   "id": "3c981700",
   "metadata": {},
   "source": [
    "# 2. Transform Data using Functions or Mapping"
   ]
  },
  {
   "cell_type": "markdown",
   "id": "0a470f3c",
   "metadata": {},
   "source": [
    "- Use `map()` method\n",
    "  - Transform data based on values in arrays, Series, or columns in a DataFrame"
   ]
  },
  {
   "cell_type": "code",
   "execution_count": 14,
   "id": "56d13dbe",
   "metadata": {},
   "outputs": [
    {
     "data": {
      "text/html": [
       "<div>\n",
       "<style scoped>\n",
       "    .dataframe tbody tr th:only-of-type {\n",
       "        vertical-align: middle;\n",
       "    }\n",
       "\n",
       "    .dataframe tbody tr th {\n",
       "        vertical-align: top;\n",
       "    }\n",
       "\n",
       "    .dataframe thead th {\n",
       "        text-align: right;\n",
       "    }\n",
       "</style>\n",
       "<table border=\"1\" class=\"dataframe\">\n",
       "  <thead>\n",
       "    <tr style=\"text-align: right;\">\n",
       "      <th></th>\n",
       "      <th>Fruits</th>\n",
       "      <th>Weights</th>\n",
       "    </tr>\n",
       "  </thead>\n",
       "  <tbody>\n",
       "    <tr>\n",
       "      <th>0</th>\n",
       "      <td>Apple</td>\n",
       "      <td>3.0</td>\n",
       "    </tr>\n",
       "    <tr>\n",
       "      <th>1</th>\n",
       "      <td>Banana</td>\n",
       "      <td>5.0</td>\n",
       "    </tr>\n",
       "    <tr>\n",
       "      <th>2</th>\n",
       "      <td>Mango</td>\n",
       "      <td>24.0</td>\n",
       "    </tr>\n",
       "    <tr>\n",
       "      <th>3</th>\n",
       "      <td>Pineapple</td>\n",
       "      <td>4.0</td>\n",
       "    </tr>\n",
       "    <tr>\n",
       "      <th>4</th>\n",
       "      <td>Guava</td>\n",
       "      <td>6.2</td>\n",
       "    </tr>\n",
       "    <tr>\n",
       "      <th>5</th>\n",
       "      <td>Grape</td>\n",
       "      <td>31.0</td>\n",
       "    </tr>\n",
       "    <tr>\n",
       "      <th>6</th>\n",
       "      <td>Orange</td>\n",
       "      <td>6.0</td>\n",
       "    </tr>\n",
       "    <tr>\n",
       "      <th>7</th>\n",
       "      <td>Melon</td>\n",
       "      <td>1.8</td>\n",
       "    </tr>\n",
       "  </tbody>\n",
       "</table>\n",
       "</div>"
      ],
      "text/plain": [
       "      Fruits  Weights\n",
       "0      Apple      3.0\n",
       "1     Banana      5.0\n",
       "2      Mango     24.0\n",
       "3  Pineapple      4.0\n",
       "4      Guava      6.2\n",
       "5      Grape     31.0\n",
       "6     Orange      6.0\n",
       "7      Melon      1.8"
      ]
     },
     "execution_count": 14,
     "metadata": {},
     "output_type": "execute_result"
    }
   ],
   "source": [
    "# Create a DataFrame\n",
    "data1 = pd.DataFrame ({\"Fruits\": [\"Apple\", \"Banana\", \"Mango\", \"Pineapple\", \"Guava\", \"Grape\", \"Orange\", \"Melon\"],\n",
    "                     \"Weights\": [3, 5, 24, 4, 6.2, 31, 6, 1.8]})\n",
    "\n",
    "data2 = pd.DataFrame ({\"Fruits\": [\"Apple\", \"Banana\", \"Mango\", \"Pineapple\", \"Guava\", \"Grape\", \"Orange\", \"Melon\"],\n",
    "                     \"Weights\": [3, 5, 24, 4, 6.2, 31, 6, 1.8]})\n",
    "\n",
    "data1"
   ]
  },
  {
   "cell_type": "code",
   "execution_count": 15,
   "id": "3411607a",
   "metadata": {},
   "outputs": [],
   "source": [
    "# Add a column of colors of each fruit\n",
    "colors_of_fruits = {\"Apple\": \"Red\",\n",
    "                     \"Banana\": \"Yellow\",\n",
    "                     \"Mango\": \"Golden Yellow\",\n",
    "                     \"Pineapple\": \"Brown\",\n",
    "                     \"Guava\": \"Green\",\n",
    "                     \"Grape\": \"Purple\",\n",
    "                     \"Orange\": \"Orange\",\n",
    "                     \"Melon\": \"Green\"\n",
    "}"
   ]
  },
  {
   "cell_type": "markdown",
   "id": "0dfb1da1",
   "metadata": {},
   "source": [
    "## 2.1. Map"
   ]
  },
  {
   "cell_type": "code",
   "execution_count": 16,
   "id": "c6d79770",
   "metadata": {},
   "outputs": [
    {
     "data": {
      "text/html": [
       "<div>\n",
       "<style scoped>\n",
       "    .dataframe tbody tr th:only-of-type {\n",
       "        vertical-align: middle;\n",
       "    }\n",
       "\n",
       "    .dataframe tbody tr th {\n",
       "        vertical-align: top;\n",
       "    }\n",
       "\n",
       "    .dataframe thead th {\n",
       "        text-align: right;\n",
       "    }\n",
       "</style>\n",
       "<table border=\"1\" class=\"dataframe\">\n",
       "  <thead>\n",
       "    <tr style=\"text-align: right;\">\n",
       "      <th></th>\n",
       "      <th>Fruits</th>\n",
       "      <th>Weights</th>\n",
       "      <th>Colors</th>\n",
       "    </tr>\n",
       "  </thead>\n",
       "  <tbody>\n",
       "    <tr>\n",
       "      <th>0</th>\n",
       "      <td>Apple</td>\n",
       "      <td>3.0</td>\n",
       "      <td>Red</td>\n",
       "    </tr>\n",
       "    <tr>\n",
       "      <th>1</th>\n",
       "      <td>Banana</td>\n",
       "      <td>5.0</td>\n",
       "      <td>Yellow</td>\n",
       "    </tr>\n",
       "    <tr>\n",
       "      <th>2</th>\n",
       "      <td>Mango</td>\n",
       "      <td>24.0</td>\n",
       "      <td>Golden Yellow</td>\n",
       "    </tr>\n",
       "    <tr>\n",
       "      <th>3</th>\n",
       "      <td>Pineapple</td>\n",
       "      <td>4.0</td>\n",
       "      <td>Brown</td>\n",
       "    </tr>\n",
       "    <tr>\n",
       "      <th>4</th>\n",
       "      <td>Guava</td>\n",
       "      <td>6.2</td>\n",
       "      <td>Green</td>\n",
       "    </tr>\n",
       "    <tr>\n",
       "      <th>5</th>\n",
       "      <td>Grape</td>\n",
       "      <td>31.0</td>\n",
       "      <td>Purple</td>\n",
       "    </tr>\n",
       "    <tr>\n",
       "      <th>6</th>\n",
       "      <td>Orange</td>\n",
       "      <td>6.0</td>\n",
       "      <td>Orange</td>\n",
       "    </tr>\n",
       "    <tr>\n",
       "      <th>7</th>\n",
       "      <td>Melon</td>\n",
       "      <td>1.8</td>\n",
       "      <td>Green</td>\n",
       "    </tr>\n",
       "  </tbody>\n",
       "</table>\n",
       "</div>"
      ],
      "text/plain": [
       "      Fruits  Weights         Colors\n",
       "0      Apple      3.0            Red\n",
       "1     Banana      5.0         Yellow\n",
       "2      Mango     24.0  Golden Yellow\n",
       "3  Pineapple      4.0          Brown\n",
       "4      Guava      6.2          Green\n",
       "5      Grape     31.0         Purple\n",
       "6     Orange      6.0         Orange\n",
       "7      Melon      1.8          Green"
      ]
     },
     "execution_count": 16,
     "metadata": {},
     "output_type": "execute_result"
    }
   ],
   "source": [
    "# Use 'map' method to transform values\n",
    "data1[\"Colors\"] = data1[\"Fruits\"].map(colors_of_fruits)\n",
    "\n",
    "data1"
   ]
  },
  {
   "cell_type": "markdown",
   "id": "fc1e4216",
   "metadata": {},
   "source": [
    "## 2.2. Function"
   ]
  },
  {
   "cell_type": "code",
   "execution_count": 17,
   "id": "64348935",
   "metadata": {},
   "outputs": [],
   "source": [
    "# Use 'map' method to transform values\n",
    "\n",
    "# Define a function\n",
    "def get_colors(x):\n",
    "    return colors_of_fruits[x]"
   ]
  },
  {
   "cell_type": "code",
   "execution_count": 18,
   "id": "06486c17",
   "metadata": {},
   "outputs": [
    {
     "data": {
      "text/html": [
       "<div>\n",
       "<style scoped>\n",
       "    .dataframe tbody tr th:only-of-type {\n",
       "        vertical-align: middle;\n",
       "    }\n",
       "\n",
       "    .dataframe tbody tr th {\n",
       "        vertical-align: top;\n",
       "    }\n",
       "\n",
       "    .dataframe thead th {\n",
       "        text-align: right;\n",
       "    }\n",
       "</style>\n",
       "<table border=\"1\" class=\"dataframe\">\n",
       "  <thead>\n",
       "    <tr style=\"text-align: right;\">\n",
       "      <th></th>\n",
       "      <th>Fruits</th>\n",
       "      <th>Weights</th>\n",
       "      <th>Colors</th>\n",
       "    </tr>\n",
       "  </thead>\n",
       "  <tbody>\n",
       "    <tr>\n",
       "      <th>0</th>\n",
       "      <td>Apple</td>\n",
       "      <td>3.0</td>\n",
       "      <td>Red</td>\n",
       "    </tr>\n",
       "    <tr>\n",
       "      <th>1</th>\n",
       "      <td>Banana</td>\n",
       "      <td>5.0</td>\n",
       "      <td>Yellow</td>\n",
       "    </tr>\n",
       "    <tr>\n",
       "      <th>2</th>\n",
       "      <td>Mango</td>\n",
       "      <td>24.0</td>\n",
       "      <td>Golden Yellow</td>\n",
       "    </tr>\n",
       "    <tr>\n",
       "      <th>3</th>\n",
       "      <td>Pineapple</td>\n",
       "      <td>4.0</td>\n",
       "      <td>Brown</td>\n",
       "    </tr>\n",
       "    <tr>\n",
       "      <th>4</th>\n",
       "      <td>Guava</td>\n",
       "      <td>6.2</td>\n",
       "      <td>Green</td>\n",
       "    </tr>\n",
       "    <tr>\n",
       "      <th>5</th>\n",
       "      <td>Grape</td>\n",
       "      <td>31.0</td>\n",
       "      <td>Purple</td>\n",
       "    </tr>\n",
       "    <tr>\n",
       "      <th>6</th>\n",
       "      <td>Orange</td>\n",
       "      <td>6.0</td>\n",
       "      <td>Orange</td>\n",
       "    </tr>\n",
       "    <tr>\n",
       "      <th>7</th>\n",
       "      <td>Melon</td>\n",
       "      <td>1.8</td>\n",
       "      <td>Green</td>\n",
       "    </tr>\n",
       "  </tbody>\n",
       "</table>\n",
       "</div>"
      ],
      "text/plain": [
       "      Fruits  Weights         Colors\n",
       "0      Apple      3.0            Red\n",
       "1     Banana      5.0         Yellow\n",
       "2      Mango     24.0  Golden Yellow\n",
       "3  Pineapple      4.0          Brown\n",
       "4      Guava      6.2          Green\n",
       "5      Grape     31.0         Purple\n",
       "6     Orange      6.0         Orange\n",
       "7      Melon      1.8          Green"
      ]
     },
     "execution_count": 18,
     "metadata": {},
     "output_type": "execute_result"
    }
   ],
   "source": [
    "data2[\"Colors\"] = data2[\"Fruits\"].map(get_colors)\n",
    "\n",
    "data2"
   ]
  },
  {
   "cell_type": "markdown",
   "id": "05216342",
   "metadata": {},
   "source": [
    "# 3. Replace Values"
   ]
  },
  {
   "cell_type": "markdown",
   "id": "9f4de184",
   "metadata": {},
   "source": [
    "- Use `replace()` method"
   ]
  },
  {
   "cell_type": "code",
   "execution_count": 19,
   "id": "f248498b",
   "metadata": {},
   "outputs": [
    {
     "data": {
      "text/plain": [
       "0       1.0\n",
       "1    -999.0\n",
       "2       2.0\n",
       "3    -999.0\n",
       "4       3.0\n",
       "5   -1000.0\n",
       "dtype: float64"
      ]
     },
     "execution_count": 19,
     "metadata": {},
     "output_type": "execute_result"
    }
   ],
   "source": [
    "# Create a Seriese\n",
    "data = pd.Series([1., -999, 2., -999, 3., -1000])\n",
    "\n",
    "data"
   ]
  },
  {
   "cell_type": "code",
   "execution_count": 20,
   "id": "bce641b2",
   "metadata": {},
   "outputs": [
    {
     "data": {
      "text/plain": [
       "0       1.0\n",
       "1       NaN\n",
       "2       2.0\n",
       "3       NaN\n",
       "4       3.0\n",
       "5   -1000.0\n",
       "dtype: float64"
      ]
     },
     "execution_count": 20,
     "metadata": {},
     "output_type": "execute_result"
    }
   ],
   "source": [
    "# Replace a single value\n",
    "data1 = data.replace(-999, np.nan)\n",
    "\n",
    "data1"
   ]
  },
  {
   "cell_type": "code",
   "execution_count": 21,
   "id": "6c760679",
   "metadata": {},
   "outputs": [
    {
     "data": {
      "text/plain": [
       "0    1.0\n",
       "1    NaN\n",
       "2    2.0\n",
       "3    NaN\n",
       "4    3.0\n",
       "5    NaN\n",
       "dtype: float64"
      ]
     },
     "execution_count": 21,
     "metadata": {},
     "output_type": "execute_result"
    }
   ],
   "source": [
    "# Replace multiple values to a single new value\n",
    "data2 = data.replace([-999, -1000], np.nan)\n",
    "\n",
    "data2"
   ]
  },
  {
   "cell_type": "code",
   "execution_count": 22,
   "id": "74d863ac",
   "metadata": {},
   "outputs": [
    {
     "data": {
      "text/plain": [
       "0    1.0\n",
       "1    NaN\n",
       "2    2.0\n",
       "3    NaN\n",
       "4    3.0\n",
       "5    0.0\n",
       "dtype: float64"
      ]
     },
     "execution_count": 22,
     "metadata": {},
     "output_type": "execute_result"
    }
   ],
   "source": [
    "# Replace multiple values to each value: 'replace' method\n",
    "data3 = data.replace([-999, -1000], [np.nan, 0.0])\n",
    "\n",
    "data3"
   ]
  },
  {
   "cell_type": "code",
   "execution_count": 23,
   "id": "5eebc3ca",
   "metadata": {},
   "outputs": [
    {
     "data": {
      "text/plain": [
       "0    1.0\n",
       "1    NaN\n",
       "2    2.0\n",
       "3    NaN\n",
       "4    3.0\n",
       "5    0.0\n",
       "dtype: float64"
      ]
     },
     "execution_count": 23,
     "metadata": {},
     "output_type": "execute_result"
    }
   ],
   "source": [
    "# Replace multiple values to each value: Dictionary type\n",
    "data4 = data.replace({-999: np.nan, -1000:0.0})\n",
    "\n",
    "data4"
   ]
  },
  {
   "cell_type": "markdown",
   "id": "a4494f3f",
   "metadata": {},
   "source": [
    "# 4. Rename Axis Indexes"
   ]
  },
  {
   "cell_type": "code",
   "execution_count": 24,
   "id": "989938ad",
   "metadata": {},
   "outputs": [
    {
     "data": {
      "text/html": [
       "<div>\n",
       "<style scoped>\n",
       "    .dataframe tbody tr th:only-of-type {\n",
       "        vertical-align: middle;\n",
       "    }\n",
       "\n",
       "    .dataframe tbody tr th {\n",
       "        vertical-align: top;\n",
       "    }\n",
       "\n",
       "    .dataframe thead th {\n",
       "        text-align: right;\n",
       "    }\n",
       "</style>\n",
       "<table border=\"1\" class=\"dataframe\">\n",
       "  <thead>\n",
       "    <tr style=\"text-align: right;\">\n",
       "      <th></th>\n",
       "      <th>Year1</th>\n",
       "      <th>Year2</th>\n",
       "      <th>Year3</th>\n",
       "      <th>Year4</th>\n",
       "      <th>Year5</th>\n",
       "      <th>Year6</th>\n",
       "    </tr>\n",
       "  </thead>\n",
       "  <tbody>\n",
       "    <tr>\n",
       "      <th>Math</th>\n",
       "      <td>0</td>\n",
       "      <td>1</td>\n",
       "      <td>2</td>\n",
       "      <td>3</td>\n",
       "      <td>4</td>\n",
       "      <td>5</td>\n",
       "    </tr>\n",
       "    <tr>\n",
       "      <th>Music</th>\n",
       "      <td>6</td>\n",
       "      <td>7</td>\n",
       "      <td>8</td>\n",
       "      <td>9</td>\n",
       "      <td>10</td>\n",
       "      <td>11</td>\n",
       "    </tr>\n",
       "    <tr>\n",
       "      <th>English</th>\n",
       "      <td>12</td>\n",
       "      <td>13</td>\n",
       "      <td>14</td>\n",
       "      <td>15</td>\n",
       "      <td>16</td>\n",
       "      <td>17</td>\n",
       "    </tr>\n",
       "    <tr>\n",
       "      <th>Science</th>\n",
       "      <td>18</td>\n",
       "      <td>19</td>\n",
       "      <td>20</td>\n",
       "      <td>21</td>\n",
       "      <td>22</td>\n",
       "      <td>23</td>\n",
       "    </tr>\n",
       "  </tbody>\n",
       "</table>\n",
       "</div>"
      ],
      "text/plain": [
       "         Year1  Year2  Year3  Year4  Year5  Year6\n",
       "Math         0      1      2      3      4      5\n",
       "Music        6      7      8      9     10     11\n",
       "English     12     13     14     15     16     17\n",
       "Science     18     19     20     21     22     23"
      ]
     },
     "execution_count": 24,
     "metadata": {},
     "output_type": "execute_result"
    }
   ],
   "source": [
    "# Create a DataFrame\n",
    "data = pd.DataFrame(np.arange(24).reshape((4, 6)),\n",
    "                   index = [\"Math\", \"Music\", \"English\", \"Science\"],\n",
    "                   columns = [\"Year1\", \"Year2\", \"Year3\", \"Year4\", \"Year5\", \"Year6\"])\n",
    "\n",
    "data"
   ]
  },
  {
   "cell_type": "code",
   "execution_count": 25,
   "id": "05cc036e",
   "metadata": {},
   "outputs": [
    {
     "data": {
      "text/plain": [
       "Index(['MATH', 'MUSIC', 'ENGLI', 'SCIEN'], dtype='object')"
      ]
     },
     "execution_count": 25,
     "metadata": {},
     "output_type": "execute_result"
    }
   ],
   "source": [
    "# Replace with Capital letters: Use 'upper()' option and 'map' method\n",
    "\n",
    "def transform(x):\n",
    "    return x[:5].upper()\n",
    "\n",
    "data2 = data.index.map(transform)\n",
    "data2"
   ]
  },
  {
   "cell_type": "code",
   "execution_count": 26,
   "id": "36a36501",
   "metadata": {},
   "outputs": [
    {
     "data": {
      "text/html": [
       "<div>\n",
       "<style scoped>\n",
       "    .dataframe tbody tr th:only-of-type {\n",
       "        vertical-align: middle;\n",
       "    }\n",
       "\n",
       "    .dataframe tbody tr th {\n",
       "        vertical-align: top;\n",
       "    }\n",
       "\n",
       "    .dataframe thead th {\n",
       "        text-align: right;\n",
       "    }\n",
       "</style>\n",
       "<table border=\"1\" class=\"dataframe\">\n",
       "  <thead>\n",
       "    <tr style=\"text-align: right;\">\n",
       "      <th></th>\n",
       "      <th>YEAR1</th>\n",
       "      <th>YEAR2</th>\n",
       "      <th>YEAR3</th>\n",
       "      <th>YEAR4</th>\n",
       "      <th>YEAR5</th>\n",
       "      <th>YEAR6</th>\n",
       "    </tr>\n",
       "  </thead>\n",
       "  <tbody>\n",
       "    <tr>\n",
       "      <th>Math</th>\n",
       "      <td>0</td>\n",
       "      <td>1</td>\n",
       "      <td>2</td>\n",
       "      <td>3</td>\n",
       "      <td>4</td>\n",
       "      <td>5</td>\n",
       "    </tr>\n",
       "    <tr>\n",
       "      <th>Music</th>\n",
       "      <td>6</td>\n",
       "      <td>7</td>\n",
       "      <td>8</td>\n",
       "      <td>9</td>\n",
       "      <td>10</td>\n",
       "      <td>11</td>\n",
       "    </tr>\n",
       "    <tr>\n",
       "      <th>English</th>\n",
       "      <td>12</td>\n",
       "      <td>13</td>\n",
       "      <td>14</td>\n",
       "      <td>15</td>\n",
       "      <td>16</td>\n",
       "      <td>17</td>\n",
       "    </tr>\n",
       "    <tr>\n",
       "      <th>Science</th>\n",
       "      <td>18</td>\n",
       "      <td>19</td>\n",
       "      <td>20</td>\n",
       "      <td>21</td>\n",
       "      <td>22</td>\n",
       "      <td>23</td>\n",
       "    </tr>\n",
       "  </tbody>\n",
       "</table>\n",
       "</div>"
      ],
      "text/plain": [
       "         YEAR1  YEAR2  YEAR3  YEAR4  YEAR5  YEAR6\n",
       "Math         0      1      2      3      4      5\n",
       "Music        6      7      8      9     10     11\n",
       "English     12     13     14     15     16     17\n",
       "Science     18     19     20     21     22     23"
      ]
     },
     "execution_count": 26,
     "metadata": {},
     "output_type": "execute_result"
    }
   ],
   "source": [
    "# use 'rename' method -> Not modify the original data\n",
    "\n",
    "data3 = data.rename(index=str.title, columns=str.upper)\n",
    "\n",
    "data3"
   ]
  },
  {
   "cell_type": "code",
   "execution_count": 27,
   "id": "d10954d3",
   "metadata": {},
   "outputs": [
    {
     "data": {
      "text/html": [
       "<div>\n",
       "<style scoped>\n",
       "    .dataframe tbody tr th:only-of-type {\n",
       "        vertical-align: middle;\n",
       "    }\n",
       "\n",
       "    .dataframe tbody tr th {\n",
       "        vertical-align: top;\n",
       "    }\n",
       "\n",
       "    .dataframe thead th {\n",
       "        text-align: right;\n",
       "    }\n",
       "</style>\n",
       "<table border=\"1\" class=\"dataframe\">\n",
       "  <thead>\n",
       "    <tr style=\"text-align: right;\">\n",
       "      <th></th>\n",
       "      <th>Year1</th>\n",
       "      <th>Year2</th>\n",
       "      <th>Year3</th>\n",
       "      <th>Year4</th>\n",
       "      <th>Year5</th>\n",
       "      <th>Year Six</th>\n",
       "    </tr>\n",
       "  </thead>\n",
       "  <tbody>\n",
       "    <tr>\n",
       "      <th>Mathmatics</th>\n",
       "      <td>0</td>\n",
       "      <td>1</td>\n",
       "      <td>2</td>\n",
       "      <td>3</td>\n",
       "      <td>4</td>\n",
       "      <td>5</td>\n",
       "    </tr>\n",
       "    <tr>\n",
       "      <th>Music</th>\n",
       "      <td>6</td>\n",
       "      <td>7</td>\n",
       "      <td>8</td>\n",
       "      <td>9</td>\n",
       "      <td>10</td>\n",
       "      <td>11</td>\n",
       "    </tr>\n",
       "    <tr>\n",
       "      <th>English</th>\n",
       "      <td>12</td>\n",
       "      <td>13</td>\n",
       "      <td>14</td>\n",
       "      <td>15</td>\n",
       "      <td>16</td>\n",
       "      <td>17</td>\n",
       "    </tr>\n",
       "    <tr>\n",
       "      <th>Science</th>\n",
       "      <td>18</td>\n",
       "      <td>19</td>\n",
       "      <td>20</td>\n",
       "      <td>21</td>\n",
       "      <td>22</td>\n",
       "      <td>23</td>\n",
       "    </tr>\n",
       "  </tbody>\n",
       "</table>\n",
       "</div>"
      ],
      "text/plain": [
       "            Year1  Year2  Year3  Year4  Year5  Year Six\n",
       "Mathmatics      0      1      2      3      4         5\n",
       "Music           6      7      8      9     10        11\n",
       "English        12     13     14     15     16        17\n",
       "Science        18     19     20     21     22        23"
      ]
     },
     "execution_count": 27,
     "metadata": {},
     "output_type": "execute_result"
    }
   ],
   "source": [
    "# Use 'rename' method to modify a subset of axis lables\n",
    "data4 = data.rename(index = {\"Math\": \"Mathmatics\"},\n",
    "                   columns = {\"Year6\": \"Year Six\"})\n",
    "\n",
    "data4"
   ]
  },
  {
   "cell_type": "markdown",
   "id": "b4223aac",
   "metadata": {},
   "source": [
    "# 5. Discretization and Binning"
   ]
  },
  {
   "cell_type": "markdown",
   "id": "cb4f1298",
   "metadata": {},
   "source": [
    "- `pd.cut()`\n",
    "  - Discretize continuous data\n",
    "  - Seperate continuous data into 'bins'\n",
    "\n",
    "- `pd.value_count()`   \n",
    "  : Check intervals and number of values in each bin"
   ]
  },
  {
   "cell_type": "markdown",
   "id": "c0dadf37",
   "metadata": {},
   "source": [
    "## 5.1. Use the 'Bin' by manual"
   ]
  },
  {
   "cell_type": "code",
   "execution_count": 37,
   "id": "713e862e",
   "metadata": {},
   "outputs": [
    {
     "data": {
      "text/plain": [
       "[1, 4, 8, 12, 25, 28, 30, 39, 40, 48, 53, 59, 62, 64, 87, 89, 90, 92, 98]"
      ]
     },
     "execution_count": 37,
     "metadata": {},
     "output_type": "execute_result"
    }
   ],
   "source": [
    "# Create a list\n",
    "studentID = [ 1, 4, 8, 12, 25, 28, 30, 39, 40, 48, 53, 59, 62, 64, 87, 89, 90, 92, 98 ]\n",
    "\n",
    "studentID"
   ]
  },
  {
   "cell_type": "code",
   "execution_count": 44,
   "id": "d95c93dd",
   "metadata": {},
   "outputs": [
    {
     "data": {
      "text/plain": [
       "[NaN, (1.0, 20.0], (1.0, 20.0], (1.0, 20.0], (20.0, 40.0], ..., (80, 100], (80, 100], (80, 100], (80, 100], (80, 100]]\n",
       "Length: 19\n",
       "Categories (5, interval[int64, right]): [(1, 20] < (20, 40] < (40, 60] < (60, 80] < (80, 100]]"
      ]
     },
     "execution_count": 44,
     "metadata": {},
     "output_type": "execute_result"
    }
   ],
   "source": [
    "# Seperate numbers into 'bins'\n",
    "\n",
    "# Create a bin\n",
    "bins = [1, 20, 40, 60, 80, 100]\n",
    "\n",
    "# Devide the list into five groups: 1 to 20, 21 to 40, 41 to 60, 61 to 80, 81 to 100\n",
    "studentID_categories = pd.cut(items, bins)\n",
    "\n",
    "studentID_categories"
   ]
  },
  {
   "cell_type": "code",
   "execution_count": 45,
   "id": "5e74e9d4",
   "metadata": {},
   "outputs": [
    {
     "data": {
      "text/plain": [
       "array([-1,  0,  0,  0,  1,  1,  1,  1,  1,  2,  2,  2,  3,  3,  4,  4,  4,\n",
       "        4,  4], dtype=int8)"
      ]
     },
     "execution_count": 45,
     "metadata": {},
     "output_type": "execute_result"
    }
   ],
   "source": [
    "# Check numbers of values in each category\n",
    "studentID_categories.codes"
   ]
  },
  {
   "cell_type": "code",
   "execution_count": 46,
   "id": "1a6d2f6d",
   "metadata": {},
   "outputs": [
    {
     "data": {
      "text/plain": [
       "IntervalIndex([(1, 20], (20, 40], (40, 60], (60, 80], (80, 100]], dtype='interval[int64, right]')"
      ]
     },
     "execution_count": 46,
     "metadata": {},
     "output_type": "execute_result"
    }
   ],
   "source": [
    "# Check intervals in each group\n",
    "studentID_categories.categories"
   ]
  },
  {
   "cell_type": "code",
   "execution_count": 47,
   "id": "6fdbd0be",
   "metadata": {},
   "outputs": [
    {
     "data": {
      "text/plain": [
       "Interval(1, 20, closed='right')"
      ]
     },
     "execution_count": 47,
     "metadata": {},
     "output_type": "execute_result"
    }
   ],
   "source": [
    "# Check the first interval\n",
    "studentID_categories.categories[0]"
   ]
  },
  {
   "cell_type": "code",
   "execution_count": 48,
   "id": "4e0d43c4",
   "metadata": {},
   "outputs": [
    {
     "data": {
      "text/plain": [
       "(20, 40]     5\n",
       "(80, 100]    5\n",
       "(1, 20]      3\n",
       "(40, 60]     3\n",
       "(60, 80]     2\n",
       "dtype: int64"
      ]
     },
     "execution_count": 48,
     "metadata": {},
     "output_type": "execute_result"
    }
   ],
   "source": [
    "# Use 'pd.value_count(categories)' to check the bin counts: (interval + numbers of values)\n",
    "pd.value_counts(studentID_categories)"
   ]
  },
  {
   "cell_type": "code",
   "execution_count": 50,
   "id": "7ea8ac0b",
   "metadata": {},
   "outputs": [
    {
     "data": {
      "text/plain": [
       "[NaN, 'Beginner', 'Beginner', 'Beginner', 'Pre-Intermediate', ..., 'Advanced', 'Advanced', 'Advanced', 'Advanced', 'Advanced']\n",
       "Length: 19\n",
       "Categories (5, object): ['Beginner' < 'Pre-Intermediate' < 'Intermediate' < 'Pre-Advanced' < 'Advanced']"
      ]
     },
     "execution_count": 50,
     "metadata": {},
     "output_type": "execute_result"
    }
   ],
   "source": [
    "# Label the default interval-based bin\n",
    "\n",
    "# Create a list for labels\n",
    "classes = [\"Beginner\", \"Pre-Intermediate\", \"Intermediate\", \"Pre-Advanced\", \"Advanced\"]\n",
    "\n",
    "# Add labels to the bin\n",
    "pd.cut(studentID, bins, labels=classes)"
   ]
  },
  {
   "cell_type": "markdown",
   "id": "d0ef3411",
   "metadata": {},
   "source": [
    "## 5.2. Use the compute equal-length bins"
   ]
  },
  {
   "cell_type": "code",
   "execution_count": 52,
   "id": "5138224a",
   "metadata": {},
   "outputs": [
    {
     "data": {
      "text/plain": [
       "array([0.94068557, 0.93680735, 0.60040325, 0.16738623, 0.22321768,\n",
       "       0.95583533, 0.30509643, 0.49743881, 0.37242209, 0.0944555 ,\n",
       "       0.44323451, 0.22533939, 0.32650323, 0.5182671 , 0.79727504,\n",
       "       0.95946822, 0.89629643, 0.67685534, 0.1792399 , 0.30689475])"
      ]
     },
     "execution_count": 52,
     "metadata": {},
     "output_type": "execute_result"
    }
   ],
   "source": [
    "# Use 'np.random.uniform()'\n",
    "\n",
    "# Create a list of random numbers\n",
    "data = np.random.uniform(size=20)\n",
    "\n",
    "data"
   ]
  },
  {
   "cell_type": "code",
   "execution_count": 54,
   "id": "91a9caae",
   "metadata": {},
   "outputs": [
    {
     "data": {
      "text/plain": [
       "[(0.74, 0.96], (0.74, 0.96], (0.53, 0.74], (0.094, 0.31], (0.094, 0.31], ..., (0.74, 0.96], (0.74, 0.96], (0.53, 0.74], (0.094, 0.31], (0.094, 0.31]]\n",
       "Length: 20\n",
       "Categories (4, interval[float64, right]): [(0.094, 0.31] < (0.31, 0.53] < (0.53, 0.74] < (0.74, 0.96]]"
      ]
     },
     "execution_count": 54,
     "metadata": {},
     "output_type": "execute_result"
    }
   ],
   "source": [
    "# 'pd.cut(DATA, NUMBER OF GROUPS)': Seperate into groups\n",
    "# 'pd.cut(precision)': Limit to two decimal places\n",
    "pd.cut(data, 4, precision=2)"
   ]
  },
  {
   "cell_type": "code",
   "execution_count": 58,
   "id": "9207346a",
   "metadata": {},
   "outputs": [
    {
     "data": {
      "text/plain": [
       "array([ 0.05388448, -1.58539918,  0.93198417, -0.41546973,  1.86648873,\n",
       "       -0.53753617,  0.34399919, -0.89997706, -1.05426536,  1.27296306,\n",
       "       -0.50288341, -0.60052076, -1.25402234,  2.59284806, -0.52516398,\n",
       "       -0.15472177, -2.36579097, -1.04831983, -1.69890844,  1.12991539,\n",
       "        0.01905861,  0.34628338,  1.38048476,  0.83721606,  2.69503601,\n",
       "       -0.00853118, -0.69211777, -0.20892829,  1.36107927,  0.24914032,\n",
       "        0.25140474, -0.82988386, -0.49006039, -0.31625743,  0.71465875,\n",
       "       -0.46068381, -1.14094416,  0.03170804, -0.07115081,  1.69713118,\n",
       "       -2.35980591,  1.00149632, -1.38869168,  0.35137092,  0.5265581 ,\n",
       "       -0.39871527,  0.48552713,  2.5490247 , -1.11252866, -0.45089502,\n",
       "        0.57813286, -0.08907831,  1.54521576, -0.72023692, -1.87150139,\n",
       "       -0.89590164, -0.09362826,  0.7519406 , -0.32684636, -0.05630606,\n",
       "       -0.48696323,  0.48686714, -1.28441471,  0.11183341, -2.14885838,\n",
       "        0.42251969,  0.65284983,  0.37740285, -0.83718075, -1.56246094,\n",
       "       -1.80784714, -0.5000393 , -0.5299494 , -0.73017144,  0.38109079,\n",
       "       -2.37694173,  0.46021533, -0.08718265, -0.44082776, -1.25832085,\n",
       "       -1.91459365,  0.1108308 , -0.675859  ,  1.07570766, -0.1344735 ,\n",
       "        0.53015781, -0.92650313,  1.540385  ,  1.14995117, -1.07610814,\n",
       "       -1.33833411,  1.34423018, -1.13574516, -0.56430518, -0.92130668,\n",
       "       -0.16630337,  0.25709009, -1.2711487 , -0.25839242, -1.16532163])"
      ]
     },
     "execution_count": 58,
     "metadata": {},
     "output_type": "execute_result"
    }
   ],
   "source": [
    "# Use 'np.qcut()'\n",
    "\n",
    "# Create a list of random numbers\n",
    "data = np.random.standard_normal(100)\n",
    "\n",
    "data"
   ]
  },
  {
   "cell_type": "code",
   "execution_count": 59,
   "id": "241169df",
   "metadata": {},
   "outputs": [
    {
     "data": {
      "text/plain": [
       "[(-0.23, 0.47], (-2.3899999999999997, -0.91], (0.47, 2.7], (-0.91, -0.23], (0.47, 2.7], ..., (-0.23, 0.47], (-0.23, 0.47], (-2.3899999999999997, -0.91], (-0.91, -0.23], (-2.3899999999999997, -0.91]]\n",
       "Length: 100\n",
       "Categories (4, interval[float64, right]): [(-2.3899999999999997, -0.91] < (-0.91, -0.23] < (-0.23, 0.47] < (0.47, 2.7]]"
      ]
     },
     "execution_count": 59,
     "metadata": {},
     "output_type": "execute_result"
    }
   ],
   "source": [
    "# Devide the list into four groups equally\n",
    "quartiles = pd.qcut(data, 4, precision=2)\n",
    "\n",
    "quartiles"
   ]
  },
  {
   "cell_type": "code",
   "execution_count": 60,
   "id": "ab6e66de",
   "metadata": {},
   "outputs": [
    {
     "data": {
      "text/plain": [
       "(-2.3899999999999997, -0.91]    25\n",
       "(-0.91, -0.23]                  25\n",
       "(-0.23, 0.47]                   25\n",
       "(0.47, 2.7]                     25\n",
       "dtype: int64"
      ]
     },
     "execution_count": 60,
     "metadata": {},
     "output_type": "execute_result"
    }
   ],
   "source": [
    "# Check numbers of values in each quartile\n",
    "pd.value_counts(quartiles)"
   ]
  },
  {
   "cell_type": "markdown",
   "id": "3c9eb028",
   "metadata": {},
   "source": [
    "# 6. Detect and Filter Outliers"
   ]
  },
  {
   "cell_type": "code",
   "execution_count": 67,
   "id": "7ed1cc86",
   "metadata": {},
   "outputs": [
    {
     "data": {
      "text/html": [
       "<div>\n",
       "<style scoped>\n",
       "    .dataframe tbody tr th:only-of-type {\n",
       "        vertical-align: middle;\n",
       "    }\n",
       "\n",
       "    .dataframe tbody tr th {\n",
       "        vertical-align: top;\n",
       "    }\n",
       "\n",
       "    .dataframe thead th {\n",
       "        text-align: right;\n",
       "    }\n",
       "</style>\n",
       "<table border=\"1\" class=\"dataframe\">\n",
       "  <thead>\n",
       "    <tr style=\"text-align: right;\">\n",
       "      <th></th>\n",
       "      <th>0</th>\n",
       "      <th>1</th>\n",
       "      <th>2</th>\n",
       "      <th>3</th>\n",
       "    </tr>\n",
       "  </thead>\n",
       "  <tbody>\n",
       "    <tr>\n",
       "      <th>count</th>\n",
       "      <td>500.000000</td>\n",
       "      <td>500.000000</td>\n",
       "      <td>500.000000</td>\n",
       "      <td>500.000000</td>\n",
       "    </tr>\n",
       "    <tr>\n",
       "      <th>mean</th>\n",
       "      <td>0.040843</td>\n",
       "      <td>0.076733</td>\n",
       "      <td>0.086647</td>\n",
       "      <td>0.041168</td>\n",
       "    </tr>\n",
       "    <tr>\n",
       "      <th>std</th>\n",
       "      <td>1.052834</td>\n",
       "      <td>1.019603</td>\n",
       "      <td>1.010063</td>\n",
       "      <td>1.034483</td>\n",
       "    </tr>\n",
       "    <tr>\n",
       "      <th>min</th>\n",
       "      <td>-3.399111</td>\n",
       "      <td>-3.132194</td>\n",
       "      <td>-3.286591</td>\n",
       "      <td>-3.814614</td>\n",
       "    </tr>\n",
       "    <tr>\n",
       "      <th>25%</th>\n",
       "      <td>-0.678805</td>\n",
       "      <td>-0.565901</td>\n",
       "      <td>-0.633233</td>\n",
       "      <td>-0.688399</td>\n",
       "    </tr>\n",
       "    <tr>\n",
       "      <th>50%</th>\n",
       "      <td>-0.005350</td>\n",
       "      <td>0.026022</td>\n",
       "      <td>0.103408</td>\n",
       "      <td>-0.009361</td>\n",
       "    </tr>\n",
       "    <tr>\n",
       "      <th>75%</th>\n",
       "      <td>0.790110</td>\n",
       "      <td>0.761963</td>\n",
       "      <td>0.809247</td>\n",
       "      <td>0.797428</td>\n",
       "    </tr>\n",
       "    <tr>\n",
       "      <th>max</th>\n",
       "      <td>3.126225</td>\n",
       "      <td>3.580144</td>\n",
       "      <td>3.068059</td>\n",
       "      <td>3.230067</td>\n",
       "    </tr>\n",
       "  </tbody>\n",
       "</table>\n",
       "</div>"
      ],
      "text/plain": [
       "                0           1           2           3\n",
       "count  500.000000  500.000000  500.000000  500.000000\n",
       "mean     0.040843    0.076733    0.086647    0.041168\n",
       "std      1.052834    1.019603    1.010063    1.034483\n",
       "min     -3.399111   -3.132194   -3.286591   -3.814614\n",
       "25%     -0.678805   -0.565901   -0.633233   -0.688399\n",
       "50%     -0.005350    0.026022    0.103408   -0.009361\n",
       "75%      0.790110    0.761963    0.809247    0.797428\n",
       "max      3.126225    3.580144    3.068059    3.230067"
      ]
     },
     "execution_count": 67,
     "metadata": {},
     "output_type": "execute_result"
    }
   ],
   "source": [
    "# Create a DataFrame\n",
    "data = pd.DataFrame(np.random.standard_normal((500, 4)))\n",
    "\n",
    "data.describe()"
   ]
  },
  {
   "cell_type": "code",
   "execution_count": 70,
   "id": "962c73d7",
   "metadata": {},
   "outputs": [
    {
     "data": {
      "text/plain": [
       "127   -3.024364\n",
       "150    3.126225\n",
       "379   -3.399111\n",
       "Name: 0, dtype: float64"
      ]
     },
     "execution_count": 70,
     "metadata": {},
     "output_type": "execute_result"
    }
   ],
   "source": [
    "# Find rows with values exceeding absolute 3 (|3|) in a specific column\n",
    "\n",
    "column = data[0]\n",
    "\n",
    "column[column.abs() > 3]"
   ]
  },
  {
   "cell_type": "code",
   "execution_count": 69,
   "id": "5bea7b81",
   "metadata": {},
   "outputs": [
    {
     "data": {
      "text/html": [
       "<div>\n",
       "<style scoped>\n",
       "    .dataframe tbody tr th:only-of-type {\n",
       "        vertical-align: middle;\n",
       "    }\n",
       "\n",
       "    .dataframe tbody tr th {\n",
       "        vertical-align: top;\n",
       "    }\n",
       "\n",
       "    .dataframe thead th {\n",
       "        text-align: right;\n",
       "    }\n",
       "</style>\n",
       "<table border=\"1\" class=\"dataframe\">\n",
       "  <thead>\n",
       "    <tr style=\"text-align: right;\">\n",
       "      <th></th>\n",
       "      <th>0</th>\n",
       "      <th>1</th>\n",
       "      <th>2</th>\n",
       "      <th>3</th>\n",
       "    </tr>\n",
       "  </thead>\n",
       "  <tbody>\n",
       "    <tr>\n",
       "      <th>127</th>\n",
       "      <td>-3.024364</td>\n",
       "      <td>1.270351</td>\n",
       "      <td>-2.516453</td>\n",
       "      <td>1.101539</td>\n",
       "    </tr>\n",
       "    <tr>\n",
       "      <th>149</th>\n",
       "      <td>-0.533766</td>\n",
       "      <td>3.580144</td>\n",
       "      <td>1.234423</td>\n",
       "      <td>-0.268789</td>\n",
       "    </tr>\n",
       "    <tr>\n",
       "      <th>150</th>\n",
       "      <td>3.126225</td>\n",
       "      <td>-0.449722</td>\n",
       "      <td>1.952979</td>\n",
       "      <td>-0.246195</td>\n",
       "    </tr>\n",
       "    <tr>\n",
       "      <th>158</th>\n",
       "      <td>0.276649</td>\n",
       "      <td>-0.294758</td>\n",
       "      <td>2.140890</td>\n",
       "      <td>-3.814614</td>\n",
       "    </tr>\n",
       "    <tr>\n",
       "      <th>214</th>\n",
       "      <td>0.520504</td>\n",
       "      <td>-3.132194</td>\n",
       "      <td>0.332053</td>\n",
       "      <td>0.588424</td>\n",
       "    </tr>\n",
       "    <tr>\n",
       "      <th>230</th>\n",
       "      <td>-1.596789</td>\n",
       "      <td>0.918525</td>\n",
       "      <td>-3.286591</td>\n",
       "      <td>-1.876586</td>\n",
       "    </tr>\n",
       "    <tr>\n",
       "      <th>274</th>\n",
       "      <td>-1.355351</td>\n",
       "      <td>0.779738</td>\n",
       "      <td>0.995252</td>\n",
       "      <td>3.230067</td>\n",
       "    </tr>\n",
       "    <tr>\n",
       "      <th>279</th>\n",
       "      <td>0.522126</td>\n",
       "      <td>0.485177</td>\n",
       "      <td>3.068059</td>\n",
       "      <td>-0.993420</td>\n",
       "    </tr>\n",
       "    <tr>\n",
       "      <th>284</th>\n",
       "      <td>2.365280</td>\n",
       "      <td>-0.396193</td>\n",
       "      <td>-2.410846</td>\n",
       "      <td>3.142005</td>\n",
       "    </tr>\n",
       "    <tr>\n",
       "      <th>379</th>\n",
       "      <td>-3.399111</td>\n",
       "      <td>-2.175760</td>\n",
       "      <td>-1.427802</td>\n",
       "      <td>0.613040</td>\n",
       "    </tr>\n",
       "  </tbody>\n",
       "</table>\n",
       "</div>"
      ],
      "text/plain": [
       "            0         1         2         3\n",
       "127 -3.024364  1.270351 -2.516453  1.101539\n",
       "149 -0.533766  3.580144  1.234423 -0.268789\n",
       "150  3.126225 -0.449722  1.952979 -0.246195\n",
       "158  0.276649 -0.294758  2.140890 -3.814614\n",
       "214  0.520504 -3.132194  0.332053  0.588424\n",
       "230 -1.596789  0.918525 -3.286591 -1.876586\n",
       "274 -1.355351  0.779738  0.995252  3.230067\n",
       "279  0.522126  0.485177  3.068059 -0.993420\n",
       "284  2.365280 -0.396193 -2.410846  3.142005\n",
       "379 -3.399111 -2.175760 -1.427802  0.613040"
      ]
     },
     "execution_count": 69,
     "metadata": {},
     "output_type": "execute_result"
    }
   ],
   "source": [
    "# Find rows with values exceeding |3| in all columns\n",
    "data[(data.abs() > 3).any(axis=\"columns\")]"
   ]
  },
  {
   "cell_type": "markdown",
   "id": "1e7ad73d",
   "metadata": {},
   "source": [
    "# 7. Permutation and Random Sampling"
   ]
  },
  {
   "cell_type": "code",
   "execution_count": 72,
   "id": "2ccc09ec",
   "metadata": {},
   "outputs": [],
   "source": [
    "# 7.2.7 (p303)"
   ]
  },
  {
   "cell_type": "code",
   "execution_count": null,
   "id": "5a868119",
   "metadata": {},
   "outputs": [],
   "source": []
  },
  {
   "cell_type": "code",
   "execution_count": null,
   "id": "0477a08c",
   "metadata": {},
   "outputs": [],
   "source": []
  },
  {
   "cell_type": "code",
   "execution_count": null,
   "id": "7d1ddba0",
   "metadata": {},
   "outputs": [],
   "source": []
  },
  {
   "cell_type": "code",
   "execution_count": null,
   "id": "81c8bb00",
   "metadata": {},
   "outputs": [],
   "source": []
  },
  {
   "cell_type": "code",
   "execution_count": null,
   "id": "f3ffb51f",
   "metadata": {},
   "outputs": [],
   "source": []
  }
 ],
 "metadata": {
  "kernelspec": {
   "display_name": "Python 3 (ipykernel)",
   "language": "python",
   "name": "python3"
  },
  "language_info": {
   "codemirror_mode": {
    "name": "ipython",
    "version": 3
   },
   "file_extension": ".py",
   "mimetype": "text/x-python",
   "name": "python",
   "nbconvert_exporter": "python",
   "pygments_lexer": "ipython3",
   "version": "3.10.9"
  }
 },
 "nbformat": 4,
 "nbformat_minor": 5
}
