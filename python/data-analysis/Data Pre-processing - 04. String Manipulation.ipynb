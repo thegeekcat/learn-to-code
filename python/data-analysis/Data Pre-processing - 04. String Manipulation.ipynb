{
 "cells": [
  {
   "cell_type": "markdown",
   "id": "f1fa7987",
   "metadata": {},
   "source": [
    "- Note: I refer to Chapter 07 < Python for Data Analysis: Data Wrangling with Pandas, NumPy, and IPython (3rd) > (2023, Wes McKinney)"
   ]
  },
  {
   "cell_type": "markdown",
   "id": "4158afce",
   "metadata": {},
   "source": [
    "# 1. Python Buil-In String Methods"
   ]
  },
  {
   "cell_type": "markdown",
   "id": "4dbc0741",
   "metadata": {},
   "source": [
    "- Python Buil-In String Methods\n",
    "  - `count`\n",
    "  - `endswith`: Return `True` if string ends with suffix\n",
    "  - `startswith`: Return `True` if string starts with prefix\n",
    "  - `join`\n",
    "  - `index`: Return starting index of the first occurrence\n",
    "  - `find`: Return position of first character of first occurence\n",
    "  - `rfind`\n",
    "  - `replace`\n",
    "  - `strip, rstrip, lstrip`: Trim whitespace\n",
    "  - `split`\n",
    "  - `lower`\n",
    "  - `upper`\n",
    "  - `casefold`\n",
    "  - `ljust, rjust`: Left or right justify"
   ]
  },
  {
   "cell_type": "markdown",
   "id": "67617021",
   "metadata": {},
   "source": [
    "#### `split()`: Break a comma-seperated string into pieces"
   ]
  },
  {
   "cell_type": "code",
   "execution_count": 24,
   "id": "60170119",
   "metadata": {},
   "outputs": [
    {
     "name": "stdout",
     "output_type": "stream",
     "text": [
      "Before using split():  apple, banana,carrot,     pineapple,apple\n",
      "After using split():  ['apple', ' banana', 'carrot', '     pineapple', 'apple']\n"
     ]
    }
   ],
   "source": [
    "fruit = \"apple, banana,carrot,     pineapple,apple\"\n",
    "\n",
    "print('Before using split(): ', fruit)\n",
    "print('After using split(): ', fruit.split(\",\"))"
   ]
  },
  {
   "cell_type": "markdown",
   "id": "7f3e8331",
   "metadata": {},
   "source": [
    "#### `strip()`: Trim whitespace (e.g. line breaks)"
   ]
  },
  {
   "cell_type": "code",
   "execution_count": 25,
   "id": "5429f48e",
   "metadata": {},
   "outputs": [
    {
     "data": {
      "text/plain": [
       "['apple', 'banana', 'carrot', 'pineapple', 'apple']"
      ]
     },
     "execution_count": 25,
     "metadata": {},
     "output_type": "execute_result"
    }
   ],
   "source": [
    "fruit_basket = [x.strip() for x in fruit.split(\",\")]\n",
    "\n",
    "fruit_basket"
   ]
  },
  {
   "cell_type": "markdown",
   "id": "903e90d1",
   "metadata": {},
   "source": [
    "#### `in` keyword: Detect a substring"
   ]
  },
  {
   "cell_type": "code",
   "execution_count": 26,
   "id": "eb1b7de5",
   "metadata": {},
   "outputs": [
    {
     "data": {
      "text/plain": [
       "True"
      ]
     },
     "execution_count": 26,
     "metadata": {},
     "output_type": "execute_result"
    }
   ],
   "source": [
    "\"carrot\" in fruit_basket"
   ]
  },
  {
   "cell_type": "markdown",
   "id": "b7224eef",
   "metadata": {},
   "source": [
    "#### `count()`: Return the number of occurences of a particular substring"
   ]
  },
  {
   "cell_type": "code",
   "execution_count": 27,
   "id": "e9040cb9",
   "metadata": {},
   "outputs": [
    {
     "data": {
      "text/plain": [
       "2"
      ]
     },
     "execution_count": 27,
     "metadata": {},
     "output_type": "execute_result"
    }
   ],
   "source": [
    "fruit_basket.count(\"apple\")"
   ]
  },
  {
   "cell_type": "markdown",
   "id": "50ec8659",
   "metadata": {},
   "source": [
    "# 2. Regular Expressions"
   ]
  },
  {
   "cell_type": "markdown",
   "id": "d8ba5466",
   "metadata": {},
   "source": [
    "- Regular Expressions\n",
    "  - Search or match string patterns in text\n",
    "  - `re` module: Apply regular expressions to string\n",
    "      - Pattern matching\n",
    "      - Substitution\n",
    "      - Splitting\n",
    "  - A List of methods\n",
    "      - `findall`\n",
    "      - `finditer`: Return an iterator\n",
    "      - `match`\n",
    "      - `search`\n",
    "      - `split`\n",
    "      - `sub, subn`"
   ]
  },
  {
   "cell_type": "code",
   "execution_count": 5,
   "id": "847a3a43",
   "metadata": {},
   "outputs": [],
   "source": [
    "# Import module\n",
    "import re"
   ]
  },
  {
   "cell_type": "markdown",
   "id": "5b660543",
   "metadata": {},
   "source": [
    "## 2.1. Basics"
   ]
  },
  {
   "cell_type": "markdown",
   "id": "66116ac3",
   "metadata": {},
   "source": [
    "#### `\\s+`: One or more whitespace character"
   ]
  },
  {
   "cell_type": "code",
   "execution_count": 28,
   "id": "a6dcec3d",
   "metadata": {},
   "outputs": [
    {
     "data": {
      "text/plain": [
       "['apple', 'banana', 'pineapple', 'melon']"
      ]
     },
     "execution_count": 28,
     "metadata": {},
     "output_type": "execute_result"
    }
   ],
   "source": [
    "fruit = \"apple    banana\\t pineapple  \\tmelon\"\n",
    "\n",
    "re.split(r\"\\s+\", fruit)"
   ]
  },
  {
   "cell_type": "markdown",
   "id": "1f40dfba",
   "metadata": {},
   "source": [
    "#### `re.compile()`: Compile the regex"
   ]
  },
  {
   "cell_type": "code",
   "execution_count": 30,
   "id": "b5dceef1",
   "metadata": {},
   "outputs": [
    {
     "data": {
      "text/plain": [
       "['apple', 'banana', 'pineapple', 'melon']"
      ]
     },
     "execution_count": 30,
     "metadata": {},
     "output_type": "execute_result"
    }
   ],
   "source": [
    "regex = re.compile(r\"\\s+\")\n",
    "\n",
    "regex.split(fruit)"
   ]
  },
  {
   "cell_type": "markdown",
   "id": "a5b90485",
   "metadata": {},
   "source": [
    "#### `findall()`: Get a list of all string patters matching the regex"
   ]
  },
  {
   "cell_type": "code",
   "execution_count": 23,
   "id": "8cd17c14",
   "metadata": {},
   "outputs": [
    {
     "data": {
      "text/plain": [
       "['    ', '\\t ', '  \\t']"
      ]
     },
     "execution_count": 23,
     "metadata": {},
     "output_type": "execute_result"
    }
   ],
   "source": [
    "regex.findall(fruit)"
   ]
  },
  {
   "cell_type": "markdown",
   "id": "03a45ae5",
   "metadata": {},
   "source": [
    "## 2.2. Excercise: Identify email addresses"
   ]
  },
  {
   "cell_type": "code",
   "execution_count": 42,
   "id": "618b109b",
   "metadata": {},
   "outputs": [],
   "source": [
    "# Sample email addresses\n",
    "email = \"\"\"Karen karen@google.com\n",
    "            Lina lina@gmail.com\n",
    "            Alice alice@gmail.com\n",
    "            Joy joy@google.com\"\"\""
   ]
  },
  {
   "cell_type": "markdown",
   "id": "6ce28855",
   "metadata": {},
   "source": [
    "#### `re.IGNORECASE`: Ignore upper and lower cases"
   ]
  },
  {
   "cell_type": "code",
   "execution_count": 34,
   "id": "332239ff",
   "metadata": {},
   "outputs": [],
   "source": [
    "# Pattern\n",
    "pattern = r\"[A-Z0-9._%+-]+@[A-Z0-9.-]+\\.[A-Z]{2,4}\"\n",
    "\n",
    "# Regex\n",
    "regex = re.compile(pattern, flags=re.IGNORECASE)"
   ]
  },
  {
   "cell_type": "markdown",
   "id": "13c472e7",
   "metadata": {},
   "source": [
    "#### `findall()`: Create a list of email addresses"
   ]
  },
  {
   "cell_type": "code",
   "execution_count": 37,
   "id": "854c064b",
   "metadata": {},
   "outputs": [
    {
     "data": {
      "text/plain": [
       "['karen@google.com', 'lina@gmail.com', 'alice@gmail.com', 'joy@google.com']"
      ]
     },
     "execution_count": 37,
     "metadata": {},
     "output_type": "execute_result"
    }
   ],
   "source": [
    "email_list = regex.findall(email)\n",
    "\n",
    "email_list"
   ]
  },
  {
   "cell_type": "markdown",
   "id": "04b55eec",
   "metadata": {},
   "source": [
    "### Get email addesses with three seperated components: username, domain name, domain suffix"
   ]
  },
  {
   "cell_type": "code",
   "execution_count": 39,
   "id": "d6bfa1b9",
   "metadata": {},
   "outputs": [],
   "source": [
    "# Pattern: Put the email address around the parts of three patterns\n",
    "pattern = r\"([A-Z0-9._%+-]+)@([A-Z0-9.-]+)\\.([A-Z]{2,4})\"\n",
    "\n",
    "# Defind Regex again\n",
    "regex = re.compile(pattern, flags=re.IGNORECASE)"
   ]
  },
  {
   "cell_type": "markdown",
   "id": "642989a4",
   "metadata": {},
   "source": [
    "#### `group()`: Return a tuple of pattern components"
   ]
  },
  {
   "cell_type": "code",
   "execution_count": 41,
   "id": "20f07816",
   "metadata": {},
   "outputs": [
    {
     "data": {
      "text/plain": [
       "('meow', 'google', 'com')"
      ]
     },
     "execution_count": 41,
     "metadata": {},
     "output_type": "execute_result"
    }
   ],
   "source": [
    "test = regex.match(\"meow@google.com\")\n",
    "\n",
    "test.groups()"
   ]
  },
  {
   "cell_type": "code",
   "execution_count": 43,
   "id": "e8c5b885",
   "metadata": {},
   "outputs": [
    {
     "data": {
      "text/plain": [
       "[('karen', 'google', 'com'),\n",
       " ('lina', 'gmail', 'com'),\n",
       " ('alice', 'gmail', 'com'),\n",
       " ('joy', 'google', 'com')]"
      ]
     },
     "execution_count": 43,
     "metadata": {},
     "output_type": "execute_result"
    }
   ],
   "source": [
    "regex.findall(email)"
   ]
  },
  {
   "cell_type": "markdown",
   "id": "a0053b3d",
   "metadata": {},
   "source": [
    "# 3. String Functions in `pandas`"
   ]
  },
  {
   "cell_type": "code",
   "execution_count": 49,
   "id": "f956ea57",
   "metadata": {},
   "outputs": [],
   "source": [
    "# Import module\n",
    "import pandas as pd\n",
    "import numpy as np"
   ]
  },
  {
   "cell_type": "code",
   "execution_count": 52,
   "id": "12949e1b",
   "metadata": {},
   "outputs": [
    {
     "data": {
      "text/plain": [
       "Karen       karen@google.com\n",
       "Lina          lina@gmail.com\n",
       "Alice    alice@microsoft.com\n",
       "Joy           joy@google.com\n",
       "June                     NaN\n",
       "dtype: object"
      ]
     },
     "execution_count": 52,
     "metadata": {},
     "output_type": "execute_result"
    }
   ],
   "source": [
    "# Generate data\n",
    "data = {\"Karen\": \"karen@google.com\",\n",
    "       \"Lina\": \"lina@gmail.com\",\n",
    "       \"Alice\": \"alice@microsoft.com\",\n",
    "       \"Joy\": \"joy@google.com\",\n",
    "       \"June\": np.nan}\n",
    "\n",
    "# Create a Series\n",
    "data = pd.Series(data)\n",
    "\n",
    "data"
   ]
  },
  {
   "cell_type": "code",
   "execution_count": 53,
   "id": "d2c32609",
   "metadata": {},
   "outputs": [
    {
     "data": {
      "text/plain": [
       "Karen    False\n",
       "Lina     False\n",
       "Alice    False\n",
       "Joy      False\n",
       "June      True\n",
       "dtype: bool"
      ]
     },
     "execution_count": 53,
     "metadata": {},
     "output_type": "execute_result"
    }
   ],
   "source": [
    "# Check a NaN column\n",
    "data.isna()"
   ]
  },
  {
   "cell_type": "markdown",
   "id": "b0c68891",
   "metadata": {},
   "source": [
    "#### `str.contains()`: Check whether containing a specific string"
   ]
  },
  {
   "cell_type": "code",
   "execution_count": 54,
   "id": "1fcbbb5e",
   "metadata": {},
   "outputs": [
    {
     "data": {
      "text/plain": [
       "Karen    False\n",
       "Lina      True\n",
       "Alice    False\n",
       "Joy      False\n",
       "June       NaN\n",
       "dtype: object"
      ]
     },
     "execution_count": 54,
     "metadata": {},
     "output_type": "execute_result"
    }
   ],
   "source": [
    "data.str.contains(\"gmail\")"
   ]
  },
  {
   "cell_type": "markdown",
   "id": "5d339f7d",
   "metadata": {},
   "source": [
    "#### `astype()`: Change data type"
   ]
  },
  {
   "cell_type": "code",
   "execution_count": 55,
   "id": "5e7cbbc4",
   "metadata": {},
   "outputs": [
    {
     "data": {
      "text/plain": [
       "Karen       karen@google.com\n",
       "Lina          lina@gmail.com\n",
       "Alice    alice@microsoft.com\n",
       "Joy           joy@google.com\n",
       "June                    <NA>\n",
       "dtype: string"
      ]
     },
     "execution_count": 55,
     "metadata": {},
     "output_type": "execute_result"
    }
   ],
   "source": [
    "data_string = data.astype('string')\n",
    "\n",
    "data_string"
   ]
  },
  {
   "cell_type": "markdown",
   "id": "f9df1163",
   "metadata": {},
   "source": [
    "#### Regular Expressions with `re` options"
   ]
  },
  {
   "cell_type": "code",
   "execution_count": 57,
   "id": "de382366",
   "metadata": {},
   "outputs": [
    {
     "data": {
      "text/plain": [
       "Karen       [(karen, google, com)]\n",
       "Lina          [(lina, gmail, com)]\n",
       "Alice    [(alice, microsoft, com)]\n",
       "Joy           [(joy, google, com)]\n",
       "June                           NaN\n",
       "dtype: object"
      ]
     },
     "execution_count": 57,
     "metadata": {},
     "output_type": "execute_result"
    }
   ],
   "source": [
    "# Pattern\n",
    "pattern = r\"([A-Z0-9._%+-]+)@([A-Z0-9.-]+)\\.([A-Z]{2,4})\"\n",
    "\n",
    "# `re`\n",
    "data.str.findall(pattern, flags=re.IGNORECASE)"
   ]
  },
  {
   "cell_type": "markdown",
   "id": "829bbf2a",
   "metadata": {},
   "source": [
    "#### `str.get()`: Return vectorized elements"
   ]
  },
  {
   "cell_type": "code",
   "execution_count": 61,
   "id": "b47f2b97",
   "metadata": {},
   "outputs": [
    {
     "data": {
      "text/plain": [
       "Karen       (karen, google, com)\n",
       "Lina          (lina, gmail, com)\n",
       "Alice    (alice, microsoft, com)\n",
       "Joy           (joy, google, com)\n",
       "June                         NaN\n",
       "dtype: object"
      ]
     },
     "execution_count": 61,
     "metadata": {},
     "output_type": "execute_result"
    }
   ],
   "source": [
    "# Vectorize\n",
    "data_vectorized = data.str.findall(pattern, flags=re.IGNORECASE).str[0]\n",
    "\n",
    "data_vectorized"
   ]
  },
  {
   "cell_type": "code",
   "execution_count": 65,
   "id": "855fd64c",
   "metadata": {},
   "outputs": [
    {
     "data": {
      "text/plain": [
       "Karen       google\n",
       "Lina         gmail\n",
       "Alice    microsoft\n",
       "Joy         google\n",
       "June           NaN\n",
       "dtype: object"
      ]
     },
     "execution_count": 65,
     "metadata": {},
     "output_type": "execute_result"
    }
   ],
   "source": [
    "# Return a vectorized element\n",
    "data_vectorized.str.get(1)"
   ]
  }
 ],
 "metadata": {
  "kernelspec": {
   "display_name": "Python 3 (ipykernel)",
   "language": "python",
   "name": "python3"
  },
  "language_info": {
   "codemirror_mode": {
    "name": "ipython",
    "version": 3
   },
   "file_extension": ".py",
   "mimetype": "text/x-python",
   "name": "python",
   "nbconvert_exporter": "python",
   "pygments_lexer": "ipython3",
   "version": "3.10.9"
  }
 },
 "nbformat": 4,
 "nbformat_minor": 5
}
