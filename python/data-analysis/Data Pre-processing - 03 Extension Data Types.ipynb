{
 "cells": [
  {
   "cell_type": "markdown",
   "id": "49ef8aad",
   "metadata": {},
   "source": [
    "- Note: I refer to Chapter 07 < Python for Data Analysis: Data Wrangling with Pandas, NumPy, and IPython (3rd) > (2023, Wes McKinney)"
   ]
  },
  {
   "cell_type": "code",
   "execution_count": 1,
   "id": "dbf52605",
   "metadata": {},
   "outputs": [],
   "source": [
    "# Import modules\n",
    "import pandas as pd"
   ]
  },
  {
   "cell_type": "markdown",
   "id": "00221870",
   "metadata": {},
   "source": [
    "# 1. `Int64Dtype()`"
   ]
  },
  {
   "cell_type": "markdown",
   "id": "f7971e28",
   "metadata": {},
   "source": [
    "- 'Extension Type' in Pandas   \n",
    "   : The 'Extension Type' is recently developed for new data types which are not supported by NumPy"
   ]
  },
  {
   "cell_type": "code",
   "execution_count": 3,
   "id": "3938c9a4",
   "metadata": {},
   "outputs": [
    {
     "data": {
      "text/plain": [
       "0    1.0\n",
       "1    2.0\n",
       "2    NaN\n",
       "3    4.0\n",
       "4    5.0\n",
       "dtype: float64"
      ]
     },
     "execution_count": 3,
     "metadata": {},
     "output_type": "execute_result"
    }
   ],
   "source": [
    "# Create a Series with a missing value\n",
    "s = pd.Series([1, 2, None, 4, 5])\n",
    "\n",
    "s"
   ]
  },
  {
   "cell_type": "code",
   "execution_count": 10,
   "id": "e720031c",
   "metadata": {},
   "outputs": [
    {
     "data": {
      "text/plain": [
       "dtype('float64')"
      ]
     },
     "execution_count": 10,
     "metadata": {},
     "output_type": "execute_result"
    }
   ],
   "source": [
    "# Check the data type\n",
    "s.dtype"
   ]
  },
  {
   "cell_type": "code",
   "execution_count": 12,
   "id": "1d48c7d4",
   "metadata": {},
   "outputs": [
    {
     "data": {
      "text/plain": [
       "0       1\n",
       "1       2\n",
       "2    <NA>\n",
       "3       4\n",
       "4       5\n",
       "dtype: Int64"
      ]
     },
     "execution_count": 12,
     "metadata": {},
     "output_type": "execute_result"
    }
   ],
   "source": [
    "# Create another series using 'float64' and use np.nan for missing values\n",
    "s = pd.Series([1, 2, None, 4, 5], dtype=pd.Int64Dtype())\n",
    "s"
   ]
  },
  {
   "cell_type": "code",
   "execution_count": 14,
   "id": "bb9bfcf1",
   "metadata": {},
   "outputs": [
    {
     "data": {
      "text/plain": [
       "Int64Dtype()"
      ]
     },
     "execution_count": 14,
     "metadata": {},
     "output_type": "execute_result"
    }
   ],
   "source": [
    "s.dtype"
   ]
  },
  {
   "cell_type": "code",
   "execution_count": 18,
   "id": "87fba14d",
   "metadata": {},
   "outputs": [
    {
     "name": "stdout",
     "output_type": "stream",
     "text": [
      "The value of s[2]:  <NA>\n",
      "True\n"
     ]
    }
   ],
   "source": [
    "# `pd.NA` output\n",
    "\n",
    "print('The value of s[2]: ', s[2])\n",
    "print(s[2] is pd.NA)"
   ]
  },
  {
   "cell_type": "code",
   "execution_count": 21,
   "id": "2dafd388",
   "metadata": {},
   "outputs": [
    {
     "name": "stdout",
     "output_type": "stream",
     "text": [
      "s:  0       1\n",
      "1       2\n",
      "2    <NA>\n",
      "3       4\n",
      "4       5\n",
      "dtype: Int64\n",
      "\n",
      " Data type:  Int64\n"
     ]
    }
   ],
   "source": [
    "# `Int64()` is a short form for `pd.Int64Dtype()\n",
    "s = pd.Series([1, 2, None, 4, 5], dtype=\"Int64\")\n",
    "\n",
    "print('s: ', s)\n",
    "print('\\n Data type: ', s.dtype)"
   ]
  },
  {
   "cell_type": "markdown",
   "id": "d18ec70d",
   "metadata": {},
   "source": [
    "# 2. `pd.StringDtype()`"
   ]
  },
  {
   "cell_type": "markdown",
   "id": "c725821a",
   "metadata": {},
   "source": [
    "- `pd.StringDtype()`   \n",
    "   : An extension type for string data which doesn't use Numpy object arrays\n",
    "   "
   ]
  },
  {
   "cell_type": "code",
   "execution_count": 22,
   "id": "7641294c",
   "metadata": {},
   "outputs": [
    {
     "data": {
      "text/plain": [
       "0        Apple\n",
       "1       Banana\n",
       "2         None\n",
       "3    Pineapple\n",
       "4        Mango\n",
       "dtype: string"
      ]
     },
     "execution_count": 22,
     "metadata": {},
     "output_type": "execute_result"
    }
   ],
   "source": [
    "# Create an extension Series\n",
    "s = pd.Series(['Apple', 'Banana', 'None', 'Pineapple', 'Mango'], dtype=pd.StringDtype())\n",
    "\n",
    "s"
   ]
  },
  {
   "cell_type": "code",
   "execution_count": 24,
   "id": "62bd1ff1",
   "metadata": {},
   "outputs": [
    {
     "data": {
      "text/plain": [
       "string[python]"
      ]
     },
     "execution_count": 24,
     "metadata": {},
     "output_type": "execute_result"
    }
   ],
   "source": [
    "s.dtype"
   ]
  },
  {
   "cell_type": "markdown",
   "id": "5c6bd376",
   "metadata": {},
   "source": [
    "# 3. `astype()`"
   ]
  },
  {
   "cell_type": "markdown",
   "id": "c28e2fe4",
   "metadata": {},
   "source": [
    "- `astype()`   \n",
    "   : Extension types can be passed to the Series `astype`"
   ]
  },
  {
   "cell_type": "code",
   "execution_count": 28,
   "id": "6a69a3a0",
   "metadata": {},
   "outputs": [
    {
     "data": {
      "text/html": [
       "<div>\n",
       "<style scoped>\n",
       "    .dataframe tbody tr th:only-of-type {\n",
       "        vertical-align: middle;\n",
       "    }\n",
       "\n",
       "    .dataframe tbody tr th {\n",
       "        vertical-align: top;\n",
       "    }\n",
       "\n",
       "    .dataframe thead th {\n",
       "        text-align: right;\n",
       "    }\n",
       "</style>\n",
       "<table border=\"1\" class=\"dataframe\">\n",
       "  <thead>\n",
       "    <tr style=\"text-align: right;\">\n",
       "      <th></th>\n",
       "      <th>A</th>\n",
       "      <th>B</th>\n",
       "    </tr>\n",
       "  </thead>\n",
       "  <tbody>\n",
       "    <tr>\n",
       "      <th>0</th>\n",
       "      <td>Apple</td>\n",
       "      <td>1.0</td>\n",
       "    </tr>\n",
       "    <tr>\n",
       "      <th>1</th>\n",
       "      <td>Banana</td>\n",
       "      <td>NaN</td>\n",
       "    </tr>\n",
       "    <tr>\n",
       "      <th>2</th>\n",
       "      <td>None</td>\n",
       "      <td>3.0</td>\n",
       "    </tr>\n",
       "    <tr>\n",
       "      <th>3</th>\n",
       "      <td>Pineapple</td>\n",
       "      <td>4.0</td>\n",
       "    </tr>\n",
       "    <tr>\n",
       "      <th>4</th>\n",
       "      <td>Mango</td>\n",
       "      <td>5.0</td>\n",
       "    </tr>\n",
       "  </tbody>\n",
       "</table>\n",
       "</div>"
      ],
      "text/plain": [
       "           A    B\n",
       "0      Apple  1.0\n",
       "1     Banana  NaN\n",
       "2       None  3.0\n",
       "3  Pineapple  4.0\n",
       "4      Mango  5.0"
      ]
     },
     "execution_count": 28,
     "metadata": {},
     "output_type": "execute_result"
    }
   ],
   "source": [
    "# Create a DataFrame\n",
    "df = pd.DataFrame({\"A\": [\"Apple\", \"Banana\", None, \"Pineapple\", \"Mango\"],\n",
    "                  \"B\": [1, None, 3, 4, 5]})\n",
    "\n",
    "df"
   ]
  },
  {
   "cell_type": "code",
   "execution_count": 29,
   "id": "e0589ba8",
   "metadata": {},
   "outputs": [
    {
     "data": {
      "text/html": [
       "<div>\n",
       "<style scoped>\n",
       "    .dataframe tbody tr th:only-of-type {\n",
       "        vertical-align: middle;\n",
       "    }\n",
       "\n",
       "    .dataframe tbody tr th {\n",
       "        vertical-align: top;\n",
       "    }\n",
       "\n",
       "    .dataframe thead th {\n",
       "        text-align: right;\n",
       "    }\n",
       "</style>\n",
       "<table border=\"1\" class=\"dataframe\">\n",
       "  <thead>\n",
       "    <tr style=\"text-align: right;\">\n",
       "      <th></th>\n",
       "      <th>A</th>\n",
       "      <th>B</th>\n",
       "    </tr>\n",
       "  </thead>\n",
       "  <tbody>\n",
       "    <tr>\n",
       "      <th>0</th>\n",
       "      <td>Apple</td>\n",
       "      <td>1</td>\n",
       "    </tr>\n",
       "    <tr>\n",
       "      <th>1</th>\n",
       "      <td>Banana</td>\n",
       "      <td>&lt;NA&gt;</td>\n",
       "    </tr>\n",
       "    <tr>\n",
       "      <th>2</th>\n",
       "      <td>&lt;NA&gt;</td>\n",
       "      <td>3</td>\n",
       "    </tr>\n",
       "    <tr>\n",
       "      <th>3</th>\n",
       "      <td>Pineapple</td>\n",
       "      <td>4</td>\n",
       "    </tr>\n",
       "    <tr>\n",
       "      <th>4</th>\n",
       "      <td>Mango</td>\n",
       "      <td>5</td>\n",
       "    </tr>\n",
       "  </tbody>\n",
       "</table>\n",
       "</div>"
      ],
      "text/plain": [
       "           A     B\n",
       "0      Apple     1\n",
       "1     Banana  <NA>\n",
       "2       <NA>     3\n",
       "3  Pineapple     4\n",
       "4      Mango     5"
      ]
     },
     "execution_count": 29,
     "metadata": {},
     "output_type": "execute_result"
    }
   ],
   "source": [
    "# Pass the extension types to `astype()`\n",
    "\n",
    "df[\"A\"] = df[\"A\"].astype(\"string\")\n",
    "df[\"B\"] = df[\"B\"].astype(\"Int64\")\n",
    "\n",
    "df"
   ]
  }
 ],
 "metadata": {
  "kernelspec": {
   "display_name": "Python 3 (ipykernel)",
   "language": "python",
   "name": "python3"
  },
  "language_info": {
   "codemirror_mode": {
    "name": "ipython",
    "version": 3
   },
   "file_extension": ".py",
   "mimetype": "text/x-python",
   "name": "python",
   "nbconvert_exporter": "python",
   "pygments_lexer": "ipython3",
   "version": "3.10.9"
  }
 },
 "nbformat": 4,
 "nbformat_minor": 5
}
