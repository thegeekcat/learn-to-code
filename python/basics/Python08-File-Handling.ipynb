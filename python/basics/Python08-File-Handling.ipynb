{
 "cells": [
  {
   "cell_type": "markdown",
   "metadata": {
    "id": "7VtbzsZL0Npi"
   },
   "source": [
    "# File Handling"
   ]
  },
  {
   "cell_type": "markdown",
   "metadata": {
    "id": "AOVy5i-f0m7V"
   },
   "source": [
    "- open(filename, mode)\n",
    " - `filename` function\n",
    "    - \"r\": Read -> returns an error if the file already exists\n",
    "    - \"a\": Append -> create a file if it doesn't exist\n",
    "    - \"w\": Write -> create a file if it doesn't exist\n",
    "    - \"x\": Create -> returns an error if the file already exists\n",
    " - `mode` fundtion\n",
    "    - \"t\": Text\n",
    "    - \"b\": Binary mode  e.g. images\n",
    "\n",
    "\n",
    "\n"
   ]
  },
  {
   "cell_type": "markdown",
   "metadata": {
    "id": "dfdsdsbK1-cK"
   },
   "source": [
    "# Create a New File"
   ]
  },
  {
   "cell_type": "code",
   "execution_count": 32,
   "metadata": {
    "colab": {
     "base_uri": "https://localhost:8080/"
    },
    "id": "jZ2teiliRuNQ",
    "outputId": "a80e728e-0a41-4a6d-f61a-bf8e5ae373a9"
   },
   "outputs": [
    {
     "name": "stderr",
     "output_type": "stream",
     "text": [
      "Welcome to ~ Python!"
     ]
    }
   ],
   "source": [
    "# Import a module\n",
    "import sys\n",
    "\n",
    "# Just printing a sentence\n",
    "print('Welcome to', 'Python', sep = ' ~ ', end = '!', file = sys.stderr)  # sep(seperation), end(end)"
   ]
  },
  {
   "cell_type": "code",
   "execution_count": 33,
   "metadata": {
    "id": "fF6YEBhDSnoe"
   },
   "outputs": [],
   "source": [
    "# Create a file\n",
    "\n",
    "f = open('test.txt', 'w')  # open a txt file in 'w' mode\n",
    "\n",
    "print('Welcome to Python \\n Welcome to ML', file = f)  # print a sentence in a file named 'f'\n",
    "\n",
    "f.close()  # Close the file 'f'"
   ]
  },
  {
   "cell_type": "code",
   "execution_count": 34,
   "metadata": {
    "colab": {
     "base_uri": "https://localhost:8080/"
    },
    "id": "UXFlEgatTZH0",
    "outputId": "5b6ac08a-a80e-4144-8c9d-718d450b93fa"
   },
   "outputs": [
    {
     "name": "stdout",
     "output_type": "stream",
     "text": [
      "Help on built-in function displayhook in module sys:\n",
      "\n",
      "displayhook(object, /)\n",
      "    Print an object to sys.stdout and also save it in builtins._\n",
      "\n"
     ]
    }
   ],
   "source": [
    "help(sys.__displayhook__)\n"
   ]
  },
  {
   "cell_type": "markdown",
   "metadata": {
    "id": "S9QUbKtI3gVE"
   },
   "source": [
    "# Read Files"
   ]
  },
  {
   "cell_type": "code",
   "execution_count": 35,
   "metadata": {
    "colab": {
     "base_uri": "https://localhost:8080/",
     "height": 36
    },
    "id": "Yj3eHQlxUEBz",
    "outputId": "92927c72-8de0-4053-972d-a601e35c6a71"
   },
   "outputs": [
    {
     "data": {
      "application/vnd.google.colaboratory.intrinsic+json": {
       "type": "string"
      },
      "text/plain": [
       "'Welcome to Python \\n'"
      ]
     },
     "execution_count": 35,
     "metadata": {},
     "output_type": "execute_result"
    }
   ],
   "source": [
    "# Read a file\n",
    "\n",
    "f = open ('test.txt', 'r') # Read Mode\n",
    "\n",
    "#f.read()  # Read whole texts -> if there's no more text to read, then it shows '' only\n",
    "\n",
    "#f.readline()   # Read texts by line\n",
    "\n",
    "f.readline(23)  # Read the number of texts"
   ]
  },
  {
   "cell_type": "markdown",
   "metadata": {
    "id": "PbLuhhb84aYs"
   },
   "source": [
    "# Delete Files\n"
   ]
  },
  {
   "cell_type": "code",
   "execution_count": 36,
   "metadata": {
    "id": "JKi2wNaL4cHJ"
   },
   "outputs": [],
   "source": [
    "# Import a OS module\n",
    "\n",
    "import os"
   ]
  },
  {
   "cell_type": "code",
   "execution_count": 37,
   "metadata": {
    "colab": {
     "base_uri": "https://localhost:8080/"
    },
    "id": "HLQ00-uo4g4U",
    "outputId": "77d74046-44da-4483-daf1-07ea05922b04"
   },
   "outputs": [
    {
     "name": "stdout",
     "output_type": "stream",
     "text": [
      "File deleted successfully!\n"
     ]
    }
   ],
   "source": [
    "# Delete a File\n",
    "\n",
    "file_path = './test.txt'\n",
    "\n",
    "if os.path.exists(file_path):\n",
    "  os.remove(file_path)\n",
    "  print(\"File deleted successfully!\")\n",
    "else:\n",
    "  print(\"File doesn't exist.\")"
   ]
  }
 ],
 "metadata": {
  "colab": {
   "provenance": []
  },
  "kernelspec": {
   "display_name": "Python 3 (ipykernel)",
   "language": "python",
   "name": "python3"
  },
  "language_info": {
   "codemirror_mode": {
    "name": "ipython",
    "version": 3
   },
   "file_extension": ".py",
   "mimetype": "text/x-python",
   "name": "python",
   "nbconvert_exporter": "python",
   "pygments_lexer": "ipython3",
   "version": "3.10.9"
  }
 },
 "nbformat": 4,
 "nbformat_minor": 1
}
