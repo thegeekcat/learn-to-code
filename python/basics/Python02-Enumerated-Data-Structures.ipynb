{
  "nbformat": 4,
  "nbformat_minor": 0,
  "metadata": {
    "colab": {
      "provenance": [],
      "gpuType": "T4"
    },
    "kernelspec": {
      "name": "python3",
      "display_name": "Python 3"
    },
    "language_info": {
      "name": "python"
    },
    "accelerator": "GPU",
    "gpuClass": "standard"
  },
  "cells": [
    {
      "cell_type": "markdown",
      "source": [
        "# Lists"
      ],
      "metadata": {
        "id": "gw_Vk0S4H_eF"
      }
    },
    {
      "cell_type": "markdown",
      "source": [
        "## List Methods\n",
        "- **append()**:\tAdds an element at the end of the list\n",
        "- **clear()**:\tRemoves all the elements from the list\n",
        "- **copy()**:\tReturns a copy of the list\n",
        "- **count()**:\tReturns the number of elements with the -specified value\n",
        "-** extend()**:\tAdd the elements of a list (or any iterable), to the end of the current list\n",
        "- **index()**:\tReturns the index of the first element with the specified value\n",
        "- **insert()**:\tAdds an element at the specified position\n",
        "- **pop()**:\tRemoves the element at the specified position\n",
        "- **remove()**:\tRemoves the item with the specified value\n",
        "- **reverse()**:\tReverses the order of the list\n",
        "- **sort()**:\tSorts the list\n",
        "\n",
        "*(Note: These explains of methods above refers to w3schools.com; but not the examples below.)*\n"
      ],
      "metadata": {
        "id": "f35AGRJyMFV4"
      }
    },
    {
      "cell_type": "code",
      "execution_count": 90,
      "metadata": {
        "colab": {
          "base_uri": "https://localhost:8080/"
        },
        "id": "YiD_mbCgu9vU",
        "outputId": "7364e3fb-3e54-45d7-de0e-820470d43a13"
      },
      "outputs": [
        {
          "output_type": "stream",
          "name": "stdout",
          "text": [
            "['red', 'green', 'gold']\n",
            "<class 'list'>\n"
          ]
        }
      ],
      "source": [
        "# Basics\n",
        "colors = ['red', 'green', 'gold']\n",
        "print(colors)\n",
        "print(type(colors))"
      ]
    },
    {
      "cell_type": "markdown",
      "source": [
        "## Add List Items"
      ],
      "metadata": {
        "id": "PG7eAHdlIcBz"
      }
    },
    {
      "cell_type": "markdown",
      "source": [
        "### Append Items"
      ],
      "metadata": {
        "id": "tLcY-wueIgbw"
      }
    },
    {
      "cell_type": "code",
      "source": [
        "# 'append()' method: to add an item to the end of the list\n",
        "colors.append('blue') \n",
        "print(colors)"
      ],
      "metadata": {
        "colab": {
          "base_uri": "https://localhost:8080/"
        },
        "id": "7zfT5El1wmjB",
        "outputId": "b394e56a-013e-4d5c-de03-335ee217f9ce"
      },
      "execution_count": 91,
      "outputs": [
        {
          "output_type": "stream",
          "name": "stdout",
          "text": [
            "['red', 'green', 'gold', 'blue']\n"
          ]
        }
      ]
    },
    {
      "cell_type": "markdown",
      "source": [
        "### Insert Items"
      ],
      "metadata": {
        "id": "91zkWtN_I_08"
      }
    },
    {
      "cell_type": "code",
      "source": [
        "# 'insert()' method: to insert a list item at a specified index\n",
        "colors.insert(1, 'black') # Insert 'black' into index 1\n",
        "print(colors)"
      ],
      "metadata": {
        "colab": {
          "base_uri": "https://localhost:8080/"
        },
        "id": "xzQ-YlkDwztX",
        "outputId": "53fc51b5-88fc-4414-c2f2-61e89d156980"
      },
      "execution_count": 92,
      "outputs": [
        {
          "output_type": "stream",
          "name": "stdout",
          "text": [
            "['red', 'black', 'green', 'gold', 'blue']\n"
          ]
        }
      ]
    },
    {
      "cell_type": "markdown",
      "source": [
        "### Extend List"
      ],
      "metadata": {
        "id": "c7jxrxz5JG_s"
      }
    },
    {
      "cell_type": "code",
      "source": [
        "# 'expend()' method1: to append items from another list to the current list\n",
        "colors = ['red', 'blue', 'black']\n",
        "color2 = ['orange', 'gold', 'yellow']\n",
        "\n",
        "colors.extend(color2)  \n",
        "print(\"First expend: \", colors) \n",
        "\n",
        "colors.extend(['purple', 'green'])\n",
        "print(\"Second expend: \", colors)"
      ],
      "metadata": {
        "colab": {
          "base_uri": "https://localhost:8080/"
        },
        "id": "VTVoQ70KxPf-",
        "outputId": "826eb621-5f8c-467f-e741-a6d03e941f5e"
      },
      "execution_count": 93,
      "outputs": [
        {
          "output_type": "stream",
          "name": "stdout",
          "text": [
            "First expend:  ['red', 'blue', 'black', 'orange', 'gold', 'yellow']\n",
            "Second expend:  ['red', 'blue', 'black', 'orange', 'gold', 'yellow', 'purple', 'green']\n"
          ]
        }
      ]
    },
    {
      "cell_type": "code",
      "source": [
        "colors += ['red'] # (with []): considred as a single word\n",
        "print(colors)\n",
        "\n",
        "colors += 'yellow' # (without []): considered each words as one item\n",
        "print(colors)"
      ],
      "metadata": {
        "colab": {
          "base_uri": "https://localhost:8080/"
        },
        "id": "XQjpFvYfyDs8",
        "outputId": "90b3418d-5b0d-48b1-dafd-a0a68882e6db"
      },
      "execution_count": 94,
      "outputs": [
        {
          "output_type": "stream",
          "name": "stdout",
          "text": [
            "['red', 'blue', 'black', 'orange', 'gold', 'yellow', 'purple', 'green', 'red']\n",
            "['red', 'blue', 'black', 'orange', 'gold', 'yellow', 'purple', 'green', 'red', 'y', 'e', 'l', 'l', 'o', 'w']\n"
          ]
        }
      ]
    },
    {
      "cell_type": "markdown",
      "source": [
        "## index() method"
      ],
      "metadata": {
        "id": "Pdo0eaYeL8er"
      }
    },
    {
      "cell_type": "code",
      "source": [
        "print(colors) # Two 'red' words in the list\n",
        "\n",
        "print(colors.index('red')) # Find an index where the word is located from the beginning \n",
        "\n",
        "print(colors.index('red', 1)) #Find an index where the word is located from index 1"
      ],
      "metadata": {
        "colab": {
          "base_uri": "https://localhost:8080/"
        },
        "id": "wvnG5AXPyr2L",
        "outputId": "8c171416-a6cd-4aae-c48a-50fdb2600d05"
      },
      "execution_count": 95,
      "outputs": [
        {
          "output_type": "stream",
          "name": "stdout",
          "text": [
            "['red', 'blue', 'black', 'orange', 'gold', 'yellow', 'purple', 'green', 'red', 'y', 'e', 'l', 'l', 'o', 'w']\n",
            "0\n",
            "8\n"
          ]
        }
      ]
    },
    {
      "cell_type": "markdown",
      "source": [
        "## pop() method"
      ],
      "metadata": {
        "id": "wqKit4WfOMdY"
      }
    },
    {
      "cell_type": "code",
      "source": [
        "colors.pop() # "
      ],
      "metadata": {
        "colab": {
          "base_uri": "https://localhost:8080/",
          "height": 36
        },
        "id": "xiNf6Mqt6OEW",
        "outputId": "fd96f41c-4af1-46d6-8f57-e60255f2395f"
      },
      "execution_count": 96,
      "outputs": [
        {
          "output_type": "execute_result",
          "data": {
            "text/plain": [
              "'w'"
            ],
            "application/vnd.google.colaboratory.intrinsic+json": {
              "type": "string"
            }
          },
          "metadata": {},
          "execution_count": 96
        }
      ]
    },
    {
      "cell_type": "code",
      "source": [
        "colors.pop(1)"
      ],
      "metadata": {
        "colab": {
          "base_uri": "https://localhost:8080/",
          "height": 36
        },
        "id": "jnqlWOMf62mI",
        "outputId": "fc97fbd5-7168-4be9-bfcb-f003759acfdb"
      },
      "execution_count": 97,
      "outputs": [
        {
          "output_type": "execute_result",
          "data": {
            "text/plain": [
              "'blue'"
            ],
            "application/vnd.google.colaboratory.intrinsic+json": {
              "type": "string"
            }
          },
          "metadata": {},
          "execution_count": 97
        }
      ]
    },
    {
      "cell_type": "code",
      "source": [
        "print(colors)"
      ],
      "metadata": {
        "colab": {
          "base_uri": "https://localhost:8080/"
        },
        "id": "0Qp---1t64Mx",
        "outputId": "d5233b47-69a8-4eaa-a7fe-6049ceaf3ead"
      },
      "execution_count": 98,
      "outputs": [
        {
          "output_type": "stream",
          "name": "stdout",
          "text": [
            "['red', 'black', 'orange', 'gold', 'yellow', 'purple', 'green', 'red', 'y', 'e', 'l', 'l', 'o']\n"
          ]
        }
      ]
    },
    {
      "cell_type": "markdown",
      "source": [
        "## Remove Lists "
      ],
      "metadata": {
        "id": "JSPmEQa4O4rz"
      }
    },
    {
      "cell_type": "code",
      "source": [
        "colors.remove('e') # Remove the specific item\n",
        "print(colors)"
      ],
      "metadata": {
        "colab": {
          "base_uri": "https://localhost:8080/"
        },
        "id": "X47IB-Dl67Tz",
        "outputId": "01855019-ea99-4a6f-99cc-156e79594d2a"
      },
      "execution_count": 99,
      "outputs": [
        {
          "output_type": "stream",
          "name": "stdout",
          "text": [
            "['red', 'black', 'orange', 'gold', 'yellow', 'purple', 'green', 'red', 'y', 'l', 'l', 'o']\n"
          ]
        }
      ]
    },
    {
      "cell_type": "markdown",
      "source": [
        "## Sort Lists"
      ],
      "metadata": {
        "id": "ofBA7-LlOuBI"
      }
    },
    {
      "cell_type": "markdown",
      "source": [
        "### Sort Lists Alphanumerically"
      ],
      "metadata": {
        "id": "KoadmIw5PhZ5"
      }
    },
    {
      "cell_type": "code",
      "source": [
        "colors.sort()\n",
        "print(colors)"
      ],
      "metadata": {
        "colab": {
          "base_uri": "https://localhost:8080/"
        },
        "id": "pA0L2g7u7RuL",
        "outputId": "83c0df84-5496-475d-b713-ebda3361113a"
      },
      "execution_count": 100,
      "outputs": [
        {
          "output_type": "stream",
          "name": "stdout",
          "text": [
            "['black', 'gold', 'green', 'l', 'l', 'o', 'orange', 'purple', 'red', 'red', 'y', 'yellow']\n"
          ]
        }
      ]
    },
    {
      "cell_type": "markdown",
      "source": [
        "### Sort Lists Descending"
      ],
      "metadata": {
        "id": "vvmypRm7PkFi"
      }
    },
    {
      "cell_type": "code",
      "source": [
        "colors.reverse()  # Available option:  colors.sort(reverse=True)\n",
        "print(colors)"
      ],
      "metadata": {
        "colab": {
          "base_uri": "https://localhost:8080/"
        },
        "id": "rdZ--XUnPnes",
        "outputId": "711ef2a9-7a6e-4793-bb10-cac46a8bf91e"
      },
      "execution_count": 101,
      "outputs": [
        {
          "output_type": "stream",
          "name": "stdout",
          "text": [
            "['yellow', 'y', 'red', 'red', 'purple', 'orange', 'o', 'l', 'l', 'green', 'gold', 'black']\n"
          ]
        }
      ]
    },
    {
      "cell_type": "markdown",
      "source": [
        "# Sets"
      ],
      "metadata": {
        "id": "3x3dtjuFNivy"
      }
    },
    {
      "cell_type": "markdown",
      "source": [
        "## Set Methods\n",
        "\n",
        "\n",
        "- **add()**:\tAdds an element to the set\n",
        "- **clear()**:\tRemoves all the elements from the set\n",
        "- **copy()**:\tReturns a copy of the set\n",
        "- **difference()**:\tReturns a set containing the difference between two or more sets\n",
        "- **difference_update()**:\tRemoves the items in this set that are also included in another, specified set\n",
        "- **discard()**:\tRemove the specified item\n",
        "- **intersection()**:\tReturns a set, that is the intersection of two other sets\n",
        "- **intersection_update()**:\tRemoves the items in this set that are not present in other, specified set(s)\n",
        "- **isdisjoint()**: Returns whether two sets have a intersection or not\n",
        "- **issubset()**: Returns whether another set contains this set or not\n",
        "- **issuperset()**: Returns whether this set contains another set or not\n",
        "- **pop()**:\tRemoves an element from the set\n",
        "- **remove()**:\tRemoves the specified element\n",
        "- **symmetric_difference()**:\tReturns a set with the symmetric differences of two sets\n",
        "- **symmetric_difference_update()**:\tinserts the symmetric differences from this set and another\n",
        "- **union()**:\tReturn a set containing the union of sets\n",
        "- **update()**:\tUpdate the set with the union of this set and others\n",
        "\n",
        "*(Note: These explains of methods above refers to w3schools.com; but not the examples below.)*\n",
        "\n"
      ],
      "metadata": {
        "id": "OsrfszHxQDpY"
      }
    },
    {
      "cell_type": "code",
      "source": [
        "# Advantage 1: Using less memory than 'List'\n",
        "a = {1, 2, 3}\n",
        "b = {3, 4, 5}\n",
        "\n",
        "print(a, b)\n",
        "\n",
        "print(type(a))"
      ],
      "metadata": {
        "colab": {
          "base_uri": "https://localhost:8080/"
        },
        "id": "CbcXt_907zDg",
        "outputId": "d2fc6f19-11b9-4d5e-df8f-144e6338cbda"
      },
      "execution_count": 102,
      "outputs": [
        {
          "output_type": "stream",
          "name": "stdout",
          "text": [
            "{1, 2, 3} {3, 4, 5}\n",
            "<class 'set'>\n"
          ]
        }
      ]
    },
    {
      "cell_type": "code",
      "source": [
        "# # Advantage 2: 'Union' and 'Intersection' available \n",
        "\n",
        "print ('union: ', a.union(b)) \n",
        "print ('intersection: ', a.intersection(b))"
      ],
      "metadata": {
        "colab": {
          "base_uri": "https://localhost:8080/"
        },
        "id": "8NsLm5iv8oG-",
        "outputId": "452894ad-4958-4e71-a5e3-7733b3328a20"
      },
      "execution_count": 103,
      "outputs": [
        {
          "output_type": "stream",
          "name": "stdout",
          "text": [
            "union:  {1, 2, 3, 4, 5}\n",
            "intersection:  {3}\n"
          ]
        }
      ]
    },
    {
      "cell_type": "code",
      "source": [
        "print (a-b) # Subtraction\n",
        "print (a|b) # Union\n",
        "print(a&b) # Intersection"
      ],
      "metadata": {
        "colab": {
          "base_uri": "https://localhost:8080/"
        },
        "id": "KyN01ssV9mIn",
        "outputId": "64b132f3-c485-4fc4-b3f2-41dda2a55bb1"
      },
      "execution_count": 104,
      "outputs": [
        {
          "output_type": "stream",
          "name": "stdout",
          "text": [
            "{1, 2}\n",
            "{1, 2, 3, 4, 5}\n",
            "{3}\n"
          ]
        }
      ]
    },
    {
      "cell_type": "markdown",
      "source": [
        "# Tuples"
      ],
      "metadata": {
        "id": "7K2lmr3dNf2n"
      }
    },
    {
      "cell_type": "markdown",
      "source": [
        "## Tuple Methods\n",
        "\n",
        "- **count()**:\tReturns the number of times a specified value occurs in a tuple\n",
        "- **index()**\tSearches the tuple for a specified value and returns the position of where it was found\n",
        "\n",
        "*(Note: These explains of methods above refers to w3schools.com; but not the examples below.)*"
      ],
      "metadata": {
        "id": "JuAP2R-JSOsw"
      }
    },
    {
      "cell_type": "code",
      "source": [
        "t = (1, 2, 3)\n",
        "print(type(t))"
      ],
      "metadata": {
        "colab": {
          "base_uri": "https://localhost:8080/"
        },
        "id": "gYSj5Mp2-bpK",
        "outputId": "5933efa2-e16b-4584-d359-d2a9138cc2fd"
      },
      "execution_count": 105,
      "outputs": [
        {
          "output_type": "stream",
          "name": "stdout",
          "text": [
            "<class 'tuple'>\n"
          ]
        }
      ]
    },
    {
      "cell_type": "code",
      "source": [
        "(a, b) = (1, 2)\n",
        "print(a, b)"
      ],
      "metadata": {
        "colab": {
          "base_uri": "https://localhost:8080/"
        },
        "id": "vjU-INPT-gPx",
        "outputId": "efb0066f-a460-42a7-f5cf-70bd9472de09"
      },
      "execution_count": 106,
      "outputs": [
        {
          "output_type": "stream",
          "name": "stdout",
          "text": [
            "1 2\n"
          ]
        }
      ]
    },
    {
      "cell_type": "markdown",
      "source": [
        "# Excercises "
      ],
      "metadata": {
        "id": "aXXGWz5nSiMR"
      }
    },
    {
      "cell_type": "markdown",
      "source": [
        "## Change items "
      ],
      "metadata": {
        "id": "1hKvr1zuTxjd"
      }
    },
    {
      "cell_type": "code",
      "source": [
        "# Switching variables\n",
        "\n",
        "a = 10\n",
        "b = 20\n",
        "(a, b) = (b, a)\n",
        "print(a, b)"
      ],
      "metadata": {
        "colab": {
          "base_uri": "https://localhost:8080/"
        },
        "id": "Q1z2in5f_f39",
        "outputId": "b6186dcc-a7ce-4184-a534-9b05a7fe7981"
      },
      "execution_count": 107,
      "outputs": [
        {
          "output_type": "stream",
          "name": "stdout",
          "text": [
            "20 10\n"
          ]
        }
      ]
    },
    {
      "cell_type": "code",
      "source": [
        "# Changing types\n",
        "a = set ((1, 2, 3))\n",
        "print(type(a))\n",
        "\n",
        "b = list(a)\n",
        "print(type(b))\n",
        "\n",
        "c = tuple(a)\n",
        "print(type(c))\n",
        "\n",
        "d = set(c)\n",
        "print(type(d))"
      ],
      "metadata": {
        "colab": {
          "base_uri": "https://localhost:8080/"
        },
        "id": "byui0bii8zGT",
        "outputId": "0761d89f-6d42-48a3-b669-04dfd5ac39f0"
      },
      "execution_count": 108,
      "outputs": [
        {
          "output_type": "stream",
          "name": "stdout",
          "text": [
            "<class 'set'>\n",
            "<class 'list'>\n",
            "<class 'tuple'>\n",
            "<class 'set'>\n"
          ]
        }
      ]
    },
    {
      "cell_type": "markdown",
      "source": [
        "## 'in' operator"
      ],
      "metadata": {
        "id": "eZZPAcSsT0SP"
      }
    },
    {
      "cell_type": "code",
      "source": [
        "# Use 'in' operator to check a value in a Set\n",
        "a = set ((1, 2, 3))\n",
        "print(a)\n",
        "print (1 in a) # Check whether '1' is in Set 'a'\n",
        "\n",
        "print(5 in a)"
      ],
      "metadata": {
        "colab": {
          "base_uri": "https://localhost:8080/"
        },
        "id": "JME7GJs-A5hj",
        "outputId": "21d4d8ea-38d7-43cf-c312-a266133eba7f"
      },
      "execution_count": 109,
      "outputs": [
        {
          "output_type": "stream",
          "name": "stdout",
          "text": [
            "{1, 2, 3}\n",
            "True\n",
            "False\n"
          ]
        }
      ]
    },
    {
      "cell_type": "markdown",
      "source": [
        "## Dictionary "
      ],
      "metadata": {
        "id": "tYqGy779T232"
      }
    },
    {
      "cell_type": "code",
      "source": [
        "# Store values in 'key:value' pairs\n",
        "d = dict(a = 1, b = 2, c = 3)  \n",
        "print(d)\n",
        "print(type(d))"
      ],
      "metadata": {
        "colab": {
          "base_uri": "https://localhost:8080/"
        },
        "id": "bXmLlC6pEZfD",
        "outputId": "774d42cc-451a-4de5-d450-f875325c50b4"
      },
      "execution_count": 110,
      "outputs": [
        {
          "output_type": "stream",
          "name": "stdout",
          "text": [
            "{'a': 1, 'b': 2, 'c': 3}\n",
            "<class 'dict'>\n"
          ]
        }
      ]
    },
    {
      "cell_type": "code",
      "source": [
        "color = {'apple': 'red', 'banana': 'yellow'} # key: value\n",
        "print(color)"
      ],
      "metadata": {
        "colab": {
          "base_uri": "https://localhost:8080/"
        },
        "id": "ct9MrN5fE9Ww",
        "outputId": "034ea42d-18bc-4808-951b-d16d366d4dd3"
      },
      "execution_count": 111,
      "outputs": [
        {
          "output_type": "stream",
          "name": "stdout",
          "text": [
            "{'apple': 'red', 'banana': 'yellow'}\n"
          ]
        }
      ]
    },
    {
      "cell_type": "code",
      "source": [
        "# Errors \n",
        "# print(color[0]) # Not available -> dict() has no index"
      ],
      "metadata": {
        "id": "eBX4tgz8FX3a"
      },
      "execution_count": 112,
      "outputs": []
    },
    {
      "cell_type": "code",
      "source": [
        "# Add a new pair\n",
        "color['cherry'] = 'red'  \n",
        "print(color)"
      ],
      "metadata": {
        "colab": {
          "base_uri": "https://localhost:8080/"
        },
        "id": "SSI3lo95GY0w",
        "outputId": "2e522edf-65c8-4036-a78a-fae9fb2b1ddd"
      },
      "execution_count": 113,
      "outputs": [
        {
          "output_type": "stream",
          "name": "stdout",
          "text": [
            "{'apple': 'red', 'banana': 'yellow', 'cherry': 'red'}\n"
          ]
        }
      ]
    },
    {
      "cell_type": "code",
      "source": [
        "# Change a value in the existing pair\n",
        "color['apple'] = 'green'  \n",
        "print(color)"
      ],
      "metadata": {
        "colab": {
          "base_uri": "https://localhost:8080/"
        },
        "id": "yXOKtML8Ge3G",
        "outputId": "3f2583c2-0d5b-458a-d81e-c4634a110baa"
      },
      "execution_count": 114,
      "outputs": [
        {
          "output_type": "stream",
          "name": "stdout",
          "text": [
            "{'apple': 'green', 'banana': 'yellow', 'cherry': 'red'}\n"
          ]
        }
      ]
    },
    {
      "cell_type": "code",
      "source": [
        "print(color.keys()  ) # Get 'keys' only\n",
        "print(color.values()) # Get 'values' only\n",
        "\n",
        "print(color.items())  # Get 'items'"
      ],
      "metadata": {
        "colab": {
          "base_uri": "https://localhost:8080/"
        },
        "id": "POrGxn4SHFoc",
        "outputId": "2510e27e-c8ce-4f3e-b7fd-c6137fa86a73"
      },
      "execution_count": 115,
      "outputs": [
        {
          "output_type": "stream",
          "name": "stdout",
          "text": [
            "dict_keys(['apple', 'banana', 'cherry'])\n",
            "dict_values(['green', 'yellow', 'red'])\n",
            "dict_items([('apple', 'green'), ('banana', 'yellow'), ('cherry', 'red')])\n"
          ]
        }
      ]
    },
    {
      "cell_type": "code",
      "source": [
        "# Use 'For Loops' to get data\n",
        "\n",
        "for k in color.keys():\n",
        "  print(k)\n",
        "\n",
        "for v in color.values():\n",
        "  print(v)\n",
        "\n",
        "for i in color.items():\n",
        "  print (i)\n",
        "\n",
        "for (k, v) in color.items():\n",
        "  print(k, v)"
      ],
      "metadata": {
        "colab": {
          "base_uri": "https://localhost:8080/"
        },
        "id": "8oT-bGwhH5oa",
        "outputId": "e4ae337c-c04f-4113-e824-98daa8c6a77d"
      },
      "execution_count": 116,
      "outputs": [
        {
          "output_type": "stream",
          "name": "stdout",
          "text": [
            "apple\n",
            "banana\n",
            "cherry\n",
            "green\n",
            "yellow\n",
            "red\n",
            "('apple', 'green')\n",
            "('banana', 'yellow')\n",
            "('cherry', 'red')\n",
            "apple green\n",
            "banana yellow\n",
            "cherry red\n"
          ]
        }
      ]
    },
    {
      "cell_type": "code",
      "source": [
        "# Remove an item from Dictionary\n",
        "del color['cherry']\n",
        "print(color)"
      ],
      "metadata": {
        "colab": {
          "base_uri": "https://localhost:8080/"
        },
        "id": "REoQ_oZgKz4s",
        "outputId": "2e07a5bf-3497-465b-b349-bbc7fccc546b"
      },
      "execution_count": 117,
      "outputs": [
        {
          "output_type": "stream",
          "name": "stdout",
          "text": [
            "{'apple': 'green', 'banana': 'yellow'}\n"
          ]
        }
      ]
    },
    {
      "cell_type": "code",
      "source": [
        "# Clear itmes in a dictionary\n",
        "color.clear()\n",
        "print(color)"
      ],
      "metadata": {
        "colab": {
          "base_uri": "https://localhost:8080/"
        },
        "id": "fI116dLELMp8",
        "outputId": "e04570c5-a31d-4ecf-e73c-a9ceb2cfd41e"
      },
      "execution_count": 118,
      "outputs": [
        {
          "output_type": "stream",
          "name": "stdout",
          "text": [
            "{}\n"
          ]
        }
      ]
    },
    {
      "cell_type": "markdown",
      "source": [
        "## Other Excercises"
      ],
      "metadata": {
        "id": "EduXA138VqMU"
      }
    },
    {
      "cell_type": "code",
      "source": [
        "# Mixed use of Data Types\n",
        "d = { 'age': 40.5, 'job': [1,2,3], 'name': {'Kim':2}, 'cho': 1}\n",
        "\n",
        "print(d)\n",
        "print(type(d))"
      ],
      "metadata": {
        "colab": {
          "base_uri": "https://localhost:8080/"
        },
        "id": "EI_PqmO_Mwj5",
        "outputId": "a2677515-52aa-433f-942f-85695a2cfc04"
      },
      "execution_count": 119,
      "outputs": [
        {
          "output_type": "stream",
          "name": "stdout",
          "text": [
            "{'age': 40.5, 'job': [1, 2, 3], 'name': {'Kim': 2}, 'cho': 1}\n",
            "<class 'dict'>\n"
          ]
        }
      ]
    },
    {
      "cell_type": "code",
      "source": [
        "# Boolean\n",
        "\n",
        "isRight = False\n",
        "print(type(isRight))"
      ],
      "metadata": {
        "colab": {
          "base_uri": "https://localhost:8080/"
        },
        "id": "jfPyR5nYNjLR",
        "outputId": "a53c6514-ebc1-4207-d0e3-5271ecd861b9"
      },
      "execution_count": 120,
      "outputs": [
        {
          "output_type": "stream",
          "name": "stdout",
          "text": [
            "<class 'bool'>\n"
          ]
        }
      ]
    },
    {
      "cell_type": "code",
      "source": [
        "print(1 < 2)\n",
        "print(1 == 2)\n",
        "print(1 != 2)"
      ],
      "metadata": {
        "colab": {
          "base_uri": "https://localhost:8080/"
        },
        "id": "yU4OVYu_N7hw",
        "outputId": "c7b7e736-356c-4610-ef58-f1fb7edbf664"
      },
      "execution_count": 121,
      "outputs": [
        {
          "output_type": "stream",
          "name": "stdout",
          "text": [
            "True\n",
            "False\n",
            "True\n"
          ]
        }
      ]
    },
    {
      "cell_type": "code",
      "source": [
        "# Logical Operators\n",
        "\n",
        "print(True and False)\n",
        "print(True & True)\n",
        "print(True or False)\n",
        "print(False | False)\n",
        "print(not True)"
      ],
      "metadata": {
        "colab": {
          "base_uri": "https://localhost:8080/"
        },
        "id": "xb22bDYGOiUN",
        "outputId": "c94dfee0-87fa-4531-e05f-d8e8f6b82bf7"
      },
      "execution_count": 122,
      "outputs": [
        {
          "output_type": "stream",
          "name": "stdout",
          "text": [
            "False\n",
            "True\n",
            "True\n",
            "False\n",
            "False\n"
          ]
        }
      ]
    },
    {
      "cell_type": "markdown",
      "source": [
        "## 'Call by Reference' and 'Call by Value' "
      ],
      "metadata": {
        "id": "XHrByLgoVz7a"
      }
    },
    {
      "cell_type": "code",
      "source": [
        "# Call by Reference\n",
        "a = [1, 2, 3]\n",
        "b = a # store 'a' in list 'b' as Call by Reference \n",
        "print(b)"
      ],
      "metadata": {
        "colab": {
          "base_uri": "https://localhost:8080/"
        },
        "id": "e1k63HsJTgvo",
        "outputId": "3bfe25c1-fd90-497b-ad2a-84b1a793b80b"
      },
      "execution_count": 123,
      "outputs": [
        {
          "output_type": "stream",
          "name": "stdout",
          "text": [
            "[1, 2, 3]\n"
          ]
        }
      ]
    },
    {
      "cell_type": "code",
      "source": [
        "a[0] = 38\n",
        "print(a)\n",
        "print(b) "
      ],
      "metadata": {
        "colab": {
          "base_uri": "https://localhost:8080/"
        },
        "id": "CiLL96AbTl27",
        "outputId": "6d82bb67-0e0d-4ce4-cee6-0ca0668124c9"
      },
      "execution_count": 124,
      "outputs": [
        {
          "output_type": "stream",
          "name": "stdout",
          "text": [
            "[38, 2, 3]\n",
            "[38, 2, 3]\n"
          ]
        }
      ]
    },
    {
      "cell_type": "code",
      "source": [
        "# Call by Value\n",
        "a = [1, 2, 3]\n",
        "b = a[:] # call by value\n",
        "a[0] = 38\n",
        "print(a, b)"
      ],
      "metadata": {
        "colab": {
          "base_uri": "https://localhost:8080/"
        },
        "id": "yUSXl7j-VRXg",
        "outputId": "fae18ccf-eef2-4a82-ce9c-c2bf9edf3897"
      },
      "execution_count": 125,
      "outputs": [
        {
          "output_type": "stream",
          "name": "stdout",
          "text": [
            "[38, 2, 3] [1, 2, 3]\n"
          ]
        }
      ]
    },
    {
      "cell_type": "markdown",
      "source": [
        "### Copy() Module"
      ],
      "metadata": {
        "id": "GnI0FsxLX8Gb"
      }
    },
    {
      "cell_type": "code",
      "source": [
        "import copy\n",
        "\n",
        "a = [1, 2, 3]\n",
        "b = copy.deepcopy(a) #\n",
        "a[0] = 28\n",
        "print(a, b)"
      ],
      "metadata": {
        "colab": {
          "base_uri": "https://localhost:8080/"
        },
        "id": "grWBGXrkVgJj",
        "outputId": "d278b0d0-3494-46bb-e300-00f0448cc29e"
      },
      "execution_count": 126,
      "outputs": [
        {
          "output_type": "stream",
          "name": "stdout",
          "text": [
            "[28, 2, 3] [1, 2, 3]\n"
          ]
        }
      ]
    }
  ]
}