{
 "cells": [
  {
   "cell_type": "markdown",
   "metadata": {
    "id": "2O2RbFVIhuDH"
   },
   "source": [
    "# Basics"
   ]
  },
  {
   "cell_type": "code",
   "execution_count": null,
   "metadata": {
    "id": "_JTbk7pACe3e"
   },
   "outputs": [],
   "source": [
    "# Pass Statement\n",
    "class MyClass:\n",
    "  pass "
   ]
  },
  {
   "cell_type": "code",
   "execution_count": null,
   "metadata": {
    "colab": {
     "base_uri": "https://localhost:8080/"
    },
    "id": "kkw9kI29Gukj",
    "outputId": "a8315a76-d7bf-412f-feba-c86f14b30823"
   },
   "outputs": [
    {
     "name": "stdout",
     "output_type": "stream",
     "text": [
      "<class '__main__.MyClass'>\n",
      "62859648\n"
     ]
    }
   ],
   "source": [
    "print(MyClass)\n",
    "print(id(MyClass)) # Check memory address"
   ]
  },
  {
   "cell_type": "code",
   "execution_count": null,
   "metadata": {
    "id": "lz0MFQpoLNow"
   },
   "outputs": [],
   "source": [
    "# 'self' Parameter\n",
    "\n",
    "class Person:       # Names of Class should be starting with Capital letter  e.g. Person, Print\n",
    "  Name = 'Default Name'\n",
    "\n",
    "  def Print(self):   # 'self': to represent the instance belongs to the class\n",
    "    print('My Name is {0}'.format(self.Name))"
   ]
  },
  {
   "cell_type": "code",
   "execution_count": null,
   "metadata": {
    "id": "l4gX5dFbMFfB"
   },
   "outputs": [],
   "source": [
    "p1 = Person()"
   ]
  },
  {
   "cell_type": "code",
   "execution_count": null,
   "metadata": {
    "colab": {
     "base_uri": "https://localhost:8080/"
    },
    "id": "uLcspYY3MhEk",
    "outputId": "ead1883b-cf10-41c3-90ad-4d72a6c2200c"
   },
   "outputs": [
    {
     "name": "stdout",
     "output_type": "stream",
     "text": [
      "My Name is Karen\n"
     ]
    }
   ],
   "source": [
    "p1.Name = 'Karen'\n",
    "p1.Print()"
   ]
  },
  {
   "cell_type": "code",
   "execution_count": null,
   "metadata": {
    "id": "JcGzILQtM7Ct"
   },
   "outputs": [],
   "source": [
    "p1 = Person()\n",
    "p2 = Person()"
   ]
  },
  {
   "cell_type": "code",
   "execution_count": null,
   "metadata": {
    "colab": {
     "base_uri": "https://localhost:8080/"
    },
    "id": "jBWQChBIM_nQ",
    "outputId": "80cb4581-7809-42fd-f67c-925373778b53"
   },
   "outputs": [
    {
     "name": "stdout",
     "output_type": "stream",
     "text": [
      "My Name is Bell\n",
      "My Name is Christine\n"
     ]
    }
   ],
   "source": [
    "p1.Name = 'Bell'\n",
    "p2.Name = 'Christine'\n",
    "\n",
    "p1.Print()\n",
    "p2.Print()"
   ]
  },
  {
   "cell_type": "code",
   "execution_count": null,
   "metadata": {
    "id": "ZVe7E2BuNw57"
   },
   "outputs": [],
   "source": [
    "Person.Title = 'New Title'   "
   ]
  },
  {
   "cell_type": "code",
   "execution_count": null,
   "metadata": {
    "colab": {
     "base_uri": "https://localhost:8080/"
    },
    "id": "vfKnWrB1OCgm",
    "outputId": "8100facf-d8b1-466c-d0fd-e5ba7c139815"
   },
   "outputs": [
    {
     "name": "stdout",
     "output_type": "stream",
     "text": [
      "New Title\n",
      "New Title\n"
     ]
    }
   ],
   "source": [
    "print(p1.Title)\n",
    "print(p2.Title)"
   ]
  },
  {
   "cell_type": "code",
   "execution_count": null,
   "metadata": {
    "id": "6XrpXhsFOXMi"
   },
   "outputs": [],
   "source": [
    "p1.Age = 30  "
   ]
  },
  {
   "cell_type": "code",
   "execution_count": null,
   "metadata": {
    "colab": {
     "base_uri": "https://localhost:8080/"
    },
    "id": "ZbhDJEG9Ojza",
    "outputId": "5c486e4b-39c2-47d3-83a3-d611603cacdb"
   },
   "outputs": [
    {
     "name": "stdout",
     "output_type": "stream",
     "text": [
      "30\n"
     ]
    }
   ],
   "source": [
    "print(p1.Age)"
   ]
  },
  {
   "cell_type": "markdown",
   "metadata": {
    "id": "Z_iD3CZ5kQFd"
   },
   "source": [
    "# Inheritance "
   ]
  },
  {
   "cell_type": "code",
   "execution_count": null,
   "metadata": {
    "id": "HsK8fm-nPGRj"
   },
   "outputs": [],
   "source": [
    "# Create a Parent Class\n",
    "class Person: \n",
    "  pass"
   ]
  },
  {
   "cell_type": "code",
   "execution_count": null,
   "metadata": {
    "id": "GR8J6IyDPRD8"
   },
   "outputs": [],
   "source": [
    "# Create a Child Class\n",
    "class Student(Person):   # 'Student' class is created as a child class inherited from the parent 'Person'\n",
    "  pass"
   ]
  },
  {
   "cell_type": "code",
   "execution_count": null,
   "metadata": {
    "id": "EDXlJuLDPlnF"
   },
   "outputs": [],
   "source": [
    "class Bird:\n",
    "  pass"
   ]
  },
  {
   "cell_type": "code",
   "execution_count": null,
   "metadata": {
    "id": "sbuiWXXSQSCl"
   },
   "outputs": [],
   "source": [
    "p = Person() \n",
    "s = Student()"
   ]
  },
  {
   "cell_type": "code",
   "execution_count": null,
   "metadata": {
    "colab": {
     "base_uri": "https://localhost:8080/"
    },
    "id": "3kq7g1t-QXl9",
    "outputId": "982d72f4-2c65-432a-ab6a-e0097a6b79b4"
   },
   "outputs": [
    {
     "name": "stdout",
     "output_type": "stream",
     "text": [
      "True\n",
      "True\n",
      "True\n",
      "True\n"
     ]
    }
   ],
   "source": [
    "# Check a relationship between instances\n",
    "\n",
    "print(isinstance(p, Person))  # Check whether 'p' is inherited from 'Perspn\n",
    "print(isinstance(s, Person))\n",
    "print(isinstance(s, object))  # 'object' is the Parent class for all classes in Python\n",
    "print(isinstance(int, object))"
   ]
  },
  {
   "cell_type": "markdown",
   "metadata": {
    "id": "bsylmH9BkxYZ"
   },
   "source": [
    "# _ _ init _ _() Function "
   ]
  },
  {
   "cell_type": "code",
   "execution_count": null,
   "metadata": {
    "id": "FTP-JlU6QsFr"
   },
   "outputs": [],
   "source": [
    "class MyClass:\n",
    "  def __init__(self): \n",
    "    print('Class has been created')\n"
   ]
  },
  {
   "cell_type": "code",
   "execution_count": null,
   "metadata": {
    "colab": {
     "base_uri": "https://localhost:8080/"
    },
    "id": "sPYwVVW0R9Sy",
    "outputId": "8b029690-734d-43b0-d004-9c13bd37050b"
   },
   "outputs": [
    {
     "name": "stdout",
     "output_type": "stream",
     "text": [
      "Class has been created\n"
     ]
    }
   ],
   "source": [
    "my = MyClass()  \n",
    "del my   "
   ]
  },
  {
   "cell_type": "code",
   "execution_count": null,
   "metadata": {
    "id": "O8s1tDUWSiZS"
   },
   "outputs": [],
   "source": [
    "class Person:\n",
    "  Name = ''\n",
    "  Age = 0\n",
    "  def __init__(self, name, age): \n",
    "    self.Name = name\n",
    "    self.Age = age\n",
    "  def __del__(self):  \n",
    "    print('{0} was here'.format(self.Name))\n",
    "\n",
    "\n",
    "  def PrintName(self):\n",
    "    print(self.Name)\n",
    "    print(self.Age)"
   ]
  },
  {
   "cell_type": "code",
   "execution_count": null,
   "metadata": {
    "colab": {
     "base_uri": "https://localhost:8080/"
    },
    "id": "IHzQtu2UTCi_",
    "outputId": "4ab94379-5235-41c9-99dd-b8e9682d860c"
   },
   "outputs": [
    {
     "name": "stdout",
     "output_type": "stream",
     "text": [
      "Karen\n",
      "20\n",
      "Karen 잘 살다감\n"
     ]
    }
   ],
   "source": [
    "p = Person('Karen', 20)\n",
    "p.PrintName()\n",
    "del p"
   ]
  }
 ],
 "metadata": {
  "colab": {
   "provenance": []
  },
  "kernelspec": {
   "display_name": "Python 3 (ipykernel)",
   "language": "python",
   "name": "python3"
  },
  "language_info": {
   "codemirror_mode": {
    "name": "ipython",
    "version": 3
   },
   "file_extension": ".py",
   "mimetype": "text/x-python",
   "name": "python",
   "nbconvert_exporter": "python",
   "pygments_lexer": "ipython3",
   "version": "3.10.9"
  }
 },
 "nbformat": 4,
 "nbformat_minor": 1
}
