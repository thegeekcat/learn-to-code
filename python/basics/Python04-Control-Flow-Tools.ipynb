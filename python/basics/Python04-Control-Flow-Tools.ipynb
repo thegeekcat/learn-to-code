{
 "cells": [
  {
   "cell_type": "markdown",
   "metadata": {
    "id": "K72yStYapmW3"
   },
   "source": [
    "# 'if' Statement: Conditional Statement"
   ]
  },
  {
   "cell_type": "code",
   "execution_count": 23,
   "metadata": {
    "colab": {
     "base_uri": "https://localhost:8080/"
    },
    "id": "szM5j9LbkDLd",
    "outputId": "79e6fe94-5919-484b-b6f5-c92d209002ce"
   },
   "outputs": [
    {
     "name": "stdout",
     "output_type": "stream",
     "text": [
      "value is bigger than 5\n"
     ]
    }
   ],
   "source": [
    "value = 10\n",
    "if value > 5:\n",
    "  print('value is bigger than 5')\n",
    "  "
   ]
  },
  {
   "cell_type": "code",
   "execution_count": 24,
   "metadata": {
    "colab": {
     "base_uri": "https://localhost:8080/"
    },
    "id": "bS7f_IdQkuAN",
    "outputId": "22cc9ce4-00db-49b3-b022-2b4dcb345b8b"
   },
   "outputs": [
    {
     "name": "stdout",
     "output_type": "stream",
     "text": [
      "banana\n"
     ]
    }
   ],
   "source": [
    "money = 10\n",
    "if money > 100:\n",
    "  item = 'apple'\n",
    "else:\n",
    "  item = 'banana'\n",
    "\n",
    "print(item)"
   ]
  },
  {
   "cell_type": "code",
   "execution_count": 25,
   "metadata": {
    "colab": {
     "base_uri": "https://localhost:8080/"
    },
    "id": "8t5ccHa4lWTu",
    "outputId": "bdc4815a-7f9e-4562-e734-514fcaba2568"
   },
   "outputs": [
    {
     "name": "stdout",
     "output_type": "stream",
     "text": [
      "Input your score: 93\n",
      "Your score is  93\n",
      "Your score is 93\n",
      "Your grade is A\n"
     ]
    }
   ],
   "source": [
    "# Excercise: Grading System\n",
    "\n",
    "score = int(input(('Input your score: ')))  # The value input is a 'str' type, so it needs to be converted to 'int'\n",
    "        \n",
    "print(\"Your score is \", score)\n",
    "\n",
    "if 90 <= score <= 100:\n",
    "  grade = 'A'\n",
    "elif 80 <= score < 90:\n",
    "  grade = 'B'\n",
    "elif 70 <= score < 80:\n",
    "  grade = 'C'\n",
    "elif 60 <= score < 70:\n",
    "  grade = 'D'\n",
    "else:\n",
    "  grade = 'F'\n",
    "\n",
    "\n",
    "print('Your score is ' + str(score))  # 'Score' has been converted to 'int' above, so it needs to be 'str' again to print out\n",
    "print('Your grade is ' + grade)"
   ]
  },
  {
   "cell_type": "markdown",
   "metadata": {
    "id": "dDv4NdC-rjaU"
   },
   "source": [
    "# Boolean "
   ]
  },
  {
   "cell_type": "code",
   "execution_count": 26,
   "metadata": {
    "colab": {
     "base_uri": "https://localhost:8080/"
    },
    "id": "9oDCOmWonLbo",
    "outputId": "d43b7132-0c1f-4b58-f24e-33aa389be9ce"
   },
   "outputs": [
    {
     "name": "stdout",
     "output_type": "stream",
     "text": [
      "True\n",
      "False\n",
      "True\n",
      "True\n",
      "False\n",
      "False\n",
      "False\n"
     ]
    }
   ],
   "source": [
    "print(bool(True))\n",
    "print(bool(False))\n",
    "print(bool(123)) \n",
    "\n",
    "print(bool(-1)) \n",
    "print(bool(0))\n",
    "print(bool(''))  # This is a 'str' type but no value -> False\n",
    "print(bool())    # This is empty -> False"
   ]
  },
  {
   "cell_type": "markdown",
   "metadata": {
    "id": "pobFLAMVqM-5"
   },
   "source": [
    "# 'for' Statement "
   ]
  },
  {
   "cell_type": "code",
   "execution_count": 27,
   "metadata": {
    "colab": {
     "base_uri": "https://localhost:8080/"
    },
    "id": "zf0Er5WboTaC",
    "outputId": "671ec755-7a19-46e1-d5f4-28b9c84a3a19"
   },
   "outputs": [
    {
     "name": "stdout",
     "output_type": "stream",
     "text": [
      "Apple\n",
      "100\n",
      "15.23\n"
     ]
    }
   ],
   "source": [
    "l = [ 'Apple', 100, 15.23 ]\n",
    "\n",
    "for i in l:\n",
    "  print(i)"
   ]
  },
  {
   "cell_type": "markdown",
   "metadata": {
    "id": "ohySKd0msDc3"
   },
   "source": [
    "## Example: Multiplication Tables"
   ]
  },
  {
   "cell_type": "code",
   "execution_count": 28,
   "metadata": {
    "colab": {
     "base_uri": "https://localhost:8080/"
    },
    "id": "4g0DGwR7o6V8",
    "outputId": "1c145af7-8c85-48bb-b720-d8cdbaeaa25b"
   },
   "outputs": [
    {
     "name": "stdout",
     "output_type": "stream",
     "text": [
      "2 * 1 = 3\n",
      "2 * 2 = 6\n",
      "2 * 3 = 9\n",
      "2 * 4 = 12\n",
      "2 * 5 = 15\n",
      "2 * 6 = 18\n",
      "2 * 7 = 21\n",
      "2 * 8 = 24\n",
      "2 * 9 = 27\n"
     ]
    }
   ],
   "source": [
    "# 2 Times Table\n",
    "loop1 = [2, 3, 4, 5, 6, 7, 8, 9]\n",
    "loop2 = [1, 2, 3, 4, 5, 6, 7, 8, 9]\n",
    "\n",
    "for i in loop2:\n",
    "  print(\"2 * \" + str(i) + \" = \" + str(3 * i))"
   ]
  },
  {
   "cell_type": "code",
   "execution_count": 29,
   "metadata": {
    "colab": {
     "base_uri": "https://localhost:8080/"
    },
    "id": "RcVJe-ffpPnn",
    "outputId": "e4426037-0e1e-4f41-fc3f-074bf67ccfb2"
   },
   "outputs": [
    {
     "name": "stdout",
     "output_type": "stream",
     "text": [
      "2 * 1 = 2\n",
      "2 * 2 = 4\n",
      "2 * 3 = 6\n",
      "2 * 4 = 8\n",
      "2 * 5 = 10\n",
      "2 * 6 = 12\n",
      "2 * 7 = 14\n",
      "2 * 8 = 16\n",
      "2 * 9 = 18\n"
     ]
    }
   ],
   "source": [
    "# 2 Times Table\n",
    "loop1 = [2, 3, 4, 5, 6, 7, 8, 9]\n",
    "loop2 = [1, 2, 3, 4, 5, 6, 7, 8, 9]\n",
    "\n",
    "for i in loop2:\n",
    "  print(\"2 * {0} = {1}\".format(i, i*2))"
   ]
  },
  {
   "cell_type": "code",
   "execution_count": 30,
   "metadata": {
    "colab": {
     "base_uri": "https://localhost:8080/"
    },
    "id": "xoPgS322ppdU",
    "outputId": "6fd0c65d-6aea-4e35-e426-cedf6e4e6585"
   },
   "outputs": [
    {
     "name": "stdout",
     "output_type": "stream",
     "text": [
      "2 * 1 = 2\n",
      "2 * 2 = 4\n",
      "2 * 3 = 6\n",
      "2 * 4 = 8\n",
      "2 * 5 = 10\n",
      "2 * 6 = 12\n",
      "2 * 7 = 14\n",
      "2 * 8 = 16\n",
      "2 * 9 = 18\n",
      "3 * 1 = 3\n",
      "3 * 2 = 6\n",
      "3 * 3 = 9\n",
      "3 * 4 = 12\n",
      "3 * 5 = 15\n",
      "3 * 6 = 18\n",
      "3 * 7 = 21\n",
      "3 * 8 = 24\n",
      "3 * 9 = 27\n",
      "4 * 1 = 4\n",
      "4 * 2 = 8\n",
      "4 * 3 = 12\n",
      "4 * 4 = 16\n",
      "4 * 5 = 20\n",
      "4 * 6 = 24\n",
      "4 * 7 = 28\n",
      "4 * 8 = 32\n",
      "4 * 9 = 36\n",
      "5 * 1 = 5\n",
      "5 * 2 = 10\n",
      "5 * 3 = 15\n",
      "5 * 4 = 20\n",
      "5 * 5 = 25\n",
      "5 * 6 = 30\n",
      "5 * 7 = 35\n",
      "5 * 8 = 40\n",
      "5 * 9 = 45\n",
      "6 * 1 = 6\n",
      "6 * 2 = 12\n",
      "6 * 3 = 18\n",
      "6 * 4 = 24\n",
      "6 * 5 = 30\n",
      "6 * 6 = 36\n",
      "6 * 7 = 42\n",
      "6 * 8 = 48\n",
      "6 * 9 = 54\n",
      "7 * 1 = 7\n",
      "7 * 2 = 14\n",
      "7 * 3 = 21\n",
      "7 * 4 = 28\n",
      "7 * 5 = 35\n",
      "7 * 6 = 42\n",
      "7 * 7 = 49\n",
      "7 * 8 = 56\n",
      "7 * 9 = 63\n",
      "8 * 1 = 8\n",
      "8 * 2 = 16\n",
      "8 * 3 = 24\n",
      "8 * 4 = 32\n",
      "8 * 5 = 40\n",
      "8 * 6 = 48\n",
      "8 * 7 = 56\n",
      "8 * 8 = 64\n",
      "8 * 9 = 72\n",
      "9 * 1 = 9\n",
      "9 * 2 = 18\n",
      "9 * 3 = 27\n",
      "9 * 4 = 36\n",
      "9 * 5 = 45\n",
      "9 * 6 = 54\n",
      "9 * 7 = 63\n",
      "9 * 8 = 72\n",
      "9 * 9 = 81\n"
     ]
    }
   ],
   "source": [
    "# 1 - 9 Times Tables\n",
    "\n",
    "loop1 = [2, 3, 4, 5, 6, 7, 8, 9]\n",
    "loop2 = [1, 2, 3, 4, 5, 6, 7, 8, 9]\n",
    "\n",
    "for i in loop1:\n",
    "  for j in loop2:\n",
    "    print(\"{0} * {1} = {2}\".format(i, j, i*j))"
   ]
  },
  {
   "cell_type": "markdown",
   "metadata": {
    "id": "01Tinq35tBuw"
   },
   "source": [
    "## 'break' Statement"
   ]
  },
  {
   "cell_type": "code",
   "execution_count": 31,
   "metadata": {
    "id": "D-XDAyHM_GgC"
   },
   "outputs": [],
   "source": [
    "L = [1, 2, 3, 4, 5, 6, 7, 8, 9, 10]"
   ]
  },
  {
   "cell_type": "code",
   "execution_count": 32,
   "metadata": {
    "colab": {
     "base_uri": "https://localhost:8080/"
    },
    "id": "R9PorGP89xt0",
    "outputId": "451098ca-4a2c-4db1-f23c-170790dd9977"
   },
   "outputs": [
    {
     "name": "stdout",
     "output_type": "stream",
     "text": [
      "Item: 1\n",
      "Item: 2\n",
      "Item: 3\n",
      "Item: 4\n",
      "Item: 5\n"
     ]
    }
   ],
   "source": [
    "for i in L:\n",
    "  if i > 5:\n",
    "    break\n",
    "  print('Item: {0}'.format(i))"
   ]
  },
  {
   "cell_type": "markdown",
   "metadata": {
    "id": "e_ZqZsJHtOCa"
   },
   "source": [
    "## 'continue' Statement"
   ]
  },
  {
   "cell_type": "code",
   "execution_count": 33,
   "metadata": {
    "colab": {
     "base_uri": "https://localhost:8080/"
    },
    "id": "lZJvmwBj_BYy",
    "outputId": "47f8555b-6da1-4ea0-e04c-1e7f778d8820"
   },
   "outputs": [
    {
     "name": "stdout",
     "output_type": "stream",
     "text": [
      "item 1\n",
      "item 3\n",
      "item 5\n",
      "item 7\n",
      "item 9\n"
     ]
    }
   ],
   "source": [
    "for i in L:\n",
    "  if i % 2 == 0:   # odd number\n",
    "    continue\n",
    "  print('item {0}'.format(i))"
   ]
  },
  {
   "cell_type": "markdown",
   "metadata": {
    "id": "b65KsbEHthX9"
   },
   "source": [
    "# 'range()' Function"
   ]
  },
  {
   "cell_type": "code",
   "execution_count": 34,
   "metadata": {
    "colab": {
     "base_uri": "https://localhost:8080/"
    },
    "id": "D5H0XdaA_Q57",
    "outputId": "c1ebe0d7-4a95-47be-b226-a16b3f582a6a"
   },
   "outputs": [
    {
     "name": "stdout",
     "output_type": "stream",
     "text": [
      "[0, 1, 2, 3, 4, 5, 6, 7, 8, 9]\n",
      "[5, 6, 7, 8, 9]\n",
      "[10, 9, 8, 7, 6, 5, 4, 3, 2, 1]\n",
      "[0, 2, 4, 6, 8]\n"
     ]
    }
   ],
   "source": [
    "# range() function returens a range of numbers\n",
    "# Default: starting from 0, increasing by 1\n",
    "\n",
    "print(list(range(10)))   # Make a list with 10 numbers starting from '0'\n",
    "print(list(range(5,10))) # range(start value, end value)\n",
    "print(list(range(10, 0, -1)))  #range(start value, end value, increasement)\n",
    "print(list(range(0, 10, 2)))"
   ]
  },
  {
   "cell_type": "code",
   "execution_count": 35,
   "metadata": {
    "colab": {
     "base_uri": "https://localhost:8080/"
    },
    "id": "MHRQ1Z0kAchj",
    "outputId": "43dc99a6-11d6-4b9e-8551-391c88fa7653"
   },
   "outputs": [
    {
     "name": "stdout",
     "output_type": "stream",
     "text": [
      "Apple\n",
      "Orage\n",
      "Banana\n"
     ]
    }
   ],
   "source": [
    "L = ['Apple', 'Orage', 'Banana']\n",
    "\n",
    "for i in L:\n",
    "  print(i)"
   ]
  },
  {
   "cell_type": "markdown",
   "metadata": {
    "id": "rs6Y4ahyuaol"
   },
   "source": [
    "## A special case of 'for stament' only in Python "
   ]
  },
  {
   "cell_type": "code",
   "execution_count": 36,
   "metadata": {
    "id": "vytQ3sEvAniY"
   },
   "outputs": [],
   "source": [
    "l = list(range(1, 6))"
   ]
  },
  {
   "cell_type": "code",
   "execution_count": 37,
   "metadata": {
    "colab": {
     "base_uri": "https://localhost:8080/"
    },
    "id": "swjJACpIAsNj",
    "outputId": "5d55cbd5-0412-4516-89c8-34bfbdfe83f7"
   },
   "outputs": [
    {
     "name": "stdout",
     "output_type": "stream",
     "text": [
      "1\n",
      "2\n",
      "3\n",
      "4\n",
      "5\n"
     ]
    },
    {
     "data": {
      "text/plain": [
       "[None, None, None, None, None]"
      ]
     },
     "execution_count": 37,
     "metadata": {},
     "output_type": "execute_result"
    }
   ],
   "source": [
    "# This type of 'for' statment is not existing in other programming languages\n",
    "\n",
    "[print(i) for i in l]  \n",
    "# After finishing a cycle of 'for' statement,\n",
    "# it starts again from the beginning, \n",
    "# so its result shows a list of 'None'"
   ]
  },
  {
   "cell_type": "code",
   "execution_count": 38,
   "metadata": {
    "colab": {
     "base_uri": "https://localhost:8080/"
    },
    "id": "l26_I9-bBJO3",
    "outputId": "c924e31f-1290-4b7b-de91-3a7b3686dc5e"
   },
   "outputs": [
    {
     "data": {
      "text/plain": [
       "[1, 4, 9, 16, 25]"
      ]
     },
     "execution_count": 38,
     "metadata": {},
     "output_type": "execute_result"
    }
   ],
   "source": [
    "[i**2 for i in l]"
   ]
  },
  {
   "cell_type": "markdown",
   "metadata": {
    "id": "HVIHdTYCp3Aa"
   },
   "source": [
    "# 'while' Statement "
   ]
  },
  {
   "cell_type": "code",
   "execution_count": 39,
   "metadata": {
    "colab": {
     "base_uri": "https://localhost:8080/"
    },
    "id": "JGwX-XpWqFFe",
    "outputId": "c8c7d23e-6e99-49c9-b3c3-e7ce257f65ef"
   },
   "outputs": [
    {
     "name": "stdout",
     "output_type": "stream",
     "text": [
      "5\n",
      "4\n",
      "3\n",
      "2\n",
      "1\n"
     ]
    }
   ],
   "source": [
    "value = 5\n",
    "\n",
    "while value > 0:\n",
    "  print(value)\n",
    "  value -= 1 "
   ]
  }
 ],
 "metadata": {
  "colab": {
   "provenance": []
  },
  "kernelspec": {
   "display_name": "Python 3 (ipykernel)",
   "language": "python",
   "name": "python3"
  },
  "language_info": {
   "codemirror_mode": {
    "name": "ipython",
    "version": 3
   },
   "file_extension": ".py",
   "mimetype": "text/x-python",
   "name": "python",
   "nbconvert_exporter": "python",
   "pygments_lexer": "ipython3",
   "version": "3.10.9"
  }
 },
 "nbformat": 4,
 "nbformat_minor": 1
}
