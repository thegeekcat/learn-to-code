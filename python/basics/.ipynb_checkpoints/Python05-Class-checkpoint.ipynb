{
 "cells": [
  {
   "cell_type": "markdown",
   "metadata": {
    "id": "2O2RbFVIhuDH"
   },
   "source": [
    "# Basics"
   ]
  },
  {
   "cell_type": "markdown",
   "metadata": {
    "id": "MkZny3yAPcGw"
   },
   "source": [
    "## Pass Statement"
   ]
  },
  {
   "cell_type": "markdown",
   "metadata": {
    "id": "ZFqmGIfpPkca"
   },
   "source": [
    "`Pass` Statement: To create a class without contents"
   ]
  },
  {
   "cell_type": "code",
   "execution_count": 96,
   "metadata": {
    "colab": {
     "base_uri": "https://localhost:8080/"
    },
    "id": "_JTbk7pACe3e",
    "outputId": "f09e6a49-5ae8-4a21-abca-cafcd8a27384"
   },
   "outputs": [
    {
     "name": "stdout",
     "output_type": "stream",
     "text": [
      "<class '__main__.MyClass'>\n",
      "63961136\n"
     ]
    }
   ],
   "source": [
    "# Excercise 1\n",
    "class MyClass:\n",
    "  pass \n",
    "\n",
    "print(MyClass)\n",
    "print(id(MyClass)) # Check memory address"
   ]
  },
  {
   "cell_type": "markdown",
   "metadata": {
    "id": "aryMNEkMQ4pv"
   },
   "source": [
    "## Override"
   ]
  },
  {
   "cell_type": "code",
   "execution_count": 97,
   "metadata": {
    "colab": {
     "base_uri": "https://localhost:8080/"
    },
    "id": "kkw9kI29Gukj",
    "outputId": "e4e9b79d-d78c-4bb6-955a-49e79d1f062c"
   },
   "outputs": [
    {
     "name": "stdout",
     "output_type": "stream",
     "text": [
      "car1.colors:  white\n",
      "car1.brands:  Benz\n",
      "car2.colors:  white\n",
      "car2.brands:  Benz\n",
      "car3.colors:  white\n",
      "car3.brands:  Benz\n"
     ]
    }
   ],
   "source": [
    "# Create a class\n",
    "class Car:\n",
    "  colors='white'\n",
    "  brands='Benz'\n",
    "\n",
    "# Create instances of 'Car'\n",
    "car1 = Car()\n",
    "car2 = Car()\n",
    "car3 = Car()\n",
    "\n",
    "print('car1.colors: ', car1.colors)\n",
    "print('car1.brands: ', car1.brands)\n",
    "print('car2.colors: ', car2.colors)\n",
    "print('car2.brands: ', car2.brands)\n",
    "print('car3.colors: ', car3.colors)\n",
    "print('car3.brands: ', car3.brands)"
   ]
  },
  {
   "cell_type": "code",
   "execution_count": 98,
   "metadata": {
    "colab": {
     "base_uri": "https://localhost:8080/"
    },
    "id": "BKMsb8XISAD8",
    "outputId": "1470478d-76de-4640-e3b2-7c2abb7911d9"
   },
   "outputs": [
    {
     "name": "stdout",
     "output_type": "stream",
     "text": [
      "car2.brands:  BMW\n"
     ]
    }
   ],
   "source": [
    "# Override\n",
    "car2.brands='BMW'\n",
    "print('car2.brands: ', car2.brands)"
   ]
  },
  {
   "cell_type": "markdown",
   "metadata": {
    "id": "_1HcdveGS8Bv"
   },
   "source": [
    "# _ _ init _ _() Method"
   ]
  },
  {
   "cell_type": "markdown",
   "metadata": {
    "id": "SxuWmVDEToKv"
   },
   "source": [
    "The __init__ method: \n",
    "- All classes have the __init__ function\n",
    "- It's excuted when the cass is initiated\n",
    "\n"
   ]
  },
  {
   "cell_type": "code",
   "execution_count": 99,
   "metadata": {
    "id": "smkC-sV7TT6f"
   },
   "outputs": [],
   "source": [
    "# Class {name_of_class}\n",
    "#   def __init__(self, args):\n",
    "#     pass\n"
   ]
  },
  {
   "cell_type": "code",
   "execution_count": 100,
   "metadata": {
    "id": "nKQacoymUuZP"
   },
   "outputs": [],
   "source": [
    "# Create a class\n",
    "\n",
    "class Cats:\n",
    "  def __init__(self, name, breed, age):   # `self` parameter: to represent the instance belongs to the class\n",
    "    self.name = name\n",
    "    self.breed = breed\n",
    "    self.age = age"
   ]
  },
  {
   "cell_type": "code",
   "execution_count": 101,
   "metadata": {
    "id": "uXm6FxYEU-di"
   },
   "outputs": [],
   "source": [
    "# Create an instance\n",
    "myCat = Cats('Meow', 'Korean Short Hair', '3') # -> call __init__ method when an instance is created"
   ]
  },
  {
   "cell_type": "markdown",
   "metadata": {
    "id": "khR1dh7DVtdA"
   },
   "source": [
    "# Methods"
   ]
  },
  {
   "cell_type": "markdown",
   "metadata": {
    "id": "sQygOpk4V028"
   },
   "source": [
    "- Characteristics of Method\n",
    " - Being defined inside of Classes\n",
    " - Methods are always called by instances  \n",
    "   : Hiden arguments `self` are passed to methods\n"
   ]
  },
  {
   "cell_type": "code",
   "execution_count": 102,
   "metadata": {
    "id": "t_bV8Mw7VvAl"
   },
   "outputs": [],
   "source": [
    "# Create a class\n",
    "\n",
    "class Meow:\n",
    "\n",
    "  # Define the class itself using '__init__'\n",
    "  def __init__(self, prefix):\n",
    "    self.prefix = prefix\n",
    "\n",
    "  def print_me(self, a, b, c):\n",
    "    print(self.prefix, a, sep=' _ ')\n",
    "    print(self.prefix, b, sep=' ~ ')\n",
    "    print(self.prefix, c, sep=' ! ')"
   ]
  },
  {
   "cell_type": "code",
   "execution_count": 103,
   "metadata": {
    "colab": {
     "base_uri": "https://localhost:8080/"
    },
    "id": "5SFmDEhvXmM0",
    "outputId": "ca55332d-5028-4fdd-c469-9aa6e8846839"
   },
   "outputs": [
    {
     "name": "stdout",
     "output_type": "stream",
     "text": [
      "meeeeooww _ 1\n",
      "meeeeooww ~ 2\n",
      "meeeeooww ! 3\n"
     ]
    }
   ],
   "source": [
    "# Make an instance\n",
    "printer = Meow('meeeeooww')\n",
    "\n",
    "# Call a method\n",
    "printer.print_me(1, 2, 3)"
   ]
  },
  {
   "cell_type": "code",
   "execution_count": 104,
   "metadata": {
    "colab": {
     "base_uri": "https://localhost:8080/"
    },
    "id": "K6E8fUGoYr5s",
    "outputId": "a36ef04f-fa2e-4af8-a42b-47a780ff729d"
   },
   "outputs": [
    {
     "name": "stdout",
     "output_type": "stream",
     "text": [
      "Karen\n",
      "20\n",
      "Karen was here\n"
     ]
    }
   ],
   "source": [
    "# Excercise \n",
    "\n",
    "class Person:\n",
    "  \n",
    "  def __init__(self, name, age): \n",
    "    self.Name = name\n",
    "    self.Age = age\n",
    "  def __del__(self):  \n",
    "    print('{0} was here'.format(self.Name))\n",
    "\n",
    "\n",
    "  def PrintName(self):\n",
    "    print(self.Name)\n",
    "    print(self.Age)\n",
    "\n",
    "p = Person('Karen', 20)\n",
    "p.PrintName()\n",
    "del p"
   ]
  },
  {
   "cell_type": "markdown",
   "metadata": {
    "id": "rjB-g-NNYdUk"
   },
   "source": [
    "# Inheritance"
   ]
  },
  {
   "cell_type": "markdown",
   "metadata": {
    "id": "5eUpiXPVZeXy"
   },
   "source": [
    "## Basic Inheritance - Excercise 1"
   ]
  },
  {
   "cell_type": "code",
   "execution_count": 105,
   "metadata": {
    "id": "UQMIO0NPZgDR"
   },
   "outputs": [],
   "source": [
    "# create a Parent class `Mammal`\n",
    "\n",
    "class Mammal:\n",
    "  def __init__(self, name, size):\n",
    "    self.name = name\n",
    "    self.size = size\n",
    "\n",
    "  def speak(self):\n",
    "    print('Yo, I\"m ', self.name)\n",
    "\n",
    "  def call_out(self):\n",
    "    self.speak()\n",
    "    self.speak()"
   ]
  },
  {
   "cell_type": "code",
   "execution_count": 106,
   "metadata": {
    "id": "LL4g0tEpZ9lS"
   },
   "outputs": [],
   "source": [
    "# Create a child class `Dog`\n",
    "\n",
    "class Dog(Mammal):\n",
    "  def speak(self):\n",
    "    print('Woof! Woof!')"
   ]
  },
  {
   "cell_type": "code",
   "execution_count": 107,
   "metadata": {
    "id": "fs6GppXxaVBa"
   },
   "outputs": [],
   "source": [
    "# Create a child class `Cat`\n",
    "\n",
    "class Cat(Mammal):\n",
    "  def speak(self):\n",
    "    print('Meeooow!! I\"m ', self.name, '! Can you bark??')"
   ]
  },
  {
   "cell_type": "code",
   "execution_count": 108,
   "metadata": {
    "colab": {
     "base_uri": "https://localhost:8080/"
    },
    "id": "xNSR238DacYK",
    "outputId": "01b3850d-c907-4d0a-b0e1-8bc82c07af7a"
   },
   "outputs": [
    {
     "name": "stdout",
     "output_type": "stream",
     "text": [
      "Meeooow!! I\"m  Karen ! Can you bark??\n",
      "Meeooow!! I\"m  Karen ! Can you bark??\n",
      "Meeooow!! I\"m  Karen ! Can you bark??\n"
     ]
    }
   ],
   "source": [
    "# Make an instance\n",
    "\n",
    "my_cat = Cat('Karen', 20)\n",
    "\n",
    "my_cat.speak()\n",
    "my_cat.call_out()\n",
    "\n",
    "#print(my_cat.speak())\n",
    "#print(my_cat.call_out())"
   ]
  },
  {
   "cell_type": "markdown",
   "metadata": {
    "id": "OcJu6vCTf8oh"
   },
   "source": [
    "## `super()` function"
   ]
  },
  {
   "cell_type": "markdown",
   "metadata": {
    "id": "HKrPlFqygDAu"
   },
   "source": [
    "`super()` function: to call a method of a parent class"
   ]
  },
  {
   "cell_type": "code",
   "execution_count": 109,
   "metadata": {
    "colab": {
     "base_uri": "https://localhost:8080/"
    },
    "id": "M6K1u4hGgASR",
    "outputId": "4b73a37e-5f22-45e3-a4d7-83ca9e1215da"
   },
   "outputs": [
    {
     "name": "stdout",
     "output_type": "stream",
     "text": [
      "BigMeow\n",
      "150\n",
      "Black\n",
      "Yo, I\"m  BigMeow\n",
      "Meooow! BigMeow\n"
     ]
    }
   ],
   "source": [
    "# Create a class with 'super()' function\n",
    "\n",
    "class BigCat(Mammal):\n",
    "  def __init__(self, name, size, color):\n",
    "    super().__init__(name, size)    # call the __init__ from 'Mammal' parent class\n",
    "    self.color = color\n",
    "\n",
    "  def speak(self):\n",
    "    super().speak()\n",
    "    print('Meooow!', self.name)\n",
    "\n",
    "\n",
    "# Make an instance\n",
    "my_bigcat = BigCat('BigMeow', 150, 'Black')\n",
    "\n",
    "print(my_bigcat.name)\n",
    "print(my_bigcat.size)\n",
    "print(my_bigcat.color)\n",
    "\n",
    "my_bigcat.speak()"
   ]
  },
  {
   "cell_type": "markdown",
   "metadata": {
    "id": "ZsMAwcoNeW_Y"
   },
   "source": [
    "## Multiple Inheritance - Excercise 2 \n"
   ]
  },
  {
   "cell_type": "code",
   "execution_count": 110,
   "metadata": {
    "id": "ojTdDqWXefpB"
   },
   "outputs": [],
   "source": [
    "# Multiple Inheritance\n",
    "\n",
    "# class Class_Name (Upper_class1, Upper_class2):\n",
    "#    pass"
   ]
  },
  {
   "cell_type": "code",
   "execution_count": 111,
   "metadata": {
    "colab": {
     "base_uri": "https://localhost:8080/"
    },
    "id": "0kXLOsy7ebDQ",
    "outputId": "53fc2790-b4f7-4e68-9b00-f5cc651c81ea"
   },
   "outputs": [
    {
     "name": "stdout",
     "output_type": "stream",
     "text": [
      "Meeooow!! I\"m  Karen_Pet ! Can you bark??\n",
      " and I'm a cute  Karen_Pet\n"
     ]
    }
   ],
   "source": [
    "# Make a class with multiple inheritance\n",
    "\n",
    "# -----------------------------------------------------------------------------\n",
    "# class Pet(Mammal, Cat, BigCat):\n",
    "#   def __init__(self, name, size, color, characteristic):\n",
    "#    Mammal.__init__(self, name, size)\n",
    "#    Cat.__init__(self, name)\n",
    "#    BigCat.__init__(self, name, size, color)\n",
    "#    self.characteristic = characteristic\n",
    "\n",
    "# An error shows: 'Cannot create a consistent method resolution order (MRO) for bases Mammal, Cat, BigCat'\n",
    "\n",
    "# Reason: 'Cat' and 'BigCat' are inherited from 'Mammal' \n",
    "\n",
    "# Solution: Use a diamond inheritance pattern like below:\n",
    "#     Mammal\n",
    "#    /     \\\n",
    "#   /       \\\n",
    "# Cat       BigCat\n",
    "#   \\       /\n",
    "#    \\     /\n",
    "#     Pet\n",
    "\n",
    "# -----------------------------------------------------------------------------\n",
    "# Second try\n",
    "\n",
    "# class Pet(Cat, BigCat):\n",
    "#  def __init__(self, name, color, size, characteristic):\n",
    "#    Cat.__init__(self, name)\n",
    "#    BigCat.__init__(self, color)\n",
    "#    self.size = size\n",
    "#    self.characteristic = characteristic\n",
    "#    \n",
    "#  def speak(self):\n",
    "#    super().sleak()\n",
    "#    print(' and I\\'m a cute ', self.name)\n",
    "\n",
    "# An error shows: __init__() missing 1 required positional argument: 'size'\n",
    "\n",
    "# -----------------------------------------------------------------------------\n",
    "# Third try\n",
    "\n",
    "# class Pet(Cat, BigCat):\n",
    "#  def __init__(self, name, color, size, characteristic):\n",
    "#    super().__init__(name)\n",
    "#    super(BigCat, self).__init__(size)\n",
    "#    super(Cat, self).__init__(color)\n",
    "#    self.characteristic = characteristic\n",
    "#\n",
    "#  def speak(self):\n",
    "#    super().speak()\n",
    "#    print(' and I\\'m a cute ', self.name)\n",
    "\n",
    "# An error shows: __init__() missing 2 required positional arguments: 'size' and 'color'\n",
    "    \n",
    "# -----------------------------------------------------------------------------\n",
    "# 4th try\n",
    "\n",
    "\n",
    "class Pet(Cat, BigCat):\n",
    "  def __init__(self, name, size, color, characteristic):\n",
    "    Cat.__init__(self, name, size=size)  # Issue is here 'size = size'\n",
    "    BigCat.__init__(self, name=name, size=size, color=color)  # name = name\n",
    "    self.characteristic = characteristic\n",
    "\n",
    "  def speak(self):\n",
    "    super().speak()\n",
    "    print(' and I\\'m a cute ', self.name)\n",
    "\n",
    "\n",
    "\n",
    "mypet = Pet('Karen_Pet', 'White_Pet', 15, 'cute')\n",
    "\n",
    "mypet.speak()\n"
   ]
  },
  {
   "cell_type": "code",
   "execution_count": 111,
   "metadata": {
    "id": "US58VftJYc_-"
   },
   "outputs": [],
   "source": []
  },
  {
   "cell_type": "markdown",
   "metadata": {
    "id": "qzhebyxPYap6"
   },
   "source": [
    "# Excercise 1"
   ]
  },
  {
   "cell_type": "code",
   "execution_count": 112,
   "metadata": {
    "id": "lz0MFQpoLNow"
   },
   "outputs": [],
   "source": [
    "# 'self' Parameter\n",
    "\n",
    "class Person:       # Names of Class should be starting with Capital letter  e.g. Person, Print\n",
    "  Name = 'Default Name'\n",
    "\n",
    "  def Print(self):   # 'self': to represent the instance belongs to the class\n",
    "    print('My Name is {0}'.format(self.Name))"
   ]
  },
  {
   "cell_type": "code",
   "execution_count": 113,
   "metadata": {
    "id": "l4gX5dFbMFfB"
   },
   "outputs": [],
   "source": [
    "p1 = Person()"
   ]
  },
  {
   "cell_type": "code",
   "execution_count": 114,
   "metadata": {
    "colab": {
     "base_uri": "https://localhost:8080/"
    },
    "id": "uLcspYY3MhEk",
    "outputId": "55667f09-7a15-4cd2-99ba-1fbf7f04b8a3"
   },
   "outputs": [
    {
     "name": "stdout",
     "output_type": "stream",
     "text": [
      "My Name is Karen\n"
     ]
    }
   ],
   "source": [
    "p1.Name = 'Karen'\n",
    "p1.Print()"
   ]
  },
  {
   "cell_type": "code",
   "execution_count": 115,
   "metadata": {
    "id": "JcGzILQtM7Ct"
   },
   "outputs": [],
   "source": [
    "p1 = Person()\n",
    "p2 = Person()"
   ]
  },
  {
   "cell_type": "code",
   "execution_count": 116,
   "metadata": {
    "colab": {
     "base_uri": "https://localhost:8080/"
    },
    "id": "jBWQChBIM_nQ",
    "outputId": "d0f60709-d0cb-4125-f7a0-14f49feaa07b"
   },
   "outputs": [
    {
     "name": "stdout",
     "output_type": "stream",
     "text": [
      "My Name is Bell\n",
      "My Name is Christine\n"
     ]
    }
   ],
   "source": [
    "p1.Name = 'Bell'\n",
    "p2.Name = 'Christine'\n",
    "\n",
    "p1.Print()\n",
    "p2.Print()"
   ]
  },
  {
   "cell_type": "code",
   "execution_count": 117,
   "metadata": {
    "id": "ZVe7E2BuNw57"
   },
   "outputs": [],
   "source": [
    "Person.Title = 'New Title'   "
   ]
  },
  {
   "cell_type": "code",
   "execution_count": 118,
   "metadata": {
    "colab": {
     "base_uri": "https://localhost:8080/"
    },
    "id": "vfKnWrB1OCgm",
    "outputId": "26382ee0-d95f-4b6f-c8e1-71913fb903fa"
   },
   "outputs": [
    {
     "name": "stdout",
     "output_type": "stream",
     "text": [
      "New Title\n",
      "New Title\n"
     ]
    }
   ],
   "source": [
    "print(p1.Title)\n",
    "print(p2.Title)"
   ]
  },
  {
   "cell_type": "code",
   "execution_count": 119,
   "metadata": {
    "id": "6XrpXhsFOXMi"
   },
   "outputs": [],
   "source": [
    "p1.Age = 30  "
   ]
  },
  {
   "cell_type": "code",
   "execution_count": 120,
   "metadata": {
    "colab": {
     "base_uri": "https://localhost:8080/"
    },
    "id": "ZbhDJEG9Ojza",
    "outputId": "e6e165da-52b0-40c8-89dd-801385755d25"
   },
   "outputs": [
    {
     "name": "stdout",
     "output_type": "stream",
     "text": [
      "30\n"
     ]
    }
   ],
   "source": [
    "print(p1.Age)"
   ]
  },
  {
   "cell_type": "markdown",
   "metadata": {
    "id": "Z_iD3CZ5kQFd"
   },
   "source": [
    "# Excercise 2: Inheritance "
   ]
  },
  {
   "cell_type": "code",
   "execution_count": 121,
   "metadata": {
    "id": "HsK8fm-nPGRj"
   },
   "outputs": [],
   "source": [
    "# Create a Parent Class\n",
    "class Person: \n",
    "  pass"
   ]
  },
  {
   "cell_type": "code",
   "execution_count": 122,
   "metadata": {
    "id": "GR8J6IyDPRD8"
   },
   "outputs": [],
   "source": [
    "# Create a Child Class\n",
    "class Student(Person):   # 'Student' class is created as a child class inherited from the parent 'Person'\n",
    "  pass"
   ]
  },
  {
   "cell_type": "code",
   "execution_count": 123,
   "metadata": {
    "id": "EDXlJuLDPlnF"
   },
   "outputs": [],
   "source": [
    "class Bird:\n",
    "  pass"
   ]
  },
  {
   "cell_type": "code",
   "execution_count": 124,
   "metadata": {
    "id": "sbuiWXXSQSCl"
   },
   "outputs": [],
   "source": [
    "p = Person() \n",
    "s = Student()"
   ]
  },
  {
   "cell_type": "code",
   "execution_count": 125,
   "metadata": {
    "colab": {
     "base_uri": "https://localhost:8080/"
    },
    "id": "3kq7g1t-QXl9",
    "outputId": "23b21130-4658-4c94-d099-5fe88af15ad7"
   },
   "outputs": [
    {
     "name": "stdout",
     "output_type": "stream",
     "text": [
      "True\n",
      "True\n",
      "True\n",
      "True\n"
     ]
    }
   ],
   "source": [
    "# Check a relationship between instances\n",
    "\n",
    "print(isinstance(p, Person))  # Check whether 'p' is inherited from 'Perspn\n",
    "print(isinstance(s, Person))\n",
    "print(isinstance(s, object))  # 'object' is the Parent class for all classes in Python\n",
    "print(isinstance(int, object))"
   ]
  },
  {
   "cell_type": "markdown",
   "metadata": {
    "id": "BSw-OWI2lZVY"
   },
   "source": [
    "# Excercise 3: 'Static' Method"
   ]
  },
  {
   "cell_type": "code",
   "execution_count": 126,
   "metadata": {
    "id": "KF1qC6HDYhqM"
   },
   "outputs": [],
   "source": [
    "class CounterManager:\n",
    "  InsCount = 0\n",
    "\n",
    "  def __init__(self):\n",
    "    CounterManager.InsCount += 1\n",
    "  def PrintInstanceCount():  \n",
    "    print('Instance Count:', CounterManager.InsCount)\n",
    "\n",
    "  StaticCount = staticmethod(PrintInstanceCount)"
   ]
  },
  {
   "cell_type": "code",
   "execution_count": 127,
   "metadata": {
    "id": "K9hvrM2sZYI9"
   },
   "outputs": [],
   "source": [
    "a = CounterManager()\n",
    "b = CounterManager()\n",
    "c = CounterManager()"
   ]
  },
  {
   "cell_type": "code",
   "execution_count": 128,
   "metadata": {
    "colab": {
     "base_uri": "https://localhost:8080/"
    },
    "id": "fFyWuelSZbdo",
    "outputId": "c5a9c8df-086c-4a9b-b9bc-d7ed6a78917a"
   },
   "outputs": [
    {
     "name": "stdout",
     "output_type": "stream",
     "text": [
      "Instance Count: 3\n"
     ]
    }
   ],
   "source": [
    "CounterManager.PrintInstanceCount() # Be not allowed to use 'Class' directly"
   ]
  },
  {
   "cell_type": "code",
   "execution_count": 129,
   "metadata": {
    "colab": {
     "base_uri": "https://localhost:8080/"
    },
    "id": "5jJFA_F8ZwjP",
    "outputId": "9f2f6132-95bd-43c9-9b64-da28ccfb47a0"
   },
   "outputs": [
    {
     "name": "stdout",
     "output_type": "stream",
     "text": [
      "Instance Count: 4\n"
     ]
    }
   ],
   "source": [
    "p = CounterManager()\n",
    "#p.PrintInstanceCount()\n",
    "p.StaticCount()"
   ]
  },
  {
   "cell_type": "markdown",
   "metadata": {
    "id": "dJOtLSEa4Sf7"
   },
   "source": [
    "# Excercise 4"
   ]
  },
  {
   "cell_type": "code",
   "execution_count": 130,
   "metadata": {
    "id": "exbFFsnXbnyp"
   },
   "outputs": [],
   "source": [
    "# Create a Parent class PERSON\n",
    "class Person:\n",
    "\n",
    "  def __init__(self, name, phone): # set default values\n",
    "    self.Name = name\n",
    "    self.Phone = phone\n",
    "\n",
    "  def PrintInfo(self):\n",
    "    print('Info(Name: {0}, Phon: {1}'.format(self.Name, self.Phone))\n",
    "\n",
    "  def PrintPersonData(self):\n",
    "    print('Person(Name: {0}, Phone: {1}'.format(self.Name, self.Phone))"
   ]
  },
  {
   "cell_type": "code",
   "execution_count": 131,
   "metadata": {
    "id": "K5cgADDacZf6"
   },
   "outputs": [],
   "source": [
    "class Student(Person): \n",
    "  def __init__(self, name, phone, subject, studentID):\n",
    "    self.Name = name\n",
    "    self.Phone = phone\n",
    "    self.Subject = subject\n",
    "    self.StudentID = studentID"
   ]
  },
  {
   "cell_type": "code",
   "execution_count": 132,
   "metadata": {
    "id": "k-WtitZeckug"
   },
   "outputs": [],
   "source": [
    "p = Person('Karen', '010-3234-3234')\n",
    "s = Student('Bell', '010-3234-3234', 'Math', '5443234')"
   ]
  },
  {
   "cell_type": "code",
   "execution_count": 133,
   "metadata": {
    "colab": {
     "base_uri": "https://localhost:8080/"
    },
    "id": "xOVHR51XdNoo",
    "outputId": "489fc181-a3e8-4134-c061-098ac2d1d367"
   },
   "outputs": [
    {
     "name": "stdout",
     "output_type": "stream",
     "text": [
      "Person:  {'Name': 'Karen', 'Phone': '010-3234-3234'}\n",
      "Student:  {'Name': 'Bell', 'Phone': '010-3234-3234', 'Subject': 'Math', 'StudentID': '5443234'}\n"
     ]
    }
   ],
   "source": [
    "# __dict__ \n",
    "print('Person: ', p.__dict__)   # Show contents in the class as a 'dictionary' type\n",
    "print('Student: ', s.__dict__)"
   ]
  },
  {
   "cell_type": "code",
   "execution_count": 134,
   "metadata": {
    "colab": {
     "base_uri": "https://localhost:8080/"
    },
    "id": "J1vVlZGTedeY",
    "outputId": "75ce899b-2f74-4ac1-9466-81dc86d28437"
   },
   "outputs": [
    {
     "name": "stdout",
     "output_type": "stream",
     "text": [
      "Info(Name: Bell, Phon: 010-3234-3234\n"
     ]
    }
   ],
   "source": [
    "s.PrintInfo()"
   ]
  },
  {
   "cell_type": "code",
   "execution_count": 135,
   "metadata": {
    "colab": {
     "base_uri": "https://localhost:8080/"
    },
    "id": "qrEIe1mUekYg",
    "outputId": "2164ef6b-9a89-43de-ee97-3df3ba343daf"
   },
   "outputs": [
    {
     "name": "stdout",
     "output_type": "stream",
     "text": [
      "True\n",
      "False\n"
     ]
    }
   ],
   "source": [
    "# Check relationships\n",
    "\n",
    "print(issubclass(Student, Person))  # issubclass(target_subclass, parent_parentclass)\n",
    "print(issubclass(Person, Student))"
   ]
  },
  {
   "cell_type": "code",
   "execution_count": 136,
   "metadata": {
    "id": "h7HDzqeqe9l0"
   },
   "outputs": [],
   "source": [
    "# A child class Student\n",
    "\n",
    "class Student(Person): \n",
    "  def __init__(self, name, phone, subject, studentID):\n",
    "    self.Name = name\n",
    "    self.Phone = phone\n",
    "    self.Subject = subject\n",
    "    self.StudentID = studentID\n",
    "\n",
    "    Person.__init__(self, name, phone)\n",
    "\n",
    "  def PrintStudentData(self):\n",
    "    print('Student (Name: {0}, Student ID: {1})'.format(self.Name, self.StudentID))\n",
    "\n",
    "  def PrintPersonData(self):\n",
    "    # return super().PrintPersonData()   \n",
    "    print('{0} is majoring in {1}.'.format(self.Name, self.Subject))  # Over Write\n",
    "\n",
    "  "
   ]
  },
  {
   "cell_type": "code",
   "execution_count": 137,
   "metadata": {
    "colab": {
     "base_uri": "https://localhost:8080/"
    },
    "id": "9jTtin42ff0F",
    "outputId": "4e8ea5d7-4867-4c24-85e5-acdac6a07879"
   },
   "outputs": [
    {
     "name": "stdout",
     "output_type": "stream",
     "text": [
      "Student (Name: Karen, Student ID: 5664323)\n",
      "Karen is majoring in Math.\n"
     ]
    }
   ],
   "source": [
    "s = Student('Karen', '010-3234-2342', 'Math', '5664323')\n",
    "\n",
    "#print(s.PrintStudentData())  # the result will show 'None' \n",
    "#print(s.PrintPersonData())\n",
    "\n",
    "s.PrintStudentData()\n",
    "s.PrintPersonData()"
   ]
  },
  {
   "cell_type": "markdown",
   "metadata": {
    "id": "VlK63d5ysgCL"
   },
   "source": [
    "# Excercise 5: Multiple Inheritance"
   ]
  },
  {
   "cell_type": "code",
   "execution_count": 138,
   "metadata": {
    "id": "h0rmS1RcyrjU"
   },
   "outputs": [],
   "source": [
    "class Tiger:\n",
    "  def Jump(self):\n",
    "    print('Tiger!')"
   ]
  },
  {
   "cell_type": "code",
   "execution_count": 139,
   "metadata": {
    "id": "WViItlhdzVDX"
   },
   "outputs": [],
   "source": [
    "class Lion:\n",
    "  def Bite(self):\n",
    "    print('Lion!!')"
   ]
  },
  {
   "cell_type": "code",
   "execution_count": 140,
   "metadata": {
    "id": "CQa5CtStzcaz"
   },
   "outputs": [],
   "source": [
    "class Cat(Tiger, Lion): \n",
    "  def Play(self):\n",
    "    print('MEOW!')"
   ]
  },
  {
   "cell_type": "code",
   "execution_count": 141,
   "metadata": {
    "colab": {
     "base_uri": "https://localhost:8080/"
    },
    "id": "BxmA-Ur0z4P0",
    "outputId": "982a4310-72e1-4ea6-add8-99e9578ad86e"
   },
   "outputs": [
    {
     "name": "stdout",
     "output_type": "stream",
     "text": [
      "Tiger!\n",
      "Lion!!\n",
      "MEOW!\n"
     ]
    }
   ],
   "source": [
    "l = Cat()\n",
    "\n",
    "l.Jump()\n",
    "l.Bite()\n",
    "l.Play()\n"
   ]
  }
 ],
 "metadata": {
  "colab": {
   "provenance": []
  },
  "kernelspec": {
   "display_name": "Python 3 (ipykernel)",
   "language": "python",
   "name": "python3"
  },
  "language_info": {
   "codemirror_mode": {
    "name": "ipython",
    "version": 3
   },
   "file_extension": ".py",
   "mimetype": "text/x-python",
   "name": "python",
   "nbconvert_exporter": "python",
   "pygments_lexer": "ipython3",
   "version": "3.10.9"
  }
 },
 "nbformat": 4,
 "nbformat_minor": 1
}
