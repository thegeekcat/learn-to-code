{
  "nbformat": 4,
  "nbformat_minor": 0,
  "metadata": {
    "colab": {
      "provenance": []
    },
    "kernelspec": {
      "name": "python3",
      "display_name": "Python 3"
    },
    "language_info": {
      "name": "python"
    }
  },
  "cells": [
    {
      "cell_type": "markdown",
      "source": [
        "# Text Type 1"
      ],
      "metadata": {
        "id": "zF_kEwx__e0_"
      }
    },
    {
      "cell_type": "code",
      "execution_count": null,
      "metadata": {
        "colab": {
          "base_uri": "https://localhost:8080/"
        },
        "id": "DwGJXVhzE3q_",
        "outputId": "4df452d6-41a5-409c-9bb3-e0be6a34cf1a"
      },
      "outputs": [
        {
          "output_type": "stream",
          "name": "stdout",
          "text": [
            "Hello World!\n"
          ]
        }
      ],
      "source": [
        "print ('Hello World!')"
      ]
    },
    {
      "cell_type": "code",
      "source": [
        "# Rules of Variable\n",
        "a = 1\n",
        "b = 2\n",
        "\n",
        "# 2a = 3 (X) -> Variables need to start with letters\n",
        "student_count = 101\n",
        "print(a * b, student_count)"
      ],
      "metadata": {
        "colab": {
          "base_uri": "https://localhost:8080/"
        },
        "id": "X3Fvl1HjJZXi",
        "outputId": "5cfbb472-94c0-4e3e-da26-1f19a6de999a"
      },
      "execution_count": null,
      "outputs": [
        {
          "output_type": "stream",
          "name": "stdout",
          "text": [
            "2 101\n"
          ]
        }
      ]
    },
    {
      "cell_type": "code",
      "source": [
        "friend = 1\n",
        "Friend = 10\n",
        "\n",
        "print (\"friend: \", friend)\n",
        "print (\"Friend: \", Friend)\n"
      ],
      "metadata": {
        "colab": {
          "base_uri": "https://localhost:8080/"
        },
        "id": "g6ydEUzxP1rv",
        "outputId": "79e08580-ddcf-4460-b0b8-53e4cbeaa135"
      },
      "execution_count": null,
      "outputs": [
        {
          "output_type": "stream",
          "name": "stdout",
          "text": [
            "friend:  1\n",
            "Friend:  10\n"
          ]
        }
      ]
    },
    {
      "cell_type": "markdown",
      "source": [
        "# Numeric Types"
      ],
      "metadata": {
        "id": "y9EXVLRkAT_S"
      }
    },
    {
      "cell_type": "code",
      "source": [
        "year = 2023\n",
        "month = 4\n",
        "\n",
        "print(year, month)\n",
        "\n",
        "year = 'Test'\n",
        "\n",
        "print(year)\n",
        "\n",
        "print(type(year))"
      ],
      "metadata": {
        "colab": {
          "base_uri": "https://localhost:8080/"
        },
        "id": "mCZjvp2lRHpe",
        "outputId": "a49e52f3-d7f8-4703-c60e-28f1ee431283"
      },
      "execution_count": null,
      "outputs": [
        {
          "output_type": "stream",
          "name": "stdout",
          "text": [
            "2023 4\n",
            "Test\n",
            "<class 'str'>\n"
          ]
        }
      ]
    },
    {
      "cell_type": "markdown",
      "source": [
        "## Number Systems"
      ],
      "metadata": {
        "id": "rQP-lT6HA2wS"
      }
    },
    {
      "cell_type": "code",
      "source": [
        "# Octal: 0o + int\n",
        "\n",
        "print(0o10)\n",
        "\n",
        "# Binary: 0b + int\n",
        "print (0b10)\n",
        "\n",
        "# Hexadecimal: 0x + int\n",
        "print(0x10)"
      ],
      "metadata": {
        "colab": {
          "base_uri": "https://localhost:8080/"
        },
        "id": "vYRFKurVRXEn",
        "outputId": "7cf17b51-f7dd-4b8d-8c74-3120e66da6fa"
      },
      "execution_count": null,
      "outputs": [
        {
          "output_type": "stream",
          "name": "stdout",
          "text": [
            "8\n",
            "2\n",
            "16\n"
          ]
        }
      ]
    },
    {
      "cell_type": "code",
      "source": [
        "# Ways to convert decimal numbers (Result is a str type)\n",
        "\n",
        "\n",
        "print (oct(38)) # Convert decimal 38 to octal\n",
        "print (hex(38)) # Convert decimal 38 to Hexadecimal\n",
        "print (bin(38)) # Convert decimal 38 to Binary"
      ],
      "metadata": {
        "colab": {
          "base_uri": "https://localhost:8080/"
        },
        "id": "eb342MqtToUF",
        "outputId": "19196335-63ba-4ed0-9d09-20d6cd067cdd"
      },
      "execution_count": null,
      "outputs": [
        {
          "output_type": "stream",
          "name": "stdout",
          "text": [
            "0o46\n",
            "0x26\n",
            "0b100110\n"
          ]
        }
      ]
    },
    {
      "cell_type": "markdown",
      "source": [
        "## Int "
      ],
      "metadata": {
        "id": "laXgeaf8B_QL"
      }
    },
    {
      "cell_type": "code",
      "source": [
        "print (type(1)) # int\n",
        "print (type(2**31)) # 2^31 is int (no more long type from Python v3.0)"
      ],
      "metadata": {
        "colab": {
          "base_uri": "https://localhost:8080/"
        },
        "id": "Xm2bk_BLUYC5",
        "outputId": "679de79e-45c0-4b1c-e7f8-fdb194bb413e"
      },
      "execution_count": null,
      "outputs": [
        {
          "output_type": "stream",
          "name": "stdout",
          "text": [
            "<class 'int'>\n",
            "<class 'int'>\n"
          ]
        }
      ]
    },
    {
      "cell_type": "markdown",
      "source": [
        "## Float "
      ],
      "metadata": {
        "id": "FxRaOB9YCuLa"
      }
    },
    {
      "cell_type": "code",
      "source": [
        "print(type(3.14))\n",
        "print(type(3.14e-2))\n",
        "print(type(3 - 4j)) # Complex number\n",
        "\n",
        "x = 3 - 4j\n",
        "print(x.imag) # imag is imaginary part\n",
        "print(x.real) # real is real part\n",
        "print(x.conjugate()) #conjugate is conjugate complex number"
      ],
      "metadata": {
        "colab": {
          "base_uri": "https://localhost:8080/"
        },
        "id": "KdIrY_LxVaMF",
        "outputId": "3d908fd3-e40c-4c7a-ec61-f5ea5417329f"
      },
      "execution_count": null,
      "outputs": [
        {
          "output_type": "stream",
          "name": "stdout",
          "text": [
            "<class 'float'>\n",
            "<class 'float'>\n",
            "<class 'complex'>\n",
            "-4.0\n",
            "3.0\n",
            "(3+4j)\n"
          ]
        }
      ]
    },
    {
      "cell_type": "code",
      "source": [
        "# Practice: Find the area of the circle and the area of the triangle\n",
        "\n",
        "r = 2\n",
        "\n",
        "circle_area = (r ** 2) * 3.14\n",
        "print(circle_area)\n",
        "\n",
        "x = 3\n",
        "y = 4\n",
        "triangle_area = x * y / 2\n",
        "print(triangle_area)"
      ],
      "metadata": {
        "colab": {
          "base_uri": "https://localhost:8080/"
        },
        "id": "TcMSBpdVVfML",
        "outputId": "a2ecdd1c-3a19-45f2-8246-a335b6ece3aa"
      },
      "execution_count": null,
      "outputs": [
        {
          "output_type": "stream",
          "name": "stdout",
          "text": [
            "12.56\n",
            "6.0\n"
          ]
        }
      ]
    },
    {
      "cell_type": "markdown",
      "source": [
        "## Text Type 2"
      ],
      "metadata": {
        "id": "S92ab3pvDcgT"
      }
    },
    {
      "cell_type": "code",
      "source": [
        "print('Hello World!')\n",
        "print(\"Hello World!\")\n",
        "print(\"Welcome to 'Python World'\")\n",
        "print('''\n",
        "      Do What You Love\n",
        "''')"
      ],
      "metadata": {
        "colab": {
          "base_uri": "https://localhost:8080/"
        },
        "id": "jJZycNYqpqI5",
        "outputId": "0b2f13fb-7063-4452-bd48-c09fecc3e7a7"
      },
      "execution_count": null,
      "outputs": [
        {
          "output_type": "stream",
          "name": "stdout",
          "text": [
            "Hello World!\n",
            "Hello World!\n",
            "Welcome to 'Python World'\n",
            "\n",
            "      Do What You Love\n",
            "\n"
          ]
        }
      ]
    },
    {
      "cell_type": "code",
      "source": [
        "print('\\t Tab \\n Next Line')"
      ],
      "metadata": {
        "colab": {
          "base_uri": "https://localhost:8080/"
        },
        "id": "rhoyYyyqqCHr",
        "outputId": "fcd5e575-79f3-4e62-9611-6d66c7432fcf"
      },
      "execution_count": null,
      "outputs": [
        {
          "output_type": "stream",
          "name": "stdout",
          "text": [
            "\t Tab \n",
            " Next Line\n"
          ]
        }
      ]
    },
    {
      "cell_type": "code",
      "source": [
        "print('py' 'thon')\n",
        "print('py' + 'thon') \n",
        "print('py', 'thon')"
      ],
      "metadata": {
        "colab": {
          "base_uri": "https://localhost:8080/"
        },
        "id": "8r52j3aLqWft",
        "outputId": "f8b54af6-df41-47f2-db21-7117237d2acb"
      },
      "execution_count": null,
      "outputs": [
        {
          "output_type": "stream",
          "name": "stdout",
          "text": [
            "python\n",
            "python\n",
            "py thon\n"
          ]
        }
      ]
    },
    {
      "cell_type": "code",
      "source": [
        "print('py' * 3)"
      ],
      "metadata": {
        "colab": {
          "base_uri": "https://localhost:8080/"
        },
        "id": "mWUEp29Kq2cH",
        "outputId": "820593ca-5ec6-49df-ce9e-c7c4678fb671"
      },
      "execution_count": null,
      "outputs": [
        {
          "output_type": "stream",
          "name": "stdout",
          "text": [
            "pypypy\n"
          ]
        }
      ]
    },
    {
      "cell_type": "code",
      "source": [
        "a = 'Python'\n",
        "\n",
        "print(a[0])\n",
        "print(a[0+1])\n",
        "print(a[0+2])"
      ],
      "metadata": {
        "colab": {
          "base_uri": "https://localhost:8080/"
        },
        "id": "OWcMvQ2Gr_As",
        "outputId": "faf7c80a-7bb6-40c2-fe2f-579e6a1ad716"
      },
      "execution_count": null,
      "outputs": [
        {
          "output_type": "stream",
          "name": "stdout",
          "text": [
            "P\n",
            "y\n",
            "t\n"
          ]
        }
      ]
    },
    {
      "cell_type": "code",
      "source": [
        "a[0] = 'A' # Index is 'real-only' so it's unmodifiable"
      ],
      "metadata": {
        "colab": {
          "base_uri": "https://localhost:8080/",
          "height": 165
        },
        "id": "xZdwRMXssCEI",
        "outputId": "c19731d7-890d-4042-e234-63f8985c8df7"
      },
      "execution_count": null,
      "outputs": [
        {
          "output_type": "error",
          "ename": "TypeError",
          "evalue": "ignored",
          "traceback": [
            "\u001b[0;31m---------------------------------------------------------------------------\u001b[0m",
            "\u001b[0;31mTypeError\u001b[0m                                 Traceback (most recent call last)",
            "\u001b[0;32m<ipython-input-71-edede21216ea>\u001b[0m in \u001b[0;36m<cell line: 1>\u001b[0;34m()\u001b[0m\n\u001b[0;32m----> 1\u001b[0;31m \u001b[0ma\u001b[0m\u001b[0;34m[\u001b[0m\u001b[0;36m0\u001b[0m\u001b[0;34m]\u001b[0m \u001b[0;34m=\u001b[0m \u001b[0;34m'A'\u001b[0m \u001b[0;31m# Index는 real-only속성이라 수정은 불가능함\u001b[0m\u001b[0;34m\u001b[0m\u001b[0;34m\u001b[0m\u001b[0m\n\u001b[0m",
            "\u001b[0;31mTypeError\u001b[0m: 'str' object does not support item assignment"
          ]
        }
      ]
    },
    {
      "cell_type": "code",
      "source": [
        "# Set a range using index\n",
        "print(a[0:1])\n",
        "print(a[0:2])\n",
        "\n",
        "print(a[:3]) # ommittable\n",
        "print(a[3:]) \n",
        "\n",
        "# P y t h o n\n",
        "# 0 1 2 3 4 5\n",
        "\n",
        "print(a[-3:]) # Only the three digits at the end  e.g. for Product no\n",
        "print(a[:-3]) # Only the three digits at the beginning\n",
        "\n",
        "print(a[::2]) # increasing by 2"
      ],
      "metadata": {
        "colab": {
          "base_uri": "https://localhost:8080/"
        },
        "id": "3F-YBoYasUQ4",
        "outputId": "80247268-6743-4d8b-efe1-813a96ab8b4e"
      },
      "execution_count": null,
      "outputs": [
        {
          "output_type": "stream",
          "name": "stdout",
          "text": [
            "P\n",
            "Py\n",
            "Pyt\n",
            "hon\n",
            "hon\n",
            "Pyt\n",
            "Pto\n"
          ]
        }
      ]
    },
    {
      "cell_type": "markdown",
      "source": [
        "# Data Type Conversion"
      ],
      "metadata": {
        "id": "E66kDEnPErmV"
      }
    },
    {
      "cell_type": "code",
      "source": [
        "print(str(3.14)) # Convert to String\n",
        "print(int('49')) # Convert to Int\n",
        "print(float(23)) # Convert to Float"
      ],
      "metadata": {
        "colab": {
          "base_uri": "https://localhost:8080/"
        },
        "id": "7l2x17H1uKSB",
        "outputId": "2816fa10-7e83-4e6b-b365-74d659f0ce80"
      },
      "execution_count": null,
      "outputs": [
        {
          "output_type": "stream",
          "name": "stdout",
          "text": [
            "3.14\n",
            "49\n",
            "23.0\n"
          ]
        }
      ]
    }
  ]
}