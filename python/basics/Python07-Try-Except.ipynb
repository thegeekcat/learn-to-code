{
 "cells": [
  {
   "cell_type": "markdown",
   "metadata": {
    "id": "IbYo2iFGxz0R"
   },
   "source": [
    "- Try.. Except\n",
    " - `try`: Test a block of codes for errors\n",
    " - `except`: Manage the errors\n",
    " - `else`: Excute codes when there's no error\n",
    " - `finally`: Excute codes regardless of the result of 'try' and 'except'"
   ]
  },
  {
   "cell_type": "code",
   "execution_count": 7,
   "metadata": {
    "id": "URhDPascIYIi"
   },
   "outputs": [],
   "source": [
    "def divide(a, b):\n",
    "  return a / b"
   ]
  },
  {
   "cell_type": "code",
   "execution_count": 8,
   "metadata": {
    "colab": {
     "base_uri": "https://localhost:8080/"
    },
    "id": "FuHSVEmOIKrl",
    "outputId": "b4d5749f-5a40-49fd-a464-a9d5a457e63a"
   },
   "outputs": [
    {
     "name": "stdout",
     "output_type": "stream",
     "text": [
      "Exception is occured!\n"
     ]
    }
   ],
   "source": [
    "try:\n",
    "  c = divide(5, 0)\n",
    "except:\n",
    "  print('Exception is occured!')"
   ]
  },
  {
   "cell_type": "code",
   "execution_count": 9,
   "metadata": {
    "colab": {
     "base_uri": "https://localhost:8080/"
    },
    "id": "PtC-8pK0InjZ",
    "outputId": "5f496c14-7ac9-4709-8ad5-f9fe18077427"
   },
   "outputs": [
    {
     "name": "stdout",
     "output_type": "stream",
     "text": [
      "A type of all values must be Number\n",
      "GG\n"
     ]
    }
   ],
   "source": [
    "try: \n",
    "  c = divide('a', 0)\n",
    "except ZeroDivisionError:\n",
    "  print('The second value shouldn\\'t be \\'0\\'')\n",
    "except TypeError:\n",
    "  print('A type of all values must be Number')\n",
    "except:\n",
    "  print('No idea')\n",
    "finally:\n",
    "  print('GG')"
   ]
  }
 ],
 "metadata": {
  "colab": {
   "provenance": []
  },
  "kernelspec": {
   "display_name": "Python 3 (ipykernel)",
   "language": "python",
   "name": "python3"
  },
  "language_info": {
   "codemirror_mode": {
    "name": "ipython",
    "version": 3
   },
   "file_extension": ".py",
   "mimetype": "text/x-python",
   "name": "python",
   "nbconvert_exporter": "python",
   "pygments_lexer": "ipython3",
   "version": "3.10.9"
  }
 },
 "nbformat": 4,
 "nbformat_minor": 1
}
