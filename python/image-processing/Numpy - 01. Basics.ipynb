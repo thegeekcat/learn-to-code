{
 "cells": [
  {
   "cell_type": "markdown",
   "id": "2388bb35",
   "metadata": {},
   "source": [
    "# 1. Save and Load"
   ]
  },
  {
   "cell_type": "markdown",
   "id": "db5a35e5",
   "metadata": {},
   "source": [
    "## 1.1. Single Object: *.npy"
   ]
  },
  {
   "cell_type": "code",
   "execution_count": 1,
   "id": "cdaa2ea1",
   "metadata": {},
   "outputs": [],
   "source": [
    "# Import modules\n",
    "import numpy as np\n",
    "import os"
   ]
  },
  {
   "cell_type": "code",
   "execution_count": 2,
   "id": "36e90236",
   "metadata": {},
   "outputs": [
    {
     "data": {
      "text/plain": [
       "array([1, 2, 3, 4, 5, 6, 7, 8, 9])"
      ]
     },
     "execution_count": 2,
     "metadata": {},
     "output_type": "execute_result"
    }
   ],
   "source": [
    "# Generate a single object\n",
    "array = np.arange(1, 10)\n",
    "array"
   ]
  },
  {
   "cell_type": "code",
   "execution_count": 7,
   "id": "dae36db6",
   "metadata": {},
   "outputs": [],
   "source": [
    "# Save as numpy\n",
    "os.makedirs('./data', exist_ok=True)\n",
    "np.save('./data/save_single_object.npy', array)"
   ]
  },
  {
   "cell_type": "code",
   "execution_count": 8,
   "id": "c2e8629c",
   "metadata": {},
   "outputs": [
    {
     "data": {
      "text/plain": [
       "array([1, 2, 3, 4, 5, 6, 7, 8, 9])"
      ]
     },
     "execution_count": 8,
     "metadata": {},
     "output_type": "execute_result"
    }
   ],
   "source": [
    "# Load a numpy file\n",
    "result = np.load('./data/save_single_object.npy')\n",
    "\n",
    "result"
   ]
  },
  {
   "cell_type": "markdown",
   "id": "f169740c",
   "metadata": {},
   "source": [
    "## 1.2. Multiple Objects: *.npz"
   ]
  },
  {
   "cell_type": "code",
   "execution_count": 5,
   "id": "b27e2678",
   "metadata": {},
   "outputs": [],
   "source": [
    "# Import modules\n",
    "import numpy as np"
   ]
  },
  {
   "cell_type": "code",
   "execution_count": 9,
   "id": "f03dac84",
   "metadata": {},
   "outputs": [
    {
     "data": {
      "text/plain": [
       "(array([0, 1, 2, 3, 4, 5, 6, 7, 8, 9]),\n",
       " array([10, 11, 12, 13, 14, 15, 16, 17, 18, 19]))"
      ]
     },
     "execution_count": 9,
     "metadata": {},
     "output_type": "execute_result"
    }
   ],
   "source": [
    "# Generate arrays\n",
    "array1 = np.arange(0, 10)\n",
    "array2 = np.arange(10, 20)\n",
    "\n",
    "array1, array2"
   ]
  },
  {
   "cell_type": "code",
   "execution_count": 14,
   "id": "c9694408",
   "metadata": {},
   "outputs": [],
   "source": [
    "# Save as numpy\n",
    "os.makedirs('./data', exist_ok=True)\n",
    "np.savez('./data/save_multiple_objects.npz', array1=array1, array2 = array2)"
   ]
  },
  {
   "cell_type": "code",
   "execution_count": 15,
   "id": "ab4d651f",
   "metadata": {},
   "outputs": [
    {
     "data": {
      "text/plain": [
       "<numpy.lib.npyio.NpzFile at 0x193cc2e44f0>"
      ]
     },
     "execution_count": 15,
     "metadata": {},
     "output_type": "execute_result"
    }
   ],
   "source": [
    "# Load numpy files\n",
    "data = np.load('./data/save_multiple_objects.npz')\n",
    "\n",
    "data"
   ]
  },
  {
   "cell_type": "code",
   "execution_count": 16,
   "id": "1aff4aba",
   "metadata": {},
   "outputs": [
    {
     "data": {
      "text/plain": [
       "(array([0, 1, 2, 3, 4, 5, 6, 7, 8, 9]),\n",
       " array([10, 11, 12, 13, 14, 15, 16, 17, 18, 19]))"
      ]
     },
     "execution_count": 16,
     "metadata": {},
     "output_type": "execute_result"
    }
   ],
   "source": [
    "# Load data\n",
    "result1 = data['array1']\n",
    "result2 = data['array2']\n",
    "\n",
    "result1, result2"
   ]
  },
  {
   "cell_type": "markdown",
   "id": "fef29d23",
   "metadata": {},
   "source": [
    "# 2. Sorting"
   ]
  },
  {
   "cell_type": "markdown",
   "id": "2156ebdf",
   "metadata": {},
   "source": [
    "## 2.1. Ascending/Descending Order"
   ]
  },
  {
   "cell_type": "code",
   "execution_count": 17,
   "id": "1ad273fc",
   "metadata": {},
   "outputs": [],
   "source": [
    "# Import modules\n",
    "import numpy as np"
   ]
  },
  {
   "cell_type": "code",
   "execution_count": 24,
   "id": "af0ea120",
   "metadata": {},
   "outputs": [
    {
     "data": {
      "text/plain": [
       "array([ 5, 10,  3, 40, 31])"
      ]
     },
     "execution_count": 24,
     "metadata": {},
     "output_type": "execute_result"
    }
   ],
   "source": [
    "# Generate data\n",
    "array = np.array([5, 10, 3, 40, 31])\n",
    "\n",
    "array"
   ]
  },
  {
   "cell_type": "code",
   "execution_count": 25,
   "id": "066c4220",
   "metadata": {},
   "outputs": [
    {
     "data": {
      "text/plain": [
       "array([ 3,  5, 10, 31, 40])"
      ]
     },
     "execution_count": 25,
     "metadata": {},
     "output_type": "execute_result"
    }
   ],
   "source": [
    "# Ascending Order\n",
    "array.sort() # Default: Ascending order\n",
    "\n",
    "array"
   ]
  },
  {
   "cell_type": "code",
   "execution_count": 26,
   "id": "92154723",
   "metadata": {},
   "outputs": [
    {
     "name": "stdout",
     "output_type": "stream",
     "text": [
      "[40 31 10  5  3]\n"
     ]
    }
   ],
   "source": [
    "# Descending Order\n",
    "print(array[::-1])"
   ]
  },
  {
   "cell_type": "markdown",
   "id": "682aa17b",
   "metadata": {},
   "source": [
    "## 2.2. Sort by Columns and Rows"
   ]
  },
  {
   "cell_type": "code",
   "execution_count": 31,
   "id": "b4babbd5",
   "metadata": {},
   "outputs": [
    {
     "data": {
      "text/plain": [
       "(array([[ 5, 10,  8, 20, 42, 31],\n",
       "        [52, 15, 92, 18, 23, 62]]),\n",
       " array([[ 5, 10,  8, 20, 42, 31],\n",
       "        [52, 15, 92, 18, 23, 62]]))"
      ]
     },
     "execution_count": 31,
     "metadata": {},
     "output_type": "execute_result"
    }
   ],
   "source": [
    "# Generate data\n",
    "array1 = np.array([[5, 10, 8, 20, 42, 31], [52, 15, 92, 18, 23, 62]])\n",
    "array2 = array1.copy()\n",
    "\n",
    "array1, array2"
   ]
  },
  {
   "cell_type": "code",
   "execution_count": 34,
   "id": "9d3ea922",
   "metadata": {},
   "outputs": [
    {
     "name": "stdout",
     "output_type": "stream",
     "text": [
      "Sort by Columns: \n",
      " [[ 5 10  8 18 23 31]\n",
      " [52 15 92 20 42 62]]\n"
     ]
    }
   ],
   "source": [
    "# Sort by columns\n",
    "array1.sort(axis=0)\n",
    "print('Sort by Columns: \\n', array1)"
   ]
  },
  {
   "cell_type": "code",
   "execution_count": 35,
   "id": "0e42a6fa",
   "metadata": {},
   "outputs": [
    {
     "name": "stdout",
     "output_type": "stream",
     "text": [
      "Sort by Rows: \n",
      " [[ 5  8 10 20 31 42]\n",
      " [15 18 23 52 62 92]]\n"
     ]
    }
   ],
   "source": [
    "# Sort by rows\n",
    "array2.sort(axis=1)\n",
    "print('Sort by Rows: \\n', array2)"
   ]
  },
  {
   "cell_type": "markdown",
   "id": "68c3a853",
   "metadata": {},
   "source": [
    "# 3. Generate Data"
   ]
  },
  {
   "cell_type": "markdown",
   "id": "9e00926b",
   "metadata": {},
   "source": [
    "## 3.1. Generate Data at Even Intervals: `np.linspace()`"
   ]
  },
  {
   "cell_type": "code",
   "execution_count": 38,
   "id": "959380fa",
   "metadata": {},
   "outputs": [
    {
     "data": {
      "text/plain": [
       "array([  0.        ,   5.26315789,  10.52631579,  15.78947368,\n",
       "        21.05263158,  26.31578947,  31.57894737,  36.84210526,\n",
       "        42.10526316,  47.36842105,  52.63157895,  57.89473684,\n",
       "        63.15789474,  68.42105263,  73.68421053,  78.94736842,\n",
       "        84.21052632,  89.47368421,  94.73684211, 100.        ])"
      ]
     },
     "execution_count": 38,
     "metadata": {},
     "output_type": "execute_result"
    }
   ],
   "source": [
    "# Generate data\n",
    "array = np.linspace(0, 100, 20)\n",
    "\n",
    "array"
   ]
  },
  {
   "cell_type": "markdown",
   "id": "cf8de361",
   "metadata": {},
   "source": [
    "## 3.2. Set Random Number Criteria: `np.randam.seed()`"
   ]
  },
  {
   "cell_type": "code",
   "execution_count": 48,
   "id": "e03ba09d",
   "metadata": {},
   "outputs": [
    {
     "name": "stdout",
     "output_type": "stream",
     "text": [
      "[[0 4 3 4 3]\n",
      " [5 1 8 3 7]\n",
      " [6 6 0 7 9]]\n"
     ]
    }
   ],
   "source": [
    "# Generate data\n",
    "np.random.seed(85)\n",
    "print(np.random.randint(0, 10, (3, 5)))"
   ]
  },
  {
   "cell_type": "markdown",
   "id": "a7c84e92",
   "metadata": {},
   "source": [
    "# 4. Copy Arrays"
   ]
  },
  {
   "cell_type": "markdown",
   "id": "d8141e6b",
   "metadata": {},
   "source": [
    "#### Refer to a memory address"
   ]
  },
  {
   "cell_type": "code",
   "execution_count": 52,
   "id": "eb9f4578",
   "metadata": {},
   "outputs": [
    {
     "name": "stdout",
     "output_type": "stream",
     "text": [
      "[0 1 2 3 4 5 6 7 8 9]\n",
      "[0 1 2 3 4 5 6 7 8 9]\n"
     ]
    }
   ],
   "source": [
    "# Generate data\n",
    "array1 = np.arange(0, 10)\n",
    "array2 = array1\n",
    "\n",
    "print(array1)\n",
    "print(array2)"
   ]
  },
  {
   "cell_type": "code",
   "execution_count": 51,
   "id": "8e401300",
   "metadata": {},
   "outputs": [
    {
     "name": "stdout",
     "output_type": "stream",
     "text": [
      "[ 0 32  2  3  4  5  6  7  8  9]\n",
      "[ 0 32  2  3  4  5  6  7  8  9]\n"
     ]
    }
   ],
   "source": [
    "# Change a value in array1\n",
    "array1[1] = 32\n",
    "\n",
    "print(array1)\n",
    "print(array2)\n",
    "\n",
    "# Result: array2 also changed"
   ]
  },
  {
   "cell_type": "markdown",
   "id": "0c2ae268",
   "metadata": {},
   "source": [
    "#### Shallow Copy"
   ]
  },
  {
   "cell_type": "code",
   "execution_count": 54,
   "id": "dd0312dc",
   "metadata": {},
   "outputs": [
    {
     "name": "stdout",
     "output_type": "stream",
     "text": [
      "[0 1 2 3 4 5 6 7 8 9]\n",
      "[0 1 2 3 4 5 6 7 8 9]\n"
     ]
    }
   ],
   "source": [
    "array3 = np.arange(0, 10)\n",
    "array4 = array3.copy()\n",
    "\n",
    "print(array3)\n",
    "print(array4)"
   ]
  },
  {
   "cell_type": "code",
   "execution_count": 55,
   "id": "d3e8d589",
   "metadata": {},
   "outputs": [
    {
     "name": "stdout",
     "output_type": "stream",
     "text": [
      "[ 0 32  2  3  4  5  6  7  8  9]\n",
      "[0 1 2 3 4 5 6 7 8 9]\n"
     ]
    }
   ],
   "source": [
    "# Change a value in array3\n",
    "array3[1] = 32\n",
    "\n",
    "print(array3)\n",
    "print(array4)\n",
    "\n",
    "# Result: array3 and array4 are independent"
   ]
  },
  {
   "cell_type": "markdown",
   "id": "c4bb025f",
   "metadata": {},
   "source": [
    "# 5. Remove Duplicated Values"
   ]
  },
  {
   "cell_type": "code",
   "execution_count": 58,
   "id": "c14a0b0b",
   "metadata": {},
   "outputs": [
    {
     "name": "stdout",
     "output_type": "stream",
     "text": [
      "Original Numbers:  [1 2 2 3 4 4 4 4 5 5 5 5 5]\n"
     ]
    }
   ],
   "source": [
    "# Generate data\n",
    "array = np.array([1, 2, 2, 3, 4, 4, 4, 4, 5, 5, 5, 5, 5])\n",
    "\n",
    "print('Original Numbers: ', array)"
   ]
  },
  {
   "cell_type": "code",
   "execution_count": 59,
   "id": "418f40d7",
   "metadata": {},
   "outputs": [
    {
     "name": "stdout",
     "output_type": "stream",
     "text": [
      "Unique Numbers:  [1 2 3 4 5]\n"
     ]
    }
   ],
   "source": [
    "# Remove duplciated values\n",
    "temp = np.unique(array)\n",
    "\n",
    "print('Unique Numbers: ', temp)"
   ]
  },
  {
   "cell_type": "markdown",
   "id": "09346ab4",
   "metadata": {},
   "source": [
    "# 6. Broadcasting"
   ]
  },
  {
   "cell_type": "code",
   "execution_count": 60,
   "id": "57add07b",
   "metadata": {},
   "outputs": [
    {
     "data": {
      "text/plain": [
       "(array([[1, 2, 3],\n",
       "        [4, 5, 6]]),\n",
       " array([10, 20, 30]))"
      ]
     },
     "execution_count": 60,
     "metadata": {},
     "output_type": "execute_result"
    }
   ],
   "source": [
    "# Generate data\n",
    "A = np.array([[1, 2, 3], [4, 5, 6]])\n",
    "B = np.array([10, 20, 30])\n",
    "\n",
    "A, B"
   ]
  },
  {
   "cell_type": "code",
   "execution_count": 61,
   "id": "7ba09ffe",
   "metadata": {},
   "outputs": [
    {
     "data": {
      "text/plain": [
       "array([[11, 22, 33],\n",
       "       [14, 25, 36]])"
      ]
     },
     "execution_count": 61,
     "metadata": {},
     "output_type": "execute_result"
    }
   ],
   "source": [
    "# Broadcasting: +\n",
    "C = A + B\n",
    "\n",
    "C"
   ]
  },
  {
   "cell_type": "code",
   "execution_count": 62,
   "id": "1750f91e",
   "metadata": {},
   "outputs": [
    {
     "data": {
      "text/plain": [
       "array([[ -9, -18, -27],\n",
       "       [ -6, -15, -24]])"
      ]
     },
     "execution_count": 62,
     "metadata": {},
     "output_type": "execute_result"
    }
   ],
   "source": [
    "# Broadcasting: -\n",
    "C = A - B\n",
    "\n",
    "C"
   ]
  },
  {
   "cell_type": "code",
   "execution_count": 63,
   "id": "e4d0937c",
   "metadata": {},
   "outputs": [
    {
     "data": {
      "text/plain": [
       "array([[ 10,  40,  90],\n",
       "       [ 40, 100, 180]])"
      ]
     },
     "execution_count": 63,
     "metadata": {},
     "output_type": "execute_result"
    }
   ],
   "source": [
    "# Broadcasting: *\n",
    "C = A * B\n",
    "\n",
    "C"
   ]
  }
 ],
 "metadata": {
  "kernelspec": {
   "display_name": "AI",
   "language": "python",
   "name": "ai"
  },
  "language_info": {
   "codemirror_mode": {
    "name": "ipython",
    "version": 3
   },
   "file_extension": ".py",
   "mimetype": "text/x-python",
   "name": "python",
   "nbconvert_exporter": "python",
   "pygments_lexer": "ipython3",
   "version": "3.8.16"
  }
 },
 "nbformat": 4,
 "nbformat_minor": 5
}
