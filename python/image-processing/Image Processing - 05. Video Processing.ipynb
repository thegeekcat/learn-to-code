{
 "cells": [
  {
   "cell_type": "markdown",
   "id": "347cffd9",
   "metadata": {},
   "source": [
    "# 0. Overview"
   ]
  },
  {
   "cell_type": "markdown",
   "id": "62c65033",
   "metadata": {},
   "source": [
    "- Process of loading a video file\n",
    "  - cap.read() -> (While loop) Read new frames if 'ret' is True -> Finish loading a file if 'ret' is False   "
   ]
  },
  {
   "cell_type": "markdown",
   "id": "4e8dc3cf",
   "metadata": {},
   "source": [
    "# 1. Preparation"
   ]
  },
  {
   "cell_type": "code",
   "execution_count": 2,
   "id": "cb9e2b5f",
   "metadata": {},
   "outputs": [],
   "source": [
    "# Import modules\n",
    "import cv2"
   ]
  },
  {
   "cell_type": "code",
   "execution_count": 3,
   "id": "067447b3",
   "metadata": {},
   "outputs": [],
   "source": [
    "# Load a video file\n",
    "video_path = './data/blooms-113004.mp4'\n",
    "cap = cv2.VideoCapture(video_path)"
   ]
  },
  {
   "cell_type": "markdown",
   "id": "9706c382",
   "metadata": {},
   "source": [
    "- Metadata from video files\n",
    "  - CAP_PROP_POS_MSEC: Current position(ms, timestamp)\n",
    "  - CAP_PROP_POS_FRAMES: Index 0 base frame\n",
    "  - CAP_PROP_POS_AVI_RATIO: Calculate relative position(0: Start, 1: End)\n",
    "  - CAP_PROP_FRAME_WIDTH: Frame width\n",
    "  - CAP_PROP_FRAME_HEIGHT: Frame height\n",
    "  - CAP_PROP_FPS: Frame speed\n",
    "  - CAP_PROP_FOURCC: Types of codec\n",
    "  - CAP_PROP_FRAME_COUNT: Number of frames of a video file\n",
    "  - CAP_PROP_BRIGHTNESS: Brightness (only for Camera)\n",
    "  - CAP_PROP_CONTRAST: Contrast (only for Camera)\n",
    "  - CAP_PROP_SATURATION: Saturation (only for Camera)"
   ]
  },
  {
   "cell_type": "code",
   "execution_count": 4,
   "id": "ffce777e",
   "metadata": {},
   "outputs": [
    {
     "name": "stdout",
     "output_type": "stream",
     "text": [
      "Original Width and Height: 1920.0x1080.0\n",
      "FPS: 29.97002997002997\n",
      "Frame Count: 751.0\n"
     ]
    }
   ],
   "source": [
    "# Get infomation\n",
    "width = cap.get(cv2.CAP_PROP_FRAME_WIDTH)\n",
    "height = cap.get(cv2.CAP_PROP_FRAME_HEIGHT)\n",
    "fps = cap.get(cv2.CAP_PROP_FPS)\n",
    "frame_count = cap.get(cv2.CAP_PROP_FRAME_COUNT)\n",
    "\n",
    "print(f'Original Width and Height: {width}x{height}')\n",
    "print(f'FPS: {fps}')\n",
    "print(f'Frame Count: {frame_count}')"
   ]
  },
  {
   "cell_type": "markdown",
   "id": "10beaee3",
   "metadata": {},
   "source": [
    "# 2. Load a Video File"
   ]
  },
  {
   "cell_type": "code",
   "execution_count": 5,
   "id": "fd5f69de",
   "metadata": {},
   "outputs": [],
   "source": [
    "# Load a video file\n",
    "if cap.isOpened():\n",
    "    while True:\n",
    "        # Read the next frame\n",
    "        ret, frame = cap.read()\n",
    "        \n",
    "        if ret:\n",
    "            #Change frame size\n",
    "            frame = cv2.resize(frame, (640, 480))\n",
    "            \n",
    "            # Visualization\n",
    "            cv2.imshow('Video', frame)\n",
    "            \n",
    "            # Quit when press 'q'\n",
    "            if cv2.waitKey(25) & 0xFF == ord('q'):\n",
    "                exit()\n",
    "        else:\n",
    "            break\n",
    "else:\n",
    "    print(\"Fail to open the video\")\n",
    "    \n",
    "# Release the video capture    \n",
    "cap.release()\n",
    "cv2.destroyAllWindows()"
   ]
  },
  {
   "cell_type": "markdown",
   "id": "e936fb2e",
   "metadata": {},
   "source": [
    "# 3. Save Videos in 25FPS Frames "
   ]
  },
  {
   "cell_type": "code",
   "execution_count": 10,
   "id": "e880c83b",
   "metadata": {},
   "outputs": [],
   "source": [
    "# Import modules\n",
    "import cv2\n",
    "import os\n",
    "\n",
    "# Load a video file\n",
    "video_path = './data/blooms-113004.mp4'\n",
    "cap = cv2.VideoCapture(video_path)\n",
    "\n",
    "# Set FPS\n",
    "fps = 25\n",
    "\n",
    "# Load a video file\n",
    "count = 0\n",
    "\n",
    "if cap.isOpened():   # Initialization\n",
    "    while True:\n",
    "        # Read the next frame\n",
    "        ret, frame = cap.read()\n",
    "        \n",
    "        # When there are more frames\n",
    "        if ret:\n",
    "            if(int(cap.get(1)) % fps == 0):\n",
    "                # Set a folder to save images of frames\n",
    "                os.makedirs('./frame_image_save/', exist_ok = True)\n",
    "                \n",
    "                # Set names of images\n",
    "                cv2.imwrite(f'./frame_image_save/image_{str(count).zfill(4)}.png', frame)\n",
    "                \n",
    "                count = count+1\n",
    "            else:\n",
    "                break\n",
    "else:\n",
    "    print('Fail to open the video')\n",
    "    \n",
    "# Release the video capture\n",
    "cap.release()\n",
    "cv2.destroyAllWindows()"
   ]
  }
 ],
 "metadata": {
  "kernelspec": {
   "display_name": "AI",
   "language": "python",
   "name": "ai"
  },
  "language_info": {
   "codemirror_mode": {
    "name": "ipython",
    "version": 3
   },
   "file_extension": ".py",
   "mimetype": "text/x-python",
   "name": "python",
   "nbconvert_exporter": "python",
   "pygments_lexer": "ipython3",
   "version": "3.8.16"
  }
 },
 "nbformat": 4,
 "nbformat_minor": 5
}
