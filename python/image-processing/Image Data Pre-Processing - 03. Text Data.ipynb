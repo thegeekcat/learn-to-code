{
 "cells": [
  {
   "cell_type": "markdown",
   "id": "cf462c59",
   "metadata": {},
   "source": [
    "# 1. Regular Expression"
   ]
  },
  {
   "cell_type": "markdown",
   "id": "e925135d",
   "metadata": {},
   "source": [
    "### Preparation"
   ]
  },
  {
   "cell_type": "code",
   "execution_count": 1,
   "id": "e875caab",
   "metadata": {},
   "outputs": [],
   "source": [
    "# Import modules\n",
    "import re"
   ]
  },
  {
   "cell_type": "code",
   "execution_count": 17,
   "id": "7def73e7",
   "metadata": {},
   "outputs": [
    {
     "data": {
      "text/plain": [
       "['    The people who are crazy enough to think they can change the world are the ones who do!!!@.',\n",
       " '  @#$I’ve always been attracted to the more revolutionary changes. I don’t know why. Because they’re harder. They’re much more stressful emotionally. And you usually go through a period where everybody tells you that you’ve completely failed.',\n",
       " 'I’m as proud of many of the things we haven’t done as the things we have done. Innovation is saying no to a thousand things.']"
      ]
     },
     "execution_count": 17,
     "metadata": {},
     "output_type": "execute_result"
    }
   ],
   "source": [
    "# Generate data\n",
    "text_data = ['    The people who are crazy enough to think they can change the world are the ones who do!!!@.',\n",
    "            '  @#$I’ve always been attracted to the more revolutionary changes. I don’t know why. Because they’re harder. They’re much more stressful emotionally. And you usually go through a period where everybody tells you that you’ve completely failed.',\n",
    "            'I’m as proud of many of the things we haven’t done as the things we have done. Innovation is saying no to a thousand things.']\n",
    "\n",
    "text_data"
   ]
  },
  {
   "cell_type": "markdown",
   "id": "e6c644ed",
   "metadata": {},
   "source": [
    "### Remove Whitespaces"
   ]
  },
  {
   "cell_type": "code",
   "execution_count": 18,
   "id": "0e2cca7b",
   "metadata": {
    "scrolled": true
   },
   "outputs": [
    {
     "data": {
      "text/plain": [
       "['The people who are crazy enough to think they can change the world are the ones who do!!!@.',\n",
       " '@#$I’ve always been attracted to the more revolutionary changes. I don’t know why. Because they’re harder. They’re much more stressful emotionally. And you usually go through a period where everybody tells you that you’ve completely failed.',\n",
       " 'I’m as proud of many of the things we haven’t done as the things we have done. Innovation is saying no to a thousand things.']"
      ]
     },
     "execution_count": 18,
     "metadata": {},
     "output_type": "execute_result"
    }
   ],
   "source": [
    "# Remove whitespaces\n",
    "strip_whitespaces = [string.strip() for string in text_data]\n",
    "strip_whitespaces"
   ]
  },
  {
   "cell_type": "markdown",
   "id": "fcc953eb",
   "metadata": {},
   "source": [
    "### Remove Periods"
   ]
  },
  {
   "cell_type": "code",
   "execution_count": null,
   "id": "30eeacc2",
   "metadata": {},
   "outputs": [],
   "source": [
    "# Remove periods\n",
    "remove_periods = [string.replace('.', '') for string in strip_whitespace]\n",
    "\n",
    "remove_periods"
   ]
  },
  {
   "cell_type": "markdown",
   "id": "b6157308",
   "metadata": {},
   "source": [
    "### Remove Punctuaion Marks"
   ]
  },
  {
   "cell_type": "code",
   "execution_count": 19,
   "id": "92ecb3fc",
   "metadata": {},
   "outputs": [],
   "source": [
    "# Import modules\n",
    "import sys\n",
    "import unicodedata"
   ]
  },
  {
   "cell_type": "code",
   "execution_count": 20,
   "id": "a9b7dde2",
   "metadata": {},
   "outputs": [
    {
     "data": {
      "text/plain": [
       "{33: None,\n",
       " 34: None,\n",
       " 35: None,\n",
       " 37: None,\n",
       " 38: None,\n",
       " 39: None,\n",
       " 40: None,\n",
       " 41: None,\n",
       " 42: None,\n",
       " 44: None,\n",
       " 45: None,\n",
       " 46: None,\n",
       " 47: None,\n",
       " 58: None,\n",
       " 59: None,\n",
       " 63: None,\n",
       " 64: None,\n",
       " 91: None,\n",
       " 92: None,\n",
       " 93: None,\n",
       " 95: None,\n",
       " 123: None,\n",
       " 125: None,\n",
       " 161: None,\n",
       " 167: None,\n",
       " 171: None,\n",
       " 182: None,\n",
       " 183: None,\n",
       " 187: None,\n",
       " 191: None,\n",
       " 894: None,\n",
       " 903: None,\n",
       " 1370: None,\n",
       " 1371: None,\n",
       " 1372: None,\n",
       " 1373: None,\n",
       " 1374: None,\n",
       " 1375: None,\n",
       " 1417: None,\n",
       " 1418: None,\n",
       " 1470: None,\n",
       " 1472: None,\n",
       " 1475: None,\n",
       " 1478: None,\n",
       " 1523: None,\n",
       " 1524: None,\n",
       " 1545: None,\n",
       " 1546: None,\n",
       " 1548: None,\n",
       " 1549: None,\n",
       " 1563: None,\n",
       " 1566: None,\n",
       " 1567: None,\n",
       " 1642: None,\n",
       " 1643: None,\n",
       " 1644: None,\n",
       " 1645: None,\n",
       " 1748: None,\n",
       " 1792: None,\n",
       " 1793: None,\n",
       " 1794: None,\n",
       " 1795: None,\n",
       " 1796: None,\n",
       " 1797: None,\n",
       " 1798: None,\n",
       " 1799: None,\n",
       " 1800: None,\n",
       " 1801: None,\n",
       " 1802: None,\n",
       " 1803: None,\n",
       " 1804: None,\n",
       " 1805: None,\n",
       " 2039: None,\n",
       " 2040: None,\n",
       " 2041: None,\n",
       " 2096: None,\n",
       " 2097: None,\n",
       " 2098: None,\n",
       " 2099: None,\n",
       " 2100: None,\n",
       " 2101: None,\n",
       " 2102: None,\n",
       " 2103: None,\n",
       " 2104: None,\n",
       " 2105: None,\n",
       " 2106: None,\n",
       " 2107: None,\n",
       " 2108: None,\n",
       " 2109: None,\n",
       " 2110: None,\n",
       " 2142: None,\n",
       " 2404: None,\n",
       " 2405: None,\n",
       " 2416: None,\n",
       " 2557: None,\n",
       " 2678: None,\n",
       " 2800: None,\n",
       " 3191: None,\n",
       " 3204: None,\n",
       " 3572: None,\n",
       " 3663: None,\n",
       " 3674: None,\n",
       " 3675: None,\n",
       " 3844: None,\n",
       " 3845: None,\n",
       " 3846: None,\n",
       " 3847: None,\n",
       " 3848: None,\n",
       " 3849: None,\n",
       " 3850: None,\n",
       " 3851: None,\n",
       " 3852: None,\n",
       " 3853: None,\n",
       " 3854: None,\n",
       " 3855: None,\n",
       " 3856: None,\n",
       " 3857: None,\n",
       " 3858: None,\n",
       " 3860: None,\n",
       " 3898: None,\n",
       " 3899: None,\n",
       " 3900: None,\n",
       " 3901: None,\n",
       " 3973: None,\n",
       " 4048: None,\n",
       " 4049: None,\n",
       " 4050: None,\n",
       " 4051: None,\n",
       " 4052: None,\n",
       " 4057: None,\n",
       " 4058: None,\n",
       " 4170: None,\n",
       " 4171: None,\n",
       " 4172: None,\n",
       " 4173: None,\n",
       " 4174: None,\n",
       " 4175: None,\n",
       " 4347: None,\n",
       " 4960: None,\n",
       " 4961: None,\n",
       " 4962: None,\n",
       " 4963: None,\n",
       " 4964: None,\n",
       " 4965: None,\n",
       " 4966: None,\n",
       " 4967: None,\n",
       " 4968: None,\n",
       " 5120: None,\n",
       " 5742: None,\n",
       " 5787: None,\n",
       " 5788: None,\n",
       " 5867: None,\n",
       " 5868: None,\n",
       " 5869: None,\n",
       " 5941: None,\n",
       " 5942: None,\n",
       " 6100: None,\n",
       " 6101: None,\n",
       " 6102: None,\n",
       " 6104: None,\n",
       " 6105: None,\n",
       " 6106: None,\n",
       " 6144: None,\n",
       " 6145: None,\n",
       " 6146: None,\n",
       " 6147: None,\n",
       " 6148: None,\n",
       " 6149: None,\n",
       " 6150: None,\n",
       " 6151: None,\n",
       " 6152: None,\n",
       " 6153: None,\n",
       " 6154: None,\n",
       " 6468: None,\n",
       " 6469: None,\n",
       " 6686: None,\n",
       " 6687: None,\n",
       " 6816: None,\n",
       " 6817: None,\n",
       " 6818: None,\n",
       " 6819: None,\n",
       " 6820: None,\n",
       " 6821: None,\n",
       " 6822: None,\n",
       " 6824: None,\n",
       " 6825: None,\n",
       " 6826: None,\n",
       " 6827: None,\n",
       " 6828: None,\n",
       " 6829: None,\n",
       " 7002: None,\n",
       " 7003: None,\n",
       " 7004: None,\n",
       " 7005: None,\n",
       " 7006: None,\n",
       " 7007: None,\n",
       " 7008: None,\n",
       " 7164: None,\n",
       " 7165: None,\n",
       " 7166: None,\n",
       " 7167: None,\n",
       " 7227: None,\n",
       " 7228: None,\n",
       " 7229: None,\n",
       " 7230: None,\n",
       " 7231: None,\n",
       " 7294: None,\n",
       " 7295: None,\n",
       " 7360: None,\n",
       " 7361: None,\n",
       " 7362: None,\n",
       " 7363: None,\n",
       " 7364: None,\n",
       " 7365: None,\n",
       " 7366: None,\n",
       " 7367: None,\n",
       " 7379: None,\n",
       " 8208: None,\n",
       " 8209: None,\n",
       " 8210: None,\n",
       " 8211: None,\n",
       " 8212: None,\n",
       " 8213: None,\n",
       " 8214: None,\n",
       " 8215: None,\n",
       " 8216: None,\n",
       " 8217: None,\n",
       " 8218: None,\n",
       " 8219: None,\n",
       " 8220: None,\n",
       " 8221: None,\n",
       " 8222: None,\n",
       " 8223: None,\n",
       " 8224: None,\n",
       " 8225: None,\n",
       " 8226: None,\n",
       " 8227: None,\n",
       " 8228: None,\n",
       " 8229: None,\n",
       " 8230: None,\n",
       " 8231: None,\n",
       " 8240: None,\n",
       " 8241: None,\n",
       " 8242: None,\n",
       " 8243: None,\n",
       " 8244: None,\n",
       " 8245: None,\n",
       " 8246: None,\n",
       " 8247: None,\n",
       " 8248: None,\n",
       " 8249: None,\n",
       " 8250: None,\n",
       " 8251: None,\n",
       " 8252: None,\n",
       " 8253: None,\n",
       " 8254: None,\n",
       " 8255: None,\n",
       " 8256: None,\n",
       " 8257: None,\n",
       " 8258: None,\n",
       " 8259: None,\n",
       " 8261: None,\n",
       " 8262: None,\n",
       " 8263: None,\n",
       " 8264: None,\n",
       " 8265: None,\n",
       " 8266: None,\n",
       " 8267: None,\n",
       " 8268: None,\n",
       " 8269: None,\n",
       " 8270: None,\n",
       " 8271: None,\n",
       " 8272: None,\n",
       " 8273: None,\n",
       " 8275: None,\n",
       " 8276: None,\n",
       " 8277: None,\n",
       " 8278: None,\n",
       " 8279: None,\n",
       " 8280: None,\n",
       " 8281: None,\n",
       " 8282: None,\n",
       " 8283: None,\n",
       " 8284: None,\n",
       " 8285: None,\n",
       " 8286: None,\n",
       " 8317: None,\n",
       " 8318: None,\n",
       " 8333: None,\n",
       " 8334: None,\n",
       " 8968: None,\n",
       " 8969: None,\n",
       " 8970: None,\n",
       " 8971: None,\n",
       " 9001: None,\n",
       " 9002: None,\n",
       " 10088: None,\n",
       " 10089: None,\n",
       " 10090: None,\n",
       " 10091: None,\n",
       " 10092: None,\n",
       " 10093: None,\n",
       " 10094: None,\n",
       " 10095: None,\n",
       " 10096: None,\n",
       " 10097: None,\n",
       " 10098: None,\n",
       " 10099: None,\n",
       " 10100: None,\n",
       " 10101: None,\n",
       " 10181: None,\n",
       " 10182: None,\n",
       " 10214: None,\n",
       " 10215: None,\n",
       " 10216: None,\n",
       " 10217: None,\n",
       " 10218: None,\n",
       " 10219: None,\n",
       " 10220: None,\n",
       " 10221: None,\n",
       " 10222: None,\n",
       " 10223: None,\n",
       " 10627: None,\n",
       " 10628: None,\n",
       " 10629: None,\n",
       " 10630: None,\n",
       " 10631: None,\n",
       " 10632: None,\n",
       " 10633: None,\n",
       " 10634: None,\n",
       " 10635: None,\n",
       " 10636: None,\n",
       " 10637: None,\n",
       " 10638: None,\n",
       " 10639: None,\n",
       " 10640: None,\n",
       " 10641: None,\n",
       " 10642: None,\n",
       " 10643: None,\n",
       " 10644: None,\n",
       " 10645: None,\n",
       " 10646: None,\n",
       " 10647: None,\n",
       " 10648: None,\n",
       " 10712: None,\n",
       " 10713: None,\n",
       " 10714: None,\n",
       " 10715: None,\n",
       " 10748: None,\n",
       " 10749: None,\n",
       " 11513: None,\n",
       " 11514: None,\n",
       " 11515: None,\n",
       " 11516: None,\n",
       " 11518: None,\n",
       " 11519: None,\n",
       " 11632: None,\n",
       " 11776: None,\n",
       " 11777: None,\n",
       " 11778: None,\n",
       " 11779: None,\n",
       " 11780: None,\n",
       " 11781: None,\n",
       " 11782: None,\n",
       " 11783: None,\n",
       " 11784: None,\n",
       " 11785: None,\n",
       " 11786: None,\n",
       " 11787: None,\n",
       " 11788: None,\n",
       " 11789: None,\n",
       " 11790: None,\n",
       " 11791: None,\n",
       " 11792: None,\n",
       " 11793: None,\n",
       " 11794: None,\n",
       " 11795: None,\n",
       " 11796: None,\n",
       " 11797: None,\n",
       " 11798: None,\n",
       " 11799: None,\n",
       " 11800: None,\n",
       " 11801: None,\n",
       " 11802: None,\n",
       " 11803: None,\n",
       " 11804: None,\n",
       " 11805: None,\n",
       " 11806: None,\n",
       " 11807: None,\n",
       " 11808: None,\n",
       " 11809: None,\n",
       " 11810: None,\n",
       " 11811: None,\n",
       " 11812: None,\n",
       " 11813: None,\n",
       " 11814: None,\n",
       " 11815: None,\n",
       " 11816: None,\n",
       " 11817: None,\n",
       " 11818: None,\n",
       " 11819: None,\n",
       " 11820: None,\n",
       " 11821: None,\n",
       " 11822: None,\n",
       " 11824: None,\n",
       " 11825: None,\n",
       " 11826: None,\n",
       " 11827: None,\n",
       " 11828: None,\n",
       " 11829: None,\n",
       " 11830: None,\n",
       " 11831: None,\n",
       " 11832: None,\n",
       " 11833: None,\n",
       " 11834: None,\n",
       " 11835: None,\n",
       " 11836: None,\n",
       " 11837: None,\n",
       " 11838: None,\n",
       " 11839: None,\n",
       " 11840: None,\n",
       " 11841: None,\n",
       " 11842: None,\n",
       " 11843: None,\n",
       " 11844: None,\n",
       " 11845: None,\n",
       " 11846: None,\n",
       " 11847: None,\n",
       " 11848: None,\n",
       " 11849: None,\n",
       " 11850: None,\n",
       " 11851: None,\n",
       " 11852: None,\n",
       " 11853: None,\n",
       " 11854: None,\n",
       " 11855: None,\n",
       " 12289: None,\n",
       " 12290: None,\n",
       " 12291: None,\n",
       " 12296: None,\n",
       " 12297: None,\n",
       " 12298: None,\n",
       " 12299: None,\n",
       " 12300: None,\n",
       " 12301: None,\n",
       " 12302: None,\n",
       " 12303: None,\n",
       " 12304: None,\n",
       " 12305: None,\n",
       " 12308: None,\n",
       " 12309: None,\n",
       " 12310: None,\n",
       " 12311: None,\n",
       " 12312: None,\n",
       " 12313: None,\n",
       " 12314: None,\n",
       " 12315: None,\n",
       " 12316: None,\n",
       " 12317: None,\n",
       " 12318: None,\n",
       " 12319: None,\n",
       " 12336: None,\n",
       " 12349: None,\n",
       " 12448: None,\n",
       " 12539: None,\n",
       " 42238: None,\n",
       " 42239: None,\n",
       " 42509: None,\n",
       " 42510: None,\n",
       " 42511: None,\n",
       " 42611: None,\n",
       " 42622: None,\n",
       " 42738: None,\n",
       " 42739: None,\n",
       " 42740: None,\n",
       " 42741: None,\n",
       " 42742: None,\n",
       " 42743: None,\n",
       " 43124: None,\n",
       " 43125: None,\n",
       " 43126: None,\n",
       " 43127: None,\n",
       " 43214: None,\n",
       " 43215: None,\n",
       " 43256: None,\n",
       " 43257: None,\n",
       " 43258: None,\n",
       " 43260: None,\n",
       " 43310: None,\n",
       " 43311: None,\n",
       " 43359: None,\n",
       " 43457: None,\n",
       " 43458: None,\n",
       " 43459: None,\n",
       " 43460: None,\n",
       " 43461: None,\n",
       " 43462: None,\n",
       " 43463: None,\n",
       " 43464: None,\n",
       " 43465: None,\n",
       " 43466: None,\n",
       " 43467: None,\n",
       " 43468: None,\n",
       " 43469: None,\n",
       " 43486: None,\n",
       " 43487: None,\n",
       " 43612: None,\n",
       " 43613: None,\n",
       " 43614: None,\n",
       " 43615: None,\n",
       " 43742: None,\n",
       " 43743: None,\n",
       " 43760: None,\n",
       " 43761: None,\n",
       " 44011: None,\n",
       " 64830: None,\n",
       " 64831: None,\n",
       " 65040: None,\n",
       " 65041: None,\n",
       " 65042: None,\n",
       " 65043: None,\n",
       " 65044: None,\n",
       " 65045: None,\n",
       " 65046: None,\n",
       " 65047: None,\n",
       " 65048: None,\n",
       " 65049: None,\n",
       " 65072: None,\n",
       " 65073: None,\n",
       " 65074: None,\n",
       " 65075: None,\n",
       " 65076: None,\n",
       " 65077: None,\n",
       " 65078: None,\n",
       " 65079: None,\n",
       " 65080: None,\n",
       " 65081: None,\n",
       " 65082: None,\n",
       " 65083: None,\n",
       " 65084: None,\n",
       " 65085: None,\n",
       " 65086: None,\n",
       " 65087: None,\n",
       " 65088: None,\n",
       " 65089: None,\n",
       " 65090: None,\n",
       " 65091: None,\n",
       " 65092: None,\n",
       " 65093: None,\n",
       " 65094: None,\n",
       " 65095: None,\n",
       " 65096: None,\n",
       " 65097: None,\n",
       " 65098: None,\n",
       " 65099: None,\n",
       " 65100: None,\n",
       " 65101: None,\n",
       " 65102: None,\n",
       " 65103: None,\n",
       " 65104: None,\n",
       " 65105: None,\n",
       " 65106: None,\n",
       " 65108: None,\n",
       " 65109: None,\n",
       " 65110: None,\n",
       " 65111: None,\n",
       " 65112: None,\n",
       " 65113: None,\n",
       " 65114: None,\n",
       " 65115: None,\n",
       " 65116: None,\n",
       " 65117: None,\n",
       " 65118: None,\n",
       " 65119: None,\n",
       " 65120: None,\n",
       " 65121: None,\n",
       " 65123: None,\n",
       " 65128: None,\n",
       " 65130: None,\n",
       " 65131: None,\n",
       " 65281: None,\n",
       " 65282: None,\n",
       " 65283: None,\n",
       " 65285: None,\n",
       " 65286: None,\n",
       " 65287: None,\n",
       " 65288: None,\n",
       " 65289: None,\n",
       " 65290: None,\n",
       " 65292: None,\n",
       " 65293: None,\n",
       " 65294: None,\n",
       " 65295: None,\n",
       " 65306: None,\n",
       " 65307: None,\n",
       " 65311: None,\n",
       " 65312: None,\n",
       " 65339: None,\n",
       " 65340: None,\n",
       " 65341: None,\n",
       " 65343: None,\n",
       " 65371: None,\n",
       " 65373: None,\n",
       " 65375: None,\n",
       " 65376: None,\n",
       " 65377: None,\n",
       " 65378: None,\n",
       " 65379: None,\n",
       " 65380: None,\n",
       " 65381: None,\n",
       " 65792: None,\n",
       " 65793: None,\n",
       " 65794: None,\n",
       " 66463: None,\n",
       " 66512: None,\n",
       " 66927: None,\n",
       " 67671: None,\n",
       " 67871: None,\n",
       " 67903: None,\n",
       " 68176: None,\n",
       " 68177: None,\n",
       " 68178: None,\n",
       " 68179: None,\n",
       " 68180: None,\n",
       " 68181: None,\n",
       " 68182: None,\n",
       " 68183: None,\n",
       " 68184: None,\n",
       " 68223: None,\n",
       " 68336: None,\n",
       " 68337: None,\n",
       " 68338: None,\n",
       " 68339: None,\n",
       " 68340: None,\n",
       " 68341: None,\n",
       " 68342: None,\n",
       " 68409: None,\n",
       " 68410: None,\n",
       " 68411: None,\n",
       " 68412: None,\n",
       " 68413: None,\n",
       " 68414: None,\n",
       " 68415: None,\n",
       " 68505: None,\n",
       " 68506: None,\n",
       " 68507: None,\n",
       " 68508: None,\n",
       " 69461: None,\n",
       " 69462: None,\n",
       " 69463: None,\n",
       " 69464: None,\n",
       " 69465: None,\n",
       " 69703: None,\n",
       " 69704: None,\n",
       " 69705: None,\n",
       " 69706: None,\n",
       " 69707: None,\n",
       " 69708: None,\n",
       " 69709: None,\n",
       " 69819: None,\n",
       " 69820: None,\n",
       " 69822: None,\n",
       " 69823: None,\n",
       " 69824: None,\n",
       " 69825: None,\n",
       " 69952: None,\n",
       " 69953: None,\n",
       " 69954: None,\n",
       " 69955: None,\n",
       " 70004: None,\n",
       " 70005: None,\n",
       " 70085: None,\n",
       " 70086: None,\n",
       " 70087: None,\n",
       " 70088: None,\n",
       " 70093: None,\n",
       " 70107: None,\n",
       " 70109: None,\n",
       " 70110: None,\n",
       " 70111: None,\n",
       " 70200: None,\n",
       " 70201: None,\n",
       " 70202: None,\n",
       " 70203: None,\n",
       " 70204: None,\n",
       " 70205: None,\n",
       " 70313: None,\n",
       " 70731: None,\n",
       " 70732: None,\n",
       " 70733: None,\n",
       " 70734: None,\n",
       " 70735: None,\n",
       " 70747: None,\n",
       " 70749: None,\n",
       " 70854: None,\n",
       " 71105: None,\n",
       " 71106: None,\n",
       " 71107: None,\n",
       " 71108: None,\n",
       " 71109: None,\n",
       " 71110: None,\n",
       " 71111: None,\n",
       " 71112: None,\n",
       " 71113: None,\n",
       " 71114: None,\n",
       " 71115: None,\n",
       " 71116: None,\n",
       " 71117: None,\n",
       " 71118: None,\n",
       " 71119: None,\n",
       " 71120: None,\n",
       " 71121: None,\n",
       " 71122: None,\n",
       " 71123: None,\n",
       " 71124: None,\n",
       " 71125: None,\n",
       " 71126: None,\n",
       " 71127: None,\n",
       " 71233: None,\n",
       " 71234: None,\n",
       " 71235: None,\n",
       " 71264: None,\n",
       " 71265: None,\n",
       " 71266: None,\n",
       " 71267: None,\n",
       " 71268: None,\n",
       " 71269: None,\n",
       " 71270: None,\n",
       " 71271: None,\n",
       " 71272: None,\n",
       " 71273: None,\n",
       " 71274: None,\n",
       " 71275: None,\n",
       " 71276: None,\n",
       " 71484: None,\n",
       " 71485: None,\n",
       " 71486: None,\n",
       " 71739: None,\n",
       " 72162: None,\n",
       " 72255: None,\n",
       " 72256: None,\n",
       " 72257: None,\n",
       " 72258: None,\n",
       " 72259: None,\n",
       " 72260: None,\n",
       " 72261: None,\n",
       " 72262: None,\n",
       " 72346: None,\n",
       " 72347: None,\n",
       " 72348: None,\n",
       " 72350: None,\n",
       " 72351: None,\n",
       " 72352: None,\n",
       " 72353: None,\n",
       " 72354: None,\n",
       " 72769: None,\n",
       " 72770: None,\n",
       " 72771: None,\n",
       " 72772: None,\n",
       " 72773: None,\n",
       " 72816: None,\n",
       " 72817: None,\n",
       " 73463: None,\n",
       " 73464: None,\n",
       " 73727: None,\n",
       " 74864: None,\n",
       " 74865: None,\n",
       " 74866: None,\n",
       " 74867: None,\n",
       " 74868: None,\n",
       " 92782: None,\n",
       " 92783: None,\n",
       " 92917: None,\n",
       " 92983: None,\n",
       " 92984: None,\n",
       " 92985: None,\n",
       " 92986: None,\n",
       " 92987: None,\n",
       " 92996: None,\n",
       " 93847: None,\n",
       " 93848: None,\n",
       " 93849: None,\n",
       " 93850: None,\n",
       " 94178: None,\n",
       " 113823: None,\n",
       " 121479: None,\n",
       " 121480: None,\n",
       " 121481: None,\n",
       " 121482: None,\n",
       " 121483: None,\n",
       " 125278: None,\n",
       " 125279: None}"
      ]
     },
     "execution_count": 20,
     "metadata": {},
     "output_type": "execute_result"
    }
   ],
   "source": [
    "# Remove punctuation marks\n",
    "temp = dict.fromkeys(i for i in range(sys.maxunicode) if unicodedata.category(chr(i)).startswith('P'))\n",
    "\n",
    "temp"
   ]
  },
  {
   "cell_type": "code",
   "execution_count": 21,
   "id": "5012b00d",
   "metadata": {},
   "outputs": [
    {
     "data": {
      "text/plain": [
       "['    The people who are crazy enough to think they can change the world are the ones who do',\n",
       " '  $Ive always been attracted to the more revolutionary changes I dont know why Because theyre harder Theyre much more stressful emotionally And you usually go through a period where everybody tells you that youve completely failed',\n",
       " 'Im as proud of many of the things we havent done as the things we have done Innovation is saying no to a thousand things']"
      ]
     },
     "execution_count": 21,
     "metadata": {},
     "output_type": "execute_result"
    }
   ],
   "source": [
    "data = [string.translate(temp) for string in text_data]\n",
    "\n",
    "data"
   ]
  },
  {
   "cell_type": "markdown",
   "id": "00c48691",
   "metadata": {},
   "source": [
    "# 2. Tokenization"
   ]
  },
  {
   "cell_type": "code",
   "execution_count": 23,
   "id": "697179e5",
   "metadata": {},
   "outputs": [],
   "source": [
    "# !pip install nltk"
   ]
  },
  {
   "cell_type": "code",
   "execution_count": 22,
   "id": "4a6290c2",
   "metadata": {},
   "outputs": [],
   "source": [
    "# Import modules\n",
    "from nltk.tokenize import sent_tokenize\n",
    "from nltk.tokenize import word_tokenize\n",
    "import nltk"
   ]
  },
  {
   "cell_type": "code",
   "execution_count": 24,
   "id": "7b345c74",
   "metadata": {},
   "outputs": [
    {
     "name": "stderr",
     "output_type": "stream",
     "text": [
      "[nltk_data] Downloading package punkt to\n",
      "[nltk_data]     C:\\Users\\genih\\AppData\\Roaming\\nltk_data...\n",
      "[nltk_data]   Package punkt is already up-to-date!\n"
     ]
    },
    {
     "data": {
      "text/plain": [
       "True"
      ]
     },
     "execution_count": 24,
     "metadata": {},
     "output_type": "execute_result"
    }
   ],
   "source": [
    "# Download Puncuation data\n",
    "nltk.download('punkt')"
   ]
  },
  {
   "cell_type": "markdown",
   "id": "db9019ab",
   "metadata": {},
   "source": [
    "## 2.1. Split Text by Words"
   ]
  },
  {
   "cell_type": "code",
   "execution_count": 27,
   "id": "79f94099",
   "metadata": {},
   "outputs": [
    {
     "data": {
      "text/plain": [
       "'You can’t connect the dots looking forward; you can only connect them looking backwards.'"
      ]
     },
     "execution_count": 27,
     "metadata": {},
     "output_type": "execute_result"
    }
   ],
   "source": [
    "# Generate text\n",
    "string = 'You can’t connect the dots looking forward; you can only connect them looking backwards.'\n",
    "\n",
    "string"
   ]
  },
  {
   "cell_type": "code",
   "execution_count": 28,
   "id": "e4291e6e",
   "metadata": {},
   "outputs": [
    {
     "data": {
      "text/plain": [
       "['You',\n",
       " 'can',\n",
       " '’',\n",
       " 't',\n",
       " 'connect',\n",
       " 'the',\n",
       " 'dots',\n",
       " 'looking',\n",
       " 'forward',\n",
       " ';',\n",
       " 'you',\n",
       " 'can',\n",
       " 'only',\n",
       " 'connect',\n",
       " 'them',\n",
       " 'looking',\n",
       " 'backwards',\n",
       " '.']"
      ]
     },
     "execution_count": 28,
     "metadata": {},
     "output_type": "execute_result"
    }
   ],
   "source": [
    "# Tokenize text by words\n",
    "word_data = word_tokenize(string)\n",
    "\n",
    "word_data"
   ]
  },
  {
   "cell_type": "markdown",
   "id": "3ed54bea",
   "metadata": {},
   "source": [
    "## 2.2. Split Text by Sentences"
   ]
  },
  {
   "cell_type": "code",
   "execution_count": 31,
   "id": "fff15602",
   "metadata": {},
   "outputs": [
    {
     "data": {
      "text/plain": [
       "'You can’t connect the dots looking forward; you can only connect them looking backwards. So you have to trust that the dots will somehow connect in your future.'"
      ]
     },
     "execution_count": 31,
     "metadata": {},
     "output_type": "execute_result"
    }
   ],
   "source": [
    "# Generate text\n",
    "sent_string = 'You can’t connect the dots looking forward; you can only connect them looking backwards. So you have to trust that the dots will somehow connect in your future.'\n",
    "\n",
    "sent_string"
   ]
  },
  {
   "cell_type": "code",
   "execution_count": 33,
   "id": "cbe8b047",
   "metadata": {},
   "outputs": [
    {
     "data": {
      "text/plain": [
       "['You can’t connect the dots looking forward; you can only connect them looking backwards.',\n",
       " 'So you have to trust that the dots will somehow connect in your future.']"
      ]
     },
     "execution_count": 33,
     "metadata": {},
     "output_type": "execute_result"
    }
   ],
   "source": [
    "# Tokenization\n",
    "sent_data = sent_tokenize(sent_string)\n",
    "\n",
    "sent_data"
   ]
  },
  {
   "cell_type": "markdown",
   "id": "86deb74e",
   "metadata": {},
   "source": [
    "# 3. Remove Stopwords"
   ]
  },
  {
   "cell_type": "code",
   "execution_count": 34,
   "id": "0136be2f",
   "metadata": {},
   "outputs": [],
   "source": [
    "# Import modules\n",
    "from nltk.corpus import stopwords"
   ]
  },
  {
   "cell_type": "code",
   "execution_count": 35,
   "id": "d29f2f77",
   "metadata": {},
   "outputs": [
    {
     "name": "stderr",
     "output_type": "stream",
     "text": [
      "[nltk_data] Downloading package stopwords to\n",
      "[nltk_data]     C:\\Users\\genih\\AppData\\Roaming\\nltk_data...\n",
      "[nltk_data]   Package stopwords is already up-to-date!\n"
     ]
    },
    {
     "data": {
      "text/plain": [
       "True"
      ]
     },
     "execution_count": 35,
     "metadata": {},
     "output_type": "execute_result"
    }
   ],
   "source": [
    "# Download Stopwords data\n",
    "nltk.download('stopwords')"
   ]
  },
  {
   "cell_type": "code",
   "execution_count": 36,
   "id": "2ab3b44e",
   "metadata": {},
   "outputs": [
    {
     "data": {
      "text/plain": [
       "['You',\n",
       " 'can',\n",
       " '’',\n",
       " 't',\n",
       " 'connect',\n",
       " 'the',\n",
       " 'dots',\n",
       " 'looking',\n",
       " 'forward',\n",
       " ';',\n",
       " 'you',\n",
       " 'can',\n",
       " 'only',\n",
       " 'connect',\n",
       " 'them',\n",
       " 'looking',\n",
       " 'backwards',\n",
       " '.']"
      ]
     },
     "execution_count": 36,
     "metadata": {},
     "output_type": "execute_result"
    }
   ],
   "source": [
    "# Generate text\n",
    "string = 'You can’t connect the dots looking forward; you can only connect them looking backwards.'\n",
    "\n",
    "# Tokenize text by words\n",
    "tokenized_words = word_tokenize(string)\n",
    "\n",
    "tokenized_words"
   ]
  },
  {
   "cell_type": "code",
   "execution_count": 37,
   "id": "1723d4b2",
   "metadata": {},
   "outputs": [
    {
     "data": {
      "text/plain": [
       "['i',\n",
       " 'me',\n",
       " 'my',\n",
       " 'myself',\n",
       " 'we',\n",
       " 'our',\n",
       " 'ours',\n",
       " 'ourselves',\n",
       " 'you',\n",
       " \"you're\",\n",
       " \"you've\",\n",
       " \"you'll\",\n",
       " \"you'd\",\n",
       " 'your',\n",
       " 'yours',\n",
       " 'yourself',\n",
       " 'yourselves',\n",
       " 'he',\n",
       " 'him',\n",
       " 'his',\n",
       " 'himself',\n",
       " 'she',\n",
       " \"she's\",\n",
       " 'her',\n",
       " 'hers',\n",
       " 'herself',\n",
       " 'it',\n",
       " \"it's\",\n",
       " 'its',\n",
       " 'itself',\n",
       " 'they',\n",
       " 'them',\n",
       " 'their',\n",
       " 'theirs',\n",
       " 'themselves',\n",
       " 'what',\n",
       " 'which',\n",
       " 'who',\n",
       " 'whom',\n",
       " 'this',\n",
       " 'that',\n",
       " \"that'll\",\n",
       " 'these',\n",
       " 'those',\n",
       " 'am',\n",
       " 'is',\n",
       " 'are',\n",
       " 'was',\n",
       " 'were',\n",
       " 'be',\n",
       " 'been',\n",
       " 'being',\n",
       " 'have',\n",
       " 'has',\n",
       " 'had',\n",
       " 'having',\n",
       " 'do',\n",
       " 'does',\n",
       " 'did',\n",
       " 'doing',\n",
       " 'a',\n",
       " 'an',\n",
       " 'the',\n",
       " 'and',\n",
       " 'but',\n",
       " 'if',\n",
       " 'or',\n",
       " 'because',\n",
       " 'as',\n",
       " 'until',\n",
       " 'while',\n",
       " 'of',\n",
       " 'at',\n",
       " 'by',\n",
       " 'for',\n",
       " 'with',\n",
       " 'about',\n",
       " 'against',\n",
       " 'between',\n",
       " 'into',\n",
       " 'through',\n",
       " 'during',\n",
       " 'before',\n",
       " 'after',\n",
       " 'above',\n",
       " 'below',\n",
       " 'to',\n",
       " 'from',\n",
       " 'up',\n",
       " 'down',\n",
       " 'in',\n",
       " 'out',\n",
       " 'on',\n",
       " 'off',\n",
       " 'over',\n",
       " 'under',\n",
       " 'again',\n",
       " 'further',\n",
       " 'then',\n",
       " 'once',\n",
       " 'here',\n",
       " 'there',\n",
       " 'when',\n",
       " 'where',\n",
       " 'why',\n",
       " 'how',\n",
       " 'all',\n",
       " 'any',\n",
       " 'both',\n",
       " 'each',\n",
       " 'few',\n",
       " 'more',\n",
       " 'most',\n",
       " 'other',\n",
       " 'some',\n",
       " 'such',\n",
       " 'no',\n",
       " 'nor',\n",
       " 'not',\n",
       " 'only',\n",
       " 'own',\n",
       " 'same',\n",
       " 'so',\n",
       " 'than',\n",
       " 'too',\n",
       " 'very',\n",
       " 's',\n",
       " 't',\n",
       " 'can',\n",
       " 'will',\n",
       " 'just',\n",
       " 'don',\n",
       " \"don't\",\n",
       " 'should',\n",
       " \"should've\",\n",
       " 'now',\n",
       " 'd',\n",
       " 'll',\n",
       " 'm',\n",
       " 'o',\n",
       " 're',\n",
       " 've',\n",
       " 'y',\n",
       " 'ain',\n",
       " 'aren',\n",
       " \"aren't\",\n",
       " 'couldn',\n",
       " \"couldn't\",\n",
       " 'didn',\n",
       " \"didn't\",\n",
       " 'doesn',\n",
       " \"doesn't\",\n",
       " 'hadn',\n",
       " \"hadn't\",\n",
       " 'hasn',\n",
       " \"hasn't\",\n",
       " 'haven',\n",
       " \"haven't\",\n",
       " 'isn',\n",
       " \"isn't\",\n",
       " 'ma',\n",
       " 'mightn',\n",
       " \"mightn't\",\n",
       " 'mustn',\n",
       " \"mustn't\",\n",
       " 'needn',\n",
       " \"needn't\",\n",
       " 'shan',\n",
       " \"shan't\",\n",
       " 'shouldn',\n",
       " \"shouldn't\",\n",
       " 'wasn',\n",
       " \"wasn't\",\n",
       " 'weren',\n",
       " \"weren't\",\n",
       " 'won',\n",
       " \"won't\",\n",
       " 'wouldn',\n",
       " \"wouldn't\"]"
      ]
     },
     "execution_count": 37,
     "metadata": {},
     "output_type": "execute_result"
    }
   ],
   "source": [
    "# Load Stopwords\n",
    "stop_words = stopwords.words('english')\n",
    "\n",
    "stop_words"
   ]
  },
  {
   "cell_type": "code",
   "execution_count": 41,
   "id": "b01bbfcd",
   "metadata": {},
   "outputs": [
    {
     "data": {
      "text/plain": [
       "['You',\n",
       " '’',\n",
       " 'connect',\n",
       " 'dots',\n",
       " 'looking',\n",
       " 'forward',\n",
       " ';',\n",
       " 'connect',\n",
       " 'looking',\n",
       " 'backwards',\n",
       " '.']"
      ]
     },
     "execution_count": 41,
     "metadata": {},
     "output_type": "execute_result"
    }
   ],
   "source": [
    "# Get words without nStopwords\n",
    "filtered_words = [word for word in tokenized_words if word not in stop_words]\n",
    "\n",
    "filtered_words"
   ]
  },
  {
   "cell_type": "code",
   "execution_count": 39,
   "id": "a9c0fec0",
   "metadata": {},
   "outputs": [
    {
     "data": {
      "text/plain": [
       "['i', 'me', 'my', 'myself', 'we']"
      ]
     },
     "execution_count": 39,
     "metadata": {},
     "output_type": "execute_result"
    }
   ],
   "source": [
    "# Check stopwords\n",
    "stop_data = stop_words[:5]\n",
    "stop_data"
   ]
  },
  {
   "cell_type": "code",
   "execution_count": 43,
   "id": "ee6d7769",
   "metadata": {},
   "outputs": [
    {
     "name": "stdout",
     "output_type": "stream",
     "text": [
      "A list of stopwords:  ['i', 'me', 'my', 'myself', 'we']\n",
      "A result of remving stopwords:  ['You', '’', 'connect', 'dots', 'looking', 'forward', ';', 'connect', 'looking', 'backwards', '.']\n"
     ]
    }
   ],
   "source": [
    "# Result\n",
    "print('A list of stopwords: ', stop_data)\n",
    "print('A result of remving stopwords: ', filtered_words)"
   ]
  },
  {
   "cell_type": "markdown",
   "id": "9f8ef547",
   "metadata": {},
   "source": [
    "# 4. Stem Porters"
   ]
  },
  {
   "cell_type": "code",
   "execution_count": 44,
   "id": "1a38ad96",
   "metadata": {},
   "outputs": [],
   "source": [
    "# Import modules\n",
    "from nltk.stem.porter import PorterStemmer"
   ]
  },
  {
   "cell_type": "code",
   "execution_count": 49,
   "id": "5fa8363c",
   "metadata": {},
   "outputs": [
    {
     "data": {
      "text/plain": [
       "['i', 'am', 'humbled', 'by', 'traditional', 'meetings']"
      ]
     },
     "execution_count": 49,
     "metadata": {},
     "output_type": "execute_result"
    }
   ],
   "source": [
    "# Generate text\n",
    "tokenized_words = ['i', 'am', 'humbled', 'by', 'traditional', 'meetings']\n",
    "\n",
    "tokenized_words"
   ]
  },
  {
   "cell_type": "code",
   "execution_count": 50,
   "id": "000343ed",
   "metadata": {},
   "outputs": [],
   "source": [
    "# Generate Porter Stemmer\n",
    "porter = PorterStemmer()\n",
    "word_list_temp = []"
   ]
  },
  {
   "cell_type": "code",
   "execution_count": 51,
   "id": "3311d1b5",
   "metadata": {},
   "outputs": [
    {
     "data": {
      "text/plain": [
       "['i', 'am', 'humbl', 'by', 'tradit', 'meet']"
      ]
     },
     "execution_count": 51,
     "metadata": {},
     "output_type": "execute_result"
    }
   ],
   "source": [
    "# Load Porter Stemmer\n",
    "for word in tokenized_words:\n",
    "    word_list_temp.append(porter.stem(word))\n",
    "    \n",
    "word_list_temp"
   ]
  },
  {
   "cell_type": "markdown",
   "id": "e7a2b776",
   "metadata": {},
   "source": [
    "# 5. Tag Part of Speech"
   ]
  },
  {
   "cell_type": "code",
   "execution_count": 53,
   "id": "f6c13750",
   "metadata": {},
   "outputs": [],
   "source": [
    "# Import modules\n",
    "import nltk\n",
    "from nltk import pos_tag\n",
    "from nltk import word_tokenize"
   ]
  },
  {
   "cell_type": "code",
   "execution_count": 56,
   "id": "130cc0f0",
   "metadata": {},
   "outputs": [
    {
     "name": "stderr",
     "output_type": "stream",
     "text": [
      "[nltk_data] Downloading package averaged_perceptron_tagger to\n",
      "[nltk_data]     C:\\Users\\genih\\AppData\\Roaming\\nltk_data...\n",
      "[nltk_data]   Unzipping taggers\\averaged_perceptron_tagger.zip.\n"
     ]
    },
    {
     "data": {
      "text/plain": [
       "True"
      ]
     },
     "execution_count": 56,
     "metadata": {},
     "output_type": "execute_result"
    }
   ],
   "source": [
    "# Download Tagger data\n",
    "nltk.download('averaged_perceptron_tagger')"
   ]
  },
  {
   "cell_type": "code",
   "execution_count": 58,
   "id": "5ddff501",
   "metadata": {},
   "outputs": [
    {
     "data": {
      "text/plain": [
       "'Chris loved outdoor running'"
      ]
     },
     "execution_count": 58,
     "metadata": {},
     "output_type": "execute_result"
    }
   ],
   "source": [
    "# Generate text\n",
    "text_data_tagger = 'Chris loved outdoor running'\n",
    "\n",
    "text_data_tagger"
   ]
  },
  {
   "cell_type": "code",
   "execution_count": 60,
   "id": "aaf7d1b9",
   "metadata": {},
   "outputs": [
    {
     "data": {
      "text/plain": [
       "[('Chris', 'NNP'), ('loved', 'VBD'), ('outdoor', 'RP'), ('running', 'VBG')]"
      ]
     },
     "execution_count": 60,
     "metadata": {},
     "output_type": "execute_result"
    }
   ],
   "source": [
    "# Tag pre-trainned taggers\n",
    "text_tagged = pos_tag(word_tokenize(text_data_tagger))\n",
    "\n",
    "text_tagged"
   ]
  },
  {
   "cell_type": "markdown",
   "id": "0e3b1589",
   "metadata": {},
   "source": [
    "# 6. Weights based on Importance"
   ]
  },
  {
   "cell_type": "code",
   "execution_count": 62,
   "id": "31b70e54",
   "metadata": {},
   "outputs": [],
   "source": [
    "# Import modules\n",
    "import numpy as np\n",
    "from sklearn.feature_extraction.text import TfidfVectorizer"
   ]
  },
  {
   "cell_type": "code",
   "execution_count": 63,
   "id": "0f155d02",
   "metadata": {},
   "outputs": [
    {
     "data": {
      "text/plain": [
       "array(['I love Apple. Apple!', 'Banana is my favourite!',\n",
       "       'Carrot is just okay :('], dtype='<U23')"
      ]
     },
     "execution_count": 63,
     "metadata": {},
     "output_type": "execute_result"
    }
   ],
   "source": [
    "# Generate data\n",
    "text_data = np.array((['I love Apple. Apple!',\n",
    "                      'Banana is my favourite!',\n",
    "                      'Carrot is just okay :(']))\n",
    "\n",
    "text_data"
   ]
  },
  {
   "cell_type": "code",
   "execution_count": 82,
   "id": "a286b9c7",
   "metadata": {},
   "outputs": [
    {
     "data": {
      "text/plain": [
       "array([[0.89442719, 0.        , 0.        , 0.        , 0.        ,\n",
       "        0.        , 0.4472136 , 0.        , 0.        ],\n",
       "       [0.        , 0.52863461, 0.        , 0.52863461, 0.40204024,\n",
       "        0.        , 0.        , 0.52863461, 0.        ],\n",
       "       [0.        , 0.        , 0.52863461, 0.        , 0.40204024,\n",
       "        0.52863461, 0.        , 0.        , 0.52863461]])"
      ]
     },
     "execution_count": 82,
     "metadata": {},
     "output_type": "execute_result"
    }
   ],
   "source": [
    "# Generate a tf-idf matrix\n",
    "tfidf = TfidfVectorizer()\n",
    "\n",
    "feature_matrix = tfidf.fit_transform(text_data)\n",
    "feature_matrix  # Check the tf-idf matrix\n",
    "feature_matrix.toarray()  # Check the dense array"
   ]
  },
  {
   "cell_type": "code",
   "execution_count": 84,
   "id": "c8be0be7",
   "metadata": {},
   "outputs": [
    {
     "data": {
      "text/plain": [
       "{'love': 6,\n",
       " 'apple': 0,\n",
       " 'banana': 1,\n",
       " 'is': 4,\n",
       " 'my': 7,\n",
       " 'favourite': 3,\n",
       " 'carrot': 2,\n",
       " 'just': 5,\n",
       " 'okay': 8}"
      ]
     },
     "execution_count": 84,
     "metadata": {},
     "output_type": "execute_result"
    }
   ],
   "source": [
    "# Check names of features\n",
    "tf = tfidf.vocabulary_\n",
    "\n",
    "tf"
   ]
  }
 ],
 "metadata": {
  "kernelspec": {
   "display_name": "AI",
   "language": "python",
   "name": "ai"
  },
  "language_info": {
   "codemirror_mode": {
    "name": "ipython",
    "version": 3
   },
   "file_extension": ".py",
   "mimetype": "text/x-python",
   "name": "python",
   "nbconvert_exporter": "python",
   "pygments_lexer": "ipython3",
   "version": "3.8.16"
  }
 },
 "nbformat": 4,
 "nbformat_minor": 5
}
