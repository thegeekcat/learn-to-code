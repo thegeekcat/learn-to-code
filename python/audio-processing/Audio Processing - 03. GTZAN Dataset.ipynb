{
 "cells": [
  {
   "cell_type": "code",
   "execution_count": 1,
   "id": "89c1c035",
   "metadata": {},
   "outputs": [
    {
     "name": "stdout",
     "output_type": "stream",
     "text": [
      "Defaulting to user installation because normal site-packages is not writeable\n",
      "Collecting librosa\n",
      "  Downloading librosa-0.10.0.post2-py3-none-any.whl (253 kB)\n",
      "     -------------------------------------- 253.0/253.0 kB 5.2 MB/s eta 0:00:00\n",
      "Requirement already satisfied: scikit-learn>=0.20.0 in c:\\mine\\programming\\anaconda3\\lib\\site-packages (from librosa) (1.2.1)\n",
      "Collecting audioread>=2.1.9\n",
      "  Using cached audioread-3.0.0.tar.gz (377 kB)\n",
      "  Preparing metadata (setup.py): started\n",
      "  Preparing metadata (setup.py): finished with status 'done'\n",
      "Requirement already satisfied: numba>=0.51.0 in c:\\mine\\programming\\anaconda3\\lib\\site-packages (from librosa) (0.56.4)\n",
      "Requirement already satisfied: joblib>=0.14 in c:\\mine\\programming\\anaconda3\\lib\\site-packages (from librosa) (1.1.1)\n",
      "Requirement already satisfied: decorator>=4.3.0 in c:\\mine\\programming\\anaconda3\\lib\\site-packages (from librosa) (5.1.1)\n",
      "Collecting soundfile>=0.12.1\n",
      "  Using cached soundfile-0.12.1-py2.py3-none-win_amd64.whl (1.0 MB)\n",
      "Requirement already satisfied: scipy>=1.2.0 in c:\\mine\\programming\\anaconda3\\lib\\site-packages (from librosa) (1.10.0)\n",
      "Requirement already satisfied: numpy!=1.22.0,!=1.22.1,!=1.22.2,>=1.20.3 in c:\\mine\\programming\\anaconda3\\lib\\site-packages (from librosa) (1.23.5)\n",
      "Collecting soxr>=0.3.2\n",
      "  Downloading soxr-0.3.5-cp310-cp310-win_amd64.whl (184 kB)\n",
      "     -------------------------------------- 184.0/184.0 kB 2.8 MB/s eta 0:00:00\n",
      "Requirement already satisfied: typing-extensions>=4.1.1 in c:\\mine\\programming\\anaconda3\\lib\\site-packages (from librosa) (4.4.0)\n",
      "Requirement already satisfied: pooch<1.7,>=1.0 in c:\\mine\\programming\\anaconda3\\lib\\site-packages (from librosa) (1.4.0)\n",
      "Requirement already satisfied: msgpack>=1.0 in c:\\mine\\programming\\anaconda3\\lib\\site-packages (from librosa) (1.0.3)\n",
      "Collecting lazy-loader>=0.1\n",
      "  Using cached lazy_loader-0.2-py3-none-any.whl (8.6 kB)\n",
      "Requirement already satisfied: llvmlite<0.40,>=0.39.0dev0 in c:\\mine\\programming\\anaconda3\\lib\\site-packages (from numba>=0.51.0->librosa) (0.39.1)\n",
      "Requirement already satisfied: setuptools in c:\\mine\\programming\\anaconda3\\lib\\site-packages (from numba>=0.51.0->librosa) (65.6.3)\n",
      "Requirement already satisfied: packaging in c:\\mine\\programming\\anaconda3\\lib\\site-packages (from pooch<1.7,>=1.0->librosa) (22.0)\n",
      "Requirement already satisfied: appdirs in c:\\mine\\programming\\anaconda3\\lib\\site-packages (from pooch<1.7,>=1.0->librosa) (1.4.4)\n",
      "Requirement already satisfied: requests in c:\\mine\\programming\\anaconda3\\lib\\site-packages (from pooch<1.7,>=1.0->librosa) (2.28.1)\n",
      "Requirement already satisfied: threadpoolctl>=2.0.0 in c:\\mine\\programming\\anaconda3\\lib\\site-packages (from scikit-learn>=0.20.0->librosa) (2.2.0)\n",
      "Requirement already satisfied: cffi>=1.0 in c:\\mine\\programming\\anaconda3\\lib\\site-packages (from soundfile>=0.12.1->librosa) (1.15.1)\n",
      "Requirement already satisfied: pycparser in c:\\mine\\programming\\anaconda3\\lib\\site-packages (from cffi>=1.0->soundfile>=0.12.1->librosa) (2.21)\n",
      "Requirement already satisfied: urllib3<1.27,>=1.21.1 in c:\\mine\\programming\\anaconda3\\lib\\site-packages (from requests->pooch<1.7,>=1.0->librosa) (1.26.14)\n",
      "Requirement already satisfied: charset-normalizer<3,>=2 in c:\\mine\\programming\\anaconda3\\lib\\site-packages (from requests->pooch<1.7,>=1.0->librosa) (2.0.4)\n",
      "Requirement already satisfied: idna<4,>=2.5 in c:\\mine\\programming\\anaconda3\\lib\\site-packages (from requests->pooch<1.7,>=1.0->librosa) (3.4)\n",
      "Requirement already satisfied: certifi>=2017.4.17 in c:\\mine\\programming\\anaconda3\\lib\\site-packages (from requests->pooch<1.7,>=1.0->librosa) (2022.12.7)\n",
      "Building wheels for collected packages: audioread\n",
      "  Building wheel for audioread (setup.py): started\n",
      "  Building wheel for audioread (setup.py): finished with status 'done'\n",
      "  Created wheel for audioread: filename=audioread-3.0.0-py3-none-any.whl size=23736 sha256=8c9f5bb18d2640ce28a294766a6be81d0421cdb577da416e9ca961b5b1774401\n",
      "  Stored in directory: c:\\users\\genih\\appdata\\local\\pip\\cache\\wheels\\3d\\e0\\4b\\51b8aa4a0e2b6361c14943f7a7c2c7adb7b9cd419e0a1b720d\n",
      "Successfully built audioread\n",
      "Installing collected packages: soxr, lazy-loader, audioread, soundfile, librosa\n",
      "Successfully installed audioread-3.0.0 lazy-loader-0.2 librosa-0.10.0.post2 soundfile-0.12.1 soxr-0.3.5\n"
     ]
    }
   ],
   "source": [
    "# Install modules\n",
    "!pip install librosa\n"
   ]
  },
  {
   "cell_type": "markdown",
   "id": "42f07fc5",
   "metadata": {},
   "source": [
    "# 1. Audio Data to Waveshow with Augmentations"
   ]
  },
  {
   "cell_type": "markdown",
   "id": "8ea8c1ce",
   "metadata": {},
   "source": [
    "### Preparation"
   ]
  },
  {
   "cell_type": "code",
   "execution_count": 2,
   "id": "2420b96d",
   "metadata": {},
   "outputs": [],
   "source": [
    "# Import modules\n",
    "import matplotlib.pyplot as plt\n",
    "import os\n",
    "import numpy as np\n",
    "import random\n",
    "\n",
    "import IPython\n",
    "from PIL import Image\n",
    "\n",
    "\n",
    "import librosa\n",
    "import librosa.display"
   ]
  },
  {
   "cell_type": "markdown",
   "id": "a6a9358c",
   "metadata": {},
   "source": [
    "### Load an Audio File"
   ]
  },
  {
   "cell_type": "code",
   "execution_count": 3,
   "id": "cfa7dd3a",
   "metadata": {},
   "outputs": [
    {
     "name": "stderr",
     "output_type": "stream",
     "text": [
      "C:\\Users\\genih\\AppData\\Local\\Temp\\ipykernel_13520\\356343347.py:5: UserWarning: PySoundFile failed. Trying audioread instead.\n",
      "  data, sr = librosa.load(file_path)  # data: timeseries data, sr = sampling rate\n",
      "C:\\Users\\genih\\AppData\\Roaming\\Python\\Python38\\site-packages\\librosa\\core\\audio.py:184: FutureWarning: librosa.core.audio.__audioread_load\n",
      "\tDeprecated as of librosa version 0.10.0.\n",
      "\tIt will be removed in librosa version 1.0.\n",
      "  y, sr_native = __audioread_load(path, offset, duration, dtype)\n"
     ]
    },
    {
     "ename": "FileNotFoundError",
     "evalue": "[Errno 2] No such file or directory: './data/0620-blues.00000.wav'",
     "output_type": "error",
     "traceback": [
      "\u001b[1;31m---------------------------------------------------------------------------\u001b[0m",
      "\u001b[1;31mLibsndfileError\u001b[0m                           Traceback (most recent call last)",
      "File \u001b[1;32m~\\AppData\\Roaming\\Python\\Python38\\site-packages\\librosa\\core\\audio.py:176\u001b[0m, in \u001b[0;36mload\u001b[1;34m(path, sr, mono, offset, duration, dtype, res_type)\u001b[0m\n\u001b[0;32m    175\u001b[0m \u001b[38;5;28;01mtry\u001b[39;00m:\n\u001b[1;32m--> 176\u001b[0m     y, sr_native \u001b[38;5;241m=\u001b[39m \u001b[43m__soundfile_load\u001b[49m\u001b[43m(\u001b[49m\u001b[43mpath\u001b[49m\u001b[43m,\u001b[49m\u001b[43m \u001b[49m\u001b[43moffset\u001b[49m\u001b[43m,\u001b[49m\u001b[43m \u001b[49m\u001b[43mduration\u001b[49m\u001b[43m,\u001b[49m\u001b[43m \u001b[49m\u001b[43mdtype\u001b[49m\u001b[43m)\u001b[49m\n\u001b[0;32m    178\u001b[0m \u001b[38;5;28;01mexcept\u001b[39;00m sf\u001b[38;5;241m.\u001b[39mSoundFileRuntimeError \u001b[38;5;28;01mas\u001b[39;00m exc:\n\u001b[0;32m    179\u001b[0m     \u001b[38;5;66;03m# If soundfile failed, try audioread instead\u001b[39;00m\n",
      "File \u001b[1;32m~\\AppData\\Roaming\\Python\\Python38\\site-packages\\librosa\\core\\audio.py:209\u001b[0m, in \u001b[0;36m__soundfile_load\u001b[1;34m(path, offset, duration, dtype)\u001b[0m\n\u001b[0;32m    207\u001b[0m \u001b[38;5;28;01melse\u001b[39;00m:\n\u001b[0;32m    208\u001b[0m     \u001b[38;5;66;03m# Otherwise, create the soundfile object\u001b[39;00m\n\u001b[1;32m--> 209\u001b[0m     context \u001b[38;5;241m=\u001b[39m \u001b[43msf\u001b[49m\u001b[38;5;241;43m.\u001b[39;49m\u001b[43mSoundFile\u001b[49m\u001b[43m(\u001b[49m\u001b[43mpath\u001b[49m\u001b[43m)\u001b[49m\n\u001b[0;32m    211\u001b[0m \u001b[38;5;28;01mwith\u001b[39;00m context \u001b[38;5;28;01mas\u001b[39;00m sf_desc:\n",
      "File \u001b[1;32m~\\AppData\\Roaming\\Python\\Python38\\site-packages\\soundfile.py:658\u001b[0m, in \u001b[0;36mSoundFile.__init__\u001b[1;34m(self, file, mode, samplerate, channels, subtype, endian, format, closefd)\u001b[0m\n\u001b[0;32m    656\u001b[0m \u001b[38;5;28mself\u001b[39m\u001b[38;5;241m.\u001b[39m_info \u001b[38;5;241m=\u001b[39m _create_info_struct(file, mode, samplerate, channels,\n\u001b[0;32m    657\u001b[0m                                  \u001b[38;5;28mformat\u001b[39m, subtype, endian)\n\u001b[1;32m--> 658\u001b[0m \u001b[38;5;28mself\u001b[39m\u001b[38;5;241m.\u001b[39m_file \u001b[38;5;241m=\u001b[39m \u001b[38;5;28;43mself\u001b[39;49m\u001b[38;5;241;43m.\u001b[39;49m\u001b[43m_open\u001b[49m\u001b[43m(\u001b[49m\u001b[43mfile\u001b[49m\u001b[43m,\u001b[49m\u001b[43m \u001b[49m\u001b[43mmode_int\u001b[49m\u001b[43m,\u001b[49m\u001b[43m \u001b[49m\u001b[43mclosefd\u001b[49m\u001b[43m)\u001b[49m\n\u001b[0;32m    659\u001b[0m \u001b[38;5;28;01mif\u001b[39;00m \u001b[38;5;28mset\u001b[39m(mode)\u001b[38;5;241m.\u001b[39missuperset(\u001b[38;5;124m'\u001b[39m\u001b[38;5;124mr+\u001b[39m\u001b[38;5;124m'\u001b[39m) \u001b[38;5;129;01mand\u001b[39;00m \u001b[38;5;28mself\u001b[39m\u001b[38;5;241m.\u001b[39mseekable():\n\u001b[0;32m    660\u001b[0m     \u001b[38;5;66;03m# Move write position to 0 (like in Python file objects)\u001b[39;00m\n",
      "File \u001b[1;32m~\\AppData\\Roaming\\Python\\Python38\\site-packages\\soundfile.py:1216\u001b[0m, in \u001b[0;36mSoundFile._open\u001b[1;34m(self, file, mode_int, closefd)\u001b[0m\n\u001b[0;32m   1215\u001b[0m     err \u001b[38;5;241m=\u001b[39m _snd\u001b[38;5;241m.\u001b[39msf_error(file_ptr)\n\u001b[1;32m-> 1216\u001b[0m     \u001b[38;5;28;01mraise\u001b[39;00m LibsndfileError(err, prefix\u001b[38;5;241m=\u001b[39m\u001b[38;5;124m\"\u001b[39m\u001b[38;5;124mError opening \u001b[39m\u001b[38;5;132;01m{0!r}\u001b[39;00m\u001b[38;5;124m: \u001b[39m\u001b[38;5;124m\"\u001b[39m\u001b[38;5;241m.\u001b[39mformat(\u001b[38;5;28mself\u001b[39m\u001b[38;5;241m.\u001b[39mname))\n\u001b[0;32m   1217\u001b[0m \u001b[38;5;28;01mif\u001b[39;00m mode_int \u001b[38;5;241m==\u001b[39m _snd\u001b[38;5;241m.\u001b[39mSFM_WRITE:\n\u001b[0;32m   1218\u001b[0m     \u001b[38;5;66;03m# Due to a bug in libsndfile version <= 1.0.25, frames != 0\u001b[39;00m\n\u001b[0;32m   1219\u001b[0m     \u001b[38;5;66;03m# when opening a named pipe in SFM_WRITE mode.\u001b[39;00m\n\u001b[0;32m   1220\u001b[0m     \u001b[38;5;66;03m# See http://github.com/erikd/libsndfile/issues/77.\u001b[39;00m\n",
      "\u001b[1;31mLibsndfileError\u001b[0m: Error opening './data/0620-blues.00000.wav': System error.",
      "\nDuring handling of the above exception, another exception occurred:\n",
      "\u001b[1;31mFileNotFoundError\u001b[0m                         Traceback (most recent call last)",
      "Cell \u001b[1;32mIn[3], line 5\u001b[0m\n\u001b[0;32m      2\u001b[0m file_path \u001b[38;5;241m=\u001b[39m \u001b[38;5;124m'\u001b[39m\u001b[38;5;124m./data/0620-blues.00000.wav\u001b[39m\u001b[38;5;124m'\u001b[39m\n\u001b[0;32m      4\u001b[0m \u001b[38;5;66;03m# Load and decode the file\u001b[39;00m\n\u001b[1;32m----> 5\u001b[0m data, sr \u001b[38;5;241m=\u001b[39m \u001b[43mlibrosa\u001b[49m\u001b[38;5;241;43m.\u001b[39;49m\u001b[43mload\u001b[49m\u001b[43m(\u001b[49m\u001b[43mfile_path\u001b[49m\u001b[43m)\u001b[49m  \u001b[38;5;66;03m# data: timeseries data, sr = sampling rate\u001b[39;00m\n\u001b[0;32m      6\u001b[0m \u001b[38;5;28mprint\u001b[39m(data, sr)\n",
      "File \u001b[1;32m~\\AppData\\Roaming\\Python\\Python38\\site-packages\\librosa\\core\\audio.py:184\u001b[0m, in \u001b[0;36mload\u001b[1;34m(path, sr, mono, offset, duration, dtype, res_type)\u001b[0m\n\u001b[0;32m    180\u001b[0m \u001b[38;5;28;01mif\u001b[39;00m \u001b[38;5;28misinstance\u001b[39m(path, (\u001b[38;5;28mstr\u001b[39m, pathlib\u001b[38;5;241m.\u001b[39mPurePath)):\n\u001b[0;32m    181\u001b[0m     warnings\u001b[38;5;241m.\u001b[39mwarn(\n\u001b[0;32m    182\u001b[0m         \u001b[38;5;124m\"\u001b[39m\u001b[38;5;124mPySoundFile failed. Trying audioread instead.\u001b[39m\u001b[38;5;124m\"\u001b[39m, stacklevel\u001b[38;5;241m=\u001b[39m\u001b[38;5;241m2\u001b[39m\n\u001b[0;32m    183\u001b[0m     )\n\u001b[1;32m--> 184\u001b[0m     y, sr_native \u001b[38;5;241m=\u001b[39m \u001b[43m__audioread_load\u001b[49m\u001b[43m(\u001b[49m\u001b[43mpath\u001b[49m\u001b[43m,\u001b[49m\u001b[43m \u001b[49m\u001b[43moffset\u001b[49m\u001b[43m,\u001b[49m\u001b[43m \u001b[49m\u001b[43mduration\u001b[49m\u001b[43m,\u001b[49m\u001b[43m \u001b[49m\u001b[43mdtype\u001b[49m\u001b[43m)\u001b[49m\n\u001b[0;32m    185\u001b[0m \u001b[38;5;28;01melse\u001b[39;00m:\n\u001b[0;32m    186\u001b[0m     \u001b[38;5;28;01mraise\u001b[39;00m exc\n",
      "File \u001b[1;32mC:\\Mine\\Programming\\anaconda3\\envs\\AI\\lib\\site-packages\\decorator.py:232\u001b[0m, in \u001b[0;36mdecorate.<locals>.fun\u001b[1;34m(*args, **kw)\u001b[0m\n\u001b[0;32m    230\u001b[0m \u001b[38;5;28;01mif\u001b[39;00m \u001b[38;5;129;01mnot\u001b[39;00m kwsyntax:\n\u001b[0;32m    231\u001b[0m     args, kw \u001b[38;5;241m=\u001b[39m fix(args, kw, sig)\n\u001b[1;32m--> 232\u001b[0m \u001b[38;5;28;01mreturn\u001b[39;00m \u001b[43mcaller\u001b[49m\u001b[43m(\u001b[49m\u001b[43mfunc\u001b[49m\u001b[43m,\u001b[49m\u001b[43m \u001b[49m\u001b[38;5;241;43m*\u001b[39;49m\u001b[43m(\u001b[49m\u001b[43mextras\u001b[49m\u001b[43m \u001b[49m\u001b[38;5;241;43m+\u001b[39;49m\u001b[43m \u001b[49m\u001b[43margs\u001b[49m\u001b[43m)\u001b[49m\u001b[43m,\u001b[49m\u001b[43m \u001b[49m\u001b[38;5;241;43m*\u001b[39;49m\u001b[38;5;241;43m*\u001b[39;49m\u001b[43mkw\u001b[49m\u001b[43m)\u001b[49m\n",
      "File \u001b[1;32m~\\AppData\\Roaming\\Python\\Python38\\site-packages\\librosa\\util\\decorators.py:60\u001b[0m, in \u001b[0;36mdeprecated.<locals>.__wrapper\u001b[1;34m(func, *args, **kwargs)\u001b[0m\n\u001b[0;32m     51\u001b[0m \u001b[38;5;250m\u001b[39m\u001b[38;5;124;03m\"\"\"Warn the user, and then proceed.\"\"\"\u001b[39;00m\n\u001b[0;32m     52\u001b[0m warnings\u001b[38;5;241m.\u001b[39mwarn(\n\u001b[0;32m     53\u001b[0m     \u001b[38;5;124m\"\u001b[39m\u001b[38;5;132;01m{:s}\u001b[39;00m\u001b[38;5;124m.\u001b[39m\u001b[38;5;132;01m{:s}\u001b[39;00m\u001b[38;5;130;01m\\n\u001b[39;00m\u001b[38;5;130;01m\\t\u001b[39;00m\u001b[38;5;124mDeprecated as of librosa version \u001b[39m\u001b[38;5;132;01m{:s}\u001b[39;00m\u001b[38;5;124m.\u001b[39m\u001b[38;5;124m\"\u001b[39m\n\u001b[0;32m     54\u001b[0m     \u001b[38;5;124m\"\u001b[39m\u001b[38;5;130;01m\\n\u001b[39;00m\u001b[38;5;130;01m\\t\u001b[39;00m\u001b[38;5;124mIt will be removed in librosa version \u001b[39m\u001b[38;5;132;01m{:s}\u001b[39;00m\u001b[38;5;124m.\u001b[39m\u001b[38;5;124m\"\u001b[39m\u001b[38;5;241m.\u001b[39mformat(\n\u001b[1;32m   (...)\u001b[0m\n\u001b[0;32m     58\u001b[0m     stacklevel\u001b[38;5;241m=\u001b[39m\u001b[38;5;241m3\u001b[39m,  \u001b[38;5;66;03m# Would be 2, but the decorator adds a level\u001b[39;00m\n\u001b[0;32m     59\u001b[0m )\n\u001b[1;32m---> 60\u001b[0m \u001b[38;5;28;01mreturn\u001b[39;00m \u001b[43mfunc\u001b[49m\u001b[43m(\u001b[49m\u001b[38;5;241;43m*\u001b[39;49m\u001b[43margs\u001b[49m\u001b[43m,\u001b[49m\u001b[43m \u001b[49m\u001b[38;5;241;43m*\u001b[39;49m\u001b[38;5;241;43m*\u001b[39;49m\u001b[43mkwargs\u001b[49m\u001b[43m)\u001b[49m\n",
      "File \u001b[1;32m~\\AppData\\Roaming\\Python\\Python38\\site-packages\\librosa\\core\\audio.py:241\u001b[0m, in \u001b[0;36m__audioread_load\u001b[1;34m(path, offset, duration, dtype)\u001b[0m\n\u001b[0;32m    238\u001b[0m     reader \u001b[38;5;241m=\u001b[39m path\n\u001b[0;32m    239\u001b[0m \u001b[38;5;28;01melse\u001b[39;00m:\n\u001b[0;32m    240\u001b[0m     \u001b[38;5;66;03m# If the input was not an audioread object, try to open it\u001b[39;00m\n\u001b[1;32m--> 241\u001b[0m     reader \u001b[38;5;241m=\u001b[39m \u001b[43maudioread\u001b[49m\u001b[38;5;241;43m.\u001b[39;49m\u001b[43maudio_open\u001b[49m\u001b[43m(\u001b[49m\u001b[43mpath\u001b[49m\u001b[43m)\u001b[49m\n\u001b[0;32m    243\u001b[0m \u001b[38;5;28;01mwith\u001b[39;00m reader \u001b[38;5;28;01mas\u001b[39;00m input_file:\n\u001b[0;32m    244\u001b[0m     sr_native \u001b[38;5;241m=\u001b[39m input_file\u001b[38;5;241m.\u001b[39msamplerate\n",
      "File \u001b[1;32m~\\AppData\\Roaming\\Python\\Python38\\site-packages\\audioread\\__init__.py:127\u001b[0m, in \u001b[0;36maudio_open\u001b[1;34m(path, backends)\u001b[0m\n\u001b[0;32m    125\u001b[0m \u001b[38;5;28;01mfor\u001b[39;00m BackendClass \u001b[38;5;129;01min\u001b[39;00m backends:\n\u001b[0;32m    126\u001b[0m     \u001b[38;5;28;01mtry\u001b[39;00m:\n\u001b[1;32m--> 127\u001b[0m         \u001b[38;5;28;01mreturn\u001b[39;00m \u001b[43mBackendClass\u001b[49m\u001b[43m(\u001b[49m\u001b[43mpath\u001b[49m\u001b[43m)\u001b[49m\n\u001b[0;32m    128\u001b[0m     \u001b[38;5;28;01mexcept\u001b[39;00m DecodeError:\n\u001b[0;32m    129\u001b[0m         \u001b[38;5;28;01mpass\u001b[39;00m\n",
      "File \u001b[1;32m~\\AppData\\Roaming\\Python\\Python38\\site-packages\\audioread\\rawread.py:59\u001b[0m, in \u001b[0;36mRawAudioFile.__init__\u001b[1;34m(self, filename)\u001b[0m\n\u001b[0;32m     58\u001b[0m \u001b[38;5;28;01mdef\u001b[39;00m \u001b[38;5;21m__init__\u001b[39m(\u001b[38;5;28mself\u001b[39m, filename):\n\u001b[1;32m---> 59\u001b[0m     \u001b[38;5;28mself\u001b[39m\u001b[38;5;241m.\u001b[39m_fh \u001b[38;5;241m=\u001b[39m \u001b[38;5;28;43mopen\u001b[39;49m\u001b[43m(\u001b[49m\u001b[43mfilename\u001b[49m\u001b[43m,\u001b[49m\u001b[43m \u001b[49m\u001b[38;5;124;43m'\u001b[39;49m\u001b[38;5;124;43mrb\u001b[39;49m\u001b[38;5;124;43m'\u001b[39;49m\u001b[43m)\u001b[49m\n\u001b[0;32m     61\u001b[0m     \u001b[38;5;28;01mtry\u001b[39;00m:\n\u001b[0;32m     62\u001b[0m         \u001b[38;5;28mself\u001b[39m\u001b[38;5;241m.\u001b[39m_file \u001b[38;5;241m=\u001b[39m aifc\u001b[38;5;241m.\u001b[39mopen(\u001b[38;5;28mself\u001b[39m\u001b[38;5;241m.\u001b[39m_fh)\n",
      "\u001b[1;31mFileNotFoundError\u001b[0m: [Errno 2] No such file or directory: './data/0620-blues.00000.wav'"
     ]
    }
   ],
   "source": [
    "# Set a path\n",
    "file_path = './data/0620-blues.00000.wav'\n",
    "\n",
    "# Load and decode the file\n",
    "data, sr = librosa.load(file_path)  # data: timeseries data, sr = sampling rate\n",
    "print(data, sr)"
   ]
  },
  {
   "cell_type": "code",
   "execution_count": null,
   "id": "00bae9a8",
   "metadata": {},
   "outputs": [],
   "source": [
    "# Play the audio in Jupyter Notebook\n",
    "IPython.display.Audio(data, rate = sr)"
   ]
  },
  {
   "cell_type": "markdown",
   "id": "ffd40c35",
   "metadata": {},
   "source": [
    "### Change Audio Files to Waveshow Format"
   ]
  },
  {
   "cell_type": "code",
   "execution_count": null,
   "id": "789ee10d",
   "metadata": {},
   "outputs": [],
   "source": [
    "# Save the Sound Wave as image files\n",
    "plt.figure(figsize = (12, 4))\n",
    "librosa.display.waveshow(data, color='purple')\n",
    "plt.axis('off') # Show off Axises in images\n",
    "plt.savefig('./data/0620-waveshow_original.png',\n",
    "            bbox_inches = 'tight',\n",
    "            pad_inches = 0)\n",
    "plt.close()\n",
    "\n",
    "# Visualization\n",
    "image = Image.open('./data/0620-waveshow_original.png').convert('RGB')\n",
    "plt.imshow(image)\n",
    "plt.title('Original Image')\n",
    "plt.show()"
   ]
  },
  {
   "cell_type": "markdown",
   "id": "aa384e38",
   "metadata": {},
   "source": [
    "### Extract Audio between 0 and 10 secs"
   ]
  },
  {
   "cell_type": "code",
   "execution_count": null,
   "id": "6844355e",
   "metadata": {},
   "outputs": [],
   "source": [
    "# Set parameters\n",
    "start_time = 0\n",
    "end_time = 10\n",
    "\n",
    "start_sample = sr * start_time  # 22050 * 0\n",
    "end_sample = sr * end_time      # 22050 * 10\n",
    "\n",
    "# Get extractions\n",
    "data_selected = data[start_sample : end_sample]\n",
    "print(data_selected)"
   ]
  },
  {
   "cell_type": "code",
   "execution_count": null,
   "id": "bc43ed5e",
   "metadata": {},
   "outputs": [],
   "source": [
    "# Save as image files\n",
    "plt.figure(figsize = (12, 4))\n",
    "librosa.display.waveshow(data_selected, color = 'purple')\n",
    "plt.axis('off')\n",
    "plt.savefig('./data/0620-waveshow_0-10secs.png',\n",
    "            bbox_inches = 'tight',\n",
    "            pad_inches = 0)\n",
    "plt.close()\n",
    "\n",
    "# Visualization\n",
    "image = Image.open('./data/0620-waveshow_0-10secs.png').convert('RGB')\n",
    "plt.imshow(image)\n",
    "plt.title('Original Image')\n",
    "plt.show()"
   ]
  },
  {
   "cell_type": "markdown",
   "id": "88de94f6",
   "metadata": {},
   "source": [
    "### Add Augmentation: Noise"
   ]
  },
  {
   "cell_type": "code",
   "execution_count": null,
   "id": "9d1869ac",
   "metadata": {},
   "outputs": [],
   "source": [
    "# Add noise\n",
    "noise = 0.05 * np.random.randn(* data_selected.shape)\n",
    "data_noise = data_selected + noise\n",
    "print(noise)\n",
    "print(data_noise)"
   ]
  },
  {
   "cell_type": "code",
   "execution_count": null,
   "id": "d5325132",
   "metadata": {},
   "outputs": [],
   "source": [
    "# Save as image files\n",
    "plt.figure(figsize = (12, 4))\n",
    "librosa.display.waveshow(data_noise, color = 'orange')\n",
    "plt.axis('off')\n",
    "plt.savefig('./data/0620-waveshow_noise.png',\n",
    "           bbox_inches = 'tight',\n",
    "           pad_inches = 0)\n",
    "plt.close()\n",
    "\n",
    "# Visualization\n",
    "image = Image.open('./data/0620-waveshow_0-10secs.png').convert('RGB')\n",
    "plt.imshow(image)\n",
    "plt.title('Original Image')\n",
    "plt.show()\n",
    "\n",
    "image_noise = Image.open('./data/0620-waveshow_noise.png').convert('RGB')\n",
    "plt.imshow(image_noise)\n",
    "plt.title('Augmentated Image: Noise')\n",
    "plt.show()"
   ]
  },
  {
   "cell_type": "markdown",
   "id": "91cec222",
   "metadata": {},
   "source": [
    "### Add Augmentation: Stretching "
   ]
  },
  {
   "cell_type": "code",
   "execution_count": null,
   "id": "02a33a34",
   "metadata": {},
   "outputs": [],
   "source": [
    "# Add Stretching\n",
    "data_stretched = librosa.effects.time_stretch(data_selected,\n",
    "                                              rate = 0.8)"
   ]
  },
  {
   "cell_type": "code",
   "execution_count": null,
   "id": "b4b05c75",
   "metadata": {},
   "outputs": [],
   "source": [
    "# Save as image files\n",
    "plt.figure(figsize = (12, 4))\n",
    "librosa.display.waveshow(data_stretched, color = 'green')\n",
    "plt.axis('off')\n",
    "plt.savefig('./data/0620-waveshow_stretch.png',\n",
    "            bbox_inches = 'tight',\n",
    "            pad_inches = 0)\n",
    "plt.close()\n",
    "\n",
    "# Visualization\n",
    "image = Image.open('./data/0620-waveshow_0-10secs.png').convert('RGB')\n",
    "plt.imshow(image)\n",
    "plt.title('Original Image')\n",
    "plt.show()\n",
    "\n",
    "image_noise = Image.open('./data/0620-waveshow_noise.png').convert('RGB')\n",
    "plt.imshow(image_noise)\n",
    "plt.title('Augmentated Image: Noise')\n",
    "plt.show()\n",
    "\n",
    "image_stretched = Image.open('./data/0620-waveshow_stretch.png')\n",
    "plt.imshow(image_stretched)\n",
    "plt.title('Add Augmentation: Stretch')\n",
    "plt.show()"
   ]
  },
  {
   "cell_type": "markdown",
   "id": "c2de900a",
   "metadata": {},
   "source": [
    "# 2. Audio Data to STFT (Short-Time Fourier Transform) with Augmentations"
   ]
  },
  {
   "cell_type": "markdown",
   "id": "d0a0de8a",
   "metadata": {},
   "source": [
    "### Preparation"
   ]
  },
  {
   "cell_type": "code",
   "execution_count": null,
   "id": "cd040525",
   "metadata": {},
   "outputs": [],
   "source": [
    "# Import modules\n",
    "import matplotlib.pyplot as plt\n",
    "import os\n",
    "import numpy as np\n",
    "import random\n",
    "\n",
    "import IPython\n",
    "from PIL import Image\n",
    "\n",
    "\n",
    "import librosa\n",
    "import librosa.display"
   ]
  },
  {
   "cell_type": "markdown",
   "id": "3a2cf3f1",
   "metadata": {},
   "source": [
    "### Load an Audio File"
   ]
  },
  {
   "cell_type": "code",
   "execution_count": null,
   "id": "1575b6e4",
   "metadata": {},
   "outputs": [],
   "source": [
    "# Set a path\n",
    "file_path = './data/0620-blues.00000.wav'\n",
    "\n",
    "# Load and decode the file\n",
    "data, sr = librosa.load(file_path)  # data: timeseries data, sr = sampling rate\n",
    "print(data)\n",
    "print(sr)"
   ]
  },
  {
   "cell_type": "code",
   "execution_count": null,
   "id": "745f9b1c",
   "metadata": {},
   "outputs": [],
   "source": [
    "# Play the audio in Jupyter Notebook\n",
    "IPython.display.Audio(data, rate = sr)"
   ]
  },
  {
   "cell_type": "markdown",
   "id": "ceb09f1f",
   "metadata": {},
   "source": [
    "### Change Audio Data to STFT"
   ]
  },
  {
   "cell_type": "code",
   "execution_count": null,
   "id": "9da37b4c",
   "metadata": {},
   "outputs": [],
   "source": [
    "# Calcualte STFT (Short-Time Fourier Transform)\n",
    "stft = librosa.stft(data)\n",
    "print(stft)"
   ]
  },
  {
   "cell_type": "code",
   "execution_count": null,
   "id": "eb8e5962",
   "metadata": {},
   "outputs": [],
   "source": [
    "# Convert the result of STFT to decibel scale\n",
    "stft_db = librosa.amplitude_to_db(abs(stft))  # 'abs()': Absolute number\n",
    "print(stft_db)"
   ]
  },
  {
   "cell_type": "markdown",
   "id": "3e8c11aa",
   "metadata": {},
   "source": [
    "### Save as image files"
   ]
  },
  {
   "cell_type": "code",
   "execution_count": null,
   "id": "47ec2f00",
   "metadata": {
    "scrolled": true
   },
   "outputs": [],
   "source": [
    "# Save as image files\n",
    "plt.figure(figsize = (12, 4))\n",
    "librosa.display.specshow(stft_db,\n",
    "                         sr = sr,\n",
    "                         x_axis = 'time',\n",
    "                         y_axis = 'hz')\n",
    "plt.axis('off')\n",
    "plt.savefig('./data/0620-stft_original.png',\n",
    "            bbox_inches = 'tight',\n",
    "            pad_inches = 0)\n",
    "plt.close()\n",
    "\n",
    "# Visualization\n",
    "image = Image.open('./data/0620-stft_original.png').convert('RGB')\n",
    "plt.imshow(image)\n",
    "plt.title('Original Image')\n",
    "plt.show()"
   ]
  },
  {
   "cell_type": "markdown",
   "id": "cb170642",
   "metadata": {},
   "source": [
    "### Extract Audio between 0 and 10 secs "
   ]
  },
  {
   "cell_type": "code",
   "execution_count": null,
   "id": "68f768d4",
   "metadata": {},
   "outputs": [],
   "source": [
    "# Set parameters\n",
    "start_time = 0\n",
    "end_time = 10\n",
    "\n",
    "start_sample = sr * start_time  # 22050 * 0\n",
    "end_sample = sr * end_time      # 22050 * 10\n",
    "\n",
    "# Get extractions\n",
    "data_stft_selected = data[start_sample : end_sample]\n",
    "print(data_stft_selected)"
   ]
  },
  {
   "cell_type": "code",
   "execution_count": null,
   "id": "b5940ef4",
   "metadata": {},
   "outputs": [],
   "source": [
    "# Calcualte STFT\n",
    "stft = librosa.stft(data_stft_selected)\n",
    "print(stft)"
   ]
  },
  {
   "cell_type": "code",
   "execution_count": null,
   "id": "3372afc8",
   "metadata": {},
   "outputs": [],
   "source": [
    "# change the result of STFT to decibel scale\n",
    "stft_db = librosa.amplitude_to_db(abs(stft))\n",
    "print(stft_db)"
   ]
  },
  {
   "cell_type": "code",
   "execution_count": null,
   "id": "17a24a06",
   "metadata": {},
   "outputs": [],
   "source": [
    "# Save as image files\n",
    "plt.figure(figsize = (12, 4))\n",
    "librosa.display.specshow(stft_db,\n",
    "                         sr = sr,\n",
    "                         x_axis = 'time',\n",
    "                         y_axis = 'hz')\n",
    "plt.axis('off')\n",
    "plt.savefig('./data/0620-stft_0-10secs.png',\n",
    "            bbox_inches = 'tight',\n",
    "            pad_inches = 0)\n",
    "plt.close()\n",
    "\n",
    "# Visualization\n",
    "image = Image.open('./data/0620-stft_0-10secs.png')\n",
    "plt.imshow(image)\n",
    "plt.title('Original STFT Image')\n",
    "plt.show()"
   ]
  },
  {
   "cell_type": "markdown",
   "id": "8eeef83a",
   "metadata": {},
   "source": [
    "### Add Augmentation: Noise "
   ]
  },
  {
   "cell_type": "code",
   "execution_count": null,
   "id": "b7857b55",
   "metadata": {},
   "outputs": [],
   "source": [
    "# Set parameters\n",
    "noise = 0.005 * np.random.rand(* data_stft_selected.shape)\n",
    "print(noise)"
   ]
  },
  {
   "cell_type": "code",
   "execution_count": null,
   "id": "df4aebd3",
   "metadata": {},
   "outputs": [],
   "source": [
    "# Add noise\n",
    "data_selected_noise = data_stft_selected + noise\n",
    "print(data_selected_noise)"
   ]
  },
  {
   "cell_type": "code",
   "execution_count": null,
   "id": "81ce31e7",
   "metadata": {},
   "outputs": [],
   "source": [
    "# Calculate STFT\n",
    "stft_noise = librosa.stft(data_selected_noise)\n",
    "print(stft_noise)"
   ]
  },
  {
   "cell_type": "code",
   "execution_count": null,
   "id": "f1afd575",
   "metadata": {},
   "outputs": [],
   "source": [
    "# Convert the result of STFT to decibel scale\n",
    "stft_db_noise = librosa.amplitude_to_db(abs(stft_noise))\n",
    "print(stft_db_noise)"
   ]
  },
  {
   "cell_type": "code",
   "execution_count": null,
   "id": "abfcaa8b",
   "metadata": {},
   "outputs": [],
   "source": [
    "# Save as image files\n",
    "plt.figure(figsize = (12, 4))\n",
    "librosa.display.specshow(stft_db_noise,\n",
    "                         sr = sr,\n",
    "                         x_axis = 'time',\n",
    "                         y_axis = 'hz')\n",
    "plt.axis('off')\n",
    "plt.savefig('./data/0620-stft_noise.png',\n",
    "            bbox_inches = 'tight',\n",
    "            pad_inches = 0)\n",
    "plt.close()\n",
    "\n",
    "# Visualization\n",
    "image = Image.open('./data/0620-stft_0-10secs.png')\n",
    "plt.imshow(image)\n",
    "plt.title('Original STFT Image')\n",
    "plt.show()\n",
    "\n",
    "image_noise = Image.open('./data/0620-stft_noise.png')\n",
    "plt.imshow(image_noise)\n",
    "plt.title('Augmented STFT Image: Noise')\n",
    "plt.show()"
   ]
  },
  {
   "cell_type": "markdown",
   "id": "57b05087",
   "metadata": {},
   "source": [
    "### Add Augmentation: Stretch "
   ]
  },
  {
   "cell_type": "code",
   "execution_count": null,
   "id": "714108bf",
   "metadata": {},
   "outputs": [],
   "source": [
    "# Set parameters\n",
    "rate = 0.8 + np.random.random() * 0.4  # Get random values between 0.8 and 1.2\n",
    "\n",
    "# Get stratched parts\n",
    "data_selected_stretched = librosa.effects.time_stretch(data_stft_selected,\n",
    "                                                       rate = rate)\n",
    "print(data_selected_stretched)"
   ]
  },
  {
   "cell_type": "code",
   "execution_count": null,
   "id": "1fd3cf84",
   "metadata": {},
   "outputs": [],
   "source": [
    "# Calcualte STFT\n",
    "stft_stretched = librosa.stft(data_selected_stretched)\n",
    "print(stft_stretched)"
   ]
  },
  {
   "cell_type": "code",
   "execution_count": null,
   "id": "dd17fe13",
   "metadata": {},
   "outputs": [],
   "source": [
    "# Convert the result of STFT to decibel scale\n",
    "stft_db_stretched = librosa.amplitude_to_db(abs(stft_stretched))\n",
    "print(stft_db_stretched)"
   ]
  },
  {
   "cell_type": "code",
   "execution_count": null,
   "id": "55707ec5",
   "metadata": {},
   "outputs": [],
   "source": [
    "# Save as image files\n",
    "plt.figure(figsize = (12, 4))\n",
    "librosa.display.specshow(stft_db_stretched,\n",
    "                         sr = sr,\n",
    "                         x_axis = 'time',\n",
    "                         y_axis = 'hz')\n",
    "plt.axis('off')\n",
    "plt.savefig('./data/0620-stft_stretch.png',\n",
    "            bbox_inches = 'tight',\n",
    "            pad_inches = 0)\n",
    "plt.close()\n",
    "\n",
    "\n",
    "# Visualization\n",
    "image = Image.open('./data/0620-stft_0-10secs.png')\n",
    "plt.imshow(image)\n",
    "plt.title('Original STFT Image')\n",
    "plt.show()\n",
    "\n",
    "image_noise = Image.open('./data/0620-stft_noise.png')\n",
    "plt.imshow(image_noise)\n",
    "plt.title('Augmented STFT Image: Noise')\n",
    "plt.show()\n",
    "\n",
    "image_stretched = Image.open('./data/0620-stft_stretch.png')\n",
    "plt.imshow(image_stretched)\n",
    "plt.title('Augmented STFT Image: Stretch')\n",
    "plt.show()"
   ]
  },
  {
   "cell_type": "markdown",
   "id": "f3ce50e4",
   "metadata": {},
   "source": [
    "# 4. Audio Data to Mel Spectrogram with Augmentations"
   ]
  },
  {
   "cell_type": "markdown",
   "id": "cea45b6d",
   "metadata": {},
   "source": [
    "- Spectrogram\n",
    "  - x-axis: Time, y-axis: Frequency"
   ]
  },
  {
   "cell_type": "markdown",
   "id": "fdb1be19",
   "metadata": {},
   "source": [
    "### Preparation"
   ]
  },
  {
   "cell_type": "code",
   "execution_count": null,
   "id": "7cb9e09e",
   "metadata": {},
   "outputs": [],
   "source": [
    "# Import modules\n",
    "import matplotlib.pyplot as plt\n",
    "import os\n",
    "import numpy as np\n",
    "import random\n",
    "\n",
    "import IPython\n",
    "from PIL import Image\n",
    "\n",
    "\n",
    "import librosa\n",
    "import librosa.display"
   ]
  },
  {
   "cell_type": "markdown",
   "id": "ca62f758",
   "metadata": {},
   "source": [
    "### Load an Audio File"
   ]
  },
  {
   "cell_type": "code",
   "execution_count": null,
   "id": "2990e56a",
   "metadata": {},
   "outputs": [],
   "source": [
    "# Set a path\n",
    "file_path = './data/0620-blues.00000.wav'\n",
    "\n",
    "# Load and decode the file\n",
    "data, sr = librosa.load(file_path)  # data: timeseries data, sr = sampling rate\n",
    "print(data, sr)"
   ]
  },
  {
   "cell_type": "code",
   "execution_count": null,
   "id": "038eb67e",
   "metadata": {},
   "outputs": [],
   "source": [
    "# Play the audio in Jupyter Notebook\n",
    "IPython.display.Audio(data, rate = sr)"
   ]
  },
  {
   "cell_type": "markdown",
   "id": "a2a655a4",
   "metadata": {},
   "source": [
    "### Change Audio File to Mel-Spectrogram"
   ]
  },
  {
   "cell_type": "code",
   "execution_count": null,
   "id": "da84ddee",
   "metadata": {},
   "outputs": [],
   "source": [
    "# Calculate STFT\n",
    "stft = librosa.stft(data)\n",
    "print(stft)"
   ]
  },
  {
   "cell_type": "code",
   "execution_count": null,
   "id": "2cda4650",
   "metadata": {},
   "outputs": [],
   "source": [
    "# Calculate Mel Spectrogram\n",
    "mel_spec = librosa.feature.melspectrogram(S = abs(stft))\n",
    "print(mel_spec)"
   ]
  },
  {
   "cell_type": "code",
   "execution_count": null,
   "id": "87207901",
   "metadata": {},
   "outputs": [],
   "source": [
    "# Convert the result of Mel Spectrogram to decibel scale\n",
    "mel_spec_db = librosa.amplitude_to_db(mel_spec,\n",
    "                                      ref = np.max)\n",
    "print(mel_spec_db)"
   ]
  },
  {
   "cell_type": "code",
   "execution_count": null,
   "id": "15e4c4a5",
   "metadata": {},
   "outputs": [],
   "source": [
    "# Save as image files\n",
    "plt.figure(figsize = (12, 4))\n",
    "librosa.display.specshow(mel_spec_db,\n",
    "                         sr = sr,\n",
    "                         x_axis = 'time',\n",
    "                         y_axis = 'mel')\n",
    "plt.axis('off')\n",
    "plt.savefig('./data/0620-mel_spectrogram_original.png',\n",
    "            bbox_inches = 'tight',\n",
    "            pad_inches = 0)\n",
    "plt.close()\n",
    "\n",
    "# Visualization\n",
    "image = Image.open('./data/0620-mel_spectrogram_original.png')\n",
    "plt.imshow(image)\n",
    "plt.title('Original Mel Spectrogram Image')\n",
    "plt.show()"
   ]
  },
  {
   "cell_type": "markdown",
   "id": "43b34ac2",
   "metadata": {},
   "source": [
    "### Extract Audio between 0 and 10 secs"
   ]
  },
  {
   "cell_type": "code",
   "execution_count": null,
   "id": "6bc08aaa",
   "metadata": {},
   "outputs": [],
   "source": [
    "# Set parameters\n",
    "start_time = 0\n",
    "end_time = 10\n",
    "\n",
    "start_sample = sr * start_time  # 22050 * 0\n",
    "end_sample = sr * end_time      # 22050 * 10\n",
    "\n",
    "# Get extractions\n",
    "data_stft_selected = data[start_sample : end_sample]\n",
    "print(data_stft_selected)"
   ]
  },
  {
   "cell_type": "code",
   "execution_count": null,
   "id": "7e94b3d5",
   "metadata": {},
   "outputs": [],
   "source": [
    "# Calculate STFT\n",
    "stft = librosa.stft(data_stft_selected)\n",
    "print(stft)"
   ]
  },
  {
   "cell_type": "code",
   "execution_count": null,
   "id": "e14a8d28",
   "metadata": {},
   "outputs": [],
   "source": [
    "# Calculate Mel Spectrogram\n",
    "mel_spec = librosa.feature.melspectrogram(S = abs(stft))\n",
    "print(mel_spec)"
   ]
  },
  {
   "cell_type": "code",
   "execution_count": null,
   "id": "4c5cb60e",
   "metadata": {},
   "outputs": [],
   "source": [
    "# Convert the result of Mel Spectrogram to decibel scale\n",
    "mel_spec_db = librosa.amplitude_to_db(mel_spec,\n",
    "                                      ref = np.max)\n",
    "print(mel_spec_db)"
   ]
  },
  {
   "cell_type": "code",
   "execution_count": null,
   "id": "cc1be93b",
   "metadata": {},
   "outputs": [],
   "source": [
    "# Save as image files\n",
    "plt.figure(figsize = (12, 4))\n",
    "librosa.display.specshow(mel_spec_db,\n",
    "                         sr = sr,\n",
    "                         x_axis = 'time',\n",
    "                         y_axis = 'mel')\n",
    "plt.axis('off')\n",
    "plt.savefig('./data/0620-mel_spectrogram_0-10secs.png',\n",
    "            bbox_inches = 'tight',\n",
    "            pad_inches = 0)\n",
    "plt.close()\n",
    "\n",
    "# Visualization\n",
    "image = Image.open('./data/0620-mel_spectrogram_0-10secs.png')\n",
    "plt.imshow(image)\n",
    "plt.title('Original Mel Spectrogram Image')\n",
    "plt.show()"
   ]
  },
  {
   "cell_type": "markdown",
   "id": "eb5e01cf",
   "metadata": {},
   "source": [
    "### Add Augmentation: Noise"
   ]
  },
  {
   "cell_type": "code",
   "execution_count": null,
   "id": "c51f99b7",
   "metadata": {},
   "outputs": [],
   "source": [
    "# Calculate STFT\n",
    "stft = librosa.stft(data_stft_selected)\n",
    "print(stft)"
   ]
  },
  {
   "cell_type": "code",
   "execution_count": null,
   "id": "0f7d4e16",
   "metadata": {},
   "outputs": [],
   "source": [
    "# Calculate Mel Spectrogram\n",
    "mel_spec = librosa.feature.melspectrogram(S = abs(stft))\n",
    "print(mel_spec)"
   ]
  },
  {
   "cell_type": "code",
   "execution_count": null,
   "id": "7a3316be",
   "metadata": {},
   "outputs": [],
   "source": [
    "# Convert the result of Mel Spectrogram to decibel scale\n",
    "mel_spec_db = librosa.amplitude_to_db(mel_spec,\n",
    "                                      ref = np.max)\n",
    "print(mel_spec_db)"
   ]
  },
  {
   "cell_type": "code",
   "execution_count": null,
   "id": "755d4a51",
   "metadata": {},
   "outputs": [],
   "source": [
    "# Set parameters\n",
    "noise = 0.005 * np.random.randn(* mel_spec_db.shape)\n",
    "print(noise)"
   ]
  },
  {
   "cell_type": "code",
   "execution_count": null,
   "id": "0f0f94f5",
   "metadata": {},
   "outputs": [],
   "source": [
    "# Add noise\n",
    "mel_spec_noise = mel_spec_db + noise\n",
    "print(mel_spec_noise)"
   ]
  },
  {
   "cell_type": "code",
   "execution_count": null,
   "id": "00f65f71",
   "metadata": {},
   "outputs": [],
   "source": [
    "# Convert the result of adding noise to decibel scale\n",
    "mel_spec_db_noise = librosa.amplitude_to_db(mel_spec_noise,\n",
    "                                            ref = np.max)\n",
    "print(mel_spec_db_noise)"
   ]
  },
  {
   "cell_type": "code",
   "execution_count": null,
   "id": "b94516fa",
   "metadata": {},
   "outputs": [],
   "source": [
    "# Save as image files\n",
    "plt.figure(figsize = (12, 4))\n",
    "librosa.display.specshow(mel_spec_db_noise,\n",
    "                         sr = sr,\n",
    "                         x_axis = 'time',\n",
    "                         y_axis = 'mel')\n",
    "plt.axis('off')\n",
    "plt.savefig('./data/0620-mel_spectrogram_noise.png',\n",
    "            bbox_inches = 'tight',\n",
    "            pad_inches = 0)\n",
    "plt.close()\n",
    "\n",
    "# Visualization\n",
    "image = Image.open('./data/0620-mel_spectrogram_0-10secs.png')\n",
    "plt.imshow(image)\n",
    "plt.title('Original Mel Spectrogram Image')\n",
    "plt.show()\n",
    "\n",
    "image_noise = Image.open('./data/0620-mel_spectrogram_noise.png')\n",
    "plt.imshow(image_noise)\n",
    "plt.title('Augmented Mel Spectrogram Image: Noise')\n",
    "plt.show()"
   ]
  },
  {
   "cell_type": "markdown",
   "id": "e30bc626",
   "metadata": {},
   "source": [
    "### Add Augmentation: Stretch"
   ]
  },
  {
   "cell_type": "code",
   "execution_count": null,
   "id": "ee0f0db0",
   "metadata": {},
   "outputs": [],
   "source": [
    "# Set parameters\n",
    "rate = np.random.uniform(low = 0.8, high = 1.2)\n",
    "\n",
    "# Get stratched parts\n",
    "data_selected_stretched = librosa.effects.time_stretch(data, rate = rate)\n",
    "print(data_selected_stretched)"
   ]
  },
  {
   "cell_type": "code",
   "execution_count": null,
   "id": "c6ec462f",
   "metadata": {},
   "outputs": [],
   "source": [
    "# Calculate STFT\n",
    "stft_stretched = librosa.stft(data_selected_stretched)\n",
    "print(stft_stretched)"
   ]
  },
  {
   "cell_type": "code",
   "execution_count": null,
   "id": "5b97dce6",
   "metadata": {},
   "outputs": [],
   "source": [
    "# Calculate Mel Spectrogram\n",
    "mel_spec_stretched = librosa.feature.melspectrogram(S = abs(stft_stretched))\n",
    "print(mel_spec_stretched)"
   ]
  },
  {
   "cell_type": "code",
   "execution_count": null,
   "id": "1589658a",
   "metadata": {},
   "outputs": [],
   "source": [
    "# Convert the result of Mel Spectrogram to decibel scale\n",
    "mel_spec_db_stretched = librosa.amplitude_to_db(mel_spec_stretched,\n",
    "                                                ref = np.max)\n",
    "print(mel_spec_db_stretched)"
   ]
  },
  {
   "cell_type": "code",
   "execution_count": null,
   "id": "6b1e3a78",
   "metadata": {},
   "outputs": [],
   "source": [
    "# Save as image files\n",
    "plt.figure(figsize = (12, 4))\n",
    "librosa.display.specshow(mel_spec_db_stretched,\n",
    "                         sr = sr,\n",
    "                         x_axis = 'time',\n",
    "                         y_axis = 'mel')\n",
    "plt.axis('off')\n",
    "plt.savefig('./data/0620-mel_spectrogram_stretch.png',\n",
    "            bbox_inches = 'tight',\n",
    "            pad_inches = 0)\n",
    "plt.close()\n",
    "\n",
    "# Visualization\n",
    "image = Image.open('./data/0620-mel_spectrogram_0-10secs.png')\n",
    "plt.imshow(image)\n",
    "plt.title('Original Mel Spectrogram Image')\n",
    "plt.show()\n",
    "\n",
    "image_noise = Image.open('./data/0620-mel_spectrogram_noise.png')\n",
    "plt.imshow(image_noise)\n",
    "plt.title('Augmented Mel Spectrogram Image: Noise')\n",
    "plt.show()\n",
    "\n",
    "image_stretched = Image.open('./data/0620-mel_spectrogram_stretch.png')\n",
    "plt.imshow(image_stretched)\n",
    "plt.title('Augmented Mel Spectrogram Image: Stretch')\n",
    "plt.show()"
   ]
  }
 ],
 "metadata": {
  "kernelspec": {
   "display_name": "AI",
   "language": "python",
   "name": "ai"
  },
  "language_info": {
   "codemirror_mode": {
    "name": "ipython",
    "version": 3
   },
   "file_extension": ".py",
   "mimetype": "text/x-python",
   "name": "python",
   "nbconvert_exporter": "python",
   "pygments_lexer": "ipython3",
   "version": "3.8.16"
  }
 },
 "nbformat": 4,
 "nbformat_minor": 5
}
