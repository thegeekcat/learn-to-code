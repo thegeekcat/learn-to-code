{
 "cells": [
  {
   "cell_type": "markdown",
   "id": "95d5304c",
   "metadata": {},
   "source": [
    "* Reference: https://wikidocs.net/52460"
   ]
  },
  {
   "cell_type": "code",
   "execution_count": 1,
   "id": "edc93c55",
   "metadata": {},
   "outputs": [],
   "source": [
    "# Import modules\n",
    "import torch\n",
    "import numpy as np"
   ]
  },
  {
   "cell_type": "markdown",
   "id": "dedbeb39",
   "metadata": {},
   "source": [
    "# 1. Generate Tensors"
   ]
  },
  {
   "cell_type": "markdown",
   "id": "d4032bee",
   "metadata": {},
   "source": [
    "- Types of Tensors\n",
    "  - Rank1 Tensor(1D Tensor, Vector): (sample, feature)\n",
    "  - Rank2 Tensor(2D Tensor, Matrix)\n",
    "    - Time Series Data: (samples, timesteps, features)\n",
    "    - Sequence Data: (samples, sequence, features)\n",
    "  - Rank3 Tensor(3D Tensor, Matrix)\n",
    "    - Image Data\n",
    "      - Channel-First: Use in Pytorch, (samples, color_depth, height, width)\n",
    "      - Channel-Last: Use in Tensorflow, (samples, height, width, color_depth)\n",
    "    - Video Data - Single Frame: (height, width, color_depth)\n",
    "  - Rank4 Tensor(4D Tensor)\n",
    "    - Video Data - Continuous Frames: (frames, height, width, color_depth)\n",
    "  - Rant5 Tensor\n",
    "    - Video Data - Several videos: (samples, frames, height, width, color_depth)"
   ]
  },
  {
   "cell_type": "markdown",
   "id": "416f46bb",
   "metadata": {},
   "source": [
    "### Rank1 Tensor(1D Tensor, Vector) with PyTorch"
   ]
  },
  {
   "cell_type": "code",
   "execution_count": 2,
   "id": "d1e54d20",
   "metadata": {},
   "outputs": [
    {
     "name": "stdout",
     "output_type": "stream",
     "text": [
      "tensor([0., 1., 2., 3., 4., 5.]) \n",
      "\n",
      "Dimension:  1\n",
      "Shape:  torch.Size([6])\n",
      "Size:  torch.Size([6])\n"
     ]
    }
   ],
   "source": [
    "# Generate a vector (1D)\n",
    "data = [0, 1, 2, 3, 4, 5]\n",
    "tensor = torch.tensor(data, dtype=torch.float)\n",
    "\n",
    "print(tensor,'\\n')\n",
    "print('Dimension: ', tensor.dim())\n",
    "print('Shape: ', tensor.shape)\n",
    "print('Size: ', tensor.size())"
   ]
  },
  {
   "cell_type": "markdown",
   "id": "9c490629",
   "metadata": {},
   "source": [
    "### Rank2 Tensor(2D Tensor, Matrix) with PyTorch"
   ]
  },
  {
   "cell_type": "code",
   "execution_count": 3,
   "id": "98e86006",
   "metadata": {},
   "outputs": [
    {
     "name": "stdout",
     "output_type": "stream",
     "text": [
      "tensor([[1., 1., 1.],\n",
      "        [1., 1., 1.]]) \n",
      "\n",
      "Dimension:  2\n",
      "Shape:  torch.Size([2, 3])\n",
      "Size:  torch.Size([2, 3])\n"
     ]
    }
   ],
   "source": [
    "# Generate a matrix (2D)\n",
    "tensor = torch.ones(2, 3)  # (row, column)\n",
    "\n",
    "print(tensor,'\\n')\n",
    "\n",
    "print('Dimension: ', tensor.dim())\n",
    "print('Shape: ', tensor.shape)\n",
    "print('Size: ', tensor.size())"
   ]
  },
  {
   "cell_type": "markdown",
   "id": "a0de07f4",
   "metadata": {},
   "source": [
    "### Rank3 Tensor(3D Tensor) with PyTorch"
   ]
  },
  {
   "cell_type": "code",
   "execution_count": 4,
   "id": "dcb26940",
   "metadata": {},
   "outputs": [
    {
     "name": "stdout",
     "output_type": "stream",
     "text": [
      "tensor([[[1., 1., 1.],\n",
      "         [1., 1., 1.]],\n",
      "\n",
      "        [[1., 1., 1.],\n",
      "         [1., 1., 1.]],\n",
      "\n",
      "        [[1., 1., 1.],\n",
      "         [1., 1., 1.]],\n",
      "\n",
      "        [[1., 1., 1.],\n",
      "         [1., 1., 1.]]]) \n",
      "\n",
      "Dimension:  3\n",
      "Shape:  torch.Size([4, 2, 3])\n",
      "Size:  torch.Size([4, 2, 3])\n"
     ]
    }
   ],
   "source": [
    "# Generate a matrix (2D)\n",
    "tensor = torch.ones(4, 2, 3)  # (num of 2D group, row, column)\n",
    "print(tensor,'\\n')\n",
    "\n",
    "print('Dimension: ', tensor.dim())\n",
    "print('Shape: ', tensor.shape)\n",
    "print('Size: ', tensor.size())"
   ]
  },
  {
   "cell_type": "markdown",
   "id": "7601defa",
   "metadata": {},
   "source": [
    "### Rank4 Tensor(4D Tensor) with PyTorch"
   ]
  },
  {
   "cell_type": "code",
   "execution_count": 5,
   "id": "e8baf0f8",
   "metadata": {},
   "outputs": [
    {
     "name": "stdout",
     "output_type": "stream",
     "text": [
      "tensor([[[[1., 1., 1.],\n",
      "          [1., 1., 1.]],\n",
      "\n",
      "         [[1., 1., 1.],\n",
      "          [1., 1., 1.]],\n",
      "\n",
      "         [[1., 1., 1.],\n",
      "          [1., 1., 1.]],\n",
      "\n",
      "         [[1., 1., 1.],\n",
      "          [1., 1., 1.]]],\n",
      "\n",
      "\n",
      "        [[[1., 1., 1.],\n",
      "          [1., 1., 1.]],\n",
      "\n",
      "         [[1., 1., 1.],\n",
      "          [1., 1., 1.]],\n",
      "\n",
      "         [[1., 1., 1.],\n",
      "          [1., 1., 1.]],\n",
      "\n",
      "         [[1., 1., 1.],\n",
      "          [1., 1., 1.]]],\n",
      "\n",
      "\n",
      "        [[[1., 1., 1.],\n",
      "          [1., 1., 1.]],\n",
      "\n",
      "         [[1., 1., 1.],\n",
      "          [1., 1., 1.]],\n",
      "\n",
      "         [[1., 1., 1.],\n",
      "          [1., 1., 1.]],\n",
      "\n",
      "         [[1., 1., 1.],\n",
      "          [1., 1., 1.]]],\n",
      "\n",
      "\n",
      "        [[[1., 1., 1.],\n",
      "          [1., 1., 1.]],\n",
      "\n",
      "         [[1., 1., 1.],\n",
      "          [1., 1., 1.]],\n",
      "\n",
      "         [[1., 1., 1.],\n",
      "          [1., 1., 1.]],\n",
      "\n",
      "         [[1., 1., 1.],\n",
      "          [1., 1., 1.]]],\n",
      "\n",
      "\n",
      "        [[[1., 1., 1.],\n",
      "          [1., 1., 1.]],\n",
      "\n",
      "         [[1., 1., 1.],\n",
      "          [1., 1., 1.]],\n",
      "\n",
      "         [[1., 1., 1.],\n",
      "          [1., 1., 1.]],\n",
      "\n",
      "         [[1., 1., 1.],\n",
      "          [1., 1., 1.]]]]) \n",
      "\n",
      "Dimension:  4\n",
      "Shape:  torch.Size([5, 4, 2, 3])\n",
      "Size:  torch.Size([5, 4, 2, 3])\n"
     ]
    }
   ],
   "source": [
    "# Generate a matrix (4D)\n",
    "tensor = torch.ones(5, 4, 2, 3)  # (num of 3D groups, num of 2D groups, row, column)\n",
    "print(tensor,'\\n')\n",
    "\n",
    "print('Dimension: ', tensor.dim())\n",
    "print('Shape: ', tensor.shape)\n",
    "print('Size: ', tensor.size())"
   ]
  },
  {
   "cell_type": "markdown",
   "id": "ec065bd3",
   "metadata": {},
   "source": [
    "# 2. Calculate Tensors"
   ]
  },
  {
   "cell_type": "markdown",
   "id": "8c398c8f",
   "metadata": {},
   "source": [
    "## 2.1. Multiplication"
   ]
  },
  {
   "cell_type": "markdown",
   "id": "74e518d4",
   "metadata": {},
   "source": [
    "### Matrix Multiplication"
   ]
  },
  {
   "cell_type": "code",
   "execution_count": 6,
   "id": "2ad5ba00",
   "metadata": {},
   "outputs": [
    {
     "name": "stdout",
     "output_type": "stream",
     "text": [
      "Shape of Tensor1(2x2):  torch.Size([2, 2])\n",
      "Shape of Tensor2(2x1):  torch.Size([2, 1])\n",
      "Result of Matrix Multiplication: \n",
      "tensor([[ 5.],\n",
      "        [11.]])\n"
     ]
    }
   ],
   "source": [
    "# Generate tensors\n",
    "t1 = torch.FloatTensor([[1, 2], [3, 4]])  # 2x2\n",
    "t2 = torch.FloatTensor([[1], [2]])        # 2x1\n",
    "\n",
    "print('Shape of Tensor1(2x2): ', t1.shape)\n",
    "print('Shape of Tensor2(2x1): ', t2.shape)\n",
    "\n",
    "# Matrix Multiplication: (2x2)X(2x1)\n",
    "print('Result of Matrix Multiplication: ')\n",
    "print(t1.matmul(t2))"
   ]
  },
  {
   "cell_type": "markdown",
   "id": "06d0b626",
   "metadata": {},
   "source": [
    "### Element-Wise Multiplication"
   ]
  },
  {
   "cell_type": "code",
   "execution_count": 7,
   "id": "62f392c5",
   "metadata": {},
   "outputs": [
    {
     "name": "stdout",
     "output_type": "stream",
     "text": [
      "Shape of Tensor1(2x2):  torch.Size([2, 2])\n",
      "Shape of Tensor2(2x1):  torch.Size([2, 1])\n",
      "Result of Element-Wise Multiplication: \n",
      "tensor([[1., 2.],\n",
      "        [6., 8.]])\n"
     ]
    }
   ],
   "source": [
    "# Generate tensors\n",
    "t1 = torch.FloatTensor([[1, 2], [3, 4]])  # 2x2\n",
    "t2 = torch.FloatTensor([[1], [2]])        # 2x1\n",
    "\n",
    "print('Shape of Tensor1(2x2): ', t1.shape)\n",
    "print('Shape of Tensor2(2x1): ', t2.shape)\n",
    "\n",
    "# Matrix Multiplication: (2x2)X(2x1)\n",
    "print('Result of Element-Wise Multiplication: ')\n",
    "print(t1.mul(t2))"
   ]
  },
  {
   "cell_type": "markdown",
   "id": "1f4d4bf7",
   "metadata": {},
   "source": [
    "## 2.2. Mean"
   ]
  },
  {
   "cell_type": "code",
   "execution_count": 8,
   "id": "5a284f2b",
   "metadata": {},
   "outputs": [
    {
     "name": "stdout",
     "output_type": "stream",
     "text": [
      "Mean:  tensor(2.5000)\n"
     ]
    }
   ],
   "source": [
    "# Generate a vector (1D)\n",
    "tensor = torch.FloatTensor([0, 1, 2, 3, 4, 5])\n",
    "\n",
    "# Mean\n",
    "print('Mean: ', tensor.mean())"
   ]
  },
  {
   "cell_type": "code",
   "execution_count": 9,
   "id": "f2a51f57",
   "metadata": {},
   "outputs": [
    {
     "name": "stdout",
     "output_type": "stream",
     "text": [
      "\n",
      "Shape:  torch.Size([3, 4])\n",
      "Mean(All Matrix):  tensor(2.)\n",
      "Mean(dim=0):  tensor([2., 2., 2., 2.])\n",
      "Mean(dim=1):  tensor([1., 2., 3.])\n"
     ]
    }
   ],
   "source": [
    "# Generate a matrix (2D)\n",
    "tensor = torch.FloatTensor([[1, 1, 1, 1],\n",
    "                            [2, 2, 2, 2],\n",
    "                            [3, 3, 3, 3]])\n",
    "\n",
    "# Mean\n",
    "print('\\nShape: ', tensor.shape)\n",
    "print('Mean(All Matrix): ', tensor.mean())\n",
    "print('Mean(dim=0): ', tensor.mean(dim=0))  # Mean of each column\n",
    "print('Mean(dim=1): ', tensor.mean(dim=1))  # Mean of each row"
   ]
  },
  {
   "cell_type": "code",
   "execution_count": 10,
   "id": "88d78963",
   "metadata": {},
   "outputs": [
    {
     "name": "stdout",
     "output_type": "stream",
     "text": [
      "\n",
      "Shape:  torch.Size([3, 2, 4]) \n",
      "\n",
      "Mean(All Matrix):  tensor(2.5000)\n",
      "\n",
      "Mean(dim=0): \n",
      " tensor([[2., 2., 2., 2.],\n",
      "        [3., 3., 3., 3.]])\n",
      "\n",
      "Mean(dim=1): \n",
      " tensor([[0.5000, 0.5000, 0.5000, 0.5000],\n",
      "        [2.5000, 2.5000, 2.5000, 2.5000],\n",
      "        [4.5000, 4.5000, 4.5000, 4.5000]])\n",
      "\n",
      "Mean(dim=2): \n",
      " tensor([[0., 1.],\n",
      "        [2., 3.],\n",
      "        [4., 5.]])\n"
     ]
    }
   ],
   "source": [
    "# Generate a matrix (3D)\n",
    "tensor = torch.FloatTensor([[[0, 0, 0, 0], [1, 1, 1, 1]],\n",
    "                            [[2, 2, 2, 2], [3, 3, 3, 3]],\n",
    "                            [[4, 4, 4, 4], [5, 5, 5, 5]]])\n",
    "\n",
    "# Mean\n",
    "print('\\nShape: ', tensor.shape, '\\n')\n",
    "print('Mean(All Matrix): ', tensor.mean())\n",
    "print('\\nMean(dim=0): \\n', tensor.mean(dim=0))\n",
    "print('\\nMean(dim=1): \\n', tensor.mean(dim=1))\n",
    "print('\\nMean(dim=2): \\n', tensor.mean(dim=2))"
   ]
  },
  {
   "cell_type": "markdown",
   "id": "e3a7dabf",
   "metadata": {},
   "source": [
    "## 2.3. Sum"
   ]
  },
  {
   "cell_type": "code",
   "execution_count": 11,
   "id": "e3f9e4a5",
   "metadata": {},
   "outputs": [
    {
     "name": "stdout",
     "output_type": "stream",
     "text": [
      "\n",
      "Shape:  torch.Size([2, 3]) \n",
      "\n",
      "Sum(All Matrix):  tensor(15.)\n",
      "\n",
      "Sum(dim=0): \n",
      " tensor([3., 5., 7.])\n",
      "\n",
      "Sum(dim=1): \n",
      " tensor([ 3., 12.])\n"
     ]
    }
   ],
   "source": [
    "# Generate a tensor\n",
    "tensor = torch.FloatTensor([[0, 1, 2],\n",
    "                            [3, 4, 5]])\n",
    "\n",
    "# Sum\n",
    "print('\\nShape: ', tensor.shape, '\\n')\n",
    "print('Sum(All Matrix): ', tensor.sum())\n",
    "print('\\nSum(dim=0): \\n', tensor.sum(dim=0))  # Sum columns\n",
    "print('\\nSum(dim=1): \\n', tensor.sum(dim=1))  # Sum rows"
   ]
  },
  {
   "cell_type": "markdown",
   "id": "b439c86b",
   "metadata": {},
   "source": [
    "## 2.4. Max"
   ]
  },
  {
   "cell_type": "markdown",
   "id": "f9ee47c4",
   "metadata": {},
   "source": [
    "- Types of Max\n",
    "  - Max: Max value - `max()[0]`\n",
    "  - ArgMax: Index of Max value - `max()[1]`"
   ]
  },
  {
   "cell_type": "code",
   "execution_count": 12,
   "id": "54c4f13f",
   "metadata": {},
   "outputs": [
    {
     "name": "stdout",
     "output_type": "stream",
     "text": [
      "Max:  tensor(5.)\n",
      "\n",
      "Max(dim=0 - by column):  tensor([3., 4., 5.])\n",
      "ArgMax(dim=0 - by column):  tensor([1, 1, 1])\n",
      "\n",
      "Max(dim=1 - by row):  tensor([2., 5.])\n",
      "ArgMax(dim=1 - by row):  tensor([2, 2])\n"
     ]
    }
   ],
   "source": [
    "# Generate a tensor\n",
    "tensor = torch.FloatTensor([[0, 1, 2],\n",
    "                            [3, 4, 5]])\n",
    "\n",
    "# Max and ArgMax\n",
    "print('Max: ', tensor.max())\n",
    "\n",
    "print('\\nMax(dim=0 - by column): ', tensor.max(dim=0)[0])\n",
    "print('ArgMax(dim=0 - by column): ', tensor.max(dim=0)[1])\n",
    "\n",
    "print('\\nMax(dim=1 - by row): ', tensor.max(dim=1)[0])\n",
    "print('ArgMax(dim=1 - by row): ', tensor.max(dim=1)[1])"
   ]
  },
  {
   "cell_type": "markdown",
   "id": "50e2d38c",
   "metadata": {},
   "source": [
    "# 3. View"
   ]
  },
  {
   "cell_type": "markdown",
   "id": "813e1e02",
   "metadata": {},
   "source": [
    "- `view()`  \n",
    "  : Reshape Tensors without modifying its data"
   ]
  },
  {
   "cell_type": "markdown",
   "id": "dfca84e9",
   "metadata": {},
   "source": [
    "### Rank3 Tensor -> Rank2 Tensor"
   ]
  },
  {
   "cell_type": "code",
   "execution_count": 13,
   "id": "f0d53306",
   "metadata": {},
   "outputs": [
    {
     "name": "stdout",
     "output_type": "stream",
     "text": [
      "Original Tensor (Rank3 Tensor):\n",
      "tensor([[[ 1,  2,  3],\n",
      "         [ 4,  5,  6]],\n",
      "\n",
      "        [[ 7,  8,  9],\n",
      "         [10, 11, 12]]]) \n",
      "\n",
      "Dimension:  3\n",
      "Shape:  torch.Size([2, 2, 3])\n"
     ]
    }
   ],
   "source": [
    "# Generate data\n",
    "data = [1, 2, 3, 4, 5, 6, 7, 8, 9, 10, 11, 12]\n",
    "\n",
    "# Generate a Rank3 Tensor\n",
    "tensor = torch.tensor(data).reshape(2, 2, 3)\n",
    "\n",
    "print('Original Tensor (Rank3 Tensor):')\n",
    "print(tensor, '\\n')\n",
    "print('Dimension: ', tensor.dim())\n",
    "print('Shape: ', tensor.shape)"
   ]
  },
  {
   "cell_type": "code",
   "execution_count": 14,
   "id": "aa90c2fd",
   "metadata": {},
   "outputs": [
    {
     "name": "stdout",
     "output_type": "stream",
     "text": [
      "Reshaped Rank2 Tensor using `View`: \n",
      "\n",
      "tensor([[ 1,  2,  3],\n",
      "        [ 4,  5,  6],\n",
      "        [ 7,  8,  9],\n",
      "        [10, 11, 12]])\n",
      "Dimension:  2\n",
      "Shape:  torch.Size([4, 3])\n"
     ]
    }
   ],
   "source": [
    "# Reshape the tensor to Rank2 tensor by using 'View'\n",
    "tensor_reshaped = tensor.view([-1, 3])# (Rows=?, Columns=3)\n",
    "\n",
    "print('Reshaped Rank2 Tensor using `View`: \\n')\n",
    "print(tensor_reshaped)  \n",
    "print('Dimension: ', tensor_reshaped.dim())\n",
    "print('Shape: ', tensor_reshaped.shape)"
   ]
  },
  {
   "cell_type": "markdown",
   "id": "bb6a4574",
   "metadata": {},
   "source": [
    "### Rank3 Tensor -> Rank4 Tensor"
   ]
  },
  {
   "cell_type": "code",
   "execution_count": 15,
   "id": "a9b11145",
   "metadata": {},
   "outputs": [
    {
     "name": "stdout",
     "output_type": "stream",
     "text": [
      "Original Tensor (Rank3 Tensor):\n",
      "tensor([[[ 1,  2,  3,  4,  5],\n",
      "         [ 6,  7,  8,  9, 10],\n",
      "         [11, 12, 13, 14, 15],\n",
      "         [16, 17, 18, 19, 20]],\n",
      "\n",
      "        [[21, 22, 23, 24, 25],\n",
      "         [26, 27, 28, 29, 30],\n",
      "         [31, 32, 33, 34, 35],\n",
      "         [36, 37, 38, 39, 40]],\n",
      "\n",
      "        [[41, 42, 43, 44, 45],\n",
      "         [46, 47, 48, 49, 50],\n",
      "         [51, 52, 53, 54, 55],\n",
      "         [56, 57, 58, 59, 60]]]) \n",
      "\n",
      "Dimension:  3\n",
      "Shape:  torch.Size([3, 4, 5])\n"
     ]
    }
   ],
   "source": [
    "# Generate data\n",
    "data = list(range(1, 61))  # Generate a list with 60 numbers (1-60)\n",
    "\n",
    "# Generate a Rank4 Tensor\n",
    "tensor = torch.tensor(data).reshape(3, 4, 5)  # (nums of 3D groups, nums of 2D groups, rows, columns)\n",
    "\n",
    "print('Original Tensor (Rank3 Tensor):')\n",
    "print(tensor, '\\n')\n",
    "print('Dimension: ', tensor.dim())\n",
    "print('Shape: ', tensor.shape)"
   ]
  },
  {
   "cell_type": "code",
   "execution_count": 16,
   "id": "9fb4de3d",
   "metadata": {},
   "outputs": [
    {
     "name": "stdout",
     "output_type": "stream",
     "text": [
      "Reshaped Rank4 Tensor using `View`: \n",
      "\n",
      "tensor([[[[ 1,  2,  3,  4,  5],\n",
      "          [ 6,  7,  8,  9, 10]],\n",
      "\n",
      "         [[11, 12, 13, 14, 15],\n",
      "          [16, 17, 18, 19, 20]],\n",
      "\n",
      "         [[21, 22, 23, 24, 25],\n",
      "          [26, 27, 28, 29, 30]],\n",
      "\n",
      "         [[31, 32, 33, 34, 35],\n",
      "          [36, 37, 38, 39, 40]],\n",
      "\n",
      "         [[41, 42, 43, 44, 45],\n",
      "          [46, 47, 48, 49, 50]],\n",
      "\n",
      "         [[51, 52, 53, 54, 55],\n",
      "          [56, 57, 58, 59, 60]]]])\n",
      "Dimension:  4\n",
      "Shape:  torch.Size([1, 6, 2, 5])\n"
     ]
    }
   ],
   "source": [
    "# Reshape the tensor to Rank2 tensor by using 'View'\n",
    "tensor_reshaped = tensor.view([-1, 6, 2, 5])  # (Num of 2D groups = 6, Rows=2, Columns=5)\n",
    "\n",
    "print('Reshaped Rank4 Tensor using `View`: \\n')\n",
    "print(tensor_reshaped)  \n",
    "print('Dimension: ', tensor_reshaped.dim())\n",
    "print('Shape: ', tensor_reshaped.shape)"
   ]
  },
  {
   "cell_type": "markdown",
   "id": "a34c9b4d",
   "metadata": {},
   "source": [
    "# 4. Squeeze"
   ]
  },
  {
   "cell_type": "markdown",
   "id": "8f26cc7f",
   "metadata": {},
   "source": [
    "- `squeeze()`\n",
    "  - Remove dimensions of size 1\n",
    "- `unsqueeze()`\n",
    "  - Add dimensions of size 1"
   ]
  },
  {
   "cell_type": "code",
   "execution_count": 23,
   "id": "74bb7a2e",
   "metadata": {},
   "outputs": [
    {
     "name": "stdout",
     "output_type": "stream",
     "text": [
      "Original Tensor: \n",
      " tensor([[[1., 1.]],\n",
      "\n",
      "        [[1., 1.]],\n",
      "\n",
      "        [[1., 1.]]])\n",
      "\n",
      "Dimension:  3\n",
      "Shape:  torch.Size([3, 1, 2])\n"
     ]
    }
   ],
   "source": [
    "# Generate tensors\n",
    "tensor = torch.ones(3, 1, 2)\n",
    "print('Original Tensor: \\n', tensor)\n",
    "print('\\nDimension: ', tensor.dim())\n",
    "print('Shape: ', tensor.shape)"
   ]
  },
  {
   "cell_type": "markdown",
   "id": "4ace8ba1",
   "metadata": {},
   "source": [
    "### `squeeze()`"
   ]
  },
  {
   "cell_type": "code",
   "execution_count": 25,
   "id": "c3fb768e",
   "metadata": {},
   "outputs": [
    {
     "name": "stdout",
     "output_type": "stream",
     "text": [
      "Dimensions of Size 1 Removed Tensor: \n",
      " tensor([[1., 1.],\n",
      "        [1., 1.],\n",
      "        [1., 1.]])\n",
      "\n",
      "Dimension:  2\n",
      "Shape:  torch.Size([3, 2])\n"
     ]
    }
   ],
   "source": [
    "# Remove dimensions of size 1 using `squeeze()`\n",
    "tensor_squeeze = tensor.squeeze()\n",
    "print('Dimensions of Size 1 Removed Tensor: \\n', tensor_squeeze)\n",
    "print('\\nDimension: ', tensor_squeeze.dim())\n",
    "print('Shape: ', tensor_squeeze.shape)"
   ]
  },
  {
   "cell_type": "markdown",
   "id": "56c764da",
   "metadata": {},
   "source": [
    "### `unsqueeze()`"
   ]
  },
  {
   "cell_type": "code",
   "execution_count": 26,
   "id": "9c249170",
   "metadata": {},
   "outputs": [
    {
     "name": "stdout",
     "output_type": "stream",
     "text": [
      "Dimensions of Size 1 Added Tensor: \n",
      " tensor([[[[1., 1.]],\n",
      "\n",
      "         [[1., 1.]],\n",
      "\n",
      "         [[1., 1.]]]])\n",
      "\n",
      "Dimension:  4\n",
      "Shape:  torch.Size([1, 3, 1, 2])\n"
     ]
    }
   ],
   "source": [
    "# Add dimensions of size 1 using `unsqueeze()`\n",
    "tensor_unsqueeze = tensor.unsqueeze(0)\n",
    "print('Dimensions of Size 1 Added Tensor: \\n', tensor_unsqueeze)\n",
    "print('\\nDimension: ', tensor_unsqueeze.dim())\n",
    "print('Shape: ', tensor_unsqueeze.shape)"
   ]
  },
  {
   "cell_type": "markdown",
   "id": "e557a7de",
   "metadata": {},
   "source": [
    "# 5. Concatenate: `torch.cat()`"
   ]
  },
  {
   "cell_type": "code",
   "execution_count": 28,
   "id": "2f9f1a0c",
   "metadata": {},
   "outputs": [],
   "source": [
    "# Generate tensors\n",
    "tensor1 = torch.FloatTensor([[1, 1], [2, 2]])\n",
    "tensor2 = torch.FloatTensor([[3, 3], [4, 4]])"
   ]
  },
  {
   "cell_type": "markdown",
   "id": "3906692c",
   "metadata": {},
   "source": [
    "### dim=0"
   ]
  },
  {
   "cell_type": "code",
   "execution_count": 29,
   "id": "0c5f9c98",
   "metadata": {},
   "outputs": [
    {
     "name": "stdout",
     "output_type": "stream",
     "text": [
      "Concatenated Torch (dim=0):\n",
      "\n",
      "tensor([[1., 1.],\n",
      "        [2., 2.],\n",
      "        [3., 3.],\n",
      "        [4., 4.]])\n"
     ]
    }
   ],
   "source": [
    "print('Concatenated Torch (dim=0):\\n')  # `dim=0`: columns\n",
    "print(torch.cat([tensor1, tensor2], dim=0))"
   ]
  },
  {
   "cell_type": "markdown",
   "id": "e774897f",
   "metadata": {},
   "source": [
    "### dim=1"
   ]
  },
  {
   "cell_type": "code",
   "execution_count": 30,
   "id": "972bdd87",
   "metadata": {},
   "outputs": [
    {
     "name": "stdout",
     "output_type": "stream",
     "text": [
      "Concatenated Torch (dim=1):\n",
      "\n",
      "tensor([[1., 1., 3., 3.],\n",
      "        [2., 2., 4., 4.]])\n"
     ]
    }
   ],
   "source": [
    "print('Concatenated Torch (dim=1):\\n')  # `dim=1`: rows\n",
    "print(torch.cat([tensor1, tensor2], dim=1))"
   ]
  },
  {
   "cell_type": "markdown",
   "id": "caf1de1e",
   "metadata": {},
   "source": [
    "# 6. Stacking: `torch.stack()`"
   ]
  },
  {
   "cell_type": "markdown",
   "id": "6ce054f0",
   "metadata": {},
   "source": [
    "- `torch.stack()`\n",
    "  - Concatenate tensors along a new dimension"
   ]
  },
  {
   "cell_type": "code",
   "execution_count": 35,
   "id": "60d7d3bc",
   "metadata": {},
   "outputs": [
    {
     "name": "stdout",
     "output_type": "stream",
     "text": [
      "\n",
      "Stack with dim=0:\n",
      "tensor([[1., 2.],\n",
      "        [3., 4.],\n",
      "        [5., 6.]])\n",
      "\n",
      "Stack with dim=1:\n",
      "tensor([[1., 3., 5.],\n",
      "        [2., 4., 6.]])\n"
     ]
    }
   ],
   "source": [
    "# Generate tensors\n",
    "tensor1 = torch.FloatTensor([1, 2])\n",
    "tensor2 = torch.FloatTensor([3, 4])\n",
    "tensor3 = torch.FloatTensor([5, 6])\n",
    "\n",
    "# Stack tensors\n",
    "print('\\nStack with dim=0:')\n",
    "print(torch.stack([tensor1, tensor2, tensor3], dim=0))\n",
    "\n",
    "print('\\nStack with dim=1:')\n",
    "print(torch.stack([tensor1, tensor2, tensor3], dim=1))"
   ]
  },
  {
   "cell_type": "markdown",
   "id": "c9b044aa",
   "metadata": {},
   "source": [
    "# 7. In-Place Operation "
   ]
  },
  {
   "cell_type": "code",
   "execution_count": 36,
   "id": "a31c408b",
   "metadata": {},
   "outputs": [
    {
     "name": "stdout",
     "output_type": "stream",
     "text": [
      "Original Tensor: \n",
      "\n",
      "tensor([[1., 2.],\n",
      "        [3., 4.]])\n",
      "\n",
      "Tensor with Multiplying 2: \n",
      "\n",
      "tensor([[2., 4.],\n",
      "        [6., 8.]])\n"
     ]
    }
   ],
   "source": [
    "# Generate tensors\n",
    "tensor = torch.FloatTensor([[1, 2],\n",
    "                            [3, 4]])\n",
    "\n",
    "print('Original Tensor: \\n')\n",
    "print(tensor)\n",
    "print('\\nTensor with Multiplying 2: \\n')\n",
    "print(tensor.mul_(2.))"
   ]
  }
 ],
 "metadata": {
  "kernelspec": {
   "display_name": "pytorch",
   "language": "python",
   "name": "pytorch"
  },
  "language_info": {
   "codemirror_mode": {
    "name": "ipython",
    "version": 3
   },
   "file_extension": ".py",
   "mimetype": "text/x-python",
   "name": "python",
   "nbconvert_exporter": "python",
   "pygments_lexer": "ipython3",
   "version": "3.8.16"
  }
 },
 "nbformat": 4,
 "nbformat_minor": 5
}
