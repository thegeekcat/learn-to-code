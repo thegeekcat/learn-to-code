{
 "cells": [
  {
   "cell_type": "code",
   "execution_count": 1,
   "id": "0b12d9e7",
   "metadata": {},
   "outputs": [],
   "source": [
    "import torch\n",
    "import numpy as np"
   ]
  },
  {
   "cell_type": "markdown",
   "id": "657326bf",
   "metadata": {},
   "source": [
    "# 1. Initialize Tensor"
   ]
  },
  {
   "cell_type": "markdown",
   "id": "955cb370",
   "metadata": {},
   "source": [
    "- `torch.tensor()`\n",
    "  - Create a new tensor from the old tensor\n",
    "  - Memory is not shared with the old tensor --> New and Old are independent\n",
    "\n",
    "  \n",
    "- `torch.from_numpy()`\n",
    "  - Crete a new tensor by copying the old tensor with its memory\n",
    "  - Memory address is shared -> New and Old are the same one"
   ]
  },
  {
   "cell_type": "code",
   "execution_count": 8,
   "id": "c69b481f",
   "metadata": {},
   "outputs": [
    {
     "name": "stdout",
     "output_type": "stream",
     "text": [
      "Create tensor using `Torch`: \n",
      " tensor([[1, 2],\n",
      "        [3, 4]])\n",
      "\n",
      "Crate tensor from `numpy`: \n",
      " tensor([[1, 2],\n",
      "        [3, 4]], dtype=torch.int32)\n"
     ]
    }
   ],
   "source": [
    "# Generate data\n",
    "data = [[1, 2],\n",
    "        [3, 4]]\n",
    "\n",
    "# Create Tensor using 'Torch'\n",
    "x_data = torch.tensor(data)\n",
    "print('Create tensor using `Torch`: \\n', x_data)\n",
    "\n",
    "# Create Tensor from 'Numpy'\n",
    "np_array = np.array(data)\n",
    "x_np = torch.from_numpy(np_array)  # numpy -> torch\n",
    "print('\\nCrate tensor from `numpy`: \\n', x_np)"
   ]
  },
  {
   "cell_type": "markdown",
   "id": "fa57706a",
   "metadata": {},
   "source": [
    "# 2. `torch.ones_like()` and `torch.rand_like()`"
   ]
  },
  {
   "cell_type": "markdown",
   "id": "0be0b7b8",
   "metadata": {},
   "source": [
    "- `torch.ones_like()`\n",
    "  - Create a tensor with the same size from input tensor, and fill with '1'\n",
    "  \n",
    "- `torch.rand_like()`\n",
    "  - Create a tensor with the same size from input tensor, and fill with 'random variables' between 0 and 1\n",
    "  - Data type is setable"
   ]
  },
  {
   "cell_type": "code",
   "execution_count": 11,
   "id": "52f96b2c",
   "metadata": {},
   "outputs": [
    {
     "name": "stdout",
     "output_type": "stream",
     "text": [
      "Ones Tensor: \n",
      " tensor([[1, 1],\n",
      "        [1, 1]])\n",
      "\n",
      "Random Tensor: \n",
      " tensor([[0.7060, 0.6635],\n",
      "        [0.0424, 0.7775]]) \n",
      "\n"
     ]
    }
   ],
   "source": [
    "# `torch.ones_like()`\n",
    "x_ones = torch.ones_like(x_data)\n",
    "print(f'Ones Tensor: \\n {x_ones}')\n",
    "\n",
    "# `torch.rand_like()`\n",
    "x_rand = torch.rand_like(x_data,\n",
    "                         dtype=torch.float)  # Set data type\n",
    "print(f'\\nRandom Tensor: \\n {x_rand} \\n')"
   ]
  },
  {
   "cell_type": "markdown",
   "id": "c1a4c6a0",
   "metadata": {},
   "source": [
    "# 3. `torch.rand()`, `torch.ones()`, and `torch.zeros()`"
   ]
  },
  {
   "cell_type": "code",
   "execution_count": 20,
   "id": "c24060f7",
   "metadata": {},
   "outputs": [
    {
     "name": "stdout",
     "output_type": "stream",
     "text": [
      "Random Tensor: \n",
      " tensor([[1.2005, 1.0534, 1.0142, 1.9687, 1.6154],\n",
      "        [1.6318, 1.7867, 1.4268, 1.2471, 1.0929],\n",
      "        [1.0961, 1.0848, 1.7789, 1.7478, 1.5674],\n",
      "        [1.3367, 1.2263, 1.9804, 1.1427, 1.1997]]) \n",
      "\n",
      "Ones Tensor: \n",
      " tensor([[1., 1., 1., 1., 1.],\n",
      "        [1., 1., 1., 1., 1.],\n",
      "        [1., 1., 1., 1., 1.],\n",
      "        [1., 1., 1., 1., 1.]]) \n",
      "\n",
      "Zeros Tensor: \n",
      " tensor([[0., 0., 0., 0., 0.],\n",
      "        [0., 0., 0., 0., 0.],\n",
      "        [0., 0., 0., 0., 0.],\n",
      "        [0., 0., 0., 0., 0.]]) \n",
      "\n"
     ]
    }
   ],
   "source": [
    "# Set a dimention for a tuple\n",
    "shape = (4, 5, )  # a tuple of 4x5\n",
    "\n",
    "# Set parameters\n",
    "min_val = 1\n",
    "max_val = 2\n",
    "\n",
    "# Generate tensors\n",
    "rand_tensor = torch.rand(shape) * (max_val - min_val) + min_val  # Random variables between Min and Max\n",
    "ones_tensor = torch.ones(shape)\n",
    "zeros_tensor = torch.zeros(shape)\n",
    "\n",
    "print(f'Random Tensor: \\n {rand_tensor} \\n')\n",
    "print(f'Ones Tensor: \\n {ones_tensor} \\n')\n",
    "print(f'Zeros Tensor: \\n {zeros_tensor} \\n')"
   ]
  },
  {
   "cell_type": "markdown",
   "id": "7d313e90",
   "metadata": {},
   "source": [
    "# 4. Attribute"
   ]
  },
  {
   "cell_type": "code",
   "execution_count": 22,
   "id": "46bcacbe",
   "metadata": {},
   "outputs": [
    {
     "name": "stdout",
     "output_type": "stream",
     "text": [
      "Shape of tensor: torch.Size([3, 4])\n",
      "Data type of tensor: torch.float32\n",
      "Device tensor is stored on: cpu\n"
     ]
    }
   ],
   "source": [
    "# Generate a tensor with random variables\n",
    "tensor = torch.rand(3, 4)\n",
    "\n",
    "print(f'Shape of tensor: {tensor.shape}')\n",
    "print(f'Data type of tensor: {tensor.dtype}')\n",
    "print(f'Device tensor is stored on: {tensor.device}')"
   ]
  },
  {
   "cell_type": "markdown",
   "id": "bfa3a5b0",
   "metadata": {},
   "source": [
    "### Change Device  ( MEMORIZE THIS PART)"
   ]
  },
  {
   "cell_type": "code",
   "execution_count": null,
   "id": "e73c9594",
   "metadata": {},
   "outputs": [],
   "source": [
    "# `to()`: Change tensors/models to a device\n",
    "tensor.to('cuda')  # `tensor.to('cuda')` = `tensor.cuda`\n",
    "model.to('cpu')    # `model.to('cuda')` = `model.cuda`\n",
    "\n",
    "\n",
    "# Get device info \n",
    "device = 'cuda' if torch.cuda.is_available() else 'cpu'  # MEMORIZE THIS!!\n",
    "tensor.to(device)"
   ]
  },
  {
   "cell_type": "markdown",
   "id": "8bd3707f",
   "metadata": {},
   "source": [
    "# 5. Index and Slicing"
   ]
  },
  {
   "cell_type": "code",
   "execution_count": 96,
   "id": "c364a3b1",
   "metadata": {},
   "outputs": [
    {
     "name": "stdout",
     "output_type": "stream",
     "text": [
      "Original Tensor: \n",
      " tensor([[1., 1., 1., 1.],\n",
      "        [1., 1., 1., 1.],\n",
      "        [1., 1., 1., 1.],\n",
      "        [1., 1., 1., 1.]])\n",
      "\n",
      "Fill the fourth column with `0`: \n",
      " tensor([[1., 1., 1., 0.],\n",
      "        [1., 1., 1., 0.],\n",
      "        [1., 1., 1., 0.],\n",
      "        [1., 1., 1., 0.]])\n"
     ]
    }
   ],
   "source": [
    "# Slicing\n",
    "tensor = torch.ones(4, 4)\n",
    "print('Original Tensor: \\n', tensor)\n",
    "\n",
    "tensor[:, 3] = 0\n",
    "print('\\nFill the fourth column with `0`: \\n', tensor)"
   ]
  },
  {
   "cell_type": "markdown",
   "id": "43d0c267",
   "metadata": {},
   "source": [
    "# 6. Concatenate Tensors"
   ]
  },
  {
   "cell_type": "code",
   "execution_count": 114,
   "id": "c8c0389c",
   "metadata": {},
   "outputs": [
    {
     "name": "stdout",
     "output_type": "stream",
     "text": [
      "- Two tensors: \n",
      " - Tensor 1: \n",
      " tensor([[0., 0., 2.],\n",
      "        [0., 0., 2.],\n",
      "        [0., 0., 2.]])\n",
      " - Tensor 2: \n",
      " tensor([[1., 1., 3.],\n",
      "        [1., 1., 3.],\n",
      "        [1., 1., 3.]])\n"
     ]
    }
   ],
   "source": [
    "# Generate tensors\n",
    "tensor1 = torch.zeros(3, 3)\n",
    "tensor1[:, 2] = 2\n",
    "\n",
    "tensor2 = torch.ones(3, 3)\n",
    "tensor2[:, 2] = 3\n",
    "\n",
    "print('- Two tensors: ')\n",
    "print(' - Tensor 1: \\n', tensor1)\n",
    "print(' - Tensor 2: \\n', tensor2)"
   ]
  },
  {
   "cell_type": "markdown",
   "id": "008cbdfc",
   "metadata": {},
   "source": [
    "### Concatenate tensors: `Cat()`"
   ]
  },
  {
   "cell_type": "code",
   "execution_count": 116,
   "id": "16a61c47",
   "metadata": {},
   "outputs": [
    {
     "name": "stdout",
     "output_type": "stream",
     "text": [
      "Tensor 1: \n",
      " tensor([[0., 0., 2.],\n",
      "        [0., 0., 2.],\n",
      "        [0., 0., 2.]])\n",
      "Tensor 2: \n",
      " tensor([[1., 1., 3.],\n",
      "        [1., 1., 3.],\n",
      "        [1., 1., 3.]]) \n",
      "\n",
      "\n",
      "Concatenated Tensors: \n",
      " tensor([[0., 0., 2., 1., 1., 3.],\n",
      "        [0., 0., 2., 1., 1., 3.],\n",
      "        [0., 0., 2., 1., 1., 3.]])\n"
     ]
    }
   ],
   "source": [
    "tensor_concatenated = torch.cat([tensor1, tensor2],\n",
    "                            dim=1)  # Dimension\n",
    "\n",
    "print('Tensor 1: \\n', tensor1)\n",
    "print('Tensor 2: \\n', tensor2, '\\n\\n')\n",
    "print('\\nConcatenated Tensors: \\n', tensor_concatenated)"
   ]
  },
  {
   "cell_type": "markdown",
   "id": "3920f59d",
   "metadata": {},
   "source": [
    "### Element-wise Multiplication"
   ]
  },
  {
   "cell_type": "code",
   "execution_count": 117,
   "id": "6b2f966e",
   "metadata": {},
   "outputs": [
    {
     "name": "stdout",
     "output_type": "stream",
     "text": [
      "Tensor 1: \n",
      " tensor([[0., 0., 2.],\n",
      "        [0., 0., 2.],\n",
      "        [0., 0., 2.]])\n",
      "Tensor 2: \n",
      " tensor([[1., 1., 3.],\n",
      "        [1., 1., 3.],\n",
      "        [1., 1., 3.]]) \n",
      "\n",
      "\n",
      "Element-wise Multiplication: `tensor1.mul(tensor2)`\n",
      " tensor([[0., 0., 6.],\n",
      "        [0., 0., 6.],\n",
      "        [0., 0., 6.]])\n",
      "Element-wise Multiplication: `tensor1*tensor2`\n",
      " tensor([[0., 0., 6.],\n",
      "        [0., 0., 6.],\n",
      "        [0., 0., 6.]])\n"
     ]
    }
   ],
   "source": [
    "print('Tensor 1: \\n', tensor1)\n",
    "print('Tensor 2: \\n', tensor2, '\\n\\n')\n",
    "\n",
    "# `tensor1.mul(tensor2)`\n",
    "tensor_mul = tensor1.mul(tensor2)\n",
    "print('Element-wise Multiplication: `tensor1.mul(tensor2)`\\n', tensor_mul)\n",
    "\n",
    "# `tensor1 * tensor2`\n",
    "print('Element-wise Multiplication: `tensor1*tensor2`\\n', tensor1 * tensor2)"
   ]
  },
  {
   "cell_type": "markdown",
   "id": "c916cbd7",
   "metadata": {},
   "source": [
    "### Matrix Multiplication"
   ]
  },
  {
   "cell_type": "code",
   "execution_count": 118,
   "id": "49859174",
   "metadata": {},
   "outputs": [
    {
     "name": "stdout",
     "output_type": "stream",
     "text": [
      "Tensor 1: \n",
      " tensor([[0., 0., 2.],\n",
      "        [0., 0., 2.],\n",
      "        [0., 0., 2.]])\n",
      "Tensor 2: \n",
      " tensor([[1., 1., 3.],\n",
      "        [1., 1., 3.],\n",
      "        [1., 1., 3.]]) \n",
      "\n",
      "\n",
      "\n",
      "Matrix Multiplication: `tensor.matmul(tensor.T)`\n",
      " tensor([[3., 3., 3.],\n",
      "        [3., 3., 3.],\n",
      "        [3., 3., 3.]])\n",
      "\n",
      "Matrix Multiplication: `tensor @ tensor.T`\n",
      " tensor([[3., 3., 3.],\n",
      "        [3., 3., 3.],\n",
      "        [3., 3., 3.]])\n"
     ]
    }
   ],
   "source": [
    "print('Tensor 1: \\n', tensor1)\n",
    "print('Tensor 2: \\n', tensor2, '\\n\\n')\n",
    "\n",
    "# `tensor.matmul(tensor.T)`\n",
    "print('\\nMatrix Multiplication: `tensor.matmul(tensor.T)`\\n', tensor.matmul(tensor.T))\n",
    "\n",
    "# `tensor @ tensor.T`\n",
    "print('\\nMatrix Multiplication: `tensor @ tensor.T`\\n', tensor @ tensor.T)"
   ]
  },
  {
   "cell_type": "markdown",
   "id": "3ad572c6",
   "metadata": {},
   "source": [
    "# 7. Copy"
   ]
  },
  {
   "cell_type": "markdown",
   "id": "5354d07d",
   "metadata": {},
   "source": [
    "- CPU & Numpy\n",
    "  - Tensor and Numpy Array share the same memory address on CPU\n",
    "  -  -> One is changed, another one is changed too\n",
    "  \n",
    "- GPU & Numpy\n",
    "  - Numpy and GPU don't share memory address"
   ]
  },
  {
   "cell_type": "code",
   "execution_count": 63,
   "id": "75f92f22",
   "metadata": {},
   "outputs": [
    {
     "name": "stdout",
     "output_type": "stream",
     "text": [
      "Original Data:  tensor([1., 1., 1., 1., 1.])\n",
      "Copied Data:  [1. 1. 1. 1. 1.]\n",
      "\n",
      "Original Data:  tensor([2., 2., 2., 2., 2.])\n",
      "Copied Data:  [2. 2. 2. 2. 2.]\n"
     ]
    }
   ],
   "source": [
    "# Generate tensor\n",
    "original = torch.ones(5)\n",
    "print('Original Data: ', original)\n",
    "copied = original.numpy()\n",
    "print('Copied Data: ', copied)\n",
    "\n",
    "# Add values \n",
    "original.add_(1)\n",
    "print('\\nOriginal Data: ', original)\n",
    "print('Copied Data: ', copied)"
   ]
  },
  {
   "cell_type": "markdown",
   "id": "e0db7cce",
   "metadata": {},
   "source": [
    "# 8. `View()`: Change Dimentions"
   ]
  },
  {
   "cell_type": "markdown",
   "id": "639418ca",
   "metadata": {},
   "source": [
    "- View in PyTorch\n",
    "  - It works as the 'Reshape' in Numpy\n",
    "  - Change tensors' shape\n",
    "  \n",
    "- View\n",
    "  - Create a new tensor -> Copy data from the original tensor -> Change dimention\n",
    "  - View and the Original tensor are independant on Memory (Memory is not shared)\n",
    "  - The total number of variables in tensors are the same even dimention is changed  \n",
    "     e.g. Before: (2x2x3)=12 -> After: (4x3)=12"
   ]
  },
  {
   "cell_type": "code",
   "execution_count": 119,
   "id": "2c2fdb90",
   "metadata": {},
   "outputs": [
    {
     "name": "stdout",
     "output_type": "stream",
     "text": [
      "Tensor in `int`: \n",
      " [[[ 0  1  2]\n",
      "  [ 3  4  5]]\n",
      "\n",
      " [[ 6  7  8]\n",
      "  [ 9 10 11]]]\n",
      "Type:  (2, 2, 3)\n",
      "\n",
      "Tensor in `Float`: \n",
      " tensor([[[ 0.,  1.,  2.],\n",
      "         [ 3.,  4.,  5.]],\n",
      "\n",
      "        [[ 6.,  7.,  8.],\n",
      "         [ 9., 10., 11.]]])\n",
      "Type:  torch.Size([2, 2, 3])\n"
     ]
    }
   ],
   "source": [
    "# Generate a 3-dimentional tensor\n",
    "tensor = np.array([[[0, 1, 2], [3, 4, 5]],\n",
    "                   [[6, 7, 8], [9, 10, 11]]])\n",
    "print('Tensor in `int`: \\n', tensor)\n",
    "print('Type: ', tensor.shape)\n",
    "\n",
    "# Change data type to float\n",
    "tensor_float = torch.FloatTensor(tensor)\n",
    "print('\\nTensor in `Float`: \\n', tensor_float)\n",
    "print('Type: ', tensor_float.shape)"
   ]
  },
  {
   "cell_type": "markdown",
   "id": "99982663",
   "metadata": {},
   "source": [
    "### 3-Dimension -> 2-Dimension"
   ]
  },
  {
   "cell_type": "code",
   "execution_count": 135,
   "id": "7c2f5c28",
   "metadata": {},
   "outputs": [
    {
     "name": "stdout",
     "output_type": "stream",
     "text": [
      "Original Tensor: \n",
      " tensor([[[ 0.,  1.,  2.],\n",
      "         [ 3.,  4.,  5.]],\n",
      "\n",
      "        [[ 6.,  7.,  8.],\n",
      "         [ 9., 10., 11.]]])\n",
      "Type:  torch.Size([2, 2, 3])\n",
      "\n",
      "\n",
      "Reshaped Tensor: \n",
      "tensor([[ 0.,  1.,  2.],\n",
      "        [ 3.,  4.,  5.],\n",
      "        [ 6.,  7.,  8.],\n",
      "        [ 9., 10., 11.]])\n",
      "torch.Size([4, 3])\n"
     ]
    }
   ],
   "source": [
    "# Original Tensor\n",
    "tensor = torch.FloatTensor(np.array([[[0, 1, 2], [3, 4, 5]], \n",
    "                                     [[6, 7, 8], [9, 10, 11]]]))\n",
    "print('Original Tensor: \\n', tensor)\n",
    "print('Type: ', tensor.shape)\n",
    "\n",
    "# Change to a 2-dimentional tensor\n",
    "print('\\n\\nReshaped Tensor: ')\n",
    "print(tensor.view([-1,   # '-1': it means '?' -> Tensor automatically decides dimension\n",
    "                    3]))  # '3': Fill with '3' in the second dimension\n",
    "print(tensor.view([-1, 3]).shape)"
   ]
  },
  {
   "cell_type": "markdown",
   "id": "ca4d7c6f",
   "metadata": {},
   "source": [
    "### Change Size with the Same Dimension"
   ]
  },
  {
   "cell_type": "code",
   "execution_count": 143,
   "id": "e102ae43",
   "metadata": {},
   "outputs": [
    {
     "name": "stdout",
     "output_type": "stream",
     "text": [
      "Original Tensor: \n",
      " tensor([[[ 0.,  1.,  2.],\n",
      "         [ 3.,  4.,  5.]],\n",
      "\n",
      "        [[ 6.,  7.,  8.],\n",
      "         [ 9., 10., 11.]]])\n",
      "Type:  torch.Size([2, 2, 3])\n",
      "\n",
      "\n",
      "Resized Tensor with the same Dimension: \n",
      "tensor([[[0., 1., 2.]]])\n",
      "torch.Size([1, 1, 3])\n"
     ]
    }
   ],
   "source": [
    "# Original Tensor\n",
    "tensor = torch.FloatTensor(np.array([[[0, 1, 2], [3, 4, 5]], \n",
    "                                     [[6, 7, 8], [9, 10, 11]]]))\n",
    "print('Original Tensor: \\n', tensor)\n",
    "print('Type: ', tensor.shape)\n",
    "\n",
    "\n",
    "# Resized Tensor with the same dimension\n",
    "print('\\n\\nResized Tensor with the same Dimension: ')\n",
    "print(tensor_float.view([-1, 1, 3]))\n",
    "print(tensor_float.view([-1, 1, 3]).shape)"
   ]
  },
  {
   "cell_type": "markdown",
   "id": "90f4e320",
   "metadata": {},
   "source": [
    "# 9. Squeeze"
   ]
  },
  {
   "cell_type": "markdown",
   "id": "f63edad1",
   "metadata": {},
   "source": [
    "- `squeeze()`\n",
    "  - Remove 1-dimension   \n",
    "     \n",
    "- `unsqueeze()`\n",
    "  - Add 1-dimension"
   ]
  },
  {
   "cell_type": "markdown",
   "id": "7bbaf8a6",
   "metadata": {},
   "source": [
    "### `squeeze()`"
   ]
  },
  {
   "cell_type": "code",
   "execution_count": 141,
   "id": "e6e26134",
   "metadata": {},
   "outputs": [
    {
     "name": "stdout",
     "output_type": "stream",
     "text": [
      "Original Tensor(2D): \n",
      "tensor([[0.],\n",
      "        [1.],\n",
      "        [2.]])\n",
      "torch.Size([3, 1])\n",
      "\n",
      "\n",
      "Dimension of size 1 Removed Tensor: \n",
      "tensor([0., 1., 2.])\n",
      "torch.Size([3])\n"
     ]
    }
   ],
   "source": [
    "# Generate a 2-dimensional tensor\n",
    "tensor = torch.FloatTensor([[0], [1], [2]])\n",
    "print('Original Tensor(2D): ')\n",
    "print(tensor)\n",
    "print(tensor.shape)\n",
    "\n",
    "# Remove 1-dimension: 2-D -> 1-D\n",
    "print('\\n\\nDimension of size 1 Removed Tensor: ')\n",
    "print(tensor.squeeze())\n",
    "print(tensor.squeeze().shape)"
   ]
  },
  {
   "cell_type": "markdown",
   "id": "aa45e805",
   "metadata": {},
   "source": [
    "### `unsqueeze()`"
   ]
  },
  {
   "cell_type": "code",
   "execution_count": 142,
   "id": "8660ddd9",
   "metadata": {},
   "outputs": [
    {
     "name": "stdout",
     "output_type": "stream",
     "text": [
      "Original Tensor(1D): \n",
      "tensor([0., 1., 2.])\n",
      "torch.Size([3])\n",
      "\n",
      "\n",
      "Dimension of size 1 Added Tensor: \n",
      "tensor([[0.],\n",
      "        [1.],\n",
      "        [2.]])\n",
      "torch.Size([3, 1])\n"
     ]
    }
   ],
   "source": [
    "# Generate a 1-dimensional vector\n",
    "tensor = torch.Tensor([0, 1, 2])\n",
    "print('Original Tensor(1D): ')\n",
    "print(tensor)\n",
    "print(tensor.shape)\n",
    "\n",
    "# Add one-dimension to the tensor\n",
    "print('\\n\\nDimension of size 1 Added Tensor: ')\n",
    "print(tensor.unsqueeze(1))  # Add one-dimension to the first dimension\n",
    "                            # '0': Index\n",
    "print(tensor.unsqueeze(1).shape)"
   ]
  },
  {
   "cell_type": "code",
   "execution_count": 95,
   "id": "b9ff6dd2",
   "metadata": {},
   "outputs": [
    {
     "name": "stdout",
     "output_type": "stream",
     "text": [
      "tensor([[0., 1., 2.]])\n",
      "torch.Size([1, 3])\n"
     ]
    }
   ],
   "source": [
    "# Add one-dimension by using 'view'\n",
    "print(tensor.view(1, -1))\n",
    "print(tensor.view(1, -1).shape)"
   ]
  },
  {
   "cell_type": "markdown",
   "id": "a585af7f",
   "metadata": {},
   "source": [
    "# 10. Debugging"
   ]
  },
  {
   "cell_type": "code",
   "execution_count": null,
   "id": "505679e7",
   "metadata": {},
   "outputs": [],
   "source": [
    "# P292\n",
    "dataset = CLASS_NAME(IMAGE_PATH, transform=None)\n",
    "for i in dataset:\n",
    "    pass          "
   ]
  }
 ],
 "metadata": {
  "kernelspec": {
   "display_name": "pytorch",
   "language": "python",
   "name": "pytorch"
  },
  "language_info": {
   "codemirror_mode": {
    "name": "ipython",
    "version": 3
   },
   "file_extension": ".py",
   "mimetype": "text/x-python",
   "name": "python",
   "nbconvert_exporter": "python",
   "pygments_lexer": "ipython3",
   "version": "3.8.16"
  }
 },
 "nbformat": 4,
 "nbformat_minor": 5
}
